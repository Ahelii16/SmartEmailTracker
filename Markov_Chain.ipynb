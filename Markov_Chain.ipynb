{
 "cells": [
  {
   "cell_type": "markdown",
   "metadata": {
    "colab_type": "text",
    "id": "Kp_4IbJlCCdn"
   },
   "source": [
    "## Markov Chain\n",
    "- Probabistic Model for Text/Natural Language Generation\n",
    "- Simple and effective way of generating new text\n",
    "    - Text\n",
    "    - Lyrics\n",
    "    - Story/Novel\n",
    "    - Code"
   ]
  },
  {
   "cell_type": "code",
   "execution_count": 2,
   "metadata": {
    "colab": {},
    "colab_type": "code",
    "id": "aCFw8NLSCCdv"
   },
   "outputs": [],
   "source": [
    "def generateTable(data,k):\n",
    "    #T: transition table\n",
    "    T = {}\n",
    "    for i in range(len(data)-k):\n",
    "        X = data[i:i+k]\n",
    "        Y = data[i+k]\n",
    "        \n",
    "        if T.get(X) is None:\n",
    "            T[X] = {} #dict\n",
    "            T[X][Y] = 1\n",
    "        else:\n",
    "            if T[X].get(Y) is None:\n",
    "                T[X][Y] = 1\n",
    "            else:\n",
    "                T[X][Y] += 1\n",
    "    \n",
    "    return T"
   ]
  },
  {
   "cell_type": "code",
   "execution_count": 4,
   "metadata": {
    "colab": {},
    "colab_type": "code",
    "id": "rkan9Bd8CCd2"
   },
   "outputs": [],
   "source": [
    "def convertFreqIntoProb(T):     \n",
    "    for kx in T.keys():\n",
    "        s = float(sum(T[kx].values()))\n",
    "        for k in T[kx].keys():\n",
    "            T[kx][k] = T[kx][k]/s\n",
    "                \n",
    "    return T"
   ]
  },
  {
   "cell_type": "code",
   "execution_count": 6,
   "metadata": {
    "colab": {},
    "colab_type": "code",
    "id": "-cpun6z5CCd8"
   },
   "outputs": [],
   "source": [
    "text_path = \"sample_text.txt\"\n",
    "def load_text(filename):\n",
    "    with open(filename,encoding='utf8') as f:\n",
    "        return f.read().lower()\n",
    "    \n",
    "text = load_text(text_path)"
   ]
  },
  {
   "cell_type": "code",
   "execution_count": 7,
   "metadata": {
    "colab": {},
    "colab_type": "code",
    "id": "gN2QSpKDCCeA",
    "outputId": "634ed527-f736-4e03-f69e-a8e9d8ef2082"
   },
   "outputs": [
    {
     "name": "stdout",
     "output_type": "stream",
     "text": [
      "greetings cho,\n",
      "please find attached details\n",
      "\n",
      "client name : hsbc\t\n",
      "account id: 103285\t\n",
      "legal entity: citibank hongkong\t\n",
      "currency: cad\t\n",
      "payment type: receive\t\n",
      "paid amount: 56327540\t\n",
      "payment date: 16-10-2019\t\n",
      "payment status: processing\t\n",
      "pending amount: 2564636\t\n",
      "\n",
      "thanks.\n",
      "hi tom,\n",
      "\n",
      "this is to inform you that bny mellon has fully paid 80517212 usd to account id 104276 on 15-01-2020. \n",
      "\n",
      "thanks.\n",
      "payment of 471862128 cad to account id 101165 has been made on 19/02/2020 and is in progress. please acknowledge. thanks.\n",
      "joe, \n",
      "\n",
      "please find attached details of failed payment and guide further. \n",
      "\n",
      "deutsche bank\t\n",
      "103838\t\n",
      "citibank singapore\t\n",
      "eur\t\n",
      "receive\t\n",
      "7325436\t\n",
      "16-01-2020\t\n",
      "rejected\t\n",
      "9934360\t\n",
      "\n",
      "thanks.\n",
      "hi tom,\n",
      "\n",
      "i would like to inform you that bny mellon partially paid 44866916 gbp to account id 101498 on 20-04-2020\n",
      "\n",
      "thanks.\n",
      "partial payment of 51065250 gbp to account id 100216 has been made on 17/09/2019 and pending amount will be paid later. \n",
      "regards\n",
      "ken adams\n",
      "partial payment of 51065250 gbp to account id \n"
     ]
    }
   ],
   "source": [
    "print(text[:1000])"
   ]
  },
  {
   "cell_type": "markdown",
   "metadata": {
    "colab_type": "text",
    "id": "u4YDvWUmCCeF"
   },
   "source": [
    "## Train our Markov Chain"
   ]
  },
  {
   "cell_type": "code",
   "execution_count": 8,
   "metadata": {
    "colab": {},
    "colab_type": "code",
    "id": "415_8Mq-CCeF"
   },
   "outputs": [],
   "source": [
    "def trainMarkovChain(text,k=4):\n",
    "    \n",
    "    T = generateTable(text,k)\n",
    "    T = convertFreqIntoProb(T)\n",
    "    \n",
    "    return T\n",
    "    "
   ]
  },
  {
   "cell_type": "code",
   "execution_count": 9,
   "metadata": {
    "colab": {},
    "colab_type": "code",
    "id": "FYSo2YvSCCeI"
   },
   "outputs": [],
   "source": [
    "model = trainMarkovChain(text, 5)"
   ]
  },
  {
   "cell_type": "code",
   "execution_count": 10,
   "metadata": {
    "colab": {},
    "colab_type": "code",
    "id": "hp950AvPCCeL",
    "outputId": "5f95e021-c62e-47e2-fda6-1532ab4f3693"
   },
   "outputs": [
    {
     "name": "stdout",
     "output_type": "stream",
     "text": [
      "{'gree': {'t': 1.0}, 'reet': {'i': 1.0}, 'eeti': {'n': 1.0}, 'etin': {'g': 1.0}, 'ting': {'s': 1.0}, 'ings': {' ': 1.0}, 'ngs ': {'c': 1.0}, 'gs c': {'h': 1.0}, 's ch': {'o': 1.0}, ' cho': {',': 1.0}, 'cho,': {'\\n': 1.0}, 'ho,\\n': {'p': 1.0}, 'o,\\np': {'l': 1.0}, ',\\npl': {'e': 1.0}, '\\nple': {'a': 1.0}, 'plea': {'s': 1.0}, 'leas': {'e': 1.0}, 'ease': {' ': 1.0}, 'ase ': {'f': 0.5, 'a': 0.25, 'g': 0.25}, 'se f': {'i': 1.0}, 'e fi': {'n': 1.0}, ' fin': {'d': 1.0}, 'find': {' ': 1.0}, 'ind ': {'a': 1.0}, 'nd a': {'t': 1.0}, 'd at': {'t': 1.0}, ' att': {'a': 1.0}, 'atta': {'c': 1.0}, 'ttac': {'h': 1.0}, 'tach': {'e': 1.0}, 'ache': {'d': 1.0}, 'ched': {' ': 1.0}, 'hed ': {'d': 1.0}, 'ed d': {'e': 1.0}, 'd de': {'t': 1.0}, ' det': {'a': 1.0}, 'deta': {'i': 1.0}, 'etai': {'l': 1.0}, 'tail': {'s': 1.0}, 'ails': {'\\n': 0.5, ' ': 0.5}, 'ils\\n': {'\\n': 1.0}, 'ls\\n\\n': {'c': 1.0}, 's\\n\\nc': {'l': 1.0}, '\\n\\ncl': {'i': 1.0}, '\\ncli': {'e': 1.0}, 'clie': {'n': 1.0}, 'lien': {'t': 1.0}, 'ient': {' ': 1.0}, 'ent ': {'n': 0.08333333333333333, 't': 0.08333333333333333, 'd': 0.08333333333333333, 's': 0.08333333333333333, 'o': 0.5833333333333334, 'a': 0.08333333333333333}, 'nt n': {'a': 1.0}, 't na': {'m': 1.0}, ' nam': {'e': 1.0}, 'name': {' ': 1.0}, 'ame ': {':': 1.0}, 'me :': {' ': 1.0}, 'e : ': {'h': 1.0}, ' : h': {'s': 1.0}, ': hs': {'b': 1.0}, ' hsb': {'c': 1.0}, 'hsbc': {'\\t': 1.0}, 'sbc\\t': {'\\n': 1.0}, 'bc\\t\\n': {'a': 1.0}, 'c\\t\\na': {'c': 1.0}, '\\t\\nac': {'c': 1.0}, '\\nacc': {'o': 1.0}, 'acco': {'u': 1.0}, 'ccou': {'n': 1.0}, 'coun': {'t': 1.0}, 'ount': {' ': 0.8571428571428571, ':': 0.14285714285714285}, 'unt ': {'i': 0.8333333333333334, 'w': 0.16666666666666666}, 'nt i': {'d': 1.0}, 't id': {':': 0.1, ' ': 0.9}, ' id:': {' ': 1.0}, 'id: ': {'1': 1.0}, 'd: 1': {'0': 1.0}, ': 10': {'3': 1.0}, ' 103': {'2': 1.0}, '1032': {'8': 1.0}, '0328': {'5': 1.0}, '3285': {'\\t': 1.0}, '285\\t': {'\\n': 1.0}, '85\\t\\n': {'l': 1.0}, '5\\t\\nl': {'e': 1.0}, '\\t\\nle': {'g': 1.0}, '\\nleg': {'a': 1.0}, 'lega': {'l': 1.0}, 'egal': {' ': 1.0}, 'gal ': {'e': 1.0}, 'al e': {'n': 1.0}, 'l en': {'t': 1.0}, ' ent': {'i': 1.0}, 'enti': {'t': 1.0}, 'ntit': {'y': 1.0}, 'tity': {':': 1.0}, 'ity:': {' ': 1.0}, 'ty: ': {'c': 1.0}, 'y: c': {'i': 0.5, 'a': 0.5}, ': ci': {'t': 1.0}, ' cit': {'i': 1.0}, 'citi': {'b': 1.0}, 'itib': {'a': 1.0}, 'tiba': {'n': 1.0}, 'iban': {'k': 1.0}, 'bank': {' ': 0.6666666666666666, '\\t': 0.3333333333333333}, 'ank ': {'h': 0.5, 's': 0.5}, 'nk h': {'o': 1.0}, 'k ho': {'n': 1.0}, ' hon': {'g': 1.0}, 'hong': {'k': 1.0}, 'ongk': {'o': 1.0}, 'ngko': {'n': 1.0}, 'gkon': {'g': 1.0}, 'kong': {'\\t': 1.0}, 'ong\\t': {'\\n': 1.0}, 'ng\\t\\n': {'c': 0.5, 'p': 0.5}, 'g\\t\\nc': {'u': 1.0}, '\\t\\ncu': {'r': 1.0}, '\\ncur': {'r': 1.0}, 'curr': {'e': 1.0}, 'urre': {'n': 1.0}, 'rren': {'c': 0.5, ' ': 0.5}, 'renc': {'y': 1.0}, 'ency': {':': 1.0}, 'ncy:': {' ': 1.0}, 'cy: ': {'c': 1.0}, ': ca': {'d': 1.0}, ' cad': {'\\t': 0.3333333333333333, ' ': 0.6666666666666666}, 'cad\\t': {'\\n': 1.0}, 'ad\\t\\n': {'p': 1.0}, 'd\\t\\np': {'a': 1.0}, '\\t\\npa': {'y': 0.75, 'i': 0.25}, '\\npay': {'m': 1.0}, 'paym': {'e': 1.0}, 'ayme': {'n': 1.0}, 'ymen': {'t': 1.0}, 'ment': {' ': 1.0}, 'nt t': {'y': 1.0}, 't ty': {'p': 1.0}, ' typ': {'e': 1.0}, 'type': {':': 1.0}, 'ype:': {' ': 1.0}, 'pe: ': {'r': 1.0}, 'e: r': {'e': 1.0}, ': re': {'c': 1.0}, ' rec': {'e': 1.0}, 'rece': {'i': 1.0}, 'ecei': {'v': 1.0}, 'ceiv': {'e': 1.0}, 'eive': {'\\t': 1.0}, 'ive\\t': {'\\n': 1.0}, 've\\t\\n': {'p': 0.5, '7': 0.5}, 'e\\t\\np': {'a': 1.0}, '\\npai': {'d': 1.0}, 'paid': {' ': 1.0}, 'aid ': {'a': 0.2, '8': 0.2, '4': 0.2, 'l': 0.4}, 'id a': {'m': 1.0}, 'd am': {'o': 1.0}, ' amo': {'u': 1.0}, 'amou': {'n': 1.0}, 'moun': {'t': 1.0}, 'unt:': {' ': 1.0}, 'nt: ': {'5': 0.5, '2': 0.5}, 't: 5': {'6': 1.0}, ': 56': {'3': 1.0}, ' 563': {'2': 1.0}, '5632': {'7': 1.0}, '6327': {'5': 1.0}, '3275': {'4': 1.0}, '2754': {'0': 1.0}, '7540': {'\\t': 1.0}, '540\\t': {'\\n': 1.0}, '40\\t\\n': {'p': 1.0}, '0\\t\\np': {'a': 1.0}, 'nt d': {'a': 1.0}, 't da': {'t': 1.0}, ' dat': {'e': 1.0}, 'date': {':': 0.3333333333333333, 'd': 0.6666666666666666}, 'ate:': {' ': 1.0}, 'te: ': {'1': 1.0}, 'e: 1': {'6': 1.0}, ': 16': {'-': 1.0}, ' 16-': {'1': 1.0}, '16-1': {'0': 1.0}, '6-10': {'-': 1.0}, '-10-': {'2': 1.0}, '10-2': {'0': 1.0}, '0-20': {'1': 1.0}, '-201': {'9': 1.0}, '2019': {'\\t': 0.25, ' ': 0.5, '.': 0.25}, '019\\t': {'\\n': 1.0}, '19\\t\\n': {'p': 1.0}, '9\\t\\np': {'a': 1.0}, 'nt s': {'t': 1.0}, 't st': {'a': 1.0}, ' sta': {'t': 1.0}, 'stat': {'u': 1.0}, 'tatu': {'s': 1.0}, 'atus': {':': 1.0}, 'tus:': {' ': 1.0}, 'us: ': {'p': 1.0}, 's: p': {'r': 1.0}, ': pr': {'o': 1.0}, ' pro': {'c': 0.3333333333333333, 'g': 0.6666666666666666}, 'proc': {'e': 1.0}, 'roce': {'s': 1.0}, 'oces': {'s': 1.0}, 'cess': {'i': 1.0}, 'essi': {'n': 1.0}, 'ssin': {'g': 1.0}, 'sing': {'\\t': 0.5, 'a': 0.5}, 'ing\\t': {'\\n': 1.0}, 'g\\t\\np': {'e': 1.0}, '\\t\\npe': {'n': 1.0}, '\\npen': {'d': 1.0}, 'pend': {'i': 1.0}, 'endi': {'n': 1.0}, 'ndin': {'g': 1.0}, 'ding': {' ': 1.0}, 'ing ': {'a': 1.0}, 'ng a': {'m': 1.0}, 'g am': {'o': 1.0}, 't: 2': {'5': 1.0}, ': 25': {'6': 1.0}, ' 256': {'4': 1.0}, '2564': {'6': 1.0}, '5646': {'3': 1.0}, '6463': {'6': 1.0}, '4636': {'\\t': 1.0}, '636\\t': {'\\n': 1.0}, '36\\t\\n': {'\\n': 0.5, '1': 0.5}, '6\\t\\n\\n': {'t': 1.0}, '\\t\\n\\nt': {'h': 1.0}, '\\n\\nth': {'a': 0.8, 'i': 0.2}, '\\ntha': {'n': 1.0}, 'than': {'k': 1.0}, 'hank': {'s': 1.0}, 'anks': {'.': 0.8333333333333334, ' ': 0.16666666666666666}, 'nks.': {'\\n': 1.0}, 'ks.\\n': {'h': 0.4, 'p': 0.4, 'j': 0.2}, 's.\\nh': {'i': 1.0}, '.\\nhi': {' ': 1.0}, '\\nhi ': {'t': 1.0}, 'hi t': {'o': 1.0}, 'i to': {'m': 1.0}, ' tom': {',': 1.0}, 'tom,': {'\\n': 1.0}, 'om,\\n': {'\\n': 1.0}, 'm,\\n\\n': {'t': 0.5, 'i': 0.5}, ',\\n\\nt': {'h': 1.0}, '\\nthi': {'s': 1.0}, 'this': {' ': 1.0}, 'his ': {'i': 1.0}, 'is i': {'s': 0.3333333333333333, 'n': 0.6666666666666666}, 's is': {' ': 1.0}, ' is ': {'t': 0.25, 'i': 0.5, 'c': 0.25}, 'is t': {'o': 1.0}, 's to': {' ': 1.0}, ' to ': {'i': 0.15384615384615385, 'a': 0.6923076923076923, 'b': 0.15384615384615385}, 'to i': {'n': 1.0}, 'o in': {'f': 1.0}, ' inf': {'o': 1.0}, 'info': {'r': 1.0}, 'nfor': {'m': 1.0}, 'form': {' ': 1.0}, 'orm ': {'y': 1.0}, 'rm y': {'o': 1.0}, 'm yo': {'u': 1.0}, ' you': {' ': 1.0}, 'you ': {'t': 1.0}, 'ou t': {'h': 1.0}, 'u th': {'a': 1.0}, ' tha': {'t': 0.8, 'n': 0.2}, 'that': {' ': 1.0}, 'hat ': {'b': 0.5, 'a': 0.5}, 'at b': {'n': 1.0}, 't bn': {'y': 1.0}, ' bny': {' ': 1.0}, 'bny ': {'m': 1.0}, 'ny m': {'e': 1.0}, 'y me': {'l': 1.0}, ' mel': {'l': 1.0}, 'mell': {'o': 1.0}, 'ello': {'n': 1.0}, 'llon': {' ': 1.0}, 'lon ': {'h': 0.5, 'p': 0.5}, 'on h': {'a': 1.0}, 'n ha': {'s': 1.0}, ' has': {' ': 1.0}, 'has ': {'f': 0.3333333333333333, 'b': 0.6666666666666666}, 'as f': {'u': 0.5, 'a': 0.5}, 's fu': {'l': 1.0}, ' ful': {'l': 1.0}, 'full': {'y': 0.5, ' ': 0.5}, 'ully': {' ': 1.0}, 'lly ': {'p': 1.0}, 'ly p': {'a': 1.0}, 'y pa': {'i': 1.0}, ' pai': {'d': 1.0}, 'id 8': {'0': 1.0}, 'd 80': {'5': 1.0}, ' 805': {'1': 1.0}, '8051': {'7': 1.0}, '0517': {'2': 1.0}, '5172': {'1': 1.0}, '1721': {'2': 1.0}, '7212': {' ': 1.0}, '212 ': {'u': 1.0}, '12 u': {'s': 1.0}, '2 us': {'d': 1.0}, ' usd': {' ': 1.0}, 'usd ': {'t': 1.0}, 'sd t': {'o': 1.0}, 'd to': {' ': 1.0}, 'to a': {'c': 1.0}, 'o ac': {'c': 1.0}, ' acc': {'o': 1.0}, ' id ': {'1': 1.0}, 'id 1': {'0': 1.0}, 'd 10': {'4': 0.1111111111111111, '1': 0.3333333333333333, '0': 0.3333333333333333, '7': 0.1111111111111111, '2': 0.1111111111111111}, ' 104': {'2': 1.0}, '1042': {'7': 1.0}, '0427': {'6': 1.0}, '4276': {' ': 1.0}, '276 ': {'o': 1.0}, '76 o': {'n': 1.0}, '6 on': {' ': 1.0}, ' on ': {'1': 0.6666666666666666, '2': 0.3333333333333333}, 'on 1': {'5': 0.16666666666666666, '9': 0.16666666666666666, '7': 0.3333333333333333, '1': 0.16666666666666666, '3': 0.16666666666666666}, 'n 15': {'-': 1.0}, ' 15-': {'0': 1.0}, '15-0': {'1': 1.0}, '5-01': {'-': 1.0}, '-01-': {'2': 1.0}, '01-2': {'0': 1.0}, '1-20': {'2': 1.0}, '-202': {'0': 1.0}, '2020': {'.': 0.5714285714285714, ' ': 0.14285714285714285, '\\t': 0.14285714285714285, '\\n': 0.14285714285714285}, '020.': {' ': 1.0}, '20. ': {'\\n': 1.0}, '0. \\n': {'\\n': 0.25, 'p': 0.25, 'k': 0.5}, '. \\n\\n': {'t': 0.5, 'd': 0.5}, ' \\n\\nt': {'h': 1.0}, 's.\\np': {'a': 1.0}, '.\\npa': {'y': 0.5, 'r': 0.5}, 'nt o': {'f': 1.0}, 't of': {' ': 1.0}, ' of ': {'4': 0.25, 'f': 0.125, '5': 0.375, '9': 0.125, '2': 0.125}, 'of 4': {'7': 0.5, '5': 0.5}, 'f 47': {'1': 1.0}, ' 471': {'8': 1.0}, '4718': {'6': 1.0}, '7186': {'2': 1.0}, '1862': {'1': 1.0}, '8621': {'2': 1.0}, '6212': {'8': 1.0}, '2128': {' ': 1.0}, '128 ': {'c': 1.0}, '28 c': {'a': 1.0}, '8 ca': {'d': 1.0}, 'cad ': {'t': 1.0}, 'ad t': {'o': 1.0}, ' 101': {'1': 0.3333333333333333, '4': 0.3333333333333333, '8': 0.3333333333333333}, '1011': {'6': 1.0}, '0116': {'5': 1.0}, '1165': {' ': 1.0}, '165 ': {'h': 1.0}, '65 h': {'a': 1.0}, '5 ha': {'s': 1.0}, 'as b': {'e': 1.0}, 's be': {'e': 1.0}, ' bee': {'n': 1.0}, 'been': {' ': 1.0}, 'een ': {'m': 0.75, 'r': 0.25}, 'en m': {'a': 1.0}, 'n ma': {'d': 1.0}, ' mad': {'e': 1.0}, 'made': {' ': 1.0}, 'ade ': {'o': 1.0}, 'de o': {'n': 1.0}, 'e on': {' ': 1.0}, 'n 19': {'/': 1.0}, ' 19/': {'0': 1.0}, '19/0': {'2': 1.0}, '9/02': {'/': 1.0}, '/02/': {'2': 1.0}, '02/2': {'0': 1.0}, '2/20': {'2': 1.0}, '/202': {'0': 1.0}, '020 ': {'a': 1.0}, '20 a': {'n': 1.0}, '0 an': {'d': 1.0}, ' and': {' ': 1.0}, 'and ': {'i': 0.2, 'g': 0.2, 'p': 0.4, 'r': 0.2}, 'nd i': {'s': 1.0}, 'd is': {' ': 1.0}, 's in': {' ': 1.0}, ' in ': {'p': 1.0}, 'in p': {'r': 1.0}, 'n pr': {'o': 1.0}, 'prog': {'r': 1.0}, 'rogr': {'e': 1.0}, 'ogre': {'s': 1.0}, 'gres': {'s': 1.0}, 'ress': {'.': 0.5, ' ': 0.5}, 'ess.': {' ': 1.0}, 'ss. ': {'p': 1.0}, 's. p': {'l': 1.0}, '. pl': {'e': 1.0}, ' ple': {'a': 1.0}, 'se a': {'c': 1.0}, 'e ac': {'k': 1.0}, ' ack': {'n': 1.0}, 'ackn': {'o': 1.0}, 'ckno': {'w': 1.0}, 'know': {'l': 1.0}, 'nowl': {'e': 1.0}, 'owle': {'d': 1.0}, 'wled': {'g': 1.0}, 'ledg': {'e': 1.0}, 'edge': {'.': 1.0}, 'dge.': {' ': 1.0}, 'ge. ': {'t': 0.3333333333333333, '\\n': 0.6666666666666666}, 'e. t': {'h': 1.0}, '. th': {'a': 1.0}, 's.\\nj': {'o': 1.0}, '.\\njo': {'e': 1.0}, '\\njoe': {',': 1.0}, 'joe,': {' ': 1.0}, 'oe, ': {'\\n': 1.0}, 'e, \\n': {'\\n': 1.0}, ', \\n\\n': {'p': 1.0}, ' \\n\\np': {'l': 1.0}, '\\n\\npl': {'e': 1.0}, 'ils ': {'o': 1.0}, 'ls o': {'f': 1.0}, 's of': {' ': 1.0}, 'of f': {'a': 1.0}, 'f fa': {'i': 1.0}, ' fai': {'l': 1.0}, 'fail': {'e': 1.0}, 'aile': {'d': 1.0}, 'iled': {' ': 1.0}, 'led ': {'p': 0.5, 'o': 0.5}, 'ed p': {'a': 1.0}, 'd pa': {'y': 1.0}, ' pay': {'m': 1.0}, 'nt a': {'n': 1.0}, 't an': {'d': 1.0}, 'nd g': {'u': 1.0}, 'd gu': {'i': 1.0}, ' gui': {'d': 1.0}, 'guid': {'e': 1.0}, 'uide': {' ': 1.0}, 'ide ': {'f': 0.5, 'm': 0.5}, 'de f': {'u': 1.0}, 'e fu': {'r': 1.0}, ' fur': {'t': 1.0}, 'furt': {'h': 1.0}, 'urth': {'e': 1.0}, 'rthe': {'r': 1.0}, 'ther': {'.': 0.3333333333333333, ' ': 0.6666666666666666}, 'her.': {' ': 1.0}, 'er. ': {'\\n': 1.0}, 'r. \\n': {'\\n': 0.3333333333333333, 'r': 0.6666666666666666}, ' \\n\\nd': {'e': 1.0}, '\\n\\nde': {'u': 1.0}, '\\ndeu': {'t': 1.0}, 'deut': {'s': 1.0}, 'euts': {'c': 1.0}, 'utsc': {'h': 1.0}, 'tsch': {'e': 1.0}, 'sche': {' ': 1.0}, 'che ': {'b': 1.0}, 'he b': {'a': 1.0}, 'e ba': {'n': 1.0}, ' ban': {'k': 1.0}, 'ank\\t': {'\\n': 1.0}, 'nk\\t\\n': {'1': 1.0}, 'k\\t\\n1': {'0': 1.0}, '\\t\\n10': {'3': 1.0}, '\\n103': {'8': 1.0}, '1038': {'3': 1.0}, '0383': {'8': 1.0}, '3838': {'\\t': 1.0}, '838\\t': {'\\n': 1.0}, '38\\t\\n': {'c': 1.0}, '8\\t\\nc': {'i': 1.0}, '\\t\\nci': {'t': 1.0}, '\\ncit': {'i': 1.0}, 'nk s': {'i': 1.0}, 'k si': {'n': 1.0}, ' sin': {'g': 1.0}, 'inga': {'p': 1.0}, 'ngap': {'o': 1.0}, 'gapo': {'r': 1.0}, 'apor': {'e': 1.0}, 'pore': {'\\t': 1.0}, 'ore\\t': {'\\n': 1.0}, 're\\t\\n': {'e': 1.0}, 'e\\t\\ne': {'u': 1.0}, '\\t\\neu': {'r': 1.0}, '\\neur': {'\\t': 1.0}, 'eur\\t': {'\\n': 1.0}, 'ur\\t\\n': {'r': 1.0}, 'r\\t\\nr': {'e': 1.0}, '\\t\\nre': {'c': 0.5, 'j': 0.5}, '\\nrec': {'e': 1.0}, 'e\\t\\n7': {'3': 1.0}, '\\t\\n73': {'2': 1.0}, '\\n732': {'5': 1.0}, '7325': {'4': 1.0}, '3254': {'3': 1.0}, '2543': {'6': 1.0}, '5436': {'\\t': 1.0}, '436\\t': {'\\n': 1.0}, '6\\t\\n1': {'6': 1.0}, '\\t\\n16': {'-': 1.0}, '\\n16-': {'0': 1.0}, '16-0': {'1': 1.0}, '6-01': {'-': 1.0}, '020\\t': {'\\n': 1.0}, '20\\t\\n': {'r': 1.0}, '0\\t\\nr': {'e': 1.0}, '\\nrej': {'e': 1.0}, 'reje': {'c': 1.0}, 'ejec': {'t': 1.0}, 'ject': {'e': 1.0}, 'ecte': {'d': 1.0}, 'cted': {'\\t': 0.5, ' ': 0.5}, 'ted\\t': {'\\n': 1.0}, 'ed\\t\\n': {'9': 1.0}, 'd\\t\\n9': {'9': 1.0}, '\\t\\n99': {'3': 1.0}, '\\n993': {'4': 1.0}, '9934': {'3': 1.0}, '9343': {'6': 1.0}, '3436': {'0': 1.0}, '4360': {'\\t': 1.0}, '360\\t': {'\\n': 1.0}, '60\\t\\n': {'\\n': 1.0}, '0\\t\\n\\n': {'t': 1.0}, ',\\n\\ni': {' ': 1.0}, '\\n\\ni ': {'w': 1.0}, '\\ni w': {'o': 1.0}, 'i wo': {'u': 1.0}, ' wou': {'l': 1.0}, 'woul': {'d': 1.0}, 'ould': {' ': 1.0}, 'uld ': {'l': 1.0}, 'ld l': {'i': 1.0}, 'd li': {'k': 1.0}, ' lik': {'e': 1.0}, 'like': {' ': 1.0}, 'ike ': {'t': 1.0}, 'ke t': {'o': 1.0}, 'e to': {' ': 1.0}, 'on p': {'a': 1.0}, 'n pa': {'r': 1.0}, ' par': {'t': 1.0}, 'part': {'i': 1.0}, 'arti': {'a': 1.0}, 'rtia': {'l': 1.0}, 'tial': {'l': 0.3333333333333333, ' ': 0.6666666666666666}, 'iall': {'y': 1.0}, 'ally': {' ': 1.0}, 'id 4': {'4': 1.0}, 'd 44': {'8': 1.0}, ' 448': {'6': 1.0}, '4486': {'6': 1.0}, '4866': {'9': 1.0}, '8669': {'1': 1.0}, '6691': {'6': 1.0}, '6916': {' ': 1.0}, '916 ': {'g': 1.0}, '16 g': {'b': 1.0}, '6 gb': {'p': 1.0}, ' gbp': {' ': 1.0}, 'gbp ': {'t': 1.0}, 'bp t': {'o': 1.0}, 'p to': {' ': 1.0}, '1014': {'9': 1.0}, '0149': {'8': 1.0}, '1498': {' ': 1.0}, '498 ': {'o': 1.0}, '98 o': {'n': 1.0}, '8 on': {' ': 1.0}, 'on 2': {'0': 0.3333333333333333, '7': 0.3333333333333333, '2': 0.3333333333333333}, 'n 20': {'-': 1.0}, ' 20-': {'0': 1.0}, '20-0': {'4': 1.0}, '0-04': {'-': 1.0}, '-04-': {'2': 1.0}, '04-2': {'0': 1.0}, '4-20': {'2': 1.0}, '020\\n': {'\\n': 1.0}, '20\\n\\n': {'t': 1.0}, '0\\n\\nt': {'h': 1.0}, '\\npar': {'t': 1.0}, 'ial ': {'p': 1.0}, 'al p': {'a': 1.0}, 'l pa': {'y': 1.0}, 'of 5': {'1': 0.6666666666666666, '9': 0.3333333333333333}, 'f 51': {'0': 1.0}, ' 510': {'6': 1.0}, '5106': {'5': 1.0}, '1065': {'2': 1.0}, '0652': {'5': 1.0}, '6525': {'0': 1.0}, '5250': {' ': 1.0}, '250 ': {'g': 1.0}, '50 g': {'b': 1.0}, '0 gb': {'p': 1.0}, ' 100': {'2': 0.6666666666666666, '5': 0.3333333333333333}, '1002': {'1': 1.0}, '0021': {'6': 1.0}, '0216': {' ': 1.0}, '216 ': {'h': 1.0}, '16 h': {'a': 1.0}, '6 ha': {'s': 1.0}, 'n 17': {'/': 1.0}, ' 17/': {'0': 1.0}, '17/0': {'9': 1.0}, '7/09': {'/': 1.0}, '/09/': {'2': 1.0}, '09/2': {'0': 1.0}, '9/20': {'1': 1.0}, '/201': {'9': 1.0}, '019 ': {'a': 1.0}, '19 a': {'n': 1.0}, '9 an': {'d': 1.0}, 'nd p': {'e': 1.0}, 'd pe': {'n': 1.0}, ' pen': {'d': 1.0}, 'nt w': {'i': 1.0}, 't wi': {'l': 1.0}, ' wil': {'l': 1.0}, 'will': {' ': 1.0}, 'ill ': {'b': 1.0}, 'll b': {'e': 1.0}, 'l be': {' ': 1.0}, ' be ': {'p': 0.5, 't': 0.5}, 'be p': {'a': 1.0}, 'e pa': {'i': 1.0}, 'id l': {'a': 1.0}, 'd la': {'t': 1.0}, ' lat': {'e': 1.0}, 'late': {'r': 1.0}, 'ater': {'.': 1.0}, 'ter.': {' ': 1.0}, '. \\nr': {'e': 1.0}, ' \\nre': {'g': 1.0}, '\\nreg': {'a': 1.0}, 'rega': {'r': 1.0}, 'egar': {'d': 1.0}, 'gard': {'s': 1.0}, 'ards': {'\\n': 0.6666666666666666, ',': 0.3333333333333333}, 'rds\\n': {'k': 0.5, 'm': 0.25, 'g': 0.25}, 'ds\\nk': {'e': 1.0}, 's\\nke': {'n': 1.0}, '\\nken': {' ': 1.0}, 'ken ': {'a': 1.0}, 'en a': {'d': 1.0}, 'n ad': {'a': 1.0}, ' ada': {'m': 1.0}, 'adam': {'s': 1.0}, 'dams': {'\\n': 1.0}, 'ams\\n': {'p': 1.0}, 'ms\\np': {'a': 1.0}, 's\\npa': {'r': 0.5, 'y': 0.5}, 'f 45': {'2': 1.0}, ' 452': {'1': 1.0}, '4521': {'8': 1.0}, '5218': {'0': 1.0}, '2180': {'2': 1.0}, '1802': {'1': 1.0}, '8021': {' ': 1.0}, '021 ': {'u': 1.0}, '21 u': {'s': 1.0}, '1 us': {'d': 1.0}, '1005': {'4': 1.0}, '0054': {'5': 1.0}, '0545': {' ': 1.0}, '545 ': {'h': 1.0}, '45 h': {'a': 1.0}, 'en r': {'e': 1.0}, 'n re': {'j': 1.0}, ' rej': {'e': 1.0}, 'ted ': {'o': 0.75, 'a': 0.25}, 'ed o': {'n': 1.0}, 'd on': {' ': 1.0}, 'n 27': {'/': 1.0}, ' 27/': {'0': 1.0}, '27/0': {'4': 1.0}, '7/04': {'/': 1.0}, '/04/': {'2': 1.0}, '04/2': {'0': 1.0}, '4/20': {'2': 1.0}, '. \\np': {'l': 1.0}, ' \\npl': {'e': 1.0}, 'se g': {'u': 1.0}, 'e gu': {'i': 1.0}, 'de m': {'e': 1.0}, 'e me': {' ': 1.0}, ' me ': {'t': 1.0}, 'me t': {'h': 1.0}, 'e th': {'r': 1.0}, ' thr': {'o': 1.0}, 'thro': {'u': 1.0}, 'hrou': {'g': 1.0}, 'roug': {'h': 1.0}, 'ough': {' ': 1.0}, 'ugh ': {'t': 1.0}, 'gh t': {'h': 1.0}, 'h th': {'e': 1.0}, ' the': {' ': 1.0}, 'the ': {'f': 1.0}, 'he f': {'u': 1.0}, 'her ': {'s': 0.5, 'a': 0.5}, 'er s': {'t': 1.0}, 'r st': {'e': 1.0}, ' ste': {'p': 1.0}, 'step': {'s': 1.0}, 'teps': {' ': 1.0}, 'eps ': {'t': 1.0}, 'ps t': {'h': 1.0}, 's th': {'a': 1.0}, 'at a': {'r': 1.0}, 't ar': {'e': 1.0}, ' are': {' ': 1.0}, 'are ': {'t': 1.0}, 're t': {'o': 1.0}, 'to b': {'e': 1.0}, 'o be': {' ': 1.0}, 'be t': {'a': 1.0}, 'e ta': {'k': 1.0}, ' tak': {'e': 1.0}, 'take': {'n': 1.0}, 'aken': {'.': 1.0}, 'ken.': {'\\n': 1.0}, 'en.\\n': {'r': 1.0}, 'n.\\nr': {'e': 1.0}, '.\\nre': {'g': 1.0}, 'ds\\nm': {'a': 1.0}, 's\\nma': {'r': 1.0}, '\\nmar': {'y': 1.0}, 'mary': {' ': 1.0}, 'ary ': {'a': 1.0}, 'ry a': {'n': 1.0}, 'y an': {'n': 1.0}, ' ann': {'e': 1.0}, 'anne': {'\\n': 1.0}, 'nne\\n': {'p': 1.0}, 'ne\\np': {'a': 1.0}, 'e\\npa': {'y': 1.0}, 'f 59': {'3': 1.0}, ' 593': {'6': 1.0}, '5936': {'9': 1.0}, '9369': {'4': 1.0}, '3694': {'5': 1.0}, '6945': {'1': 1.0}, '9451': {' ': 1.0}, '451 ': {'e': 1.0}, '51 e': {'u': 1.0}, '1 eu': {'r': 1.0}, ' eur': {' ': 1.0}, 'eur ': {'t': 1.0}, 'ur t': {'o': 1.0}, 'r to': {' ': 1.0}, ' 107': {'4': 1.0}, '1074': {'4': 1.0}, '0744': {'9': 1.0}, '7449': {' ': 1.0}, '449 ': {'h': 1.0}, '49 h': {'a': 1.0}, '9 ha': {'s': 1.0}, 's fa': {'i': 1.0}, 'n 22': {'/': 1.0}, ' 22/': {'0': 1.0}, '22/0': {'8': 1.0}, '2/08': {'/': 1.0}, '/08/': {'2': 1.0}, '08/2': {'0': 1.0}, '8/20': {'2': 1.0}, '. \\nk': {'i': 1.0}, ' \\nki': {'n': 1.0}, '\\nkin': {'d': 1.0}, 'kind': {'l': 1.0}, 'indl': {'y': 1.0}, 'ndly': {' ': 1.0}, 'dly ': {'r': 0.3333333333333333, 'a': 0.6666666666666666}, 'ly r': {'e': 1.0}, 'y re': {'p': 1.0}, ' rep': {'l': 1.0}, 'repl': {'y': 1.0}, 'eply': {' ': 1.0}, 'ply ': {'w': 1.0}, 'ly w': {'i': 1.0}, 'y wi': {'t': 1.0}, ' wit': {'h': 1.0}, 'with': {' ': 1.0}, 'ith ': {'t': 1.0}, 'th t': {'h': 1.0}, 'er a': {'c': 1.0}, 'r ac': {'t': 1.0}, ' act': {'i': 1.0}, 'acti': {'o': 1.0}, 'ctio': {'n': 1.0}, 'tion': {'s': 1.0}, 'ions': {' ': 1.0}, 'ons ': {'t': 1.0}, 'ns t': {'h': 1.0}, 'ds\\ng': {'e': 1.0}, 's\\nge': {'o': 1.0}, '\\ngeo': {'r': 1.0}, 'geor': {'g': 1.0}, 'eorg': {'e': 1.0}, 'orge': {' ': 1.0}, 'rge ': {'r': 1.0}, 'ge r': {'a': 1.0}, 'e ra': {'n': 1.0}, ' ran': {'d': 1.0}, 'rand': {'a': 1.0}, 'anda': {'l': 1.0}, 'ndal': {'l': 1.0}, 'dall': {'\\n': 1.0}, 'all\\n': {'p': 1.0}, 'll\\np': {'a': 1.0}, 'l\\npa': {'y': 1.0}, 'of 9': {'6': 1.0}, 'f 96': {'8': 1.0}, ' 968': {'2': 1.0}, '9682': {'6': 1.0}, '6826': {'2': 1.0}, '8262': {'9': 1.0}, '2629': {'0': 1.0}, '6290': {' ': 1.0}, '290 ': {'e': 1.0}, '90 e': {'u': 1.0}, '0 eu': {'r': 1.0}, '1018': {'7': 1.0}, '0187': {'7': 1.0}, '1877': {' ': 1.0}, '877 ': {'i': 1.0}, '77 i': {'s': 1.0}, '7 is': {' ': 1.0}, 'ess ': {'a': 1.0}, 'ss a': {'s': 1.0}, 's as': {' ': 1.0}, ' as ': {'d': 1.0}, 'as d': {'a': 1.0}, 's da': {'t': 1.0}, 'ated': {' ': 1.0}, 'n 11': {'/': 1.0}, ' 11/': {'0': 1.0}, '11/0': {'5': 1.0}, '1/05': {'/': 1.0}, '/05/': {'2': 1.0}, '05/2': {'0': 1.0}, '5/20': {'1': 1.0}, '019.': {' ': 1.0}, '19. ': {'\\n': 1.0}, '9. \\n': {'k': 1.0}, 'ly a': {'c': 1.0}, 'y ac': {'k': 1.0}, 'e. \\n': {'t': 0.5, 'r': 0.5}, '. \\nt': {'h': 1.0}, ' \\nth': {'a': 1.0}, 'nks ': {'a': 1.0}, 'ks a': {'n': 1.0}, 's an': {'d': 1.0}, 'nd r': {'e': 1.0}, 'd re': {'g': 1.0}, ' reg': {'a': 1.0}, 'rds,': {'\\n': 1.0}, 'ds,\\n': {'a': 0.5, 'w': 0.5}, 's,\\na': {'v': 1.0}, ',\\nav': {'a': 1.0}, '\\nava': {' ': 1.0}, 'ava ': {'m': 1.0}, 'va m': {'i': 1.0}, 'a mi': {'l': 1.0}, ' mil': {'l': 1.0}, 'mill': {'e': 1.0}, 'ille': {'r': 1.0}, 'ller': {'\\n': 1.0}, 'ler\\n': {'f': 1.0}, 'er\\nf': {'u': 1.0}, 'r\\nfu': {'l': 1.0}, '\\nful': {'l': 1.0}, 'ull ': {'p': 1.0}, 'll p': {'a': 1.0}, 'of 2': {'4': 1.0}, 'f 24': {'6': 1.0}, ' 246': {'8': 1.0}, '2468': {'5': 1.0}, '4685': {'4': 1.0}, '6854': {'6': 1.0}, '8546': {'9': 1.0}, '5469': {' ': 1.0}, '469 ': {'c': 1.0}, '69 c': {'a': 1.0}, '9 ca': {'d': 1.0}, ' 102': {'2': 1.0}, '1022': {'2': 1.0}, '0222': {'9': 1.0}, '2229': {' ': 1.0}, '229 ': {'i': 1.0}, '29 i': {'s': 1.0}, '9 is': {' ': 1.0}, 'is c': {'o': 1.0}, 's co': {'m': 1.0}, ' com': {'p': 1.0}, 'comp': {'l': 1.0}, 'ompl': {'e': 1.0}, 'mple': {'t': 1.0}, 'plet': {'e': 1.0}, 'lete': {'d': 1.0}, 'eted': {' ': 1.0}, 'ed a': {'s': 1.0}, 'd as': {' ': 1.0}, 'n 13': {'/': 1.0}, ' 13/': {'0': 1.0}, '13/0': {'3': 1.0}, '3/03': {'/': 1.0}, '/03/': {'2': 1.0}, '03/2': {'0': 1.0}, '3/20': {'2': 1.0}, 's,\\nw': {'a': 1.0}, ',\\nwa': {'r': 1.0}, '\\nwar': {'r': 1.0}, 'warr': {'e': 1.0}, 'arre': {'n': 1.0}, 'ren ': {'s': 1.0}, 'en s': {'c': 1.0}, 'n sc': {'o': 1.0}, ' sco': {'t': 1.0}, 'scot': {'t': 1.0}, 'cott': {'\\n': 1.0}}\n"
     ]
    }
   ],
   "source": [
    "print(model)"
   ]
  },
  {
   "cell_type": "markdown",
   "metadata": {
    "colab_type": "text",
    "id": "dRBFCoeDCCeQ"
   },
   "source": [
    "## Generate Text at Text Time!\n"
   ]
  },
  {
   "cell_type": "code",
   "execution_count": 11,
   "metadata": {
    "colab": {},
    "colab_type": "code",
    "id": "BsNTGkDACCeQ"
   },
   "outputs": [],
   "source": [
    "import numpy as np"
   ]
  },
  {
   "cell_type": "code",
   "execution_count": 12,
   "metadata": {
    "colab": {},
    "colab_type": "code",
    "id": "lBnL-PDpCCeU",
    "outputId": "56e5ed36-3a99-4c41-ab4d-77ac4588f3f6",
    "scrolled": true
   },
   "outputs": [
    {
     "name": "stdout",
     "output_type": "stream",
     "text": [
      "banana\n",
      "apple\n",
      "mango\n",
      "apple\n",
      "apple\n",
      "apple\n",
      "apple\n",
      "apple\n",
      "apple\n",
      "apple\n"
     ]
    }
   ],
   "source": [
    "# random sampling !\n",
    "fruits = [\"apple\",\"banana\",\"mango\"]\n",
    "prob = [\"0.8\",\".1\",\"0.1\"]\n",
    "for i in range(10):\n",
    "    #sampling according a probability distribution\n",
    "    print(np.random.choice(fruits,p=prob))  \n",
    "    #print(np.random.choice(fruits)) will give approx same prob distr of all fruits\n"
   ]
  },
  {
   "cell_type": "code",
   "execution_count": 13,
   "metadata": {
    "colab": {},
    "colab_type": "code",
    "id": "LBzgK31TCCeX"
   },
   "outputs": [],
   "source": [
    "def sample_next(ctx,T,k):  #ctx: past sequence\n",
    "    ctx = ctx[-k:]\n",
    "    if T.get(ctx) is None:\n",
    "        return \" \"\n",
    "    possible_Chars = list(T[ctx].keys())\n",
    "    possible_values = list(T[ctx].values())\n",
    "    \n",
    "    #print(possible_Chars)\n",
    "    #print(possible_values)\n",
    "    return np.random.choice(possible_Chars,p=possible_values)"
   ]
  },
  {
   "cell_type": "code",
   "execution_count": 29,
   "metadata": {
    "colab": {},
    "colab_type": "code",
    "id": "SgC_moNmCCed",
    "outputId": "eb6143ab-b4a4-4dea-8fbe-2d49068aa9dd"
   },
   "outputs": [
    {
     "data": {
      "text/plain": [
       "'t'"
      ]
     },
     "execution_count": 29,
     "metadata": {},
     "output_type": "execute_result"
    }
   ],
   "source": [
    "sample_next(\"gree\",model,4)"
   ]
  },
  {
   "cell_type": "code",
   "execution_count": 16,
   "metadata": {
    "colab": {},
    "colab_type": "code",
    "id": "iw71SusJCCef"
   },
   "outputs": [],
   "source": [
    "def generateText(starting_sent,k,maxLen=1000):\n",
    "    \n",
    "    sentence = starting_sent\n",
    "    ctx = starting_sent[-k:] #last k chars\n",
    "    \n",
    "    for ix in range(maxLen):\n",
    "        next_prediction = sample_next(ctx,model,k)\n",
    "        sentence += next_prediction\n",
    "        ctx = sentence[-k:]\n",
    "    return sentence"
   ]
  },
  {
   "cell_type": "code",
   "execution_count": 30,
   "metadata": {
    "colab": {},
    "colab_type": "code",
    "id": "IXmtQne-CCei",
    "outputId": "11770eff-5ffa-4025-a1d2-0ccc1114678b"
   },
   "outputs": [
    {
     "name": "stdout",
     "output_type": "stream",
     "text": [
      "greetings cho,\n",
      "please find attached details\n",
      "\n",
      "client of 96826290 eur to be taken.\n",
      "regards\n",
      "ken adams\n",
      "payment of 51065250 gbp to account will be paid later. \n",
      "\n",
      "deutsche bank\t\n",
      "103838\t\n",
      "citibank\t\n",
      "103838\t\n",
      "citibank hongkong\t\n",
      "pending amount id 100216 has been made on 17/09/2019\t\n",
      "payment dated on 20-04-2020. \n",
      "kindly reply with the further. \n",
      "regards\n",
      "mary anne\n",
      "payment of 96826290 eur to account: 56327540\t\n",
      "payment of 59369451 eur to account id 101877 is completed on 11/05/2019. \n",
      "kindly acknowledge. \n",
      "regards,\n",
      "ava miller\n",
      "fully paid later. \n",
      "regards\n",
      "ken adams\n",
      "payment of 51065250 gbp to inform you that are to be paid later. \n",
      "regards\n",
      "ken adams\n",
      "payment of 51065250 gbp to account id 101165 has been rejected on 20-04-2020. \n",
      "\n",
      "this in processing\t\n",
      "pending amount will be paid 44866916 gbp to inform you that bny mellon partial payment of 59369451 eur to account id: 103285\t\n",
      "legal entity: cad\t\n",
      "paid later. \n",
      "regards\n",
      "mary anne\n",
      "payment and pending amount id 107449 has fully paid 80517212 usd to account id 100216 has full payment of 51065250 gbp to account id 101498 on 17/09/2019. \n",
      "kindly acknowledge. thanks.\n",
      "partial payment type: receive\t\n",
      "payment type: receive\t\n",
      "payment of 45218021 usd to account id 100216 has been made on 27/04/2020 and pending amount id 101498 on 11/05/2019\t\n",
      "payment dated on 20-04-2020. \n",
      "kindly acknowledge. \n",
      "thanks.\n",
      "payment dated on 17/09/2019 and pending amount id: 103285\t\n",
      "legal entity: citibank hongkong\t\n",
      "pending amount id 104276 on 22/08/2020\n",
      "\n",
      "this in progress as dated on 15-01-2020 and pending amount id 100216 has fully paid amount will be paid 44866916 gbp to account: 56327540\t\n",
      "payment status: progress as dated on 22/08/2020. \n",
      "\n",
      "thanks.\n",
      "hi tom,\n",
      "\n",
      "this is completed on 17/09/2019 and pending amount id 100216 has been made on 20-04-2020. \n",
      "please find attached details of 471862128 cad to account id 100545 has failed on 19/02/2020. \n",
      "please acknowledge. \n",
      "thanks.\n",
      "hi tom,\n",
      "\n",
      "i would like to inform you that bny mellon has failed on 15-01-2020\t\n",
      "rejected on 17/09/2019 and pending amount id 100545\n"
     ]
    }
   ],
   "source": [
    "#np.random.seed(11)\n",
    "text = generateText(\"gree\",k=4,maxLen=20000)\n",
    "print(text)"
   ]
  },
  {
   "cell_type": "code",
   "execution_count": 31,
   "metadata": {},
   "outputs": [
    {
     "data": {
      "text/plain": [
       "2004"
      ]
     },
     "execution_count": 31,
     "metadata": {},
     "output_type": "execute_result"
    }
   ],
   "source": [
    "len(text)"
   ]
  },
  {
   "cell_type": "code",
   "execution_count": 32,
   "metadata": {
    "colab": {},
    "colab_type": "code",
    "id": "fcystpvMCCel"
   },
   "outputs": [],
   "source": [
    "with open(\"output.txt\",'a') as f:\n",
    "    s=text\n",
    "    f.write(s)"
   ]
  },
  {
   "cell_type": "markdown",
   "metadata": {
    "colab_type": "text",
    "id": "KUzOs4eiCCeq"
   },
   "source": [
    "![](modi.gif)"
   ]
  },
  {
   "cell_type": "code",
   "execution_count": null,
   "metadata": {},
   "outputs": [],
   "source": []
  }
 ],
 "metadata": {
  "colab": {
   "name": "Markov_Chain_Class.ipynb",
   "provenance": []
  },
  "kernelspec": {
   "display_name": "Python 3",
   "language": "python",
   "name": "python3"
  },
  "language_info": {
   "codemirror_mode": {
    "name": "ipython",
    "version": 3
   },
   "file_extension": ".py",
   "mimetype": "text/x-python",
   "name": "python",
   "nbconvert_exporter": "python",
   "pygments_lexer": "ipython3",
   "version": "3.7.6"
  }
 },
 "nbformat": 4,
 "nbformat_minor": 1
}
