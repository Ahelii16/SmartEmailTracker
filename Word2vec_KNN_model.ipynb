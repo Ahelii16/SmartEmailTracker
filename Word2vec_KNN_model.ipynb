{
  "nbformat": 4,
  "nbformat_minor": 0,
  "metadata": {
    "kernelspec": {
      "display_name": ".venv",
      "language": "python",
      "name": ".venv"
    },
    "language_info": {
      "codemirror_mode": {
        "name": "ipython",
        "version": 3
      },
      "file_extension": ".py",
      "mimetype": "text/x-python",
      "name": "python",
      "nbconvert_exporter": "python",
      "pygments_lexer": "ipython3",
      "version": "3.7.6"
    },
    "colab": {
      "name": "Word2vec_KNN_model.ipynb",
      "provenance": [],
      "collapsed_sections": []
    },
    "accelerator": "TPU"
  },
  "cells": [
    {
      "cell_type": "markdown",
      "metadata": {
        "id": "aRCS8lZB4w3o",
        "colab_type": "text"
      },
      "source": [
        "# Few-Shot Learning Email Classification with Pre-Trained Word2Vec Embeddings"
      ]
    },
    {
      "cell_type": "code",
      "metadata": {
        "id": "ZyqSa0W9MAth",
        "colab_type": "code",
        "colab": {}
      },
      "source": [
        "import pandas as pd\n",
        "import numpy as np\n",
        "from random import seed\n",
        "from random import sample\n",
        "\n",
        "seed(42)\n",
        "np.random.seed(42)\n",
        "\n",
        "from sklearn.model_selection import train_test_split\n",
        "import matplotlib.pyplot as plt\n",
        "import re\n",
        "import gensim.downloader as api\n",
        "from gensim.models.keyedvectors import Word2VecKeyedVectors\n",
        "\n",
        "from sklearn.decomposition import PCA\n",
        "from sklearn.metrics import accuracy_score\n",
        "from scipy import spatial\n",
        "\n",
        "# from nltk.corpus import stopwords\n",
        "import spacy\n",
        "import en_core_web_sm"
      ],
      "execution_count": null,
      "outputs": []
    },
    {
      "cell_type": "code",
      "metadata": {
        "id": "5vn8VEhgMAtm",
        "colab_type": "code",
        "colab": {
          "base_uri": "https://localhost:8080/",
          "height": 87
        },
        "outputId": "7baa3702-bf5f-43a9-ebec-5fb77396808c"
      },
      "source": [
        "model = api.load('word2vec-google-news-300')"
      ],
      "execution_count": null,
      "outputs": [
        {
          "output_type": "stream",
          "text": [
            "[==================================================] 100.0% 1662.8/1662.8MB downloaded\n"
          ],
          "name": "stdout"
        },
        {
          "output_type": "stream",
          "text": [
            "/usr/local/lib/python3.6/dist-packages/smart_open/smart_open_lib.py:253: UserWarning: This function is deprecated, use smart_open.open instead. See the migration notes for details: https://github.com/RaRe-Technologies/smart_open/blob/master/README.rst#migrating-to-the-new-open-function\n",
            "  'See the migration notes for details: %s' % _MIGRATION_NOTES_URL\n"
          ],
          "name": "stderr"
        }
      ]
    },
    {
      "cell_type": "code",
      "metadata": {
        "id": "Te79WnJnNpt5",
        "colab_type": "code",
        "colab": {
          "resources": {
            "http://localhost:8080/nbextensions/google.colab/files.js": {
              "data": "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",
              "ok": true,
              "headers": [
                [
                  "content-type",
                  "application/javascript"
                ]
              ],
              "status": 200,
              "status_text": ""
            }
          },
          "base_uri": "https://localhost:8080/",
          "height": 73
        },
        "outputId": "dcf855f3-f2a8-4ff9-f160-192c099a03eb"
      },
      "source": [
        "from google.colab import files\n",
        "uploaded = files.upload()"
      ],
      "execution_count": null,
      "outputs": [
        {
          "output_type": "display_data",
          "data": {
            "text/html": [
              "\n",
              "     <input type=\"file\" id=\"files-a94cd750-a514-47b8-a040-0fcbb71cef0e\" name=\"files[]\" multiple disabled\n",
              "        style=\"border:none\" />\n",
              "     <output id=\"result-a94cd750-a514-47b8-a040-0fcbb71cef0e\">\n",
              "      Upload widget is only available when the cell has been executed in the\n",
              "      current browser session. Please rerun this cell to enable.\n",
              "      </output>\n",
              "      <script src=\"/nbextensions/google.colab/files.js\"></script> "
            ],
            "text/plain": [
              "<IPython.core.display.HTML object>"
            ]
          },
          "metadata": {
            "tags": []
          }
        },
        {
          "output_type": "stream",
          "text": [
            "Saving emaildataset.csv to emaildataset.csv\n"
          ],
          "name": "stdout"
        }
      ]
    },
    {
      "cell_type": "code",
      "metadata": {
        "id": "Ww7cY-xAMAtq",
        "colab_type": "code",
        "colab": {
          "base_uri": "https://localhost:8080/",
          "height": 195
        },
        "outputId": "13c525e7-7a88-414f-88fb-66ea445815f2"
      },
      "source": [
        "df = pd.read_csv(\"./emaildataset.csv\", usecols = ['Subject','Body', 'Class'])\n",
        "df.head()"
      ],
      "execution_count": null,
      "outputs": [
        {
          "output_type": "execute_result",
          "data": {
            "text/html": [
              "<div>\n",
              "<style scoped>\n",
              "    .dataframe tbody tr th:only-of-type {\n",
              "        vertical-align: middle;\n",
              "    }\n",
              "\n",
              "    .dataframe tbody tr th {\n",
              "        vertical-align: top;\n",
              "    }\n",
              "\n",
              "    .dataframe thead th {\n",
              "        text-align: right;\n",
              "    }\n",
              "</style>\n",
              "<table border=\"1\" class=\"dataframe\">\n",
              "  <thead>\n",
              "    <tr style=\"text-align: right;\">\n",
              "      <th></th>\n",
              "      <th>Subject</th>\n",
              "      <th>Body</th>\n",
              "      <th>Class</th>\n",
              "    </tr>\n",
              "  </thead>\n",
              "  <tbody>\n",
              "    <tr>\n",
              "      <th>0</th>\n",
              "      <td>Transaction no. 072558 is unresolved.</td>\n",
              "      <td>Sorry to inform that there has been only a par...</td>\n",
              "      <td>Pending</td>\n",
              "    </tr>\n",
              "    <tr>\n",
              "      <th>1</th>\n",
              "      <td>Order for new Cheque book</td>\n",
              "      <td>Good morning, I want to place an order for an ...</td>\n",
              "      <td>General</td>\n",
              "    </tr>\n",
              "    <tr>\n",
              "      <th>2</th>\n",
              "      <td>Required money acquired. Transaction 847047 is...</td>\n",
              "      <td>Hello! This is to inform you that I have recei...</td>\n",
              "      <td>Processing</td>\n",
              "    </tr>\n",
              "    <tr>\n",
              "      <th>3</th>\n",
              "      <td>Asking for the details for transaction 746078</td>\n",
              "      <td>I request you to kindly send the status of my ...</td>\n",
              "      <td>Request</td>\n",
              "    </tr>\n",
              "    <tr>\n",
              "      <th>4</th>\n",
              "      <td>Partial payment for transaction 535918</td>\n",
              "      <td>Hello!! Greetings for the day. Status of trans...</td>\n",
              "      <td>Pending</td>\n",
              "    </tr>\n",
              "  </tbody>\n",
              "</table>\n",
              "</div>"
            ],
            "text/plain": [
              "                                             Subject  ...       Class\n",
              "0              Transaction no. 072558 is unresolved.  ...     Pending\n",
              "1                          Order for new Cheque book  ...     General\n",
              "2  Required money acquired. Transaction 847047 is...  ...  Processing\n",
              "3      Asking for the details for transaction 746078  ...     Request\n",
              "4             Partial payment for transaction 535918  ...     Pending\n",
              "\n",
              "[5 rows x 3 columns]"
            ]
          },
          "metadata": {
            "tags": []
          },
          "execution_count": 100
        }
      ]
    },
    {
      "cell_type": "code",
      "metadata": {
        "id": "MS26q2t8kN23",
        "colab_type": "code",
        "colab": {}
      },
      "source": [
        "nlp_ = en_core_web_sm.load()"
      ],
      "execution_count": null,
      "outputs": []
    },
    {
      "cell_type": "code",
      "metadata": {
        "id": "GGKMNx5SkOEl",
        "colab_type": "code",
        "colab": {}
      },
      "source": [
        "nlp = spacy.load('en')"
      ],
      "execution_count": null,
      "outputs": []
    },
    {
      "cell_type": "code",
      "metadata": {
        "id": "L_jS9wVPkuXK",
        "colab_type": "code",
        "colab": {}
      },
      "source": [
        "my_stop = [\"'d\", \"'ll\", \"'m\", \"'re\", \"'s\", \"'ve\",'a','cc','subject','http', 'gbp', 'usd', 'eur', 'inr', 'cad', 'thanks', \"acc\", \"id\", 'account', 'regards', 'hi', 'hello', 'thank you', 'greetings', 'about','above', 'across','after','afterwards','against','alone','along','already','also','although','am','among', 'amongst','amount','an','and','another','any','anyhow','anyone','anything','anyway','anywhere','are','around','as', 'at','be','became','because','become','becomes','becoming','been','before','beforehand','behind','being','below', 'beside','besides','between','both','bottom','but','by','ca','call','can','could','did', 'do', 'does', 'doing', 'down', 'due', 'during', 'each', 'eight', 'either', 'eleven', 'else', 'elsewhere', 'every', 'everyone', 'everything', 'everywhere', 'fifteen', 'fifty', 'first', 'five', 'for', 'former', 'formerly', 'forty', 'four', 'from', 'front', 'further', 'get', 'give', 'go', 'had', 'has', 'have', 'he', 'hence', 'her', 'here', 'hereafter', 'hereby', 'herein', 'hereupon', 'hers', 'herself', 'him', 'himself', 'his', 'how', 'however', 'hundred', 'i', 'if', 'in', 'indeed', 'into', 'is', 'it', 'its', 'itself', 'just', 'keep', 'last', 'latter', 'latterly', 'least', 'less', 'made', 'make', 'many', 'may', 'me', 'meanwhile', 'might', 'mine', 'more', 'moreover', 'mostly', 'move', 'much', 'must', 'my', 'myself', 'name', 'namely', 'neither', 'nevertheless', 'next', 'nine', 'no', 'nobody', 'now', 'nowhere', 'of', 'off', 'often', 'on', 'once', 'one', 'only', 'onto', 'or', 'other', 'others', 'otherwise', 'our', 'ours', 'ourselves', 'out', 'over', 'own', 'part', 'per', 'perhaps', 'please', 'put', 'quite', 'rather', 're', 'really', 'regarding', 'same', 'say', 'see', 'seem', 'seemed', 'seeming', 'seems', 'serious', 'several', 'she', 'should', 'show', 'side', 'since', 'six', 'sixty', 'so', 'some', 'somehow', 'someone', 'something', 'sometime', 'sometimes', 'somewhere', 'still', 'such', 'take', 'ten', 'than', 'that', 'the', 'their', 'them', 'themselves', 'then', 'thence', 'there', 'thereafter', 'thereby', 'therefore', 'therein', 'thereupon', 'these', 'they', 'third', 'this', 'those', 'though', 'three', 'through', 'throughout', 'thru', 'thus', 'to', 'together', 'too', 'top', 'toward', 'towards', 'twelve', 'twenty', 'two', 'under', 'unless', 'until', 'up', 'upon', 'us', 'used', 'using', 'various', 'very', 'via', 'was', 'we', 'well', 'were', 'whatever', 'whence', 'whenever', 'whereafter', 'whereas', 'whereby', 'wherein', 'whereupon', 'wherever', 'whether', 'which', 'while', 'whither', 'whoever', 'whole', 'whom', 'whose', 'will', 'with', 'within', 'would', 'yet', 'you', 'your', 'yours', 'yourself', 'yourselves', '‘d', '‘ll', '‘m', '‘re', '‘s', '‘ve', '’d', '’ll', '’m', '’re', '’s', '’ve']\n"
      ],
      "execution_count": null,
      "outputs": []
    },
    {
      "cell_type": "code",
      "metadata": {
        "id": "ToyHfo1oMAtv",
        "colab_type": "code",
        "colab": {}
      },
      "source": [
        "def get_only_chars(text):    \n",
        "    # text = text.replace(\"’\", \"\")\n",
        "    # text = text.replace(\"-\", \" \") #replace hyphens with spaces\n",
        "    # text = text.replace(\"\\t\", \" \")\n",
        "    # text = text.replace(\"\\n\", \" \")\n",
        "    # text = text.lower()\n",
        "    # # return clean_line\n",
        "\n",
        "    text=text.rstrip()\n",
        "    text = re.sub(r'[^a-zA-Z]', ' ', text)\n",
        "    text = \" \".join([i for i in text.lower().split()])\n",
        "    # print(text)\n",
        "    text = \" \".join(token for token in text.split() if token not in my_stop)\n",
        "\n",
        "    doc = nlp(text)\n",
        "    \n",
        "    normalized = \" \".join(token.lemma_ for token in doc)\n",
        "    \n",
        "    doc = \" \".join(token.orth_ for token in nlp(normalized) if not token.is_punct | token.is_space)\n",
        "    return doc"
      ],
      "execution_count": null,
      "outputs": []
    },
    {
      "cell_type": "code",
      "metadata": {
        "id": "L-ewz3NnMAtz",
        "colab_type": "code",
        "colab": {}
      },
      "source": [
        "# subj, body to text\n",
        "\n",
        "for i in range(df.shape[0]):\n",
        "    # merge subject and body strings\n",
        "    df['Text'] = (df['Subject'] + \" \" + df['Body'])"
      ],
      "execution_count": null,
      "outputs": []
    },
    {
      "cell_type": "code",
      "metadata": {
        "id": "T7vrpfOTlZAm",
        "colab_type": "code",
        "colab": {}
      },
      "source": [
        "def converter(x):\n",
        "    try:\n",
        "        return ' '.join([x.lower() for x in str(x).split()])\n",
        "    except AttributeError:\n",
        "        return None  # or some other value\n",
        "\n",
        "df['Text'] = df['Text'].apply(converter)"
      ],
      "execution_count": null,
      "outputs": []
    },
    {
      "cell_type": "code",
      "metadata": {
        "id": "QHCB4AnXlfgP",
        "colab_type": "code",
        "colab": {}
      },
      "source": [
        "text_clean=[]\n",
        "\n",
        "for i in range(df.shape[0]):\n",
        "    text_clean.append(get_only_chars(df.loc[i]['Text']))"
      ],
      "execution_count": null,
      "outputs": []
    },
    {
      "cell_type": "code",
      "metadata": {
        "id": "jWsuPQTaMAt3",
        "colab_type": "code",
        "colab": {}
      },
      "source": [
        "df['Text'] = df['Text'].apply(lambda x: get_only_chars(x))"
      ],
      "execution_count": null,
      "outputs": []
    },
    {
      "cell_type": "code",
      "metadata": {
        "id": "9IO-_ocgjAuQ",
        "colab_type": "code",
        "colab": {}
      },
      "source": [
        "# print(df.Text[0])"
      ],
      "execution_count": null,
      "outputs": []
    },
    {
      "cell_type": "code",
      "metadata": {
        "id": "E37z6_C0MAt7",
        "colab_type": "code",
        "colab": {}
      },
      "source": [
        ""
      ],
      "execution_count": null,
      "outputs": []
    },
    {
      "cell_type": "code",
      "metadata": {
        "id": "9EbusUWvMAuA",
        "colab_type": "code",
        "colab": {}
      },
      "source": [
        "df = df.drop_duplicates('Text')"
      ],
      "execution_count": null,
      "outputs": []
    },
    {
      "cell_type": "code",
      "metadata": {
        "id": "qyGor_mYMAuI",
        "colab_type": "code",
        "colab": {
          "base_uri": "https://localhost:8080/",
          "height": 195
        },
        "outputId": "7ec29a95-ed6f-4038-b533-656c4e2f88dd"
      },
      "source": [
        "df.head()"
      ],
      "execution_count": null,
      "outputs": [
        {
          "output_type": "execute_result",
          "data": {
            "text/html": [
              "<div>\n",
              "<style scoped>\n",
              "    .dataframe tbody tr th:only-of-type {\n",
              "        vertical-align: middle;\n",
              "    }\n",
              "\n",
              "    .dataframe tbody tr th {\n",
              "        vertical-align: top;\n",
              "    }\n",
              "\n",
              "    .dataframe thead th {\n",
              "        text-align: right;\n",
              "    }\n",
              "</style>\n",
              "<table border=\"1\" class=\"dataframe\">\n",
              "  <thead>\n",
              "    <tr style=\"text-align: right;\">\n",
              "      <th></th>\n",
              "      <th>Subject</th>\n",
              "      <th>Body</th>\n",
              "      <th>Class</th>\n",
              "      <th>Text</th>\n",
              "    </tr>\n",
              "  </thead>\n",
              "  <tbody>\n",
              "    <tr>\n",
              "      <th>0</th>\n",
              "      <td>Transaction no. 072558 is unresolved.</td>\n",
              "      <td>Sorry to inform that there has been only a par...</td>\n",
              "      <td>Pending</td>\n",
              "      <td>transaction unresolve sorry inform partial pay...</td>\n",
              "    </tr>\n",
              "    <tr>\n",
              "      <th>1</th>\n",
              "      <td>Order for new Cheque book</td>\n",
              "      <td>Good morning, I want to place an order for an ...</td>\n",
              "      <td>General</td>\n",
              "      <td>order new cheque book good morning want place ...</td>\n",
              "    </tr>\n",
              "    <tr>\n",
              "      <th>2</th>\n",
              "      <td>Required money acquired. Transaction 847047 is...</td>\n",
              "      <td>Hello! This is to inform you that I have recei...</td>\n",
              "      <td>Processing</td>\n",
              "      <td>require money acquire transaction process info...</td>\n",
              "    </tr>\n",
              "    <tr>\n",
              "      <th>3</th>\n",
              "      <td>Asking for the details for transaction 746078</td>\n",
              "      <td>I request you to kindly send the status of my ...</td>\n",
              "      <td>Request</td>\n",
              "      <td>ask detail transaction request kindly send sta...</td>\n",
              "    </tr>\n",
              "    <tr>\n",
              "      <th>4</th>\n",
              "      <td>Partial payment for transaction 535918</td>\n",
              "      <td>Hello!! Greetings for the day. Status of trans...</td>\n",
              "      <td>Pending</td>\n",
              "      <td>partial payment transaction day status transac...</td>\n",
              "    </tr>\n",
              "  </tbody>\n",
              "</table>\n",
              "</div>"
            ],
            "text/plain": [
              "                                             Subject  ...                                               Text\n",
              "0              Transaction no. 072558 is unresolved.  ...  transaction unresolve sorry inform partial pay...\n",
              "1                          Order for new Cheque book  ...  order new cheque book good morning want place ...\n",
              "2  Required money acquired. Transaction 847047 is...  ...  require money acquire transaction process info...\n",
              "3      Asking for the details for transaction 746078  ...  ask detail transaction request kindly send sta...\n",
              "4             Partial payment for transaction 535918  ...  partial payment transaction day status transac...\n",
              "\n",
              "[5 rows x 4 columns]"
            ]
          },
          "metadata": {
            "tags": []
          },
          "execution_count": 111
        }
      ]
    },
    {
      "cell_type": "code",
      "metadata": {
        "id": "g33n-rxSMAuL",
        "colab_type": "code",
        "colab": {}
      },
      "source": [
        "# set the by default to :\n",
        "\n",
        "num_classes = 5 # the number of classes we consider (since the dataset has many classes)\n",
        "sample_size = 5 # the number of labeled sampled we’ll require from the user"
      ],
      "execution_count": null,
      "outputs": []
    },
    {
      "cell_type": "code",
      "metadata": {
        "id": "08GXICCwMAuP",
        "colab_type": "code",
        "colab": {}
      },
      "source": [
        ""
      ],
      "execution_count": null,
      "outputs": []
    },
    {
      "cell_type": "code",
      "metadata": {
        "id": "uUQujqKaMAuT",
        "colab_type": "code",
        "colab": {}
      },
      "source": [
        "from sklearn.preprocessing import LabelEncoder \n",
        "\n",
        "le = LabelEncoder()\n",
        "# classes = df['Class'].values\n",
        "\n",
        "# classes = classes.reshape(-1, 1)\n",
        "# Y = le.fit_transform(classes)\n",
        "df['Class'] = le.fit_transform(df['Class'])"
      ],
      "execution_count": null,
      "outputs": []
    },
    {
      "cell_type": "code",
      "metadata": {
        "id": "TSvB_2IDMAuE",
        "colab_type": "code",
        "colab": {
          "base_uri": "https://localhost:8080/",
          "height": 195
        },
        "outputId": "fe23e3e3-a735-4109-8347-6c7c16144d23"
      },
      "source": [
        "df.head()\n",
        "# df.shape"
      ],
      "execution_count": null,
      "outputs": [
        {
          "output_type": "execute_result",
          "data": {
            "text/html": [
              "<div>\n",
              "<style scoped>\n",
              "    .dataframe tbody tr th:only-of-type {\n",
              "        vertical-align: middle;\n",
              "    }\n",
              "\n",
              "    .dataframe tbody tr th {\n",
              "        vertical-align: top;\n",
              "    }\n",
              "\n",
              "    .dataframe thead th {\n",
              "        text-align: right;\n",
              "    }\n",
              "</style>\n",
              "<table border=\"1\" class=\"dataframe\">\n",
              "  <thead>\n",
              "    <tr style=\"text-align: right;\">\n",
              "      <th></th>\n",
              "      <th>Subject</th>\n",
              "      <th>Body</th>\n",
              "      <th>Class</th>\n",
              "      <th>Text</th>\n",
              "    </tr>\n",
              "  </thead>\n",
              "  <tbody>\n",
              "    <tr>\n",
              "      <th>0</th>\n",
              "      <td>Transaction no. 072558 is unresolved.</td>\n",
              "      <td>Sorry to inform that there has been only a par...</td>\n",
              "      <td>3</td>\n",
              "      <td>transaction unresolve sorry inform partial pay...</td>\n",
              "    </tr>\n",
              "    <tr>\n",
              "      <th>1</th>\n",
              "      <td>Order for new Cheque book</td>\n",
              "      <td>Good morning, I want to place an order for an ...</td>\n",
              "      <td>2</td>\n",
              "      <td>order new cheque book good morning want place ...</td>\n",
              "    </tr>\n",
              "    <tr>\n",
              "      <th>2</th>\n",
              "      <td>Required money acquired. Transaction 847047 is...</td>\n",
              "      <td>Hello! This is to inform you that I have recei...</td>\n",
              "      <td>4</td>\n",
              "      <td>require money acquire transaction process info...</td>\n",
              "    </tr>\n",
              "    <tr>\n",
              "      <th>3</th>\n",
              "      <td>Asking for the details for transaction 746078</td>\n",
              "      <td>I request you to kindly send the status of my ...</td>\n",
              "      <td>5</td>\n",
              "      <td>ask detail transaction request kindly send sta...</td>\n",
              "    </tr>\n",
              "    <tr>\n",
              "      <th>4</th>\n",
              "      <td>Partial payment for transaction 535918</td>\n",
              "      <td>Hello!! Greetings for the day. Status of trans...</td>\n",
              "      <td>3</td>\n",
              "      <td>partial payment transaction day status transac...</td>\n",
              "    </tr>\n",
              "  </tbody>\n",
              "</table>\n",
              "</div>"
            ],
            "text/plain": [
              "                                             Subject  ...                                               Text\n",
              "0              Transaction no. 072558 is unresolved.  ...  transaction unresolve sorry inform partial pay...\n",
              "1                          Order for new Cheque book  ...  order new cheque book good morning want place ...\n",
              "2  Required money acquired. Transaction 847047 is...  ...  require money acquire transaction process info...\n",
              "3      Asking for the details for transaction 746078  ...  ask detail transaction request kindly send sta...\n",
              "4             Partial payment for transaction 535918  ...  partial payment transaction day status transac...\n",
              "\n",
              "[5 rows x 4 columns]"
            ]
          },
          "metadata": {
            "tags": []
          },
          "execution_count": 114
        }
      ]
    },
    {
      "cell_type": "code",
      "metadata": {
        "id": "JPl-ME_vMAuW",
        "colab_type": "code",
        "colab": {}
      },
      "source": [
        "df['Class'] = df['Class'].apply(lambda x : x + 1)"
      ],
      "execution_count": null,
      "outputs": []
    },
    {
      "cell_type": "code",
      "metadata": {
        "id": "vH0B3472irrc",
        "colab_type": "code",
        "colab": {}
      },
      "source": [
        ""
      ],
      "execution_count": null,
      "outputs": []
    },
    {
      "cell_type": "code",
      "metadata": {
        "id": "sR36GBuvMAua",
        "colab_type": "code",
        "colab": {}
      },
      "source": [
        "# Generate samples that contains K samples of each class\n",
        "\n",
        "def gen_sample(sample_size, num_classes):\n",
        "\n",
        "    df_1 = df[(df[\"Class\"] < num_classes+1)].reset_index().drop([\"index\"], axis=1).reset_index().drop([\"index\"], axis=1)\n",
        "    train = df_1[df_1[\"Class\"] == np.unique(df_1['Class'])[0]].sample(sample_size)\n",
        "\n",
        "    train_index = train.index.tolist()\n",
        "\n",
        "    for i in range(1,num_classes):\n",
        "        train_2 = df_1[df_1[\"Class\"] == np.unique(df_1['Class'])[i]].sample(sample_size)\n",
        "        train = pd.concat([train, train_2], axis=0)\n",
        "        train_index.extend(train_2.index.tolist())\n",
        "\n",
        "    test = df_1[~df_1.index.isin(train_index)]\n",
        "    # return test\n",
        "    return train, test"
      ],
      "execution_count": null,
      "outputs": []
    },
    {
      "cell_type": "code",
      "metadata": {
        "id": "zt6IKWVoM_YF",
        "colab_type": "code",
        "colab": {}
      },
      "source": [
        "# test = gen_sample(sample_size, num_classes)\n",
        "# test.head(30)"
      ],
      "execution_count": null,
      "outputs": []
    },
    {
      "cell_type": "code",
      "metadata": {
        "id": "ryXJEgOMMAue",
        "colab_type": "code",
        "colab": {}
      },
      "source": [
        ""
      ],
      "execution_count": null,
      "outputs": []
    },
    {
      "cell_type": "code",
      "metadata": {
        "id": "AZtRLFX1MAuj",
        "colab_type": "code",
        "colab": {}
      },
      "source": [
        "# Apply that to the dataframe :\n",
        "\n",
        "train, test = gen_sample(sample_size, num_classes)\n",
        "\n",
        "X_train = train['Text']\n",
        "y_train = train['Class'].values\n",
        "X_test = test['Text']\n",
        "y_test = test['Class'].values"
      ],
      "execution_count": null,
      "outputs": []
    },
    {
      "cell_type": "code",
      "metadata": {
        "id": "wveS-NMxMAum",
        "colab_type": "code",
        "colab": {
          "base_uri": "https://localhost:8080/",
          "height": 104
        },
        "outputId": "894a2dd4-b842-4ebc-a367-e8b38e462855"
      },
      "source": [
        "# train.head(20)\n",
        "print(train.values[2])"
      ],
      "execution_count": null,
      "outputs": [
        {
          "output_type": "stream",
          "text": [
            "['Received full payment for transaction no. 338874'\n",
            " 'Hey, I am writing in reference to the transaction 338874 . I was granted the aforementioned amount within the deadline. Sincere gratitude for such a quick response. Kind regards'\n",
            " 1\n",
            " 'receive full payment transaction hey write reference transaction grant aforementioned deadline sincere gratitude quick response kind']\n"
          ],
          "name": "stdout"
        }
      ]
    },
    {
      "cell_type": "code",
      "metadata": {
        "id": "LXLbIwirMAur",
        "colab_type": "code",
        "colab": {}
      },
      "source": [
        "# test.head(20)"
      ],
      "execution_count": null,
      "outputs": []
    },
    {
      "cell_type": "code",
      "metadata": {
        "id": "1xoTaBcVMAuu",
        "colab_type": "code",
        "colab": {}
      },
      "source": [
        "# print(X_train)"
      ],
      "execution_count": null,
      "outputs": []
    },
    {
      "cell_type": "code",
      "metadata": {
        "id": "l2wp8CuxMAux",
        "colab_type": "code",
        "colab": {}
      },
      "source": [
        ""
      ],
      "execution_count": null,
      "outputs": []
    },
    {
      "cell_type": "code",
      "metadata": {
        "id": "mRBrK3YZMAu1",
        "colab_type": "code",
        "colab": {
          "base_uri": "https://localhost:8080/",
          "height": 34
        },
        "outputId": "db636e7f-f896-414e-a7e1-47564223049c"
      },
      "source": [
        "print(X_train.shape)"
      ],
      "execution_count": null,
      "outputs": [
        {
          "output_type": "stream",
          "text": [
            "(25,)\n"
          ],
          "name": "stdout"
        }
      ]
    },
    {
      "cell_type": "code",
      "metadata": {
        "id": "5MvyMTgbMAu4",
        "colab_type": "code",
        "colab": {}
      },
      "source": [
        ""
      ],
      "execution_count": null,
      "outputs": []
    },
    {
      "cell_type": "code",
      "metadata": {
        "id": "es3wgR_pMAu7",
        "colab_type": "code",
        "colab": {}
      },
      "source": [
        "# Text processing (split, find token id, get embedidng)\n",
        "def transform_sentence(text, model):\n",
        "\n",
        "    \"\"\"\n",
        "    Mean embedding vector\n",
        "    \"\"\"\n",
        "\n",
        "    def preprocess_text(raw_text, model=model):\n",
        "\n",
        "        \"\"\" \n",
        "        Excluding unknown words and get corresponding token\n",
        "        \"\"\"\n",
        "\n",
        "        raw_text = raw_text.split()\n",
        "\n",
        "        return list(filter(lambda x: x in model.vocab, raw_text))\n",
        "\n",
        "    tokens = preprocess_text(text)\n",
        "\n",
        "    if not tokens:\n",
        "        return np.zeros(model.vector_size)\n",
        "\n",
        "    text_vector = np.mean(model[tokens], axis=0)\n",
        "\n",
        "    return np.array(text_vector)"
      ],
      "execution_count": null,
      "outputs": []
    },
    {
      "cell_type": "code",
      "metadata": {
        "id": "2kyzk9z-MAu_",
        "colab_type": "code",
        "colab": {}
      },
      "source": [
        ""
      ],
      "execution_count": null,
      "outputs": []
    },
    {
      "cell_type": "code",
      "metadata": {
        "id": "tisxdQ1FMAvC",
        "colab_type": "code",
        "colab": {}
      },
      "source": [
        "# Apply this to both the train and the test :\n",
        "\n",
        "X_train_mean = X_train.apply(lambda x : transform_sentence(x, model))\n",
        "X_test_mean = X_test.apply(lambda x : transform_sentence(x, model))\n",
        "\n",
        "X_train_mean = pd.DataFrame(X_train_mean)['Text'].apply(pd.Series)\n",
        "X_test_mean = pd.DataFrame(X_test_mean)['Text'].apply(pd.Series)"
      ],
      "execution_count": null,
      "outputs": []
    },
    {
      "cell_type": "code",
      "metadata": {
        "id": "9oxk8Hz5MAvG",
        "colab_type": "code",
        "colab": {
          "base_uri": "https://localhost:8080/",
          "height": 34
        },
        "outputId": "3cb82e86-7f2a-4c79-c706-7222bf9a49bc"
      },
      "source": [
        "type(X_train_mean)"
      ],
      "execution_count": null,
      "outputs": [
        {
          "output_type": "execute_result",
          "data": {
            "text/plain": [
              "pandas.core.frame.DataFrame"
            ]
          },
          "metadata": {
            "tags": []
          },
          "execution_count": 127
        }
      ]
    },
    {
      "cell_type": "code",
      "metadata": {
        "id": "ZjDXuv9wqDoa",
        "colab_type": "code",
        "colab": {}
      },
      "source": [
        ""
      ],
      "execution_count": null,
      "outputs": []
    },
    {
      "cell_type": "code",
      "metadata": {
        "id": "BCur_dv5MAvK",
        "colab_type": "code",
        "colab": {}
      },
      "source": [
        "# Use cosine similarity to find closest class\n",
        "\n",
        "def classify_txt(txt, mean_embedding):\n",
        "\n",
        "    best_dist = 1\n",
        "    best_label = -1\n",
        "\n",
        "    for cl in range(num_classes):\n",
        "\n",
        "        dist = spatial.distance.cosine(transform_sentence(txt, model), mean_embedding[cl])\n",
        "\n",
        "        if dist < best_dist :\n",
        "            best_dist = dist\n",
        "            best_label = cl + 1 # not cl?\n",
        "\n",
        "    return best_label"
      ],
      "execution_count": null,
      "outputs": []
    },
    {
      "cell_type": "code",
      "metadata": {
        "id": "7PMNzP-nMAvM",
        "colab_type": "code",
        "colab": {}
      },
      "source": [
        ""
      ],
      "execution_count": null,
      "outputs": []
    },
    {
      "cell_type": "code",
      "metadata": {
        "id": "TWRWxoUbMAvP",
        "colab_type": "code",
        "colab": {}
      },
      "source": [
        "# Process text and predict on the test set\n",
        "\n",
        "def return_score(sample_size, num_classes):\n",
        "\n",
        "    train, test = gen_sample(sample_size, num_classes)\n",
        "\n",
        "    X_train = train['Text']\n",
        "    y_train = train['Class'].values\n",
        "    X_test = test['Text']\n",
        "    y_test = test['Class'].values\n",
        "\n",
        "    X_train_mean = X_train.apply(lambda x : transform_sentence(x, model))\n",
        "    X_test_mean = X_test.apply(lambda x : transform_sentence(x, model))\n",
        "\n",
        "    X_train_mean = pd.DataFrame(X_train_mean)['Text'].apply(pd.Series)\n",
        "    X_test_mean = pd.DataFrame(X_test_mean)['Text'].apply(pd.Series)\n",
        "\n",
        "    mean_embedding = {}\n",
        "    for cl in range(num_classes):\n",
        "        mean_embedding[cl] = np.mean((X_train_mean[y_train == cl + 1]), axis=0)\n",
        "\n",
        "    y_pred = [classify_txt(t, mean_embedding) for t in test['Text'].values]\n",
        "\n",
        "    return accuracy_score(y_pred, y_test)"
      ],
      "execution_count": null,
      "outputs": []
    },
    {
      "cell_type": "code",
      "metadata": {
        "id": "ZJRo_CKkMAvS",
        "colab_type": "code",
        "colab": {}
      },
      "source": [
        ""
      ],
      "execution_count": null,
      "outputs": []
    },
    {
      "cell_type": "code",
      "metadata": {
        "id": "OeJeTC6FMAvW",
        "colab_type": "code",
        "colab": {}
      },
      "source": [
        "# Now, we will iterate on the number of classes (between 2 and 7) and the number of samples (between 1 and 30). \n",
        "# We will consider that labeling more than 30 training examples per class is too long.\n",
        "\n",
        "# all_accuracy = {2:[],3:[],4:[],5:[],6:[],7:[]}\n",
        "all_accuracy = {5:[],6:[],7:[]}\n",
        "\n",
        "for num_samples in range(1,30):\n",
        "    for num_cl in range(5, 7):\n",
        "        all_accuracy[num_cl].append(return_score(num_samples,num_cl))"
      ],
      "execution_count": null,
      "outputs": []
    },
    {
      "cell_type": "code",
      "metadata": {
        "id": "xTB3Jej3MAvZ",
        "colab_type": "code",
        "colab": {}
      },
      "source": [
        ""
      ],
      "execution_count": null,
      "outputs": []
    },
    {
      "cell_type": "code",
      "metadata": {
        "id": "xal4ZaucMAvb",
        "colab_type": "code",
        "colab": {
          "base_uri": "https://localhost:8080/",
          "height": 499
        },
        "outputId": "3ab98ba2-556d-4609-98be-181b1d5394e2"
      },
      "source": [
        "# plotting accuracy for each no. of class, depending on the number of train examples :\n",
        "\n",
        "plt.figure(figsize=(12,8))\n",
        "# plt.plot(all_accuracy[2], label=\"2 classes\")\n",
        "# plt.plot(all_accuracy[3], label=\"3 classes\")\n",
        "# plt.plot(all_accuracy[4], label=\"4 classes\")\n",
        "plt.plot(all_accuracy[5], label=\"5 classes\")\n",
        "plt.plot(all_accuracy[6], label=\"6 classes\")\n",
        "plt.axvline(7, c='black', alpha=0.5)\n",
        "plt.title(\"Accuracy depending on the number of samples and classes\")\n",
        "plt.legend()\n",
        "plt.show()"
      ],
      "execution_count": null,
      "outputs": [
        {
          "output_type": "display_data",
          "data": {
            "image/png": "[encoded data removed]",
            "text/plain": [
              "<Figure size 864x576 with 1 Axes>"
            ]
          },
          "metadata": {
            "tags": [],
            "needs_background": "light"
          }
        }
      ]
    },
    {
      "cell_type": "code",
      "metadata": {
        "id": "SIlAx8RUMAve",
        "colab_type": "code",
        "colab": {}
      },
      "source": [
        ""
      ],
      "execution_count": null,
      "outputs": []
    },
    {
      "cell_type": "markdown",
      "metadata": {
        "id": "77gBGCTLlJwa",
        "colab_type": "text"
      },
      "source": [
        "## Pre-trained Word2Vec and ML algorithms"
      ]
    },
    {
      "cell_type": "code",
      "metadata": {
        "id": "AfjwlGRjMAvk",
        "colab_type": "code",
        "colab": {}
      },
      "source": [
        "from sklearn.neighbors import KNeighborsClassifier\n",
        "from sklearn.neighbors import RadiusNeighborsClassifier\n",
        "from sklearn.ensemble import RandomForestClassifier\n",
        "from sklearn.svm import LinearSVC\n",
        "from sklearn import svm, tree\n",
        "from sklearn.naive_bayes import MultinomialNB\n",
        "import xgboost\n",
        "from sklearn.model_selection import cross_val_score"
      ],
      "execution_count": null,
      "outputs": []
    },
    {
      "cell_type": "code",
      "metadata": {
        "id": "q-8PPs1vO8sp",
        "colab_type": "code",
        "colab": {}
      },
      "source": [
        "# def intermediate(sample_size, num_classes):\n",
        "#   train, test = gen_sample(sample_size, num_classes)\n",
        "\n",
        "#     X_train = train['Text']\n",
        "#     y_train = train['Class'].values\n",
        "#     X_test = test['Text']\n",
        "#     y_test = test['Class'].values\n",
        "\n",
        "#     X_train_mean = X_train.apply(lambda x : transform_sentence(x, model))\n",
        "#     X_test_mean = X_test.apply(lambda x : transform_sentence(x, model))\n",
        "\n",
        "#     X_train_mean = pd.DataFrame(X_train_mean)['Text'].apply(pd.Series)\n",
        "#     X_test_mean = pd.DataFrame(X_test_mean)['Text'].apply(pd.Series)\n",
        "\n",
        "#     return X_train_mean, X_test_mean, y_train, y_test"
      ],
      "execution_count": null,
      "outputs": []
    },
    {
      "cell_type": "code",
      "metadata": {
        "id": "OR2ujlXmPX9z",
        "colab_type": "code",
        "colab": {}
      },
      "source": [
        "# X_train_mean, X_test_mean, y_train, y_test = intermediate(sample_size, num_classes)"
      ],
      "execution_count": null,
      "outputs": []
    },
    {
      "cell_type": "code",
      "metadata": {
        "id": "SScSGSJ-NCl1",
        "colab_type": "code",
        "colab": {}
      },
      "source": [
        "def return_score_knn(sample_size, num_classes):\n",
        "\n",
        "    train, test = gen_sample(sample_size, num_classes)\n",
        "\n",
        "    X_train = train['Text']\n",
        "    y_train = train['Class'].values\n",
        "    X_test = test['Text']\n",
        "    y_test = test['Class'].values\n",
        "\n",
        "    X_train_mean = X_train.apply(lambda x : transform_sentence(x, model))\n",
        "    X_test_mean = X_test.apply(lambda x : transform_sentence(x, model))\n",
        "\n",
        "    X_train_mean = pd.DataFrame(X_train_mean)['Text'].apply(pd.Series)\n",
        "    X_test_mean = pd.DataFrame(X_test_mean)['Text'].apply(pd.Series)\n",
        "\n",
        "    # K nearest neighbours algorithm (lazy learner)\n",
        "    clf = KNeighborsClassifier(n_neighbors=sample_size, p=2) # euclidean distance\n",
        "    clf.fit(X_train_mean, y_train)\n",
        "\n",
        "    y_pred = clf.predict(X_test_mean)\n",
        "\n",
        "    return accuracy_score(y_pred, y_test)"
      ],
      "execution_count": null,
      "outputs": []
    },
    {
      "cell_type": "code",
      "metadata": {
        "id": "Y4Ux3cnkNCrg",
        "colab_type": "code",
        "colab": {}
      },
      "source": [
        "def return_score_radius(sample_size, num_classes):\n",
        "\n",
        "    train, test = gen_sample(sample_size, num_classes)\n",
        "\n",
        "    X_train = train['Text']\n",
        "    y_train = train['Class'].values\n",
        "    X_test = test['Text']\n",
        "    y_test = test['Class'].values\n",
        "\n",
        "    X_train_mean = X_train.apply(lambda x : transform_sentence(x, model))\n",
        "    X_test_mean = X_test.apply(lambda x : transform_sentence(x, model))\n",
        "\n",
        "    X_train_mean = pd.DataFrame(X_train_mean)['Text'].apply(pd.Series)\n",
        "    X_test_mean = pd.DataFrame(X_test_mean)['Text'].apply(pd.Series)\n",
        "\n",
        "    # Radius neighbours\n",
        "    clf2 = RadiusNeighborsClassifier(radius=1.0, outlier_label='most_frequent')\n",
        "    clf2.fit(X_train_mean, y_train)\n",
        "\n",
        "    y_pred = clf2.predict(X_test_mean)\n",
        "\n",
        "    return accuracy_score(y_pred, y_test)"
      ],
      "execution_count": null,
      "outputs": []
    },
    {
      "cell_type": "code",
      "metadata": {
        "id": "jc5QuUM7Pv4J",
        "colab_type": "code",
        "colab": {}
      },
      "source": [
        "# def return_score_nb(sample_size, num_classes):\n",
        "\n",
        "#     train, test = gen_sample(sample_size, num_classes)\n",
        "\n",
        "#     X_train = train['Text']\n",
        "#     y_train = train['Class'].values\n",
        "#     X_test = test['Text']\n",
        "#     y_test = test['Class'].values\n",
        "\n",
        "#     X_train_mean = X_train.apply(lambda x : transform_sentence(x, model))\n",
        "#     X_test_mean = X_test.apply(lambda x : transform_sentence(x, model))\n",
        "\n",
        "#     X_train_mean = pd.DataFrame(X_train_mean)['Text'].apply(pd.Series)\n",
        "#     X_test_mean = pd.DataFrame(X_test_mean)['Text'].apply(pd.Series)\n",
        "\n",
        "#     # Naive Bayes (eager learner)\n",
        "#     clf = MultinomialNB()\n",
        "#     clf.fit(X_train_mean, y_train)\n",
        "\n",
        "#     y_pred = clf.predict(X_test_mean)\n",
        "\n",
        "#     return accuracy_score(y_pred, y_test)"
      ],
      "execution_count": null,
      "outputs": []
    },
    {
      "cell_type": "code",
      "metadata": {
        "id": "iWZ_S-K3Pv1U",
        "colab_type": "code",
        "colab": {}
      },
      "source": [
        "def return_score_svc(sample_size, num_classes):\n",
        "\n",
        "    train, test = gen_sample(sample_size, num_classes)\n",
        "\n",
        "    X_train = train['Text']\n",
        "    y_train = train['Class'].values\n",
        "    X_test = test['Text']\n",
        "    y_test = test['Class'].values\n",
        "\n",
        "    X_train_mean = X_train.apply(lambda x : transform_sentence(x, model))\n",
        "    X_test_mean = X_test.apply(lambda x : transform_sentence(x, model))\n",
        "\n",
        "    X_train_mean = pd.DataFrame(X_train_mean)['Text'].apply(pd.Series)\n",
        "    X_test_mean = pd.DataFrame(X_test_mean)['Text'].apply(pd.Series)\n",
        "\n",
        "    # SVC\n",
        "    clf = svm.SVC()\n",
        "    clf.fit(X_train_mean, y_train)\n",
        "\n",
        "    y_pred = clf.predict(X_test_mean)\n",
        "\n",
        "    return accuracy_score(y_pred, y_test)"
      ],
      "execution_count": null,
      "outputs": []
    },
    {
      "cell_type": "code",
      "metadata": {
        "id": "l89aN4eyPvyB",
        "colab_type": "code",
        "colab": {}
      },
      "source": [
        "def return_score_rf(sample_size, num_classes):\n",
        "\n",
        "    train, test = gen_sample(sample_size, num_classes)\n",
        "\n",
        "    X_train = train['Text']\n",
        "    y_train = train['Class'].values\n",
        "    X_test = test['Text']\n",
        "    y_test = test['Class'].values\n",
        "\n",
        "    X_train_mean = X_train.apply(lambda x : transform_sentence(x, model))\n",
        "    X_test_mean = X_test.apply(lambda x : transform_sentence(x, model))\n",
        "\n",
        "    X_train_mean = pd.DataFrame(X_train_mean)['Text'].apply(pd.Series)\n",
        "    X_test_mean = pd.DataFrame(X_test_mean)['Text'].apply(pd.Series)\n",
        "\n",
        "    # Random forest classifier\n",
        "    clf = RandomForestClassifier(n_estimators=200, max_depth=3, random_state=0)\n",
        "    clf.fit(X_train_mean, y_train)\n",
        "\n",
        "    y_pred = clf.predict(X_test_mean)\n",
        "\n",
        "    return accuracy_score(y_pred, y_test)"
      ],
      "execution_count": null,
      "outputs": []
    },
    {
      "cell_type": "code",
      "metadata": {
        "id": "UQIyDXTZPvuw",
        "colab_type": "code",
        "colab": {}
      },
      "source": [
        "def return_score_linsvc(sample_size, num_classes):\n",
        "\n",
        "    train, test = gen_sample(sample_size, num_classes)\n",
        "\n",
        "    X_train = train['Text']\n",
        "    y_train = train['Class'].values\n",
        "    X_test = test['Text']\n",
        "    y_test = test['Class'].values\n",
        "\n",
        "    X_train_mean = X_train.apply(lambda x : transform_sentence(x, model))\n",
        "    X_test_mean = X_test.apply(lambda x : transform_sentence(x, model))\n",
        "\n",
        "    X_train_mean = pd.DataFrame(X_train_mean)['Text'].apply(pd.Series)\n",
        "    X_test_mean = pd.DataFrame(X_test_mean)['Text'].apply(pd.Series)\n",
        "\n",
        "    # Linear SVC\n",
        "    clf = LinearSVC()\n",
        "    clf.fit(X_train_mean, y_train)\n",
        "\n",
        "    y_pred = clf.predict(X_test_mean)\n",
        "\n",
        "    return accuracy_score(y_pred, y_test)"
      ],
      "execution_count": null,
      "outputs": []
    },
    {
      "cell_type": "code",
      "metadata": {
        "id": "9ihouEwYNCyn",
        "colab_type": "code",
        "colab": {}
      },
      "source": [
        "def return_score_xgb(sample_size, num_classes):\n",
        "\n",
        "    train, test = gen_sample(sample_size, num_classes)\n",
        "\n",
        "    X_train = train['Text']\n",
        "    y_train = train['Class'].values\n",
        "    X_test = test['Text']\n",
        "    y_test = test['Class'].values\n",
        "\n",
        "    X_train_mean = X_train.apply(lambda x : transform_sentence(x, model))\n",
        "    X_test_mean = X_test.apply(lambda x : transform_sentence(x, model))\n",
        "\n",
        "    X_train_mean = pd.DataFrame(X_train_mean)['Text'].apply(pd.Series)\n",
        "    X_test_mean = pd.DataFrame(X_test_mean)['Text'].apply(pd.Series)\n",
        "\n",
        "    # XG Boost\n",
        "    clf = xgboost.XGBClassifier()\n",
        "    clf.fit(X_train_mean, y_train)\n",
        "\n",
        "    if not os.path.exists('./pkl_objects'):\n",
        "        os.mkdir('./pkl_objects')\n",
        "    \n",
        "    joblib.dump(le, './pkl_objects/labelencoder.pkl')\n",
        "    joblib.dump(clf, './pkl_objects/clf.pkl')\n",
        "    # drive.mount('/content/drive')\n",
        "    # DATA_PATH = \"/content/drive/Data\"\n",
        "    # infile = open(DATA_PATH+'/labelencoder.pickle','rb')\n",
        "    # le = pickle.load(infile)\n",
        "    # infile2 = open(DATA_PATH+'/model_xgb.pickle','rb')\n",
        "    # clf = pickle.load(infile2)\n",
        "\n",
        "    y_pred = clf.predict(X_test_mean)\n",
        "\n",
        "    return accuracy_score(y_pred, y_test)"
      ],
      "execution_count": null,
      "outputs": []
    },
    {
      "cell_type": "code",
      "metadata": {
        "id": "Da9HeoRUNCwh",
        "colab_type": "code",
        "colab": {}
      },
      "source": [
        "def return_score_dt(sample_size, num_classes):\n",
        "\n",
        "    train, test = gen_sample(sample_size, num_classes)\n",
        "\n",
        "    X_train = train['Text']\n",
        "    y_train = train['Class'].values\n",
        "    X_test = test['Text']\n",
        "    y_test = test['Class'].values\n",
        "\n",
        "    X_train_mean = X_train.apply(lambda x : transform_sentence(x, model))\n",
        "    X_test_mean = X_test.apply(lambda x : transform_sentence(x, model))\n",
        "\n",
        "    X_train_mean = pd.DataFrame(X_train_mean)['Text'].apply(pd.Series)\n",
        "    X_test_mean = pd.DataFrame(X_test_mean)['Text'].apply(pd.Series)\n",
        "\n",
        "    # Decision tree\n",
        "    clf = tree.DecisionTreeClassifier()\n",
        "    clf.fit(X_train_mean, y_train)\n",
        "\n",
        "    y_pred = clf.predict(X_test_mean)\n",
        "\n",
        "    return accuracy_score(y_pred, y_test)"
      ],
      "execution_count": null,
      "outputs": []
    },
    {
      "cell_type": "code",
      "metadata": {
        "id": "OlvK3q-gNCjE",
        "colab_type": "code",
        "colab": {}
      },
      "source": [
        ""
      ],
      "execution_count": null,
      "outputs": []
    },
    {
      "cell_type": "markdown",
      "metadata": {
        "id": "4LOzNWHqP3X9",
        "colab_type": "text"
      },
      "source": [
        "## Comparison of accuracies"
      ]
    },
    {
      "cell_type": "code",
      "metadata": {
        "id": "dOn_dEtkoMj8",
        "colab_type": "code",
        "colab": {}
      },
      "source": [
        "all_accuracy_knn = {2:[],3:[],4:[],5:[],6:[],7:[]}\n",
        "\n",
        "for num_samples in range(1,30):\n",
        "\n",
        "    for num_cl in range(2, 7):\n",
        "\n",
        "        all_accuracy_knn[num_cl].append(return_score_knn(num_samples,num_cl))"
      ],
      "execution_count": null,
      "outputs": []
    },
    {
      "cell_type": "code",
      "metadata": {
        "id": "GEgfI5_EHJak",
        "colab_type": "code",
        "colab": {}
      },
      "source": [
        "all_accuracy_radius = {2:[],3:[],4:[],5:[],6:[],7:[]}\n",
        "\n",
        "for num_samples in range(1,30):\n",
        "\n",
        "    for num_cl in range(2, 7):\n",
        "\n",
        "        all_accuracy_radius[num_cl].append(return_score_radius(num_samples,num_cl))"
      ],
      "execution_count": null,
      "outputs": []
    },
    {
      "cell_type": "code",
      "metadata": {
        "id": "_bWe-xVMHJqC",
        "colab_type": "code",
        "colab": {}
      },
      "source": [
        "# all_accuracy_nb = {2:[],3:[],4:[],5:[],6:[],7:[]}\n",
        "\n",
        "# for num_samples in range(1,30):\n",
        "\n",
        "#     for num_cl in range(2, 7):\n",
        "\n",
        "#         all_accuracy_nb[num_cl].append(return_score_nb(num_samples,num_cl))"
      ],
      "execution_count": null,
      "outputs": []
    },
    {
      "cell_type": "code",
      "metadata": {
        "id": "M6o2w4mAHJ16",
        "colab_type": "code",
        "colab": {}
      },
      "source": [
        "all_accuracy_svc = {2:[],3:[],4:[],5:[],6:[],7:[]}\n",
        "\n",
        "for num_samples in range(1,30):\n",
        "\n",
        "    for num_cl in range(2, 7):\n",
        "\n",
        "        all_accuracy_svc[num_cl].append(return_score_svc(num_samples,num_cl))"
      ],
      "execution_count": null,
      "outputs": []
    },
    {
      "cell_type": "code",
      "metadata": {
        "id": "xEDcMD1QHKDk",
        "colab_type": "code",
        "colab": {}
      },
      "source": [
        "all_accuracy_rf = {2:[],3:[],4:[],5:[],6:[],7:[]}\n",
        "\n",
        "for num_samples in range(1,30):\n",
        "\n",
        "    for num_cl in range(2, 7):\n",
        "\n",
        "        all_accuracy_rf[num_cl].append(return_score_rf(num_samples,num_cl))"
      ],
      "execution_count": null,
      "outputs": []
    },
    {
      "cell_type": "code",
      "metadata": {
        "id": "YsqmLUWaODLA",
        "colab_type": "code",
        "colab": {}
      },
      "source": [
        "all_accuracy_linsvc = {2:[],3:[],4:[],5:[],6:[],7:[]}\n",
        "\n",
        "for num_samples in range(1,30):\n",
        "\n",
        "    for num_cl in range(2, 7):\n",
        "\n",
        "        all_accuracy_linsvc[num_cl].append(return_score_linsvc(num_samples,num_cl))"
      ],
      "execution_count": null,
      "outputs": []
    },
    {
      "cell_type": "code",
      "metadata": {
        "id": "ynP7g_OTODQ7",
        "colab_type": "code",
        "colab": {}
      },
      "source": [
        "all_accuracy_xgb = {2:[],3:[],4:[],5:[],6:[],7:[]}\n",
        "\n",
        "for num_samples in range(1,30):\n",
        "\n",
        "    for num_cl in range(2, 7):\n",
        "\n",
        "        all_accuracy_xgb[num_cl].append(return_score_xgb(num_samples,num_cl))"
      ],
      "execution_count": null,
      "outputs": []
    },
    {
      "cell_type": "code",
      "metadata": {
        "id": "i_FwUv--ODdB",
        "colab_type": "code",
        "colab": {}
      },
      "source": [
        "all_accuracy_dt = {2:[],3:[],4:[],5:[],6:[],7:[]}\n",
        "\n",
        "for num_samples in range(1,30):\n",
        "\n",
        "    for num_cl in range(2, 7):\n",
        "\n",
        "        all_accuracy_dt[num_cl].append(return_score_dt(num_samples,num_cl))"
      ],
      "execution_count": null,
      "outputs": []
    },
    {
      "cell_type": "code",
      "metadata": {
        "id": "eX8XykQ3HQ40",
        "colab_type": "code",
        "colab": {}
      },
      "source": [
        ""
      ],
      "execution_count": null,
      "outputs": []
    },
    {
      "cell_type": "code",
      "metadata": {
        "id": "633I-hFqoURr",
        "colab_type": "code",
        "colab": {
          "base_uri": "https://localhost:8080/",
          "height": 499
        },
        "outputId": "10de37e2-eef5-4696-f035-ec04cc157c6e"
      },
      "source": [
        "plt.figure(figsize=(12,8))\n",
        "plt.plot(all_accuracy_knn[5], label=\"K nearest neighbours\")\n",
        "plt.plot(all_accuracy_radius[5], label=\"Radius neighbours\")\n",
        "# plt.plot(all_accuracy_nb[5], label=\"Multinomial naive bayes\")\n",
        "plt.plot(all_accuracy_svc[5], label=\"Support vector machine\")\n",
        "plt.plot(all_accuracy_rf[5], label=\"Random forest\")\n",
        "plt.plot(all_accuracy_linsvc[5], label=\"Linear SVC\")\n",
        "plt.plot(all_accuracy_xgb[5], label=\"XG Boost\")\n",
        "plt.plot(all_accuracy_dt[5], label=\"Decision tree\")\n",
        "\n",
        "plt.title(\"Accuracy depending on the number of classes and chosen algorithm\")\n",
        "plt.legend()\n",
        "plt.show()"
      ],
      "execution_count": null,
      "outputs": [
        {
          "output_type": "display_data",
          "data": {
            "image/png": "[encoded data removed]",
            "text/plain": [
              "<Figure size 864x576 with 1 Axes>"
            ]
          },
          "metadata": {
            "tags": [],
            "needs_background": "light"
          }
        }
      ]
    },
    {
      "cell_type": "markdown",
      "metadata": {
        "id": "Wwux50_9orgp",
        "colab_type": "text"
      },
      "source": [
        "## Summary"
      ]
    },
    {
      "cell_type": "code",
      "metadata": {
        "id": "QdtLBD4nohVl",
        "colab_type": "code",
        "colab": {}
      },
      "source": [
        "# df_results = pd.DataFrame({\n",
        "#     'Nb Classes':[2,3,4,5], \n",
        "#     'min K-NN':[min(all_accuracy_knn[2]), \n",
        "#         min(all_accuracy_knn[3]), \n",
        "#         min(all_accuracy_knn[4]), \n",
        "#         min(all_accuracy_knn[5])],\n",
        "#     'min Cosine':[min(all_accuracy[2]), \n",
        "#         min(all_accuracy[3]), \n",
        "#         min(all_accuracy[4]), \n",
        "#         min(all_accuracy[5])],\n",
        "#     'mean K-NN':[np.mean(all_accuracy_knn[2]), \n",
        "#         np.mean(all_accuracy_knn[3]), \n",
        "#         np.mean(all_accuracy_knn[4]), \n",
        "#         np.mean(all_accuracy_knn[5])],\n",
        "#     'mean Cosine':[np.mean(all_accuracy[2]), \n",
        "#         np.mean(all_accuracy[3]), \n",
        "#         np.mean(all_accuracy[4]), \n",
        "#         np.mean(all_accuracy[5])],\n",
        "#     'max K-NN':[max(all_accuracy_knn[2]), \n",
        "#         max(all_accuracy_knn[3]), \n",
        "#         max(all_accuracy_knn[4]), \n",
        "#         max(all_accuracy_knn[5])],\n",
        "#     'max Cosine':[max(all_accuracy[2]), \n",
        "#         max(all_accuracy[3]), \n",
        "#         max(all_accuracy[4]), \n",
        "#         max(all_accuracy[5])]\n",
        "#     })"
      ],
      "execution_count": null,
      "outputs": []
    },
    {
      "cell_type": "code",
      "metadata": {
        "id": "jUHYGi8nIphJ",
        "colab_type": "code",
        "colab": {}
      },
      "source": [
        "df_results = pd.DataFrame({\n",
        "    \n",
        "    'Nb Classes':[2, 3, 4, 5, 6], \n",
        "\n",
        "    'mean K-NN':[np.mean(all_accuracy_knn[2]), \n",
        "        np.mean(all_accuracy_knn[3]), \n",
        "        np.mean(all_accuracy_knn[4]), \n",
        "        np.mean(all_accuracy_knn[5]),\n",
        "        np.mean(all_accuracy_knn[6])],\n",
        "    'max K-NN':[max(all_accuracy_knn[2]), \n",
        "        max(all_accuracy_knn[3]), \n",
        "        max(all_accuracy_knn[4]), \n",
        "        max(all_accuracy_knn[5]),\n",
        "        max(all_accuracy_knn[6])],\n",
        "\n",
        "    'mean Cosine':[np.mean(all_accuracy[2]), \n",
        "        np.mean(all_accuracy[3]), \n",
        "        np.mean(all_accuracy[4]), \n",
        "        np.mean(all_accuracy[5]),\n",
        "        np.mean(all_accuracy[6])], \n",
        "    'max Cosine':[max(all_accuracy[2]), \n",
        "        max(all_accuracy[3]), \n",
        "        max(all_accuracy[4]), \n",
        "        max(all_accuracy[5]),\n",
        "        max(all_accuracy[6])],\n",
        "\n",
        "    'mean R-N':[np.mean(all_accuracy_radius[2]), \n",
        "        np.mean(all_accuracy_radius[3]), \n",
        "        np.mean(all_accuracy_radius[4]), \n",
        "        np.mean(all_accuracy_radius[5]),\n",
        "        np.mean(all_accuracy_radius[6])],\n",
        "    'max R-N':[max(all_accuracy_radius[2]), \n",
        "        max(all_accuracy_radius[3]), \n",
        "        max(all_accuracy_radius[4]), \n",
        "        max(all_accuracy_radius[5]),\n",
        "        max(all_accuracy_radius[6])],\n",
        "\n",
        "    # 'mean Naive Bayes':[np.mean(all_accuracy_nb[2]), \n",
        "    #     np.mean(all_accuracy_nb[3]), \n",
        "    #     np.mean(all_accuracy_nb[4]), \n",
        "    #     np.mean(all_accuracy_nb[5]),\n",
        "    #     np.mean(all_accuracy_nb[6])],\n",
        "    # 'max Naive Bayes':[max(all_accuracy_nb[2]), \n",
        "    #     max(all_accuracy_nb[3]), \n",
        "    #     max(all_accuracy_nb[4]), \n",
        "    #     max(all_accuracy_nb[5]),\n",
        "    #     max(all_accuracy_nb[6])],\n",
        "\n",
        "    'mean SVM':[np.mean(all_accuracy_svc[2]), \n",
        "        np.mean(all_accuracy_svc[3]), \n",
        "        np.mean(all_accuracy_svc[4]), \n",
        "        np.mean(all_accuracy_svc[5]),\n",
        "        np.mean(all_accuracy_svc[6])],\n",
        "    'max SVM':[max(all_accuracy_svc[2]), \n",
        "        max(all_accuracy_svc[3]), \n",
        "        max(all_accuracy_svc[4]), \n",
        "        max(all_accuracy_svc[5]),\n",
        "        max(all_accuracy_svc[6])],\n",
        "\n",
        "    'mean Linear SVC':[np.mean(all_accuracy_linsvc[2]), \n",
        "        np.mean(all_accuracy_linsvc[3]), \n",
        "        np.mean(all_accuracy_linsvc[4]), \n",
        "        np.mean(all_accuracy_linsvc[5]),\n",
        "        np.mean(all_accuracy_linsvc[6])],\n",
        "    'max Linear SVC':[max(all_accuracy_linsvc[2]), \n",
        "        max(all_accuracy_linsvc[3]), \n",
        "        max(all_accuracy_linsvc[4]), \n",
        "        max(all_accuracy_linsvc[5]),\n",
        "        max(all_accuracy_linsvc[6])],\n",
        "\n",
        "    'mean XG Boost':[np.mean(all_accuracy_xgb[2]), \n",
        "        np.mean(all_accuracy_xgb[3]), \n",
        "        np.mean(all_accuracy_xgb[4]), \n",
        "        np.mean(all_accuracy_xgb[5]),\n",
        "        np.mean(all_accuracy_xgb[6])],\n",
        "    'max XG Boost':[max(all_accuracy_xgb[2]), \n",
        "        max(all_accuracy_xgb[3]), \n",
        "        max(all_accuracy_xgb[4]), \n",
        "        max(all_accuracy_xgb[5]),\n",
        "        max(all_accuracy_xgb[6])],\n",
        "\n",
        "    'mean Decision Tree':[np.mean(all_accuracy_dt[2]), \n",
        "        np.mean(all_accuracy_dt[3]), \n",
        "        np.mean(all_accuracy_dt[4]), \n",
        "        np.mean(all_accuracy_dt[5]),\n",
        "        np.mean(all_accuracy_dt[6])],\n",
        "    'max Decision Tree':[max(all_accuracy_dt[2]), \n",
        "        max(all_accuracy_dt[3]), \n",
        "        max(all_accuracy_dt[4]), \n",
        "        max(all_accuracy_dt[5]),\n",
        "        max(all_accuracy_dt[6])],\n",
        "\n",
        "    'mean Random Forest':[np.mean(all_accuracy_rf[2]), \n",
        "        np.mean(all_accuracy_rf[3]), \n",
        "        np.mean(all_accuracy_rf[4]), \n",
        "        np.mean(all_accuracy_rf[5]),\n",
        "        np.mean(all_accuracy_rf[6])],\n",
        "    'max Random Forest':[max(all_accuracy_rf[2]), \n",
        "        max(all_accuracy_rf[3]), \n",
        "        max(all_accuracy_rf[4]), \n",
        "        max(all_accuracy_rf[5]),\n",
        "        max(all_accuracy_rf[6])]\n",
        "    })"
      ],
      "execution_count": null,
      "outputs": []
    },
    {
      "cell_type": "code",
      "metadata": {
        "id": "cquo_JmNouZF",
        "colab_type": "code",
        "colab": {
          "base_uri": "https://localhost:8080/",
          "height": 229
        },
        "outputId": "dc33f43d-3d24-481c-9b87-9ce0717b415b"
      },
      "source": [
        "df_results"
      ],
      "execution_count": null,
      "outputs": [
        {
          "output_type": "execute_result",
          "data": {
            "text/html": [
              "<div>\n",
              "<style scoped>\n",
              "    .dataframe tbody tr th:only-of-type {\n",
              "        vertical-align: middle;\n",
              "    }\n",
              "\n",
              "    .dataframe tbody tr th {\n",
              "        vertical-align: top;\n",
              "    }\n",
              "\n",
              "    .dataframe thead th {\n",
              "        text-align: right;\n",
              "    }\n",
              "</style>\n",
              "<table border=\"1\" class=\"dataframe\">\n",
              "  <thead>\n",
              "    <tr style=\"text-align: right;\">\n",
              "      <th></th>\n",
              "      <th>Nb Classes</th>\n",
              "      <th>mean K-NN</th>\n",
              "      <th>max K-NN</th>\n",
              "      <th>mean Cosine</th>\n",
              "      <th>max Cosine</th>\n",
              "      <th>mean R-N</th>\n",
              "      <th>max R-N</th>\n",
              "      <th>mean SVM</th>\n",
              "      <th>max SVM</th>\n",
              "      <th>mean Linear SVC</th>\n",
              "      <th>max Linear SVC</th>\n",
              "      <th>mean XG Boost</th>\n",
              "      <th>max XG Boost</th>\n",
              "      <th>mean Decision Tree</th>\n",
              "      <th>max Decision Tree</th>\n",
              "      <th>mean Random Forest</th>\n",
              "      <th>max Random Forest</th>\n",
              "    </tr>\n",
              "  </thead>\n",
              "  <tbody>\n",
              "    <tr>\n",
              "      <th>0</th>\n",
              "      <td>2</td>\n",
              "      <td>0.907575</td>\n",
              "      <td>1.000000</td>\n",
              "      <td>0.961612</td>\n",
              "      <td>1.000000</td>\n",
              "      <td>0.605373</td>\n",
              "      <td>0.771930</td>\n",
              "      <td>0.962001</td>\n",
              "      <td>1.0</td>\n",
              "      <td>0.966439</td>\n",
              "      <td>1.0</td>\n",
              "      <td>0.883083</td>\n",
              "      <td>1.000000</td>\n",
              "      <td>0.867971</td>\n",
              "      <td>0.985915</td>\n",
              "      <td>0.884763</td>\n",
              "      <td>1.000000</td>\n",
              "    </tr>\n",
              "    <tr>\n",
              "      <th>1</th>\n",
              "      <td>3</td>\n",
              "      <td>0.789893</td>\n",
              "      <td>0.942149</td>\n",
              "      <td>0.541142</td>\n",
              "      <td>0.587209</td>\n",
              "      <td>0.359022</td>\n",
              "      <td>0.454545</td>\n",
              "      <td>0.941706</td>\n",
              "      <td>1.0</td>\n",
              "      <td>0.985794</td>\n",
              "      <td>1.0</td>\n",
              "      <td>0.832425</td>\n",
              "      <td>0.991304</td>\n",
              "      <td>0.823886</td>\n",
              "      <td>0.966942</td>\n",
              "      <td>0.871878</td>\n",
              "      <td>1.000000</td>\n",
              "    </tr>\n",
              "    <tr>\n",
              "      <th>2</th>\n",
              "      <td>4</td>\n",
              "      <td>0.811991</td>\n",
              "      <td>0.930851</td>\n",
              "      <td>0.348279</td>\n",
              "      <td>0.392857</td>\n",
              "      <td>0.235186</td>\n",
              "      <td>0.309524</td>\n",
              "      <td>0.951213</td>\n",
              "      <td>1.0</td>\n",
              "      <td>0.971137</td>\n",
              "      <td>1.0</td>\n",
              "      <td>0.844280</td>\n",
              "      <td>0.989130</td>\n",
              "      <td>0.750527</td>\n",
              "      <td>0.891026</td>\n",
              "      <td>0.850797</td>\n",
              "      <td>1.000000</td>\n",
              "    </tr>\n",
              "    <tr>\n",
              "      <th>3</th>\n",
              "      <td>5</td>\n",
              "      <td>0.806711</td>\n",
              "      <td>0.897196</td>\n",
              "      <td>0.312082</td>\n",
              "      <td>0.340136</td>\n",
              "      <td>0.202440</td>\n",
              "      <td>0.261307</td>\n",
              "      <td>0.913296</td>\n",
              "      <td>1.0</td>\n",
              "      <td>0.960796</td>\n",
              "      <td>1.0</td>\n",
              "      <td>0.821535</td>\n",
              "      <td>0.982759</td>\n",
              "      <td>0.702252</td>\n",
              "      <td>0.873362</td>\n",
              "      <td>0.824265</td>\n",
              "      <td>1.000000</td>\n",
              "    </tr>\n",
              "    <tr>\n",
              "      <th>4</th>\n",
              "      <td>6</td>\n",
              "      <td>0.707773</td>\n",
              "      <td>0.832090</td>\n",
              "      <td>0.245847</td>\n",
              "      <td>0.271978</td>\n",
              "      <td>0.184478</td>\n",
              "      <td>0.232000</td>\n",
              "      <td>0.917646</td>\n",
              "      <td>1.0</td>\n",
              "      <td>0.952775</td>\n",
              "      <td>1.0</td>\n",
              "      <td>0.819872</td>\n",
              "      <td>0.963636</td>\n",
              "      <td>0.674658</td>\n",
              "      <td>0.836449</td>\n",
              "      <td>0.807507</td>\n",
              "      <td>0.991597</td>\n",
              "    </tr>\n",
              "  </tbody>\n",
              "</table>\n",
              "</div>"
            ],
            "text/plain": [
              "   Nb Classes  mean K-NN  ...  mean Random Forest  max Random Forest\n",
              "0           2   0.907575  ...            0.884763           1.000000\n",
              "1           3   0.789893  ...            0.871878           1.000000\n",
              "2           4   0.811991  ...            0.850797           1.000000\n",
              "3           5   0.806711  ...            0.824265           1.000000\n",
              "4           6   0.707773  ...            0.807507           0.991597\n",
              "\n",
              "[5 rows x 17 columns]"
            ]
          },
          "metadata": {
            "tags": []
          },
          "execution_count": 66
        }
      ]
    },
    {
      "cell_type": "code",
      "metadata": {
        "id": "67HqDUJ0ow-j",
        "colab_type": "code",
        "colab": {}
      },
      "source": [
        ""
      ],
      "execution_count": null,
      "outputs": []
    }
  ]
}