{
 "cells": [
  {
   "cell_type": "markdown",
   "metadata": {},
   "source": [
    "# Model Validation"
   ]
  },
  {
   "cell_type": "markdown",
   "metadata": {},
   "source": [
    "This code loads the trained model and verifies it using input strings.\n",
    "Files required in same directory are\n",
    "- glove.6B.50d.txt\n",
    "- model.json\n",
    "- best_model.h5\n",
    "- emails.txt (contains sample email bodies)"
   ]
  },
  {
   "cell_type": "markdown",
   "metadata": {},
   "source": [
    " ## Initial Setup"
   ]
  },
  {
   "cell_type": "code",
   "execution_count": 14,
   "metadata": {},
   "outputs": [],
   "source": [
    "import numpy as np\n",
    "import re\n",
    "# NLP\n",
    "from nltk.tokenize.regexp import RegexpTokenizer\n",
    "from nltk.corpus import stopwords \n",
    "from nltk.stem.wordnet import WordNetLemmatizer\n",
    "import string\n",
    "from nltk.stem.porter import PorterStemmer\n",
    "\n",
    "from keras.layers import *\n",
    "from keras.models import Sequential"
   ]
  },
  {
   "cell_type": "markdown",
   "metadata": {},
   "source": [
    "## Cleaning and vectorization of input string"
   ]
  },
  {
   "cell_type": "code",
   "execution_count": 15,
   "metadata": {},
   "outputs": [
    {
     "name": "stdout",
     "output_type": "stream",
     "text": [
      "400000\n"
     ]
    }
   ],
   "source": [
    "def clean(text):\n",
    "    stop = set(stopwords.words('english'))\n",
    "    stop.update((\"to\",\"cc\",\"subject\",\"http\",\"from\", \"gbp\", \"usd\", \"eur\", \"cad\", \"sent\",\"thanks\", \"acc\", \"ID\", \"account\", \"regards\", \"hi\", \"hello\", \"thank you\"))\n",
    "    exclude = set(string.punctuation) \n",
    "    lemma = WordNetLemmatizer()\n",
    "    porter= PorterStemmer()\n",
    "    \n",
    "    text=text.rstrip()\n",
    "    text = re.sub(r'[^a-zA-Z]', ' ', text)\n",
    "    stop_free = \" \".join([i for i in text.lower().split() if((i not in stop) and (not i.isdigit()))])\n",
    "    punc_free = ''.join(ch for ch in stop_free if ch not in exclude)\n",
    "    normalized = \" \".join(lemma.lemmatize(word) for word in punc_free.split())\n",
    "    stem = \" \".join(porter.stem(token) for token in normalized.split())\n",
    "    \n",
    "    return normalized\n",
    "\n",
    "embeddings = {}\n",
    "with open('./glove.6B.50d.txt',encoding='utf-8') as f:\n",
    "    for line in f:\n",
    "        values = line.split()\n",
    "        word = values[0]\n",
    "        coeffs = np.asarray(values[1:],dtype='float32')\n",
    "\n",
    "        embeddings[word] = coeffs\n",
    "    f.close()\n",
    "print(len(embeddings))\n",
    "\n",
    "def getOutputEmbeddings(X):  \n",
    "    X = X.split()\n",
    "    embedding_matrix_output = np.zeros((1,100,50))\n",
    "    for jx in range(min(100, len(X))):\n",
    "        embedding_matrix_output[0][jx] = embeddings[X[jx].lower()]\n",
    "            \n",
    "    return embedding_matrix_output\n"
   ]
  },
  {
   "cell_type": "markdown",
   "metadata": {},
   "source": [
    "## Class Labels used for Model Training"
   ]
  },
  {
   "cell_type": "code",
   "execution_count": 16,
   "metadata": {},
   "outputs": [],
   "source": [
    "#dependent on model loaded\n",
    "classes = ['BankFailed', 'BankProgress', 'BankComplete', 'BankRequest',\n",
    "       'ClientProgress', 'ClientStatus', 'ClientComplete', 'ClientFailed']"
   ]
  },
  {
   "cell_type": "markdown",
   "metadata": {},
   "source": [
    "## Load Trained Model"
   ]
  },
  {
   "cell_type": "code",
   "execution_count": 17,
   "metadata": {},
   "outputs": [
    {
     "name": "stdout",
     "output_type": "stream",
     "text": [
      "Model: \"sequential_2\"\n",
      "_________________________________________________________________\n",
      "Layer (type)                 Output Shape              Param #   \n",
      "=================================================================\n",
      "lstm_3 (LSTM)                (None, 100, 64)           29440     \n",
      "_________________________________________________________________\n",
      "dropout_3 (Dropout)          (None, 100, 64)           0         \n",
      "_________________________________________________________________\n",
      "lstm_4 (LSTM)                (None, 64)                33024     \n",
      "_________________________________________________________________\n",
      "dropout_4 (Dropout)          (None, 64)                0         \n",
      "_________________________________________________________________\n",
      "dense_2 (Dense)              (None, 8)                 520       \n",
      "_________________________________________________________________\n",
      "activation_2 (Activation)    (None, 8)                 0         \n",
      "=================================================================\n",
      "Total params: 62,984\n",
      "Trainable params: 62,984\n",
      "Non-trainable params: 0\n",
      "_________________________________________________________________\n"
     ]
    }
   ],
   "source": [
    "from keras.models import model_from_json\n",
    "\n",
    "with open(\"model.json\", \"r\") as file:\n",
    "    model=model_from_json(file.read())\n",
    "model.load_weights(\"best_model.h5\")\n",
    "model.summary()"
   ]
  },
  {
   "cell_type": "markdown",
   "metadata": {},
   "source": [
    "## Verify with sample strings"
   ]
  },
  {
   "cell_type": "code",
   "execution_count": 19,
   "metadata": {},
   "outputs": [
    {
     "name": "stdout",
     "output_type": "stream",
     "text": [
      "Original input --> Payment of 471862128 CAD to account id 101165 has been made on 19/02/2020 and is in progress, please acknowledge.\n",
      "\n",
      "Cleaned input --> payment id made progress please acknowledge\n",
      "Output --> class BankFailed \n",
      "\n",
      "\n",
      "\n",
      "Original input --> Hi Tom, This is to inform you that BNY Mellon has fully paid 80517212 USD to Account ID 104276 on 15-01-2020 .\n",
      "\n",
      "Cleaned input --> tom inform bny mellon fully paid id\n",
      "Output --> class BankRequest \n",
      "\n",
      "\n",
      "\n",
      "Original input --> Greetings Cho, Please find attached details Client Name : HSBC Account ID: 103285 Legal Entity: CitiBank HongKong Currency: CAD Payment Type: Receive Paid Amount: 56327540 Payment Date: 16-10-2019 Payment Status: Processing Pending Amount: 2564636 Thanks.\n",
      "\n",
      "Cleaned input --> greeting cho please find attached detail client name hsbc id legal entity citibank hongkong currency payment type receive paid amount payment date payment status processing pending amount\n",
      "Output --> class BankFailed \n",
      "\n",
      "\n",
      "\n",
      "Original input --> Joe, Please find attached details of failed payment and guide further. DEUTSCHE BANK 103838 CitiBank Singapore EUR Receive 7325436 16-01-2020 Rejected 9934360.\n",
      "\n",
      "Cleaned input --> joe please find attached detail failed payment guide deutsche bank citibank singapore receive rejected\n",
      "Output --> class BankRequest \n",
      "\n",
      "\n",
      "\n",
      "Original input --> Gary, On 19-04-2020, Deutsche Bank has partially paid 63110399 GBP to Account ID 105151. \n",
      "\n",
      "Cleaned input --> gary deutsche bank partially paid id\n",
      "Output --> class BankRequest \n",
      "\n",
      "\n",
      "\n",
      "Original input --> Greetings! I want to know about the status of transaction 111222. Please send me the details. Thanks!\n",
      "\n",
      "Cleaned input --> greeting want know status transaction please send detail\n",
      "Output --> class BankRequest \n",
      "\n",
      "\n",
      "\n",
      "Original input --> Hello, this is to inform you that due to lack of funds, cheque no. 938974814257534238634169 has bounced. Kindly ensure that you have enough funds and then submit a new cheque at the earliest.\n",
      "\n",
      "Cleaned input --> inform due lack fund cheque bounced kindly ensure enough fund submit new cheque earliest\n",
      "Output --> class BankFailed \n",
      "\n",
      "\n",
      "\n",
      "Original input --> This is to inform you that your transaction 123456 is in progress and will be processed in 2-3 days.\n",
      "\n",
      "Cleaned input --> inform transaction progress processed day\n",
      "Output --> class BankFailed \n",
      "\n",
      "\n",
      "\n",
      "Original input --> A random test email\n",
      "Cleaned input --> random test email\n",
      "Output --> class BankFailed \n",
      "\n",
      "\n",
      "\n"
     ]
    }
   ],
   "source": [
    "'''test_strings=[\"Greetings! I want to know about the status of transaction 111222. Please send me the details. Thanks!\",\n",
    "              \"Hello, this is to inform you that due to lack of funds, cheque no. 938974814257534238634169 has bounced. Kindly ensure that you have enough funds and then submit a new cheque at the earliest.\",\n",
    "              \"This is to inform you that your transaction 123456 is in progress and will be processed in 2-3 days.\",\n",
    "              \"random test string\"\n",
    "             ] '''\n",
    "\n",
    "emails=open(\"emails.txt\", \"r\")\n",
    "                \n",
    "for test_str in emails:\n",
    "    print(f\"Original input --> {test_str}\")     \n",
    "    test_str = clean(test_str)\n",
    "    print(f\"Cleaned input --> {test_str}\")\n",
    "    emb_X = getOutputEmbeddings(test_str)\n",
    "    #print (emb_X)\n",
    "    p = model.predict_classes(emb_X)\n",
    "    #print (p.shape)\n",
    "    print(f'Output --> class {classes[p[0]]} ');\n",
    "    print(\"\\n\\n\")\n"
   ]
  },
  {
   "cell_type": "code",
   "execution_count": null,
   "metadata": {},
   "outputs": [],
   "source": []
  },
  {
   "cell_type": "code",
   "execution_count": null,
   "metadata": {},
   "outputs": [],
   "source": []
  }
 ],
 "metadata": {
  "kernelspec": {
   "display_name": "Python 3",
   "language": "python",
   "name": "python3"
  },
  "language_info": {
   "codemirror_mode": {
    "name": "ipython",
    "version": 3
   },
   "file_extension": ".py",
   "mimetype": "text/x-python",
   "name": "python",
   "nbconvert_exporter": "python",
   "pygments_lexer": "ipython3",
   "version": "3.7.6"
  }
 },
 "nbformat": 4,
 "nbformat_minor": 4
}
