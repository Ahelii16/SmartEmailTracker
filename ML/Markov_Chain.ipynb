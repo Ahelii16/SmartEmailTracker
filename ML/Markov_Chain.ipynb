{
 "cells": [
  {
   "cell_type": "markdown",
   "metadata": {
    "colab_type": "text",
    "id": "Kp_4IbJlCCdn"
   },
   "source": [
    "## Markov Chain\n",
    "- Probabistic Model for Text/Natural Language Generation\n",
    "- Simple and effective way of generating new text\n",
    "    - Text\n",
    "    - Lyrics\n",
    "    - Story/Novel\n",
    "    - Code"
   ]
  },
  {
   "cell_type": "code",
   "execution_count": 1,
   "metadata": {
    "colab": {},
    "colab_type": "code",
    "id": "aCFw8NLSCCdv"
   },
   "outputs": [],
   "source": [
    "def generateTable(data,k):\n",
    "    #T: transition table\n",
    "    T = {}\n",
    "    for i in range(len(data)-k):\n",
    "        X = data[i:i+k]\n",
    "        Y = data[i+k]\n",
    "        \n",
    "        if T.get(X) is None:\n",
    "            T[X] = {} #dict\n",
    "            T[X][Y] = 1\n",
    "        else:\n",
    "            if T[X].get(Y) is None:\n",
    "                T[X][Y] = 1\n",
    "            else:\n",
    "                T[X][Y] += 1\n",
    "    \n",
    "    return T"
   ]
  },
  {
   "cell_type": "code",
   "execution_count": 2,
   "metadata": {
    "colab": {},
    "colab_type": "code",
    "id": "rkan9Bd8CCd2"
   },
   "outputs": [],
   "source": [
    "def convertFreqIntoProb(T):     \n",
    "    for kx in T.keys():\n",
    "        s = float(sum(T[kx].values()))\n",
    "        for k in T[kx].keys():\n",
    "            T[kx][k] = T[kx][k]/s\n",
    "                \n",
    "    return T"
   ]
  },
  {
   "cell_type": "code",
   "execution_count": 3,
   "metadata": {
    "colab": {},
    "colab_type": "code",
    "id": "-cpun6z5CCd8"
   },
   "outputs": [],
   "source": [
    "text_path = \"sample_text.txt\"\n",
    "def load_text(filename):\n",
    "    with open(filename,encoding='utf8') as f:\n",
    "        return f.read().lower()\n",
    "    \n",
    "text = load_text(text_path)"
   ]
  },
  {
   "cell_type": "code",
   "execution_count": 4,
   "metadata": {
    "colab": {},
    "colab_type": "code",
    "id": "gN2QSpKDCCeA",
    "outputId": "634ed527-f736-4e03-f69e-a8e9d8ef2082"
   },
   "outputs": [
    {
     "name": "stdout",
     "output_type": "stream",
     "text": [
      "greetings cho,\n",
      "please find attached details\n",
      "\n",
      "client name : hsbc\t\n",
      "account id: 103285\t\n",
      "legal entity: citibank hongkong\t\n",
      "currency: cad\t\n",
      "payment type: receive\t\n",
      "paid amount: 56327540\t\n",
      "payment date: 16-10-2019\t\n",
      "payment status: processing\t\n",
      "pending amount: 2564636\t\n",
      "\n",
      "thanks.\n",
      "\n",
      "hi tom,\n",
      "this is to inform you that bny mellon has fully paid 80517212 usd to account id 104276 on 15-01-2020. \n",
      "\n",
      "thanks.\n",
      "\n",
      "payment of 471862128 cad to account id 101165 has been made on 19/02/2020 and is in progress. please acknowledge. thanks,\n",
      "joe.\n",
      "\n",
      "please find attached details of failed payment and guide further. \n",
      "\n",
      "deutsche bank\t\n",
      "103838\t\n",
      "citibank singapore\t\n",
      "eur\t\n",
      "receive\t\n",
      "7325436\t\n",
      "16-01-2020\t\n",
      "rejected\t\n",
      "9934360\t\n",
      "\n",
      "thanks.\n",
      "\n",
      "hi,\n",
      "i would like to inform you that bny mellon partially paid 44866916 gbp to account id 101498 on 20-04-2020.\n",
      "\n",
      "thanks.\n",
      "\n",
      "partial payment of 51065250 gbp to account id 100216 has been made on 17/09/2019 and pending amount will be paid later. \n",
      "regards\n",
      "ken adams\n",
      "\n",
      "payment of 45218021 usd to account id 100545 ha\n"
     ]
    }
   ],
   "source": [
    "print(text[:1000])"
   ]
  },
  {
   "cell_type": "markdown",
   "metadata": {
    "colab_type": "text",
    "id": "u4YDvWUmCCeF"
   },
   "source": [
    "## Train our Markov Chain"
   ]
  },
  {
   "cell_type": "code",
   "execution_count": 5,
   "metadata": {
    "colab": {},
    "colab_type": "code",
    "id": "415_8Mq-CCeF"
   },
   "outputs": [],
   "source": [
    "def trainMarkovChain(text,k=4):\n",
    "    \n",
    "    T = generateTable(text,k)\n",
    "    T = convertFreqIntoProb(T)\n",
    "    \n",
    "    return T\n",
    "    "
   ]
  },
  {
   "cell_type": "code",
   "execution_count": 6,
   "metadata": {
    "colab": {},
    "colab_type": "code",
    "id": "FYSo2YvSCCeI"
   },
   "outputs": [],
   "source": [
    "model = trainMarkovChain(text, 5)"
   ]
  },
  {
   "cell_type": "code",
   "execution_count": 7,
   "metadata": {
    "colab": {},
    "colab_type": "code",
    "id": "hp950AvPCCeL",
    "outputId": "5f95e021-c62e-47e2-fda6-1532ab4f3693"
   },
   "outputs": [
    {
     "name": "stdout",
     "output_type": "stream",
     "text": [
      "{'greet': {'i': 1.0}, 'reeti': {'n': 1.0}, 'eetin': {'g': 1.0}, 'eting': {'s': 1.0}, 'tings': {' ': 1.0}, 'ings ': {'c': 1.0}, 'ngs c': {'h': 1.0}, 'gs ch': {'o': 1.0}, 's cho': {',': 1.0}, ' cho,': {'\\n': 1.0}, 'cho,\\n': {'p': 1.0}, 'ho,\\np': {'l': 1.0}, 'o,\\npl': {'e': 1.0}, ',\\nple': {'a': 1.0}, '\\nplea': {'s': 1.0}, 'pleas': {'e': 1.0}, 'lease': {' ': 1.0}, 'ease ': {'f': 0.5, 'a': 0.25, 'g': 0.25}, 'ase f': {'i': 1.0}, 'se fi': {'n': 1.0}, 'e fin': {'d': 1.0}, ' find': {' ': 1.0}, 'find ': {'a': 1.0}, 'ind a': {'t': 1.0}, 'nd at': {'t': 1.0}, 'd att': {'a': 1.0}, ' atta': {'c': 1.0}, 'attac': {'h': 1.0}, 'ttach': {'e': 1.0}, 'tache': {'d': 1.0}, 'ached': {' ': 1.0}, 'ched ': {'d': 1.0}, 'hed d': {'e': 1.0}, 'ed de': {'t': 1.0}, 'd det': {'a': 1.0}, ' deta': {'i': 1.0}, 'detai': {'l': 1.0}, 'etail': {'s': 1.0}, 'tails': {'\\n': 0.5, ' ': 0.5}, 'ails\\n': {'\\n': 1.0}, 'ils\\n\\n': {'c': 1.0}, 'ls\\n\\nc': {'l': 1.0}, 's\\n\\ncl': {'i': 1.0}, '\\n\\ncli': {'e': 1.0}, '\\nclie': {'n': 1.0}, 'clien': {'t': 1.0}, 'lient': {' ': 1.0}, 'ient ': {'n': 1.0}, 'ent n': {'a': 1.0}, 'nt na': {'m': 1.0}, 't nam': {'e': 1.0}, ' name': {' ': 1.0}, 'name ': {':': 1.0}, 'ame :': {' ': 1.0}, 'me : ': {'h': 1.0}, 'e : h': {'s': 1.0}, ' : hs': {'b': 1.0}, ': hsb': {'c': 1.0}, ' hsbc': {'\\t': 1.0}, 'hsbc\\t': {'\\n': 1.0}, 'sbc\\t\\n': {'a': 1.0}, 'bc\\t\\na': {'c': 1.0}, 'c\\t\\nac': {'c': 1.0}, '\\t\\nacc': {'o': 1.0}, '\\nacco': {'u': 1.0}, 'accou': {'n': 1.0}, 'ccoun': {'t': 1.0}, 'count': {' ': 1.0}, 'ount ': {'i': 0.9, 'w': 0.1}, 'unt i': {'d': 1.0}, 'nt id': {':': 0.1111111111111111, ' ': 0.8888888888888888}, 't id:': {' ': 1.0}, ' id: ': {'1': 1.0}, 'id: 1': {'0': 1.0}, 'd: 10': {'3': 1.0}, ': 103': {'2': 1.0}, ' 1032': {'8': 1.0}, '10328': {'5': 1.0}, '03285': {'\\t': 1.0}, '3285\\t': {'\\n': 1.0}, '285\\t\\n': {'l': 1.0}, '85\\t\\nl': {'e': 1.0}, '5\\t\\nle': {'g': 1.0}, '\\t\\nleg': {'a': 1.0}, '\\nlega': {'l': 1.0}, 'legal': {' ': 1.0}, 'egal ': {'e': 1.0}, 'gal e': {'n': 1.0}, 'al en': {'t': 1.0}, 'l ent': {'i': 1.0}, ' enti': {'t': 1.0}, 'entit': {'y': 1.0}, 'ntity': {':': 1.0}, 'tity:': {' ': 1.0}, 'ity: ': {'c': 1.0}, 'ty: c': {'i': 1.0}, 'y: ci': {'t': 1.0}, ': cit': {'i': 1.0}, ' citi': {'b': 1.0}, 'citib': {'a': 1.0}, 'itiba': {'n': 1.0}, 'tiban': {'k': 1.0}, 'ibank': {' ': 1.0}, 'bank ': {'h': 0.5, 's': 0.5}, 'ank h': {'o': 1.0}, 'nk ho': {'n': 1.0}, 'k hon': {'g': 1.0}, ' hong': {'k': 1.0}, 'hongk': {'o': 1.0}, 'ongko': {'n': 1.0}, 'ngkon': {'g': 1.0}, 'gkong': {'\\t': 1.0}, 'kong\\t': {'\\n': 1.0}, 'ong\\t\\n': {'c': 1.0}, 'ng\\t\\nc': {'u': 1.0}, 'g\\t\\ncu': {'r': 1.0}, '\\t\\ncur': {'r': 1.0}, '\\ncurr': {'e': 1.0}, 'curre': {'n': 1.0}, 'urren': {'c': 1.0}, 'rrenc': {'y': 1.0}, 'rency': {':': 1.0}, 'ency:': {' ': 1.0}, 'ncy: ': {'c': 1.0}, 'cy: c': {'a': 1.0}, 'y: ca': {'d': 1.0}, ': cad': {'\\t': 1.0}, ' cad\\t': {'\\n': 1.0}, 'cad\\t\\n': {'p': 1.0}, 'ad\\t\\np': {'a': 1.0}, 'd\\t\\npa': {'y': 1.0}, '\\t\\npay': {'m': 1.0}, '\\npaym': {'e': 1.0}, 'payme': {'n': 1.0}, 'aymen': {'t': 1.0}, 'yment': {' ': 1.0}, 'ment ': {'t': 0.1, 'd': 0.1, 's': 0.1, 'o': 0.6, 'a': 0.1}, 'ent t': {'y': 1.0}, 'nt ty': {'p': 1.0}, 't typ': {'e': 1.0}, ' type': {':': 1.0}, 'type:': {' ': 1.0}, 'ype: ': {'r': 1.0}, 'pe: r': {'e': 1.0}, 'e: re': {'c': 1.0}, ': rec': {'e': 1.0}, ' rece': {'i': 1.0}, 'recei': {'v': 1.0}, 'eceiv': {'e': 1.0}, 'ceive': {'\\t': 1.0}, 'eive\\t': {'\\n': 1.0}, 'ive\\t\\n': {'p': 0.5, '7': 0.5}, 've\\t\\np': {'a': 1.0}, 'e\\t\\npa': {'i': 1.0}, '\\t\\npai': {'d': 1.0}, '\\npaid': {' ': 1.0}, 'paid ': {'a': 0.25, '8': 0.25, '4': 0.25, 'l': 0.25}, 'aid a': {'m': 1.0}, 'id am': {'o': 1.0}, 'd amo': {'u': 1.0}, ' amou': {'n': 1.0}, 'amoun': {'t': 1.0}, 'mount': {':': 0.6666666666666666, ' ': 0.3333333333333333}, 'ount:': {' ': 1.0}, 'unt: ': {'5': 0.5, '2': 0.5}, 'nt: 5': {'6': 1.0}, 't: 56': {'3': 1.0}, ': 563': {'2': 1.0}, ' 5632': {'7': 1.0}, '56327': {'5': 1.0}, '63275': {'4': 1.0}, '32754': {'0': 1.0}, '27540': {'\\t': 1.0}, '7540\\t': {'\\n': 1.0}, '540\\t\\n': {'p': 1.0}, '40\\t\\np': {'a': 1.0}, '0\\t\\npa': {'y': 1.0}, 'ent d': {'a': 1.0}, 'nt da': {'t': 1.0}, 't dat': {'e': 1.0}, ' date': {':': 0.3333333333333333, 'd': 0.6666666666666666}, 'date:': {' ': 1.0}, 'ate: ': {'1': 1.0}, 'te: 1': {'6': 1.0}, 'e: 16': {'-': 1.0}, ': 16-': {'1': 1.0}, ' 16-1': {'0': 1.0}, '16-10': {'-': 1.0}, '6-10-': {'2': 1.0}, '-10-2': {'0': 1.0}, '10-20': {'1': 1.0}, '0-201': {'9': 1.0}, '-2019': {'\\t': 1.0}, '2019\\t': {'\\n': 1.0}, '019\\t\\n': {'p': 1.0}, '19\\t\\np': {'a': 1.0}, '9\\t\\npa': {'y': 1.0}, 'ent s': {'t': 1.0}, 'nt st': {'a': 1.0}, 't sta': {'t': 1.0}, ' stat': {'u': 1.0}, 'statu': {'s': 1.0}, 'tatus': {':': 1.0}, 'atus:': {' ': 1.0}, 'tus: ': {'p': 1.0}, 'us: p': {'r': 1.0}, 's: pr': {'o': 1.0}, ': pro': {'c': 1.0}, ' proc': {'e': 1.0}, 'proce': {'s': 1.0}, 'roces': {'s': 1.0}, 'ocess': {'i': 1.0}, 'cessi': {'n': 1.0}, 'essin': {'g': 1.0}, 'ssing': {'\\t': 1.0}, 'sing\\t': {'\\n': 1.0}, 'ing\\t\\n': {'p': 1.0}, 'ng\\t\\np': {'e': 1.0}, 'g\\t\\npe': {'n': 1.0}, '\\t\\npen': {'d': 1.0}, '\\npend': {'i': 1.0}, 'pendi': {'n': 1.0}, 'endin': {'g': 1.0}, 'nding': {' ': 1.0}, 'ding ': {'a': 1.0}, 'ing a': {'m': 1.0}, 'ng am': {'o': 1.0}, 'g amo': {'u': 1.0}, 'nt: 2': {'5': 1.0}, 't: 25': {'6': 1.0}, ': 256': {'4': 1.0}, ' 2564': {'6': 1.0}, '25646': {'3': 1.0}, '56463': {'6': 1.0}, '64636': {'\\t': 1.0}, '4636\\t': {'\\n': 1.0}, '636\\t\\n': {'\\n': 1.0}, '36\\t\\n\\n': {'t': 1.0}, '6\\t\\n\\nt': {'h': 1.0}, '\\t\\n\\nth': {'a': 1.0}, '\\n\\ntha': {'n': 1.0}, '\\nthan': {'k': 1.0}, 'thank': {'s': 1.0}, 'hanks': {'.': 0.6666666666666666, ',': 0.16666666666666666, ' ': 0.16666666666666666}, 'anks.': {'\\n': 1.0}, 'nks.\\n': {'\\n': 1.0}, 'ks.\\n\\n': {'h': 0.5, 'p': 0.5}, 's.\\n\\nh': {'i': 1.0}, '.\\n\\nhi': {' ': 0.5, ',': 0.5}, '\\n\\nhi ': {'t': 1.0}, '\\nhi t': {'o': 1.0}, 'hi to': {'m': 1.0}, 'i tom': {',': 1.0}, ' tom,': {'\\n': 1.0}, 'tom,\\n': {'t': 1.0}, 'om,\\nt': {'h': 1.0}, 'm,\\nth': {'i': 1.0}, ',\\nthi': {'s': 1.0}, '\\nthis': {' ': 1.0}, 'this ': {'i': 1.0}, 'his i': {'s': 1.0}, 'is is': {' ': 1.0}, 's is ': {'t': 1.0}, ' is t': {'o': 1.0}, 'is to': {' ': 1.0}, 's to ': {'i': 1.0}, ' to i': {'n': 1.0}, 'to in': {'f': 1.0}, 'o inf': {'o': 1.0}, ' info': {'r': 1.0}, 'infor': {'m': 1.0}, 'nform': {' ': 1.0}, 'form ': {'y': 1.0}, 'orm y': {'o': 1.0}, 'rm yo': {'u': 1.0}, 'm you': {' ': 1.0}, ' you ': {'t': 1.0}, 'you t': {'h': 1.0}, 'ou th': {'a': 1.0}, 'u tha': {'t': 1.0}, ' that': {' ': 1.0}, 'that ': {'b': 0.5, 'a': 0.5}, 'hat b': {'n': 1.0}, 'at bn': {'y': 1.0}, 't bny': {' ': 1.0}, ' bny ': {'m': 1.0}, 'bny m': {'e': 1.0}, 'ny me': {'l': 1.0}, 'y mel': {'l': 1.0}, ' mell': {'o': 1.0}, 'mello': {'n': 1.0}, 'ellon': {' ': 1.0}, 'llon ': {'h': 0.5, 'p': 0.5}, 'lon h': {'a': 1.0}, 'on ha': {'s': 1.0}, 'n has': {' ': 1.0}, ' has ': {'f': 0.4, 'b': 0.6}, 'has f': {'u': 0.5, 'a': 0.5}, 'as fu': {'l': 1.0}, 's ful': {'l': 1.0}, ' full': {'y': 1.0}, 'fully': {' ': 1.0}, 'ully ': {'p': 1.0}, 'lly p': {'a': 1.0}, 'ly pa': {'i': 1.0}, 'y pai': {'d': 1.0}, ' paid': {' ': 1.0}, 'aid 8': {'0': 1.0}, 'id 80': {'5': 1.0}, 'd 805': {'1': 1.0}, ' 8051': {'7': 1.0}, '80517': {'2': 1.0}, '05172': {'1': 1.0}, '51721': {'2': 1.0}, '17212': {' ': 1.0}, '7212 ': {'u': 1.0}, '212 u': {'s': 1.0}, '12 us': {'d': 1.0}, '2 usd': {' ': 1.0}, ' usd ': {'t': 1.0}, 'usd t': {'o': 1.0}, 'sd to': {' ': 1.0}, 'd to ': {'a': 1.0}, ' to a': {'c': 1.0}, 'to ac': {'c': 1.0}, 'o acc': {'o': 1.0}, ' acco': {'u': 1.0}, 't id ': {'1': 1.0}, ' id 1': {'0': 1.0}, 'id 10': {'4': 0.125, '1': 0.375, '0': 0.25, '7': 0.125, '2': 0.125}, 'd 104': {'2': 1.0}, ' 1042': {'7': 1.0}, '10427': {'6': 1.0}, '04276': {' ': 1.0}, '4276 ': {'o': 1.0}, '276 o': {'n': 1.0}, '76 on': {' ': 1.0}, '6 on ': {'1': 1.0}, ' on 1': {'5': 0.2, '9': 0.2, '7': 0.2, '1': 0.2, '3': 0.2}, 'on 15': {'-': 1.0}, 'n 15-': {'0': 1.0}, ' 15-0': {'1': 1.0}, '15-01': {'-': 1.0}, '5-01-': {'2': 1.0}, '-01-2': {'0': 1.0}, '01-20': {'2': 1.0}, '1-202': {'0': 1.0}, '-2020': {'.': 0.6666666666666666, '\\t': 0.3333333333333333}, '2020.': {' ': 0.8, '\\n': 0.2}, '020. ': {'\\n': 1.0}, '20. \\n': {'\\n': 0.25, 'p': 0.25, 'k': 0.5}, '0. \\n\\n': {'t': 1.0}, '. \\n\\nt': {'h': 1.0}, ' \\n\\nth': {'a': 1.0}, 's.\\n\\np': {'a': 1.0}, '.\\n\\npa': {'y': 0.5, 'r': 0.5}, '\\n\\npay': {'m': 1.0}, 'ent o': {'f': 1.0}, 'nt of': {' ': 1.0}, 't of ': {'4': 0.3333333333333333, '5': 0.3333333333333333, '9': 0.16666666666666666, '2': 0.16666666666666666}, ' of 4': {'7': 0.5, '5': 0.5}, 'of 47': {'1': 1.0}, 'f 471': {'8': 1.0}, ' 4718': {'6': 1.0}, '47186': {'2': 1.0}, '71862': {'1': 1.0}, '18621': {'2': 1.0}, '86212': {'8': 1.0}, '62128': {' ': 1.0}, '2128 ': {'c': 1.0}, '128 c': {'a': 1.0}, '28 ca': {'d': 1.0}, '8 cad': {' ': 1.0}, ' cad ': {'t': 1.0}, 'cad t': {'o': 1.0}, 'ad to': {' ': 1.0}, 'd 101': {'1': 0.3333333333333333, '4': 0.3333333333333333, '8': 0.3333333333333333}, ' 1011': {'6': 1.0}, '10116': {'5': 1.0}, '01165': {' ': 1.0}, '1165 ': {'h': 1.0}, '165 h': {'a': 1.0}, '65 ha': {'s': 1.0}, '5 has': {' ': 1.0}, 'has b': {'e': 1.0}, 'as be': {'e': 1.0}, 's bee': {'n': 1.0}, ' been': {' ': 1.0}, 'been ': {'m': 0.6666666666666666, 'r': 0.3333333333333333}, 'een m': {'a': 1.0}, 'en ma': {'d': 1.0}, 'n mad': {'e': 1.0}, ' made': {' ': 1.0}, 'made ': {'o': 1.0}, 'ade o': {'n': 1.0}, 'de on': {' ': 1.0}, 'e on ': {'1': 1.0}, 'on 19': {'/': 1.0}, 'n 19/': {'0': 1.0}, ' 19/0': {'2': 1.0}, '19/02': {'/': 1.0}, '9/02/': {'2': 1.0}, '/02/2': {'0': 1.0}, '02/20': {'2': 1.0}, '2/202': {'0': 1.0}, '/2020': {' ': 0.25, '.': 0.75}, '2020 ': {'a': 1.0}, '020 a': {'n': 1.0}, '20 an': {'d': 1.0}, '0 and': {' ': 1.0}, ' and ': {'i': 0.25, 'g': 0.25, 'p': 0.25, 'r': 0.25}, 'and i': {'s': 1.0}, 'nd is': {' ': 1.0}, 'd is ': {'i': 1.0}, ' is i': {'n': 1.0}, 'is in': {' ': 1.0}, 's in ': {'p': 1.0}, ' in p': {'r': 1.0}, 'in pr': {'o': 1.0}, 'n pro': {'g': 1.0}, ' prog': {'r': 1.0}, 'progr': {'e': 1.0}, 'rogre': {'s': 1.0}, 'ogres': {'s': 1.0}, 'gress': {'.': 0.5, ' ': 0.5}, 'ress.': {' ': 1.0}, 'ess. ': {'p': 1.0}, 'ss. p': {'l': 1.0}, 's. pl': {'e': 1.0}, '. ple': {'a': 1.0}, ' plea': {'s': 1.0}, 'ase a': {'c': 1.0}, 'se ac': {'k': 1.0}, 'e ack': {'n': 1.0}, ' ackn': {'o': 1.0}, 'ackno': {'w': 1.0}, 'cknow': {'l': 1.0}, 'knowl': {'e': 1.0}, 'nowle': {'d': 1.0}, 'owled': {'g': 1.0}, 'wledg': {'e': 1.0}, 'ledge': {'.': 1.0}, 'edge.': {' ': 1.0}, 'dge. ': {'t': 0.3333333333333333, '\\n': 0.6666666666666666}, 'ge. t': {'h': 1.0}, 'e. th': {'a': 1.0}, '. tha': {'n': 1.0}, ' than': {'k': 1.0}, 'anks,': {'\\n': 1.0}, 'nks,\\n': {'j': 1.0}, 'ks,\\nj': {'o': 1.0}, 's,\\njo': {'e': 1.0}, ',\\njoe': {'.': 1.0}, '\\njoe.': {'\\n': 1.0}, 'joe.\\n': {'\\n': 1.0}, 'oe.\\n\\n': {'p': 1.0}, 'e.\\n\\np': {'l': 1.0}, '.\\n\\npl': {'e': 1.0}, '\\n\\nple': {'a': 1.0}, 'ails ': {'o': 1.0}, 'ils o': {'f': 1.0}, 'ls of': {' ': 1.0}, 's of ': {'f': 1.0}, ' of f': {'a': 1.0}, 'of fa': {'i': 1.0}, 'f fai': {'l': 1.0}, ' fail': {'e': 1.0}, 'faile': {'d': 1.0}, 'ailed': {' ': 1.0}, 'iled ': {'p': 0.5, 'o': 0.5}, 'led p': {'a': 1.0}, 'ed pa': {'y': 1.0}, 'd pay': {'m': 1.0}, ' paym': {'e': 1.0}, 'ent a': {'n': 1.0}, 'nt an': {'d': 1.0}, 't and': {' ': 1.0}, 'and g': {'u': 1.0}, 'nd gu': {'i': 1.0}, 'd gui': {'d': 1.0}, ' guid': {'e': 1.0}, 'guide': {' ': 1.0}, 'uide ': {'f': 0.5, 'm': 0.5}, 'ide f': {'u': 1.0}, 'de fu': {'r': 1.0}, 'e fur': {'t': 1.0}, ' furt': {'h': 1.0}, 'furth': {'e': 1.0}, 'urthe': {'r': 1.0}, 'rther': {'.': 0.3333333333333333, ' ': 0.6666666666666666}, 'ther.': {' ': 1.0}, 'her. ': {'\\n': 1.0}, 'er. \\n': {'\\n': 0.5, 'r': 0.5}, 'r. \\n\\n': {'d': 1.0}, '. \\n\\nd': {'e': 1.0}, ' \\n\\nde': {'u': 1.0}, '\\n\\ndeu': {'t': 1.0}, '\\ndeut': {'s': 1.0}, 'deuts': {'c': 1.0}, 'eutsc': {'h': 1.0}, 'utsch': {'e': 1.0}, 'tsche': {' ': 1.0}, 'sche ': {'b': 1.0}, 'che b': {'a': 1.0}, 'he ba': {'n': 1.0}, 'e ban': {'k': 1.0}, ' bank': {'\\t': 1.0}, 'bank\\t': {'\\n': 1.0}, 'ank\\t\\n': {'1': 1.0}, 'nk\\t\\n1': {'0': 1.0}, 'k\\t\\n10': {'3': 1.0}, '\\t\\n103': {'8': 1.0}, '\\n1038': {'3': 1.0}, '10383': {'8': 1.0}, '03838': {'\\t': 1.0}, '3838\\t': {'\\n': 1.0}, '838\\t\\n': {'c': 1.0}, '38\\t\\nc': {'i': 1.0}, '8\\t\\nci': {'t': 1.0}, '\\t\\ncit': {'i': 1.0}, '\\nciti': {'b': 1.0}, 'ank s': {'i': 1.0}, 'nk si': {'n': 1.0}, 'k sin': {'g': 1.0}, ' sing': {'a': 1.0}, 'singa': {'p': 1.0}, 'ingap': {'o': 1.0}, 'ngapo': {'r': 1.0}, 'gapor': {'e': 1.0}, 'apore': {'\\t': 1.0}, 'pore\\t': {'\\n': 1.0}, 'ore\\t\\n': {'e': 1.0}, 're\\t\\ne': {'u': 1.0}, 'e\\t\\neu': {'r': 1.0}, '\\t\\neur': {'\\t': 1.0}, '\\neur\\t': {'\\n': 1.0}, 'eur\\t\\n': {'r': 1.0}, 'ur\\t\\nr': {'e': 1.0}, 'r\\t\\nre': {'c': 1.0}, '\\t\\nrec': {'e': 1.0}, '\\nrece': {'i': 1.0}, 've\\t\\n7': {'3': 1.0}, 'e\\t\\n73': {'2': 1.0}, '\\t\\n732': {'5': 1.0}, '\\n7325': {'4': 1.0}, '73254': {'3': 1.0}, '32543': {'6': 1.0}, '25436': {'\\t': 1.0}, '5436\\t': {'\\n': 1.0}, '436\\t\\n': {'1': 1.0}, '36\\t\\n1': {'6': 1.0}, '6\\t\\n16': {'-': 1.0}, '\\t\\n16-': {'0': 1.0}, '\\n16-0': {'1': 1.0}, '16-01': {'-': 1.0}, '6-01-': {'2': 1.0}, '2020\\t': {'\\n': 1.0}, '020\\t\\n': {'r': 1.0}, '20\\t\\nr': {'e': 1.0}, '0\\t\\nre': {'j': 1.0}, '\\t\\nrej': {'e': 1.0}, '\\nreje': {'c': 1.0}, 'rejec': {'t': 1.0}, 'eject': {'e': 1.0}, 'jecte': {'d': 1.0}, 'ected': {'\\t': 0.5, ' ': 0.5}, 'cted\\t': {'\\n': 1.0}, 'ted\\t\\n': {'9': 1.0}, 'ed\\t\\n9': {'9': 1.0}, 'd\\t\\n99': {'3': 1.0}, '\\t\\n993': {'4': 1.0}, '\\n9934': {'3': 1.0}, '99343': {'6': 1.0}, '93436': {'0': 1.0}, '34360': {'\\t': 1.0}, '4360\\t': {'\\n': 1.0}, '360\\t\\n': {'\\n': 1.0}, '60\\t\\n\\n': {'t': 1.0}, '0\\t\\n\\nt': {'h': 1.0}, '\\n\\nhi,': {'\\n': 1.0}, '\\nhi,\\n': {'i': 1.0}, 'hi,\\ni': {' ': 1.0}, 'i,\\ni ': {'w': 1.0}, ',\\ni w': {'o': 1.0}, '\\ni wo': {'u': 1.0}, 'i wou': {'l': 1.0}, ' woul': {'d': 1.0}, 'would': {' ': 1.0}, 'ould ': {'l': 1.0}, 'uld l': {'i': 1.0}, 'ld li': {'k': 1.0}, 'd lik': {'e': 1.0}, ' like': {' ': 1.0}, 'like ': {'t': 1.0}, 'ike t': {'o': 1.0}, 'ke to': {' ': 1.0}, 'e to ': {'i': 0.3333333333333333, 'b': 0.6666666666666666}, 'lon p': {'a': 1.0}, 'on pa': {'r': 1.0}, 'n par': {'t': 1.0}, ' part': {'i': 1.0}, 'parti': {'a': 1.0}, 'artia': {'l': 1.0}, 'rtial': {'l': 0.5, ' ': 0.5}, 'tiall': {'y': 1.0}, 'ially': {' ': 1.0}, 'ally ': {'p': 1.0}, 'aid 4': {'4': 1.0}, 'id 44': {'8': 1.0}, 'd 448': {'6': 1.0}, ' 4486': {'6': 1.0}, '44866': {'9': 1.0}, '48669': {'1': 1.0}, '86691': {'6': 1.0}, '66916': {' ': 1.0}, '6916 ': {'g': 1.0}, '916 g': {'b': 1.0}, '16 gb': {'p': 1.0}, '6 gbp': {' ': 1.0}, ' gbp ': {'t': 1.0}, 'gbp t': {'o': 1.0}, 'bp to': {' ': 1.0}, 'p to ': {'a': 1.0}, ' 1014': {'9': 1.0}, '10149': {'8': 1.0}, '01498': {' ': 1.0}, '1498 ': {'o': 1.0}, '498 o': {'n': 1.0}, '98 on': {' ': 1.0}, '8 on ': {'2': 1.0}, ' on 2': {'0': 0.3333333333333333, '7': 0.3333333333333333, '2': 0.3333333333333333}, 'on 20': {'-': 1.0}, 'n 20-': {'0': 1.0}, ' 20-0': {'4': 1.0}, '20-04': {'-': 1.0}, '0-04-': {'2': 1.0}, '-04-2': {'0': 1.0}, '04-20': {'2': 1.0}, '4-202': {'0': 1.0}, '020.\\n': {'\\n': 1.0}, '20.\\n\\n': {'t': 1.0}, '0.\\n\\nt': {'h': 1.0}, '.\\n\\nth': {'a': 1.0}, '\\n\\npar': {'t': 1.0}, '\\npart': {'i': 1.0}, 'tial ': {'p': 1.0}, 'ial p': {'a': 1.0}, 'al pa': {'y': 1.0}, 'l pay': {'m': 1.0}, ' of 5': {'1': 0.5, '9': 0.5}, 'of 51': {'0': 1.0}, 'f 510': {'6': 1.0}, ' 5106': {'5': 1.0}, '51065': {'2': 1.0}, '10652': {'5': 1.0}, '06525': {'0': 1.0}, '65250': {' ': 1.0}, '5250 ': {'g': 1.0}, '250 g': {'b': 1.0}, '50 gb': {'p': 1.0}, '0 gbp': {' ': 1.0}, 'd 100': {'2': 0.5, '5': 0.5}, ' 1002': {'1': 1.0}, '10021': {'6': 1.0}, '00216': {' ': 1.0}, '0216 ': {'h': 1.0}, '216 h': {'a': 1.0}, '16 ha': {'s': 1.0}, '6 has': {' ': 1.0}, 'on 17': {'/': 1.0}, 'n 17/': {'0': 1.0}, ' 17/0': {'9': 1.0}, '17/09': {'/': 1.0}, '7/09/': {'2': 1.0}, '/09/2': {'0': 1.0}, '09/20': {'1': 1.0}, '9/201': {'9': 1.0}, '/2019': {' ': 0.5, '.': 0.5}, '2019 ': {'a': 1.0}, '019 a': {'n': 1.0}, '19 an': {'d': 1.0}, '9 and': {' ': 1.0}, 'and p': {'e': 1.0}, 'nd pe': {'n': 1.0}, 'd pen': {'d': 1.0}, ' pend': {'i': 1.0}, 'unt w': {'i': 1.0}, 'nt wi': {'l': 1.0}, 't wil': {'l': 1.0}, ' will': {' ': 1.0}, 'will ': {'b': 1.0}, 'ill b': {'e': 1.0}, 'll be': {' ': 1.0}, 'l be ': {'p': 1.0}, ' be p': {'a': 1.0}, 'be pa': {'i': 1.0}, 'e pai': {'d': 1.0}, 'aid l': {'a': 1.0}, 'id la': {'t': 1.0}, 'd lat': {'e': 1.0}, ' late': {'r': 1.0}, 'later': {'.': 1.0}, 'ater.': {' ': 1.0}, 'ter. ': {'\\n': 1.0}, 'r. \\nr': {'e': 1.0}, '. \\nre': {'g': 1.0}, ' \\nreg': {'a': 1.0}, '\\nrega': {'r': 1.0}, 'regar': {'d': 1.0}, 'egard': {'s': 1.0}, 'gards': {'\\n': 0.6, ',': 0.4}, 'ards\\n': {'k': 0.3333333333333333, 'm': 0.3333333333333333, 'g': 0.3333333333333333}, 'rds\\nk': {'e': 1.0}, 'ds\\nke': {'n': 1.0}, 's\\nken': {' ': 1.0}, '\\nken ': {'a': 1.0}, 'ken a': {'d': 1.0}, 'en ad': {'a': 1.0}, 'n ada': {'m': 1.0}, ' adam': {'s': 1.0}, 'adams': {'\\n': 1.0}, 'dams\\n': {'\\n': 1.0}, 'ams\\n\\n': {'p': 1.0}, 'ms\\n\\np': {'a': 1.0}, 's\\n\\npa': {'y': 1.0}, 'of 45': {'2': 1.0}, 'f 452': {'1': 1.0}, ' 4521': {'8': 1.0}, '45218': {'0': 1.0}, '52180': {'2': 1.0}, '21802': {'1': 1.0}, '18021': {' ': 1.0}, '8021 ': {'u': 1.0}, '021 u': {'s': 1.0}, '21 us': {'d': 1.0}, '1 usd': {' ': 1.0}, ' 1005': {'4': 1.0}, '10054': {'5': 1.0}, '00545': {' ': 1.0}, '0545 ': {'h': 1.0}, '545 h': {'a': 1.0}, '45 ha': {'s': 1.0}, 'een r': {'e': 1.0}, 'en re': {'j': 1.0}, 'n rej': {'e': 1.0}, ' reje': {'c': 1.0}, 'cted ': {'o': 1.0}, 'ted o': {'n': 1.0}, 'ed on': {' ': 1.0}, 'd on ': {'2': 0.5, '1': 0.5}, 'on 27': {'/': 1.0}, 'n 27/': {'0': 1.0}, ' 27/0': {'4': 1.0}, '27/04': {'/': 1.0}, '7/04/': {'2': 1.0}, '/04/2': {'0': 1.0}, '04/20': {'2': 1.0}, '4/202': {'0': 1.0}, '0. \\np': {'l': 1.0}, '. \\npl': {'e': 1.0}, ' \\nple': {'a': 1.0}, 'ase g': {'u': 1.0}, 'se gu': {'i': 1.0}, 'e gui': {'d': 1.0}, 'ide m': {'e': 1.0}, 'de me': {' ': 1.0}, 'e me ': {'t': 1.0}, ' me t': {'h': 1.0}, 'me th': {'r': 1.0}, 'e thr': {'o': 1.0}, ' thro': {'u': 1.0}, 'throu': {'g': 1.0}, 'hroug': {'h': 1.0}, 'rough': {' ': 1.0}, 'ough ': {'t': 1.0}, 'ugh t': {'h': 1.0}, 'gh th': {'e': 1.0}, 'h the': {' ': 1.0}, ' the ': {'f': 1.0}, 'the f': {'u': 1.0}, 'he fu': {'r': 1.0}, 'ther ': {'s': 0.5, 'a': 0.5}, 'her s': {'t': 1.0}, 'er st': {'e': 1.0}, 'r ste': {'p': 1.0}, ' step': {'s': 1.0}, 'steps': {' ': 1.0}, 'teps ': {'t': 1.0}, 'eps t': {'h': 1.0}, 'ps th': {'a': 1.0}, 's tha': {'t': 1.0}, 'hat a': {'r': 1.0}, 'at ar': {'e': 1.0}, 't are': {' ': 1.0}, ' are ': {'t': 1.0}, 'are t': {'o': 1.0}, 're to': {' ': 1.0}, ' to b': {'e': 1.0}, 'to be': {' ': 1.0}, 'o be ': {'t': 1.0}, ' be t': {'a': 1.0}, 'be ta': {'k': 1.0}, 'e tak': {'e': 1.0}, ' take': {'n': 1.0}, 'taken': {'.': 1.0}, 'aken.': {'\\n': 1.0}, 'ken.\\n': {'r': 1.0}, 'en.\\nr': {'e': 1.0}, 'n.\\nre': {'g': 1.0}, '.\\nreg': {'a': 1.0}, 'rds\\nm': {'a': 1.0}, 'ds\\nma': {'r': 1.0}, 's\\nmar': {'y': 1.0}, '\\nmary': {' ': 1.0}, 'mary ': {'a': 1.0}, 'ary a': {'n': 1.0}, 'ry an': {'n': 1.0}, 'y ann': {'e': 1.0}, ' anne': {'\\n': 1.0}, 'anne\\n': {'\\n': 1.0}, 'nne\\n\\n': {'p': 1.0}, 'ne\\n\\np': {'a': 1.0}, 'e\\n\\npa': {'y': 1.0}, 'of 59': {'3': 1.0}, 'f 593': {'6': 1.0}, ' 5936': {'9': 1.0}, '59369': {'4': 1.0}, '93694': {'5': 1.0}, '36945': {'1': 1.0}, '69451': {' ': 1.0}, '9451 ': {'e': 1.0}, '451 e': {'u': 1.0}, '51 eu': {'r': 1.0}, '1 eur': {' ': 1.0}, ' eur ': {'t': 1.0}, 'eur t': {'o': 1.0}, 'ur to': {' ': 1.0}, 'r to ': {'a': 1.0}, 'd 107': {'4': 1.0}, ' 1074': {'4': 1.0}, '10744': {'9': 1.0}, '07449': {' ': 1.0}, '7449 ': {'h': 1.0}, '449 h': {'a': 1.0}, '49 ha': {'s': 1.0}, '9 has': {' ': 1.0}, 'as fa': {'i': 1.0}, 's fai': {'l': 1.0}, 'led o': {'n': 1.0}, 'on 22': {'/': 1.0}, 'n 22/': {'0': 1.0}, ' 22/0': {'8': 1.0}, '22/08': {'/': 1.0}, '2/08/': {'2': 1.0}, '/08/2': {'0': 1.0}, '08/20': {'2': 1.0}, '8/202': {'0': 1.0}, '0. \\nk': {'i': 1.0}, '. \\nki': {'n': 1.0}, ' \\nkin': {'d': 1.0}, '\\nkind': {'l': 1.0}, 'kindl': {'y': 1.0}, 'indly': {' ': 1.0}, 'ndly ': {'r': 0.3333333333333333, 'a': 0.6666666666666666}, 'dly r': {'e': 1.0}, 'ly re': {'p': 1.0}, 'y rep': {'l': 1.0}, ' repl': {'y': 1.0}, 'reply': {' ': 1.0}, 'eply ': {'w': 1.0}, 'ply w': {'i': 1.0}, 'ly wi': {'t': 1.0}, 'y wit': {'h': 1.0}, ' with': {' ': 1.0}, 'with ': {'t': 1.0}, 'ith t': {'h': 1.0}, 'th th': {'e': 1.0}, 'her a': {'c': 1.0}, 'er ac': {'t': 1.0}, 'r act': {'i': 1.0}, ' acti': {'o': 1.0}, 'actio': {'n': 1.0}, 'ction': {'s': 1.0}, 'tions': {' ': 1.0}, 'ions ': {'t': 1.0}, 'ons t': {'h': 1.0}, 'ns th': {'a': 1.0}, 'rds\\ng': {'e': 1.0}, 'ds\\nge': {'o': 1.0}, 's\\ngeo': {'r': 1.0}, '\\ngeor': {'g': 1.0}, 'georg': {'e': 1.0}, 'eorge': {' ': 1.0}, 'orge ': {'r': 1.0}, 'rge r': {'a': 1.0}, 'ge ra': {'n': 1.0}, 'e ran': {'d': 1.0}, ' rand': {'a': 1.0}, 'randa': {'l': 1.0}, 'andal': {'l': 1.0}, 'ndall': {'\\n': 1.0}, 'dall\\n': {'\\n': 1.0}, 'all\\n\\n': {'p': 1.0}, 'll\\n\\np': {'a': 1.0}, 'l\\n\\npa': {'y': 1.0}, ' of 9': {'6': 1.0}, 'of 96': {'8': 1.0}, 'f 968': {'2': 1.0}, ' 9682': {'6': 1.0}, '96826': {'2': 1.0}, '68262': {'9': 1.0}, '82629': {'0': 1.0}, '26290': {' ': 1.0}, '6290 ': {'e': 1.0}, '290 e': {'u': 1.0}, '90 eu': {'r': 1.0}, '0 eur': {' ': 1.0}, ' 1018': {'7': 1.0}, '10187': {'7': 1.0}, '01877': {' ': 1.0}, '1877 ': {'i': 1.0}, '877 i': {'s': 1.0}, '77 is': {' ': 1.0}, '7 is ': {'i': 1.0}, 'ress ': {'a': 1.0}, 'ess a': {'s': 1.0}, 'ss as': {' ': 1.0}, 's as ': {'d': 1.0}, ' as d': {'a': 1.0}, 'as da': {'t': 1.0}, 's dat': {'e': 1.0}, 'dated': {' ': 1.0}, 'ated ': {'o': 1.0}, 'on 11': {'/': 1.0}, 'n 11/': {'0': 1.0}, ' 11/0': {'5': 1.0}, '11/05': {'/': 1.0}, '1/05/': {'2': 1.0}, '/05/2': {'0': 1.0}, '05/20': {'1': 1.0}, '5/201': {'9': 1.0}, '2019.': {' ': 1.0}, '019. ': {'\\n': 1.0}, '19. \\n': {'k': 1.0}, '9. \\nk': {'i': 1.0}, 'dly a': {'c': 1.0}, 'ly ac': {'k': 1.0}, 'y ack': {'n': 1.0}, 'ge. \\n': {'t': 0.5, 'r': 0.5}, 'e. \\nt': {'h': 1.0}, '. \\nth': {'a': 1.0}, ' \\ntha': {'n': 1.0}, 'anks ': {'a': 1.0}, 'nks a': {'n': 1.0}, 'ks an': {'d': 1.0}, 's and': {' ': 1.0}, 'and r': {'e': 1.0}, 'nd re': {'g': 1.0}, 'd reg': {'a': 1.0}, ' rega': {'r': 1.0}, 'ards,': {'\\n': 1.0}, 'rds,\\n': {'a': 0.5, 'w': 0.5}, 'ds,\\na': {'v': 1.0}, 's,\\nav': {'a': 1.0}, ',\\nava': {' ': 1.0}, '\\nava ': {'m': 1.0}, 'ava m': {'i': 1.0}, 'va mi': {'l': 1.0}, 'a mil': {'l': 1.0}, ' mill': {'e': 1.0}, 'mille': {'r': 1.0}, 'iller': {'\\n': 1.0}, 'ller\\n': {'\\n': 1.0}, 'ler\\n\\n': {'f': 1.0}, 'er\\n\\nf': {'u': 1.0}, 'r\\n\\nfu': {'l': 1.0}, '\\n\\nful': {'l': 1.0}, '\\nfull': {' ': 1.0}, 'full ': {'p': 1.0}, 'ull p': {'a': 1.0}, 'll pa': {'y': 1.0}, ' of 2': {'4': 1.0}, 'of 24': {'6': 1.0}, 'f 246': {'8': 1.0}, ' 2468': {'5': 1.0}, '24685': {'4': 1.0}, '46854': {'6': 1.0}, '68546': {'9': 1.0}, '85469': {' ': 1.0}, '5469 ': {'c': 1.0}, '469 c': {'a': 1.0}, '69 ca': {'d': 1.0}, '9 cad': {' ': 1.0}, 'd 102': {'2': 1.0}, ' 1022': {'2': 1.0}, '10222': {'9': 1.0}, '02229': {' ': 1.0}, '2229 ': {'i': 1.0}, '229 i': {'s': 1.0}, '29 is': {' ': 1.0}, '9 is ': {'c': 1.0}, ' is c': {'o': 1.0}, 'is co': {'m': 1.0}, 's com': {'p': 1.0}, ' comp': {'l': 1.0}, 'compl': {'e': 1.0}, 'omple': {'t': 1.0}, 'mplet': {'e': 1.0}, 'plete': {'d': 1.0}, 'leted': {' ': 1.0}, 'eted ': {'a': 1.0}, 'ted a': {'s': 1.0}, 'ed as': {' ': 1.0}, 'd as ': {'d': 1.0}, 'on 13': {'/': 1.0}, 'n 13/': {'0': 1.0}, ' 13/0': {'3': 1.0}, '13/03': {'/': 1.0}, '3/03/': {'2': 1.0}, '/03/2': {'0': 1.0}, '03/20': {'2': 1.0}, '3/202': {'0': 1.0}, 'e. \\nr': {'e': 1.0}, 'ds,\\nw': {'a': 1.0}, 's,\\nwa': {'r': 1.0}, ',\\nwar': {'r': 1.0}, '\\nwarr': {'e': 1.0}, 'warre': {'n': 1.0}, 'arren': {' ': 1.0}, 'rren ': {'s': 1.0}, 'ren s': {'c': 1.0}, 'en sc': {'o': 1.0}, 'n sco': {'t': 1.0}, ' scot': {'t': 1.0}}\n"
     ]
    }
   ],
   "source": [
    "print(model)"
   ]
  },
  {
   "cell_type": "markdown",
   "metadata": {
    "colab_type": "text",
    "id": "dRBFCoeDCCeQ"
   },
   "source": [
    "## Generate Text at Text Time!\n"
   ]
  },
  {
   "cell_type": "code",
   "execution_count": 8,
   "metadata": {
    "colab": {},
    "colab_type": "code",
    "id": "BsNTGkDACCeQ"
   },
   "outputs": [],
   "source": [
    "import numpy as np"
   ]
  },
  {
   "cell_type": "code",
   "execution_count": 9,
   "metadata": {
    "colab": {},
    "colab_type": "code",
    "id": "lBnL-PDpCCeU",
    "outputId": "56e5ed36-3a99-4c41-ab4d-77ac4588f3f6",
    "scrolled": true
   },
   "outputs": [
    {
     "name": "stdout",
     "output_type": "stream",
     "text": [
      "apple\n",
      "apple\n",
      "apple\n",
      "banana\n",
      "apple\n",
      "apple\n",
      "apple\n",
      "apple\n",
      "apple\n",
      "banana\n"
     ]
    }
   ],
   "source": [
    "# random sampling !\n",
    "fruits = [\"apple\",\"banana\",\"mango\"]\n",
    "prob = [\"0.8\",\".1\",\"0.1\"]\n",
    "for i in range(10):\n",
    "    #sampling according a probability distribution\n",
    "    print(np.random.choice(fruits,p=prob))  \n",
    "    #print(np.random.choice(fruits)) will give approx same prob distr of all fruits\n"
   ]
  },
  {
   "cell_type": "code",
   "execution_count": 10,
   "metadata": {
    "colab": {},
    "colab_type": "code",
    "id": "LBzgK31TCCeX"
   },
   "outputs": [],
   "source": [
    "def sample_next(ctx,T,k):  #ctx: past sequence\n",
    "    ctx = ctx[-k:]\n",
    "    if T.get(ctx) is None:\n",
    "        return \" \"\n",
    "    possible_Chars = list(T[ctx].keys())\n",
    "    possible_values = list(T[ctx].values())\n",
    "    \n",
    "    #print(possible_Chars)\n",
    "    #print(possible_values)\n",
    "    return np.random.choice(possible_Chars,p=possible_values)"
   ]
  },
  {
   "cell_type": "code",
   "execution_count": 11,
   "metadata": {
    "colab": {},
    "colab_type": "code",
    "id": "SgC_moNmCCed",
    "outputId": "eb6143ab-b4a4-4dea-8fbe-2d49068aa9dd"
   },
   "outputs": [
    {
     "data": {
      "text/plain": [
       "'i'"
      ]
     },
     "execution_count": 11,
     "metadata": {},
     "output_type": "execute_result"
    }
   ],
   "source": [
    "sample_next(\"greet\",model,5)"
   ]
  },
  {
   "cell_type": "code",
   "execution_count": 12,
   "metadata": {
    "colab": {},
    "colab_type": "code",
    "id": "iw71SusJCCef"
   },
   "outputs": [],
   "source": [
    "def generateText(starting_sent,k,maxLen=1000):\n",
    "    \n",
    "    sentence = starting_sent\n",
    "    ctx = starting_sent[-k:] #last k chars\n",
    "    \n",
    "    for ix in range(maxLen):\n",
    "        next_prediction = sample_next(ctx,model,k)\n",
    "        sentence += next_prediction\n",
    "        ctx = sentence[-k:]\n",
    "    return sentence"
   ]
  },
  {
   "cell_type": "code",
   "execution_count": 22,
   "metadata": {
    "colab": {},
    "colab_type": "code",
    "id": "IXmtQne-CCei",
    "outputId": "11770eff-5ffa-4025-a1d2-0ccc1114678b"
   },
   "outputs": [
    {
     "name": "stdout",
     "output_type": "stream",
     "text": [
      "greetings cho,\n",
      "please find attached details of failed on 22/08/2020.\n",
      "\n",
      "thanks,\n",
      "joe.\n",
      "\n",
      "please acknowledge. \n",
      "regards,\n",
      "ava miller\n",
      "\n",
      "full payment of 45218021 usd to account id 101165 has fully paid amount: 2564636\t\n",
      "\n",
      "thanks.\n",
      "\n",
      "payment dated on 13/03/2020 and is in progress as date: 16-10-2019\t\n",
      "payment type: receive\t\n",
      "paid amount id 102229 is completed as dated on 17/09/2019. \n",
      "kindly reply with the further steps that bny mellon has fully paid 44866916 gbp to account id: 103285\t\n",
      "legal entity: citibank hongkong\t\n",
      "currency: cad\t\n",
      "payment of 51065250 gbp to account id: 103285\t\n",
      "legal entity: citibank hongkong\t\n",
      "currency: cad\t\n",
      "payment of 96826290 eur to account id 102229 is completed as date: 16-10-2019\t\n",
      "payment of 45218021 usd to account id: 103285\t\n",
      "legal entity: citibank singapore\t\n",
      "eur\t\n",
      "receive\t\n",
      "paid 80517212 usd to account id 104276 on 19/02/2020 and is in progress as dated on 11/05/2019 and is in progress. please guide me through the further actions that are to be taken.\n",
      "regards\n",
      "ken adams\n",
      "\n",
      "payment of 45218021 usd to account id 107449 has been made on 13/03/2020.\n",
      "\n",
      "thanks.\n",
      "\n",
      "hi tom,\n",
      "this is to inform you that bny mellon partially paid amount: 56327540\t\n",
      "payment of 51065250 gbp to account will be paid 80517212 usd to account id 104276 on 19/02/2020. \n",
      "\n",
      "thanks.\n",
      "\n",
      "partial payment date: 16-10-2019\t\n",
      "payment and guide further steps that bny mellon has failed on 15-01-2020.\n",
      "\n",
      "thanks.\n",
      "\n",
      "hi,\n",
      "i would like to inform you that bny mellon partial payment of 24685469 cad to account id: 103285\t\n",
      "legal entity: citibank hongkong\t\n",
      "currency: cad\t\n",
      "payment of 24685469 cad to account id 101165 has been made on 15-01-2020. \n",
      "kindly acknowledge. thanks and is in progress as dated on 27/04/2020 and guide further. \n",
      "regards,\n",
      "warren scott                                                                                                                                                                                                                                                                                                                                                                                                                                                                                                                                                                                                                                                                                                                                                                                                                        \n"
     ]
    }
   ],
   "source": [
    "#np.random.seed(11)\n",
    "text = generateText(\"greet\",k=5,maxLen=2500)\n",
    "print(text)"
   ]
  },
  {
   "cell_type": "code",
   "execution_count": 23,
   "metadata": {},
   "outputs": [
    {
     "data": {
      "text/plain": [
       "2505"
      ]
     },
     "execution_count": 23,
     "metadata": {},
     "output_type": "execute_result"
    }
   ],
   "source": [
    "len(text)"
   ]
  },
  {
   "cell_type": "code",
   "execution_count": 24,
   "metadata": {
    "colab": {},
    "colab_type": "code",
    "id": "fcystpvMCCel"
   },
   "outputs": [],
   "source": [
    "with open(\"output.txt\",'a') as f:\n",
    "    s=text\n",
    "    f.write(s)"
   ]
  },
  {
   "cell_type": "markdown",
   "metadata": {
    "colab_type": "text",
    "id": "KUzOs4eiCCeq"
   },
   "source": [
    "![](modi.gif)"
   ]
  },
  {
   "cell_type": "code",
   "execution_count": null,
   "metadata": {},
   "outputs": [],
   "source": []
  }
 ],
 "metadata": {
  "colab": {
   "name": "Markov_Chain_Class.ipynb",
   "provenance": []
  },
  "kernelspec": {
   "display_name": "Python 3",
   "language": "python",
   "name": "python3"
  },
  "language_info": {
   "codemirror_mode": {
    "name": "ipython",
    "version": 3
   },
   "file_extension": ".py",
   "mimetype": "text/x-python",
   "name": "python",
   "nbconvert_exporter": "python",
   "pygments_lexer": "ipython3",
   "version": "3.7.6"
  }
 },
 "nbformat": 4,
 "nbformat_minor": 1
}
