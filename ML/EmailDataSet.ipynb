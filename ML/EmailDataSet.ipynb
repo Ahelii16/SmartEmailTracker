{
 "cells": [
  {
   "cell_type": "code",
   "execution_count": 1,
   "metadata": {},
   "outputs": [],
   "source": [
    "#Email generation code"
   ]
  },
  {
   "cell_type": "code",
   "execution_count": 1,
   "metadata": {},
   "outputs": [],
   "source": [
    "import pandas as pd\n",
    "import random\n",
    "import datetime\n",
    "import import_ipynb"
   ]
  },
  {
   "cell_type": "code",
   "execution_count": 2,
   "metadata": {},
   "outputs": [
    {
     "name": "stdout",
     "output_type": "stream",
     "text": [
      "importing Jupyter notebook from msgbody.ipynb\n"
     ]
    }
   ],
   "source": [
    "import msgbody\n",
    "from msgbody import numgen, subjectGenerator, bodyGenerator"
   ]
  },
  {
   "cell_type": "code",
   "execution_count": 3,
   "metadata": {},
   "outputs": [],
   "source": [
    "fromClient=['@JPMorgan.com','@DEUTSCHEBANK.com','@BNYMellon.com','@HSBC.com','@SBI.com','@HDFC.com','@DESHAW.com']\n",
    "\n",
    "toCiti=['@CitiBankNewYork.com','@CitiBankLondon.com','@CitiBankPune.com','@CitiBankSingapore.com','@CitiBankHongKong.com']\n",
    "\n",
    "clientName=['Phillip','Mike','Jason','Adam','Morgan','Spike','Stacy','Dave','David','Bella','Angela','Stefanie','Archie','Jacob','Zachary','Yasmin']\n",
    "\n",
    "citiName=['Shai','Dipesh','Anthony','Isabella','Shaniece','Liam','Rishabh','Sumit','Suhail','Shubhanshu','Rohan','Neha','Patrick','Rudra','Elena']"
   ]
  },
  {
   "cell_type": "code",
   "execution_count": 17,
   "metadata": {},
   "outputs": [],
   "source": [
    "##BELOW IS THE CODE FOR A NUMBER IN SUBJECT AND BODY and Original Dataset generator"
   ]
  },
  {
   "cell_type": "code",
   "execution_count": 4,
   "metadata": {},
   "outputs": [],
   "source": [
    "dataset = []\n",
    "classes = [ 'Complete', 'Failed', 'Pending', 'Request', 'Processing', 'General']"
   ]
  },
  {
   "cell_type": "code",
   "execution_count": 5,
   "metadata": {},
   "outputs": [],
   "source": [
    "for i in range(5000):\n",
    "    client_email = random.choice(clientName) + random.choice(fromClient)\n",
    "    citi_email = random.choice(citiName) + random.choice(toCiti)\n",
    "    ID = numgen(6)\n",
    "    class_ = random.choice(classes)\n",
    "    subject = subjectGenerator(class_,str(ID))\n",
    "    body = bodyGenerator(class_,str(ID))\n",
    "    row = [client_email, citi_email, subject, body, class_, ID]\n",
    "    dataset.append(row)"
   ]
  },
  {
   "cell_type": "code",
   "execution_count": 6,
   "metadata": {},
   "outputs": [],
   "source": [
    "df = pd.DataFrame(dataset, columns = ['From', 'To','Subject','Body','Class','TransactionID'],index = [i+1 for i in range(len(dataset))])"
   ]
  },
  {
   "cell_type": "code",
   "execution_count": 7,
   "metadata": {},
   "outputs": [],
   "source": [
    "start_date = datetime.date(2018, 12, 1)\n",
    "end_date = datetime.date(2020, 5, 31)\n",
    "\n",
    "time_between_dates = end_date - start_date\n",
    "days_between_dates = time_between_dates.days\n",
    "date_column_data = [start_date + datetime.timedelta(days=random.randrange(days_between_dates)) for i in range(len(dataset))]"
   ]
  },
  {
   "cell_type": "code",
   "execution_count": 8,
   "metadata": {},
   "outputs": [],
   "source": [
    "df['Payment Date'] = date_column_data"
   ]
  },
  {
   "cell_type": "code",
   "execution_count": 9,
   "metadata": {},
   "outputs": [
    {
     "data": {
      "text/plain": [
       "(5000, 7)"
      ]
     },
     "execution_count": 9,
     "metadata": {},
     "output_type": "execute_result"
    }
   ],
   "source": [
    "df.shape"
   ]
  },
  {
   "cell_type": "code",
   "execution_count": 10,
   "metadata": {},
   "outputs": [
    {
     "data": {
      "text/html": [
       "<div>\n",
       "<style scoped>\n",
       "    .dataframe tbody tr th:only-of-type {\n",
       "        vertical-align: middle;\n",
       "    }\n",
       "\n",
       "    .dataframe tbody tr th {\n",
       "        vertical-align: top;\n",
       "    }\n",
       "\n",
       "    .dataframe thead th {\n",
       "        text-align: right;\n",
       "    }\n",
       "</style>\n",
       "<table border=\"1\" class=\"dataframe\">\n",
       "  <thead>\n",
       "    <tr style=\"text-align: right;\">\n",
       "      <th></th>\n",
       "      <th>From</th>\n",
       "      <th>To</th>\n",
       "      <th>Subject</th>\n",
       "      <th>Body</th>\n",
       "      <th>Class</th>\n",
       "      <th>TransactionID</th>\n",
       "      <th>Payment Date</th>\n",
       "    </tr>\n",
       "  </thead>\n",
       "  <tbody>\n",
       "    <tr>\n",
       "      <th>1</th>\n",
       "      <td>Bella@HDFC.com</td>\n",
       "      <td>Neha@CitiBankHongKong.com</td>\n",
       "      <td>Soliciting information for ID : 039753</td>\n",
       "      <td>Urgently require details of acc 039753 reply asap</td>\n",
       "      <td>Request</td>\n",
       "      <td>039753</td>\n",
       "      <td>2019-11-03</td>\n",
       "    </tr>\n",
       "    <tr>\n",
       "      <th>2</th>\n",
       "      <td>Phillip@HDFC.com</td>\n",
       "      <td>Rishabh@CitiBankLondon.com</td>\n",
       "      <td>Incomplete transaction 601769</td>\n",
       "      <td>The transaction 601769 is taking too long to c...</td>\n",
       "      <td>Pending</td>\n",
       "      <td>601769</td>\n",
       "      <td>2018-12-25</td>\n",
       "    </tr>\n",
       "    <tr>\n",
       "      <th>3</th>\n",
       "      <td>Jason@HDFC.com</td>\n",
       "      <td>Patrick@CitiBankLondon.com</td>\n",
       "      <td>Transaction 326405 is now being processed.</td>\n",
       "      <td>Thank you for transferring the payment to my a...</td>\n",
       "      <td>Processing</td>\n",
       "      <td>326405</td>\n",
       "      <td>2019-12-12</td>\n",
       "    </tr>\n",
       "    <tr>\n",
       "      <th>4</th>\n",
       "      <td>Phillip@DESHAW.com</td>\n",
       "      <td>Shai@CitiBankPune.com</td>\n",
       "      <td>Imploring update on transaction : 802497</td>\n",
       "      <td>Can you please tell me the amount transferred ...</td>\n",
       "      <td>Request</td>\n",
       "      <td>802497</td>\n",
       "      <td>2020-03-19</td>\n",
       "    </tr>\n",
       "    <tr>\n",
       "      <th>5</th>\n",
       "      <td>Zachary@BNYMellon.com</td>\n",
       "      <td>Patrick@CitiBankNewYork.com</td>\n",
       "      <td>Payment done and Transaction 402338 settled.</td>\n",
       "      <td>Greetings! I wanted to let you know that I hav...</td>\n",
       "      <td>Complete</td>\n",
       "      <td>402338</td>\n",
       "      <td>2019-03-14</td>\n",
       "    </tr>\n",
       "  </tbody>\n",
       "</table>\n",
       "</div>"
      ],
      "text/plain": [
       "                    From                           To  \\\n",
       "1         Bella@HDFC.com    Neha@CitiBankHongKong.com   \n",
       "2       Phillip@HDFC.com   Rishabh@CitiBankLondon.com   \n",
       "3         Jason@HDFC.com   Patrick@CitiBankLondon.com   \n",
       "4     Phillip@DESHAW.com        Shai@CitiBankPune.com   \n",
       "5  Zachary@BNYMellon.com  Patrick@CitiBankNewYork.com   \n",
       "\n",
       "                                        Subject  \\\n",
       "1        Soliciting information for ID : 039753   \n",
       "2                 Incomplete transaction 601769   \n",
       "3    Transaction 326405 is now being processed.   \n",
       "4      Imploring update on transaction : 802497   \n",
       "5  Payment done and Transaction 402338 settled.   \n",
       "\n",
       "                                                Body       Class  \\\n",
       "1  Urgently require details of acc 039753 reply asap     Request   \n",
       "2  The transaction 601769 is taking too long to c...     Pending   \n",
       "3  Thank you for transferring the payment to my a...  Processing   \n",
       "4  Can you please tell me the amount transferred ...     Request   \n",
       "5  Greetings! I wanted to let you know that I hav...    Complete   \n",
       "\n",
       "  TransactionID Payment Date  \n",
       "1        039753   2019-11-03  \n",
       "2        601769   2018-12-25  \n",
       "3        326405   2019-12-12  \n",
       "4        802497   2020-03-19  \n",
       "5        402338   2019-03-14  "
      ]
     },
     "execution_count": 10,
     "metadata": {},
     "output_type": "execute_result"
    }
   ],
   "source": [
    "#This the DataSet we Have generated\n",
    "df.head()"
   ]
  },
  {
   "cell_type": "code",
   "execution_count": 11,
   "metadata": {},
   "outputs": [
    {
     "data": {
      "text/plain": [
       "(4726, 7)"
      ]
     },
     "execution_count": 11,
     "metadata": {},
     "output_type": "execute_result"
    }
   ],
   "source": [
    "df.drop_duplicates(subset=['Subject','Body'],keep='first',inplace = True)\n",
    "df.shape"
   ]
  },
  {
   "cell_type": "code",
   "execution_count": 12,
   "metadata": {},
   "outputs": [],
   "source": [
    "df.to_csv(r'C:\\Users\\OINDREELA\\Desktop\\temp\\emaildataset.csv', index = False)"
   ]
  },
  {
   "cell_type": "code",
   "execution_count": null,
   "metadata": {},
   "outputs": [],
   "source": []
  }
 ],
 "metadata": {
  "kernelspec": {
   "display_name": "Python 3",
   "language": "python",
   "name": "python3"
  },
  "language_info": {
   "codemirror_mode": {
    "name": "ipython",
    "version": 3
   },
   "file_extension": ".py",
   "mimetype": "text/x-python",
   "name": "python",
   "nbconvert_exporter": "python",
   "pygments_lexer": "ipython3",
   "version": "3.7.7"
  }
 },
 "nbformat": 4,
 "nbformat_minor": 2
}
