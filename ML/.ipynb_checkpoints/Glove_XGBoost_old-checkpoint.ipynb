{
 "cells": [
  {
   "cell_type": "markdown",
   "metadata": {
    "colab_type": "text",
    "id": "aRCS8lZB4w3o"
   },
   "source": [
    "# Few-Shot Learning Email Classification with Pre-Trained Word2Vec Embeddings"
   ]
  },
  {
   "cell_type": "code",
   "execution_count": 1,
   "metadata": {
    "colab": {},
    "colab_type": "code",
    "id": "ZyqSa0W9MAth"
   },
   "outputs": [],
   "source": [
    "import pandas as pd\n",
    "import numpy as np\n",
    "from random import seed\n",
    "from random import sample\n",
    "from wordfile import func\n",
    "from sklearn.model_selection import train_test_split\n",
    "import matplotlib.pyplot as plt\n",
    "import re\n",
    "import joblib\n",
    "from sklearn.decomposition import PCA\n",
    "from sklearn.metrics import accuracy_score\n",
    "from scipy import spatial\n",
    "import os\n",
    "import spacy\n",
    "import en_core_web_sm"
   ]
  },
  {
   "cell_type": "code",
   "execution_count": 2,
   "metadata": {
    "colab": {
     "base_uri": "https://localhost:8080/",
     "height": 87
    },
    "colab_type": "code",
    "id": "5vn8VEhgMAtm",
    "outputId": "7baa3702-bf5f-43a9-ebec-5fb77396808c"
   },
   "outputs": [],
   "source": [
    "embeddings_index = {}\n",
    "with open('/home/aheli/glove.6B.300d.txt',encoding='utf-8') as f:\n",
    "    for line in f:\n",
    "        values = line.split()\n",
    "        word = values[0]\n",
    "        coeffs = np.asarray(values[1:],dtype='float32')\n",
    "        embeddings_index[word] = coeffs\n",
    "    f.close()"
   ]
  },
  {
   "cell_type": "code",
   "execution_count": 3,
   "metadata": {
    "colab": {
     "base_uri": "https://localhost:8080/",
     "height": 73,
     "resources": {
      "http://localhost:8080/nbextensions/google.colab/files.js": {
       "data": "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",
       "headers": [
        [
         "content-type",
         "application/javascript"
        ]
       ],
       "ok": true,
       "status": 200,
       "status_text": ""
      }
     }
    },
    "colab_type": "code",
    "id": "Te79WnJnNpt5",
    "outputId": "dcf855f3-f2a8-4ff9-f160-192c099a03eb"
   },
   "outputs": [],
   "source": [
    "# from google.colab import files\n",
    "# uploaded = files.upload()"
   ]
  },
  {
   "cell_type": "code",
   "execution_count": 152,
   "metadata": {},
   "outputs": [],
   "source": [
    "seed(40) \n",
    "np.random.seed(40)"
   ]
  },
  {
   "cell_type": "code",
   "execution_count": 207,
   "metadata": {
    "colab": {
     "base_uri": "https://localhost:8080/",
     "height": 195
    },
    "colab_type": "code",
    "id": "Ww7cY-xAMAtq",
    "outputId": "13c525e7-7a88-414f-88fb-66ea445815f2"
   },
   "outputs": [],
   "source": [
    "df = pd.read_csv(\"/home/aheli/Downloads/emaildataset.csv\", usecols = ['Subject','Body', 'Class'])\n",
    "df = df.replace(np.nan, '', regex=True)"
   ]
  },
  {
   "cell_type": "code",
   "execution_count": 208,
   "metadata": {
    "colab": {},
    "colab_type": "code",
    "id": "dWU9SwcHZLAP"
   },
   "outputs": [],
   "source": [
    "df = df.sample(frac=1, random_state=10).reset_index(drop=True) # 10/12 rs=1, 11/13 rs=10"
   ]
  },
  {
   "cell_type": "code",
   "execution_count": 209,
   "metadata": {},
   "outputs": [
    {
     "data": {
      "text/html": [
       "<div>\n",
       "<style scoped>\n",
       "    .dataframe tbody tr th:only-of-type {\n",
       "        vertical-align: middle;\n",
       "    }\n",
       "\n",
       "    .dataframe tbody tr th {\n",
       "        vertical-align: top;\n",
       "    }\n",
       "\n",
       "    .dataframe thead th {\n",
       "        text-align: right;\n",
       "    }\n",
       "</style>\n",
       "<table border=\"1\" class=\"dataframe\">\n",
       "  <thead>\n",
       "    <tr style=\"text-align: right;\">\n",
       "      <th></th>\n",
       "      <th>Subject</th>\n",
       "      <th>Body</th>\n",
       "      <th>Class</th>\n",
       "    </tr>\n",
       "  </thead>\n",
       "  <tbody>\n",
       "    <tr>\n",
       "      <th>954</th>\n",
       "      <td>Transaction 347606 is complete</td>\n",
       "      <td>I deeply appreciate your quick service as I ha...</td>\n",
       "      <td>Complete</td>\n",
       "    </tr>\n",
       "    <tr>\n",
       "      <th>955</th>\n",
       "      <td>Sorted out the transaction with ID : 686668</td>\n",
       "      <td>To whom it may concern, I have successfully re...</td>\n",
       "      <td>Complete</td>\n",
       "    </tr>\n",
       "    <tr>\n",
       "      <th>956</th>\n",
       "      <td>Partially paid the required amount for transac...</td>\n",
       "      <td>Hey, sincere apologies for transferring a frac...</td>\n",
       "      <td>Pending</td>\n",
       "    </tr>\n",
       "    <tr>\n",
       "      <th>957</th>\n",
       "      <td>Fulfilled transaction having ID : 860755</td>\n",
       "      <td>Hello! Sincere greetings for the day. I would ...</td>\n",
       "      <td>Complete</td>\n",
       "    </tr>\n",
       "    <tr>\n",
       "      <th>958</th>\n",
       "      <td>Finalized transaction of ID : 571919</td>\n",
       "      <td>I deeply appreciate your quick service as I ha...</td>\n",
       "      <td>Complete</td>\n",
       "    </tr>\n",
       "    <tr>\n",
       "      <th>959</th>\n",
       "      <td>Transaction 976478 stalled and payment not rec...</td>\n",
       "      <td>Hey, I see my transaction with ID 976478 has f...</td>\n",
       "      <td>Failed</td>\n",
       "    </tr>\n",
       "    <tr>\n",
       "      <th>960</th>\n",
       "      <td>Payment received for transaction : 809031 and ...</td>\n",
       "      <td>Thank you for transferring the payment to my a...</td>\n",
       "      <td>Processing</td>\n",
       "    </tr>\n",
       "    <tr>\n",
       "      <th>961</th>\n",
       "      <td>Dealing with the transaction 045840</td>\n",
       "      <td>This is in response to your email notifying ab...</td>\n",
       "      <td>Processing</td>\n",
       "    </tr>\n",
       "    <tr>\n",
       "      <th>962</th>\n",
       "      <td>Payment done and Transaction 787228 settled.</td>\n",
       "      <td>To whom it may concern, I have successfully re...</td>\n",
       "      <td>Complete</td>\n",
       "    </tr>\n",
       "    <tr>\n",
       "      <th>963</th>\n",
       "      <td>Partial payment for transaction 547345</td>\n",
       "      <td>I regret to inform you the I could only pay th...</td>\n",
       "      <td>Pending</td>\n",
       "    </tr>\n",
       "    <tr>\n",
       "      <th>964</th>\n",
       "      <td>How to change PIN no of ATM card?</td>\n",
       "      <td>I need a new cheque book of 25 leaves. Kindly ...</td>\n",
       "      <td>General</td>\n",
       "    </tr>\n",
       "    <tr>\n",
       "      <th>965</th>\n",
       "      <td>Processing transaction having ID : 064742</td>\n",
       "      <td>Acknowledging the received payment for transac...</td>\n",
       "      <td>Processing</td>\n",
       "    </tr>\n",
       "    <tr>\n",
       "      <th>966</th>\n",
       "      <td>Impetrating details for ID : 089764</td>\n",
       "      <td>I request you to kindly send the status of my ...</td>\n",
       "      <td>Request</td>\n",
       "    </tr>\n",
       "    <tr>\n",
       "      <th>967</th>\n",
       "      <td>Seeking update on the status of transaction 66...</td>\n",
       "      <td>Can you please tell me the amount transferred ...</td>\n",
       "      <td>Request</td>\n",
       "    </tr>\n",
       "    <tr>\n",
       "      <th>968</th>\n",
       "      <td></td>\n",
       "      <td>Please send me a confirmation about the cancel...</td>\n",
       "      <td>CreditCard</td>\n",
       "    </tr>\n",
       "    <tr>\n",
       "      <th>969</th>\n",
       "      <td>Transaction 127082 stalled and payment not rec...</td>\n",
       "      <td>This is in response to your email stating that...</td>\n",
       "      <td>Failed</td>\n",
       "    </tr>\n",
       "    <tr>\n",
       "      <th>970</th>\n",
       "      <td>Required money acquired. Transaction 317709 is...</td>\n",
       "      <td>This is in response to your email notifying ab...</td>\n",
       "      <td>Processing</td>\n",
       "    </tr>\n",
       "    <tr>\n",
       "      <th>971</th>\n",
       "      <td>Payment is pending for transaction 974219</td>\n",
       "      <td>The transaction 974219 is taking too long to c...</td>\n",
       "      <td>Pending</td>\n",
       "    </tr>\n",
       "    <tr>\n",
       "      <th>972</th>\n",
       "      <td>Incomplete transaction 799516</td>\n",
       "      <td>The transaction 799516 is taking too long to c...</td>\n",
       "      <td>Pending</td>\n",
       "    </tr>\n",
       "    <tr>\n",
       "      <th>973</th>\n",
       "      <td>Request to send details of transaction 724625</td>\n",
       "      <td>Hey, I would be really grateful if you could t...</td>\n",
       "      <td>Request</td>\n",
       "    </tr>\n",
       "    <tr>\n",
       "      <th>974</th>\n",
       "      <td>New Cheque book</td>\n",
       "      <td>I need a new cheque book of 25 leaves. Kindly ...</td>\n",
       "      <td>General</td>\n",
       "    </tr>\n",
       "    <tr>\n",
       "      <th>975</th>\n",
       "      <td>Asking for the details for transaction 428457</td>\n",
       "      <td>A detailed update on the transaction would be ...</td>\n",
       "      <td>Request</td>\n",
       "    </tr>\n",
       "    <tr>\n",
       "      <th>976</th>\n",
       "      <td>Partial payment for transaction 924317</td>\n",
       "      <td>Since my transaction 924317 is still pending, ...</td>\n",
       "      <td>Pending</td>\n",
       "    </tr>\n",
       "    <tr>\n",
       "      <th>977</th>\n",
       "      <td>Required money acquired. Transaction 863212 is...</td>\n",
       "      <td>Acknowledging the received payment for transac...</td>\n",
       "      <td>Processing</td>\n",
       "    </tr>\n",
       "    <tr>\n",
       "      <th>978</th>\n",
       "      <td>Payment received for transaction : 677683 and ...</td>\n",
       "      <td>Sincere greetings, I am glad to tell you that ...</td>\n",
       "      <td>Processing</td>\n",
       "    </tr>\n",
       "    <tr>\n",
       "      <th>979</th>\n",
       "      <td>Required money acquired. Transaction 965552 is...</td>\n",
       "      <td>Hello! This is to inform you that I have recei...</td>\n",
       "      <td>Processing</td>\n",
       "    </tr>\n",
       "    <tr>\n",
       "      <th>980</th>\n",
       "      <td>Processing transaction having ID : 134746</td>\n",
       "      <td>This is in response to your email notifying ab...</td>\n",
       "      <td>Processing</td>\n",
       "    </tr>\n",
       "    <tr>\n",
       "      <th>981</th>\n",
       "      <td>Payment outstanding for transaction 212082</td>\n",
       "      <td>I regret to inform you the I could only pay th...</td>\n",
       "      <td>Pending</td>\n",
       "    </tr>\n",
       "    <tr>\n",
       "      <th>982</th>\n",
       "      <td>Urgently required update on transaction 438505</td>\n",
       "      <td>I need details of 438505 urgently, please prov...</td>\n",
       "      <td>Request</td>\n",
       "    </tr>\n",
       "    <tr>\n",
       "      <th>983</th>\n",
       "      <td>Incomplete transaction 298053</td>\n",
       "      <td>I regret to inform you the I could only pay th...</td>\n",
       "      <td>Pending</td>\n",
       "    </tr>\n",
       "    <tr>\n",
       "      <th>984</th>\n",
       "      <td>Seeking update on the status of transaction 63...</td>\n",
       "      <td>I request you to kindly send the status of my ...</td>\n",
       "      <td>Request</td>\n",
       "    </tr>\n",
       "    <tr>\n",
       "      <th>985</th>\n",
       "      <td>Processing transaction having ID : 878445</td>\n",
       "      <td>Sincere greetings, I am glad to tell you that ...</td>\n",
       "      <td>Processing</td>\n",
       "    </tr>\n",
       "    <tr>\n",
       "      <th>986</th>\n",
       "      <td>Want to block account 574380</td>\n",
       "      <td>Hey, I think I lost my ATM card today so can y...</td>\n",
       "      <td>General</td>\n",
       "    </tr>\n",
       "    <tr>\n",
       "      <th>987</th>\n",
       "      <td>Partially paid the required amount for transac...</td>\n",
       "      <td>Hello!! Greetings for the day. Status of trans...</td>\n",
       "      <td>Pending</td>\n",
       "    </tr>\n",
       "    <tr>\n",
       "      <th>988</th>\n",
       "      <td>Transaction 842933 has failed!</td>\n",
       "      <td>This is in response to your email stating that...</td>\n",
       "      <td>Failed</td>\n",
       "    </tr>\n",
       "    <tr>\n",
       "      <th>989</th>\n",
       "      <td>Urgently required update on transaction 837136</td>\n",
       "      <td>Can you please tell me the amount transferred ...</td>\n",
       "      <td>Request</td>\n",
       "    </tr>\n",
       "    <tr>\n",
       "      <th>990</th>\n",
       "      <td>Incomplete transaction 947071</td>\n",
       "      <td>I regret to inform you that I could only pay t...</td>\n",
       "      <td>Pending</td>\n",
       "    </tr>\n",
       "    <tr>\n",
       "      <th>991</th>\n",
       "      <td>Partial payment for transaction 628616</td>\n",
       "      <td>There has been only a partial payment of amoun...</td>\n",
       "      <td>Pending</td>\n",
       "    </tr>\n",
       "    <tr>\n",
       "      <th>992</th>\n",
       "      <td>Partially paid the required amount for transac...</td>\n",
       "      <td>I regret to inform you the I could only pay th...</td>\n",
       "      <td>Pending</td>\n",
       "    </tr>\n",
       "    <tr>\n",
       "      <th>993</th>\n",
       "      <td>Change address for account no. 714026</td>\n",
       "      <td>This is to inform you that I am not able to wi...</td>\n",
       "      <td>General</td>\n",
       "    </tr>\n",
       "    <tr>\n",
       "      <th>994</th>\n",
       "      <td>Urgent : Transaction 133406 ceased.</td>\n",
       "      <td>I have been your regular client and have follo...</td>\n",
       "      <td>Failed</td>\n",
       "    </tr>\n",
       "    <tr>\n",
       "      <th>995</th>\n",
       "      <td></td>\n",
       "      <td>Please send a confirmation letter stating that...</td>\n",
       "      <td>CreditCard</td>\n",
       "    </tr>\n",
       "    <tr>\n",
       "      <th>996</th>\n",
       "      <td>Want to block account 904499</td>\n",
       "      <td>Hey, Can you please block my account? I no lon...</td>\n",
       "      <td>General</td>\n",
       "    </tr>\n",
       "    <tr>\n",
       "      <th>997</th>\n",
       "      <td>Partially paid the required amount for transac...</td>\n",
       "      <td>There has been only a partial payment of amoun...</td>\n",
       "      <td>Pending</td>\n",
       "    </tr>\n",
       "    <tr>\n",
       "      <th>998</th>\n",
       "      <td>Asking for the details for transaction 399726</td>\n",
       "      <td>Kindly reply to me at the earliest with the la...</td>\n",
       "      <td>Request</td>\n",
       "    </tr>\n",
       "    <tr>\n",
       "      <th>999</th>\n",
       "      <td>Accepted payment. Transaction373424 currently ...</td>\n",
       "      <td>Hello! This is to inform you that I have recei...</td>\n",
       "      <td>Processing</td>\n",
       "    </tr>\n",
       "    <tr>\n",
       "      <th>1000</th>\n",
       "      <td>Partial payment for transaction 349520</td>\n",
       "      <td>Hey, sincere apologies for transferring a frac...</td>\n",
       "      <td>Pending</td>\n",
       "    </tr>\n",
       "    <tr>\n",
       "      <th>1001</th>\n",
       "      <td></td>\n",
       "      <td>I have been a credit card user of your bank si...</td>\n",
       "      <td>CreditCard</td>\n",
       "    </tr>\n",
       "    <tr>\n",
       "      <th>1002</th>\n",
       "      <td>Completed transaction no. 980925</td>\n",
       "      <td>Hello! Sincere greetings for the day. I would ...</td>\n",
       "      <td>Complete</td>\n",
       "    </tr>\n",
       "    <tr>\n",
       "      <th>1003</th>\n",
       "      <td>Dealing with the transaction 465564</td>\n",
       "      <td>Hello! This is to inform you that I have recei...</td>\n",
       "      <td>Processing</td>\n",
       "    </tr>\n",
       "  </tbody>\n",
       "</table>\n",
       "</div>"
      ],
      "text/plain": [
       "                                                Subject  \\\n",
       "954                      Transaction 347606 is complete   \n",
       "955         Sorted out the transaction with ID : 686668   \n",
       "956   Partially paid the required amount for transac...   \n",
       "957            Fulfilled transaction having ID : 860755   \n",
       "958                Finalized transaction of ID : 571919   \n",
       "959   Transaction 976478 stalled and payment not rec...   \n",
       "960   Payment received for transaction : 809031 and ...   \n",
       "961                 Dealing with the transaction 045840   \n",
       "962        Payment done and Transaction 787228 settled.   \n",
       "963              Partial payment for transaction 547345   \n",
       "964                   How to change PIN no of ATM card?   \n",
       "965           Processing transaction having ID : 064742   \n",
       "966                 Impetrating details for ID : 089764   \n",
       "967   Seeking update on the status of transaction 66...   \n",
       "968                                                       \n",
       "969   Transaction 127082 stalled and payment not rec...   \n",
       "970   Required money acquired. Transaction 317709 is...   \n",
       "971           Payment is pending for transaction 974219   \n",
       "972                       Incomplete transaction 799516   \n",
       "973       Request to send details of transaction 724625   \n",
       "974                                     New Cheque book   \n",
       "975       Asking for the details for transaction 428457   \n",
       "976              Partial payment for transaction 924317   \n",
       "977   Required money acquired. Transaction 863212 is...   \n",
       "978   Payment received for transaction : 677683 and ...   \n",
       "979   Required money acquired. Transaction 965552 is...   \n",
       "980           Processing transaction having ID : 134746   \n",
       "981          Payment outstanding for transaction 212082   \n",
       "982      Urgently required update on transaction 438505   \n",
       "983                       Incomplete transaction 298053   \n",
       "984   Seeking update on the status of transaction 63...   \n",
       "985           Processing transaction having ID : 878445   \n",
       "986                        Want to block account 574380   \n",
       "987   Partially paid the required amount for transac...   \n",
       "988                      Transaction 842933 has failed!   \n",
       "989      Urgently required update on transaction 837136   \n",
       "990                       Incomplete transaction 947071   \n",
       "991              Partial payment for transaction 628616   \n",
       "992   Partially paid the required amount for transac...   \n",
       "993               Change address for account no. 714026   \n",
       "994                 Urgent : Transaction 133406 ceased.   \n",
       "995                                                       \n",
       "996                        Want to block account 904499   \n",
       "997   Partially paid the required amount for transac...   \n",
       "998       Asking for the details for transaction 399726   \n",
       "999   Accepted payment. Transaction373424 currently ...   \n",
       "1000             Partial payment for transaction 349520   \n",
       "1001                                                      \n",
       "1002                   Completed transaction no. 980925   \n",
       "1003                Dealing with the transaction 465564   \n",
       "\n",
       "                                                   Body       Class  \n",
       "954   I deeply appreciate your quick service as I ha...    Complete  \n",
       "955   To whom it may concern, I have successfully re...    Complete  \n",
       "956   Hey, sincere apologies for transferring a frac...     Pending  \n",
       "957   Hello! Sincere greetings for the day. I would ...    Complete  \n",
       "958   I deeply appreciate your quick service as I ha...    Complete  \n",
       "959   Hey, I see my transaction with ID 976478 has f...      Failed  \n",
       "960   Thank you for transferring the payment to my a...  Processing  \n",
       "961   This is in response to your email notifying ab...  Processing  \n",
       "962   To whom it may concern, I have successfully re...    Complete  \n",
       "963   I regret to inform you the I could only pay th...     Pending  \n",
       "964   I need a new cheque book of 25 leaves. Kindly ...     General  \n",
       "965   Acknowledging the received payment for transac...  Processing  \n",
       "966   I request you to kindly send the status of my ...     Request  \n",
       "967   Can you please tell me the amount transferred ...     Request  \n",
       "968   Please send me a confirmation about the cancel...  CreditCard  \n",
       "969   This is in response to your email stating that...      Failed  \n",
       "970   This is in response to your email notifying ab...  Processing  \n",
       "971   The transaction 974219 is taking too long to c...     Pending  \n",
       "972   The transaction 799516 is taking too long to c...     Pending  \n",
       "973   Hey, I would be really grateful if you could t...     Request  \n",
       "974   I need a new cheque book of 25 leaves. Kindly ...     General  \n",
       "975   A detailed update on the transaction would be ...     Request  \n",
       "976   Since my transaction 924317 is still pending, ...     Pending  \n",
       "977   Acknowledging the received payment for transac...  Processing  \n",
       "978   Sincere greetings, I am glad to tell you that ...  Processing  \n",
       "979   Hello! This is to inform you that I have recei...  Processing  \n",
       "980   This is in response to your email notifying ab...  Processing  \n",
       "981   I regret to inform you the I could only pay th...     Pending  \n",
       "982   I need details of 438505 urgently, please prov...     Request  \n",
       "983   I regret to inform you the I could only pay th...     Pending  \n",
       "984   I request you to kindly send the status of my ...     Request  \n",
       "985   Sincere greetings, I am glad to tell you that ...  Processing  \n",
       "986   Hey, I think I lost my ATM card today so can y...     General  \n",
       "987   Hello!! Greetings for the day. Status of trans...     Pending  \n",
       "988   This is in response to your email stating that...      Failed  \n",
       "989   Can you please tell me the amount transferred ...     Request  \n",
       "990   I regret to inform you that I could only pay t...     Pending  \n",
       "991   There has been only a partial payment of amoun...     Pending  \n",
       "992   I regret to inform you the I could only pay th...     Pending  \n",
       "993   This is to inform you that I am not able to wi...     General  \n",
       "994   I have been your regular client and have follo...      Failed  \n",
       "995   Please send a confirmation letter stating that...  CreditCard  \n",
       "996   Hey, Can you please block my account? I no lon...     General  \n",
       "997   There has been only a partial payment of amoun...     Pending  \n",
       "998   Kindly reply to me at the earliest with the la...     Request  \n",
       "999   Hello! This is to inform you that I have recei...  Processing  \n",
       "1000  Hey, sincere apologies for transferring a frac...     Pending  \n",
       "1001  I have been a credit card user of your bank si...  CreditCard  \n",
       "1002  Hello! Sincere greetings for the day. I would ...    Complete  \n",
       "1003  Hello! This is to inform you that I have recei...  Processing  "
      ]
     },
     "execution_count": 209,
     "metadata": {},
     "output_type": "execute_result"
    }
   ],
   "source": [
    "df.tail(50)"
   ]
  },
  {
   "cell_type": "code",
   "execution_count": 159,
   "metadata": {
    "colab": {},
    "colab_type": "code",
    "id": "j2PyZXn6ZK_n"
   },
   "outputs": [],
   "source": [
    "nlp = spacy.load('en')"
   ]
  },
  {
   "cell_type": "code",
   "execution_count": 160,
   "metadata": {
    "colab": {},
    "colab_type": "code",
    "id": "cgeaZ8C6ZK_u"
   },
   "outputs": [],
   "source": [
    "my_stop = ['\\'d', '\\'ll', '\\'m', '\\'re', '\\'s', 'a','cc','subject','http', 'gbp', 'usd', 'eur', 'inr', 'cad', 'thanks', 'acc', 'id', 'account', 'regards', 'hi', 'hello', 'thank you', 'greetings', 'about','above', 'across','after','afterwards','alone','along','among', 'amongst','amount','an','and','another','any','anyhow','anyone','anything','anyway','anywhere','around','as', 'at','because','before','beforehand','behind','below', 'beside','besides','between','both','bottom','but','by','ca','call','can','could','did', 'do', 'does', 'doing', 'down', 'due', 'during', 'each', 'eight', 'either', 'eleven', 'else', 'elsewhere', 'everyone', 'everything', 'everywhere', 'fifteen', 'fifty', 'first', 'five', 'for', 'former', 'formerly', 'forty', 'four', 'from', 'front', 'further', 'he', 'hence', 'her', 'here', 'hereafter', 'hereby', 'herein', 'hereupon', 'hers', 'herself', 'him', 'himself', 'his', 'how', 'however', 'hundred', 'if', 'indeed', 'into', 'it', 'its', 'itself', 'just', 'keep', 'last', 'latter', 'latterly', 'least', 'less', 'many', 'may', 'me', 'meanwhile', 'might', 'mine', 'more', 'moreover', 'much', 'must', 'my', 'myself', 'name', 'namely', 'neither', 'nevertheless', 'next', 'nine', 'no', 'nobody', 'now', 'nowhere', 'of', 'off', 'often', 'on', 'one', 'onto', 'or', 'other', 'others', 'otherwise', 'our', 'ours', 'ourselves', 'out', 'own', 'per', 'perhaps', 'please', 'quite', 'rather', 're', 'really', 'regarding', 'same','she', 'side', 'since', 'six', 'sixty', 'so', 'some', 'somehow', 'someone', 'something', 'sometime', 'somewhere', 'such', 'ten', 'that', 'the', 'their', 'them', 'themselves', 'then', 'thence', 'there', 'thereafter', 'thereby', 'therefore', 'therein', 'thereupon', 'these', 'they', 'third', 'this', 'those', 'three', 'through', 'throughout', 'thru', 'thus', 'to', 'together', 'too', 'top', 'toward', 'towards', 'twelve', 'twenty', 'two', 'under', 'up', 'upon', 'us', 'using', 'various', 'via', 'we', 'well', 'whatever', 'whence', 'whenever', 'whereafter', 'whereas', 'whereby', 'wherein', 'whereupon', 'wherever', 'whether', 'which', 'while', 'whither', 'whoever', 'whole', 'whom', 'whose', 'with', 'within', 'yet', 'you', 'your', 'yours', 'yourself', 'yourselves', '\\'m', '\\'re', '’s']"
   ]
  },
  {
   "cell_type": "code",
   "execution_count": 161,
   "metadata": {
    "colab": {},
    "colab_type": "code",
    "id": "eyq-2_0gZK_z"
   },
   "outputs": [],
   "source": [
    "def get_only_chars(text):    \n",
    "    text = text.replace(\"-\", \" \") #replace hyphens with spaces\n",
    "    text = text.replace(\"\\t\", \" \")\n",
    "    text = text.replace(\"\\n\", \" \")\n",
    "    text = text.replace(\"n't\", \" not\")\n",
    "    text = text.replace(\"l've\", \"l have\")\n",
    "    text = text.replace(\"d've\", \"d have\")\n",
    "\n",
    "    \n",
    "    text = nlp(text)\n",
    "    text = \" \".join(token.orth_ for token in text if not token.is_punct | token.is_space)\n",
    "    t = \"\"\n",
    "\n",
    "    for i in text.lower().split():\n",
    "        if func(i) is not None:\n",
    "            t += func(i) + \" \"\n",
    "        else :\n",
    "            t += i + \" \"\n",
    "\n",
    "    t = t.rstrip()\n",
    "    text = \" \".join([i for i in t.lower().split() if i not in my_stop])\n",
    "    text = re.sub(r'[^a-zA-Z]', ' ', text)\n",
    "    text = \" \".join([i for i in text.split() if len(i) != 1])\n",
    "    \n",
    "    return text"
   ]
  },
  {
   "cell_type": "code",
   "execution_count": 162,
   "metadata": {},
   "outputs": [
    {
     "name": "stdout",
     "output_type": "stream",
     "text": [
      "wo not not apple\n"
     ]
    }
   ],
   "source": [
    "print(get_only_chars(\"won't can't apple\"))"
   ]
  },
  {
   "cell_type": "code",
   "execution_count": null,
   "metadata": {},
   "outputs": [],
   "source": []
  },
  {
   "cell_type": "code",
   "execution_count": 210,
   "metadata": {
    "colab": {},
    "colab_type": "code",
    "id": "ugI5ZzaiZK_5"
   },
   "outputs": [],
   "source": [
    "for i in range(df.shape[0]):\n",
    "    # merge subject and body strings\n",
    "    df['Text'] = (df['Subject'] + \" \" + df['Body'])"
   ]
  },
  {
   "cell_type": "code",
   "execution_count": 211,
   "metadata": {
    "colab": {},
    "colab_type": "code",
    "id": "cUY6LwCzZK_-"
   },
   "outputs": [],
   "source": [
    "def converter(x):\n",
    "    try:\n",
    "        return ' '.join([x.lower() for x in str(x).split()])\n",
    "    except AttributeError:\n",
    "        return None  # or some other value\n",
    "\n",
    "df['Text'] = df['Text'].apply(converter)"
   ]
  },
  {
   "cell_type": "code",
   "execution_count": 212,
   "metadata": {
    "colab": {},
    "colab_type": "code",
    "id": "jWsuPQTaMAt3"
   },
   "outputs": [],
   "source": [
    "df['Text'] = df['Text'].apply(lambda x: get_only_chars(x))"
   ]
  },
  {
   "cell_type": "code",
   "execution_count": 213,
   "metadata": {
    "colab": {},
    "colab_type": "code",
    "id": "9EbusUWvMAuA"
   },
   "outputs": [],
   "source": [
    "df = df.drop_duplicates('Text')"
   ]
  },
  {
   "cell_type": "code",
   "execution_count": 214,
   "metadata": {
    "colab": {
     "base_uri": "https://localhost:8080/",
     "height": 34
    },
    "colab_type": "code",
    "id": "qyGor_mYMAuI",
    "outputId": "89b8fb90-8590-4c89-cfd1-c700ce5418e1"
   },
   "outputs": [
    {
     "data": {
      "text/plain": [
       "(420, 4)"
      ]
     },
     "execution_count": 214,
     "metadata": {},
     "output_type": "execute_result"
    }
   ],
   "source": [
    "df.shape"
   ]
  },
  {
   "cell_type": "code",
   "execution_count": 100,
   "metadata": {},
   "outputs": [
    {
     "data": {
      "text/plain": [
       "Request       81\n",
       "General       75\n",
       "Pending       67\n",
       "Complete      57\n",
       "Failed        53\n",
       "Processing    45\n",
       "CreditCard    42\n",
       "Name: Class, dtype: int64"
      ]
     },
     "execution_count": 100,
     "metadata": {},
     "output_type": "execute_result"
    }
   ],
   "source": [
    "df.Class.value_counts()"
   ]
  },
  {
   "cell_type": "code",
   "execution_count": 101,
   "metadata": {
    "colab": {},
    "colab_type": "code",
    "id": "3PeglAO4ZLAV"
   },
   "outputs": [
    {
     "name": "stdout",
     "output_type": "stream",
     "text": [
      "['Pending' 'General' 'Processing' 'Request' 'Complete' 'Failed'\n",
      " 'CreditCard']\n"
     ]
    }
   ],
   "source": [
    "# set the by default to:\n",
    "num_classes = df.Class.unique() # the number of classes we consider (since the dataset has many classes)\n",
    "sample_size = 2 # the number of labeled sampled we’ll require from the user\n",
    "print(num_classes)"
   ]
  },
  {
   "cell_type": "code",
   "execution_count": 168,
   "metadata": {
    "colab": {},
    "colab_type": "code",
    "id": "E68mQ8RMZLAa"
   },
   "outputs": [],
   "source": [
    "# Generate samples that contains K samples of each class\n",
    "\n",
    "def gen_sample(sample_size, num_classes):\n",
    "    \n",
    "    # df.sample(frac=1).reset_index(drop=True)\n",
    "\n",
    "    df_1 = df[(df[\"Class\"] < num_classes)].reset_index().drop([\"index\"], axis=1).reset_index().drop([\"index\"], axis=1)\n",
    "    \n",
    "    train = df_1[df_1[\"Class\"] == np.unique(df_1['Class'])[0]].sample(sample_size)\n",
    "#     return train\n",
    "    train_index = train.index.tolist()\n",
    "\n",
    "    for i in range(1,num_classes):\n",
    "        train_2 = df_1[df_1[\"Class\"] == np.unique(df_1['Class'])[i]].sample(sample_size)\n",
    "        train = pd.concat([train, train_2], axis=0)\n",
    "        train_index.extend(train_2.index.tolist())\n",
    "\n",
    "    test = df_1[~df_1.index.isin(train_index)]\n",
    "    return train, test"
   ]
  },
  {
   "cell_type": "code",
   "execution_count": 229,
   "metadata": {
    "colab": {},
    "colab_type": "code",
    "id": "uUQujqKaMAuT"
   },
   "outputs": [],
   "source": [
    "from sklearn.preprocessing import LabelEncoder \n",
    "\n",
    "le = LabelEncoder()\n",
    "df['Class'] = le.fit_transform(df['Class'])"
   ]
  },
  {
   "cell_type": "code",
   "execution_count": 230,
   "metadata": {},
   "outputs": [
    {
     "data": {
      "text/html": [
       "<div>\n",
       "<style scoped>\n",
       "    .dataframe tbody tr th:only-of-type {\n",
       "        vertical-align: middle;\n",
       "    }\n",
       "\n",
       "    .dataframe tbody tr th {\n",
       "        vertical-align: top;\n",
       "    }\n",
       "\n",
       "    .dataframe thead th {\n",
       "        text-align: right;\n",
       "    }\n",
       "</style>\n",
       "<table border=\"1\" class=\"dataframe\">\n",
       "  <thead>\n",
       "    <tr style=\"text-align: right;\">\n",
       "      <th></th>\n",
       "      <th>Subject</th>\n",
       "      <th>Body</th>\n",
       "      <th>Class</th>\n",
       "      <th>Text</th>\n",
       "    </tr>\n",
       "  </thead>\n",
       "  <tbody>\n",
       "    <tr>\n",
       "      <th>0</th>\n",
       "      <td>Handling the transaction 128874 after payment.</td>\n",
       "      <td>This is in response to your email notifying ab...</td>\n",
       "      <td>5</td>\n",
       "      <td>handling transaction payment is in response em...</td>\n",
       "    </tr>\n",
       "    <tr>\n",
       "      <th>1</th>\n",
       "      <td>Received full payment for transaction no. 338874</td>\n",
       "      <td>Hey, I am writing in reference to the transact...</td>\n",
       "      <td>0</td>\n",
       "      <td>received full payment transaction hey am writi...</td>\n",
       "    </tr>\n",
       "    <tr>\n",
       "      <th>2</th>\n",
       "      <td>How to change PIN no of ATM card?</td>\n",
       "      <td>Hey, Can you please send me the detailed steps...</td>\n",
       "      <td>3</td>\n",
       "      <td>change pin atm card hey send detailed steps ou...</td>\n",
       "    </tr>\n",
       "    <tr>\n",
       "      <th>3</th>\n",
       "      <td>Sorted out the transaction with ID : 619734</td>\n",
       "      <td>Greetings! I wanted to let you know that I hav...</td>\n",
       "      <td>0</td>\n",
       "      <td>sorted transaction wanted let know have acknow...</td>\n",
       "    </tr>\n",
       "    <tr>\n",
       "      <th>4</th>\n",
       "      <td>Transaction 118350 stalled and payment not rec...</td>\n",
       "      <td>This is in response to your email stating that...</td>\n",
       "      <td>2</td>\n",
       "      <td>transaction stalled payment not received is in...</td>\n",
       "    </tr>\n",
       "    <tr>\n",
       "      <th>5</th>\n",
       "      <td>Request to send details of transaction 980173</td>\n",
       "      <td>I want to have a detailed view of my account. ...</td>\n",
       "      <td>6</td>\n",
       "      <td>request send details transaction want have det...</td>\n",
       "    </tr>\n",
       "    <tr>\n",
       "      <th>6</th>\n",
       "      <td>Handling the transaction 205235 after payment.</td>\n",
       "      <td>Acknowledging the received payment for transac...</td>\n",
       "      <td>5</td>\n",
       "      <td>handling transaction payment acknowledging rec...</td>\n",
       "    </tr>\n",
       "    <tr>\n",
       "      <th>7</th>\n",
       "      <td>Partially paid the required amount for transac...</td>\n",
       "      <td>There has been only a partial payment of amoun...</td>\n",
       "      <td>4</td>\n",
       "      <td>partially paid required transaction has been o...</td>\n",
       "    </tr>\n",
       "    <tr>\n",
       "      <th>8</th>\n",
       "      <td>Finalized transaction of ID : 239797</td>\n",
       "      <td>Hey, I am writing in reference to the transact...</td>\n",
       "      <td>0</td>\n",
       "      <td>finalized transaction hey am writing in refere...</td>\n",
       "    </tr>\n",
       "    <tr>\n",
       "      <th>9</th>\n",
       "      <td></td>\n",
       "      <td>This is to inform you that I am undergoing a f...</td>\n",
       "      <td>1</td>\n",
       "      <td>is inform am undergoing financial issue am una...</td>\n",
       "    </tr>\n",
       "    <tr>\n",
       "      <th>10</th>\n",
       "      <td>Handling the transaction 682817 after payment.</td>\n",
       "      <td>Sincere greetings, I am glad to tell you that ...</td>\n",
       "      <td>5</td>\n",
       "      <td>handling transaction payment sincere am glad t...</td>\n",
       "    </tr>\n",
       "    <tr>\n",
       "      <th>11</th>\n",
       "      <td>Why has my transaction 126273 stopped?</td>\n",
       "      <td>Hey, I see my transaction with ID 126273 has f...</td>\n",
       "      <td>2</td>\n",
       "      <td>why has transaction stopped hey see transactio...</td>\n",
       "    </tr>\n",
       "    <tr>\n",
       "      <th>12</th>\n",
       "      <td>Request to send details of transaction 574842</td>\n",
       "      <td>Can you please tell me the amount transferred ...</td>\n",
       "      <td>6</td>\n",
       "      <td>request send details transaction tell transfer...</td>\n",
       "    </tr>\n",
       "    <tr>\n",
       "      <th>13</th>\n",
       "      <td>Why has my transaction 381999 stopped?</td>\n",
       "      <td>I have been your regular client and have follo...</td>\n",
       "      <td>2</td>\n",
       "      <td>why has transaction stopped have been regular ...</td>\n",
       "    </tr>\n",
       "    <tr>\n",
       "      <th>14</th>\n",
       "      <td>Why has my transaction 621594 stopped?</td>\n",
       "      <td>This is to notify you that my transaction 6215...</td>\n",
       "      <td>2</td>\n",
       "      <td>why has transaction stopped is notify transact...</td>\n",
       "    </tr>\n",
       "    <tr>\n",
       "      <th>15</th>\n",
       "      <td>Payment done and Transaction 937819 settled.</td>\n",
       "      <td>To whom it may concern, I have successfully re...</td>\n",
       "      <td>0</td>\n",
       "      <td>payment done transaction settled concern have ...</td>\n",
       "    </tr>\n",
       "    <tr>\n",
       "      <th>16</th>\n",
       "      <td>Transaction having ID : 155325 has stopped. Help!</td>\n",
       "      <td>I have been your regular client and have follo...</td>\n",
       "      <td>2</td>\n",
       "      <td>transaction having has stopped help have been ...</td>\n",
       "    </tr>\n",
       "    <tr>\n",
       "      <th>17</th>\n",
       "      <td>Remaining amount for transaction 174033 to be ...</td>\n",
       "      <td>The transaction 174033 is taking too long to c...</td>\n",
       "      <td>4</td>\n",
       "      <td>remaining transaction be paid later transactio...</td>\n",
       "    </tr>\n",
       "    <tr>\n",
       "      <th>18</th>\n",
       "      <td>Change address for account no. 926290</td>\n",
       "      <td>Kindly add the contact no. 4400289500 to my ba...</td>\n",
       "      <td>3</td>\n",
       "      <td>change address kindly add contact bank</td>\n",
       "    </tr>\n",
       "    <tr>\n",
       "      <th>19</th>\n",
       "      <td>Transaction 328126 has failed!</td>\n",
       "      <td>I have been your regular client and have follo...</td>\n",
       "      <td>2</td>\n",
       "      <td>transaction has failed have been regular clien...</td>\n",
       "    </tr>\n",
       "  </tbody>\n",
       "</table>\n",
       "</div>"
      ],
      "text/plain": [
       "                                              Subject  \\\n",
       "0      Handling the transaction 128874 after payment.   \n",
       "1    Received full payment for transaction no. 338874   \n",
       "2                   How to change PIN no of ATM card?   \n",
       "3         Sorted out the transaction with ID : 619734   \n",
       "4   Transaction 118350 stalled and payment not rec...   \n",
       "5       Request to send details of transaction 980173   \n",
       "6      Handling the transaction 205235 after payment.   \n",
       "7   Partially paid the required amount for transac...   \n",
       "8                Finalized transaction of ID : 239797   \n",
       "9                                                       \n",
       "10     Handling the transaction 682817 after payment.   \n",
       "11             Why has my transaction 126273 stopped?   \n",
       "12      Request to send details of transaction 574842   \n",
       "13             Why has my transaction 381999 stopped?   \n",
       "14             Why has my transaction 621594 stopped?   \n",
       "15       Payment done and Transaction 937819 settled.   \n",
       "16  Transaction having ID : 155325 has stopped. Help!   \n",
       "17  Remaining amount for transaction 174033 to be ...   \n",
       "18              Change address for account no. 926290   \n",
       "19                     Transaction 328126 has failed!   \n",
       "\n",
       "                                                 Body  Class  \\\n",
       "0   This is in response to your email notifying ab...      5   \n",
       "1   Hey, I am writing in reference to the transact...      0   \n",
       "2   Hey, Can you please send me the detailed steps...      3   \n",
       "3   Greetings! I wanted to let you know that I hav...      0   \n",
       "4   This is in response to your email stating that...      2   \n",
       "5   I want to have a detailed view of my account. ...      6   \n",
       "6   Acknowledging the received payment for transac...      5   \n",
       "7   There has been only a partial payment of amoun...      4   \n",
       "8   Hey, I am writing in reference to the transact...      0   \n",
       "9   This is to inform you that I am undergoing a f...      1   \n",
       "10  Sincere greetings, I am glad to tell you that ...      5   \n",
       "11  Hey, I see my transaction with ID 126273 has f...      2   \n",
       "12  Can you please tell me the amount transferred ...      6   \n",
       "13  I have been your regular client and have follo...      2   \n",
       "14  This is to notify you that my transaction 6215...      2   \n",
       "15  To whom it may concern, I have successfully re...      0   \n",
       "16  I have been your regular client and have follo...      2   \n",
       "17  The transaction 174033 is taking too long to c...      4   \n",
       "18  Kindly add the contact no. 4400289500 to my ba...      3   \n",
       "19  I have been your regular client and have follo...      2   \n",
       "\n",
       "                                                 Text  \n",
       "0   handling transaction payment is in response em...  \n",
       "1   received full payment transaction hey am writi...  \n",
       "2   change pin atm card hey send detailed steps ou...  \n",
       "3   sorted transaction wanted let know have acknow...  \n",
       "4   transaction stalled payment not received is in...  \n",
       "5   request send details transaction want have det...  \n",
       "6   handling transaction payment acknowledging rec...  \n",
       "7   partially paid required transaction has been o...  \n",
       "8   finalized transaction hey am writing in refere...  \n",
       "9   is inform am undergoing financial issue am una...  \n",
       "10  handling transaction payment sincere am glad t...  \n",
       "11  why has transaction stopped hey see transactio...  \n",
       "12  request send details transaction tell transfer...  \n",
       "13  why has transaction stopped have been regular ...  \n",
       "14  why has transaction stopped is notify transact...  \n",
       "15  payment done transaction settled concern have ...  \n",
       "16  transaction having has stopped help have been ...  \n",
       "17  remaining transaction be paid later transactio...  \n",
       "18             change address kindly add contact bank  \n",
       "19  transaction has failed have been regular clien...  "
      ]
     },
     "execution_count": 230,
     "metadata": {},
     "output_type": "execute_result"
    }
   ],
   "source": [
    "df.head(20)"
   ]
  },
  {
   "cell_type": "code",
   "execution_count": 231,
   "metadata": {},
   "outputs": [
    {
     "data": {
      "text/plain": [
       "6    81\n",
       "3    75\n",
       "4    67\n",
       "0    57\n",
       "2    53\n",
       "5    45\n",
       "1    42\n",
       "Name: Class, dtype: int64"
      ]
     },
     "execution_count": 231,
     "metadata": {},
     "output_type": "execute_result"
    }
   ],
   "source": [
    "df.Class.value_counts()"
   ]
  },
  {
   "cell_type": "code",
   "execution_count": 232,
   "metadata": {},
   "outputs": [
    {
     "name": "stdout",
     "output_type": "stream",
     "text": [
      "0\n",
      "['Complete']\n",
      "1\n",
      "['CreditCard']\n",
      "2\n",
      "['Failed']\n",
      "3\n",
      "['General']\n",
      "4\n",
      "['Pending']\n",
      "5\n",
      "['Processing']\n",
      "6\n",
      "['Request']\n"
     ]
    }
   ],
   "source": [
    "for i in range(0, len(df.Class.unique())):\n",
    "    print(i)\n",
    "    print(le.inverse_transform([i]))"
   ]
  },
  {
   "cell_type": "code",
   "execution_count": 233,
   "metadata": {},
   "outputs": [],
   "source": [
    "# train, test = gen_sample(30, 7)"
   ]
  },
  {
   "cell_type": "code",
   "execution_count": 234,
   "metadata": {},
   "outputs": [],
   "source": [
    "# train.Class.value_counts()"
   ]
  },
  {
   "cell_type": "code",
   "execution_count": 235,
   "metadata": {},
   "outputs": [],
   "source": [
    "# test.Class.value_counts()"
   ]
  },
  {
   "cell_type": "code",
   "execution_count": 236,
   "metadata": {
    "colab": {},
    "colab_type": "code",
    "id": "es3wgR_pMAu7"
   },
   "outputs": [],
   "source": [
    "def transform_sentence(text, embeddings_index):\n",
    "\n",
    "    def preprocess_text(raw_text, model=embeddings_index):\n",
    "\n",
    "        raw_text = raw_text.split()\n",
    "        return list(filter(lambda x: x in embeddings_index.keys(), raw_text))\n",
    "\n",
    "    tokens = preprocess_text(text)\n",
    "\n",
    "    if not tokens:\n",
    "        return np.zeros(300)\n",
    "\n",
    "    c = [embeddings_index[i] for i in tokens]\n",
    "    text_vector = np.mean(c, axis=0)\n",
    "    return np.array(text_vector)"
   ]
  },
  {
   "cell_type": "code",
   "execution_count": 237,
   "metadata": {},
   "outputs": [
    {
     "data": {
      "text/plain": [
       "['/home/aheli/SmartEmailTracker/Merged UI_Listener/pkl_objects/labelencoder3July.pkl']"
      ]
     },
     "execution_count": 237,
     "metadata": {},
     "output_type": "execute_result"
    }
   ],
   "source": [
    "if not os.path.exists('/home/aheli/SmartEmailTracker/Merged UI_Listener/pkl_objects'):\n",
    "        os.mkdir('/home/aheli/SmartEmailTracker/Merged UI_Listener/pkl_objects')\n",
    "    \n",
    "joblib.dump(le, '/home/aheli/SmartEmailTracker/Merged UI_Listener/pkl_objects/labelencoder3July.pkl')"
   ]
  },
  {
   "cell_type": "markdown",
   "metadata": {
    "colab_type": "text",
    "id": "77gBGCTLlJwa"
   },
   "source": [
    "## Pre-trained Glove embeddings and ML algorithms"
   ]
  },
  {
   "cell_type": "code",
   "execution_count": 238,
   "metadata": {
    "colab": {},
    "colab_type": "code",
    "id": "ZjDXuv9wqDoa"
   },
   "outputs": [],
   "source": [
    "# Install with below cell if you're not able to install on terminal\n",
    "\n",
    "# import sys\n",
    "# !{sys.executable} -m pip install xgboost"
   ]
  },
  {
   "cell_type": "code",
   "execution_count": 239,
   "metadata": {
    "colab": {},
    "colab_type": "code",
    "id": "AfjwlGRjMAvk"
   },
   "outputs": [],
   "source": [
    "import xgboost"
   ]
  },
  {
   "cell_type": "code",
   "execution_count": 240,
   "metadata": {
    "colab": {},
    "colab_type": "code",
    "id": "9ihouEwYNCyn"
   },
   "outputs": [],
   "source": [
    "# def return_score_xgb(sample_size, num_classes, df):\n",
    "\n",
    "#     train, test = gen_sample(sample_size, num_classes, df=df)\n",
    "\n",
    "#     X_train = train['Text'].values\n",
    "#     y_train = train['Class'].values\n",
    "#     X_test = test['Text'].values\n",
    "#     y_test = test['Class'].values\n",
    "\n",
    "#     X_train_mean = np.array([transform_sentence(x, embeddings_index) for x in X_train])\n",
    "#     X_test_mean = np.array([transform_sentence(x, embeddings_index) for x in X_test])\n",
    "\n",
    "# #     XG Boost\n",
    "#     clf = xgboost.XGBClassifier()\n",
    "    \n",
    "#     eval_set = [(X_train_mean, y_train), (X_test_mean, y_test)]\n",
    "#     eval_metric = [\"auc\",\"error\", \"logloss\"]\n",
    "#     %time clf.fit(X_train_mean, y_train, early_stopping_rounds=10, eval_metric=\"merror\", eval_set=eval_set, verbose=True)\n",
    "# #     clf.fit(X_train_mean, y_train)\n",
    "\n",
    "#     joblib.dump(clf, './clf.pkl')\n",
    "\n",
    "#     y_pred = clf.predict(X_test_mean)\n",
    "    \n",
    "#     # evaluate predictions\n",
    "#     accuracy = accuracy_score(y_pred, y_test)\n",
    "#     print(\"Accuracy: %.2f%%\" % (accuracy * 100.0))\n",
    "\n",
    "#     return accuracy_score(y_pred, y_test)"
   ]
  },
  {
   "cell_type": "code",
   "execution_count": null,
   "metadata": {},
   "outputs": [],
   "source": []
  },
  {
   "cell_type": "code",
   "execution_count": 241,
   "metadata": {
    "colab": {},
    "colab_type": "code",
    "id": "Hjc9OhZyZLA5"
   },
   "outputs": [],
   "source": [
    "def return_score_xgb(sample_size, num_classes):\n",
    "\n",
    "    train, test = gen_sample(sample_size, num_classes)\n",
    "\n",
    "    X_train = train['Text'].values\n",
    "    y_train = train['Class'].values\n",
    "    X_test = test['Text'].values\n",
    "    y_test = test['Class'].values\n",
    "\n",
    "    X_train_mean = np.array([transform_sentence(x, embeddings_index) for x in X_train])\n",
    "    X_test_mean = np.array([transform_sentence(x, embeddings_index) for x in X_test])\n",
    "\n",
    "#     XG Boost\n",
    "    clf = xgboost.XGBClassifier()\n",
    "    clf.fit(X_train_mean, y_train)\n",
    "    \n",
    "    joblib.dump(clf, './clf.pkl')\n",
    "\n",
    "    y_pred = clf.predict(X_test_mean)\n",
    "    \n",
    "#     evaluate predictions\n",
    "    accuracy = accuracy_score(y_pred, y_test)\n",
    "    print(\"Accuracy: %.2f%%\" % (accuracy * 100.0))\n",
    "\n",
    "    return accuracy_score(y_pred, y_test)"
   ]
  },
  {
   "cell_type": "code",
   "execution_count": 242,
   "metadata": {
    "colab": {},
    "colab_type": "code",
    "id": "_RcU6ESLZLA9"
   },
   "outputs": [],
   "source": [
    "# all_accuracy_xgb = {2:[],3:[],4:[],5:[],6:[]}\n",
    "\n",
    "# for num_samples in range(1, 40):\n",
    "\n",
    "#     for num_cl in range(2, 7):\n",
    "\n",
    "#         all_accuracy_xgb[num_cl].append(return_score_xgb(num_samples,num_cl))"
   ]
  },
  {
   "cell_type": "code",
   "execution_count": 243,
   "metadata": {},
   "outputs": [
    {
     "name": "stdout",
     "output_type": "stream",
     "text": [
      "Accuracy: 13.56%\n",
      "Accuracy: 74.63%\n",
      "Accuracy: 56.14%\n",
      "Accuracy: 46.43%\n",
      "Accuracy: 70.39%\n",
      "Accuracy: 71.96%\n",
      "Accuracy: 73.05%\n",
      "Accuracy: 75.55%\n",
      "Accuracy: 72.83%\n",
      "Accuracy: 82.57%\n",
      "Accuracy: 81.63%\n",
      "Accuracy: 87.80%\n",
      "Accuracy: 82.67%\n",
      "Accuracy: 83.85%\n",
      "Accuracy: 84.44%\n",
      "Accuracy: 88.64%\n",
      "Accuracy: 87.04%\n",
      "Accuracy: 92.18%\n",
      "Accuracy: 92.33%\n",
      "Accuracy: 90.36%\n",
      "Accuracy: 86.08%\n",
      "Accuracy: 90.60%\n",
      "Accuracy: 93.44%\n",
      "Accuracy: 92.86%\n",
      "Accuracy: 87.35%\n",
      "Accuracy: 89.92%\n",
      "Accuracy: 89.18%\n",
      "Accuracy: 88.84%\n",
      "Accuracy: 89.86%\n",
      "Accuracy: 95.24%\n",
      "Accuracy: 95.07%\n",
      "Accuracy: 92.35%\n",
      "Accuracy: 92.59%\n",
      "Accuracy: 95.05%\n",
      "Accuracy: 96.57%\n",
      "Accuracy: 93.45%\n",
      "Accuracy: 91.93%\n",
      "Accuracy: 92.86%\n",
      "Accuracy: 90.48%\n"
     ]
    }
   ],
   "source": [
    "all_accuracy_xgb = {0:[]}\n",
    "\n",
    "for num_samples in range(1, 40):\n",
    "\n",
    "    all_accuracy_xgb[0].append(return_score_xgb(num_samples,len(df.Class.unique())))"
   ]
  },
  {
   "cell_type": "markdown",
   "metadata": {
    "colab_type": "text",
    "id": "nBJj3Vy8ZLBA"
   },
   "source": [
    "## Summary"
   ]
  },
  {
   "cell_type": "code",
   "execution_count": 244,
   "metadata": {
    "colab": {},
    "colab_type": "code",
    "id": "oZ4Zz58fZLBB"
   },
   "outputs": [],
   "source": [
    "# df_results = pd.DataFrame({\n",
    "    \n",
    "#     'Nb Classes':[2, 3, 4, 5, 6], \n",
    "\n",
    "#     'mean XG Boost':[np.mean(all_accuracy_xgb[2]), \n",
    "#         np.mean(all_accuracy_xgb[3]), \n",
    "#         np.mean(all_accuracy_xgb[4]), \n",
    "#         np.mean(all_accuracy_xgb[5]),\n",
    "#         np.mean(all_accuracy_xgb[6])],\n",
    "#     'max XG Boost':[max(all_accuracy_xgb[2]), \n",
    "#         max(all_accuracy_xgb[3]), \n",
    "#         max(all_accuracy_xgb[4]), \n",
    "#         max(all_accuracy_xgb[5]),\n",
    "#         max(all_accuracy_xgb[6])]\n",
    "#     })"
   ]
  },
  {
   "cell_type": "code",
   "execution_count": 245,
   "metadata": {
    "colab": {
     "base_uri": "https://localhost:8080/",
     "height": 195
    },
    "colab_type": "code",
    "id": "yr12uwEfZLBF",
    "outputId": "4cedde47-eb0f-4ff5-cef6-a587b77bf269"
   },
   "outputs": [],
   "source": [
    "# df_results"
   ]
  },
  {
   "cell_type": "code",
   "execution_count": null,
   "metadata": {
    "colab": {},
    "colab_type": "code",
    "id": "5wimK1pWZLBK"
   },
   "outputs": [],
   "source": []
  },
  {
   "cell_type": "markdown",
   "metadata": {
    "colab_type": "text",
    "id": "lp2hVpKZZLBO"
   },
   "source": [
    "## Testing on incoming email "
   ]
  },
  {
   "cell_type": "code",
   "execution_count": 246,
   "metadata": {
    "colab": {},
    "colab_type": "code",
    "id": "koiPMAvPZLBP"
   },
   "outputs": [],
   "source": [
    "le = joblib.load('/home/aheli/SmartEmailTracker/Merged UI_Listener/pkl_objects/labelencoder3July.pkl')\n",
    "clf = joblib.load('./clf.pkl')"
   ]
  },
  {
   "cell_type": "code",
   "execution_count": 247,
   "metadata": {
    "colab": {
     "base_uri": "https://localhost:8080/",
     "height": 34
    },
    "colab_type": "code",
    "id": "GTCZpD9VZLBU",
    "outputId": "d8e71afe-4e3f-4ce5-cfc4-688e7d46aa74"
   },
   "outputs": [
    {
     "name": "stdout",
     "output_type": "stream",
     "text": [
      "True\n"
     ]
    }
   ],
   "source": [
    "def is_empty_sent(cd):\n",
    "    all_zeros = not cd.any()\n",
    "    return all_zeros\n",
    "\n",
    "print(is_empty_sent(transform_sentence(\"efrg vftrg ojinc\", embeddings_index)))"
   ]
  },
  {
   "cell_type": "code",
   "execution_count": 248,
   "metadata": {},
   "outputs": [],
   "source": [
    "def find_id(sub):\n",
    "    \"\"\"\n",
    "    extract transaction id from email (subject + body)\n",
    "    \"\"\"\n",
    "    nums = []\n",
    "    res = ''\n",
    "    text = re.sub(r'[^0-9]', ' ', sub)\n",
    "    sub = sub.lower()\n",
    "    for t in text.split():\n",
    "        try:\n",
    "            nums.append(t)\n",
    "        except ValueError:\n",
    "            pass\n",
    "    if not nums:\n",
    "        res = None\n",
    "        return res\n",
    "        \n",
    "    def func(sub, nums):\n",
    "        end_idx = 0\n",
    "        for i in nums:\n",
    "            start_idx = sub.find(i)\n",
    "            if \"trans id\" in sub[max(0, start_idx - 10) : start_idx]:\n",
    "                return i,True\n",
    "            elif \"transaction id\" in sub[max(0, start_idx - 16) : start_idx]:\n",
    "                return i,True\n",
    "            elif \"number\" in sub[max(0, start_idx - 8) : start_idx]:\n",
    "                return i,True\n",
    "            elif \"no.\" in sub[max(0, start_idx - 5) : start_idx]:\n",
    "                return i,True\n",
    "            elif \"num\" in sub[max(0, start_idx - 5) : start_idx]:\n",
    "                return i,True\n",
    "            elif \"id\" in sub[max(0, start_idx - 4) : start_idx]:\n",
    "                return i,True\n",
    "        return \"\",False\n",
    "    \n",
    "    num_str, boolean = func(sub, nums)\n",
    "    if boolean is True:\n",
    "        return num_str\n",
    "    return None\n"
   ]
  },
  {
   "cell_type": "code",
   "execution_count": 249,
   "metadata": {},
   "outputs": [],
   "source": [
    "def find_amt(s):\n",
    "    \"\"\"\n",
    "    extract transaction amount from email (subject + body)\n",
    "    \"\"\"\n",
    "    nums = []\n",
    "    res = ''\n",
    "    text = re.sub(r'[^0-9]', ' ', s)\n",
    "    s = s.lower()\n",
    "    for t in text.split():\n",
    "        try:\n",
    "            t = \" \" + t + \" \"\n",
    "            nums.append(t)\n",
    "        except ValueError:\n",
    "            pass\n",
    "    if not nums:\n",
    "        res = None\n",
    "        return res\n",
    "    def func(s, nums):\n",
    "        end_idx = 0\n",
    "        for i in nums:\n",
    "            start_idx = s.find(i)\n",
    "            end_idx = start_idx + len(i)\n",
    "            if \"usd\" in s[max(0, start_idx - 5) : start_idx] or \"usd\" in s[end_idx : min(len(s) - 1, end_idx + 5)]:\n",
    "                return i,True\n",
    "            elif \"cad\" in s[max(0, start_idx - 5) : start_idx] or \"cad\" in s[end_idx : min(len(s) - 1, end_idx + 5)]:\n",
    "                return i,True\n",
    "            elif \"inr\" in s[max(0, start_idx - 5) : start_idx] or \"inr\" in s[end_idx : min(len(s) - 1, end_idx + 5)]:\n",
    "                return i,True\n",
    "            elif \"gbp\" in s[max(0, start_idx - 5) : start_idx] or \"gbp\" in s[end_idx : min(len(s) - 1, end_idx + 5)]:\n",
    "                return i,True\n",
    "            elif \"usd\" in s[max(0, start_idx - 5) : start_idx] or \"usd\" in s[end_idx : min(len(s) - 1, end_idx + 5)]:\n",
    "                return i,True\n",
    "            elif \"rs\" in s[max(0, start_idx - 4) : start_idx] or \"rs\" in s[end_idx : min(len(s) - 1, end_idx + 4)]:\n",
    "                return i,True\n",
    "            elif \"rupees\" in s[max(0, start_idx - 8) : start_idx] or \"rupees\" in s[end_idx : min(len(s) - 1, end_idx + 8)]:\n",
    "                return i,True\n",
    "            \n",
    "        return \"\",False\n",
    "    \n",
    "    num_str, boolean = func(s, nums)\n",
    "    if boolean is True:\n",
    "        return num_str\n",
    "    return None"
   ]
  },
  {
   "cell_type": "code",
   "execution_count": 250,
   "metadata": {
    "colab": {},
    "colab_type": "code",
    "id": "qn7XukByZLBY"
   },
   "outputs": [],
   "source": [
    "def inp(emailto, emailfrom, subj, bod):\n",
    "    text = subj + \" \" + bod\n",
    "    t_id = find_id(text)\n",
    "    t_amt = find_amt(text)\n",
    "\n",
    "    text = get_only_chars(text)\n",
    "    X_test_mean = np.array([transform_sentence(text, embeddings_index)])\n",
    "    \n",
    "    if is_empty_sent(X_test_mean) is True:\n",
    "        l = [\"Unable to read email.Please ensure that it is in English!\"]\n",
    "        return np.array(l)[0], t_id\n",
    "\n",
    "    y_pred = clf.predict(X_test_mean)\n",
    "\n",
    "    out = le.inverse_transform(y_pred)\n",
    "    return out[0], t_id, t_amt"
   ]
  },
  {
   "cell_type": "code",
   "execution_count": 251,
   "metadata": {
    "colab": {
     "base_uri": "https://localhost:8080/",
     "height": 320
    },
    "colab_type": "code",
    "id": "vDHMRl0fZLBc",
    "outputId": "0476c5db-1b5b-4d6a-964f-cc386e8fafe5"
   },
   "outputs": [
    {
     "name": "stdout",
     "output_type": "stream",
     "text": [
      "('Complete', '1234', ' 3456 ')\n"
     ]
    }
   ],
   "source": [
    "print(inp(\"fvf\", \"defrfg\", \"payment processed\", \"hi, the payment for id 1234 for usd 3456 was paid successfully.\"))"
   ]
  },
  {
   "cell_type": "code",
   "execution_count": 266,
   "metadata": {
    "colab": {
     "base_uri": "https://localhost:8080/",
     "height": 50
    },
    "colab_type": "code",
    "id": "3sJS2l3yZLBh",
    "outputId": "136f7b70-5094-4dd6-f977-c0954eb27d85"
   },
   "outputs": [
    {
     "name": "stdout",
     "output_type": "stream",
     "text": [
      "('Complete', None, None)\n"
     ]
    }
   ],
   "source": [
    "print(inp(\"cfdfv\", \"derftrg\", \"Partially paid the required amount for transaction\", \"There has been only a partial payment of amount 1234\"))"
   ]
  },
  {
   "cell_type": "code",
   "execution_count": 253,
   "metadata": {
    "colab": {
     "base_uri": "https://localhost:8080/",
     "height": 70
    },
    "colab_type": "code",
    "id": "j6Avff-TZLBl",
    "outputId": "43ac4939-6bc1-4320-bfb8-5af51be8683f"
   },
   "outputs": [
    {
     "name": "stdout",
     "output_type": "stream",
     "text": [
      "('General', None, None)\n"
     ]
    }
   ],
   "source": [
    "print(inp(\"Jason@DEUTSCHEBANK.com\", \"Suhail@CitiBankPune.com\", \"Want to know more about being a premium customer\", \"Sincere greetings. I recently came across an offer saying I would have higher interest rates if I am willing to upgrade my account to a premium one. I want to base my decision on its pros as well as cons. So perhaps you could throw some light on it? That woud be very kind of you.\"))"
   ]
  },
  {
   "cell_type": "code",
   "execution_count": 254,
   "metadata": {
    "colab": {
     "base_uri": "https://localhost:8080/",
     "height": 50
    },
    "colab_type": "code",
    "id": "AO3uHvmmZLBp",
    "outputId": "93d06a24-db06-4dba-a5ba-c954d6070cb3"
   },
   "outputs": [
    {
     "name": "stdout",
     "output_type": "stream",
     "text": [
      "('Processing', '101165', ' 471862128 ')\n"
     ]
    }
   ],
   "source": [
    "print(inp(\"qwrqef\", \"cfdvfv\", \"\", \"Payment of 471862128 CAD to account id 101165 has been made on 19/02/2020 and is in progress, please acknowledge.\"))"
   ]
  },
  {
   "cell_type": "code",
   "execution_count": 255,
   "metadata": {
    "colab": {
     "base_uri": "https://localhost:8080/",
     "height": 50
    },
    "colab_type": "code",
    "id": "GmmETcL4ZLBs",
    "outputId": "62c34f8f-05b4-4a35-c4ca-e6aeeb39f860"
   },
   "outputs": [
    {
     "name": "stdout",
     "output_type": "stream",
     "text": [
      "('Request', None, None)\n"
     ]
    }
   ],
   "source": [
    "print(inp(\"RFg\", \"ewrdef\", \"what is the status of my transaction: 12345\", \"hello \"))"
   ]
  },
  {
   "cell_type": "code",
   "execution_count": 256,
   "metadata": {
    "colab": {
     "base_uri": "https://localhost:8080/",
     "height": 50
    },
    "colab_type": "code",
    "id": "7Dn42PapZLBw",
    "outputId": "3246741a-5a4f-42e6-e324-94a84dbb98b2"
   },
   "outputs": [
    {
     "name": "stdout",
     "output_type": "stream",
     "text": [
      "('Complete', '3456', None)\n"
     ]
    }
   ],
   "source": [
    "print(inp(\"abdf@\", \"fvfb\",\"payment for ID 3456 done\", \"I'm glad to inform you that your payment was successfully transferred to the bank account.\"))"
   ]
  },
  {
   "cell_type": "code",
   "execution_count": 257,
   "metadata": {
    "colab": {
     "base_uri": "https://localhost:8080/",
     "height": 50
    },
    "colab_type": "code",
    "id": "ROOUzT3NZLBz",
    "outputId": "1d1c613a-a8b7-46f3-996f-ed2048d32047"
   },
   "outputs": [
    {
     "name": "stdout",
     "output_type": "stream",
     "text": [
      "('Unable to read email.Please ensure that it is in English!', None)\n"
     ]
    }
   ],
   "source": [
    "print(inp(\"jhnujfv\", \"hvgd\", \"ijigrtd\", \"kjhn sdrdsa kuyhn\"))"
   ]
  },
  {
   "cell_type": "code",
   "execution_count": 258,
   "metadata": {
    "colab": {
     "base_uri": "https://localhost:8080/",
     "height": 50
    },
    "colab_type": "code",
    "id": "TTARBa9fZLB5",
    "outputId": "3e603e4b-9b2f-44f8-a2a8-163875ec4f0b"
   },
   "outputs": [
    {
     "name": "stdout",
     "output_type": "stream",
     "text": [
      "('Processing', '34565', None)\n"
     ]
    }
   ],
   "source": [
    "print(inp(\"RFg\", \"ewrdef\", \"payment for ID 34565 in progress\", \"hello you payment is being processed\"))"
   ]
  },
  {
   "cell_type": "code",
   "execution_count": 259,
   "metadata": {
    "colab": {
     "base_uri": "https://localhost:8080/",
     "height": 50
    },
    "colab_type": "code",
    "id": "k_vU4RpbUT0v",
    "outputId": "b6915c1c-d385-4add-c7c6-a987c49e6c8f"
   },
   "outputs": [
    {
     "name": "stdout",
     "output_type": "stream",
     "text": [
      "('Processing', '34565', None)\n"
     ]
    }
   ],
   "source": [
    "print(inp(\"RFg\", \"ewrdef\", \"payment for ID 34565 processed\", \"hello your payment has been made.\"))"
   ]
  },
  {
   "cell_type": "code",
   "execution_count": 260,
   "metadata": {
    "colab": {},
    "colab_type": "code",
    "id": "MgeRkrP-Ufnl"
   },
   "outputs": [
    {
     "name": "stdout",
     "output_type": "stream",
     "text": [
      "('Complete', None, None)\n"
     ]
    }
   ],
   "source": [
    "print(inp(\"\", \"\", \"your payment was processed.\", \"Your payment was done.\"))"
   ]
  },
  {
   "cell_type": "code",
   "execution_count": 261,
   "metadata": {
    "colab": {},
    "colab_type": "code",
    "id": "MgeRkrP-Ufnl"
   },
   "outputs": [
    {
     "name": "stdout",
     "output_type": "stream",
     "text": [
      "('Processing', None, None)\n"
     ]
    }
   ],
   "source": [
    "print(inp(\"\", \"\", \"Your payment is being processed\", \"Payment is being done.\"))"
   ]
  },
  {
   "cell_type": "code",
   "execution_count": 262,
   "metadata": {
    "colab": {},
    "colab_type": "code",
    "id": "MgeRkrP-Ufnl"
   },
   "outputs": [
    {
     "name": "stdout",
     "output_type": "stream",
     "text": [
      "('Complete', None, None)\n"
     ]
    }
   ],
   "source": [
    "print(inp(\"\", \"\", \"your payment was processed.\", \"Payment is done.\"))"
   ]
  },
  {
   "cell_type": "code",
   "execution_count": null,
   "metadata": {},
   "outputs": [],
   "source": []
  },
  {
   "cell_type": "code",
   "execution_count": 204,
   "metadata": {},
   "outputs": [
    {
     "name": "stdout",
     "output_type": "stream",
     "text": [
      "34565\n"
     ]
    }
   ],
   "source": [
    "print(find_id(\"payment for ID 34565 in progress hello payment for usd 50000 is being processed\"))"
   ]
  },
  {
   "cell_type": "code",
   "execution_count": 265,
   "metadata": {},
   "outputs": [
    {
     "name": "stdout",
     "output_type": "stream",
     "text": [
      "('Pending', None, ' 233435 ')\n"
     ]
    }
   ],
   "source": [
    "print(inp(\"\", \"\", \"your payment was partially paid.\", \"Only received 233435 usd, rest is incomplete. Last date is tomorrow.\"))"
   ]
  },
  {
   "cell_type": "code",
   "execution_count": 205,
   "metadata": {},
   "outputs": [],
   "source": [
    "# def find_amt(s):\n",
    "#     \"\"\"\n",
    "#     extract transaction amount from email (subject + body)\n",
    "#     \"\"\"\n",
    "#     nums = []\n",
    "#     res = ''\n",
    "#     text = re.sub(r'[^0-9]', ' ', s)\n",
    "#     s = s.lower()\n",
    "#     for t in text.split():\n",
    "#         try:\n",
    "#             nums.append(t)\n",
    "#         except ValueError:\n",
    "#             pass\n",
    "#     if not nums:\n",
    "#         res = None\n",
    "#         return res\n",
    "        \n",
    "#     def func(sub, nums):\n",
    "#         for i in nums:\n",
    "#             start_idx = sub.find(i)\n",
    "#             end_idx = start_idx + len(i)\n",
    "#             if \"usd\" in sub[start_idx - 5 : start_idx] or \"usd\" in sub[end_idx : end_idx + 5]:\n",
    "#                 return i,True\n",
    "#             elif \"cad\" in sub[start_idx - 5 : start_idx] or \"cad\" in sub[end_idx : end_idx + 5]:\n",
    "#                 return i,True\n",
    "#             elif \"inr\" in sub[start_idx - 5 : start_idx] or \"inr\" in sub[end_idx : end_idx + 5]:\n",
    "#                 return i,True\n",
    "#             elif \"gbp\" in sub[start_idx - 5 : start_idx] or \"gbp\" in sub[end_idx : end_idx + 5]:\n",
    "#                 return i,True\n",
    "#             elif \"usd\" in sub[start_idx - 5 : start_idx] or \"usd\" in sub[end_idx : end_idx + 5]:\n",
    "#                 return i,True\n",
    "#             elif \"rs\" in sub[start_idx - 4 : start_idx] or \"rs\" in sub[end_idx : end_idx + 4]:\n",
    "#                 return i,True\n",
    "#             elif \"rupees\" in sub[start_idx - 8 : start_idx] or \"rupees\" in sub[end_idx : end_idx + 8]:\n",
    "#                 return i,True\n",
    "#         return \"\",False\n",
    "    \n",
    "#     num_str, boolean = func(s, nums)\n",
    "#     if boolean is True:\n",
    "#         return num_str\n",
    "#     return None"
   ]
  },
  {
   "cell_type": "code",
   "execution_count": 206,
   "metadata": {},
   "outputs": [
    {
     "name": "stdout",
     "output_type": "stream",
     "text": [
      " 50000 \n"
     ]
    }
   ],
   "source": [
    "print(find_amt(\"payment for ID 34565 in progress hello payment for usd 50000 is being processed\"))"
   ]
  },
  {
   "cell_type": "code",
   "execution_count": 267,
   "metadata": {},
   "outputs": [
    {
     "name": "stdout",
     "output_type": "stream",
     "text": [
      "('CreditCard', None, None)\n"
     ]
    }
   ],
   "source": [
    "print(inp(\"\", \"\", \"Info on new credit card\", \"I have applied for a new credit card and havent received it yet. Please send more info.\"))"
   ]
  },
  {
   "cell_type": "code",
   "execution_count": null,
   "metadata": {},
   "outputs": [],
   "source": []
  }
 ],
 "metadata": {
  "accelerator": "TPU",
  "colab": {
   "collapsed_sections": [],
   "name": "Word2vec_KNN_model.ipynb",
   "provenance": []
  },
  "kernelspec": {
   "display_name": "Python 3",
   "language": "python",
   "name": "python3"
  },
  "language_info": {
   "codemirror_mode": {
    "name": "ipython",
    "version": 3
   },
   "file_extension": ".py",
   "mimetype": "text/x-python",
   "name": "python",
   "nbconvert_exporter": "python",
   "pygments_lexer": "ipython3",
   "version": "3.7.6"
  }
 },
 "nbformat": 4,
 "nbformat_minor": 1
}
