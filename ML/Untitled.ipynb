{
 "cells": [
  {
   "cell_type": "code",
   "execution_count": 1,
   "metadata": {},
   "outputs": [],
   "source": [
    "import pandas as pd\n",
    "import numpy as np\n",
    "from random import seed\n",
    "from random import sample\n",
    "from wordfile import func\n",
    "from sklearn.model_selection import train_test_split\n",
    "import matplotlib.pyplot as plt\n",
    "import re\n",
    "import joblib\n",
    "from sklearn.decomposition import PCA\n",
    "from sklearn.metrics import accuracy_score\n",
    "from scipy import spatial\n",
    "import os\n",
    "import spacy"
   ]
  },
  {
   "cell_type": "code",
   "execution_count": 81,
   "metadata": {},
   "outputs": [
    {
     "name": "stdout",
     "output_type": "stream",
     "text": [
      "[=-------------------------------------------------] 2.9% 48.5/1662.8MB downloaded"
     ]
    },
    {
     "ename": "KeyboardInterrupt",
     "evalue": "",
     "output_type": "error",
     "traceback": [
      "\u001b[0;31m---------------------------------------------------------------------------\u001b[0m",
      "\u001b[0;31mKeyboardInterrupt\u001b[0m                         Traceback (most recent call last)",
      "\u001b[0;32m<ipython-input-81-86e25942a299>\u001b[0m in \u001b[0;36m<module>\u001b[0;34m\u001b[0m\n\u001b[1;32m      2\u001b[0m \u001b[0;32mfrom\u001b[0m \u001b[0mgensim\u001b[0m\u001b[0;34m.\u001b[0m\u001b[0mmodels\u001b[0m\u001b[0;34m.\u001b[0m\u001b[0mkeyedvectors\u001b[0m \u001b[0;32mimport\u001b[0m \u001b[0mWord2VecKeyedVectors\u001b[0m\u001b[0;34m\u001b[0m\u001b[0;34m\u001b[0m\u001b[0m\n\u001b[1;32m      3\u001b[0m \u001b[0;34m\u001b[0m\u001b[0m\n\u001b[0;32m----> 4\u001b[0;31m \u001b[0mmodel\u001b[0m \u001b[0;34m=\u001b[0m \u001b[0mapi\u001b[0m\u001b[0;34m.\u001b[0m\u001b[0mload\u001b[0m\u001b[0;34m(\u001b[0m\u001b[0;34m'word2vec-google-news-300'\u001b[0m\u001b[0;34m)\u001b[0m\u001b[0;34m\u001b[0m\u001b[0;34m\u001b[0m\u001b[0m\n\u001b[0m",
      "\u001b[0;32m~/anaconda3/lib/python3.7/site-packages/gensim/downloader.py\u001b[0m in \u001b[0;36mload\u001b[0;34m(name, return_path)\u001b[0m\n\u001b[1;32m    493\u001b[0m     \u001b[0mpath\u001b[0m \u001b[0;34m=\u001b[0m \u001b[0mos\u001b[0m\u001b[0;34m.\u001b[0m\u001b[0mpath\u001b[0m\u001b[0;34m.\u001b[0m\u001b[0mjoin\u001b[0m\u001b[0;34m(\u001b[0m\u001b[0mfolder_dir\u001b[0m\u001b[0;34m,\u001b[0m \u001b[0mfile_name\u001b[0m\u001b[0;34m)\u001b[0m\u001b[0;34m\u001b[0m\u001b[0;34m\u001b[0m\u001b[0m\n\u001b[1;32m    494\u001b[0m     \u001b[0;32mif\u001b[0m \u001b[0;32mnot\u001b[0m \u001b[0mos\u001b[0m\u001b[0;34m.\u001b[0m\u001b[0mpath\u001b[0m\u001b[0;34m.\u001b[0m\u001b[0mexists\u001b[0m\u001b[0;34m(\u001b[0m\u001b[0mfolder_dir\u001b[0m\u001b[0;34m)\u001b[0m\u001b[0;34m:\u001b[0m\u001b[0;34m\u001b[0m\u001b[0;34m\u001b[0m\u001b[0m\n\u001b[0;32m--> 495\u001b[0;31m         \u001b[0m_download\u001b[0m\u001b[0;34m(\u001b[0m\u001b[0mname\u001b[0m\u001b[0;34m)\u001b[0m\u001b[0;34m\u001b[0m\u001b[0;34m\u001b[0m\u001b[0m\n\u001b[0m\u001b[1;32m    496\u001b[0m \u001b[0;34m\u001b[0m\u001b[0m\n\u001b[1;32m    497\u001b[0m     \u001b[0;32mif\u001b[0m \u001b[0mreturn_path\u001b[0m\u001b[0;34m:\u001b[0m\u001b[0;34m\u001b[0m\u001b[0;34m\u001b[0m\u001b[0m\n",
      "\u001b[0;32m~/anaconda3/lib/python3.7/site-packages/gensim/downloader.py\u001b[0m in \u001b[0;36m_download\u001b[0;34m(name)\u001b[0m\n\u001b[1;32m    393\u001b[0m         \u001b[0mfname\u001b[0m \u001b[0;34m=\u001b[0m \u001b[0;34m\"{fname}.gz\"\u001b[0m\u001b[0;34m.\u001b[0m\u001b[0mformat\u001b[0m\u001b[0;34m(\u001b[0m\u001b[0mfname\u001b[0m\u001b[0;34m=\u001b[0m\u001b[0mname\u001b[0m\u001b[0;34m)\u001b[0m\u001b[0;34m\u001b[0m\u001b[0;34m\u001b[0m\u001b[0m\n\u001b[1;32m    394\u001b[0m         \u001b[0mdst_path\u001b[0m \u001b[0;34m=\u001b[0m \u001b[0mos\u001b[0m\u001b[0;34m.\u001b[0m\u001b[0mpath\u001b[0m\u001b[0;34m.\u001b[0m\u001b[0mjoin\u001b[0m\u001b[0;34m(\u001b[0m\u001b[0mtmp_dir\u001b[0m\u001b[0;34m,\u001b[0m \u001b[0mfname\u001b[0m\u001b[0;34m)\u001b[0m\u001b[0;34m\u001b[0m\u001b[0;34m\u001b[0m\u001b[0m\n\u001b[0;32m--> 395\u001b[0;31m         \u001b[0murllib\u001b[0m\u001b[0;34m.\u001b[0m\u001b[0murlretrieve\u001b[0m\u001b[0;34m(\u001b[0m\u001b[0murl_data\u001b[0m\u001b[0;34m,\u001b[0m \u001b[0mdst_path\u001b[0m\u001b[0;34m,\u001b[0m \u001b[0mreporthook\u001b[0m\u001b[0;34m=\u001b[0m\u001b[0m_progress\u001b[0m\u001b[0;34m)\u001b[0m\u001b[0;34m\u001b[0m\u001b[0;34m\u001b[0m\u001b[0m\n\u001b[0m\u001b[1;32m    396\u001b[0m         \u001b[0;32mif\u001b[0m \u001b[0m_calculate_md5_checksum\u001b[0m\u001b[0;34m(\u001b[0m\u001b[0mdst_path\u001b[0m\u001b[0;34m)\u001b[0m \u001b[0;34m==\u001b[0m \u001b[0m_get_checksum\u001b[0m\u001b[0;34m(\u001b[0m\u001b[0mname\u001b[0m\u001b[0;34m)\u001b[0m\u001b[0;34m:\u001b[0m\u001b[0;34m\u001b[0m\u001b[0;34m\u001b[0m\u001b[0m\n\u001b[1;32m    397\u001b[0m             \u001b[0msys\u001b[0m\u001b[0;34m.\u001b[0m\u001b[0mstdout\u001b[0m\u001b[0;34m.\u001b[0m\u001b[0mwrite\u001b[0m\u001b[0;34m(\u001b[0m\u001b[0;34m\"\\n\"\u001b[0m\u001b[0;34m)\u001b[0m\u001b[0;34m\u001b[0m\u001b[0;34m\u001b[0m\u001b[0m\n",
      "\u001b[0;32m~/anaconda3/lib/python3.7/urllib/request.py\u001b[0m in \u001b[0;36murlretrieve\u001b[0;34m(url, filename, reporthook, data)\u001b[0m\n\u001b[1;32m    274\u001b[0m \u001b[0;34m\u001b[0m\u001b[0m\n\u001b[1;32m    275\u001b[0m             \u001b[0;32mwhile\u001b[0m \u001b[0;32mTrue\u001b[0m\u001b[0;34m:\u001b[0m\u001b[0;34m\u001b[0m\u001b[0;34m\u001b[0m\u001b[0m\n\u001b[0;32m--> 276\u001b[0;31m                 \u001b[0mblock\u001b[0m \u001b[0;34m=\u001b[0m \u001b[0mfp\u001b[0m\u001b[0;34m.\u001b[0m\u001b[0mread\u001b[0m\u001b[0;34m(\u001b[0m\u001b[0mbs\u001b[0m\u001b[0;34m)\u001b[0m\u001b[0;34m\u001b[0m\u001b[0;34m\u001b[0m\u001b[0m\n\u001b[0m\u001b[1;32m    277\u001b[0m                 \u001b[0;32mif\u001b[0m \u001b[0;32mnot\u001b[0m \u001b[0mblock\u001b[0m\u001b[0;34m:\u001b[0m\u001b[0;34m\u001b[0m\u001b[0;34m\u001b[0m\u001b[0m\n\u001b[1;32m    278\u001b[0m                     \u001b[0;32mbreak\u001b[0m\u001b[0;34m\u001b[0m\u001b[0;34m\u001b[0m\u001b[0m\n",
      "\u001b[0;32m~/anaconda3/lib/python3.7/http/client.py\u001b[0m in \u001b[0;36mread\u001b[0;34m(self, amt)\u001b[0m\n\u001b[1;32m    455\u001b[0m             \u001b[0;31m# Amount is given, implement using readinto\u001b[0m\u001b[0;34m\u001b[0m\u001b[0;34m\u001b[0m\u001b[0;34m\u001b[0m\u001b[0m\n\u001b[1;32m    456\u001b[0m             \u001b[0mb\u001b[0m \u001b[0;34m=\u001b[0m \u001b[0mbytearray\u001b[0m\u001b[0;34m(\u001b[0m\u001b[0mamt\u001b[0m\u001b[0;34m)\u001b[0m\u001b[0;34m\u001b[0m\u001b[0;34m\u001b[0m\u001b[0m\n\u001b[0;32m--> 457\u001b[0;31m             \u001b[0mn\u001b[0m \u001b[0;34m=\u001b[0m \u001b[0mself\u001b[0m\u001b[0;34m.\u001b[0m\u001b[0mreadinto\u001b[0m\u001b[0;34m(\u001b[0m\u001b[0mb\u001b[0m\u001b[0;34m)\u001b[0m\u001b[0;34m\u001b[0m\u001b[0;34m\u001b[0m\u001b[0m\n\u001b[0m\u001b[1;32m    458\u001b[0m             \u001b[0;32mreturn\u001b[0m \u001b[0mmemoryview\u001b[0m\u001b[0;34m(\u001b[0m\u001b[0mb\u001b[0m\u001b[0;34m)\u001b[0m\u001b[0;34m[\u001b[0m\u001b[0;34m:\u001b[0m\u001b[0mn\u001b[0m\u001b[0;34m]\u001b[0m\u001b[0;34m.\u001b[0m\u001b[0mtobytes\u001b[0m\u001b[0;34m(\u001b[0m\u001b[0;34m)\u001b[0m\u001b[0;34m\u001b[0m\u001b[0;34m\u001b[0m\u001b[0m\n\u001b[1;32m    459\u001b[0m         \u001b[0;32melse\u001b[0m\u001b[0;34m:\u001b[0m\u001b[0;34m\u001b[0m\u001b[0;34m\u001b[0m\u001b[0m\n",
      "\u001b[0;32m~/anaconda3/lib/python3.7/http/client.py\u001b[0m in \u001b[0;36mreadinto\u001b[0;34m(self, b)\u001b[0m\n\u001b[1;32m    499\u001b[0m         \u001b[0;31m# connection, and the user is reading more bytes than will be provided\u001b[0m\u001b[0;34m\u001b[0m\u001b[0;34m\u001b[0m\u001b[0;34m\u001b[0m\u001b[0m\n\u001b[1;32m    500\u001b[0m         \u001b[0;31m# (for example, reading in 1k chunks)\u001b[0m\u001b[0;34m\u001b[0m\u001b[0;34m\u001b[0m\u001b[0;34m\u001b[0m\u001b[0m\n\u001b[0;32m--> 501\u001b[0;31m         \u001b[0mn\u001b[0m \u001b[0;34m=\u001b[0m \u001b[0mself\u001b[0m\u001b[0;34m.\u001b[0m\u001b[0mfp\u001b[0m\u001b[0;34m.\u001b[0m\u001b[0mreadinto\u001b[0m\u001b[0;34m(\u001b[0m\u001b[0mb\u001b[0m\u001b[0;34m)\u001b[0m\u001b[0;34m\u001b[0m\u001b[0;34m\u001b[0m\u001b[0m\n\u001b[0m\u001b[1;32m    502\u001b[0m         \u001b[0;32mif\u001b[0m \u001b[0;32mnot\u001b[0m \u001b[0mn\u001b[0m \u001b[0;32mand\u001b[0m \u001b[0mb\u001b[0m\u001b[0;34m:\u001b[0m\u001b[0;34m\u001b[0m\u001b[0;34m\u001b[0m\u001b[0m\n\u001b[1;32m    503\u001b[0m             \u001b[0;31m# Ideally, we would raise IncompleteRead if the content-length\u001b[0m\u001b[0;34m\u001b[0m\u001b[0;34m\u001b[0m\u001b[0;34m\u001b[0m\u001b[0m\n",
      "\u001b[0;32m~/anaconda3/lib/python3.7/socket.py\u001b[0m in \u001b[0;36mreadinto\u001b[0;34m(self, b)\u001b[0m\n\u001b[1;32m    587\u001b[0m         \u001b[0;32mwhile\u001b[0m \u001b[0;32mTrue\u001b[0m\u001b[0;34m:\u001b[0m\u001b[0;34m\u001b[0m\u001b[0;34m\u001b[0m\u001b[0m\n\u001b[1;32m    588\u001b[0m             \u001b[0;32mtry\u001b[0m\u001b[0;34m:\u001b[0m\u001b[0;34m\u001b[0m\u001b[0;34m\u001b[0m\u001b[0m\n\u001b[0;32m--> 589\u001b[0;31m                 \u001b[0;32mreturn\u001b[0m \u001b[0mself\u001b[0m\u001b[0;34m.\u001b[0m\u001b[0m_sock\u001b[0m\u001b[0;34m.\u001b[0m\u001b[0mrecv_into\u001b[0m\u001b[0;34m(\u001b[0m\u001b[0mb\u001b[0m\u001b[0;34m)\u001b[0m\u001b[0;34m\u001b[0m\u001b[0;34m\u001b[0m\u001b[0m\n\u001b[0m\u001b[1;32m    590\u001b[0m             \u001b[0;32mexcept\u001b[0m \u001b[0mtimeout\u001b[0m\u001b[0;34m:\u001b[0m\u001b[0;34m\u001b[0m\u001b[0;34m\u001b[0m\u001b[0m\n\u001b[1;32m    591\u001b[0m                 \u001b[0mself\u001b[0m\u001b[0;34m.\u001b[0m\u001b[0m_timeout_occurred\u001b[0m \u001b[0;34m=\u001b[0m \u001b[0;32mTrue\u001b[0m\u001b[0;34m\u001b[0m\u001b[0;34m\u001b[0m\u001b[0m\n",
      "\u001b[0;32m~/anaconda3/lib/python3.7/ssl.py\u001b[0m in \u001b[0;36mrecv_into\u001b[0;34m(self, buffer, nbytes, flags)\u001b[0m\n\u001b[1;32m   1069\u001b[0m                   \u001b[0;34m\"non-zero flags not allowed in calls to recv_into() on %s\"\u001b[0m \u001b[0;34m%\u001b[0m\u001b[0;34m\u001b[0m\u001b[0;34m\u001b[0m\u001b[0m\n\u001b[1;32m   1070\u001b[0m                   self.__class__)\n\u001b[0;32m-> 1071\u001b[0;31m             \u001b[0;32mreturn\u001b[0m \u001b[0mself\u001b[0m\u001b[0;34m.\u001b[0m\u001b[0mread\u001b[0m\u001b[0;34m(\u001b[0m\u001b[0mnbytes\u001b[0m\u001b[0;34m,\u001b[0m \u001b[0mbuffer\u001b[0m\u001b[0;34m)\u001b[0m\u001b[0;34m\u001b[0m\u001b[0;34m\u001b[0m\u001b[0m\n\u001b[0m\u001b[1;32m   1072\u001b[0m         \u001b[0;32melse\u001b[0m\u001b[0;34m:\u001b[0m\u001b[0;34m\u001b[0m\u001b[0;34m\u001b[0m\u001b[0m\n\u001b[1;32m   1073\u001b[0m             \u001b[0;32mreturn\u001b[0m \u001b[0msuper\u001b[0m\u001b[0;34m(\u001b[0m\u001b[0;34m)\u001b[0m\u001b[0;34m.\u001b[0m\u001b[0mrecv_into\u001b[0m\u001b[0;34m(\u001b[0m\u001b[0mbuffer\u001b[0m\u001b[0;34m,\u001b[0m \u001b[0mnbytes\u001b[0m\u001b[0;34m,\u001b[0m \u001b[0mflags\u001b[0m\u001b[0;34m)\u001b[0m\u001b[0;34m\u001b[0m\u001b[0;34m\u001b[0m\u001b[0m\n",
      "\u001b[0;32m~/anaconda3/lib/python3.7/ssl.py\u001b[0m in \u001b[0;36mread\u001b[0;34m(self, len, buffer)\u001b[0m\n\u001b[1;32m    927\u001b[0m         \u001b[0;32mtry\u001b[0m\u001b[0;34m:\u001b[0m\u001b[0;34m\u001b[0m\u001b[0;34m\u001b[0m\u001b[0m\n\u001b[1;32m    928\u001b[0m             \u001b[0;32mif\u001b[0m \u001b[0mbuffer\u001b[0m \u001b[0;32mis\u001b[0m \u001b[0;32mnot\u001b[0m \u001b[0;32mNone\u001b[0m\u001b[0;34m:\u001b[0m\u001b[0;34m\u001b[0m\u001b[0;34m\u001b[0m\u001b[0m\n\u001b[0;32m--> 929\u001b[0;31m                 \u001b[0;32mreturn\u001b[0m \u001b[0mself\u001b[0m\u001b[0;34m.\u001b[0m\u001b[0m_sslobj\u001b[0m\u001b[0;34m.\u001b[0m\u001b[0mread\u001b[0m\u001b[0;34m(\u001b[0m\u001b[0mlen\u001b[0m\u001b[0;34m,\u001b[0m \u001b[0mbuffer\u001b[0m\u001b[0;34m)\u001b[0m\u001b[0;34m\u001b[0m\u001b[0;34m\u001b[0m\u001b[0m\n\u001b[0m\u001b[1;32m    930\u001b[0m             \u001b[0;32melse\u001b[0m\u001b[0;34m:\u001b[0m\u001b[0;34m\u001b[0m\u001b[0;34m\u001b[0m\u001b[0m\n\u001b[1;32m    931\u001b[0m                 \u001b[0;32mreturn\u001b[0m \u001b[0mself\u001b[0m\u001b[0;34m.\u001b[0m\u001b[0m_sslobj\u001b[0m\u001b[0;34m.\u001b[0m\u001b[0mread\u001b[0m\u001b[0;34m(\u001b[0m\u001b[0mlen\u001b[0m\u001b[0;34m)\u001b[0m\u001b[0;34m\u001b[0m\u001b[0;34m\u001b[0m\u001b[0m\n",
      "\u001b[0;31mKeyboardInterrupt\u001b[0m: "
     ]
    }
   ],
   "source": [
    "import gensim.downloader as api\n",
    "from gensim.models.keyedvectors import Word2VecKeyedVectors\n",
    "\n",
    "model = api.load('word2vec-google-news-300')"
   ]
  },
  {
   "cell_type": "code",
   "execution_count": null,
   "metadata": {},
   "outputs": [],
   "source": [
    "# model = {}\n",
    "# with open('/home/aheli/glove.6B.300d.txt',encoding='utf-8') as f:\n",
    "#     for line in f:\n",
    "#         values = line.split()\n",
    "#         word = values[0]\n",
    "#         coeffs = np.asarray(values[1:],dtype='float32')\n",
    "#         model[word] = coeffs\n",
    "#     f.close()"
   ]
  },
  {
   "cell_type": "code",
   "execution_count": null,
   "metadata": {},
   "outputs": [],
   "source": [
    "df = pd.read_csv(\"/home/aheli/SmartEmailTracker/Merged UI_Listener/emaildataset.csv\", usecols= ['Subject','Body', 'Class'])\n",
    "df.head()"
   ]
  },
  {
   "cell_type": "code",
   "execution_count": null,
   "metadata": {},
   "outputs": [],
   "source": [
    "nlp = spacy.load('en')"
   ]
  },
  {
   "cell_type": "code",
   "execution_count": 5,
   "metadata": {},
   "outputs": [],
   "source": [
    "my_stop = [\"'d\", \"'ll\", \"'m\", \"'re\", \"'s\", \"'ve\",'a','cc','subject','http', 'gbp', 'usd', 'eur', 'inr', 'cad', 'thanks', \"acc\", \"id\", 'account', 'regards', 'hi', 'hello', 'thank you', 'greetings', 'about','above', 'across','after','afterwards','alone','along','am','among', 'amongst','amount','an','and','another','any','anyhow','anyone','anything','anyway','anywhere','are','around','as', 'at','be','became','because','become','becomes','becoming','been','before','beforehand','behind','being','below', 'beside','besides','between','both','bottom','but','by','ca','call','can','could','did', 'do', 'does', 'doing', 'down', 'due', 'during', 'each', 'eight', 'either', 'eleven', 'else', 'elsewhere', 'everyone', 'everything', 'everywhere', 'fifteen', 'fifty', 'first', 'five', 'for', 'former', 'formerly', 'forty', 'four', 'from', 'front', 'further', 'get', 'give', 'go', 'had', 'has', 'have', 'he', 'hence', 'her', 'here', 'hereafter', 'hereby', 'herein', 'hereupon', 'hers', 'herself', 'him', 'himself', 'his', 'how', 'however', 'hundred', 'i', 'if', 'in', 'indeed', 'into', 'is', 'it', 'its', 'itself', 'just', 'keep', 'last', 'latter', 'latterly', 'least', 'less', 'made', 'make', 'many', 'may', 'me', 'meanwhile', 'might', 'mine', 'more', 'moreover', 'move', 'much', 'must', 'my', 'myself', 'name', 'namely', 'neither', 'nevertheless', 'next', 'nine', 'no', 'nobody', 'now', 'nowhere', 'of', 'off', 'often', 'on', 'one', 'onto', 'or', 'other', 'others', 'otherwise', 'our', 'ours', 'ourselves', 'out', 'own', 'part', 'per', 'perhaps', 'please', 'put', 'quite', 'rather', 're', 'really', 'regarding', 'same', 'say', 'see', 'seem', 'seemed', 'seeming', 'seems', 'she', 'should', 'show', 'side', 'since', 'six', 'sixty', 'so', 'some', 'somehow', 'someone', 'something', 'sometime', 'somewhere', 'such', 'take', 'ten', 'than', 'that', 'the', 'their', 'them', 'themselves', 'then', 'thence', 'there', 'thereafter', 'thereby', 'therefore', 'therein', 'thereupon', 'these', 'they', 'third', 'this', 'those', 'three', 'through', 'throughout', 'thru', 'thus', 'to', 'together', 'too', 'top', 'toward', 'towards', 'twelve', 'twenty', 'two', 'under', 'up', 'upon', 'us', 'using', 'various', 'via', 'was', 'we', 'well', 'were', 'whatever', 'whence', 'whenever', 'whereafter', 'whereas', 'whereby', 'wherein', 'whereupon', 'wherever', 'whether', 'which', 'while', 'whither', 'whoever', 'whole', 'whom', 'whose', 'will', 'with', 'within', 'would', 'yet', 'you', 'your', 'yours', 'yourself', 'yourselves', '‘d', '‘ll', '‘m', '‘re', '‘s', '‘ve', '’d', '’ll', '’m', '’re', '’s', '’ve']"
   ]
  },
  {
   "cell_type": "code",
   "execution_count": 6,
   "metadata": {},
   "outputs": [],
   "source": [
    "def get_only_chars(text):    \n",
    "    text = text.replace(\"-\", \" \") #replace hyphens with spaces\n",
    "    text = text.replace(\"\\t\", \" \")\n",
    "    text = text.replace(\"\\n\", \" \")\n",
    "\n",
    "    text=text.rstrip()\n",
    "    text = re.sub(r'[^a-zA-Z]', ' ', text)\n",
    "    t = \"\"\n",
    "\n",
    "    for i in text.lower().split():\n",
    "        if func(i) is not None:\n",
    "            t += func(i) + \" \"\n",
    "        else :\n",
    "            t += i + \" \"\n",
    "\n",
    "    t = t.rstrip()\n",
    "    \n",
    "    text = \" \".join([i for i in t.lower().split()])\n",
    "    text = \" \".join(token for token in text.split() if token not in my_stop)\n",
    "\n",
    "    doc = nlp(text)\n",
    "    \n",
    "    doc = \" \".join(token.orth_ for token in doc if not token.is_punct | token.is_space)\n",
    "    return doc"
   ]
  },
  {
   "cell_type": "code",
   "execution_count": 7,
   "metadata": {},
   "outputs": [],
   "source": [
    "for i in range(df.shape[0]):\n",
    "    # merge subject and body strings\n",
    "    df['Text'] = (df['Subject'] + \" \" + df['Body'])"
   ]
  },
  {
   "cell_type": "code",
   "execution_count": 8,
   "metadata": {},
   "outputs": [],
   "source": [
    "def converter(x):\n",
    "    try:\n",
    "        return ' '.join([x.lower() for x in str(x).split()])\n",
    "    except AttributeError:\n",
    "        return None  # or some other value\n",
    "\n",
    "df['Text'] = df['Text'].apply(converter)"
   ]
  },
  {
   "cell_type": "code",
   "execution_count": 9,
   "metadata": {
    "colab": {},
    "colab_type": "code",
    "id": "jWsuPQTaMAt3"
   },
   "outputs": [],
   "source": [
    "df['Text'] = df['Text'].apply(lambda x: get_only_chars(x))"
   ]
  },
  {
   "cell_type": "code",
   "execution_count": 10,
   "metadata": {
    "colab": {},
    "colab_type": "code",
    "id": "9EbusUWvMAuA"
   },
   "outputs": [],
   "source": [
    "df = df.drop_duplicates('Text')"
   ]
  },
  {
   "cell_type": "code",
   "execution_count": 11,
   "metadata": {
    "colab": {
     "base_uri": "https://localhost:8080/",
     "height": 195
    },
    "colab_type": "code",
    "id": "qyGor_mYMAuI",
    "outputId": "7ec29a95-ed6f-4038-b533-656c4e2f88dd"
   },
   "outputs": [
    {
     "data": {
      "text/plain": [
       "(355, 4)"
      ]
     },
     "execution_count": 11,
     "metadata": {},
     "output_type": "execute_result"
    }
   ],
   "source": [
    "df.shape"
   ]
  },
  {
   "cell_type": "code",
   "execution_count": 67,
   "metadata": {},
   "outputs": [
    {
     "data": {
      "text/html": [
       "<div>\n",
       "<style scoped>\n",
       "    .dataframe tbody tr th:only-of-type {\n",
       "        vertical-align: middle;\n",
       "    }\n",
       "\n",
       "    .dataframe tbody tr th {\n",
       "        vertical-align: top;\n",
       "    }\n",
       "\n",
       "    .dataframe thead th {\n",
       "        text-align: right;\n",
       "    }\n",
       "</style>\n",
       "<table border=\"1\" class=\"dataframe\">\n",
       "  <thead>\n",
       "    <tr style=\"text-align: right;\">\n",
       "      <th></th>\n",
       "      <th>Subject</th>\n",
       "      <th>Body</th>\n",
       "      <th>Class</th>\n",
       "      <th>Text</th>\n",
       "    </tr>\n",
       "  </thead>\n",
       "  <tbody>\n",
       "    <tr>\n",
       "      <th>0</th>\n",
       "      <td>Send steps to activate online banking</td>\n",
       "      <td>This is to inform you that I am not able to wi...</td>\n",
       "      <td>2</td>\n",
       "      <td>send steps activate online banking inform not ...</td>\n",
       "    </tr>\n",
       "    <tr>\n",
       "      <th>1</th>\n",
       "      <td>Transaction 492144 is complete</td>\n",
       "      <td>Glad to let you know that I got the desired pa...</td>\n",
       "      <td>0</td>\n",
       "      <td>transaction complete glad let know got desired...</td>\n",
       "    </tr>\n",
       "    <tr>\n",
       "      <th>2</th>\n",
       "      <td>Remaining amount for transaction 253081 to be ...</td>\n",
       "      <td>I regret to inform you the I could only pay th...</td>\n",
       "      <td>3</td>\n",
       "      <td>remaining transaction paid later regret inform...</td>\n",
       "    </tr>\n",
       "    <tr>\n",
       "      <th>3</th>\n",
       "      <td>Payment received for transaction : 410544 and ...</td>\n",
       "      <td>Acknowledging the received payment for transac...</td>\n",
       "      <td>4</td>\n",
       "      <td>payment received transaction processing acknow...</td>\n",
       "    </tr>\n",
       "    <tr>\n",
       "      <th>4</th>\n",
       "      <td>Transaction 149922 stalled and payment not rec...</td>\n",
       "      <td>This is to notify you that my transaction 1499...</td>\n",
       "      <td>1</td>\n",
       "      <td>transaction stalled payment not received notif...</td>\n",
       "    </tr>\n",
       "    <tr>\n",
       "      <th>...</th>\n",
       "      <td>...</td>\n",
       "      <td>...</td>\n",
       "      <td>...</td>\n",
       "      <td>...</td>\n",
       "    </tr>\n",
       "    <tr>\n",
       "      <th>350</th>\n",
       "      <td>Seeking update on the status of transaction 66...</td>\n",
       "      <td>Hey, I would be really grateful if you could t...</td>\n",
       "      <td>5</td>\n",
       "      <td>seeking update status transaction hey grateful...</td>\n",
       "    </tr>\n",
       "    <tr>\n",
       "      <th>351</th>\n",
       "      <td>Payment outstanding for transaction 249435</td>\n",
       "      <td>I regret to inform you the I could only pay th...</td>\n",
       "      <td>3</td>\n",
       "      <td>payment outstanding transaction regret inform ...</td>\n",
       "    </tr>\n",
       "    <tr>\n",
       "      <th>352</th>\n",
       "      <td>Change address for account no. 868270</td>\n",
       "      <td>942 Tailwater Street Apt 544 Bronx, NY 10457 t...</td>\n",
       "      <td>2</td>\n",
       "      <td>change address tailwater street apt bronx ny n...</td>\n",
       "    </tr>\n",
       "    <tr>\n",
       "      <th>353</th>\n",
       "      <td>Transaction 347606 is complete</td>\n",
       "      <td>I deeply appreciate your quick service as I ha...</td>\n",
       "      <td>0</td>\n",
       "      <td>transaction complete deeply appreciate quick s...</td>\n",
       "    </tr>\n",
       "    <tr>\n",
       "      <th>354</th>\n",
       "      <td>Payment received for transaction : 130956 and ...</td>\n",
       "      <td>Hello! This is to inform you that I have recei...</td>\n",
       "      <td>4</td>\n",
       "      <td>payment received transaction processing inform...</td>\n",
       "    </tr>\n",
       "  </tbody>\n",
       "</table>\n",
       "<p>355 rows × 4 columns</p>\n",
       "</div>"
      ],
      "text/plain": [
       "                                               Subject  \\\n",
       "0                Send steps to activate online banking   \n",
       "1                       Transaction 492144 is complete   \n",
       "2    Remaining amount for transaction 253081 to be ...   \n",
       "3    Payment received for transaction : 410544 and ...   \n",
       "4    Transaction 149922 stalled and payment not rec...   \n",
       "..                                                 ...   \n",
       "350  Seeking update on the status of transaction 66...   \n",
       "351         Payment outstanding for transaction 249435   \n",
       "352              Change address for account no. 868270   \n",
       "353                     Transaction 347606 is complete   \n",
       "354  Payment received for transaction : 130956 and ...   \n",
       "\n",
       "                                                  Body  Class  \\\n",
       "0    This is to inform you that I am not able to wi...      2   \n",
       "1    Glad to let you know that I got the desired pa...      0   \n",
       "2    I regret to inform you the I could only pay th...      3   \n",
       "3    Acknowledging the received payment for transac...      4   \n",
       "4    This is to notify you that my transaction 1499...      1   \n",
       "..                                                 ...    ...   \n",
       "350  Hey, I would be really grateful if you could t...      5   \n",
       "351  I regret to inform you the I could only pay th...      3   \n",
       "352  942 Tailwater Street Apt 544 Bronx, NY 10457 t...      2   \n",
       "353  I deeply appreciate your quick service as I ha...      0   \n",
       "354  Hello! This is to inform you that I have recei...      4   \n",
       "\n",
       "                                                  Text  \n",
       "0    send steps activate online banking inform not ...  \n",
       "1    transaction complete glad let know got desired...  \n",
       "2    remaining transaction paid later regret inform...  \n",
       "3    payment received transaction processing acknow...  \n",
       "4    transaction stalled payment not received notif...  \n",
       "..                                                 ...  \n",
       "350  seeking update status transaction hey grateful...  \n",
       "351  payment outstanding transaction regret inform ...  \n",
       "352  change address tailwater street apt bronx ny n...  \n",
       "353  transaction complete deeply appreciate quick s...  \n",
       "354  payment received transaction processing inform...  \n",
       "\n",
       "[355 rows x 4 columns]"
      ]
     },
     "execution_count": 67,
     "metadata": {},
     "output_type": "execute_result"
    }
   ],
   "source": [
    "df.sample(frac=1).reset_index(drop=True)"
   ]
  },
  {
   "cell_type": "code",
   "execution_count": 13,
   "metadata": {},
   "outputs": [],
   "source": [
    "# set the by default to:\n",
    "num_classes = df.Class.unique() # the number of classes we consider (since the dataset has many classes)\n",
    "sample_size = 2 # the number of labeled sampled we’ll require from the user"
   ]
  },
  {
   "cell_type": "code",
   "execution_count": 44,
   "metadata": {},
   "outputs": [],
   "source": [
    "# Generate samples that contains K samples of each class\n",
    "\n",
    "def gen_sample(sample_size, num_classes):\n",
    "    \n",
    "    df.sample(frac=1).reset_index(drop=True)\n",
    "\n",
    "    df_1 = df[(df[\"Class\"] < num_classes+1)].reset_index().drop([\"index\"], axis=1).reset_index().drop([\"index\"], axis=1)\n",
    "    \n",
    "    train = df_1[df_1[\"Class\"] == np.unique(df_1['Class'])[0]].sample(sample_size)\n",
    "#     return train\n",
    "    train_index = train.index.tolist()\n",
    "\n",
    "    for i in range(1,num_classes):\n",
    "        train_2 = df_1[df_1[\"Class\"] == np.unique(df_1['Class'])[i]].sample(sample_size)\n",
    "        train = pd.concat([train, train_2], axis=0)\n",
    "        train_index.extend(train_2.index.tolist())\n",
    "\n",
    "    test = df_1[~df_1.index.isin(train_index)]\n",
    "    return train, test"
   ]
  },
  {
   "cell_type": "code",
   "execution_count": 15,
   "metadata": {},
   "outputs": [],
   "source": [
    "from sklearn.preprocessing import LabelEncoder \n",
    "\n",
    "le = LabelEncoder()\n",
    "df['Class'] = le.fit_transform(df['Class'])"
   ]
  },
  {
   "cell_type": "code",
   "execution_count": 16,
   "metadata": {},
   "outputs": [
    {
     "data": {
      "text/html": [
       "<div>\n",
       "<style scoped>\n",
       "    .dataframe tbody tr th:only-of-type {\n",
       "        vertical-align: middle;\n",
       "    }\n",
       "\n",
       "    .dataframe tbody tr th {\n",
       "        vertical-align: top;\n",
       "    }\n",
       "\n",
       "    .dataframe thead th {\n",
       "        text-align: right;\n",
       "    }\n",
       "</style>\n",
       "<table border=\"1\" class=\"dataframe\">\n",
       "  <thead>\n",
       "    <tr style=\"text-align: right;\">\n",
       "      <th></th>\n",
       "      <th>Subject</th>\n",
       "      <th>Body</th>\n",
       "      <th>Class</th>\n",
       "      <th>Text</th>\n",
       "    </tr>\n",
       "  </thead>\n",
       "  <tbody>\n",
       "    <tr>\n",
       "      <th>0</th>\n",
       "      <td>Transaction no. 072558 is unresolved.</td>\n",
       "      <td>Sorry to inform that there has been only a par...</td>\n",
       "      <td>3</td>\n",
       "      <td>transaction unresolved sorry inform only parti...</td>\n",
       "    </tr>\n",
       "    <tr>\n",
       "      <th>1</th>\n",
       "      <td>Order for new Cheque book</td>\n",
       "      <td>Good morning, I want to place an order for an ...</td>\n",
       "      <td>2</td>\n",
       "      <td>order new cheque book good morning want place ...</td>\n",
       "    </tr>\n",
       "    <tr>\n",
       "      <th>2</th>\n",
       "      <td>Required money acquired. Transaction 847047 is...</td>\n",
       "      <td>Hello! This is to inform you that I have recei...</td>\n",
       "      <td>4</td>\n",
       "      <td>required money acquired transaction process in...</td>\n",
       "    </tr>\n",
       "    <tr>\n",
       "      <th>3</th>\n",
       "      <td>Asking for the details for transaction 746078</td>\n",
       "      <td>I request you to kindly send the status of my ...</td>\n",
       "      <td>5</td>\n",
       "      <td>asking details transaction request kindly send...</td>\n",
       "    </tr>\n",
       "    <tr>\n",
       "      <th>4</th>\n",
       "      <td>Partial payment for transaction 535918</td>\n",
       "      <td>Hello!! Greetings for the day. Status of trans...</td>\n",
       "      <td>3</td>\n",
       "      <td>partial payment transaction day status transac...</td>\n",
       "    </tr>\n",
       "    <tr>\n",
       "      <th>5</th>\n",
       "      <td>Payment done and Transaction 683241 settled.</td>\n",
       "      <td>Greetings! I wanted to let you know that I hav...</td>\n",
       "      <td>0</td>\n",
       "      <td>payment done transaction settled wanted let kn...</td>\n",
       "    </tr>\n",
       "    <tr>\n",
       "      <th>6</th>\n",
       "      <td>Failure of transaction 608189</td>\n",
       "      <td>This is to notify you that my transaction 6081...</td>\n",
       "      <td>1</td>\n",
       "      <td>failure transaction notify transaction failed ...</td>\n",
       "    </tr>\n",
       "    <tr>\n",
       "      <th>7</th>\n",
       "      <td>Send steps to activate online banking</td>\n",
       "      <td>Hey, I have to transfer funds to a different b...</td>\n",
       "      <td>2</td>\n",
       "      <td>send steps activate online banking hey transfe...</td>\n",
       "    </tr>\n",
       "    <tr>\n",
       "      <th>8</th>\n",
       "      <td>Incomplete transaction 947071</td>\n",
       "      <td>I regret to inform you that I could only pay t...</td>\n",
       "      <td>3</td>\n",
       "      <td>incomplete transaction regret inform only pay ...</td>\n",
       "    </tr>\n",
       "    <tr>\n",
       "      <th>9</th>\n",
       "      <td>Failure of transaction 443004</td>\n",
       "      <td>Hey, I see my transaction with ID 443004 has f...</td>\n",
       "      <td>1</td>\n",
       "      <td>failure transaction hey transaction failed thi...</td>\n",
       "    </tr>\n",
       "    <tr>\n",
       "      <th>10</th>\n",
       "      <td>The pending amount for transaction 537615 will...</td>\n",
       "      <td>Since my transaction 537615 is still pending, ...</td>\n",
       "      <td>3</td>\n",
       "      <td>pending transaction reach soon transaction sti...</td>\n",
       "    </tr>\n",
       "    <tr>\n",
       "      <th>11</th>\n",
       "      <td>Handling the transaction 682817 after payment.</td>\n",
       "      <td>Sincere greetings, I am glad to tell you that ...</td>\n",
       "      <td>4</td>\n",
       "      <td>handling transaction payment sincere glad tell...</td>\n",
       "    </tr>\n",
       "    <tr>\n",
       "      <th>12</th>\n",
       "      <td>Upgrade to an account with more benefits</td>\n",
       "      <td>Hello, greetings for the day, So I have an acc...</td>\n",
       "      <td>2</td>\n",
       "      <td>upgrade benefits day branch having recently se...</td>\n",
       "    </tr>\n",
       "    <tr>\n",
       "      <th>13</th>\n",
       "      <td>Processing transaction having ID : 064742</td>\n",
       "      <td>Acknowledging the received payment for transac...</td>\n",
       "      <td>4</td>\n",
       "      <td>processing transaction having acknowledging re...</td>\n",
       "    </tr>\n",
       "    <tr>\n",
       "      <th>14</th>\n",
       "      <td>issue a new Cheque book</td>\n",
       "      <td>Warm greetings to you. I have recently exhaust...</td>\n",
       "      <td>2</td>\n",
       "      <td>issue new cheque book warm recently exhausted ...</td>\n",
       "    </tr>\n",
       "    <tr>\n",
       "      <th>15</th>\n",
       "      <td>The pending amount for transaction 376023 will...</td>\n",
       "      <td>I regret to inform you the I could only pay th...</td>\n",
       "      <td>3</td>\n",
       "      <td>pending transaction reach soon regret inform o...</td>\n",
       "    </tr>\n",
       "    <tr>\n",
       "      <th>16</th>\n",
       "      <td>Transaction having ID : 155325 has stopped. Help!</td>\n",
       "      <td>I have been your regular client and have follo...</td>\n",
       "      <td>1</td>\n",
       "      <td>transaction having stopped help regular client...</td>\n",
       "    </tr>\n",
       "    <tr>\n",
       "      <th>17</th>\n",
       "      <td>Change address for account no. 090514</td>\n",
       "      <td>Hey, It's me again. This time I want to change...</td>\n",
       "      <td>2</td>\n",
       "      <td>change address hey s again time want change ad...</td>\n",
       "    </tr>\n",
       "    <tr>\n",
       "      <th>18</th>\n",
       "      <td>Partially paid the required amount for transac...</td>\n",
       "      <td>There has been only a partial payment of amoun...</td>\n",
       "      <td>3</td>\n",
       "      <td>partially paid required transaction only parti...</td>\n",
       "    </tr>\n",
       "    <tr>\n",
       "      <th>19</th>\n",
       "      <td>there is an outstanding payment for transactio...</td>\n",
       "      <td>The transaction 981293 is taking too long to c...</td>\n",
       "      <td>3</td>\n",
       "      <td>outstanding payment transaction transaction ta...</td>\n",
       "    </tr>\n",
       "  </tbody>\n",
       "</table>\n",
       "</div>"
      ],
      "text/plain": [
       "                                              Subject  \\\n",
       "0               Transaction no. 072558 is unresolved.   \n",
       "1                           Order for new Cheque book   \n",
       "2   Required money acquired. Transaction 847047 is...   \n",
       "3       Asking for the details for transaction 746078   \n",
       "4              Partial payment for transaction 535918   \n",
       "5        Payment done and Transaction 683241 settled.   \n",
       "6                       Failure of transaction 608189   \n",
       "7               Send steps to activate online banking   \n",
       "8                       Incomplete transaction 947071   \n",
       "9                       Failure of transaction 443004   \n",
       "10  The pending amount for transaction 537615 will...   \n",
       "11     Handling the transaction 682817 after payment.   \n",
       "12           Upgrade to an account with more benefits   \n",
       "13          Processing transaction having ID : 064742   \n",
       "14                            issue a new Cheque book   \n",
       "15  The pending amount for transaction 376023 will...   \n",
       "16  Transaction having ID : 155325 has stopped. Help!   \n",
       "17              Change address for account no. 090514   \n",
       "18  Partially paid the required amount for transac...   \n",
       "19  there is an outstanding payment for transactio...   \n",
       "\n",
       "                                                 Body  Class  \\\n",
       "0   Sorry to inform that there has been only a par...      3   \n",
       "1   Good morning, I want to place an order for an ...      2   \n",
       "2   Hello! This is to inform you that I have recei...      4   \n",
       "3   I request you to kindly send the status of my ...      5   \n",
       "4   Hello!! Greetings for the day. Status of trans...      3   \n",
       "5   Greetings! I wanted to let you know that I hav...      0   \n",
       "6   This is to notify you that my transaction 6081...      1   \n",
       "7   Hey, I have to transfer funds to a different b...      2   \n",
       "8   I regret to inform you that I could only pay t...      3   \n",
       "9   Hey, I see my transaction with ID 443004 has f...      1   \n",
       "10  Since my transaction 537615 is still pending, ...      3   \n",
       "11  Sincere greetings, I am glad to tell you that ...      4   \n",
       "12  Hello, greetings for the day, So I have an acc...      2   \n",
       "13  Acknowledging the received payment for transac...      4   \n",
       "14  Warm greetings to you. I have recently exhaust...      2   \n",
       "15  I regret to inform you the I could only pay th...      3   \n",
       "16  I have been your regular client and have follo...      1   \n",
       "17  Hey, It's me again. This time I want to change...      2   \n",
       "18  There has been only a partial payment of amoun...      3   \n",
       "19  The transaction 981293 is taking too long to c...      3   \n",
       "\n",
       "                                                 Text  \n",
       "0   transaction unresolved sorry inform only parti...  \n",
       "1   order new cheque book good morning want place ...  \n",
       "2   required money acquired transaction process in...  \n",
       "3   asking details transaction request kindly send...  \n",
       "4   partial payment transaction day status transac...  \n",
       "5   payment done transaction settled wanted let kn...  \n",
       "6   failure transaction notify transaction failed ...  \n",
       "7   send steps activate online banking hey transfe...  \n",
       "8   incomplete transaction regret inform only pay ...  \n",
       "9   failure transaction hey transaction failed thi...  \n",
       "10  pending transaction reach soon transaction sti...  \n",
       "11  handling transaction payment sincere glad tell...  \n",
       "12  upgrade benefits day branch having recently se...  \n",
       "13  processing transaction having acknowledging re...  \n",
       "14  issue new cheque book warm recently exhausted ...  \n",
       "15  pending transaction reach soon regret inform o...  \n",
       "16  transaction having stopped help regular client...  \n",
       "17  change address hey s again time want change ad...  \n",
       "18  partially paid required transaction only parti...  \n",
       "19  outstanding payment transaction transaction ta...  "
      ]
     },
     "execution_count": 16,
     "metadata": {},
     "output_type": "execute_result"
    }
   ],
   "source": [
    "df.head(20)"
   ]
  },
  {
   "cell_type": "code",
   "execution_count": 17,
   "metadata": {},
   "outputs": [
    {
     "name": "stdout",
     "output_type": "stream",
     "text": [
      "0\n",
      "['Complete']\n",
      "1\n",
      "['Failed']\n",
      "2\n",
      "['General']\n",
      "3\n",
      "['Pending']\n",
      "4\n",
      "['Processing']\n",
      "5\n",
      "['Request']\n"
     ]
    }
   ],
   "source": [
    "for i in range(0, 6):\n",
    "    print(i)\n",
    "    print(le.inverse_transform([i]))"
   ]
  },
  {
   "cell_type": "code",
   "execution_count": 26,
   "metadata": {},
   "outputs": [],
   "source": [
    "# Text processing (split, find token id, get embedidng)\n",
    "def transform_sentence(text, model):\n",
    "    def preprocess_text(raw_text, model=model):\n",
    "\n",
    "            raw_text = raw_text.split()\n",
    "            return list(filter(lambda x: x in model.keys(), raw_text))\n",
    "\n",
    "    tokens = preprocess_text(text)\n",
    "\n",
    "    if not tokens:\n",
    "        return np.zeros(300)\n",
    "\n",
    "    c = [model[i] for i in tokens]\n",
    "    text_vector = np.mean(c, axis=0)\n",
    "    return np.array(text_vector)"
   ]
  },
  {
   "cell_type": "code",
   "execution_count": null,
   "metadata": {},
   "outputs": [],
   "source": []
  },
  {
   "cell_type": "code",
   "execution_count": 19,
   "metadata": {},
   "outputs": [],
   "source": [
    "import xgboost"
   ]
  },
  {
   "cell_type": "code",
   "execution_count": 68,
   "metadata": {},
   "outputs": [],
   "source": [
    "def return_score_xgb(sample_size, num_classes):\n",
    "\n",
    "    train, test = gen_sample(sample_size, num_classes)\n",
    "\n",
    "    X_train = train['Text'].values\n",
    "    y_train = train['Class'].values\n",
    "    X_test = test['Text'].values\n",
    "    y_test = test['Class'].values\n",
    "\n",
    "    X_train_mean = np.array([transform_sentence(x, model) for x in X_train])\n",
    "    X_test_mean = np.array([transform_sentence(x, model) for x in X_test])\n",
    "\n",
    "#     XG Boost\n",
    "    clf = xgboost.XGBClassifier()\n",
    "    clf.fit(X_train_mean, y_train)\n",
    "    \n",
    "    joblib.dump(le, './labelencoder.pkl')\n",
    "    joblib.dump(clf, './clf.pkl')\n",
    "\n",
    "    y_pred = clf.predict(X_test_mean)\n",
    "\n",
    "    return accuracy_score(y_pred, y_test)"
   ]
  },
  {
   "cell_type": "code",
   "execution_count": 69,
   "metadata": {},
   "outputs": [],
   "source": [
    "all_accuracy_xgb = {2:[],3:[],4:[],5:[],6:[],7:[]}\n",
    "\n",
    "for num_samples in range(1, 40):\n",
    "\n",
    "    for num_cl in range(2, 7):\n",
    "\n",
    "        all_accuracy_xgb[num_cl].append(return_score_xgb(num_samples,num_cl))"
   ]
  },
  {
   "cell_type": "markdown",
   "metadata": {},
   "source": [
    "## Summary"
   ]
  },
  {
   "cell_type": "code",
   "execution_count": 70,
   "metadata": {},
   "outputs": [],
   "source": [
    "df_results = pd.DataFrame({\n",
    "    \n",
    "    'Nb Classes':[2, 3, 4, 5, 6], \n",
    "\n",
    "    'mean XG Boost':[np.mean(all_accuracy_xgb[2]), \n",
    "        np.mean(all_accuracy_xgb[3]), \n",
    "        np.mean(all_accuracy_xgb[4]), \n",
    "        np.mean(all_accuracy_xgb[5]),\n",
    "        np.mean(all_accuracy_xgb[6])],\n",
    "    'max XG Boost':[max(all_accuracy_xgb[2]), \n",
    "        max(all_accuracy_xgb[3]), \n",
    "        max(all_accuracy_xgb[4]), \n",
    "        max(all_accuracy_xgb[5]),\n",
    "        max(all_accuracy_xgb[6])]\n",
    "    })"
   ]
  },
  {
   "cell_type": "code",
   "execution_count": 71,
   "metadata": {},
   "outputs": [
    {
     "data": {
      "text/html": [
       "<div>\n",
       "<style scoped>\n",
       "    .dataframe tbody tr th:only-of-type {\n",
       "        vertical-align: middle;\n",
       "    }\n",
       "\n",
       "    .dataframe tbody tr th {\n",
       "        vertical-align: top;\n",
       "    }\n",
       "\n",
       "    .dataframe thead th {\n",
       "        text-align: right;\n",
       "    }\n",
       "</style>\n",
       "<table border=\"1\" class=\"dataframe\">\n",
       "  <thead>\n",
       "    <tr style=\"text-align: right;\">\n",
       "      <th></th>\n",
       "      <th>Nb Classes</th>\n",
       "      <th>mean XG Boost</th>\n",
       "      <th>max XG Boost</th>\n",
       "    </tr>\n",
       "  </thead>\n",
       "  <tbody>\n",
       "    <tr>\n",
       "      <th>0</th>\n",
       "      <td>2</td>\n",
       "      <td>0.374443</td>\n",
       "      <td>0.486842</td>\n",
       "    </tr>\n",
       "    <tr>\n",
       "      <th>1</th>\n",
       "      <td>3</td>\n",
       "      <td>0.544972</td>\n",
       "      <td>0.645631</td>\n",
       "    </tr>\n",
       "    <tr>\n",
       "      <th>2</th>\n",
       "      <td>4</td>\n",
       "      <td>0.685957</td>\n",
       "      <td>0.786047</td>\n",
       "    </tr>\n",
       "    <tr>\n",
       "      <th>3</th>\n",
       "      <td>5</td>\n",
       "      <td>0.607486</td>\n",
       "      <td>0.723636</td>\n",
       "    </tr>\n",
       "    <tr>\n",
       "      <th>4</th>\n",
       "      <td>6</td>\n",
       "      <td>0.870909</td>\n",
       "      <td>0.992806</td>\n",
       "    </tr>\n",
       "  </tbody>\n",
       "</table>\n",
       "</div>"
      ],
      "text/plain": [
       "   Nb Classes  mean XG Boost  max XG Boost\n",
       "0           2       0.374443      0.486842\n",
       "1           3       0.544972      0.645631\n",
       "2           4       0.685957      0.786047\n",
       "3           5       0.607486      0.723636\n",
       "4           6       0.870909      0.992806"
      ]
     },
     "execution_count": 71,
     "metadata": {},
     "output_type": "execute_result"
    }
   ],
   "source": [
    "df_results"
   ]
  },
  {
   "cell_type": "code",
   "execution_count": null,
   "metadata": {},
   "outputs": [],
   "source": []
  },
  {
   "cell_type": "markdown",
   "metadata": {},
   "source": [
    "## Testing on incoming email "
   ]
  },
  {
   "cell_type": "code",
   "execution_count": 72,
   "metadata": {},
   "outputs": [],
   "source": [
    "le = joblib.load('./labelencoder.pkl')\n",
    "clf = joblib.load('./clf.pkl')"
   ]
  },
  {
   "cell_type": "code",
   "execution_count": 73,
   "metadata": {},
   "outputs": [
    {
     "name": "stdout",
     "output_type": "stream",
     "text": [
      "True\n"
     ]
    }
   ],
   "source": [
    "def is_empty_sent(cd):\n",
    "    all_zeros = not cd.any()\n",
    "    return all_zeros\n",
    "\n",
    "print(is_empty_sent(transform_sentence(\"efrg vftrg ojinc\", model)))"
   ]
  },
  {
   "cell_type": "code",
   "execution_count": 74,
   "metadata": {},
   "outputs": [],
   "source": [
    "def inp(emailto, emailfrom, subj, bod):\n",
    "    text = subj + \" \" + bod\n",
    "    text = get_only_chars(text)\n",
    "    print(text)\n",
    "    X_test_mean = np.array([transform_sentence(text, model)])\n",
    "    \n",
    "    if is_empty_sent(X_test_mean) is True:\n",
    "        print(\"Unable to read email.Please ensure that it is in English!\")\n",
    "        return\n",
    "\n",
    "    y_pred = clf.predict(X_test_mean)\n",
    "    print(y_pred)\n",
    "\n",
    "    return le.inverse_transform(y_pred)"
   ]
  },
  {
   "cell_type": "code",
   "execution_count": 75,
   "metadata": {},
   "outputs": [
    {
     "name": "stdout",
     "output_type": "stream",
     "text": [
      "payment processed payment paid successfully\n",
      "[4]\n",
      "['Processing']\n"
     ]
    }
   ],
   "source": [
    "print(inp(\"fvf\", \"defrfg\", \"payment processed\", \"hi, the payment for acc 1234 for usd 3456 was paid successfully.\"))"
   ]
  },
  {
   "cell_type": "code",
   "execution_count": 76,
   "metadata": {},
   "outputs": [
    {
     "name": "stdout",
     "output_type": "stream",
     "text": [
      "partially paid required transaction only partial payment\n",
      "[3]\n",
      "['Pending']\n"
     ]
    }
   ],
   "source": [
    "print(inp(\"cfdfv\", \"derftrg\", \"Partially paid the required amount for transaction\", \"There has been only a partial payment of amount 1234\"))"
   ]
  },
  {
   "cell_type": "code",
   "execution_count": 77,
   "metadata": {},
   "outputs": [
    {
     "name": "stdout",
     "output_type": "stream",
     "text": [
      "want know premium customer sincere recently came offer saying higher interest rates willing upgrade premium want base decision pros cons throw light woud very kind\n",
      "[2]\n",
      "['General']\n"
     ]
    }
   ],
   "source": [
    "print(inp(\"Jason@DEUTSCHEBANK.com\", \"Suhail@CitiBankPune.com\", \"Want to know more about being a premium customer\", \"Sincere greetings. I recently came across an offer saying I would have higher interest rates if I am willing to upgrade my account to a premium one. I want to base my decision on its pros as well as cons. So perhaps you could throw some light on it? That woud be very kind of you.\"))"
   ]
  },
  {
   "cell_type": "code",
   "execution_count": 78,
   "metadata": {},
   "outputs": [
    {
     "name": "stdout",
     "output_type": "stream",
     "text": [
      "payment progress acknowledge\n",
      "[4]\n",
      "['Processing']\n"
     ]
    }
   ],
   "source": [
    "print(inp(\"qwrqef\", \"cfdvfv\", \"\", \"Payment of 471862128 CAD to account id 101165 has been made on 19/02/2020 and is in progress, please acknowledge.\"))"
   ]
  },
  {
   "cell_type": "code",
   "execution_count": 79,
   "metadata": {},
   "outputs": [
    {
     "name": "stdout",
     "output_type": "stream",
     "text": [
      "what status transaction\n",
      "[1]\n",
      "['Failed']\n"
     ]
    }
   ],
   "source": [
    "print(inp(\"RFg\", \"ewrdef\", \"what is the status of my transaction: 12345\", \"hello \"))"
   ]
  },
  {
   "cell_type": "code",
   "execution_count": 80,
   "metadata": {},
   "outputs": [
    {
     "name": "stdout",
     "output_type": "stream",
     "text": [
      "payment done m glad inform payment successfully transferred bank\n",
      "[2]\n",
      "['General']\n"
     ]
    }
   ],
   "source": [
    "print(inp(\"abdf@\", \"fvfb\",\"payment for ID 3456 done\", \"I'm glad to inform you that your payment was successfully transferred to the bank account.\"))"
   ]
  },
  {
   "cell_type": "code",
   "execution_count": null,
   "metadata": {},
   "outputs": [],
   "source": []
  },
  {
   "cell_type": "code",
   "execution_count": null,
   "metadata": {},
   "outputs": [],
   "source": []
  }
 ],
 "metadata": {
  "kernelspec": {
   "display_name": "Python 3",
   "language": "python",
   "name": "python3"
  },
  "language_info": {
   "codemirror_mode": {
    "name": "ipython",
    "version": 3
   },
   "file_extension": ".py",
   "mimetype": "text/x-python",
   "name": "python",
   "nbconvert_exporter": "python",
   "pygments_lexer": "ipython3",
   "version": "3.7.6"
  }
 },
 "nbformat": 4,
 "nbformat_minor": 4
}
