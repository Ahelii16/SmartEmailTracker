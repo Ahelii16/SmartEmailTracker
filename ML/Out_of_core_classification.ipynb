{
 "cells": [
  {
   "cell_type": "code",
   "execution_count": 4,
   "metadata": {},
   "outputs": [],
   "source": [
    "# from glob import glob\n",
    "# import itertools\n",
    "import os.path\n",
    "import re\n",
    "# import tarfile\n",
    "# import time\n",
    "import sys\n",
    "\n",
    "import numpy as np\n",
    "import pandas as pd\n",
    "import matplotlib.pyplot as plt\n",
    "from matplotlib import rcParams\n",
    "\n",
    "# from html.parser import HTMLParser\n",
    "# from urllib.request import urlretrieve\n",
    "# from sklearn.datasets import get_data_home\n",
    "from sklearn.feature_extraction.text import HashingVectorizer\n",
    "from sklearn.linear_model import SGDClassifier\n",
    "from sklearn.linear_model import PassiveAggressiveClassifier\n",
    "from sklearn.linear_model import Perceptron\n",
    "from sklearn.naive_bayes import MultinomialNB\n",
    "from sklearn.metrics import classification_report"
   ]
  },
  {
   "cell_type": "code",
   "execution_count": 7,
   "metadata": {},
   "outputs": [],
   "source": [
    "import spacy\n",
    "import en_core_web_sm\n",
    "import re\n",
    "from nltk.tokenize.regexp import RegexpTokenizer"
   ]
  },
  {
   "cell_type": "code",
   "execution_count": 8,
   "metadata": {
    "tags": []
   },
   "outputs": [
    {
     "output_type": "stream",
     "name": "stdout",
     "text": "(951, 3)\n"
    },
    {
     "output_type": "execute_result",
     "data": {
      "text/plain": "                                             Subject  \\\n0              Transaction no. 072558 is unresolved.   \n1                          Order for new Cheque book   \n2  Required money acquired. Transaction 847047 is...   \n3      Asking for the details for transaction 746078   \n4             Partial payment for transaction 535918   \n\n                                                Body       Class  \n0  Sorry to inform that there has been only a par...     Pending  \n1  Good morning, I want to place an order for an ...     General  \n2  Hello! This is to inform you that I have recei...  Processing  \n3  I request you to kindly send the status of my ...     Request  \n4  Hello!! Greetings for the day. Status of trans...     Pending  ",
      "text/html": "<div>\n<style scoped>\n    .dataframe tbody tr th:only-of-type {\n        vertical-align: middle;\n    }\n\n    .dataframe tbody tr th {\n        vertical-align: top;\n    }\n\n    .dataframe thead th {\n        text-align: right;\n    }\n</style>\n<table border=\"1\" class=\"dataframe\">\n  <thead>\n    <tr style=\"text-align: right;\">\n      <th></th>\n      <th>Subject</th>\n      <th>Body</th>\n      <th>Class</th>\n    </tr>\n  </thead>\n  <tbody>\n    <tr>\n      <th>0</th>\n      <td>Transaction no. 072558 is unresolved.</td>\n      <td>Sorry to inform that there has been only a par...</td>\n      <td>Pending</td>\n    </tr>\n    <tr>\n      <th>1</th>\n      <td>Order for new Cheque book</td>\n      <td>Good morning, I want to place an order for an ...</td>\n      <td>General</td>\n    </tr>\n    <tr>\n      <th>2</th>\n      <td>Required money acquired. Transaction 847047 is...</td>\n      <td>Hello! This is to inform you that I have recei...</td>\n      <td>Processing</td>\n    </tr>\n    <tr>\n      <th>3</th>\n      <td>Asking for the details for transaction 746078</td>\n      <td>I request you to kindly send the status of my ...</td>\n      <td>Request</td>\n    </tr>\n    <tr>\n      <th>4</th>\n      <td>Partial payment for transaction 535918</td>\n      <td>Hello!! Greetings for the day. Status of trans...</td>\n      <td>Pending</td>\n    </tr>\n  </tbody>\n</table>\n</div>"
     },
     "metadata": {},
     "execution_count": 8
    }
   ],
   "source": [
    "df = pd.read_csv('./emaildataset.csv', usecols = ['Subject','Body', 'Class'])\n",
    "print(df.shape)\n",
    "df.head()"
   ]
  },
  {
   "cell_type": "code",
   "execution_count": 9,
   "metadata": {},
   "outputs": [],
   "source": [
    "true_k = df.Class.unique().shape[0]"
   ]
  },
  {
   "cell_type": "code",
   "execution_count": 10,
   "metadata": {},
   "outputs": [
    {
     "output_type": "execute_result",
     "data": {
      "text/plain": "6"
     },
     "metadata": {},
     "execution_count": 10
    }
   ],
   "source": [
    "true_k"
   ]
  },
  {
   "cell_type": "code",
   "execution_count": 11,
   "metadata": {
    "colab": {},
    "colab_type": "code",
    "id": "QfpmcosKBMjo"
   },
   "outputs": [],
   "source": [
    "nlp_ = en_core_web_sm.load()"
   ]
  },
  {
   "cell_type": "code",
   "execution_count": 12,
   "metadata": {
    "colab": {},
    "colab_type": "code",
    "id": "qpQuUg2CBMjv"
   },
   "outputs": [],
   "source": [
    "nlp = spacy.load('en')"
   ]
  },
  {
   "cell_type": "code",
   "execution_count": 13,
   "metadata": {},
   "outputs": [],
   "source": [
    "my_stop = {\"'d\", \"'ll\", \"'m\", \"'re\", \"'s\", \"'ve\",'a','cc','subject','http', 'gbp', 'usd', 'eur', 'inr', 'cad', 'thanks', \"acc\", \"id\", 'account', 'regards', 'hi', 'hello', 'thank you', 'greetings', 'about','above', 'across','after','afterwards','against','alone','along','already','also','although','always','am','among', 'amongst','amount','an','and','another','any','anyhow','anyone','anything','anyway','anywhere','are','around','as', 'at','back','be','became','because','become','becomes','becoming','been','before','beforehand','behind','being','below', 'beside','besides','between','beyond','both','bottom','but','by','ca','call','can','could','did', 'do', 'does', 'doing', 'done', 'down', 'due', 'during', 'each', 'eight', 'either', 'eleven', 'else', 'elsewhere', 'empty', 'enough', 'even', 'ever', 'every', 'everyone', 'everything', 'everywhere', 'except', 'few', 'fifteen', 'fifty', 'first', 'five', 'for', 'former', 'formerly', 'forty', 'four', 'from', 'front', 'full', 'further', 'get', 'give', 'go', 'had', 'has', 'have', 'he', 'hence', 'her', 'here', 'hereafter', 'hereby', 'herein', 'hereupon', 'hers', 'herself', 'him', 'himself', 'his', 'how', 'however', 'hundred', 'i', 'if', 'in', 'indeed', 'into', 'is', 'it', 'its', 'itself', 'just', 'keep', 'last', 'latter', 'latterly', 'least', 'less', 'made', 'make', 'many', 'may', 'me', 'meanwhile', 'might', 'mine', 'more', 'moreover', 'most', 'mostly', 'move', 'much', 'must', 'my', 'myself', 'name', 'namely', 'neither', 'never', 'nevertheless', 'next', 'nine', 'no', 'nobody', 'now', 'nowhere', 'of', 'off', 'often', 'on', 'once', 'one', 'only', 'onto', 'or', 'other', 'others', 'otherwise', 'our', 'ours', 'ourselves', 'out', 'over', 'own', 'part', 'per', 'perhaps', 'please', 'put', 'quite', 'rather', 're', 'really', 'regarding', 'same', 'say', 'see', 'seem', 'seemed', 'seeming', 'seems', 'serious', 'several', 'she', 'should', 'show', 'side', 'since', 'six', 'sixty', 'so', 'some', 'somehow', 'someone', 'something', 'sometime', 'sometimes', 'somewhere', 'still', 'such', 'take', 'ten', 'than', 'that', 'the', 'their', 'them', 'themselves', 'then', 'thence', 'there', 'thereafter', 'thereby', 'therefore', 'therein', 'thereupon', 'these', 'they', 'third', 'this', 'those', 'though', 'three', 'through', 'throughout', 'thru', 'thus', 'to', 'together', 'too', 'top', 'toward', 'towards', 'twelve', 'twenty', 'two', 'under', 'unless', 'until', 'up', 'upon', 'us', 'used', 'using', 'various', 'very', 'via', 'was', 'we', 'well', 'were', 'what', 'whatever', 'when', 'whence', 'whenever', 'where', 'whereafter', 'whereas', 'whereby', 'wherein', 'whereupon', 'wherever', 'whether', 'which', 'while', 'whither', 'who', 'whoever', 'whole', 'whom', 'whose', 'why', 'will', 'with', 'within', 'would', 'yet', 'you', 'your', 'yours', 'yourself', 'yourselves', '‘d', '‘ll', '‘m', '‘re', '‘s', '‘ve', '’d', '’ll', '’m', '’re', '’s', '’ve'}"
   ]
  },
  {
   "cell_type": "code",
   "execution_count": 14,
   "metadata": {
    "colab": {},
    "colab_type": "code",
    "id": "UjQToQNuBMj7"
   },
   "outputs": [],
   "source": [
    "def clean(text):\n",
    "    \n",
    "    text=text.rstrip()\n",
    "    text = re.sub(r'[^a-zA-Z]', ' ', text)\n",
    "    text = \" \".join([i for i in text.lower().split()])\n",
    "    print(text)\n",
    "    \n",
    "    customize_stop_words = [\"cc\",\"subject\",\"http\", \"gbp\", \"usd\", \"eur\", \"inr\", \"cad\",\"thanks\", \"acc\", \"id\", \"account\", \"regards\", \"hi\", \"hello\", \"thank you\", \"greetings\"]\n",
    "    rem_stop = [\"not\", \"wasn't\", \"hadn't\", \"won't\", \"can't\", \"didn't\"]\n",
    "    \n",
    "    for w in customize_stop_words:\n",
    "        nlp.vocab[w].is_stop = True\n",
    "    \n",
    "    for w in rem_stop:\n",
    "        nlp.vocab[w].is_stop = False\n",
    "    \n",
    "    doc = nlp(text)\n",
    "    \n",
    "    normalized = \" \".join(token.lemma_ for token in doc if token not in my_stop)\n",
    "    \n",
    "    doc = \" \".join(token.orth_ for token in nlp(normalized) if not token.is_punct | token.is_space)\n",
    "    return doc"
   ]
  },
  {
   "cell_type": "code",
   "execution_count": 15,
   "metadata": {
    "colab": {},
    "colab_type": "code",
    "id": "zMqsghUwBMkg"
   },
   "outputs": [],
   "source": [
    "for i in range(df.shape[0]):\n",
    "    # merge subject and body strings\n",
    "    df['Text_Data'] = (df['Subject'] + \" \" + df['Body'])"
   ]
  },
  {
   "cell_type": "code",
   "execution_count": 16,
   "metadata": {
    "colab": {},
    "colab_type": "code",
    "id": "cJMPCmrkBMkm"
   },
   "outputs": [],
   "source": [
    "def converter(x):\n",
    "    try:\n",
    "        return ' '.join([x.lower() for x in str(x).split()])\n",
    "    except AttributeError:\n",
    "        return None  # or some other value\n",
    "\n",
    "df['Text_Data'] = df['Text_Data'].apply(converter)"
   ]
  },
  {
   "cell_type": "code",
   "execution_count": 17,
   "metadata": {
    "colab": {
     "base_uri": "https://localhost:8080/",
     "height": 1000
    },
    "colab_type": "code",
    "id": "38waU_MYBMk7",
    "outputId": "5288d79a-e08a-4c28-dd31-b534f7a3156f",
    "tags": [
     "outputPrepend"
    ]
   },
   "outputs": [
    {
     "output_type": "stream",
     "name": "stdout",
     "text": "eful for your support warm regards\npartially paid the required amount for transaction i regret to inform you the i could only pay the partial amount of gbp i will definitely pay the remaining amount as soon as possible thank you for understanding regards\nabrupt closure of transaction with id hey i see my transaction with id has failed i think i did everything right please look into this and reply with the reason urgently thank you and regards\nwant to block account i would like to know the instructions to be followed to install and setup mobile banking please reply to me with the same thanks in advance\nthe pending amount for transaction will reach you soon i regret to inform you the i could only pay the partial amount of eur i will definitely pay the remaining amount as soon as possible thank you for understanding regards\nsorted out the transaction with id hello sincere greetings for the day i would like to inform you that my transaction has completed thank you so much for your support looking forward to working more with you in the future regards\nchange address for account no i need a new cheque book of leaves kindly send the same to my current address which is present in the details of my account\nadd one more contact no to account this is to inform you that i am not able to withdraw money from my account please help\nurgent transaction ceased greetings for the day i checked my inbox and found your email stating the failure of my transaction please help me understand why has failed need funds urgently patiently waiting for you reply thanks a lot\nabrupt closure of transaction with id greetings for the day i checked my inbox and found your email stating the failure of my transaction please help me understand why has failed need funds urgently patiently waiting for you reply thanks a lot\nchange address for account no i have heard a lot about your bank and would like to open an account with citibank for that i would like to know all the documents that are required kindly reply with the same and also the further steps to be taken eagerly waiting for your reply\ntransaction has failed this is in response to your email stating that my transaction having id has failed but no reason was mentioned can you please tell me what did i do wrong so that i can create a new one without any errors waiting for your reply thank you in advance\nadd one more contact no to account this is to inform you that i am not able to withdraw money from my account please help\nseeking update on the status of transaction kindly reply to me at the earliest with the last transactions made with the account no thanks in advance\npayment received for transaction and now processing thank you for transferring the payment to my account yesterday i appreciate the quick response i would like to inform you that is is currently in process thanks and regards\nsorted out the transaction with id greetings i wanted to let you know that i have acknowledged the payment for transaction in response to your email which confirmed the finalized status of my transaction thanks and regards\ntransaction is complete to whom it may concern i have successfully received payment for the transaction i am grateful for your cooperation thank you so much and regards\ndealing with the transaction sincere greetings i am glad to tell you that i have finally been granted the pre approved amount through transaction it is now being processed i am grateful for your support warm regards\nimploring update on transaction urgently require details of acc reply asap\nfailure of transaction greetings for the day i checked my inbox and found your email stating the failure of my transaction please help me understand why has failed need funds urgently patiently waiting for you reply thanks a lot\nseeking update on the status of transaction please provide a status update on at the earliest\nadd one more contact no to account i have heard a lot about your bank and would like to open an account with citibank for that i would like to know all the documents that are required kindly reply with the same and also the further steps to be taken eagerly waiting for your reply\npayment is pending for transaction the transaction is taking too long to complete i would request you to kindly guide me through the further steps to be taken in order to complete the transaction\nadd one more contact no to account i would like to know the instructions to be followed to install and setup mobile banking please reply to me with the same thanks in advance\ndealing with the transaction thank you for transferring the payment to my account yesterday i appreciate the quick response i would like to inform you that is is currently in process thanks and regards\nincomplete transaction the transaction is taking too long to complete i would request you to kindly guide me through the further steps to be taken in order to complete the transaction\nremaining amount for transaction to be paid later the transaction is taking too long to complete i would request you to kindly guide me through the further steps to be taken in order to complete the transaction\ntransaction no is unresolved hello greetings for the day status of transaction inr for account is pending i would be grateful if you could tell me the cause thanks a lot\nfulfilled transaction having id glad to let you know that i got the desired payment in reference to transaction i am very happy with your services and will definitely recommend your company to my friends and acquaintances warm regards\nfulfilled transaction having id greetings i wanted to let you know that i have acknowledged the payment for transaction in response to your email which confirmed the finalized status of my transaction thanks and regards\ntransaction no is unresolved the transaction is taking too long to complete i would request you to kindly guide me through the further steps to be taken in order to complete the transaction\npayment done and transaction settled glad to let you know that i got the desired payment in reference to transaction i am very happy with your services and will definitely recommend your company to my friends and acquaintances warm regards\nincomplete transaction the transaction is taking too long to complete i would request you to kindly guide me through the further steps to be taken in order to complete the transaction\nsorted out the transaction with id greetings i wanted to let you know that i have acknowledged the payment for transaction in response to your email which confirmed the finalized status of my transaction thanks and regards\ndealing with the transaction sincere greetings i am glad to tell you that i have finally been granted the pre approved amount through transaction it is now being processed i am grateful for your support warm regards\npartial payment for transaction there has been only a partial payment of amount usd assuring you that the rest will be paid later warm regards\nnew cheque book kindly add the contact no to my bank account\nfailure of transaction i have been your regular client and have been following the procedure for creating a transaction correctly for several years still i have received an email saying that the transaction has failed i am very annoyed by this i would like to know the reason my transaction id is regards\nupgrade to an account with more benefits kindly add the contact no to my bank account\nfailure of transaction this is to notify you that my transaction has failed please reply to me with the cause as soon as possible\ntransaction has failed greetings for the day i checked my inbox and found your email stating the failure of my transaction please help me understand why has failed need funds urgently patiently waiting for you reply thanks a lot\nimpetrating details for id responding quickly to this will be highly appreciated send the exact amount transferred yesterday\nasking for the details for transaction can you please tell me the amount transferred through transaction id thanks\nhandling the transaction after payment thank you for transferring the payment to my account yesterday i appreciate the quick response i would like to inform you that is is currently in process thanks and regards\nabrupt closure of transaction with id this is in response to your email stating that my transaction having id has failed but no reason was mentioned can you please tell me what did i do wrong so that i can create a new one without any errors waiting for your reply thank you in advance\nrequest to send details of transaction i request you to kindly send the status of my transaction with id thanks and regards\nrectify mistake i am holding a savings account in our bank for the past four years i got my pass book updated recently to file my income tax return but the entries from the period of th jan to th feb were missing kindly rectify this error and issue me a fresh print out thanking you\ntransaction no is unresolved i regret to inform you the i could only pay the partial amount of inr i will definitely pay the remaining amount as soon as possible thank you for understanding regards\nthe pending amount for transaction will reach you soon hello greetings for the day status of transaction usd for account is pending i would be grateful if you could tell me the cause thanks a lot\nwhy has my transaction stopped greetings for the day i checked my inbox and found your email stating the failure of my transaction please help me understand why has failed need funds urgently patiently waiting for you reply thanks a lot\ntransaction stalled and payment not received hey i see my transaction with id has failed i think i did everything right please look into this and reply with the reason urgently thank you and regards\ndeath of account holder this is to notify the bank that my father had an account in your bank he passed away recently i am writing this letter on behalf of my mother i request the bank to transfer the amount in my father s account to my mother s account which is also in the same bank\nsoliciting information for id can you please tell me the amount transferred through transaction id thanks\npayment outstanding for transaction there has been only a partial payment of amount eur assuring you that the rest will be paid later warm regards\nchange address for account no i need a new cheque book of leaves kindly send the same to my current address which is present in the details of my account\nwhy cant i withdraw money with my atm card this is to inform you that i am not able to withdraw money from my account please help\npayment is pending for transaction the transaction is taking too long to complete i would request you to kindly guide me through the further steps to be taken in order to complete the transaction\ntransaction no is unresolved hello greetings for the day status of transaction inr for account is pending i would be grateful if you could tell me the cause thanks a lot\nwant to block account kindly add the contact no to my bank account\ndealing with the transaction thank you for transferring the payment to my account yesterday i admire the quick response i would like to inform you that is is currently in process thanks and regards\ncompleted transaction no hey i am writing in reference to the transaction i was granted the aforementioned amount within the deadline sincere gratitude for such a quick response kind regards\naccepted payment transaction currently processing acknowledging the received payment for transaction it is finally in process kind regards\nimploring update on transaction i request you to kindly send the status of my transaction with id thanks and regards\ntransaction stalled and payment not received this is in response to your email stating that my transaction having id has failed but no reason was mentioned can you please tell me what did i do wrong so that i can create a new one without any errors waiting for your reply thank you in advance\ntransaction is complete to whom it may concern i have fortunately received payment for the transaction i have you to thank you for the cooperation\nseeking update on the status of transaction urgently require details of acc early response is expected\nconcluded the transaction hello sincere greetings for the day i would like to inform you that my transaction has completed thank you so much for your support looking forward to working more with you in the future regards\nthe pending amount for transaction will reach you soon i regret to inform you the i could only pay the partial amount of usd i will definitely pay the remaining amount as soon as possible thank you for understanding regards\nincapable of taking out money this is to inform you that i am not able to withdraw money from my account please help\nabrupt closure of transaction with id i have been your regular client and have followed the procedure for creating a transaction correctly still i received an email saying that the transaction has failed i would like to know the reasoning my transaction id is regards\npartially paid the required amount for transaction a partial payment has been made and remaining is being transferred as of now appreciate your patience\ntransaction stalled and payment not received why is my transaction not in progress anymore it has failed i cannot understand how could this happen\ninclude some details to account kindly add the contact no to my bank account\naccepted payment transaction currently processing sincere greetings i am glad to tell you that i have finally been granted the pre approved amount through transaction it is now being processed i am grateful for your support warm regards\nreceived full payment for transaction no to whom it may concern i have successfully received payment for the transaction i am grateful for your cooperation thank you so much and regards\ninformation required patiently waiting to hear from you about the new development in the transaction\nhandling the transaction after payment hello this is to inform you that i have received the amount you transferred to my account and now it is currently in process\nnew cheque book kindly provide a new cheque book with leaves\nurgently required update on transaction hey i would be really grateful if you could tell me the details of account no thanks\npartially paid the required amount for transaction i regret to inform you the i could only pay the partial amount of usd i will definitely pay the remaining amount as soon as possible thank you for understanding regards\ntransaction is complete hey i am writing in reference to the transaction i was granted the aforementioned amount within the deadline sincere gratitude for such a quick response kind regards\npartial payment for transaction there has been only a half payment of amount usd be that the rest will be paid later warm regards\ntransaction has failed can you tell me why has failed need funds urgently patiently waiting for you reply thanks a lot\nfinalized transaction of id to whom it may concern i have successfully received payment for the transaction i am grateful for your cooperation thank you so much and regards\nimploring update on transaction i need details of urgently please provide the same on priority basis\nfailure of transaction hey i see my transaction with id has failed i think i did everything right please look into this and reply with the reason urgently thank you and regards\nseeking update on the status of transaction i would like for you to keep me posted on the current status of my transaction\nsoliciting information for id kindly reply to me at the earliest with the last transactions made with the account no thanks in advance\ntransaction having id has stopped help this is to notify you that my transaction has failed please respond with reason as soon as possible\nplacing an order i need a new cheque book of leaves kindly send the same to my current address which is present in the details of my account\nthe pending amount for transaction will reach you soon since my transaction is still pending i wanted to know if there is a problem with the paperwork from my side please let me know at the earliest thanks and regards\nrequired money acquired transaction is in process sincere greetings i am ecstatic to tell you that i have finally been granted the pre approved amount through transaction it is now being processed i am grateful for your support warm regards\nchange address for account no tailwater street apt bronx ny this is my new address kindly put it in your bank records\nsorted out the transaction with id glad to let you know that i got the desired payment in reference to transaction i am very happy with your services and will definitely recommend your company to my friends and acquaintances warm regards\nsend steps to activate online banking kindly add the contact no to my bank account\nprocessing transaction having id acknowledging the received payment for transaction it is finally in process kind regards\ntransaction has failed greetings for the day i checked my inbox and found your email stating the failure of my transaction please help me understand why has failed need funds urgently patiently waiting for you reply thanks a lot\nloan scheme hi i m glad to inform you that you have been selected for a free loan scheme please revert if interested thanks in advance\nsoliciting information for id can you please tell me the amount transferred through transaction id thanks\nsoliciting information for id kindly reply to me at the earliest with the last transactions made with the account no thanks in advance\nfailure of transaction i am clueless as to why i received an email saying that my transaction has failed i would like to know the reasoning my transaction id is regards\nincomplete transaction there has been only a partial payment of amount usd it is my gurantee that the rest will be paid later warm regards\nfailure of transaction this is in response to your email stating that my transaction having id has failed but no reason was mentioned can you please tell me what did i do wrong so that i can create a new one without any errors waiting for your reply thank you in advance\nfulfilled transaction having id hey i am writing in reference to the transaction i was granted the aforementioned amount within the deadline sincere gratitude for such a quick response kind regards\nabrupt closure of transaction with id i have been your regular client and have followed the procedure for creating a transaction correctly still i received an email saying that the transaction has failed i would like to know the reasoning my transaction id is regards\nupgrade to an account with more benefits one of your employees suggested me to upgrade my account since it has more benefits so i would like to confirm from you the perks that he listed thanks in advance\nimploring update on transaction hey i would like to informed about the details of account no thanks\nwhy has my transaction stopped i have been your regular client and have followed the procedure for creating a transaction correctly still i received an email saying that the transaction has failed i would like to know the reasoning my transaction id is regards\nhandling the transaction after payment this is in response to your email notifying about the transferred amount i am acknowledging it and informing you that it is now in process\nrequest to send details of transaction can you please tell me the amount transferred through transaction id thanks\npayment received for transaction and now processing grateful to you for transferring the payment to my account yesterday i would like to inform you that is is currently in process thanks and regards\nhandling the transaction after payment sincere greetings i am glad to tell you that i have finally been granted the pre approved amount through transaction it is now being processed i am grateful for your support warm regards\nreceived full payment for transaction no to whom it may concern i have successfully acquired payment for the transaction i am beholden to your cooperation\n"
    }
   ],
   "source": [
    "text_clean=[]\n",
    "\n",
    "for i in range(df.shape[0]):\n",
    "    text_clean.append(clean(df.loc[i]['Text_Data']))"
   ]
  },
  {
   "cell_type": "code",
   "execution_count": 18,
   "metadata": {},
   "outputs": [],
   "source": [
    "df['Text_Data'] = text_clean"
   ]
  },
  {
   "cell_type": "code",
   "execution_count": 19,
   "metadata": {
    "colab": {
     "base_uri": "https://localhost:8080/",
     "height": 330
    },
    "colab_type": "code",
    "id": "JY-Nu1fFBMlQ",
    "outputId": "b283db95-f251-4059-cb36-0d9290dbc97b"
   },
   "outputs": [
    {
     "output_type": "execute_result",
     "data": {
      "text/plain": "                                             Subject  \\\n0              Transaction no. 072558 is unresolved.   \n1                          Order for new Cheque book   \n2  Required money acquired. Transaction 847047 is...   \n3      Asking for the details for transaction 746078   \n4             Partial payment for transaction 535918   \n\n                                                Body       Class  \\\n0  Sorry to inform that there has been only a par...     Pending   \n1  Good morning, I want to place an order for an ...     General   \n2  Hello! This is to inform you that I have recei...  Processing   \n3  I request you to kindly send the status of my ...     Request   \n4  Hello!! Greetings for the day. Status of trans...     Pending   \n\n                                           Text_Data  \n0  transaction no be unresolved sorry to inform t...  \n1  order for new cheque book good morning i want ...  \n2  require money acquire transaction be in proces...  \n3  ask for the detail for transaction i request -...  \n4  partial payment for transaction hello greeting...  ",
      "text/html": "<div>\n<style scoped>\n    .dataframe tbody tr th:only-of-type {\n        vertical-align: middle;\n    }\n\n    .dataframe tbody tr th {\n        vertical-align: top;\n    }\n\n    .dataframe thead th {\n        text-align: right;\n    }\n</style>\n<table border=\"1\" class=\"dataframe\">\n  <thead>\n    <tr style=\"text-align: right;\">\n      <th></th>\n      <th>Subject</th>\n      <th>Body</th>\n      <th>Class</th>\n      <th>Text_Data</th>\n    </tr>\n  </thead>\n  <tbody>\n    <tr>\n      <th>0</th>\n      <td>Transaction no. 072558 is unresolved.</td>\n      <td>Sorry to inform that there has been only a par...</td>\n      <td>Pending</td>\n      <td>transaction no be unresolved sorry to inform t...</td>\n    </tr>\n    <tr>\n      <th>1</th>\n      <td>Order for new Cheque book</td>\n      <td>Good morning, I want to place an order for an ...</td>\n      <td>General</td>\n      <td>order for new cheque book good morning i want ...</td>\n    </tr>\n    <tr>\n      <th>2</th>\n      <td>Required money acquired. Transaction 847047 is...</td>\n      <td>Hello! This is to inform you that I have recei...</td>\n      <td>Processing</td>\n      <td>require money acquire transaction be in proces...</td>\n    </tr>\n    <tr>\n      <th>3</th>\n      <td>Asking for the details for transaction 746078</td>\n      <td>I request you to kindly send the status of my ...</td>\n      <td>Request</td>\n      <td>ask for the detail for transaction i request -...</td>\n    </tr>\n    <tr>\n      <th>4</th>\n      <td>Partial payment for transaction 535918</td>\n      <td>Hello!! Greetings for the day. Status of trans...</td>\n      <td>Pending</td>\n      <td>partial payment for transaction hello greeting...</td>\n    </tr>\n  </tbody>\n</table>\n</div>"
     },
     "metadata": {},
     "execution_count": 19
    }
   ],
   "source": [
    "df.head()"
   ]
  },
  {
   "cell_type": "code",
   "execution_count": 20,
   "metadata": {
    "colab": {
     "base_uri": "https://localhost:8080/",
     "height": 54
    },
    "colab_type": "code",
    "id": "cWB5exRgBMlf",
    "outputId": "e0cc6ffc-eda8-4663-e9a5-8c06337e2a1d"
   },
   "outputs": [
    {
     "output_type": "execute_result",
     "data": {
      "text/plain": "'transaction no be unresolved sorry to inform that there have be only a partial payment of amount gbp -PRON- be definitely go to receive the rest at a later point of time warm regard'"
     },
     "metadata": {},
     "execution_count": 20
    }
   ],
   "source": [
    "df['Text_Data'][0]"
   ]
  },
  {
   "cell_type": "code",
   "execution_count": 21,
   "metadata": {},
   "outputs": [],
   "source": [
    "labels = list(df['Class'].values)"
   ]
  },
  {
   "cell_type": "code",
   "execution_count": 22,
   "metadata": {},
   "outputs": [],
   "source": [
    "df = df.drop(['Subject', 'Body'], axis=1)"
   ]
  },
  {
   "cell_type": "code",
   "execution_count": 23,
   "metadata": {},
   "outputs": [],
   "source": [
    "pd.DataFrame(data = df.values).to_csv(\"emaildataset_core.csv\",index = False, header = ['Class', 'Text_Data'])"
   ]
  },
  {
   "cell_type": "code",
   "execution_count": 49,
   "metadata": {},
   "outputs": [],
   "source": [
    "def stream_docs(path):\n",
    "    with open(path, 'r') as csv:\n",
    "        next(csv) # skip header\n",
    "        for line in csv:\n",
    "            data=line.split(\",\")\n",
    "            text, label = data[1][:-1], data[0]\n",
    "            yield text, label"
   ]
  },
  {
   "cell_type": "code",
   "execution_count": 50,
   "metadata": {},
   "outputs": [
    {
     "output_type": "execute_result",
     "data": {
      "text/plain": "('transaction no be unresolved sorry to inform that there have be only a partial payment of amount gbp -PRON- be definitely go to receive the rest at a later point of time warm regard',\n 'Pending')"
     },
     "metadata": {},
     "execution_count": 50
    }
   ],
   "source": [
    "next(stream_docs(path='./emaildataset_core.csv'))"
   ]
  },
  {
   "cell_type": "code",
   "execution_count": 51,
   "metadata": {},
   "outputs": [],
   "source": [
    "def get_minibatch(doc_stream, size):\n",
    "    docs, y = [], []\n",
    "    for _ in range(size):\n",
    "        text, label = next(doc_stream)\n",
    "        docs.append(text)\n",
    "        y.append(label)\n",
    "    return docs, y"
   ]
  },
  {
   "cell_type": "code",
   "execution_count": 52,
   "metadata": {},
   "outputs": [],
   "source": [
    "from sklearn.feature_extraction.text import HashingVectorizer\n",
    "vect = HashingVectorizer(decode_error='ignore', n_features=2**18, preprocessor=None, tokenizer=clean, alternate_sign=False)"
   ]
  },
  {
   "cell_type": "code",
   "execution_count": 53,
   "metadata": {},
   "outputs": [],
   "source": [
    "from sklearn.linear_model import SGDClassifier\n",
    "# SGDClassifier?\n",
    "clf = SGDClassifier(max_iter=5)\n",
    "per = Perceptron(verbose=10, n_jobs=-1, max_iter=5)\n",
    "nb = MultinomialNB(alpha=0.01)\n",
    "pa =PassiveAggressiveClassifier()\n",
    "\n",
    "doc_stream = stream_docs(path='./emaildataset_core.csv')"
   ]
  },
  {
   "cell_type": "code",
   "execution_count": 55,
   "metadata": {
    "tags": []
   },
   "outputs": [
    {
     "output_type": "stream",
     "name": "stdout",
     "text": "the pende amount for transaction will reach pron soon since pron transaction be still pende i want to know if there be a problem with the paperwork from pron side please let pron know at the early thank and regard\nhandle the transaction after payment sincere greeting i be glad to tell pron that i have finally be grant the pre approve amount through transaction pron be now be process i be grateful for pron support warm regard\nupgrade to an account with more benefit hello greeting for the day so i have an account with pron branch have no and i have recently see an advertisement which state that if i become a premium customer i can avail many benefit i have decide to upgrade pron account can pron please guide pron through the step to be take in order to do this i would be very grateful if pron reply within day thank pron\nprocess transaction have pron d acknowledge the received payment for transaction pron be finally in process i be appreciative of pron effort kind regard\nissue a new cheque book warm greeting to pron i have recently exhaust pron cheque book and would like to order a new one pron should have cheque in pron pron preference be multicity cheque send pron to pron at the early opportunity expect to hear from pron soon\nthe pende amount for transaction will reach pron soon i regret to inform pron the i could only pay the partial amount of usd i will definitely pay the remain amount as soon as possible thank pron for understanding regard\ntransaction have pron d have stop help i have be pron regular client and have follow the procedure for create a transaction correctly still i receive an email say that the transaction have fail i would like to know the reasoning pron transaction pron d be regard\nchange address for account no hey pron s pron again this time i want to change the address mention in pron record since i have recently move out of pron previous place pron new address be windsor road london please update this one thank\npartially pay the require amount for transaction there have be only a partial payment of amount gbp assure pron that the rest will be pay later warm regard\nthere be an outstanding payment for transaction the transaction be take too long to complete pron would be nice of pron to guide pron through the further step to be take in order to complete the transaction hope to hear from pron at the early opportunity\n(10, 262144)\n10\n"
    },
    {
     "output_type": "error",
     "ename": "ValueError",
     "evalue": "operands could not be broadcast together with shapes (951,262144) (6,262144) (951,262144) ",
     "traceback": [
      "\u001b[0;31m---------------------------------------------------------------------------\u001b[0m",
      "\u001b[0;31mValueError\u001b[0m                                Traceback (most recent call last)",
      "\u001b[0;32m<ipython-input-55-d55b0857a1ce>\u001b[0m in \u001b[0;36m<module>\u001b[0;34m\u001b[0m\n\u001b[1;32m     17\u001b[0m \u001b[0;34m\u001b[0m\u001b[0m\n\u001b[1;32m     18\u001b[0m     \u001b[0;31m## MultiNB\u001b[0m\u001b[0;34m\u001b[0m\u001b[0;34m\u001b[0m\u001b[0;34m\u001b[0m\u001b[0m\n\u001b[0;32m---> 19\u001b[0;31m     \u001b[0mnb\u001b[0m\u001b[0;34m.\u001b[0m\u001b[0mpartial_fit\u001b[0m\u001b[0;34m(\u001b[0m\u001b[0mX_train\u001b[0m\u001b[0;34m,\u001b[0m \u001b[0my_train\u001b[0m\u001b[0;34m,\u001b[0m \u001b[0mclasses\u001b[0m\u001b[0;34m=\u001b[0m\u001b[0mlabels\u001b[0m\u001b[0;34m)\u001b[0m\u001b[0;34m\u001b[0m\u001b[0;34m\u001b[0m\u001b[0m\n\u001b[0m\u001b[1;32m     20\u001b[0m \u001b[0;34m\u001b[0m\u001b[0m\n\u001b[1;32m     21\u001b[0m     \u001b[0;31m## Passive Aggressive Classifier\u001b[0m\u001b[0;34m\u001b[0m\u001b[0;34m\u001b[0m\u001b[0;34m\u001b[0m\u001b[0m\n",
      "\u001b[0;32m~/SmartEmailTracker/env/lib/python3.6/site-packages/sklearn/naive_bayes.py\u001b[0m in \u001b[0;36mpartial_fit\u001b[0;34m(self, X, y, classes, sample_weight)\u001b[0m\n\u001b[1;32m    583\u001b[0m         \u001b[0;31m# Count raw events from data before updating the class log prior\u001b[0m\u001b[0;34m\u001b[0m\u001b[0;34m\u001b[0m\u001b[0;34m\u001b[0m\u001b[0m\n\u001b[1;32m    584\u001b[0m         \u001b[0;31m# and feature log probas\u001b[0m\u001b[0;34m\u001b[0m\u001b[0;34m\u001b[0m\u001b[0;34m\u001b[0m\u001b[0m\n\u001b[0;32m--> 585\u001b[0;31m         \u001b[0mself\u001b[0m\u001b[0;34m.\u001b[0m\u001b[0m_count\u001b[0m\u001b[0;34m(\u001b[0m\u001b[0mX\u001b[0m\u001b[0;34m,\u001b[0m \u001b[0mY\u001b[0m\u001b[0;34m)\u001b[0m\u001b[0;34m\u001b[0m\u001b[0;34m\u001b[0m\u001b[0m\n\u001b[0m\u001b[1;32m    586\u001b[0m \u001b[0;34m\u001b[0m\u001b[0m\n\u001b[1;32m    587\u001b[0m         \u001b[0;31m# XXX: OPTIM: we could introduce a public finalization method to\u001b[0m\u001b[0;34m\u001b[0m\u001b[0;34m\u001b[0m\u001b[0;34m\u001b[0m\u001b[0m\n",
      "\u001b[0;32m~/SmartEmailTracker/env/lib/python3.6/site-packages/sklearn/naive_bayes.py\u001b[0m in \u001b[0;36m_count\u001b[0;34m(self, X, Y)\u001b[0m\n\u001b[1;32m    762\u001b[0m         \u001b[0;34m\"\"\"Count and smooth feature occurrences.\"\"\"\u001b[0m\u001b[0;34m\u001b[0m\u001b[0;34m\u001b[0m\u001b[0m\n\u001b[1;32m    763\u001b[0m         \u001b[0mcheck_non_negative\u001b[0m\u001b[0;34m(\u001b[0m\u001b[0mX\u001b[0m\u001b[0;34m,\u001b[0m \u001b[0;34m\"MultinomialNB (input X)\"\u001b[0m\u001b[0;34m)\u001b[0m\u001b[0;34m\u001b[0m\u001b[0;34m\u001b[0m\u001b[0m\n\u001b[0;32m--> 764\u001b[0;31m         \u001b[0mself\u001b[0m\u001b[0;34m.\u001b[0m\u001b[0mfeature_count_\u001b[0m \u001b[0;34m+=\u001b[0m \u001b[0msafe_sparse_dot\u001b[0m\u001b[0;34m(\u001b[0m\u001b[0mY\u001b[0m\u001b[0;34m.\u001b[0m\u001b[0mT\u001b[0m\u001b[0;34m,\u001b[0m \u001b[0mX\u001b[0m\u001b[0;34m)\u001b[0m\u001b[0;34m\u001b[0m\u001b[0;34m\u001b[0m\u001b[0m\n\u001b[0m\u001b[1;32m    765\u001b[0m         \u001b[0mself\u001b[0m\u001b[0;34m.\u001b[0m\u001b[0mclass_count_\u001b[0m \u001b[0;34m+=\u001b[0m \u001b[0mY\u001b[0m\u001b[0;34m.\u001b[0m\u001b[0msum\u001b[0m\u001b[0;34m(\u001b[0m\u001b[0maxis\u001b[0m\u001b[0;34m=\u001b[0m\u001b[0;36m0\u001b[0m\u001b[0;34m)\u001b[0m\u001b[0;34m\u001b[0m\u001b[0;34m\u001b[0m\u001b[0m\n\u001b[1;32m    766\u001b[0m \u001b[0;34m\u001b[0m\u001b[0m\n",
      "\u001b[0;31mValueError\u001b[0m: operands could not be broadcast together with shapes (951,262144) (6,262144) (951,262144) "
     ]
    }
   ],
   "source": [
    "import pyprind\n",
    "pbar = pyprind.ProgBar(90)\n",
    "# from sklearn import preprocessing\n",
    "\n",
    "# classes = np.array([0, 1])\n",
    "for _ in range(90):\n",
    "    X_train, y_train = get_minibatch(doc_stream, size=10)\n",
    "    X_train = vect.transform(X_train)\n",
    "    # print(X_train.shape)\n",
    "    # print(len(y_train))\n",
    "    \n",
    "    ## SGD\n",
    "#     clf.partial_fit(X_train, y_train, classes=labels)\n",
    "    \n",
    "    ## Perceptron\n",
    "#     per.partial_fit(X_train, y_train, classes=labels)\n",
    "    \n",
    "    ## MultiNB\n",
    "    nb.partial_fit(X_train, y_train, classes=labels)\n",
    "    \n",
    "    ## Passive Aggressive Classifier\n",
    "#     pa.partial_fit(X_train, y_train, classes=labels)\n",
    "    \n",
    "    pbar.update()"
   ]
  },
  {
   "cell_type": "code",
   "execution_count": 46,
   "metadata": {
    "tags": []
   },
   "outputs": [
    {
     "output_type": "stream",
     "name": "stdout",
     "text": "payment outstanding for transaction the transaction be take too long to complete i would request pron to kindly guide pron through the further step to be take in order to complete the transaction\npayment outstanding for transaction hello greeting for the day status of transaction usd for account be pende i would be grateful if pron could tell pron the cause thank a lot\nimplore update on transaction can pron please tell pron the amount transfer through transaction pron d thank\nask for the detail for transaction a detail update on the transaction would be highly appreciate thank and regard\npartially pay the require amount for transaction there have be only a partial payment of amount usd assure pron that the rest will be pay later warm regard\nurgent transaction cease i have be pron regular client and have follow the procedure for create a transaction correctly still i receive an email say that the transaction have fail i would like to know the reasoning pron transaction pron d be regard\ncomplete transaction no hello sincere greeting for the day i would like to inform pron that pron transaction have complete thank pron so much for pron support look forward to work more with pron in the future regard\ncomplete transaction no glad to let pron know that i get the desired payment in reference to transaction i be very happy with pron service and will definitely recommend pron company to pron friend and acquaintance warm regard\nsend step to activate mobile banking i would like to know the instruction to be follow to install and setup mobile banking please reply to pron with the same thank in advance\ntransaction have fail this be to notify pron that pron transaction have fail please reply to pron with the cause as soon as possible\npende payment for transaction have pron d the transaction be take too long to complete i would request pron to kindly guide pron through the further step to be take in order to complete the transaction\ntransaction stall and payment not receive this be in response to pron email state that pron transaction have pron d have fail but no reason be mention can pron please tell pron what do i do wrong so that i can create a new one without any error wait for pron reply thank pron in advance\nrequest to send detail of transaction please provide a status update on at the early\npayment do and transaction settle hey i be write in reference to the transaction i be grant the aforementioned amount within the deadline sincere gratitude for such a quick response kind regard\nadd one more contact no to account i need a new cheque book of leave kindly send the same to pron current address which be present in the detail of pron account\ntransaction stall and payment not receive this be in response to pron email state that pron transaction have pron d have fail but no reason be mention can pron please tell pron what do i do wrong so that i can create a new one without any error wait for pron reply thank pron in advance\ntransaction have pron d have stop help greeting for the day i check pron inbox and find pron email state the failure of pron transaction please help pron understand why have fail need fund urgently patiently wait for pron reply thank a lot\npende payment for transaction have pron d the transaction be take too long to complete i would request pron to kindly guide pron through the further step to be take in order to complete the transaction\nfinally the transaction of pron d be complete glad to let pron know that i get the desired payment in reference to transaction i be very happy with pron service warm regard\nimplore update on transaction please provide a status update on at the early\nprocess transaction have pron d receive payment for transaction yesterday pron be finally in process kind regard\nsomething wrong with pron account this be to inform pron that i be not able to withdraw money from pron account please help\nconclude the transaction greeting i want to let pron know that i be acknowledge the payment for transaction in response to pron email which confirm the finalize status of pron transaction thank and regard\npayment do and transaction settle to whom pron may concern i have successfully receive payment for the transaction i be grateful for pron cooperation thank pron so much and regard\nhandle the transaction after payment hello this be to inform pron that i have receive the amount pron transfer to pron account and now pron be currently in process\nupgrade to an account with more benefit send instruction to setup a premium account i currently have a normal account thank in advance\nthe pende amount for transaction will reach pron soon since pron transaction be still pende i want to know if there be a problem with the paperwork from pron side please let pron know at the early thank and regard\naccepted payment transaction currently process acknowledge the received payment for transaction pron be finally in process kind regard\ntransaction no be unresolved since pron transaction be still pende i want to know if there be a problem with the paperwork from pron side please let pron know at the early thank and regard\npartially pay the require amount for transaction hey sincere apology for transfer a fraction of the amount pron agree on please be assure that the rest be be transfer as of now thank a lot for understanding\npin number change hey i think i lose pron atm card today so can pron please block pron account or tell pron a way to change pron pin no i urgently need pron reply thank in advance\nsolicit information for pron d can pron please tell pron the amount transfer through transaction pron d thank\nrequire money acquire transaction be in process sincere greeting i be glad to tell pron that i have finally be grant the pre approve amount through transaction pron be now be process i be grateful for pron support warm regard\npayment be pende for transaction hello greeting for the day status of transaction inr for account be pende i would be grateful if pron could tell pron the cause thank a lot\nfulfil transaction have pron d hello sincere greeting for the day i would like to inform pron that pron transaction have complete thank pron so much for pron support look forward to work more with pron in the future regard\nopen account i have hear a lot about pron bank and would like to open an account with citibank for that i would like to know all the document that be require kindly reply with the same and also the further step to be take eagerly wait for pron reply\nconclude the transaction greeting i want to let pron know that i have acknowledge the payment for transaction in response to pron email which confirm the finalize status of pron transaction thank and regard\nwant to block account hey can pron please block pron account i no long want to avail pron service\nsolicit information for pron d hey i would be really grateful if pron could tell pron the detail of account no thank\nreceive full payment for transaction no hello sincere greeting for the day i would like to inform pron that pron transaction have complete thank pron so much for pron support look forward to work more with pron in the future regard\nurgent transaction cease i have be pron regular client and have follow the procedure for create a transaction correctly still i receive an email say that the transaction have fail i would like to know the reasoning pron transaction pron d be regard\nrequest to send detail of transaction i need detail of urgently please provide the same on priority basis\npayment do and transaction settle greeting i want to let pron know that i have acknowledge the payment for transaction in response to pron email which confirm the finalize status of pron transaction thank and regard\nreceive full payment for transaction no i deeply appreciate pron quick service as i have receive the pre approve loan amount of inr\nadd one more contact no to account i have hear a lot about pron bank and would like to open an account with citibank for that i would like to know all the document that be require kindly reply with the same and also the further step to be take eagerly wait for pron reply\ncan not take out money this be to inform pron that i be not able to withdraw money from pron account please help\npayment be pende for transaction there have be only a partial payment of amount gbp assure pron that the rest will be pay later warm regard\ncomplete transaction no greeting i want to let pron know that i have acknowledge the payment for transaction in response to pron email which confirm the finalize status of pron transaction thank and regard\nimplore update on transaction urgently require detail of acc reply asap\nurgently require update on transaction i need detail of urgently please provide the same on priority basis\nfragmentary payment for transaction since pron transaction be still pende i want to know if there be a problem with the paperwork from pron side please let pron know at the early thank and regard\n"
    },
    {
     "output_type": "error",
     "ename": "AttributeError",
     "evalue": "'MultinomialNB' object has no attribute 'feature_log_prob_'",
     "traceback": [
      "\u001b[0;31m---------------------------------------------------------------------------\u001b[0m",
      "\u001b[0;31mAttributeError\u001b[0m                            Traceback (most recent call last)",
      "\u001b[0;32m<ipython-input-46-eb9e9720c599>\u001b[0m in \u001b[0;36m<module>\u001b[0;34m\u001b[0m\n\u001b[1;32m      5\u001b[0m \u001b[0;31m# print('Accuracy: %.3f' % clf.score(X_test, y_test))\u001b[0m\u001b[0;34m\u001b[0m\u001b[0;34m\u001b[0m\u001b[0;34m\u001b[0m\u001b[0m\n\u001b[1;32m      6\u001b[0m \u001b[0;31m# print('Accuracy: %.3f' % per.score(X_test, y_test))\u001b[0m\u001b[0;34m\u001b[0m\u001b[0;34m\u001b[0m\u001b[0;34m\u001b[0m\u001b[0m\n\u001b[0;32m----> 7\u001b[0;31m \u001b[0mprint\u001b[0m\u001b[0;34m(\u001b[0m\u001b[0;34m'Accuracy: %.3f'\u001b[0m \u001b[0;34m%\u001b[0m \u001b[0mnb\u001b[0m\u001b[0;34m.\u001b[0m\u001b[0mscore\u001b[0m\u001b[0;34m(\u001b[0m\u001b[0mX_test\u001b[0m\u001b[0;34m,\u001b[0m \u001b[0my_test\u001b[0m\u001b[0;34m)\u001b[0m\u001b[0;34m)\u001b[0m\u001b[0;34m\u001b[0m\u001b[0;34m\u001b[0m\u001b[0m\n\u001b[0m\u001b[1;32m      8\u001b[0m \u001b[0;31m# print('Accuracy: %.3f' % pa.score(X_test, y_test))\u001b[0m\u001b[0;34m\u001b[0m\u001b[0;34m\u001b[0m\u001b[0;34m\u001b[0m\u001b[0m\n",
      "\u001b[0;32m~/SmartEmailTracker/env/lib/python3.6/site-packages/sklearn/base.py\u001b[0m in \u001b[0;36mscore\u001b[0;34m(self, X, y, sample_weight)\u001b[0m\n\u001b[1;32m    497\u001b[0m         \"\"\"\n\u001b[1;32m    498\u001b[0m         \u001b[0;32mfrom\u001b[0m \u001b[0;34m.\u001b[0m\u001b[0mmetrics\u001b[0m \u001b[0;32mimport\u001b[0m \u001b[0maccuracy_score\u001b[0m\u001b[0;34m\u001b[0m\u001b[0;34m\u001b[0m\u001b[0m\n\u001b[0;32m--> 499\u001b[0;31m         \u001b[0;32mreturn\u001b[0m \u001b[0maccuracy_score\u001b[0m\u001b[0;34m(\u001b[0m\u001b[0my\u001b[0m\u001b[0;34m,\u001b[0m \u001b[0mself\u001b[0m\u001b[0;34m.\u001b[0m\u001b[0mpredict\u001b[0m\u001b[0;34m(\u001b[0m\u001b[0mX\u001b[0m\u001b[0;34m)\u001b[0m\u001b[0;34m,\u001b[0m \u001b[0msample_weight\u001b[0m\u001b[0;34m=\u001b[0m\u001b[0msample_weight\u001b[0m\u001b[0;34m)\u001b[0m\u001b[0;34m\u001b[0m\u001b[0;34m\u001b[0m\u001b[0m\n\u001b[0m\u001b[1;32m    500\u001b[0m \u001b[0;34m\u001b[0m\u001b[0m\n\u001b[1;32m    501\u001b[0m     \u001b[0;32mdef\u001b[0m \u001b[0m_more_tags\u001b[0m\u001b[0;34m(\u001b[0m\u001b[0mself\u001b[0m\u001b[0;34m)\u001b[0m\u001b[0;34m:\u001b[0m\u001b[0;34m\u001b[0m\u001b[0;34m\u001b[0m\u001b[0m\n",
      "\u001b[0;32m~/SmartEmailTracker/env/lib/python3.6/site-packages/sklearn/naive_bayes.py\u001b[0m in \u001b[0;36mpredict\u001b[0;34m(self, X)\u001b[0m\n\u001b[1;32m     76\u001b[0m         \u001b[0mcheck_is_fitted\u001b[0m\u001b[0;34m(\u001b[0m\u001b[0mself\u001b[0m\u001b[0;34m)\u001b[0m\u001b[0;34m\u001b[0m\u001b[0;34m\u001b[0m\u001b[0m\n\u001b[1;32m     77\u001b[0m         \u001b[0mX\u001b[0m \u001b[0;34m=\u001b[0m \u001b[0mself\u001b[0m\u001b[0;34m.\u001b[0m\u001b[0m_check_X\u001b[0m\u001b[0;34m(\u001b[0m\u001b[0mX\u001b[0m\u001b[0;34m)\u001b[0m\u001b[0;34m\u001b[0m\u001b[0;34m\u001b[0m\u001b[0m\n\u001b[0;32m---> 78\u001b[0;31m         \u001b[0mjll\u001b[0m \u001b[0;34m=\u001b[0m \u001b[0mself\u001b[0m\u001b[0;34m.\u001b[0m\u001b[0m_joint_log_likelihood\u001b[0m\u001b[0;34m(\u001b[0m\u001b[0mX\u001b[0m\u001b[0;34m)\u001b[0m\u001b[0;34m\u001b[0m\u001b[0;34m\u001b[0m\u001b[0m\n\u001b[0m\u001b[1;32m     79\u001b[0m         \u001b[0;32mreturn\u001b[0m \u001b[0mself\u001b[0m\u001b[0;34m.\u001b[0m\u001b[0mclasses_\u001b[0m\u001b[0;34m[\u001b[0m\u001b[0mnp\u001b[0m\u001b[0;34m.\u001b[0m\u001b[0margmax\u001b[0m\u001b[0;34m(\u001b[0m\u001b[0mjll\u001b[0m\u001b[0;34m,\u001b[0m \u001b[0maxis\u001b[0m\u001b[0;34m=\u001b[0m\u001b[0;36m1\u001b[0m\u001b[0;34m)\u001b[0m\u001b[0;34m]\u001b[0m\u001b[0;34m\u001b[0m\u001b[0;34m\u001b[0m\u001b[0m\n\u001b[1;32m     80\u001b[0m \u001b[0;34m\u001b[0m\u001b[0m\n",
      "\u001b[0;32m~/SmartEmailTracker/env/lib/python3.6/site-packages/sklearn/naive_bayes.py\u001b[0m in \u001b[0;36m_joint_log_likelihood\u001b[0;34m(self, X)\u001b[0m\n\u001b[1;32m    775\u001b[0m     \u001b[0;32mdef\u001b[0m \u001b[0m_joint_log_likelihood\u001b[0m\u001b[0;34m(\u001b[0m\u001b[0mself\u001b[0m\u001b[0;34m,\u001b[0m \u001b[0mX\u001b[0m\u001b[0;34m)\u001b[0m\u001b[0;34m:\u001b[0m\u001b[0;34m\u001b[0m\u001b[0;34m\u001b[0m\u001b[0m\n\u001b[1;32m    776\u001b[0m         \u001b[0;34m\"\"\"Calculate the posterior log probability of the samples X\"\"\"\u001b[0m\u001b[0;34m\u001b[0m\u001b[0;34m\u001b[0m\u001b[0m\n\u001b[0;32m--> 777\u001b[0;31m         return (safe_sparse_dot(X, self.feature_log_prob_.T) +\n\u001b[0m\u001b[1;32m    778\u001b[0m                 self.class_log_prior_)\n\u001b[1;32m    779\u001b[0m \u001b[0;34m\u001b[0m\u001b[0m\n",
      "\u001b[0;31mAttributeError\u001b[0m: 'MultinomialNB' object has no attribute 'feature_log_prob_'"
     ]
    }
   ],
   "source": [
    "X_test, y_test = get_minibatch(doc_stream, size=51)\n",
    "X_test = vect.transform(X_test)\n",
    "# X_test_minmax = mm_scaler.transform(X_test)\n",
    "\n",
    "# print('Accuracy: %.3f' % clf.score(X_test, y_test))\n",
    "# print('Accuracy: %.3f' % per.score(X_test, y_test))\n",
    "print('Accuracy: %.3f' % nb.score(X_test, y_test))\n",
    "# print('Accuracy: %.3f' % pa.score(X_test, y_test))"
   ]
  },
  {
   "cell_type": "code",
   "execution_count": null,
   "metadata": {},
   "outputs": [],
   "source": [
    "# print(classification_report(y_pred=clf.predict(X_test), y_true=y_test, labels=labels))\n",
    "# print(classification_report(y_pred=per.predict(X_test), y_true=y_test, labels=labels))\n",
    "print(classification_report(y_pred=nb.predict(X_test), y_true=y_test, labels=labels))\n",
    "# print(classification_report(y_pred=pa.predict(X_test), y_true=y_test, labels=labels))"
   ]
  },
  {
   "cell_type": "code",
   "execution_count": null,
   "metadata": {},
   "outputs": [],
   "source": []
  },
  {
   "cell_type": "code",
   "execution_count": 145,
   "metadata": {},
   "outputs": [],
   "source": [
    "# use those last test samples to update our model."
   ]
  },
  {
   "cell_type": "code",
   "execution_count": 134,
   "metadata": {},
   "outputs": [],
   "source": [
    "clf = clf.partial_fit(X_test, y_test, classes=labels)\n",
    "per.partial_fit(X_test, y_test, classes=labels)\n",
    "nb.partial_fit(X_test, y_test, classes=labels)\n",
    "pa.partial_fit(X_test, y_test, classes=labels)"
   ]
  },
  {
   "cell_type": "code",
   "execution_count": null,
   "metadata": {},
   "outputs": [],
   "source": []
  },
  {
   "cell_type": "markdown",
   "metadata": {},
   "source": [
    "### SEE HOW TO FIT!"
   ]
  },
  {
   "cell_type": "code",
   "execution_count": null,
   "metadata": {},
   "outputs": [],
   "source": [
    "import random\n",
    "clf2 = SGDClassifier(loss='log') # shuffle=True is useless here\n",
    "shuffledRange = range(len(X))\n",
    "n_iter = 5\n",
    "for n in range(n_iter):\n",
    "    random.shuffle(shuffledRange)\n",
    "    shuffledX = [X[i] for i in shuffledRange]\n",
    "    shuffledY = [Y[i] for i in shuffledRange]\n",
    "    for batch in batches(range(len(shuffledX)), 10000):\n",
    "        clf2.partial_fit(shuffledX[batch[0]:batch[-1]+1], shuffledY[batch[0]:batch[-1]+1], classes=numpy.unique(Y))\n"
   ]
  },
  {
   "cell_type": "code",
   "execution_count": null,
   "metadata": {},
   "outputs": [],
   "source": []
  },
  {
   "cell_type": "markdown",
   "metadata": {},
   "source": [
    "## Serialize a Python object structure"
   ]
  },
  {
   "cell_type": "code",
   "execution_count": 136,
   "metadata": {},
   "outputs": [
    {
     "data": {
      "text/plain": [
       "['./pkl_objects/clf.pkl']"
      ]
     },
     "execution_count": 136,
     "metadata": {},
     "output_type": "execute_result"
    }
   ],
   "source": [
    "import joblib\n",
    "import os\n",
    "if not os.path.exists('./pkl_objects'):\n",
    "    os.mkdir('./pkl_objects')\n",
    "    \n",
    "joblib.dump(vect, './pkl_objects/vectorizer.pkl')\n",
    "joblib.dump(clf, './pkl_objects/clf.pkl')"
   ]
  },
  {
   "cell_type": "code",
   "execution_count": 158,
   "metadata": {},
   "outputs": [
    {
     "name": "stdout",
     "output_type": "stream",
     "text": [
      "Overwriting tokenizer.py\n"
     ]
    }
   ],
   "source": [
    "%%writefile tokenizer.py\n",
    "import re\n",
    "import spacy\n",
    "import en_core_web_sm\n",
    "\n",
    "def clean(text):    \n",
    "    nlp_ = en_core_web_sm.load()\n",
    "    nlp = spacy.load('en')\n",
    "    my_stop = [\"'d\", \"'ll\", \"'m\", \"'re\", \"'s\", \"'ve\",'a','cc','subject','http', 'gbp', 'usd', 'eur', 'inr', 'cad', 'thanks', \"acc\", \"id\", 'account', 'regards', 'hi', 'hello', 'thank you', 'greetings', 'about','above', 'across','after','afterwards','against','alone','along','already','also','although','always','am','among', 'amongst','amount','an','and','another','any','anyhow','anyone','anything','anyway','anywhere','are','around','as', 'at','back','be','became','because','become','becomes','becoming','been','before','beforehand','behind','being','below', 'beside','besides','between','beyond','both','bottom','but','by','ca','call','can','could','did', 'do', 'does', 'doing', 'done', 'down', 'due', 'during', 'each', 'eight', 'either', 'eleven', 'else', 'elsewhere', 'empty', 'enough', 'even', 'ever', 'every', 'everyone', 'everything', 'everywhere', 'except', 'few', 'fifteen', 'fifty', 'first', 'five', 'for', 'former', 'formerly', 'forty', 'four', 'from', 'front', 'full', 'further', 'get', 'give', 'go', 'had', 'has', 'have', 'he', 'hence', 'her', 'here', 'hereafter', 'hereby', 'herein', 'hereupon', 'hers', 'herself', 'him', 'himself', 'his', 'how', 'however', 'hundred', 'i', 'if', 'in', 'indeed', 'into', 'is', 'it', 'its', 'itself', 'just', 'keep', 'last', 'latter', 'latterly', 'least', 'less', 'made', 'make', 'many', 'may', 'me', 'meanwhile', 'might', 'mine', 'more', 'moreover', 'most', 'mostly', 'move', 'much', 'must', 'my', 'myself', 'name', 'namely', 'neither', 'never', 'nevertheless', 'next', 'nine', 'no', 'nobody', 'now', 'nowhere', 'of', 'off', 'often', 'on', 'once', 'one', 'only', 'onto', 'or', 'other', 'others', 'otherwise', 'our', 'ours', 'ourselves', 'out', 'over', 'own', 'part', 'per', 'perhaps', 'please', 'put', 'quite', 'rather', 're', 'really', 'regarding', 'same', 'say', 'see', 'seem', 'seemed', 'seeming', 'seems', 'serious', 'several', 'she', 'should', 'show', 'side', 'since', 'six', 'sixty', 'so', 'some', 'somehow', 'someone', 'something', 'sometime', 'sometimes', 'somewhere', 'still', 'such', 'take', 'ten', 'than', 'that', 'the', 'their', 'them', 'themselves', 'then', 'thence', 'there', 'thereafter', 'thereby', 'therefore', 'therein', 'thereupon', 'these', 'they', 'third', 'this', 'those', 'though', 'three', 'through', 'throughout', 'thru', 'thus', 'to', 'together', 'too', 'top', 'toward', 'towards', 'twelve', 'twenty', 'two', 'under', 'unless', 'until', 'up', 'upon', 'us', 'used', 'using', 'various', 'very', 'via', 'was', 'we', 'well', 'were', 'what', 'whatever', 'when', 'whence', 'whenever', 'where', 'whereafter', 'whereas', 'whereby', 'wherein', 'whereupon', 'wherever', 'whether', 'which', 'while', 'whither', 'who', 'whoever', 'whole', 'whom', 'whose', 'why', 'will', 'with', 'within', 'would', 'yet', 'you', 'your', 'yours', 'yourself', 'yourselves', '‘d', '‘ll', '‘m', '‘re', '‘s', '‘ve', '’d', '’ll', '’m', '’re', '’s', '’ve']\n",
    "\n",
    "    text=text.rstrip()\n",
    "    text = re.sub(r'[^a-zA-Z]', ' ', text)\n",
    "    text = \" \".join([i for i in text.lower().split()])\n",
    "#     print(text)\n",
    "    \n",
    "    doc = nlp(text)\n",
    "    \n",
    "    normalized = \" \".join(token.lemma_ for token in doc if token not in my_stop)\n",
    "    \n",
    "    doc = \" \".join(token.orth_ for token in normalized if not token.is_punct | token.is_space)\n",
    "    return doc"
   ]
  },
  {
   "cell_type": "code",
   "execution_count": 159,
   "metadata": {},
   "outputs": [
    {
     "data": {
      "text/plain": [
       "['./pkl_objects/clean.pkl']"
      ]
     },
     "execution_count": 159,
     "metadata": {},
     "output_type": "execute_result"
    }
   ],
   "source": [
    "from tokenizer import clean\n",
    "joblib.dump(clean, './pkl_objects/clean.pkl')"
   ]
  },
  {
   "cell_type": "code",
   "execution_count": 160,
   "metadata": {},
   "outputs": [],
   "source": [
    "# Now, let us restart this IPython notebook and check if the we can load our serialized objects:\n",
    "\n",
    "import joblib\n",
    "tokenizer = joblib.load('./pkl_objects/clean.pkl')\n",
    "vect = joblib.load('./pkl_objects/vectorizer.pkl')\n",
    "clf = joblib.load('./pkl_objects/clf.pkl')\n",
    "# After loading the tokenizer, HashingVectorizer, and the tranined logistic regression model, we can use it to make predictions on new data, which can be useful\n",
    "# ,if we'd want to embed our classifier into a web application"
   ]
  },
  {
   "cell_type": "code",
   "execution_count": 161,
   "metadata": {},
   "outputs": [
    {
     "name": "stdout",
     "output_type": "stream",
     "text": [
      "i did not like this movie\n"
     ]
    },
    {
     "ename": "NameError",
     "evalue": "name 'nlp' is not defined",
     "output_type": "error",
     "traceback": [
      "\u001b[0;31m---------------------------------------------------------------------------\u001b[0m",
      "\u001b[0;31mNameError\u001b[0m                                 Traceback (most recent call last)",
      "\u001b[0;32m<ipython-input-161-7b0c7348c79f>\u001b[0m in \u001b[0;36m<module>\u001b[0;34m\u001b[0m\n\u001b[1;32m      1\u001b[0m \u001b[0mexample\u001b[0m \u001b[0;34m=\u001b[0m \u001b[0;34m[\u001b[0m\u001b[0;34m'I did not like this movie'\u001b[0m\u001b[0;34m]\u001b[0m\u001b[0;34m\u001b[0m\u001b[0;34m\u001b[0m\u001b[0m\n\u001b[0;32m----> 2\u001b[0;31m \u001b[0mX\u001b[0m \u001b[0;34m=\u001b[0m \u001b[0mvect\u001b[0m\u001b[0;34m.\u001b[0m\u001b[0mtransform\u001b[0m\u001b[0;34m(\u001b[0m\u001b[0mexample\u001b[0m\u001b[0;34m)\u001b[0m\u001b[0;34m\u001b[0m\u001b[0;34m\u001b[0m\u001b[0m\n\u001b[0m\u001b[1;32m      3\u001b[0m \u001b[0mclf\u001b[0m\u001b[0;34m.\u001b[0m\u001b[0mpredict\u001b[0m\u001b[0;34m(\u001b[0m\u001b[0mX\u001b[0m\u001b[0;34m)\u001b[0m\u001b[0;34m\u001b[0m\u001b[0;34m\u001b[0m\u001b[0m\n",
      "\u001b[0;32m~/anaconda3/lib/python3.7/site-packages/sklearn/feature_extraction/text.py\u001b[0m in \u001b[0;36mtransform\u001b[0;34m(self, X)\u001b[0m\n\u001b[1;32m    622\u001b[0m \u001b[0;34m\u001b[0m\u001b[0m\n\u001b[1;32m    623\u001b[0m         \u001b[0manalyzer\u001b[0m \u001b[0;34m=\u001b[0m \u001b[0mself\u001b[0m\u001b[0;34m.\u001b[0m\u001b[0mbuild_analyzer\u001b[0m\u001b[0;34m(\u001b[0m\u001b[0;34m)\u001b[0m\u001b[0;34m\u001b[0m\u001b[0;34m\u001b[0m\u001b[0m\n\u001b[0;32m--> 624\u001b[0;31m         \u001b[0mX\u001b[0m \u001b[0;34m=\u001b[0m \u001b[0mself\u001b[0m\u001b[0;34m.\u001b[0m\u001b[0m_get_hasher\u001b[0m\u001b[0;34m(\u001b[0m\u001b[0;34m)\u001b[0m\u001b[0;34m.\u001b[0m\u001b[0mtransform\u001b[0m\u001b[0;34m(\u001b[0m\u001b[0manalyzer\u001b[0m\u001b[0;34m(\u001b[0m\u001b[0mdoc\u001b[0m\u001b[0;34m)\u001b[0m \u001b[0;32mfor\u001b[0m \u001b[0mdoc\u001b[0m \u001b[0;32min\u001b[0m \u001b[0mX\u001b[0m\u001b[0;34m)\u001b[0m\u001b[0;34m\u001b[0m\u001b[0;34m\u001b[0m\u001b[0m\n\u001b[0m\u001b[1;32m    625\u001b[0m         \u001b[0;32mif\u001b[0m \u001b[0mself\u001b[0m\u001b[0;34m.\u001b[0m\u001b[0mbinary\u001b[0m\u001b[0;34m:\u001b[0m\u001b[0;34m\u001b[0m\u001b[0;34m\u001b[0m\u001b[0m\n\u001b[1;32m    626\u001b[0m             \u001b[0mX\u001b[0m\u001b[0;34m.\u001b[0m\u001b[0mdata\u001b[0m\u001b[0;34m.\u001b[0m\u001b[0mfill\u001b[0m\u001b[0;34m(\u001b[0m\u001b[0;36m1\u001b[0m\u001b[0;34m)\u001b[0m\u001b[0;34m\u001b[0m\u001b[0;34m\u001b[0m\u001b[0m\n",
      "\u001b[0;32m~/anaconda3/lib/python3.7/site-packages/sklearn/feature_extraction/hashing.py\u001b[0m in \u001b[0;36mtransform\u001b[0;34m(self, raw_X)\u001b[0m\n\u001b[1;32m    166\u001b[0m         \u001b[0mindices\u001b[0m\u001b[0;34m,\u001b[0m \u001b[0mindptr\u001b[0m\u001b[0;34m,\u001b[0m \u001b[0mvalues\u001b[0m \u001b[0;34m=\u001b[0m\u001b[0;31m \u001b[0m\u001b[0;31m\\\u001b[0m\u001b[0;34m\u001b[0m\u001b[0;34m\u001b[0m\u001b[0m\n\u001b[1;32m    167\u001b[0m             _hashing_transform(raw_X, self.n_features, self.dtype,\n\u001b[0;32m--> 168\u001b[0;31m                                self.alternate_sign)\n\u001b[0m\u001b[1;32m    169\u001b[0m         \u001b[0mn_samples\u001b[0m \u001b[0;34m=\u001b[0m \u001b[0mindptr\u001b[0m\u001b[0;34m.\u001b[0m\u001b[0mshape\u001b[0m\u001b[0;34m[\u001b[0m\u001b[0;36m0\u001b[0m\u001b[0;34m]\u001b[0m \u001b[0;34m-\u001b[0m \u001b[0;36m1\u001b[0m\u001b[0;34m\u001b[0m\u001b[0;34m\u001b[0m\u001b[0m\n\u001b[1;32m    170\u001b[0m \u001b[0;34m\u001b[0m\u001b[0m\n",
      "\u001b[0;32msklearn/feature_extraction/_hashing.pyx\u001b[0m in \u001b[0;36msklearn.feature_extraction._hashing.transform\u001b[0;34m()\u001b[0m\n",
      "\u001b[0;32m~/anaconda3/lib/python3.7/site-packages/sklearn/feature_extraction/hashing.py\u001b[0m in \u001b[0;36m<genexpr>\u001b[0;34m(.0)\u001b[0m\n\u001b[1;32m    163\u001b[0m             \u001b[0mraw_X\u001b[0m \u001b[0;34m=\u001b[0m \u001b[0;34m(\u001b[0m\u001b[0m_iteritems\u001b[0m\u001b[0;34m(\u001b[0m\u001b[0md\u001b[0m\u001b[0;34m)\u001b[0m \u001b[0;32mfor\u001b[0m \u001b[0md\u001b[0m \u001b[0;32min\u001b[0m \u001b[0mraw_X\u001b[0m\u001b[0;34m)\u001b[0m\u001b[0;34m\u001b[0m\u001b[0;34m\u001b[0m\u001b[0m\n\u001b[1;32m    164\u001b[0m         \u001b[0;32melif\u001b[0m \u001b[0mself\u001b[0m\u001b[0;34m.\u001b[0m\u001b[0minput_type\u001b[0m \u001b[0;34m==\u001b[0m \u001b[0;34m\"string\"\u001b[0m\u001b[0;34m:\u001b[0m\u001b[0;34m\u001b[0m\u001b[0;34m\u001b[0m\u001b[0m\n\u001b[0;32m--> 165\u001b[0;31m             \u001b[0mraw_X\u001b[0m \u001b[0;34m=\u001b[0m \u001b[0;34m(\u001b[0m\u001b[0;34m(\u001b[0m\u001b[0;34m(\u001b[0m\u001b[0mf\u001b[0m\u001b[0;34m,\u001b[0m \u001b[0;36m1\u001b[0m\u001b[0;34m)\u001b[0m \u001b[0;32mfor\u001b[0m \u001b[0mf\u001b[0m \u001b[0;32min\u001b[0m \u001b[0mx\u001b[0m\u001b[0;34m)\u001b[0m \u001b[0;32mfor\u001b[0m \u001b[0mx\u001b[0m \u001b[0;32min\u001b[0m \u001b[0mraw_X\u001b[0m\u001b[0;34m)\u001b[0m\u001b[0;34m\u001b[0m\u001b[0;34m\u001b[0m\u001b[0m\n\u001b[0m\u001b[1;32m    166\u001b[0m         \u001b[0mindices\u001b[0m\u001b[0;34m,\u001b[0m \u001b[0mindptr\u001b[0m\u001b[0;34m,\u001b[0m \u001b[0mvalues\u001b[0m \u001b[0;34m=\u001b[0m\u001b[0;31m \u001b[0m\u001b[0;31m\\\u001b[0m\u001b[0;34m\u001b[0m\u001b[0;34m\u001b[0m\u001b[0m\n\u001b[1;32m    167\u001b[0m             _hashing_transform(raw_X, self.n_features, self.dtype,\n",
      "\u001b[0;32m~/anaconda3/lib/python3.7/site-packages/sklearn/feature_extraction/text.py\u001b[0m in \u001b[0;36m<genexpr>\u001b[0;34m(.0)\u001b[0m\n\u001b[1;32m    622\u001b[0m \u001b[0;34m\u001b[0m\u001b[0m\n\u001b[1;32m    623\u001b[0m         \u001b[0manalyzer\u001b[0m \u001b[0;34m=\u001b[0m \u001b[0mself\u001b[0m\u001b[0;34m.\u001b[0m\u001b[0mbuild_analyzer\u001b[0m\u001b[0;34m(\u001b[0m\u001b[0;34m)\u001b[0m\u001b[0;34m\u001b[0m\u001b[0;34m\u001b[0m\u001b[0m\n\u001b[0;32m--> 624\u001b[0;31m         \u001b[0mX\u001b[0m \u001b[0;34m=\u001b[0m \u001b[0mself\u001b[0m\u001b[0;34m.\u001b[0m\u001b[0m_get_hasher\u001b[0m\u001b[0;34m(\u001b[0m\u001b[0;34m)\u001b[0m\u001b[0;34m.\u001b[0m\u001b[0mtransform\u001b[0m\u001b[0;34m(\u001b[0m\u001b[0manalyzer\u001b[0m\u001b[0;34m(\u001b[0m\u001b[0mdoc\u001b[0m\u001b[0;34m)\u001b[0m \u001b[0;32mfor\u001b[0m \u001b[0mdoc\u001b[0m \u001b[0;32min\u001b[0m \u001b[0mX\u001b[0m\u001b[0;34m)\u001b[0m\u001b[0;34m\u001b[0m\u001b[0;34m\u001b[0m\u001b[0m\n\u001b[0m\u001b[1;32m    625\u001b[0m         \u001b[0;32mif\u001b[0m \u001b[0mself\u001b[0m\u001b[0;34m.\u001b[0m\u001b[0mbinary\u001b[0m\u001b[0;34m:\u001b[0m\u001b[0;34m\u001b[0m\u001b[0;34m\u001b[0m\u001b[0m\n\u001b[1;32m    626\u001b[0m             \u001b[0mX\u001b[0m\u001b[0;34m.\u001b[0m\u001b[0mdata\u001b[0m\u001b[0;34m.\u001b[0m\u001b[0mfill\u001b[0m\u001b[0;34m(\u001b[0m\u001b[0;36m1\u001b[0m\u001b[0;34m)\u001b[0m\u001b[0;34m\u001b[0m\u001b[0;34m\u001b[0m\u001b[0m\n",
      "\u001b[0;32m~/anaconda3/lib/python3.7/site-packages/sklearn/feature_extraction/text.py\u001b[0m in \u001b[0;36m<lambda>\u001b[0;34m(doc)\u001b[0m\n\u001b[1;32m    327\u001b[0m                                                tokenize)\n\u001b[1;32m    328\u001b[0m             return lambda doc: self._word_ngrams(\n\u001b[0;32m--> 329\u001b[0;31m                 tokenize(preprocess(self.decode(doc))), stop_words)\n\u001b[0m\u001b[1;32m    330\u001b[0m \u001b[0;34m\u001b[0m\u001b[0m\n\u001b[1;32m    331\u001b[0m         \u001b[0;32melse\u001b[0m\u001b[0;34m:\u001b[0m\u001b[0;34m\u001b[0m\u001b[0;34m\u001b[0m\u001b[0m\n",
      "\u001b[0;32m~/SmartEmailTracker/tokenizer.py\u001b[0m in \u001b[0;36mclean\u001b[0;34m(text)\u001b[0m\n\u001b[1;32m     16\u001b[0m \u001b[0;34m\u001b[0m\u001b[0m\n\u001b[1;32m     17\u001b[0m     \u001b[0mnormalized\u001b[0m \u001b[0;34m=\u001b[0m \u001b[0;34m\" \"\u001b[0m\u001b[0;34m.\u001b[0m\u001b[0mjoin\u001b[0m\u001b[0;34m(\u001b[0m\u001b[0mtoken\u001b[0m\u001b[0;34m.\u001b[0m\u001b[0mlemma_\u001b[0m \u001b[0;32mfor\u001b[0m \u001b[0mtoken\u001b[0m \u001b[0;32min\u001b[0m \u001b[0mdoc\u001b[0m \u001b[0;32mif\u001b[0m \u001b[0mtoken\u001b[0m \u001b[0;32mnot\u001b[0m \u001b[0;32min\u001b[0m \u001b[0mmy_stop\u001b[0m\u001b[0;34m)\u001b[0m\u001b[0;34m\u001b[0m\u001b[0;34m\u001b[0m\u001b[0m\n\u001b[0;32m---> 18\u001b[0;31m \u001b[0;34m\u001b[0m\u001b[0m\n\u001b[0m\u001b[1;32m     19\u001b[0m     \u001b[0mdoc\u001b[0m \u001b[0;34m=\u001b[0m \u001b[0;34m\" \"\u001b[0m\u001b[0;34m.\u001b[0m\u001b[0mjoin\u001b[0m\u001b[0;34m(\u001b[0m\u001b[0mtoken\u001b[0m\u001b[0;34m.\u001b[0m\u001b[0morth_\u001b[0m \u001b[0;32mfor\u001b[0m \u001b[0mtoken\u001b[0m \u001b[0;32min\u001b[0m \u001b[0mnormalized\u001b[0m \u001b[0;32mif\u001b[0m \u001b[0;32mnot\u001b[0m \u001b[0mtoken\u001b[0m\u001b[0;34m.\u001b[0m\u001b[0mis_punct\u001b[0m \u001b[0;34m|\u001b[0m \u001b[0mtoken\u001b[0m\u001b[0;34m.\u001b[0m\u001b[0mis_space\u001b[0m\u001b[0;34m)\u001b[0m\u001b[0;34m\u001b[0m\u001b[0;34m\u001b[0m\u001b[0m\n\u001b[1;32m     20\u001b[0m     \u001b[0;32mreturn\u001b[0m \u001b[0mdoc\u001b[0m\u001b[0;34m\u001b[0m\u001b[0;34m\u001b[0m\u001b[0m\n",
      "\u001b[0;31mNameError\u001b[0m: name 'nlp' is not defined"
     ]
    }
   ],
   "source": [
    "example = ['I did not like this movie']\n",
    "X = vect.transform(example)\n",
    "clf.predict(X)"
   ]
  },
  {
   "cell_type": "code",
   "execution_count": null,
   "metadata": {},
   "outputs": [],
   "source": [
    "example = ['I loved this movie']\n",
    "X = vect.transform(example)\n",
    "clf.predict(X)"
   ]
  },
  {
   "cell_type": "code",
   "execution_count": null,
   "metadata": {},
   "outputs": [],
   "source": []
  },
  {
   "cell_type": "markdown",
   "metadata": {},
   "source": [
    "## Implementing K-Means++"
   ]
  },
  {
   "cell_type": "code",
   "execution_count": 83,
   "metadata": {},
   "outputs": [
    {
     "name": "stdout",
     "output_type": "stream",
     "text": [
      "Automatically created module for IPython interactive environment\n",
      "Usage: ipykernel_launcher.py [options]\n",
      "\n",
      "Options:\n",
      "  -h, --help            show this help message and exit\n",
      "  --lsa=N_COMPONENTS    Preprocess documents with latent semantic analysis.\n",
      "  --no-minibatch        Use ordinary k-means algorithm (in batch mode).\n",
      "  --no-idf              Disable Inverse Document Frequency feature weighting.\n",
      "  --use-hashing         Use a hashing feature vectorizer\n",
      "  --n-features=N_FEATURES\n",
      "                        Maximum number of features (dimensions) to extract\n",
      "                        from text.\n",
      "  --verbose             Print progress reports inside k-means algorithm.\n"
     ]
    }
   ],
   "source": [
    "# parse commandline arguments\n",
    "op = OptionParser()\n",
    "op.add_option(\"--lsa\",\n",
    "              dest=\"n_components\", type=\"int\",\n",
    "              help=\"Preprocess documents with latent semantic analysis.\")\n",
    "op.add_option(\"--no-minibatch\",\n",
    "              action=\"store_false\", dest=\"minibatch\", default=True,\n",
    "              help=\"Use ordinary k-means algorithm (in batch mode).\")\n",
    "op.add_option(\"--no-idf\",\n",
    "              action=\"store_false\", dest=\"use_idf\", default=True,\n",
    "              help=\"Disable Inverse Document Frequency feature weighting.\")\n",
    "op.add_option(\"--use-hashing\",\n",
    "              action=\"store_true\", default=False,\n",
    "              help=\"Use a hashing feature vectorizer\")\n",
    "op.add_option(\"--n-features\", type=int, default=100000,\n",
    "              help=\"Maximum number of features (dimensions)\"\n",
    "                   \" to extract from text.\")\n",
    "op.add_option(\"--verbose\",\n",
    "              action=\"store_true\", dest=\"verbose\", default=False,\n",
    "              help=\"Print progress reports inside k-means algorithm.\")\n",
    "\n",
    "print(__doc__)\n",
    "op.print_help()"
   ]
  },
  {
   "cell_type": "code",
   "execution_count": 106,
   "metadata": {},
   "outputs": [
    {
     "name": "stdout",
     "output_type": "stream",
     "text": [
      "Extracting features from the training dataset using a sparse vectorizer\n",
      "done in 0.041258s\n",
      "n_samples: 951, n_features: 212\n",
      "\n"
     ]
    },
    {
     "name": "stderr",
     "output_type": "stream",
     "text": [
      "/home/aheli/anaconda3/lib/python3.7/site-packages/sklearn/feature_extraction/text.py:301: UserWarning: Your stop_words may be inconsistent with your preprocessing. Tokenizing the stop words generated tokens ['ll', 'thank', 've'] not in stop_words.\n",
      "  'stop_words.' % sorted(inconsistent))\n"
     ]
    }
   ],
   "source": [
    "print(\"Extracting features from the training dataset using a sparse vectorizer\")\n",
    "\n",
    "t0 = time()\n",
    "\n",
    "if opts.use_hashing:\n",
    "    if opts.use_idf:\n",
    "        # Perform an IDF normalization on the output of HashingVectorizer\n",
    "        hasher = HashingVectorizer(n_features=opts.n_features, stop_words=my_stop, alternate_sign=False, norm=None)\n",
    "        vectorizer = make_pipeline(hasher, TfidfTransformer())\n",
    "    \n",
    "    else:\n",
    "        vectorizer=HashingVectorizer(n_features=opts.n_features, stop_words=my_stop, \n",
    "                                     alternate_sign=False, norm='l2')\n",
    "\n",
    "else:       \n",
    "    vectorizer = TfidfVectorizer(max_df=0.5, max_features=opts.n_features,\n",
    "                                 min_df=2, stop_words=my_stop, use_idf=opts.use_idf)\n",
    "    \n",
    "\n",
    "X = vectorizer.fit_transform(text_clean)\n",
    "\n",
    "print(\"done in %fs\" % (time() - t0))\n",
    "print(\"n_samples: %d, n_features: %d\" % X.shape)\n",
    "print()\n",
    "\n",
    "if opts.n_components:\n",
    "    print(\"Performing dimensionality reduction using LSA\")\n",
    "    t0 = time()\n",
    "    # Vectorizer results are normalized, which makes KMeans behave as\n",
    "    # spherical k-means for better results. Since LSA/SVD results are \n",
    "    # not normalized, we have to redo the normalization.\n",
    "    \n",
    "    svd = TruncatedSVD(opts.n_components)\n",
    "    normalizer = Normalizer(copy=False)\n",
    "    lsa = make_pipeline(svd, normalizer)\n",
    "\n",
    "    X = lsa.fit_transform(X)\n",
    "\n",
    "    print(\"done in %fs\" % (time() - t0))\n",
    "\n",
    "    explained_variance = svd.explained_variance_ratio_.sum()\n",
    "    print(\"Explained variance of the SVD step: {}%\".format(\n",
    "        int(explained_variance * 100)))\n",
    "\n",
    "    print()"
   ]
  },
  {
   "cell_type": "code",
   "execution_count": 108,
   "metadata": {},
   "outputs": [
    {
     "name": "stdout",
     "output_type": "stream",
     "text": [
      "Clustering sparse data with MiniBatchKMeans(batch_size=5, compute_labels=True, init='k-means++',\n",
      "        init_size=5, max_iter=100, max_no_improvement=10, n_clusters=6,\n",
      "        n_init=1, random_state=None, reassignment_ratio=0.01, tol=0.0,\n",
      "        verbose=False)\n",
      "done in 0.139s\n",
      "\n",
      "Homogeneity: 0.341\n",
      "Completeness: 0.569\n",
      "V-measure: 0.426\n",
      "Adjusted Rand-Index: 0.125\n",
      "Silhouette Coefficient: 0.092\n",
      "\n",
      "Top terms per cluster:\n",
      "Cluster 0: process currently transfer inform payment receive acknowledge response finally kind\n",
      "Cluster 1: pay partial rest understanding assure remain later payment regret soon\n",
      "Cluster 2: fail kindly detail reply complete request tell know status update\n",
      "Cluster 3: finalized confirm want let acknowledge status know response email payment\n",
      "Cluster 4: wrong mention error reason state new create advance wait fail\n",
      "Cluster 5: priority basis detail provide urgently need update request send require\n"
     ]
    },
    {
     "name": "stderr",
     "output_type": "stream",
     "text": [
      "/home/aheli/anaconda3/lib/python3.7/site-packages/sklearn/cluster/k_means_.py:1562: RuntimeWarning: init_size=5 should be larger than k=6. Setting it to 3*k\n",
      "  init_size=init_size)\n"
     ]
    }
   ],
   "source": [
    "# Do the actual clustering\n",
    "\n",
    "if opts.minibatch:\n",
    "    km = MiniBatchKMeans(n_clusters=true_k, init='k-means++', n_init=1,\n",
    "                         init_size=5, batch_size=5, verbose=opts.verbose)\n",
    "else:\n",
    "    km = KMeans(n_clusters=true_k, init='k-means++', max_iter=100, n_init=1,\n",
    "                verbose=opts.verbose)\n",
    "\n",
    "print(\"Clustering sparse data with %s\" % km)\n",
    "t0 = time()\n",
    "km.fit(X)\n",
    "print(\"done in %0.3fs\" % (time() - t0))\n",
    "print()\n",
    "\n",
    "print(\"Homogeneity: %0.3f\" % metrics.homogeneity_score(labels, km.labels_))\n",
    "print(\"Completeness: %0.3f\" % metrics.completeness_score(labels, km.labels_))\n",
    "print(\"V-measure: %0.3f\" % metrics.v_measure_score(labels, km.labels_))\n",
    "print(\"Adjusted Rand-Index: %.3f\"\n",
    "      % metrics.adjusted_rand_score(labels, km.labels_))\n",
    "print(\"Silhouette Coefficient: %0.3f\"\n",
    "      % metrics.silhouette_score(X, km.labels_, sample_size=1000))\n",
    "\n",
    "print()\n",
    "\n",
    "\n",
    "if not opts.use_hashing:\n",
    "    print(\"Top terms per cluster:\")\n",
    "\n",
    "    if opts.n_components:\n",
    "        original_space_centroids = svd.inverse_transform(km.cluster_centers_)\n",
    "        order_centroids = original_space_centroids.argsort()[:, ::-1]\n",
    "    else:\n",
    "        order_centroids = km.cluster_centers_.argsort()[:, ::-1]\n",
    "\n",
    "    terms = vectorizer.get_feature_names()\n",
    "    for i in range(true_k):\n",
    "        print(\"Cluster %d:\" % i, end='')\n",
    "        for ind in order_centroids[i, :10]:\n",
    "            print(' %s' % terms[ind], end='')\n",
    "        print()"
   ]
  },
  {
   "cell_type": "code",
   "execution_count": null,
   "metadata": {},
   "outputs": [],
   "source": []
  }
 ],
 "metadata": {
  "kernelspec": {
   "display_name": "Python 3.6.9 64-bit ('env': virtualenv)",
   "language": "python",
   "name": "python36964bitenvvirtualenvf9fbb68df0f94a94893ed008014f3938"
  },
  "language_info": {
   "codemirror_mode": {
    "name": "ipython",
    "version": 3
   },
   "file_extension": ".py",
   "mimetype": "text/x-python",
   "name": "python",
   "nbconvert_exporter": "python",
   "pygments_lexer": "ipython3",
   "version": "3.6.9-final"
  }
 },
 "nbformat": 4,
 "nbformat_minor": 1
}