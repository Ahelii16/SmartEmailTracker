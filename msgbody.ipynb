{
 "cells": [
  {
   "cell_type": "code",
   "execution_count": 1,
   "metadata": {},
   "outputs": [],
   "source": [
    "import numpy as np\n",
    "import pandas as pd\n",
    "import random\n",
    "from random import randint"
   ]
  },
  {
   "cell_type": "code",
   "execution_count": 2,
   "metadata": {},
   "outputs": [],
   "source": [
    "currency = ['USD','GBP','CAD','EUR']"
   ]
  },
  {
   "cell_type": "code",
   "execution_count": 3,
   "metadata": {},
   "outputs": [],
   "source": [
    "def numgen(n):\n",
    "    return ''.join([\"{}\".format(randint(1, 9)) for num in range(0, n)])"
   ]
  },
  {
   "cell_type": "code",
   "execution_count": 3,
   "metadata": {},
   "outputs": [],
   "source": [
    "def transacBank(n,s):\n",
    "    \n",
    "    transacC=['The transaction for amount ' + random.choice(currency)+' '+ numgen(6) + ' related to investment funds has been successfully completed.',\n",
    "    'The transaction of amount ' + random.choice(currency)+' '+ numgen(6) + ' has been received successfully.',\n",
    "    'Full payment for amount ' + random.choice(currency)+' '+ numgen(6) + ' has been successfully received.']\n",
    "\n",
    "    transacP=[\n",
    "    'Fund transfer for Account No. ' + s + ' has stopped abruptly due to unknown technical error. We regret the inconvenience.',\n",
    "    'Due to server overflow transaction ' + s + ' will be completed within seven to ten working days',\n",
    "    'Payment ' + s + ' will be completed within two days']\n",
    "\n",
    "    transacF=['Due to unknown technical errors, your transaction for amount ' + random.choice(currency)+' '+ numgen(6) + ' has been cancelled.',\n",
    "    'Payment of ' + random.choice(currency)+' '+ numgen(6) + ' has been cancelled as per your request.',\n",
    "    'Due to lack of funds, cheque no. ' + numgen(24) + ' has bounced. Kindly ensure that you have enough funds and then submit a new cheque at the earliest.']\n",
    "\n",
    "    transacR=['Kindly provide the details for Acc no. '+ s + ' at the earliest',\n",
    "              'Please find the details of your account '+ s + ' attached',\n",
    "              'Hey,We got your query regarding details of account ' + s + '. Please find the attached details. Thank you!',\n",
    "              'We have received your request and will be sending you the details of acc '+ s + ' soon.']\n",
    "    \n",
    "    transacS=[\n",
    "        'Your transaction: ' + s + ' will reach you within the next 7-10 working days.',\n",
    "        'The transaction ' + s + ' has cancelled due to low balance in your account.Please credit enough funds and then try again.',\n",
    "        'The transaction: ' + s + ' was successful. Please check your balance and let us know.',\n",
    "         'An amount of '+ random.choice(currency)+ ' ' + numgen(6) + 'has been added to account no.' + s + 'Transaction Successful!']  \n",
    "    \n",
    "    if(n==1):\n",
    "        return random.choice(transacC)\n",
    "    elif n==2:\n",
    "        return random.choice(transacP)\n",
    "    elif n==3:\n",
    "        return random.choice(transacF)\n",
    "    elif n==4:\n",
    "        return random.choice(transacR)\n",
    "    elif n==5:\n",
    "        return random.choice(transacS)"
   ]
  },
  {
   "cell_type": "code",
   "execution_count": 5,
   "metadata": {},
   "outputs": [],
   "source": [
    "def transacclient(n,s):\n",
    "    transacC=[\n",
    "        'Thank you,\\n\\nThe approved loan amount of '+ random.choice(currency)+' '+ numgen(6) +' has been received in full amount.',\n",
    "        'Sir,\\n\\nThe Amount '+ random.choice(currency)+ ' ' + numgen(6)+' has been transferred to your account, please check and let us know if there is any problem.',\n",
    "        'As stated in the loan application form, an amount of '+ random.choice(currency)+ ' ' + numgen(6) + 'has been added to the account' + s + '.Thank You for the quick work!',\n",
    "        'I deeply appreciate your quick service as I have received the pre-approved loan amount of '+ random.choice(currency)+ ' ' + numgen(6)\n",
    "    ]\n",
    "    \n",
    "    transacP=[\n",
    "        'The transaction ' + s + ' is taking too long to complete. Kindly guide me through the further steps to be taken to complete the transaction.',\n",
    "        'Sir\\n\\nThe transaction with ID :'+ s +' is pending for the last 2 weeks, please look into that.\\n\\nThanks and regards.',\n",
    "        'Hey, My transaction ID is : ' + s + 'and it has been in progress for a month. Please notify me if there is any problem. Thanks.',\n",
    "        'Thank you for your assistance so far, but I have 1 more query : Transaction ID ' + s + 'has been in progress for nearly 3 weeks. Can you please check that and fix the problem? Regards'\n",
    "    ]\n",
    "    \n",
    "    transacF=[\n",
    "        'The approved loan for transaction ID:'+ s +'has been cancelled .\\nKindly reply to me with the reason at the earliest.',\n",
    "        'Due to some error from our side of the team, the amount '+ random.choice(currency) + ' '+ numgen(6) +' has been cancelled.\\nPlease be assured it will reach you with next week.',\n",
    "        'Hey, I see my transaction with ID ' + s + ' has failed. I think I did everything right? Please look into this and reply with the reason urgently. Thank you .'\n",
    "    ]\n",
    "    \n",
    "    transacS=[\n",
    "        'Hey, I would like to know the details of account no. ' + s + 'Thanks.',\n",
    "        'I request you to kindly send the status of my transaction with ID : '+ s + 'Thanks and regards',\n",
    "        'Kindly reply to me at the earliest with the last 3 transactions made with the account no' + s + 'Thanks in advance.',\n",
    "        'Can you please tell me the amount transferred through transaction ID : ' + s + '? Thanks.'\n",
    "    ]\n",
    "    if(n==1):\n",
    "        return random.choice(transacC)\n",
    "    elif n==2:\n",
    "        return random.choice(transacP)\n",
    "    elif n==3:\n",
    "        return random.choice(transacF)\n",
    "    elif n==5 or n==4:\n",
    "        return random.choice(transacS)"
   ]
  },
  {
   "cell_type": "code",
   "execution_count": 6,
   "metadata": {},
   "outputs": [],
   "source": [
    "###subject body\n",
    "def subclient(s):\n",
    "    subject=[\n",
    "             'Payment in Progress Acc ' + s,\n",
    "             'Update on payment request for ' + s ,\n",
    "             'Information regarding collateral details for Loan no.' + s,\n",
    "             'Urgent : need transaction details for ' + s,\n",
    "             'Transaction is in progress for ' + s,\n",
    "             'Payment is in progress for ' + s,\n",
    "             'Waiting for Loan amount pending for '+ s,\n",
    "             'Payment Received for ' + s,\n",
    "            ]\n",
    "    return random.choice(subject)"
   ]
  },
  {
   "cell_type": "code",
   "execution_count": 7,
   "metadata": {},
   "outputs": [],
   "source": [
    "def subBank(s):\n",
    "    subject=[\n",
    "        'Payment Status for ' + s,\n",
    "        'Acc ' + s + ' Update',\n",
    "        'Transaction Complete for ' + s,\n",
    "        'Payment Failed for ' + s,\n",
    "        'Transaction Failed for ' + s,\n",
    "        'Urgent payment of pending amount'+ random.choice(currency) + s + 'required.',\n",
    "        'Current Update on Account No. '+ s,\n",
    "        'Transaction is in progress for ' + s,\n",
    "    ]\n",
    "    return random.choice(subject)"
   ]
  },
  {
   "cell_type": "code",
   "execution_count": null,
   "metadata": {},
   "outputs": [],
   "source": []
  },
  {
   "cell_type": "code",
   "execution_count": null,
   "metadata": {},
   "outputs": [],
   "source": []
  }
 ],
 "metadata": {
  "kernelspec": {
   "display_name": "Python 3",
   "language": "python",
   "name": "python3"
  },
  "language_info": {
   "codemirror_mode": {
    "name": "ipython",
    "version": 3
   },
   "file_extension": ".py",
   "mimetype": "text/x-python",
   "name": "python",
   "nbconvert_exporter": "python",
   "pygments_lexer": "ipython3",
   "version": "3.7.6"
  }
 },
 "nbformat": 4,
 "nbformat_minor": 2
}
