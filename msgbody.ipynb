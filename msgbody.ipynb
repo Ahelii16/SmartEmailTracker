{
 "cells": [
  {
   "cell_type": "code",
   "execution_count": 1,
   "metadata": {},
   "outputs": [],
   "source": [
    "import numpy as np\n",
    "import pandas as pd\n",
    "import random\n",
    "from random import randint"
   ]
  },
  {
   "cell_type": "code",
   "execution_count": 2,
   "metadata": {},
   "outputs": [],
   "source": [
    "currency = ['USD','GBP','CAD','EUR']"
   ]
  },
  {
   "cell_type": "code",
   "execution_count": 3,
   "metadata": {},
   "outputs": [],
   "source": [
    "def numgen(n):\n",
    "    return ''.join([\"{}\".format(randint(1, 9)) for num in range(0, n)])"
   ]
  },
  {
   "cell_type": "code",
   "execution_count": 4,
   "metadata": {},
   "outputs": [],
   "source": [
    "#Bank to Client\n",
    "def transacBank(n,s):\n",
    "    \n",
    "    #complete\n",
    "    transacC=[\n",
    "    'The transaction for amount ' + random.choice(currency)+' '+ numgen(6) + ' related to investment funds has been successfully completed.',\n",
    "    'The transaction of amount ' + random.choice(currency)+' '+ numgen(6) + ' has been received successfully.',\n",
    "    'Full payment for amount ' + random.choice(currency)+' '+ numgen(6) + ' has been successfully received.' ,\n",
    "    'Greetings! This is to inform you that your transaction ' +  random.choice(currency)+' '+ numgen(6) + ' is successful!', \n",
    "    'Hi, We have successfully processed and completed transaction ' + random.choice(currency)+' '+ numgen(6) , \n",
    "     random.choice(currency)+' '+ numgen(6) + ' completed successfully, congrats!', \n",
    "    'We are happy to let you know that transaction '+ random.choice(currency)+' '+ numgen(6) + ' has been fully processed and is complete.']\n",
    "\n",
    "    #in progress\n",
    "    transacP=[\n",
    "    'Fund transfer for Account No. ' + s + ' has stopped abruptly due to unknown technical error. We regret the inconvenience.',\n",
    "    'Due to server overflow transaction ' + s + ' will be completed within seven to ten working days',\n",
    "    'Payment ' + s + ' will be completed within two days', \n",
    "    'Sorry, due to high volume of requests, your transaction ' + s + ' has been temporarily put on hold.',\n",
    "    'Thanks for submitting your query regarding ' + s + ' we will get back to you soon!',\n",
    "    'Hey, We got your query regarding details of account ' + s + ' . Please find the attached details. Thank you!',\n",
    "    'We are sorry but your fund transfer ' + s + ' is taking longer than usual, we will keep you updated.']\n",
    "    \n",
    "    #failed\n",
    "    transacF=[\n",
    "    'Due to unknown technical errors, your transaction for amount ' + random.choice(currency)+' '+ numgen(6) + ' has been cancelled.',\n",
    "    'Payment of ' + random.choice(currency)+' '+ numgen(6) + ' has been cancelled as per your request.',\n",
    "    'Due to lack of funds, cheque no. ' + numgen(24) + ' has bounced. Kindly ensure that you have enough funds and then submit a new cheque at the earliest.' , \n",
    "    'Due to incorrect details filled, ' + random.choice(currency)+' '+ numgen(6) + ' has failed, please resend.',\n",
    "    'Regret to inform that transaction ' + random.choice(currency)+' '+ numgen(6) + ' could not be completed due to mismatch in details']\n",
    "\n",
    "    #request or acknowledgement of account details request\n",
    "    transacR=[\n",
    "    'Kindly provide the details for Acc no. '+ s + ' at the earliest',\n",
    "    'Request you to resend details of ' + s + ' as soon as possible',\n",
    "    'Please find the details of your account '+ s + ' attached',\n",
    "    'We have received your request and will be sending you the details of acc '+ s + ' in the next 1-2 business days.']\n",
    "    \n",
    "    if(n==1):\n",
    "        return random.choice(transacC)\n",
    "    elif n==2:\n",
    "        return random.choice(transacP)\n",
    "    elif n==3:\n",
    "        return random.choice(transacF)\n",
    "    elif n==4:\n",
    "        return random.choice(transacR)"
   ]
  },
  {
   "cell_type": "code",
   "execution_count": 5,
   "metadata": {},
   "outputs": [],
   "source": [
    "#Client to Bank\n",
    "def transacClient(n,s):\n",
    "    transacC=[\n",
    "        'Thank you,\\n\\nThe approved loan amount of '+ random.choice(currency)+' '+ numgen(6) +' has been received in full amount.',\n",
    "        'Sir,\\n\\nThe amount '+ random.choice(currency)+ ' ' + numgen(6)+' has been transferred to your account, please check and let us know if there is any problem.',\n",
    "        'As stated in the loan application form, an amount of '+ random.choice(currency)+ ' ' + numgen(6) + ' has been added to the account ' + s + ' .Thank You for the quick work!',\n",
    "        'I deeply appreciate your quick service as I have received the pre-approved loan amount of '+ random.choice(currency)+ ' ' + numgen(6), \n",
    "        'Thanks so much, received ' + random.choice(currency)+' '+ numgen(6) + ' yesterday successfully!', \n",
    "        'Appreciate your services, my loan amount has reached me ' + random.choice(currency)+' '+ numgen(6) + ' thanks to your quick response!'\n",
    "    ]\n",
    "    \n",
    "    transacP=[\n",
    "        'I was wondering why ' + s + ' has not been processed yet, please guide me.', \n",
    "        'Status of transaction ' + random.choice(currency)+' '+ numgen(6) + ' for account ' + s + ' is pending, please inform why?',\n",
    "        'The transaction ' + s + ' is taking too long to complete. Kindly guide me through the further steps to be taken to complete the transaction.',\n",
    "        'Sir\\n\\nThe transaction with ID: '+ s +' is pending for the last 2 weeks, please look into that.\\n\\nThanks and regards.',\n",
    "        'Hey, My transaction ID is : ' + s + ' and it has been in progress for a month. Please notify me if there is any problem. Thanks.',\n",
    "        'Thank you for your assistance so far, but I have 1 more query : Transaction ID ' + s + ' has been in progress for nearly 3 weeks. Can you please check that and fix the problem? Regards'\n",
    "    ]\n",
    "    \n",
    "    transacF=[\n",
    "        'Could you kindly inform why transaction '+ s + ' failed?', \n",
    "        'My loan ' + s + ' did not come through, please provide further details.', \n",
    "        'Please help me understand why ' + s + ' has failed, need funds urgently!',\n",
    "        'The approved loan for transaction ID: '+ s +' has been cancelled .\\nKindly reply to me with the reason at the earliest.',\n",
    "        'Due to some error from our side of the team, the amount '+ random.choice(currency) + ' '+ numgen(6) +' has been cancelled.\\nPlease be assured it will reach you with next week.',\n",
    "        'Hey, I see my transaction with ID ' + s + ' has failed. I think I did everything right? Please look into this and reply with the reason urgently. Thank you .'\n",
    "    ]\n",
    "    \n",
    "    transacS=[\n",
    "        'Please provide a status update on ' + s + ' at the earliest', \n",
    "        'I need details of ' + s + ' urgently, please provide the same on priority basis.',\n",
    "        'Urgently require details of acc ' + s + ' reply asap',\n",
    "        'Hey, I would like to know the details of account no. ' + s + 'Thanks.',\n",
    "        'I request you to kindly send the status of my transaction with ID : '+ s + 'Thanks and regards',\n",
    "        'Kindly reply to me at the earliest with the last 3 transactions made with the account no ' + s + 'Thanks in advance.',\n",
    "        'Can you please tell me the amount transferred through transaction ID : ' + s + '? Thanks.'\n",
    "    ]\n",
    "    if(n==1):\n",
    "        return random.choice(transacC)\n",
    "    elif n==2:\n",
    "        return random.choice(transacP)\n",
    "    elif n==3:\n",
    "        return random.choice(transacF)\n",
    "    elif n==4:\n",
    "        return random.choice(transacS)"
   ]
  },
  {
   "cell_type": "code",
   "execution_count": 6,
   "metadata": {},
   "outputs": [],
   "source": [
    "k=0\n",
    "l=0"
   ]
  },
  {
   "cell_type": "code",
   "execution_count": 7,
   "metadata": {},
   "outputs": [],
   "source": [
    "def subClient(s):\n",
    "    subject=[\n",
    "        'Payment in Progress Acc ' + s,\n",
    "        'Update on payment request for ' + s ,\n",
    "        'Information regarding collateral details for Loan no. ' + s,\n",
    "        'Urgent : need transaction details for ' + s,\n",
    "        'Transaction is in progress for ' + s,\n",
    "        'Payment is in progress for ' + s,\n",
    "        'Waiting for Loan amount pending for '+ s,\n",
    "        'Payment Received for ' + s,\n",
    "        'Payment for Loan received',\n",
    "        'Why my payment for transaction no: '+s+ 'Failed?'\n",
    "        'Reason needed for failure of payment no.'+s,\n",
    "            ]\n",
    "    return random.choice(subject)"
   ]
  },
  {
   "cell_type": "code",
   "execution_count": 8,
   "metadata": {},
   "outputs": [],
   "source": [
    "def subBank(s):\n",
    "    subject=[\n",
    "        'Payment Status for ' + s,\n",
    "        'Acc ' + s + ' Update',\n",
    "        'Transaction Complete for ' + s,\n",
    "        'Payment Failed for ' + s,\n",
    "        'Transaction Failed for ' + s,\n",
    "        'Urgent payment of pending amount '+ random.choice(currency)+' ' + s + ' required.',\n",
    "        'Current Update on Account No. '+ s,\n",
    "        'Transaction is in progress for ' + s,\n",
    "        'Provide the details regarding transaction: '+s,\n",
    "        'Request have been recieved for T-ID: '+s,\n",
    "    ]\n",
    "    return random.choice(subject)"
   ]
  },
  {
   "cell_type": "code",
   "execution_count": null,
   "metadata": {},
   "outputs": [],
   "source": []
  }
 ],
 "metadata": {
  "kernelspec": {
   "display_name": "Python 3",
   "language": "python",
   "name": "python3"
  },
  "language_info": {
   "codemirror_mode": {
    "name": "ipython",
    "version": 3
   },
   "file_extension": ".py",
   "mimetype": "text/x-python",
   "name": "python",
   "nbconvert_exporter": "python",
   "pygments_lexer": "ipython3",
   "version": "3.7.4"
  }
 },
 "nbformat": 4,
 "nbformat_minor": 2
}
