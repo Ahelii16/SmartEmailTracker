{
 "cells": [
  {
   "cell_type": "code",
   "execution_count": null,
   "metadata": {},
   "outputs": [],
   "source": [
    "#Email generation code"
   ]
  },
  {
   "cell_type": "code",
   "execution_count": null,
   "metadata": {},
   "outputs": [],
   "source": [
    "import pandas as pd\n",
    "import numpy as np\n",
    "import import_ipynb"
   ]
  },
  {
   "cell_type": "code",
   "execution_count": null,
   "metadata": {},
   "outputs": [],
   "source": [
    "import msgbody\n",
    "from msgbody import numgen, transacBank,transacClient , subClient, subBank"
   ]
  },
  {
   "cell_type": "code",
   "execution_count": null,
   "metadata": {},
   "outputs": [],
   "source": [
    "From1=['@JPMorgan.com','@DeutscheBank.com','@BNYMellon.com','@HSBC.com','@SBI.com','@HDFC.com','@DESHAW.com']\n",
    "\n",
    "From2=['@CitiBankNewYork.com','@CitiBankLondon.com','@CitiBankPune.com','@CitiBankSingapore.com','@CitiBankHongKong.com']\n",
    "\n",
    "To1=['@JPMorgan.com','@DEUTSCHEBANK.com','@BNYMellon.com','@HSBC.com','@SBI.com','@HDFC.com','@DESHAW.com']\n",
    "\n",
    "To2=['@CitiBankNewYork.com','@CitiBankLondon.com','@CitiBankPune.com','@CitiBankSingapore.com','@CitiBankHongKong.com']\n",
    "\n",
    "Subject2=['Update on payment request', 'Payment Status', 'Urgent: need transaction details','Transaction Complete','Transaction is in progress','Payment Failed','Payment is in progress','Waiting for amount pending','Transaction Failed','Payment Received']\n",
    "\n",
    "name1=['Phillip','Mike','Jason','Adam','Morgan','Spike','Stacy','Dave','David','Bella','Angella','Stefeny']\n",
    "name2=['Shai','Dipesh','Anthony','Isabella','Shanguisi','liFang','AjayNager','Sumit','Suhail','Shubhanshu']\n",
    "currency = ['USD','GBP','CAD','EUR','INR','YEN']"
   ]
  },
  {
   "cell_type": "code",
   "execution_count": null,
   "metadata": {},
   "outputs": [],
   "source": [
    "import random\n",
    "from random import randint"
   ]
  },
  {
   "cell_type": "code",
   "execution_count": null,
   "metadata": {},
   "outputs": [],
   "source": [
    "###Whenever you need to join a digit put->  ''.join([\"{}\".format(randint(1, 9)) for num in range(0, 6)])+   part in there"
   ]
  },
  {
   "cell_type": "code",
   "execution_count": null,
   "metadata": {},
   "outputs": [],
   "source": [
    "##BELOW IS THE CODE FOR A NUMBER IN SUBJECT AND BODY and Original Dataset generator"
   ]
  },
  {
   "cell_type": "code",
   "execution_count": null,
   "metadata": {},
   "outputs": [],
   "source": [
    "data2=[[]]"
   ]
  },
  {
   "cell_type": "code",
   "execution_count": null,
   "metadata": {},
   "outputs": [],
   "source": [
    "#final code for dataset generation from Bank to Client side\n",
    "for i in range(len(name1)):\n",
    "            for j in range(len(name2)):\n",
    "                for k in range(10):\n",
    "                    temp=numgen(6)\n",
    "                    s1=random.choice(name1)+random.choice(From1)\n",
    "                    s2=random.choice(name2)+random.choice(To2)\n",
    "                    s3=subBank(temp)\n",
    "                    s4=\"\"\n",
    "                    s5=\"\"\n",
    "                    words = s3.split()\n",
    "                    for word in words:\n",
    "                        word=word.lower()\n",
    "                        if(word=='failed'):\n",
    "                            s4=transacBank(3,temp)\n",
    "                            s5='BankFailed'\n",
    "                            break\n",
    "                        elif(word=='pending' or word=='progress'):\n",
    "                            s4=transacBank(2,temp)\n",
    "                            s5='BankProgress'\n",
    "                            break\n",
    "                        elif(word=='complete' or word=='received'):\n",
    "                            s4=transacBank(1,temp)\n",
    "                            s5='BankComplete'\n",
    "                            break\n",
    "                        elif(word=='status' or word=='details' or word=='update'):\n",
    "                            k=numgen(1)\n",
    "                            if(k<'4'):\n",
    "                                s4=transacBank(1,temp)\n",
    "                                s5='BankComplete'\n",
    "                            elif(k>'3' and k<'7'):\n",
    "                                s4=transacBank(2,temp)\n",
    "                                s5='BankProgress'\n",
    "                            elif(k>'6'):\n",
    "                                s4=transacBank(3,temp)\n",
    "                                s5='BankFailed'\n",
    "                            break\n",
    "                        elif words=='provide' or word=='request':\n",
    "                            s4=transacBank(4,temp)\n",
    "                            s5='BankRequest'\n",
    "                            break\n",
    "                    \n",
    "                    m=[s1,s2,s3,s4,s5,temp]\n",
    "                    data2.append(m)"
   ]
  },
  {
   "cell_type": "code",
   "execution_count": null,
   "metadata": {},
   "outputs": [],
   "source": [
    "#final code for dataset generation from Client to Bank side\n",
    "for i in range(len(From1)):\n",
    "            for j in range(len(To2)):\n",
    "                for k in range(11):\n",
    "                    temp=numgen(6)\n",
    "                    s1=random.choice(name1)+random.choice(To1)\n",
    "                    s2=random.choice(name2)+random.choice(From2)\n",
    "                    s3=subClient(temp)\n",
    "                    s4=\"\"\n",
    "                    s5=\"\"\n",
    "                    words = s3.split()\n",
    "                    for word in words:\n",
    "                        word=word.lower()\n",
    "                        if(word=='failed' or word=='failure'):\n",
    "                            s4=transacClient(3,temp)\n",
    "                            s5='ClientFailed'\n",
    "                            break\n",
    "                        elif(word=='pending' or word=='progress'):\n",
    "                            s4=transacClient(2,temp)\n",
    "                            s5='ClientProgress'\n",
    "                            break\n",
    "                        elif(word=='complete' or word=='received'):\n",
    "                            s4=transacClient(1,temp)\n",
    "                            s5='ClientComplete'\n",
    "                            break\n",
    "                        elif(word=='status' or word=='details' or word=='update' or word=='provide' or word=='request'):\n",
    "                            s4=transacClient(4,temp)\n",
    "                            s5='ClientStatus'\n",
    "                            break\n",
    "                    m=[s1,s2,s3,s4,s5,temp]\n",
    "                    data2.append(m)"
   ]
  },
  {
   "cell_type": "code",
   "execution_count": null,
   "metadata": {},
   "outputs": [],
   "source": [
    "df = pd.DataFrame(data2, columns = ['From', 'To','Subject','Body','Class','TransactionID'])"
   ]
  },
  {
   "cell_type": "code",
   "execution_count": null,
   "metadata": {},
   "outputs": [],
   "source": [
    "df.head(20)"
   ]
  },
  {
   "cell_type": "code",
   "execution_count": null,
   "metadata": {},
   "outputs": [],
   "source": [
    "import datetime"
   ]
  },
  {
   "cell_type": "code",
   "execution_count": null,
   "metadata": {},
   "outputs": [],
   "source": [
    "start_date = datetime.date(2018, 12, 1)\n",
    "end_date = datetime.date(2020, 5, 31)\n",
    "\n",
    "time_between_dates = end_date - start_date\n",
    "days_between_dates = time_between_dates.days\n",
    "date_column_data = [start_date + datetime.timedelta(days=random.randrange(days_between_dates)) for i in range(len(data2))]\n",
    "#print(date_column_data)"
   ]
  },
  {
   "cell_type": "code",
   "execution_count": null,
   "metadata": {},
   "outputs": [],
   "source": [
    "df['Payment Date'] = date_column_data"
   ]
  },
  {
   "cell_type": "code",
   "execution_count": null,
   "metadata": {},
   "outputs": [],
   "source": [
    "df.head(10)"
   ]
  },
  {
   "cell_type": "code",
   "execution_count": null,
   "metadata": {},
   "outputs": [],
   "source": [
    "df.drop(0,inplace=True)"
   ]
  },
  {
   "cell_type": "code",
   "execution_count": null,
   "metadata": {},
   "outputs": [],
   "source": [
    "df.reset_index(inplace=True)"
   ]
  },
  {
   "cell_type": "code",
   "execution_count": null,
   "metadata": {},
   "outputs": [],
   "source": [
    "df.head()"
   ]
  },
  {
   "cell_type": "code",
   "execution_count": null,
   "metadata": {},
   "outputs": [],
   "source": [
    "df.drop([\"index\"],axis=1,inplace=True)"
   ]
  },
  {
   "cell_type": "code",
   "execution_count": null,
   "metadata": {},
   "outputs": [],
   "source": [
    "df.shape"
   ]
  },
  {
   "cell_type": "code",
   "execution_count": null,
   "metadata": {},
   "outputs": [],
   "source": [
    "#This the DataSet we Have generated\n",
    "df.head()"
   ]
  },
  {
   "cell_type": "code",
   "execution_count": null,
   "metadata": {},
   "outputs": [],
   "source": [
    "df.to_csv(r'C:\\Users\\Siddharth\\Desktop\\temp\\emaildataset.csv', index = False)"
   ]
  },
  {
   "cell_type": "code",
   "execution_count": null,
   "metadata": {},
   "outputs": [],
   "source": []
  },
  {
   "cell_type": "code",
   "execution_count": null,
   "metadata": {},
   "outputs": [],
   "source": []
  }
 ],
 "metadata": {
  "kernelspec": {
   "display_name": "Python 3",
   "language": "python",
   "name": "python3"
  },
  "language_info": {
   "codemirror_mode": {
    "name": "ipython",
    "version": 3
   },
   "file_extension": ".py",
   "mimetype": "text/x-python",
   "name": "python",
   "nbconvert_exporter": "python",
   "pygments_lexer": "ipython3",
   "version": "3.6.4"
  }
 },
 "nbformat": 4,
 "nbformat_minor": 2
}
