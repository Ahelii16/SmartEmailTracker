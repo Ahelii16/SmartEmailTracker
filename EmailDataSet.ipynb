{
 "cells": [
  {
   "cell_type": "code",
   "execution_count": 1,
   "metadata": {},
   "outputs": [],
   "source": [
    "#Email generation code"
   ]
  },
  {
   "cell_type": "code",
   "execution_count": 39,
   "metadata": {},
   "outputs": [],
   "source": [
    "import pandas as pd\n",
    "import numpy as np\n",
    "#import import_ipynb"
   ]
  },
  {
   "cell_type": "code",
   "execution_count": 40,
   "metadata": {},
   "outputs": [
    {
     "ename": "ModuleNotFoundError",
     "evalue": "No module named 'msgbody'",
     "output_type": "error",
     "traceback": [
      "\u001b[1;31m---------------------------------------------------------------------------\u001b[0m",
      "\u001b[1;31mModuleNotFoundError\u001b[0m                       Traceback (most recent call last)",
      "\u001b[1;32m<ipython-input-40-6eb3323cd4d0>\u001b[0m in \u001b[0;36m<module>\u001b[1;34m()\u001b[0m\n\u001b[1;32m----> 1\u001b[1;33m \u001b[1;32mimport\u001b[0m \u001b[0mmsgbody\u001b[0m\u001b[1;33m\u001b[0m\u001b[0m\n\u001b[0m\u001b[0;32m      2\u001b[0m \u001b[1;32mfrom\u001b[0m \u001b[0mmsgbody\u001b[0m \u001b[1;32mimport\u001b[0m \u001b[0mnumgen\u001b[0m\u001b[1;33m,\u001b[0m \u001b[0mtransacBank\u001b[0m\u001b[1;33m,\u001b[0m\u001b[0mtransacClient\u001b[0m \u001b[1;33m,\u001b[0m \u001b[0msubClient\u001b[0m\u001b[1;33m,\u001b[0m \u001b[0msubBank\u001b[0m\u001b[1;33m\u001b[0m\u001b[0m\n",
      "\u001b[1;31mModuleNotFoundError\u001b[0m: No module named 'msgbody'"
     ]
    }
   ],
   "source": [
    "import msgbody\n",
    "from msgbody import numgen, transacBank,transacClient , subClient, subBank"
   ]
  },
  {
   "cell_type": "code",
   "execution_count": 36,
   "metadata": {},
   "outputs": [],
   "source": [
    "From=['@JPMorgan.com','@DeutscheBank.com','@BNYMellon.com','@HSBC.com','@SBI.com','@HDFC.com','@DESHAW.com']\n",
    "\n",
    "#From2=['@CitiBankNewYork.com','@CitiBankLondon.com','@CitiBankPune.com','@CitiBankSingapore.com','@CitiBankHongKong.com']\n",
    "\n",
    "#To1=['@JPMorgan.com','@DEUTSCHEBANK.com','@BNYMellon.com','@HSBC.com','@SBI.com','@HDFC.com','@DESHAW.com']\n",
    "\n",
    "To=['@CitiBankNewYork.com','@CitiBankLondon.com','@CitiBankPune.com','@CitiBankSingapore.com','@CitiBankHongKong.com']\n",
    "\n",
    "Subject2=['Update on payment request', 'Payment Status', 'Urgent: need transaction details','Transaction Complete','Transaction is in progress','Payment Failed','Payment is in progress','Waiting for amount pending','Transaction Failed','Payment Received']\n",
    "\n",
    "name1=['Phillip','Mike','Jason','Adam','Morgan','Spike','Stacy','Dave','David','Bella','Angella','Stefeny']\n",
    "name2=['Shai','Dipesh','Anthony','Isabella','Shanguisi','liFang','AjayNager','Sumit','Suhail','Shubhanshu']\n",
    "currency = ['USD','GBP','CAD','EUR','INR','YEN']"
   ]
  },
  {
   "cell_type": "code",
   "execution_count": 37,
   "metadata": {},
   "outputs": [],
   "source": [
    "import random\n",
    "from random import randint"
   ]
  },
  {
   "cell_type": "code",
   "execution_count": 38,
   "metadata": {},
   "outputs": [],
   "source": [
    "###Whenever you need to join a digit put->  ''.join([\"{}\".format(randint(1, 9)) for num in range(0, 6)])+   part in there"
   ]
  },
  {
   "cell_type": "code",
   "execution_count": 25,
   "metadata": {},
   "outputs": [],
   "source": [
    "##BELOW IS THE CODE FOR A NUMBER IN SUBJECT AND BODY and Original Dataset generator"
   ]
  },
  {
   "cell_type": "code",
   "execution_count": 26,
   "metadata": {},
   "outputs": [],
   "source": [
    "data2=[[]]"
   ]
  },
  {
   "cell_type": "code",
   "execution_count": 27,
   "metadata": {},
   "outputs": [
    {
     "ename": "NameError",
     "evalue": "name 'numgen' is not defined",
     "output_type": "error",
     "traceback": [
      "\u001b[1;31m---------------------------------------------------------------------------\u001b[0m",
      "\u001b[1;31mNameError\u001b[0m                                 Traceback (most recent call last)",
      "\u001b[1;32m<ipython-input-27-ff486dff7d90>\u001b[0m in \u001b[0;36m<module>\u001b[1;34m()\u001b[0m\n\u001b[0;32m      3\u001b[0m             \u001b[1;32mfor\u001b[0m \u001b[0mj\u001b[0m \u001b[1;32min\u001b[0m \u001b[0mrange\u001b[0m\u001b[1;33m(\u001b[0m\u001b[0mlen\u001b[0m\u001b[1;33m(\u001b[0m\u001b[0mname2\u001b[0m\u001b[1;33m)\u001b[0m\u001b[1;33m)\u001b[0m\u001b[1;33m:\u001b[0m\u001b[1;33m\u001b[0m\u001b[0m\n\u001b[0;32m      4\u001b[0m                 \u001b[1;32mfor\u001b[0m \u001b[0mk\u001b[0m \u001b[1;32min\u001b[0m \u001b[0mrange\u001b[0m\u001b[1;33m(\u001b[0m\u001b[1;36m10\u001b[0m\u001b[1;33m)\u001b[0m\u001b[1;33m:\u001b[0m\u001b[1;33m\u001b[0m\u001b[0m\n\u001b[1;32m----> 5\u001b[1;33m                     \u001b[0mtemp\u001b[0m\u001b[1;33m=\u001b[0m\u001b[0mnumgen\u001b[0m\u001b[1;33m(\u001b[0m\u001b[1;36m6\u001b[0m\u001b[1;33m)\u001b[0m\u001b[1;33m\u001b[0m\u001b[0m\n\u001b[0m\u001b[0;32m      6\u001b[0m                     \u001b[0ms1\u001b[0m\u001b[1;33m=\u001b[0m\u001b[0mrandom\u001b[0m\u001b[1;33m.\u001b[0m\u001b[0mchoice\u001b[0m\u001b[1;33m(\u001b[0m\u001b[0mname1\u001b[0m\u001b[1;33m)\u001b[0m\u001b[1;33m+\u001b[0m\u001b[0mrandom\u001b[0m\u001b[1;33m.\u001b[0m\u001b[0mchoice\u001b[0m\u001b[1;33m(\u001b[0m\u001b[0mFrom1\u001b[0m\u001b[1;33m)\u001b[0m\u001b[1;33m\u001b[0m\u001b[0m\n\u001b[0;32m      7\u001b[0m                     \u001b[0ms2\u001b[0m\u001b[1;33m=\u001b[0m\u001b[0mrandom\u001b[0m\u001b[1;33m.\u001b[0m\u001b[0mchoice\u001b[0m\u001b[1;33m(\u001b[0m\u001b[0mname2\u001b[0m\u001b[1;33m)\u001b[0m\u001b[1;33m+\u001b[0m\u001b[0mrandom\u001b[0m\u001b[1;33m.\u001b[0m\u001b[0mchoice\u001b[0m\u001b[1;33m(\u001b[0m\u001b[0mTo2\u001b[0m\u001b[1;33m)\u001b[0m\u001b[1;33m\u001b[0m\u001b[0m\n",
      "\u001b[1;31mNameError\u001b[0m: name 'numgen' is not defined"
     ]
    }
   ],
   "source": [
    "#final code for dataset generation from Bank to Client side\n",
    "for i in range(len(name1)):\n",
    "            for j in range(len(name2)):\n",
    "                for k in range(10):\n",
    "                    temp=numgen(6)\n",
    "                    s1=random.choice(name1)+random.choice(From)\n",
    "                    s2=random.choice(name2)+random.choice(To)\n",
    "                    s3=subBank(temp)\n",
    "                    s4=\"\"\n",
    "                    s5=\"\"\n",
    "                    words = s3.split()\n",
    "                    for word in words:\n",
    "                        word=word.lower()\n",
    "                        if(word=='failed'):\n",
    "                            s4=transacBank(3,temp)\n",
    "                            s5='BankFailed'\n",
    "                            break\n",
    "                        elif(word=='pending' or word=='progress'):\n",
    "                            s4=transacBank(2,temp)\n",
    "                            s5='BankProgress'\n",
    "                            break\n",
    "                        elif(word=='complete' or word=='received'):\n",
    "                            s4=transacBank(1,temp)\n",
    "                            s5='BankComplete'\n",
    "                            break\n",
    "                        elif(word=='status' or word=='details' or word=='update'):\n",
    "                            k=numgen(1)\n",
    "                            if(k<'4'):\n",
    "                                s4=transacBank(1,temp)\n",
    "                                s5='BankComplete'\n",
    "                            elif(k>'3' and k<'7'):\n",
    "                                s4=transacBank(2,temp)\n",
    "                                s5='BankProgress'\n",
    "                            elif(k>'6'):\n",
    "                                s4=transacBank(3,temp)\n",
    "                                s5='BankFailed'\n",
    "                            break\n",
    "                        elif words=='provide' or word=='request':\n",
    "                            s4=transacBank(4,temp)\n",
    "                            s5='BankRequest'\n",
    "                            break\n",
    "                    \n",
    "                    m=[s1,s2,s3,s4,s5,temp]\n",
    "                    data2.append(m)"
   ]
  },
  {
   "cell_type": "code",
   "execution_count": 28,
   "metadata": {},
   "outputs": [
    {
     "ename": "NameError",
     "evalue": "name 'numgen' is not defined",
     "output_type": "error",
     "traceback": [
      "\u001b[1;31m---------------------------------------------------------------------------\u001b[0m",
      "\u001b[1;31mNameError\u001b[0m                                 Traceback (most recent call last)",
      "\u001b[1;32m<ipython-input-28-523cf8c2d28f>\u001b[0m in \u001b[0;36m<module>\u001b[1;34m()\u001b[0m\n\u001b[0;32m      3\u001b[0m             \u001b[1;32mfor\u001b[0m \u001b[0mj\u001b[0m \u001b[1;32min\u001b[0m \u001b[0mrange\u001b[0m\u001b[1;33m(\u001b[0m\u001b[0mlen\u001b[0m\u001b[1;33m(\u001b[0m\u001b[0mTo2\u001b[0m\u001b[1;33m)\u001b[0m\u001b[1;33m)\u001b[0m\u001b[1;33m:\u001b[0m\u001b[1;33m\u001b[0m\u001b[0m\n\u001b[0;32m      4\u001b[0m                 \u001b[1;32mfor\u001b[0m \u001b[0mk\u001b[0m \u001b[1;32min\u001b[0m \u001b[0mrange\u001b[0m\u001b[1;33m(\u001b[0m\u001b[1;36m11\u001b[0m\u001b[1;33m)\u001b[0m\u001b[1;33m:\u001b[0m\u001b[1;33m\u001b[0m\u001b[0m\n\u001b[1;32m----> 5\u001b[1;33m                     \u001b[0mtemp\u001b[0m\u001b[1;33m=\u001b[0m\u001b[0mnumgen\u001b[0m\u001b[1;33m(\u001b[0m\u001b[1;36m6\u001b[0m\u001b[1;33m)\u001b[0m\u001b[1;33m\u001b[0m\u001b[0m\n\u001b[0m\u001b[0;32m      6\u001b[0m                     \u001b[0ms1\u001b[0m\u001b[1;33m=\u001b[0m\u001b[0mrandom\u001b[0m\u001b[1;33m.\u001b[0m\u001b[0mchoice\u001b[0m\u001b[1;33m(\u001b[0m\u001b[0mname1\u001b[0m\u001b[1;33m)\u001b[0m\u001b[1;33m+\u001b[0m\u001b[0mrandom\u001b[0m\u001b[1;33m.\u001b[0m\u001b[0mchoice\u001b[0m\u001b[1;33m(\u001b[0m\u001b[0mTo2\u001b[0m\u001b[1;33m)\u001b[0m\u001b[1;33m\u001b[0m\u001b[0m\n\u001b[0;32m      7\u001b[0m                     \u001b[0ms2\u001b[0m\u001b[1;33m=\u001b[0m\u001b[0mrandom\u001b[0m\u001b[1;33m.\u001b[0m\u001b[0mchoice\u001b[0m\u001b[1;33m(\u001b[0m\u001b[0mname2\u001b[0m\u001b[1;33m)\u001b[0m\u001b[1;33m+\u001b[0m\u001b[0mrandom\u001b[0m\u001b[1;33m.\u001b[0m\u001b[0mchoice\u001b[0m\u001b[1;33m(\u001b[0m\u001b[0mFrom1\u001b[0m\u001b[1;33m)\u001b[0m\u001b[1;33m\u001b[0m\u001b[0m\n",
      "\u001b[1;31mNameError\u001b[0m: name 'numgen' is not defined"
     ]
    }
   ],
   "source": [
    "#final code for dataset generation from Client to Bank side\n",
    "for i in range(len(From1)):\n",
    "            for j in range(len(To2)):\n",
    "                for k in range(11):\n",
    "                    temp=numgen(6)\n",
    "                    s1=random.choice(name1)+random.choice(To)\n",
    "                    s2=random.choice(name2)+random.choice(From)\n",
    "                    s3=subClient(temp)\n",
    "                    s4=\"\"\n",
    "                    s5=\"\"\n",
    "                    words = s3.split()\n",
    "                    for word in words:\n",
    "                        word=word.lower()\n",
    "                        if(word=='failed' or word=='failure'):\n",
    "                            s4=transacClient(3,temp)\n",
    "                            s5='ClientFailed'\n",
    "                            break\n",
    "                        elif(word=='pending' or word=='progress'):\n",
    "                            s4=transacClient(2,temp)\n",
    "                            s5='ClientProgress'\n",
    "                            break\n",
    "                        elif(word=='complete' or word=='received'):\n",
    "                            s4=transacClient(1,temp)\n",
    "                            s5='ClientComplete'\n",
    "                            break\n",
    "                        elif(word=='status' or word=='details' or word=='update' or word=='provide' or word=='request'):\n",
    "                            s4=transacClient(4,temp)\n",
    "                            s5='ClientStatus'\n",
    "                            break\n",
    "                    m=[s1,s2,s3,s4,s5,temp]\n",
    "                    data2.append(m)"
   ]
  },
  {
   "cell_type": "code",
   "execution_count": 29,
   "metadata": {},
   "outputs": [
    {
     "ename": "AssertionError",
     "evalue": "6 columns passed, passed data had 0 columns",
     "output_type": "error",
     "traceback": [
      "\u001b[1;31m---------------------------------------------------------------------------\u001b[0m",
      "\u001b[1;31mAssertionError\u001b[0m                            Traceback (most recent call last)",
      "\u001b[1;32m<ipython-input-29-04cf09c7ef9b>\u001b[0m in \u001b[0;36m<module>\u001b[1;34m()\u001b[0m\n\u001b[1;32m----> 1\u001b[1;33m \u001b[0mdf\u001b[0m \u001b[1;33m=\u001b[0m \u001b[0mpd\u001b[0m\u001b[1;33m.\u001b[0m\u001b[0mDataFrame\u001b[0m\u001b[1;33m(\u001b[0m\u001b[0mdata2\u001b[0m\u001b[1;33m,\u001b[0m \u001b[0mcolumns\u001b[0m \u001b[1;33m=\u001b[0m \u001b[1;33m[\u001b[0m\u001b[1;34m'From'\u001b[0m\u001b[1;33m,\u001b[0m \u001b[1;34m'To'\u001b[0m\u001b[1;33m,\u001b[0m\u001b[1;34m'Subject'\u001b[0m\u001b[1;33m,\u001b[0m\u001b[1;34m'Body'\u001b[0m\u001b[1;33m,\u001b[0m\u001b[1;34m'Class'\u001b[0m\u001b[1;33m,\u001b[0m\u001b[1;34m'TransactionID'\u001b[0m\u001b[1;33m]\u001b[0m\u001b[1;33m)\u001b[0m\u001b[1;33m\u001b[0m\u001b[0m\n\u001b[0m",
      "\u001b[1;32m~\\Anaconda3\\lib\\site-packages\\pandas\\core\\frame.py\u001b[0m in \u001b[0;36m__init__\u001b[1;34m(self, data, index, columns, dtype, copy)\u001b[0m\n\u001b[0;32m    367\u001b[0m                     \u001b[1;32mif\u001b[0m \u001b[0mis_named_tuple\u001b[0m\u001b[1;33m(\u001b[0m\u001b[0mdata\u001b[0m\u001b[1;33m[\u001b[0m\u001b[1;36m0\u001b[0m\u001b[1;33m]\u001b[0m\u001b[1;33m)\u001b[0m \u001b[1;32mand\u001b[0m \u001b[0mcolumns\u001b[0m \u001b[1;32mis\u001b[0m \u001b[1;32mNone\u001b[0m\u001b[1;33m:\u001b[0m\u001b[1;33m\u001b[0m\u001b[0m\n\u001b[0;32m    368\u001b[0m                         \u001b[0mcolumns\u001b[0m \u001b[1;33m=\u001b[0m \u001b[0mdata\u001b[0m\u001b[1;33m[\u001b[0m\u001b[1;36m0\u001b[0m\u001b[1;33m]\u001b[0m\u001b[1;33m.\u001b[0m\u001b[0m_fields\u001b[0m\u001b[1;33m\u001b[0m\u001b[0m\n\u001b[1;32m--> 369\u001b[1;33m                     \u001b[0marrays\u001b[0m\u001b[1;33m,\u001b[0m \u001b[0mcolumns\u001b[0m \u001b[1;33m=\u001b[0m \u001b[0m_to_arrays\u001b[0m\u001b[1;33m(\u001b[0m\u001b[0mdata\u001b[0m\u001b[1;33m,\u001b[0m \u001b[0mcolumns\u001b[0m\u001b[1;33m,\u001b[0m \u001b[0mdtype\u001b[0m\u001b[1;33m=\u001b[0m\u001b[0mdtype\u001b[0m\u001b[1;33m)\u001b[0m\u001b[1;33m\u001b[0m\u001b[0m\n\u001b[0m\u001b[0;32m    370\u001b[0m                     \u001b[0mcolumns\u001b[0m \u001b[1;33m=\u001b[0m \u001b[0m_ensure_index\u001b[0m\u001b[1;33m(\u001b[0m\u001b[0mcolumns\u001b[0m\u001b[1;33m)\u001b[0m\u001b[1;33m\u001b[0m\u001b[0m\n\u001b[0;32m    371\u001b[0m \u001b[1;33m\u001b[0m\u001b[0m\n",
      "\u001b[1;32m~\\Anaconda3\\lib\\site-packages\\pandas\\core\\frame.py\u001b[0m in \u001b[0;36m_to_arrays\u001b[1;34m(data, columns, coerce_float, dtype)\u001b[0m\n\u001b[0;32m   6282\u001b[0m     \u001b[1;32mif\u001b[0m \u001b[0misinstance\u001b[0m\u001b[1;33m(\u001b[0m\u001b[0mdata\u001b[0m\u001b[1;33m[\u001b[0m\u001b[1;36m0\u001b[0m\u001b[1;33m]\u001b[0m\u001b[1;33m,\u001b[0m \u001b[1;33m(\u001b[0m\u001b[0mlist\u001b[0m\u001b[1;33m,\u001b[0m \u001b[0mtuple\u001b[0m\u001b[1;33m)\u001b[0m\u001b[1;33m)\u001b[0m\u001b[1;33m:\u001b[0m\u001b[1;33m\u001b[0m\u001b[0m\n\u001b[0;32m   6283\u001b[0m         return _list_to_arrays(data, columns, coerce_float=coerce_float,\n\u001b[1;32m-> 6284\u001b[1;33m                                dtype=dtype)\n\u001b[0m\u001b[0;32m   6285\u001b[0m     \u001b[1;32melif\u001b[0m \u001b[0misinstance\u001b[0m\u001b[1;33m(\u001b[0m\u001b[0mdata\u001b[0m\u001b[1;33m[\u001b[0m\u001b[1;36m0\u001b[0m\u001b[1;33m]\u001b[0m\u001b[1;33m,\u001b[0m \u001b[0mcollections\u001b[0m\u001b[1;33m.\u001b[0m\u001b[0mMapping\u001b[0m\u001b[1;33m)\u001b[0m\u001b[1;33m:\u001b[0m\u001b[1;33m\u001b[0m\u001b[0m\n\u001b[0;32m   6286\u001b[0m         return _list_of_dict_to_arrays(data, columns,\n",
      "\u001b[1;32m~\\Anaconda3\\lib\\site-packages\\pandas\\core\\frame.py\u001b[0m in \u001b[0;36m_list_to_arrays\u001b[1;34m(data, columns, coerce_float, dtype)\u001b[0m\n\u001b[0;32m   6361\u001b[0m         \u001b[0mcontent\u001b[0m \u001b[1;33m=\u001b[0m \u001b[0mlist\u001b[0m\u001b[1;33m(\u001b[0m\u001b[0mlib\u001b[0m\u001b[1;33m.\u001b[0m\u001b[0mto_object_array\u001b[0m\u001b[1;33m(\u001b[0m\u001b[0mdata\u001b[0m\u001b[1;33m)\u001b[0m\u001b[1;33m.\u001b[0m\u001b[0mT\u001b[0m\u001b[1;33m)\u001b[0m\u001b[1;33m\u001b[0m\u001b[0m\n\u001b[0;32m   6362\u001b[0m     return _convert_object_array(content, columns, dtype=dtype,\n\u001b[1;32m-> 6363\u001b[1;33m                                  coerce_float=coerce_float)\n\u001b[0m\u001b[0;32m   6364\u001b[0m \u001b[1;33m\u001b[0m\u001b[0m\n\u001b[0;32m   6365\u001b[0m \u001b[1;33m\u001b[0m\u001b[0m\n",
      "\u001b[1;32m~\\Anaconda3\\lib\\site-packages\\pandas\\core\\frame.py\u001b[0m in \u001b[0;36m_convert_object_array\u001b[1;34m(content, columns, coerce_float, dtype)\u001b[0m\n\u001b[0;32m   6418\u001b[0m             \u001b[1;31m# caller's responsibility to check for this...\u001b[0m\u001b[1;33m\u001b[0m\u001b[1;33m\u001b[0m\u001b[0m\n\u001b[0;32m   6419\u001b[0m             raise AssertionError('%d columns passed, passed data had %s '\n\u001b[1;32m-> 6420\u001b[1;33m                                  'columns' % (len(columns), len(content)))\n\u001b[0m\u001b[0;32m   6421\u001b[0m \u001b[1;33m\u001b[0m\u001b[0m\n\u001b[0;32m   6422\u001b[0m     \u001b[1;31m# provide soft conversion of object dtypes\u001b[0m\u001b[1;33m\u001b[0m\u001b[1;33m\u001b[0m\u001b[0m\n",
      "\u001b[1;31mAssertionError\u001b[0m: 6 columns passed, passed data had 0 columns"
     ]
    }
   ],
   "source": [
    "df = pd.DataFrame(data2, columns = ['From', 'To','Subject','Body','Class','TransactionID'])"
   ]
  },
  {
   "cell_type": "code",
   "execution_count": 30,
   "metadata": {},
   "outputs": [
    {
     "ename": "NameError",
     "evalue": "name 'df' is not defined",
     "output_type": "error",
     "traceback": [
      "\u001b[1;31m---------------------------------------------------------------------------\u001b[0m",
      "\u001b[1;31mNameError\u001b[0m                                 Traceback (most recent call last)",
      "\u001b[1;32m<ipython-input-30-e9cb96795106>\u001b[0m in \u001b[0;36m<module>\u001b[1;34m()\u001b[0m\n\u001b[1;32m----> 1\u001b[1;33m \u001b[0mdf\u001b[0m\u001b[1;33m.\u001b[0m\u001b[0mhead\u001b[0m\u001b[1;33m(\u001b[0m\u001b[1;36m20\u001b[0m\u001b[1;33m)\u001b[0m\u001b[1;33m\u001b[0m\u001b[0m\n\u001b[0m",
      "\u001b[1;31mNameError\u001b[0m: name 'df' is not defined"
     ]
    }
   ],
   "source": [
    "df.head(20)"
   ]
  },
  {
   "cell_type": "code",
   "execution_count": null,
   "metadata": {},
   "outputs": [],
   "source": [
    "import datetime"
   ]
  },
  {
   "cell_type": "code",
   "execution_count": 3,
   "metadata": {},
   "outputs": [
    {
     "ename": "NameError",
     "evalue": "name 'datetime' is not defined",
     "output_type": "error",
     "traceback": [
      "\u001b[0;31m---------------------------------------------------------------------------\u001b[0m",
      "\u001b[0;31mNameError\u001b[0m                                 Traceback (most recent call last)",
      "\u001b[0;32m<ipython-input-3-81f9a6d63a77>\u001b[0m in \u001b[0;36m<module>\u001b[0;34m\u001b[0m\n\u001b[0;32m----> 1\u001b[0;31m \u001b[0mstart_date\u001b[0m \u001b[0;34m=\u001b[0m \u001b[0mdatetime\u001b[0m\u001b[0;34m.\u001b[0m\u001b[0mdate\u001b[0m\u001b[0;34m(\u001b[0m\u001b[0;36m2018\u001b[0m\u001b[0;34m,\u001b[0m \u001b[0;36m12\u001b[0m\u001b[0;34m,\u001b[0m \u001b[0;36m1\u001b[0m\u001b[0;34m)\u001b[0m\u001b[0;34m\u001b[0m\u001b[0;34m\u001b[0m\u001b[0m\n\u001b[0m\u001b[1;32m      2\u001b[0m \u001b[0mend_date\u001b[0m \u001b[0;34m=\u001b[0m \u001b[0mdatetime\u001b[0m\u001b[0;34m.\u001b[0m\u001b[0mdate\u001b[0m\u001b[0;34m(\u001b[0m\u001b[0;36m2020\u001b[0m\u001b[0;34m,\u001b[0m \u001b[0;36m5\u001b[0m\u001b[0;34m,\u001b[0m \u001b[0;36m31\u001b[0m\u001b[0;34m)\u001b[0m\u001b[0;34m\u001b[0m\u001b[0;34m\u001b[0m\u001b[0m\n\u001b[1;32m      3\u001b[0m \u001b[0;34m\u001b[0m\u001b[0m\n\u001b[1;32m      4\u001b[0m \u001b[0mtime_between_dates\u001b[0m \u001b[0;34m=\u001b[0m \u001b[0mend_date\u001b[0m \u001b[0;34m-\u001b[0m \u001b[0mstart_date\u001b[0m\u001b[0;34m\u001b[0m\u001b[0;34m\u001b[0m\u001b[0m\n\u001b[1;32m      5\u001b[0m \u001b[0mdays_between_dates\u001b[0m \u001b[0;34m=\u001b[0m \u001b[0mtime_between_dates\u001b[0m\u001b[0;34m.\u001b[0m\u001b[0mdays\u001b[0m\u001b[0;34m\u001b[0m\u001b[0;34m\u001b[0m\u001b[0m\n",
      "\u001b[0;31mNameError\u001b[0m: name 'datetime' is not defined"
     ]
    }
   ],
   "source": [
    "start_date = datetime.date(2018, 12, 1)\n",
    "end_date = datetime.date(2020, 5, 31)\n",
    "\n",
    "time_between_dates = end_date - start_date\n",
    "days_between_dates = time_between_dates.days\n",
    "date_column_data = [start_date + datetime.timedelta(days=random.randrange(days_between_dates)) for i in range(len(data2))]\n",
    "#print(date_column_data)"
   ]
  },
  {
   "cell_type": "code",
   "execution_count": 4,
   "metadata": {},
   "outputs": [
    {
     "ename": "NameError",
     "evalue": "name 'date_column_data' is not defined",
     "output_type": "error",
     "traceback": [
      "\u001b[0;31m---------------------------------------------------------------------------\u001b[0m",
      "\u001b[0;31mNameError\u001b[0m                                 Traceback (most recent call last)",
      "\u001b[0;32m<ipython-input-4-fda211fa7e1c>\u001b[0m in \u001b[0;36m<module>\u001b[0;34m\u001b[0m\n\u001b[0;32m----> 1\u001b[0;31m \u001b[0mdf\u001b[0m\u001b[0;34m[\u001b[0m\u001b[0;34m'Payment Date'\u001b[0m\u001b[0;34m]\u001b[0m \u001b[0;34m=\u001b[0m \u001b[0mdate_column_data\u001b[0m\u001b[0;34m\u001b[0m\u001b[0;34m\u001b[0m\u001b[0m\n\u001b[0m",
      "\u001b[0;31mNameError\u001b[0m: name 'date_column_data' is not defined"
     ]
    }
   ],
   "source": [
    "df['Payment Date'] = date_column_data"
   ]
  },
  {
   "cell_type": "code",
   "execution_count": 16,
   "metadata": {},
   "outputs": [
    {
     "data": {
      "text/html": [
       "<div>\n",
       "<style scoped>\n",
       "    .dataframe tbody tr th:only-of-type {\n",
       "        vertical-align: middle;\n",
       "    }\n",
       "\n",
       "    .dataframe tbody tr th {\n",
       "        vertical-align: top;\n",
       "    }\n",
       "\n",
       "    .dataframe thead th {\n",
       "        text-align: right;\n",
       "    }\n",
       "</style>\n",
       "<table border=\"1\" class=\"dataframe\">\n",
       "  <thead>\n",
       "    <tr style=\"text-align: right;\">\n",
       "      <th></th>\n",
       "      <th>From</th>\n",
       "      <th>To</th>\n",
       "      <th>Subject</th>\n",
       "      <th>Body</th>\n",
       "      <th>Class</th>\n",
       "      <th>TransactionID</th>\n",
       "      <th>Payment Date</th>\n",
       "    </tr>\n",
       "  </thead>\n",
       "  <tbody>\n",
       "    <tr>\n",
       "      <td>0</td>\n",
       "      <td>None</td>\n",
       "      <td>None</td>\n",
       "      <td>None</td>\n",
       "      <td>None</td>\n",
       "      <td>None</td>\n",
       "      <td>None</td>\n",
       "      <td>2019-01-07</td>\n",
       "    </tr>\n",
       "    <tr>\n",
       "      <td>1</td>\n",
       "      <td>Bella@DESHAW.com</td>\n",
       "      <td>AjayNager@CitiBankPune.com</td>\n",
       "      <td>Payment Failed for 782376</td>\n",
       "      <td>Regret to inform that transaction GBP 761135co...</td>\n",
       "      <td>BankFailed</td>\n",
       "      <td>782376</td>\n",
       "      <td>2019-05-14</td>\n",
       "    </tr>\n",
       "    <tr>\n",
       "      <td>2</td>\n",
       "      <td>Mike@DEUTSCHEBANK.com</td>\n",
       "      <td>liFang@CitiBankHingKong.com</td>\n",
       "      <td>Transaction is in progress for 428375</td>\n",
       "      <td>Fund transfer for Account No. 428375 has stopp...</td>\n",
       "      <td>BankProgress</td>\n",
       "      <td>428375</td>\n",
       "      <td>2020-05-11</td>\n",
       "    </tr>\n",
       "    <tr>\n",
       "      <td>3</td>\n",
       "      <td>Phillip@HDFC.com</td>\n",
       "      <td>Sumit@CitiBankLondon.com</td>\n",
       "      <td>Current Update on Account No. 331537</td>\n",
       "      <td>Due to incorrect details filled, USD 937458 ha...</td>\n",
       "      <td>BankFailed</td>\n",
       "      <td>331537</td>\n",
       "      <td>2019-03-26</td>\n",
       "    </tr>\n",
       "    <tr>\n",
       "      <td>4</td>\n",
       "      <td>Jason@DESHAW.com</td>\n",
       "      <td>Isabella@CitiBankNewYork.com</td>\n",
       "      <td>Payment Status for 387225</td>\n",
       "      <td>Due to lack of funds, cheque no. 4819199844312...</td>\n",
       "      <td>BankFailed</td>\n",
       "      <td>387225</td>\n",
       "      <td>2020-02-12</td>\n",
       "    </tr>\n",
       "    <tr>\n",
       "      <td>5</td>\n",
       "      <td>Angella@HDFC.com</td>\n",
       "      <td>liFang@CitiBankNewYork.com</td>\n",
       "      <td>Urgent payment of pending amountUSD553541requi...</td>\n",
       "      <td>We are sorry but your fund transfer 553541 is ...</td>\n",
       "      <td>BankProgress</td>\n",
       "      <td>553541</td>\n",
       "      <td>2019-08-17</td>\n",
       "    </tr>\n",
       "    <tr>\n",
       "      <td>6</td>\n",
       "      <td>Mike@DESHAW.com</td>\n",
       "      <td>Suhail@CitiBankLondon.com</td>\n",
       "      <td>Payment Failed for 492153</td>\n",
       "      <td>Due to incorrect details filled, EUR 945963 ha...</td>\n",
       "      <td>BankFailed</td>\n",
       "      <td>492153</td>\n",
       "      <td>2020-01-28</td>\n",
       "    </tr>\n",
       "    <tr>\n",
       "      <td>7</td>\n",
       "      <td>Dave@SBI.com</td>\n",
       "      <td>Dipesh@CitiBankHingKong.com</td>\n",
       "      <td>Acc 243458 Update</td>\n",
       "      <td>Due to lack of funds, cheque no. 8919779943892...</td>\n",
       "      <td>BankFailed</td>\n",
       "      <td>243458</td>\n",
       "      <td>2020-02-03</td>\n",
       "    </tr>\n",
       "    <tr>\n",
       "      <td>8</td>\n",
       "      <td>Spike@DESHAW.com</td>\n",
       "      <td>Shubhanshu@CitiBankLondon.com</td>\n",
       "      <td>Provide the details regarding transaction: 148152</td>\n",
       "      <td>Greetings! This is to inform you that your tra...</td>\n",
       "      <td>BankComplete</td>\n",
       "      <td>148152</td>\n",
       "      <td>2019-02-27</td>\n",
       "    </tr>\n",
       "    <tr>\n",
       "      <td>9</td>\n",
       "      <td>Phillip@HDFC.com</td>\n",
       "      <td>Sumit@CitiBankHingKong.com</td>\n",
       "      <td>Urgent payment of pending amountEUR324534requi...</td>\n",
       "      <td>Fund transfer for Account No. 324534 has stopp...</td>\n",
       "      <td>BankProgress</td>\n",
       "      <td>324534</td>\n",
       "      <td>2019-12-14</td>\n",
       "    </tr>\n",
       "  </tbody>\n",
       "</table>\n",
       "</div>"
      ],
      "text/plain": [
       "                    From                             To  \\\n",
       "0                   None                           None   \n",
       "1       Bella@DESHAW.com     AjayNager@CitiBankPune.com   \n",
       "2  Mike@DEUTSCHEBANK.com    liFang@CitiBankHingKong.com   \n",
       "3       Phillip@HDFC.com       Sumit@CitiBankLondon.com   \n",
       "4       Jason@DESHAW.com   Isabella@CitiBankNewYork.com   \n",
       "5       Angella@HDFC.com     liFang@CitiBankNewYork.com   \n",
       "6        Mike@DESHAW.com      Suhail@CitiBankLondon.com   \n",
       "7           Dave@SBI.com    Dipesh@CitiBankHingKong.com   \n",
       "8       Spike@DESHAW.com  Shubhanshu@CitiBankLondon.com   \n",
       "9       Phillip@HDFC.com     Sumit@CitiBankHingKong.com   \n",
       "\n",
       "                                             Subject  \\\n",
       "0                                               None   \n",
       "1                          Payment Failed for 782376   \n",
       "2              Transaction is in progress for 428375   \n",
       "3               Current Update on Account No. 331537   \n",
       "4                          Payment Status for 387225   \n",
       "5  Urgent payment of pending amountUSD553541requi...   \n",
       "6                          Payment Failed for 492153   \n",
       "7                                  Acc 243458 Update   \n",
       "8  Provide the details regarding transaction: 148152   \n",
       "9  Urgent payment of pending amountEUR324534requi...   \n",
       "\n",
       "                                                Body         Class  \\\n",
       "0                                               None          None   \n",
       "1  Regret to inform that transaction GBP 761135co...    BankFailed   \n",
       "2  Fund transfer for Account No. 428375 has stopp...  BankProgress   \n",
       "3  Due to incorrect details filled, USD 937458 ha...    BankFailed   \n",
       "4  Due to lack of funds, cheque no. 4819199844312...    BankFailed   \n",
       "5  We are sorry but your fund transfer 553541 is ...  BankProgress   \n",
       "6  Due to incorrect details filled, EUR 945963 ha...    BankFailed   \n",
       "7  Due to lack of funds, cheque no. 8919779943892...    BankFailed   \n",
       "8  Greetings! This is to inform you that your tra...  BankComplete   \n",
       "9  Fund transfer for Account No. 324534 has stopp...  BankProgress   \n",
       "\n",
       "  TransactionID Payment Date  \n",
       "0          None   2019-01-07  \n",
       "1        782376   2019-05-14  \n",
       "2        428375   2020-05-11  \n",
       "3        331537   2019-03-26  \n",
       "4        387225   2020-02-12  \n",
       "5        553541   2019-08-17  \n",
       "6        492153   2020-01-28  \n",
       "7        243458   2020-02-03  \n",
       "8        148152   2019-02-27  \n",
       "9        324534   2019-12-14  "
      ]
     },
     "execution_count": 16,
     "metadata": {},
     "output_type": "execute_result"
    }
   ],
   "source": [
    "df.head(10)"
   ]
  },
  {
   "cell_type": "code",
   "execution_count": 17,
   "metadata": {},
   "outputs": [],
   "source": [
    "df.drop(0,inplace=True)"
   ]
  },
  {
   "cell_type": "code",
   "execution_count": 18,
   "metadata": {},
   "outputs": [],
   "source": [
    "df.reset_index(inplace=True)"
   ]
  },
  {
   "cell_type": "code",
   "execution_count": 19,
   "metadata": {},
   "outputs": [
    {
     "data": {
      "text/html": [
       "<div>\n",
       "<style scoped>\n",
       "    .dataframe tbody tr th:only-of-type {\n",
       "        vertical-align: middle;\n",
       "    }\n",
       "\n",
       "    .dataframe tbody tr th {\n",
       "        vertical-align: top;\n",
       "    }\n",
       "\n",
       "    .dataframe thead th {\n",
       "        text-align: right;\n",
       "    }\n",
       "</style>\n",
       "<table border=\"1\" class=\"dataframe\">\n",
       "  <thead>\n",
       "    <tr style=\"text-align: right;\">\n",
       "      <th></th>\n",
       "      <th>index</th>\n",
       "      <th>From</th>\n",
       "      <th>To</th>\n",
       "      <th>Subject</th>\n",
       "      <th>Body</th>\n",
       "      <th>Class</th>\n",
       "      <th>TransactionID</th>\n",
       "      <th>Payment Date</th>\n",
       "    </tr>\n",
       "  </thead>\n",
       "  <tbody>\n",
       "    <tr>\n",
       "      <td>0</td>\n",
       "      <td>1</td>\n",
       "      <td>Bella@DESHAW.com</td>\n",
       "      <td>AjayNager@CitiBankPune.com</td>\n",
       "      <td>Payment Failed for 782376</td>\n",
       "      <td>Regret to inform that transaction GBP 761135co...</td>\n",
       "      <td>BankFailed</td>\n",
       "      <td>782376</td>\n",
       "      <td>2019-05-14</td>\n",
       "    </tr>\n",
       "    <tr>\n",
       "      <td>1</td>\n",
       "      <td>2</td>\n",
       "      <td>Mike@DEUTSCHEBANK.com</td>\n",
       "      <td>liFang@CitiBankHingKong.com</td>\n",
       "      <td>Transaction is in progress for 428375</td>\n",
       "      <td>Fund transfer for Account No. 428375 has stopp...</td>\n",
       "      <td>BankProgress</td>\n",
       "      <td>428375</td>\n",
       "      <td>2020-05-11</td>\n",
       "    </tr>\n",
       "    <tr>\n",
       "      <td>2</td>\n",
       "      <td>3</td>\n",
       "      <td>Phillip@HDFC.com</td>\n",
       "      <td>Sumit@CitiBankLondon.com</td>\n",
       "      <td>Current Update on Account No. 331537</td>\n",
       "      <td>Due to incorrect details filled, USD 937458 ha...</td>\n",
       "      <td>BankFailed</td>\n",
       "      <td>331537</td>\n",
       "      <td>2019-03-26</td>\n",
       "    </tr>\n",
       "    <tr>\n",
       "      <td>3</td>\n",
       "      <td>4</td>\n",
       "      <td>Jason@DESHAW.com</td>\n",
       "      <td>Isabella@CitiBankNewYork.com</td>\n",
       "      <td>Payment Status for 387225</td>\n",
       "      <td>Due to lack of funds, cheque no. 4819199844312...</td>\n",
       "      <td>BankFailed</td>\n",
       "      <td>387225</td>\n",
       "      <td>2020-02-12</td>\n",
       "    </tr>\n",
       "    <tr>\n",
       "      <td>4</td>\n",
       "      <td>5</td>\n",
       "      <td>Angella@HDFC.com</td>\n",
       "      <td>liFang@CitiBankNewYork.com</td>\n",
       "      <td>Urgent payment of pending amountUSD553541requi...</td>\n",
       "      <td>We are sorry but your fund transfer 553541 is ...</td>\n",
       "      <td>BankProgress</td>\n",
       "      <td>553541</td>\n",
       "      <td>2019-08-17</td>\n",
       "    </tr>\n",
       "  </tbody>\n",
       "</table>\n",
       "</div>"
      ],
      "text/plain": [
       "   index                   From                            To  \\\n",
       "0      1       Bella@DESHAW.com    AjayNager@CitiBankPune.com   \n",
       "1      2  Mike@DEUTSCHEBANK.com   liFang@CitiBankHingKong.com   \n",
       "2      3       Phillip@HDFC.com      Sumit@CitiBankLondon.com   \n",
       "3      4       Jason@DESHAW.com  Isabella@CitiBankNewYork.com   \n",
       "4      5       Angella@HDFC.com    liFang@CitiBankNewYork.com   \n",
       "\n",
       "                                             Subject  \\\n",
       "0                          Payment Failed for 782376   \n",
       "1              Transaction is in progress for 428375   \n",
       "2               Current Update on Account No. 331537   \n",
       "3                          Payment Status for 387225   \n",
       "4  Urgent payment of pending amountUSD553541requi...   \n",
       "\n",
       "                                                Body         Class  \\\n",
       "0  Regret to inform that transaction GBP 761135co...    BankFailed   \n",
       "1  Fund transfer for Account No. 428375 has stopp...  BankProgress   \n",
       "2  Due to incorrect details filled, USD 937458 ha...    BankFailed   \n",
       "3  Due to lack of funds, cheque no. 4819199844312...    BankFailed   \n",
       "4  We are sorry but your fund transfer 553541 is ...  BankProgress   \n",
       "\n",
       "  TransactionID Payment Date  \n",
       "0        782376   2019-05-14  \n",
       "1        428375   2020-05-11  \n",
       "2        331537   2019-03-26  \n",
       "3        387225   2020-02-12  \n",
       "4        553541   2019-08-17  "
      ]
     },
     "execution_count": 19,
     "metadata": {},
     "output_type": "execute_result"
    }
   ],
   "source": [
    "df.head()"
   ]
  },
  {
   "cell_type": "code",
   "execution_count": 20,
   "metadata": {},
   "outputs": [],
   "source": [
    "df.drop([\"index\"],axis=1,inplace=True)"
   ]
  },
  {
   "cell_type": "code",
   "execution_count": 21,
   "metadata": {},
   "outputs": [
    {
     "data": {
      "text/plain": [
       "(1585, 7)"
      ]
     },
     "execution_count": 21,
     "metadata": {},
     "output_type": "execute_result"
    }
   ],
   "source": [
    "df.shape"
   ]
  },
  {
   "cell_type": "code",
   "execution_count": 22,
   "metadata": {},
   "outputs": [
    {
     "data": {
      "text/html": [
       "<div>\n",
       "<style scoped>\n",
       "    .dataframe tbody tr th:only-of-type {\n",
       "        vertical-align: middle;\n",
       "    }\n",
       "\n",
       "    .dataframe tbody tr th {\n",
       "        vertical-align: top;\n",
       "    }\n",
       "\n",
       "    .dataframe thead th {\n",
       "        text-align: right;\n",
       "    }\n",
       "</style>\n",
       "<table border=\"1\" class=\"dataframe\">\n",
       "  <thead>\n",
       "    <tr style=\"text-align: right;\">\n",
       "      <th></th>\n",
       "      <th>From</th>\n",
       "      <th>To</th>\n",
       "      <th>Subject</th>\n",
       "      <th>Body</th>\n",
       "      <th>Class</th>\n",
       "      <th>TransactionID</th>\n",
       "      <th>Payment Date</th>\n",
       "    </tr>\n",
       "  </thead>\n",
       "  <tbody>\n",
       "    <tr>\n",
       "      <td>0</td>\n",
       "      <td>Bella@DESHAW.com</td>\n",
       "      <td>AjayNager@CitiBankPune.com</td>\n",
       "      <td>Payment Failed for 782376</td>\n",
       "      <td>Regret to inform that transaction GBP 761135co...</td>\n",
       "      <td>BankFailed</td>\n",
       "      <td>782376</td>\n",
       "      <td>2019-05-14</td>\n",
       "    </tr>\n",
       "    <tr>\n",
       "      <td>1</td>\n",
       "      <td>Mike@DEUTSCHEBANK.com</td>\n",
       "      <td>liFang@CitiBankHingKong.com</td>\n",
       "      <td>Transaction is in progress for 428375</td>\n",
       "      <td>Fund transfer for Account No. 428375 has stopp...</td>\n",
       "      <td>BankProgress</td>\n",
       "      <td>428375</td>\n",
       "      <td>2020-05-11</td>\n",
       "    </tr>\n",
       "    <tr>\n",
       "      <td>2</td>\n",
       "      <td>Phillip@HDFC.com</td>\n",
       "      <td>Sumit@CitiBankLondon.com</td>\n",
       "      <td>Current Update on Account No. 331537</td>\n",
       "      <td>Due to incorrect details filled, USD 937458 ha...</td>\n",
       "      <td>BankFailed</td>\n",
       "      <td>331537</td>\n",
       "      <td>2019-03-26</td>\n",
       "    </tr>\n",
       "    <tr>\n",
       "      <td>3</td>\n",
       "      <td>Jason@DESHAW.com</td>\n",
       "      <td>Isabella@CitiBankNewYork.com</td>\n",
       "      <td>Payment Status for 387225</td>\n",
       "      <td>Due to lack of funds, cheque no. 4819199844312...</td>\n",
       "      <td>BankFailed</td>\n",
       "      <td>387225</td>\n",
       "      <td>2020-02-12</td>\n",
       "    </tr>\n",
       "    <tr>\n",
       "      <td>4</td>\n",
       "      <td>Angella@HDFC.com</td>\n",
       "      <td>liFang@CitiBankNewYork.com</td>\n",
       "      <td>Urgent payment of pending amountUSD553541requi...</td>\n",
       "      <td>We are sorry but your fund transfer 553541 is ...</td>\n",
       "      <td>BankProgress</td>\n",
       "      <td>553541</td>\n",
       "      <td>2019-08-17</td>\n",
       "    </tr>\n",
       "  </tbody>\n",
       "</table>\n",
       "</div>"
      ],
      "text/plain": [
       "                    From                            To  \\\n",
       "0       Bella@DESHAW.com    AjayNager@CitiBankPune.com   \n",
       "1  Mike@DEUTSCHEBANK.com   liFang@CitiBankHingKong.com   \n",
       "2       Phillip@HDFC.com      Sumit@CitiBankLondon.com   \n",
       "3       Jason@DESHAW.com  Isabella@CitiBankNewYork.com   \n",
       "4       Angella@HDFC.com    liFang@CitiBankNewYork.com   \n",
       "\n",
       "                                             Subject  \\\n",
       "0                          Payment Failed for 782376   \n",
       "1              Transaction is in progress for 428375   \n",
       "2               Current Update on Account No. 331537   \n",
       "3                          Payment Status for 387225   \n",
       "4  Urgent payment of pending amountUSD553541requi...   \n",
       "\n",
       "                                                Body         Class  \\\n",
       "0  Regret to inform that transaction GBP 761135co...    BankFailed   \n",
       "1  Fund transfer for Account No. 428375 has stopp...  BankProgress   \n",
       "2  Due to incorrect details filled, USD 937458 ha...    BankFailed   \n",
       "3  Due to lack of funds, cheque no. 4819199844312...    BankFailed   \n",
       "4  We are sorry but your fund transfer 553541 is ...  BankProgress   \n",
       "\n",
       "  TransactionID Payment Date  \n",
       "0        782376   2019-05-14  \n",
       "1        428375   2020-05-11  \n",
       "2        331537   2019-03-26  \n",
       "3        387225   2020-02-12  \n",
       "4        553541   2019-08-17  "
      ]
     },
     "execution_count": 22,
     "metadata": {},
     "output_type": "execute_result"
    }
   ],
   "source": [
    "#This the DataSet we Have generated\n",
    "df.head()"
   ]
  },
  {
   "cell_type": "code",
   "execution_count": 23,
   "metadata": {},
   "outputs": [],
   "source": [
    "df.to_csv(r'C:\\Users\\Siddharth\\Desktop\\temp\\emaildataset.csv', index = False)"
   ]
  },
  {
   "cell_type": "code",
   "execution_count": null,
   "metadata": {},
   "outputs": [],
   "source": []
  },
  {
   "cell_type": "code",
   "execution_count": null,
   "metadata": {},
   "outputs": [],
   "source": []
  }
 ],
 "metadata": {
  "kernelspec": {
   "display_name": "Python 3",
   "language": "python",
   "name": "python3"
  },
  "language_info": {
   "codemirror_mode": {
    "name": "ipython",
    "version": 3
   },
   "file_extension": ".py",
   "mimetype": "text/x-python",
   "name": "python",
   "nbconvert_exporter": "python",
   "pygments_lexer": "ipython3",
   "version": "3.6.4"
  }
 },
 "nbformat": 4,
 "nbformat_minor": 2
}
