{
 "cells": [
  {
   "cell_type": "code",
   "execution_count": 1,
   "metadata": {},
   "outputs": [],
   "source": [
    "#Email generation code"
   ]
  },
  {
   "cell_type": "code",
   "execution_count": 1,
   "metadata": {},
   "outputs": [],
   "source": [
    "import pandas as pd\n",
    "import random\n",
    "import datetime\n",
    "import import_ipynb"
   ]
  },
  {
   "cell_type": "code",
   "execution_count": 2,
   "metadata": {},
   "outputs": [
    {
     "name": "stdout",
     "output_type": "stream",
     "text": [
      "importing Jupyter notebook from msgbody.ipynb\n"
     ]
    }
   ],
   "source": [
    "import msgbody\n",
    "from msgbody import numgen, subjectGenerator, bodyGenerator"
   ]
  },
  {
   "cell_type": "code",
   "execution_count": 3,
   "metadata": {},
   "outputs": [],
   "source": [
    "fromClient=['@JPMorgan.com','@DEUTSCHEBANK.com','@BNYMellon.com','@HSBC.com','@SBI.com','@HDFC.com','@DESHAW.com']\n",
    "\n",
    "toCiti=['@CitiBankNewYork.com','@CitiBankLondon.com','@CitiBankPune.com','@CitiBankSingapore.com','@CitiBankHongKong.com']\n",
    "\n",
    "clientName=['Phillip','Mike','Jason','Adam','Morgan','Spike','Stacy','Dave','David','Bella','Angela','Stefanie','Archie','Jacob','Zachary','Yasmin']\n",
    "\n",
    "citiName=['Shai','Dipesh','Anthony','Isabella','Shaniece','Liam','Rishabh','Sumit','Suhail','Shubhanshu','Rohan','Neha','Patrick','Rudra','Elena']"
   ]
  },
  {
   "cell_type": "code",
   "execution_count": 17,
   "metadata": {},
   "outputs": [],
   "source": [
    "##BELOW IS THE CODE FOR A NUMBER IN SUBJECT AND BODY and Original Dataset generator"
   ]
  },
  {
   "cell_type": "code",
   "execution_count": 4,
   "metadata": {},
   "outputs": [],
   "source": [
    "dataset = []\n",
    "classes = [ 'Complete', 'Failed', 'Pending', 'Request', 'Processing', 'General']"
   ]
  },
  {
   "cell_type": "code",
   "execution_count": 13,
   "metadata": {},
   "outputs": [],
   "source": [
    "for i in range(10000):\n",
    "    client_email = random.choice(clientName) + random.choice(fromClient)\n",
    "    citi_email = random.choice(citiName) + random.choice(toCiti)\n",
    "    ID = numgen(6)\n",
    "    class_ = random.choice(classes)\n",
    "    subject = subjectGenerator(class_,str(ID))\n",
    "    body = bodyGenerator(class_,str(ID))\n",
    "    row = [client_email, citi_email, subject, body, class_, ID]\n",
    "    dataset.append(row)"
   ]
  },
  {
   "cell_type": "code",
   "execution_count": 14,
   "metadata": {},
   "outputs": [],
   "source": [
    "df = pd.DataFrame(dataset, columns = ['From', 'To','Subject','Body','Class','TransactionID'],index = [i+1 for i in range(len(dataset))])"
   ]
  },
  {
   "cell_type": "code",
   "execution_count": 15,
   "metadata": {},
   "outputs": [],
   "source": [
    "start_date = datetime.date(2018, 12, 1)\n",
    "end_date = datetime.date(2020, 5, 31)\n",
    "\n",
    "time_between_dates = end_date - start_date\n",
    "days_between_dates = time_between_dates.days\n",
    "date_column_data = [start_date + datetime.timedelta(days=random.randrange(days_between_dates)) for i in range(len(dataset))]"
   ]
  },
  {
   "cell_type": "code",
   "execution_count": 16,
   "metadata": {},
   "outputs": [],
   "source": [
    "df['Payment Date'] = date_column_data"
   ]
  },
  {
   "cell_type": "code",
   "execution_count": 17,
   "metadata": {},
   "outputs": [
    {
     "data": {
      "text/plain": [
       "(20000, 7)"
      ]
     },
     "execution_count": 17,
     "metadata": {},
     "output_type": "execute_result"
    }
   ],
   "source": [
    "df.shape"
   ]
  },
  {
   "cell_type": "code",
   "execution_count": 18,
   "metadata": {},
   "outputs": [
    {
     "data": {
      "text/html": [
       "<div>\n",
       "<style scoped>\n",
       "    .dataframe tbody tr th:only-of-type {\n",
       "        vertical-align: middle;\n",
       "    }\n",
       "\n",
       "    .dataframe tbody tr th {\n",
       "        vertical-align: top;\n",
       "    }\n",
       "\n",
       "    .dataframe thead th {\n",
       "        text-align: right;\n",
       "    }\n",
       "</style>\n",
       "<table border=\"1\" class=\"dataframe\">\n",
       "  <thead>\n",
       "    <tr style=\"text-align: right;\">\n",
       "      <th></th>\n",
       "      <th>From</th>\n",
       "      <th>To</th>\n",
       "      <th>Subject</th>\n",
       "      <th>Body</th>\n",
       "      <th>Class</th>\n",
       "      <th>TransactionID</th>\n",
       "      <th>Payment Date</th>\n",
       "    </tr>\n",
       "  </thead>\n",
       "  <tbody>\n",
       "    <tr>\n",
       "      <th>1</th>\n",
       "      <td>Spike@HDFC.com</td>\n",
       "      <td>Rudra@CitiBankLondon.com</td>\n",
       "      <td>Why has my transaction 146599 stopped?</td>\n",
       "      <td>This is to notify you that my transaction 1465...</td>\n",
       "      <td>Failed</td>\n",
       "      <td>146599</td>\n",
       "      <td>2019-06-02</td>\n",
       "    </tr>\n",
       "    <tr>\n",
       "      <th>2</th>\n",
       "      <td>Jacob@BNYMellon.com</td>\n",
       "      <td>Elena@CitiBankSingapore.com</td>\n",
       "      <td>Request to send details of transaction 879091</td>\n",
       "      <td>I request you to kindly send the status of my ...</td>\n",
       "      <td>Request</td>\n",
       "      <td>879091</td>\n",
       "      <td>2019-08-17</td>\n",
       "    </tr>\n",
       "    <tr>\n",
       "      <th>3</th>\n",
       "      <td>Angela@BNYMellon.com</td>\n",
       "      <td>Liam@CitiBankPune.com</td>\n",
       "      <td>The pending amount for transaction 121476 will...</td>\n",
       "      <td>Hey, sincere apologies for transferring a frac...</td>\n",
       "      <td>Pending</td>\n",
       "      <td>121476</td>\n",
       "      <td>2020-03-09</td>\n",
       "    </tr>\n",
       "    <tr>\n",
       "      <th>4</th>\n",
       "      <td>Dave@HSBC.com</td>\n",
       "      <td>Shubhanshu@CitiBankSingapore.com</td>\n",
       "      <td>Fulfilled transaction having ID : 009628</td>\n",
       "      <td>To whom it may concern, I have successfully re...</td>\n",
       "      <td>Complete</td>\n",
       "      <td>009628</td>\n",
       "      <td>2019-07-10</td>\n",
       "    </tr>\n",
       "    <tr>\n",
       "      <th>5</th>\n",
       "      <td>Archie@BNYMellon.com</td>\n",
       "      <td>Suhail@CitiBankNewYork.com</td>\n",
       "      <td>Send steps to activate online banking</td>\n",
       "      <td>I would like to know the instructions to be fo...</td>\n",
       "      <td>General</td>\n",
       "      <td>417125</td>\n",
       "      <td>2019-03-13</td>\n",
       "    </tr>\n",
       "  </tbody>\n",
       "</table>\n",
       "</div>"
      ],
      "text/plain": [
       "                   From                                To  \\\n",
       "1        Spike@HDFC.com          Rudra@CitiBankLondon.com   \n",
       "2   Jacob@BNYMellon.com       Elena@CitiBankSingapore.com   \n",
       "3  Angela@BNYMellon.com             Liam@CitiBankPune.com   \n",
       "4         Dave@HSBC.com  Shubhanshu@CitiBankSingapore.com   \n",
       "5  Archie@BNYMellon.com        Suhail@CitiBankNewYork.com   \n",
       "\n",
       "                                             Subject  \\\n",
       "1             Why has my transaction 146599 stopped?   \n",
       "2      Request to send details of transaction 879091   \n",
       "3  The pending amount for transaction 121476 will...   \n",
       "4           Fulfilled transaction having ID : 009628   \n",
       "5              Send steps to activate online banking   \n",
       "\n",
       "                                                Body     Class TransactionID  \\\n",
       "1  This is to notify you that my transaction 1465...    Failed        146599   \n",
       "2  I request you to kindly send the status of my ...   Request        879091   \n",
       "3  Hey, sincere apologies for transferring a frac...   Pending        121476   \n",
       "4  To whom it may concern, I have successfully re...  Complete        009628   \n",
       "5  I would like to know the instructions to be fo...   General        417125   \n",
       "\n",
       "  Payment Date  \n",
       "1   2019-06-02  \n",
       "2   2019-08-17  \n",
       "3   2020-03-09  \n",
       "4   2019-07-10  \n",
       "5   2019-03-13  "
      ]
     },
     "execution_count": 18,
     "metadata": {},
     "output_type": "execute_result"
    }
   ],
   "source": [
    "#This the DataSet we Have generated\n",
    "df.head()"
   ]
  },
  {
   "cell_type": "code",
   "execution_count": 19,
   "metadata": {},
   "outputs": [
    {
     "data": {
      "text/plain": [
       "(18779, 7)"
      ]
     },
     "execution_count": 19,
     "metadata": {},
     "output_type": "execute_result"
    }
   ],
   "source": [
    "df.drop_duplicates(subset=['Subject','Body'],keep='first',inplace = True)\n",
    "df.shape"
   ]
  },
  {
   "cell_type": "code",
   "execution_count": 20,
   "metadata": {},
   "outputs": [],
   "source": [
    "df.to_csv(r'C:\\Users\\OINDREELA\\Desktop\\temp\\emaildataset.csv', index = False)"
   ]
  },
  {
   "cell_type": "code",
   "execution_count": null,
   "metadata": {},
   "outputs": [],
   "source": []
  }
 ],
 "metadata": {
  "kernelspec": {
   "display_name": "Python 3",
   "language": "python",
   "name": "python3"
  },
  "language_info": {
   "codemirror_mode": {
    "name": "ipython",
    "version": 3
   },
   "file_extension": ".py",
   "mimetype": "text/x-python",
   "name": "python",
   "nbconvert_exporter": "python",
   "pygments_lexer": "ipython3",
   "version": "3.7.7"
  }
 },
 "nbformat": 4,
 "nbformat_minor": 2
}
