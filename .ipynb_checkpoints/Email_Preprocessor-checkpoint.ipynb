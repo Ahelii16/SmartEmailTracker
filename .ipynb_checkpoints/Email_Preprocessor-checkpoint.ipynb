{
 "cells": [
  {
   "cell_type": "code",
   "execution_count": 1,
   "metadata": {},
   "outputs": [],
   "source": [
    "#1. How to process csv files or custom datasets(not keras dataset)\n",
    "#2. How to use transfer learning\n",
    "#3. Build an LSTM model\n",
    "#4. Stacked LSTM\n",
    "#5. Predictions (i/p: sentence  o/p: most suitable class)"
   ]
  },
  {
   "cell_type": "code",
   "execution_count": 2,
   "metadata": {},
   "outputs": [],
   "source": [
    "import os, sys, email,re\n",
    "import numpy as np \n",
    "import pandas as pd\n",
    "import matplotlib.pyplot as plt\n",
    "%matplotlib inline\n",
    "import seaborn as sns; sns.set_style('whitegrid')\n",
    "\n",
    "# NLP\n",
    "from nltk.tokenize.regexp import RegexpTokenizer\n",
    "#from subprocess import check_output\n",
    "\n",
    "#from sklearn.feature_extraction.text import TfidfVectorizer,CountVectorizer\n",
    "#from sklearn.cluster import KMeans\n",
    "#from sklearn.decomposition import PCA\n",
    "#from sklearn.discriminant_analysis import LinearDiscriminantAnalysis as LDA\n",
    "#from sklearn.decomposition import LatentDirichletAllocation\n",
    "\n",
    "import gensim\n",
    "from gensim import corpora\n",
    "from nltk.corpus import stopwords \n",
    "from nltk.stem.wordnet import WordNetLemmatizer\n",
    "import string\n",
    "from nltk.stem.porter import PorterStemmer"
   ]
  },
  {
   "cell_type": "markdown",
   "metadata": {},
   "source": [
    "## Step 1: Load dataset"
   ]
  },
  {
   "cell_type": "code",
   "execution_count": 110,
   "metadata": {},
   "outputs": [
    {
     "name": "stdout",
     "output_type": "stream",
     "text": [
      "(1585, 7)\n"
     ]
    },
    {
     "data": {
      "text/html": [
       "<div>\n",
       "<style scoped>\n",
       "    .dataframe tbody tr th:only-of-type {\n",
       "        vertical-align: middle;\n",
       "    }\n",
       "\n",
       "    .dataframe tbody tr th {\n",
       "        vertical-align: top;\n",
       "    }\n",
       "\n",
       "    .dataframe thead th {\n",
       "        text-align: right;\n",
       "    }\n",
       "</style>\n",
       "<table border=\"1\" class=\"dataframe\">\n",
       "  <thead>\n",
       "    <tr style=\"text-align: right;\">\n",
       "      <th></th>\n",
       "      <th>From</th>\n",
       "      <th>To</th>\n",
       "      <th>Subject</th>\n",
       "      <th>Body</th>\n",
       "      <th>Class</th>\n",
       "      <th>TransactionID</th>\n",
       "      <th>Payment Date</th>\n",
       "    </tr>\n",
       "  </thead>\n",
       "  <tbody>\n",
       "    <tr>\n",
       "      <th>0</th>\n",
       "      <td>Dave@HSBC.com</td>\n",
       "      <td>liFang@CitiBankNewYork.com</td>\n",
       "      <td>Payment Status for 996352</td>\n",
       "      <td>Regret to inform that transaction EUR 921984 c...</td>\n",
       "      <td>BankFailed</td>\n",
       "      <td>996352</td>\n",
       "      <td>2019-10-21</td>\n",
       "    </tr>\n",
       "    <tr>\n",
       "      <th>1</th>\n",
       "      <td>Angella@SBI.com</td>\n",
       "      <td>Suhail@CitiBankSingapore.com</td>\n",
       "      <td>Transaction is in progress for 945324</td>\n",
       "      <td>Fund transfer for Account No. 945324 has stopp...</td>\n",
       "      <td>BankProgress</td>\n",
       "      <td>945324</td>\n",
       "      <td>2019-04-13</td>\n",
       "    </tr>\n",
       "    <tr>\n",
       "      <th>2</th>\n",
       "      <td>Phillip@SBI.com</td>\n",
       "      <td>AjayNager@CitiBankPune.com</td>\n",
       "      <td>Current Update on Account No. 236195</td>\n",
       "      <td>Sorry, due to high volume of requests, your tr...</td>\n",
       "      <td>BankProgress</td>\n",
       "      <td>236195</td>\n",
       "      <td>2018-12-06</td>\n",
       "    </tr>\n",
       "    <tr>\n",
       "      <th>3</th>\n",
       "      <td>Mike@HDFC.com</td>\n",
       "      <td>Shubhanshu@CitiBankSingapore.com</td>\n",
       "      <td>Transaction Complete for 565267</td>\n",
       "      <td>Full payment for amount EUR 215164 has been su...</td>\n",
       "      <td>BankComplete</td>\n",
       "      <td>565267</td>\n",
       "      <td>2020-01-09</td>\n",
       "    </tr>\n",
       "    <tr>\n",
       "      <th>4</th>\n",
       "      <td>Stacy@JPMorgan.com</td>\n",
       "      <td>AjayNager@CitiBankLondon.com</td>\n",
       "      <td>Transaction Failed for 275122</td>\n",
       "      <td>Due to lack of funds, cheque no. 9389748142575...</td>\n",
       "      <td>BankFailed</td>\n",
       "      <td>275122</td>\n",
       "      <td>2019-06-22</td>\n",
       "    </tr>\n",
       "  </tbody>\n",
       "</table>\n",
       "</div>"
      ],
      "text/plain": [
       "                 From                                To  \\\n",
       "0       Dave@HSBC.com        liFang@CitiBankNewYork.com   \n",
       "1     Angella@SBI.com      Suhail@CitiBankSingapore.com   \n",
       "2     Phillip@SBI.com        AjayNager@CitiBankPune.com   \n",
       "3       Mike@HDFC.com  Shubhanshu@CitiBankSingapore.com   \n",
       "4  Stacy@JPMorgan.com      AjayNager@CitiBankLondon.com   \n",
       "\n",
       "                                 Subject  \\\n",
       "0              Payment Status for 996352   \n",
       "1  Transaction is in progress for 945324   \n",
       "2   Current Update on Account No. 236195   \n",
       "3        Transaction Complete for 565267   \n",
       "4          Transaction Failed for 275122   \n",
       "\n",
       "                                                Body         Class  \\\n",
       "0  Regret to inform that transaction EUR 921984 c...    BankFailed   \n",
       "1  Fund transfer for Account No. 945324 has stopp...  BankProgress   \n",
       "2  Sorry, due to high volume of requests, your tr...  BankProgress   \n",
       "3  Full payment for amount EUR 215164 has been su...  BankComplete   \n",
       "4  Due to lack of funds, cheque no. 9389748142575...    BankFailed   \n",
       "\n",
       "   TransactionID Payment Date  \n",
       "0         996352   2019-10-21  \n",
       "1         945324   2019-04-13  \n",
       "2         236195   2018-12-06  \n",
       "3         565267   2020-01-09  \n",
       "4         275122   2019-06-22  "
      ]
     },
     "execution_count": 110,
     "metadata": {},
     "output_type": "execute_result"
    }
   ],
   "source": [
    "# emails_df = pd.read_csv('./emails.csv', nrows=20000)\n",
    "df = pd.read_csv('./emaildataset.csv')\n",
    "print(df.shape)\n",
    "df.head()"
   ]
  },
  {
   "cell_type": "code",
   "execution_count": 111,
   "metadata": {},
   "outputs": [],
   "source": [
    "from sklearn.model_selection import train_test_split\n",
    "train, test = train_test_split(df, test_size=0.2)"
   ]
  },
  {
   "cell_type": "code",
   "execution_count": 112,
   "metadata": {},
   "outputs": [
    {
     "data": {
      "text/plain": [
       "(1268, 7)"
      ]
     },
     "execution_count": 112,
     "metadata": {},
     "output_type": "execute_result"
    }
   ],
   "source": [
    "train.shape"
   ]
  },
  {
   "cell_type": "code",
   "execution_count": 113,
   "metadata": {},
   "outputs": [
    {
     "data": {
      "text/plain": [
       "array(['BankComplete', 'BankRequest', 'BankProgress', 'BankFailed',\n",
       "       'ClientStatus', 'ClientProgress', 'ClientComplete', 'ClientFailed'],\n",
       "      dtype=object)"
      ]
     },
     "execution_count": 113,
     "metadata": {},
     "output_type": "execute_result"
    }
   ],
   "source": [
    "# df = df.reindex(columns=columns_titles, inplace=True)\n",
    "train.Class.unique()"
   ]
  },
  {
   "cell_type": "code",
   "execution_count": 114,
   "metadata": {},
   "outputs": [
    {
     "data": {
      "text/html": [
       "<div>\n",
       "<style scoped>\n",
       "    .dataframe tbody tr th:only-of-type {\n",
       "        vertical-align: middle;\n",
       "    }\n",
       "\n",
       "    .dataframe tbody tr th {\n",
       "        vertical-align: top;\n",
       "    }\n",
       "\n",
       "    .dataframe thead th {\n",
       "        text-align: right;\n",
       "    }\n",
       "</style>\n",
       "<table border=\"1\" class=\"dataframe\">\n",
       "  <thead>\n",
       "    <tr style=\"text-align: right;\">\n",
       "      <th></th>\n",
       "      <th>From</th>\n",
       "      <th>To</th>\n",
       "      <th>Subject</th>\n",
       "      <th>Body</th>\n",
       "      <th>Class</th>\n",
       "      <th>TransactionID</th>\n",
       "      <th>Payment Date</th>\n",
       "    </tr>\n",
       "  </thead>\n",
       "  <tbody>\n",
       "    <tr>\n",
       "      <th>827</th>\n",
       "      <td>Stacy@DESHAW.com</td>\n",
       "      <td>Shubhanshu@CitiBankPune.com</td>\n",
       "      <td>Transaction is in progress for 362541</td>\n",
       "      <td>Sorry, due to high volume of requests, your tr...</td>\n",
       "      <td>BankProgress</td>\n",
       "      <td>362541</td>\n",
       "      <td>2019-08-02</td>\n",
       "    </tr>\n",
       "    <tr>\n",
       "      <th>255</th>\n",
       "      <td>Phillip@DEUTSCHEBANK.com</td>\n",
       "      <td>Isabella@CitiBankLondon.com</td>\n",
       "      <td>Transaction Failed for 352769</td>\n",
       "      <td>Due to unknown technical errors, your transact...</td>\n",
       "      <td>BankFailed</td>\n",
       "      <td>352769</td>\n",
       "      <td>2019-08-04</td>\n",
       "    </tr>\n",
       "    <tr>\n",
       "      <th>725</th>\n",
       "      <td>Angella@HDFC.com</td>\n",
       "      <td>Dipesh@CitiBankSingapore.com</td>\n",
       "      <td>Current Update on Account No. 176335</td>\n",
       "      <td>Fund transfer for Account No. 176335 has stopp...</td>\n",
       "      <td>BankProgress</td>\n",
       "      <td>176335</td>\n",
       "      <td>2020-02-12</td>\n",
       "    </tr>\n",
       "    <tr>\n",
       "      <th>1381</th>\n",
       "      <td>Jason@BNYMellon.com</td>\n",
       "      <td>Shubhanshu@CitiBankHingKong.com</td>\n",
       "      <td>Update on payment request for 894336</td>\n",
       "      <td>Kindly reply to me at the earliest with the la...</td>\n",
       "      <td>ClientStatus</td>\n",
       "      <td>894336</td>\n",
       "      <td>2020-02-07</td>\n",
       "    </tr>\n",
       "    <tr>\n",
       "      <th>587</th>\n",
       "      <td>Morgan@DESHAW.com</td>\n",
       "      <td>Shanguisi@CitiBankHingKong.com</td>\n",
       "      <td>Request have been recieved for T-ID: 393165</td>\n",
       "      <td>Request you to resend details of 393165 as soo...</td>\n",
       "      <td>BankRequest</td>\n",
       "      <td>393165</td>\n",
       "      <td>2019-06-17</td>\n",
       "    </tr>\n",
       "  </tbody>\n",
       "</table>\n",
       "</div>"
      ],
      "text/plain": [
       "                          From                               To  \\\n",
       "827           Stacy@DESHAW.com      Shubhanshu@CitiBankPune.com   \n",
       "255   Phillip@DEUTSCHEBANK.com      Isabella@CitiBankLondon.com   \n",
       "725           Angella@HDFC.com     Dipesh@CitiBankSingapore.com   \n",
       "1381       Jason@BNYMellon.com  Shubhanshu@CitiBankHingKong.com   \n",
       "587          Morgan@DESHAW.com   Shanguisi@CitiBankHingKong.com   \n",
       "\n",
       "                                          Subject  \\\n",
       "827         Transaction is in progress for 362541   \n",
       "255                 Transaction Failed for 352769   \n",
       "725          Current Update on Account No. 176335   \n",
       "1381         Update on payment request for 894336   \n",
       "587   Request have been recieved for T-ID: 393165   \n",
       "\n",
       "                                                   Body         Class  \\\n",
       "827   Sorry, due to high volume of requests, your tr...  BankProgress   \n",
       "255   Due to unknown technical errors, your transact...    BankFailed   \n",
       "725   Fund transfer for Account No. 176335 has stopp...  BankProgress   \n",
       "1381  Kindly reply to me at the earliest with the la...  ClientStatus   \n",
       "587   Request you to resend details of 393165 as soo...   BankRequest   \n",
       "\n",
       "      TransactionID Payment Date  \n",
       "827          362541   2019-08-02  \n",
       "255          352769   2019-08-04  \n",
       "725          176335   2020-02-12  \n",
       "1381         894336   2020-02-07  \n",
       "587          393165   2019-06-17  "
      ]
     },
     "execution_count": 114,
     "metadata": {},
     "output_type": "execute_result"
    }
   ],
   "source": [
    "test.head()"
   ]
  },
  {
   "cell_type": "code",
   "execution_count": 115,
   "metadata": {},
   "outputs": [],
   "source": [
    "# import preprocessing from sklearn\n",
    "from sklearn.preprocessing import LabelEncoder\n",
    "from sklearn.preprocessing import OneHotEncoder "
   ]
  },
  {
   "cell_type": "code",
   "execution_count": 116,
   "metadata": {},
   "outputs": [
    {
     "name": "stderr",
     "output_type": "stream",
     "text": [
      "/home/aheli/anaconda3/lib/python3.7/site-packages/ipykernel_launcher.py:4: SettingWithCopyWarning: \n",
      "A value is trying to be set on a copy of a slice from a DataFrame.\n",
      "Try using .loc[row_indexer,col_indexer] = value instead\n",
      "\n",
      "See the caveats in the documentation: https://pandas.pydata.org/pandas-docs/stable/user_guide/indexing.html#returning-a-view-versus-a-copy\n",
      "  after removing the cwd from sys.path.\n",
      "/home/aheli/anaconda3/lib/python3.7/site-packages/ipykernel_launcher.py:5: SettingWithCopyWarning: \n",
      "A value is trying to be set on a copy of a slice from a DataFrame.\n",
      "Try using .loc[row_indexer,col_indexer] = value instead\n",
      "\n",
      "See the caveats in the documentation: https://pandas.pydata.org/pandas-docs/stable/user_guide/indexing.html#returning-a-view-versus-a-copy\n",
      "  \"\"\"\n"
     ]
    }
   ],
   "source": [
    "le = LabelEncoder()\n",
    "le2 = LabelEncoder()\n",
    "\n",
    "train['Class'] = le.fit_transform(train['Class'])\n",
    "test['Class'] = le2.fit_transform(test['Class'])"
   ]
  },
  {
   "cell_type": "code",
   "execution_count": 117,
   "metadata": {},
   "outputs": [
    {
     "data": {
      "text/html": [
       "<div>\n",
       "<style scoped>\n",
       "    .dataframe tbody tr th:only-of-type {\n",
       "        vertical-align: middle;\n",
       "    }\n",
       "\n",
       "    .dataframe tbody tr th {\n",
       "        vertical-align: top;\n",
       "    }\n",
       "\n",
       "    .dataframe thead th {\n",
       "        text-align: right;\n",
       "    }\n",
       "</style>\n",
       "<table border=\"1\" class=\"dataframe\">\n",
       "  <thead>\n",
       "    <tr style=\"text-align: right;\">\n",
       "      <th></th>\n",
       "      <th>From</th>\n",
       "      <th>To</th>\n",
       "      <th>Subject</th>\n",
       "      <th>Body</th>\n",
       "      <th>Class</th>\n",
       "      <th>TransactionID</th>\n",
       "      <th>Payment Date</th>\n",
       "    </tr>\n",
       "  </thead>\n",
       "  <tbody>\n",
       "    <tr>\n",
       "      <th>91</th>\n",
       "      <td>Stefeny@DEUTSCHEBANK.com</td>\n",
       "      <td>Shanguisi@CitiBankLondon.com</td>\n",
       "      <td>Transaction Complete for 742658</td>\n",
       "      <td>We are happy to let you know that transaction ...</td>\n",
       "      <td>0</td>\n",
       "      <td>742658</td>\n",
       "      <td>2019-11-30</td>\n",
       "    </tr>\n",
       "    <tr>\n",
       "      <th>686</th>\n",
       "      <td>Jason@BNYMellon.com</td>\n",
       "      <td>liFang@CitiBankHingKong.com</td>\n",
       "      <td>Request have been recieved for T-ID: 419464</td>\n",
       "      <td>Please find the details of your account 419464...</td>\n",
       "      <td>3</td>\n",
       "      <td>419464</td>\n",
       "      <td>2019-05-11</td>\n",
       "    </tr>\n",
       "    <tr>\n",
       "      <th>103</th>\n",
       "      <td>Stacy@HSBC.com</td>\n",
       "      <td>Anthony@CitiBankPune.com</td>\n",
       "      <td>Transaction is in progress for 437497</td>\n",
       "      <td>We are sorry but your fund transfer 437497 is ...</td>\n",
       "      <td>2</td>\n",
       "      <td>437497</td>\n",
       "      <td>2019-01-16</td>\n",
       "    </tr>\n",
       "    <tr>\n",
       "      <th>526</th>\n",
       "      <td>Morgan@DEUTSCHEBANK.com</td>\n",
       "      <td>Isabella@CitiBankLondon.com</td>\n",
       "      <td>Transaction Failed for 819525</td>\n",
       "      <td>Due to incorrect details filled, EUR 318521 ha...</td>\n",
       "      <td>1</td>\n",
       "      <td>819525</td>\n",
       "      <td>2020-02-22</td>\n",
       "    </tr>\n",
       "    <tr>\n",
       "      <th>759</th>\n",
       "      <td>Stefeny@DESHAW.com</td>\n",
       "      <td>liFang@CitiBankHingKong.com</td>\n",
       "      <td>Transaction Failed for 217152</td>\n",
       "      <td>Payment of CAD 878869 has been cancelled as pe...</td>\n",
       "      <td>1</td>\n",
       "      <td>217152</td>\n",
       "      <td>2019-12-24</td>\n",
       "    </tr>\n",
       "  </tbody>\n",
       "</table>\n",
       "</div>"
      ],
      "text/plain": [
       "                         From                            To  \\\n",
       "91   Stefeny@DEUTSCHEBANK.com  Shanguisi@CitiBankLondon.com   \n",
       "686       Jason@BNYMellon.com   liFang@CitiBankHingKong.com   \n",
       "103            Stacy@HSBC.com      Anthony@CitiBankPune.com   \n",
       "526   Morgan@DEUTSCHEBANK.com   Isabella@CitiBankLondon.com   \n",
       "759        Stefeny@DESHAW.com   liFang@CitiBankHingKong.com   \n",
       "\n",
       "                                         Subject  \\\n",
       "91               Transaction Complete for 742658   \n",
       "686  Request have been recieved for T-ID: 419464   \n",
       "103        Transaction is in progress for 437497   \n",
       "526                Transaction Failed for 819525   \n",
       "759                Transaction Failed for 217152   \n",
       "\n",
       "                                                  Body  Class  TransactionID  \\\n",
       "91   We are happy to let you know that transaction ...      0         742658   \n",
       "686  Please find the details of your account 419464...      3         419464   \n",
       "103  We are sorry but your fund transfer 437497 is ...      2         437497   \n",
       "526  Due to incorrect details filled, EUR 318521 ha...      1         819525   \n",
       "759  Payment of CAD 878869 has been cancelled as pe...      1         217152   \n",
       "\n",
       "    Payment Date  \n",
       "91    2019-11-30  \n",
       "686   2019-05-11  \n",
       "103   2019-01-16  \n",
       "526   2020-02-22  \n",
       "759   2019-12-24  "
      ]
     },
     "execution_count": 117,
     "metadata": {},
     "output_type": "execute_result"
    }
   ],
   "source": [
    "train.head()"
   ]
  },
  {
   "cell_type": "code",
   "execution_count": 118,
   "metadata": {},
   "outputs": [
    {
     "data": {
      "text/html": [
       "<div>\n",
       "<style scoped>\n",
       "    .dataframe tbody tr th:only-of-type {\n",
       "        vertical-align: middle;\n",
       "    }\n",
       "\n",
       "    .dataframe tbody tr th {\n",
       "        vertical-align: top;\n",
       "    }\n",
       "\n",
       "    .dataframe thead th {\n",
       "        text-align: right;\n",
       "    }\n",
       "</style>\n",
       "<table border=\"1\" class=\"dataframe\">\n",
       "  <thead>\n",
       "    <tr style=\"text-align: right;\">\n",
       "      <th></th>\n",
       "      <th>From</th>\n",
       "      <th>To</th>\n",
       "      <th>Subject</th>\n",
       "      <th>Body</th>\n",
       "      <th>Class</th>\n",
       "      <th>TransactionID</th>\n",
       "      <th>Payment Date</th>\n",
       "    </tr>\n",
       "  </thead>\n",
       "  <tbody>\n",
       "    <tr>\n",
       "      <th>827</th>\n",
       "      <td>Stacy@DESHAW.com</td>\n",
       "      <td>Shubhanshu@CitiBankPune.com</td>\n",
       "      <td>Transaction is in progress for 362541</td>\n",
       "      <td>Sorry, due to high volume of requests, your tr...</td>\n",
       "      <td>2</td>\n",
       "      <td>362541</td>\n",
       "      <td>2019-08-02</td>\n",
       "    </tr>\n",
       "    <tr>\n",
       "      <th>255</th>\n",
       "      <td>Phillip@DEUTSCHEBANK.com</td>\n",
       "      <td>Isabella@CitiBankLondon.com</td>\n",
       "      <td>Transaction Failed for 352769</td>\n",
       "      <td>Due to unknown technical errors, your transact...</td>\n",
       "      <td>1</td>\n",
       "      <td>352769</td>\n",
       "      <td>2019-08-04</td>\n",
       "    </tr>\n",
       "    <tr>\n",
       "      <th>725</th>\n",
       "      <td>Angella@HDFC.com</td>\n",
       "      <td>Dipesh@CitiBankSingapore.com</td>\n",
       "      <td>Current Update on Account No. 176335</td>\n",
       "      <td>Fund transfer for Account No. 176335 has stopp...</td>\n",
       "      <td>2</td>\n",
       "      <td>176335</td>\n",
       "      <td>2020-02-12</td>\n",
       "    </tr>\n",
       "    <tr>\n",
       "      <th>1381</th>\n",
       "      <td>Jason@BNYMellon.com</td>\n",
       "      <td>Shubhanshu@CitiBankHingKong.com</td>\n",
       "      <td>Update on payment request for 894336</td>\n",
       "      <td>Kindly reply to me at the earliest with the la...</td>\n",
       "      <td>7</td>\n",
       "      <td>894336</td>\n",
       "      <td>2020-02-07</td>\n",
       "    </tr>\n",
       "    <tr>\n",
       "      <th>587</th>\n",
       "      <td>Morgan@DESHAW.com</td>\n",
       "      <td>Shanguisi@CitiBankHingKong.com</td>\n",
       "      <td>Request have been recieved for T-ID: 393165</td>\n",
       "      <td>Request you to resend details of 393165 as soo...</td>\n",
       "      <td>3</td>\n",
       "      <td>393165</td>\n",
       "      <td>2019-06-17</td>\n",
       "    </tr>\n",
       "  </tbody>\n",
       "</table>\n",
       "</div>"
      ],
      "text/plain": [
       "                          From                               To  \\\n",
       "827           Stacy@DESHAW.com      Shubhanshu@CitiBankPune.com   \n",
       "255   Phillip@DEUTSCHEBANK.com      Isabella@CitiBankLondon.com   \n",
       "725           Angella@HDFC.com     Dipesh@CitiBankSingapore.com   \n",
       "1381       Jason@BNYMellon.com  Shubhanshu@CitiBankHingKong.com   \n",
       "587          Morgan@DESHAW.com   Shanguisi@CitiBankHingKong.com   \n",
       "\n",
       "                                          Subject  \\\n",
       "827         Transaction is in progress for 362541   \n",
       "255                 Transaction Failed for 352769   \n",
       "725          Current Update on Account No. 176335   \n",
       "1381         Update on payment request for 894336   \n",
       "587   Request have been recieved for T-ID: 393165   \n",
       "\n",
       "                                                   Body  Class  TransactionID  \\\n",
       "827   Sorry, due to high volume of requests, your tr...      2         362541   \n",
       "255   Due to unknown technical errors, your transact...      1         352769   \n",
       "725   Fund transfer for Account No. 176335 has stopp...      2         176335   \n",
       "1381  Kindly reply to me at the earliest with the la...      7         894336   \n",
       "587   Request you to resend details of 393165 as soo...      3         393165   \n",
       "\n",
       "     Payment Date  \n",
       "827    2019-08-02  \n",
       "255    2019-08-04  \n",
       "725    2020-02-12  \n",
       "1381   2020-02-07  \n",
       "587    2019-06-17  "
      ]
     },
     "execution_count": 118,
     "metadata": {},
     "output_type": "execute_result"
    }
   ],
   "source": [
    "test.head()"
   ]
  },
  {
   "cell_type": "code",
   "execution_count": 119,
   "metadata": {},
   "outputs": [
    {
     "data": {
      "text/html": [
       "<div>\n",
       "<style scoped>\n",
       "    .dataframe tbody tr th:only-of-type {\n",
       "        vertical-align: middle;\n",
       "    }\n",
       "\n",
       "    .dataframe tbody tr th {\n",
       "        vertical-align: top;\n",
       "    }\n",
       "\n",
       "    .dataframe thead th {\n",
       "        text-align: right;\n",
       "    }\n",
       "</style>\n",
       "<table border=\"1\" class=\"dataframe\">\n",
       "  <thead>\n",
       "    <tr style=\"text-align: right;\">\n",
       "      <th></th>\n",
       "      <th>From</th>\n",
       "      <th>To</th>\n",
       "      <th>Subject</th>\n",
       "      <th>Body</th>\n",
       "      <th>Class</th>\n",
       "      <th>TransactionID</th>\n",
       "      <th>Payment Date</th>\n",
       "      <th>0</th>\n",
       "      <th>1</th>\n",
       "      <th>2</th>\n",
       "      <th>3</th>\n",
       "      <th>4</th>\n",
       "      <th>5</th>\n",
       "      <th>6</th>\n",
       "      <th>7</th>\n",
       "    </tr>\n",
       "  </thead>\n",
       "  <tbody>\n",
       "    <tr>\n",
       "      <th>91</th>\n",
       "      <td>Stefeny@DEUTSCHEBANK.com</td>\n",
       "      <td>Shanguisi@CitiBankLondon.com</td>\n",
       "      <td>Transaction Complete for 742658</td>\n",
       "      <td>We are happy to let you know that transaction ...</td>\n",
       "      <td>0</td>\n",
       "      <td>742658</td>\n",
       "      <td>2019-11-30</td>\n",
       "      <td>0.0</td>\n",
       "      <td>0.0</td>\n",
       "      <td>0.0</td>\n",
       "      <td>0.0</td>\n",
       "      <td>0.0</td>\n",
       "      <td>0.0</td>\n",
       "      <td>1.0</td>\n",
       "      <td>0.0</td>\n",
       "    </tr>\n",
       "    <tr>\n",
       "      <th>686</th>\n",
       "      <td>Jason@BNYMellon.com</td>\n",
       "      <td>liFang@CitiBankHingKong.com</td>\n",
       "      <td>Request have been recieved for T-ID: 419464</td>\n",
       "      <td>Please find the details of your account 419464...</td>\n",
       "      <td>3</td>\n",
       "      <td>419464</td>\n",
       "      <td>2019-05-11</td>\n",
       "      <td>1.0</td>\n",
       "      <td>0.0</td>\n",
       "      <td>0.0</td>\n",
       "      <td>0.0</td>\n",
       "      <td>0.0</td>\n",
       "      <td>0.0</td>\n",
       "      <td>0.0</td>\n",
       "      <td>0.0</td>\n",
       "    </tr>\n",
       "    <tr>\n",
       "      <th>103</th>\n",
       "      <td>Stacy@HSBC.com</td>\n",
       "      <td>Anthony@CitiBankPune.com</td>\n",
       "      <td>Transaction is in progress for 437497</td>\n",
       "      <td>We are sorry but your fund transfer 437497 is ...</td>\n",
       "      <td>2</td>\n",
       "      <td>437497</td>\n",
       "      <td>2019-01-16</td>\n",
       "      <td>0.0</td>\n",
       "      <td>1.0</td>\n",
       "      <td>0.0</td>\n",
       "      <td>0.0</td>\n",
       "      <td>0.0</td>\n",
       "      <td>0.0</td>\n",
       "      <td>0.0</td>\n",
       "      <td>0.0</td>\n",
       "    </tr>\n",
       "    <tr>\n",
       "      <th>526</th>\n",
       "      <td>Morgan@DEUTSCHEBANK.com</td>\n",
       "      <td>Isabella@CitiBankLondon.com</td>\n",
       "      <td>Transaction Failed for 819525</td>\n",
       "      <td>Due to incorrect details filled, EUR 318521 ha...</td>\n",
       "      <td>1</td>\n",
       "      <td>819525</td>\n",
       "      <td>2020-02-22</td>\n",
       "      <td>0.0</td>\n",
       "      <td>1.0</td>\n",
       "      <td>0.0</td>\n",
       "      <td>0.0</td>\n",
       "      <td>0.0</td>\n",
       "      <td>0.0</td>\n",
       "      <td>0.0</td>\n",
       "      <td>0.0</td>\n",
       "    </tr>\n",
       "    <tr>\n",
       "      <th>759</th>\n",
       "      <td>Stefeny@DESHAW.com</td>\n",
       "      <td>liFang@CitiBankHingKong.com</td>\n",
       "      <td>Transaction Failed for 217152</td>\n",
       "      <td>Payment of CAD 878869 has been cancelled as pe...</td>\n",
       "      <td>1</td>\n",
       "      <td>217152</td>\n",
       "      <td>2019-12-24</td>\n",
       "      <td>1.0</td>\n",
       "      <td>0.0</td>\n",
       "      <td>0.0</td>\n",
       "      <td>0.0</td>\n",
       "      <td>0.0</td>\n",
       "      <td>0.0</td>\n",
       "      <td>0.0</td>\n",
       "      <td>0.0</td>\n",
       "    </tr>\n",
       "  </tbody>\n",
       "</table>\n",
       "</div>"
      ],
      "text/plain": [
       "                         From                            To  \\\n",
       "91   Stefeny@DEUTSCHEBANK.com  Shanguisi@CitiBankLondon.com   \n",
       "686       Jason@BNYMellon.com   liFang@CitiBankHingKong.com   \n",
       "103            Stacy@HSBC.com      Anthony@CitiBankPune.com   \n",
       "526   Morgan@DEUTSCHEBANK.com   Isabella@CitiBankLondon.com   \n",
       "759        Stefeny@DESHAW.com   liFang@CitiBankHingKong.com   \n",
       "\n",
       "                                         Subject  \\\n",
       "91               Transaction Complete for 742658   \n",
       "686  Request have been recieved for T-ID: 419464   \n",
       "103        Transaction is in progress for 437497   \n",
       "526                Transaction Failed for 819525   \n",
       "759                Transaction Failed for 217152   \n",
       "\n",
       "                                                  Body  Class  TransactionID  \\\n",
       "91   We are happy to let you know that transaction ...      0         742658   \n",
       "686  Please find the details of your account 419464...      3         419464   \n",
       "103  We are sorry but your fund transfer 437497 is ...      2         437497   \n",
       "526  Due to incorrect details filled, EUR 318521 ha...      1         819525   \n",
       "759  Payment of CAD 878869 has been cancelled as pe...      1         217152   \n",
       "\n",
       "    Payment Date    0    1    2    3    4    5    6    7  \n",
       "91    2019-11-30  0.0  0.0  0.0  0.0  0.0  0.0  1.0  0.0  \n",
       "686   2019-05-11  1.0  0.0  0.0  0.0  0.0  0.0  0.0  0.0  \n",
       "103   2019-01-16  0.0  1.0  0.0  0.0  0.0  0.0  0.0  0.0  \n",
       "526   2020-02-22  0.0  1.0  0.0  0.0  0.0  0.0  0.0  0.0  \n",
       "759   2019-12-24  1.0  0.0  0.0  0.0  0.0  0.0  0.0  0.0  "
      ]
     },
     "execution_count": 119,
     "metadata": {},
     "output_type": "execute_result"
    }
   ],
   "source": [
    "# creating instance of one-hot-encoder\n",
    "\n",
    "enc = OneHotEncoder(handle_unknown='ignore')\n",
    "# enc2 = OneHotEncoder()\n",
    "enc_train = pd.DataFrame(enc.fit_transform(train[['Class']]).toarray())\n",
    "\n",
    "# merge with main df on key values\n",
    "train = train.join(enc_train)\n",
    "train.head()"
   ]
  },
  {
   "cell_type": "code",
   "execution_count": 120,
   "metadata": {},
   "outputs": [
    {
     "data": {
      "text/html": [
       "<div>\n",
       "<style scoped>\n",
       "    .dataframe tbody tr th:only-of-type {\n",
       "        vertical-align: middle;\n",
       "    }\n",
       "\n",
       "    .dataframe tbody tr th {\n",
       "        vertical-align: top;\n",
       "    }\n",
       "\n",
       "    .dataframe thead th {\n",
       "        text-align: right;\n",
       "    }\n",
       "</style>\n",
       "<table border=\"1\" class=\"dataframe\">\n",
       "  <thead>\n",
       "    <tr style=\"text-align: right;\">\n",
       "      <th></th>\n",
       "      <th>From</th>\n",
       "      <th>To</th>\n",
       "      <th>Subject</th>\n",
       "      <th>Body</th>\n",
       "      <th>Class</th>\n",
       "      <th>TransactionID</th>\n",
       "      <th>Payment Date</th>\n",
       "      <th>0</th>\n",
       "      <th>1</th>\n",
       "      <th>2</th>\n",
       "      <th>3</th>\n",
       "      <th>4</th>\n",
       "      <th>5</th>\n",
       "      <th>6</th>\n",
       "      <th>7</th>\n",
       "    </tr>\n",
       "  </thead>\n",
       "  <tbody>\n",
       "    <tr>\n",
       "      <th>827</th>\n",
       "      <td>Stacy@DESHAW.com</td>\n",
       "      <td>Shubhanshu@CitiBankPune.com</td>\n",
       "      <td>Transaction is in progress for 362541</td>\n",
       "      <td>Sorry, due to high volume of requests, your tr...</td>\n",
       "      <td>2</td>\n",
       "      <td>362541</td>\n",
       "      <td>2019-08-02</td>\n",
       "      <td>NaN</td>\n",
       "      <td>NaN</td>\n",
       "      <td>NaN</td>\n",
       "      <td>NaN</td>\n",
       "      <td>NaN</td>\n",
       "      <td>NaN</td>\n",
       "      <td>NaN</td>\n",
       "      <td>NaN</td>\n",
       "    </tr>\n",
       "    <tr>\n",
       "      <th>255</th>\n",
       "      <td>Phillip@DEUTSCHEBANK.com</td>\n",
       "      <td>Isabella@CitiBankLondon.com</td>\n",
       "      <td>Transaction Failed for 352769</td>\n",
       "      <td>Due to unknown technical errors, your transact...</td>\n",
       "      <td>1</td>\n",
       "      <td>352769</td>\n",
       "      <td>2019-08-04</td>\n",
       "      <td>0.0</td>\n",
       "      <td>1.0</td>\n",
       "      <td>0.0</td>\n",
       "      <td>0.0</td>\n",
       "      <td>0.0</td>\n",
       "      <td>0.0</td>\n",
       "      <td>0.0</td>\n",
       "      <td>0.0</td>\n",
       "    </tr>\n",
       "    <tr>\n",
       "      <th>725</th>\n",
       "      <td>Angella@HDFC.com</td>\n",
       "      <td>Dipesh@CitiBankSingapore.com</td>\n",
       "      <td>Current Update on Account No. 176335</td>\n",
       "      <td>Fund transfer for Account No. 176335 has stopp...</td>\n",
       "      <td>2</td>\n",
       "      <td>176335</td>\n",
       "      <td>2020-02-12</td>\n",
       "      <td>NaN</td>\n",
       "      <td>NaN</td>\n",
       "      <td>NaN</td>\n",
       "      <td>NaN</td>\n",
       "      <td>NaN</td>\n",
       "      <td>NaN</td>\n",
       "      <td>NaN</td>\n",
       "      <td>NaN</td>\n",
       "    </tr>\n",
       "    <tr>\n",
       "      <th>1381</th>\n",
       "      <td>Jason@BNYMellon.com</td>\n",
       "      <td>Shubhanshu@CitiBankHingKong.com</td>\n",
       "      <td>Update on payment request for 894336</td>\n",
       "      <td>Kindly reply to me at the earliest with the la...</td>\n",
       "      <td>7</td>\n",
       "      <td>894336</td>\n",
       "      <td>2020-02-07</td>\n",
       "      <td>NaN</td>\n",
       "      <td>NaN</td>\n",
       "      <td>NaN</td>\n",
       "      <td>NaN</td>\n",
       "      <td>NaN</td>\n",
       "      <td>NaN</td>\n",
       "      <td>NaN</td>\n",
       "      <td>NaN</td>\n",
       "    </tr>\n",
       "    <tr>\n",
       "      <th>587</th>\n",
       "      <td>Morgan@DESHAW.com</td>\n",
       "      <td>Shanguisi@CitiBankHingKong.com</td>\n",
       "      <td>Request have been recieved for T-ID: 393165</td>\n",
       "      <td>Request you to resend details of 393165 as soo...</td>\n",
       "      <td>3</td>\n",
       "      <td>393165</td>\n",
       "      <td>2019-06-17</td>\n",
       "      <td>NaN</td>\n",
       "      <td>NaN</td>\n",
       "      <td>NaN</td>\n",
       "      <td>NaN</td>\n",
       "      <td>NaN</td>\n",
       "      <td>NaN</td>\n",
       "      <td>NaN</td>\n",
       "      <td>NaN</td>\n",
       "    </tr>\n",
       "  </tbody>\n",
       "</table>\n",
       "</div>"
      ],
      "text/plain": [
       "                          From                               To  \\\n",
       "827           Stacy@DESHAW.com      Shubhanshu@CitiBankPune.com   \n",
       "255   Phillip@DEUTSCHEBANK.com      Isabella@CitiBankLondon.com   \n",
       "725           Angella@HDFC.com     Dipesh@CitiBankSingapore.com   \n",
       "1381       Jason@BNYMellon.com  Shubhanshu@CitiBankHingKong.com   \n",
       "587          Morgan@DESHAW.com   Shanguisi@CitiBankHingKong.com   \n",
       "\n",
       "                                          Subject  \\\n",
       "827         Transaction is in progress for 362541   \n",
       "255                 Transaction Failed for 352769   \n",
       "725          Current Update on Account No. 176335   \n",
       "1381         Update on payment request for 894336   \n",
       "587   Request have been recieved for T-ID: 393165   \n",
       "\n",
       "                                                   Body  Class  TransactionID  \\\n",
       "827   Sorry, due to high volume of requests, your tr...      2         362541   \n",
       "255   Due to unknown technical errors, your transact...      1         352769   \n",
       "725   Fund transfer for Account No. 176335 has stopp...      2         176335   \n",
       "1381  Kindly reply to me at the earliest with the la...      7         894336   \n",
       "587   Request you to resend details of 393165 as soo...      3         393165   \n",
       "\n",
       "     Payment Date    0    1    2    3    4    5    6    7  \n",
       "827    2019-08-02  NaN  NaN  NaN  NaN  NaN  NaN  NaN  NaN  \n",
       "255    2019-08-04  0.0  1.0  0.0  0.0  0.0  0.0  0.0  0.0  \n",
       "725    2020-02-12  NaN  NaN  NaN  NaN  NaN  NaN  NaN  NaN  \n",
       "1381   2020-02-07  NaN  NaN  NaN  NaN  NaN  NaN  NaN  NaN  \n",
       "587    2019-06-17  NaN  NaN  NaN  NaN  NaN  NaN  NaN  NaN  "
      ]
     },
     "execution_count": 120,
     "metadata": {},
     "output_type": "execute_result"
    }
   ],
   "source": [
    "enc2 = OneHotEncoder(handle_unknown='ignore')\n",
    "enc_test = pd.DataFrame(enc2.fit_transform(test[['Class']]).toarray())\n",
    "test = test.join(enc_test)\n",
    "test.head()"
   ]
  },
  {
   "cell_type": "code",
   "execution_count": null,
   "metadata": {},
   "outputs": [],
   "source": []
  },
  {
   "cell_type": "markdown",
   "metadata": {},
   "source": [
    "## Step 2: Processing a custom dataset"
   ]
  },
  {
   "cell_type": "code",
   "execution_count": 10,
   "metadata": {},
   "outputs": [],
   "source": [
    "for i in range(df.shape[0]):\n",
    "    # merge subject and body strings\n",
    "    df['Text_Data'] = df['Subject'] + \" \" + df['Body']"
   ]
  },
  {
   "cell_type": "code",
   "execution_count": 11,
   "metadata": {},
   "outputs": [],
   "source": [
    "#convert sentences to embeddings and classes to one-hot vectors"
   ]
  },
  {
   "cell_type": "code",
   "execution_count": 12,
   "metadata": {},
   "outputs": [
    {
     "name": "stdout",
     "output_type": "stream",
     "text": [
      "400000\n"
     ]
    }
   ],
   "source": [
    "embeddings = {}\n",
    "with open('../data_science/Machine-learning-master/17. Word2Vec/glove.6B.50d.txt',encoding='utf-8') as f:\n",
    "    for line in f:\n",
    "        values = line.split()\n",
    "        word = values[0]\n",
    "        coeffs = np.asarray(values[1:],dtype='float32')\n",
    "        \n",
    "#         print(word)\n",
    "#         print(coeffs)\n",
    "        embeddings[word] = coeffs\n",
    "    f.close()\n",
    "print(len(embeddings))"
   ]
  },
  {
   "cell_type": "code",
   "execution_count": 13,
   "metadata": {},
   "outputs": [],
   "source": [
    "def clean(text):\n",
    "    stop = set(stopwords.words('english'))\n",
    "    stop.update((\"to\",\"cc\",\"subject\",\"http\",\"from\", \"gbp\", \"usd\", \"eur\", \"cad\", \"sent\",\"thanks\", \"acc\", \"ID\", \"account\", \"regards\", \"hi\", \"hello\", \"thank you\"))\n",
    "    exclude = set(string.punctuation) \n",
    "    lemma = WordNetLemmatizer()\n",
    "    porter= PorterStemmer()\n",
    "    \n",
    "    text=text.rstrip()\n",
    "    text = re.sub(r'[^a-zA-Z]', ' ', text)\n",
    "    # EXTRACT AMOUNT + CURRENCY!!\n",
    "    #amount = \"\".join([i for i in text.lower().split() if i.isdigit()])\n",
    "    stop_free = \" \".join([i for i in text.lower().split() if((i not in stop) and (not i.isdigit()))])\n",
    "    punc_free = ''.join(ch for ch in stop_free if ch not in exclude)\n",
    "    normalized = \" \".join(lemma.lemmatize(word) for word in punc_free.split())\n",
    "    stem = \" \".join(porter.stem(token) for token in normalized.split())\n",
    "    \n",
    "#     return normalized, amount\n",
    "    return normalized"
   ]
  },
  {
   "cell_type": "code",
   "execution_count": 14,
   "metadata": {},
   "outputs": [
    {
     "data": {
      "text/plain": [
       "'payment status regret inform transaction could completed due mismatch detail'"
      ]
     },
     "execution_count": 14,
     "metadata": {},
     "output_type": "execute_result"
    }
   ],
   "source": [
    "# sub_df[\"content\"]=sub_df[\"content\"].map(clean)\n",
    "text_clean=[]\n",
    "\n",
    "# for text in df['Text_Data']:\n",
    "#     text_clean.append(clean(text))\n",
    "#     text_clean.append(clean(text).split())\n",
    "#     amount = clean(text)[1]\n",
    "\n",
    "for i in range(df.shape[0]):\n",
    "    text_clean.append(clean(df.loc[i]['Text_Data']))\n",
    "\n",
    "# amount\n",
    "text_clean[0]"
   ]
  },
  {
   "cell_type": "code",
   "execution_count": 15,
   "metadata": {},
   "outputs": [],
   "source": [
    "df['Text_Data'] = text_clean"
   ]
  },
  {
   "cell_type": "code",
   "execution_count": 16,
   "metadata": {},
   "outputs": [
    {
     "data": {
      "text/html": [
       "<div>\n",
       "<style scoped>\n",
       "    .dataframe tbody tr th:only-of-type {\n",
       "        vertical-align: middle;\n",
       "    }\n",
       "\n",
       "    .dataframe tbody tr th {\n",
       "        vertical-align: top;\n",
       "    }\n",
       "\n",
       "    .dataframe thead th {\n",
       "        text-align: right;\n",
       "    }\n",
       "</style>\n",
       "<table border=\"1\" class=\"dataframe\">\n",
       "  <thead>\n",
       "    <tr style=\"text-align: right;\">\n",
       "      <th></th>\n",
       "      <th>From</th>\n",
       "      <th>To</th>\n",
       "      <th>Subject</th>\n",
       "      <th>Body</th>\n",
       "      <th>Class</th>\n",
       "      <th>TransactionID</th>\n",
       "      <th>Payment Date</th>\n",
       "      <th>0</th>\n",
       "      <th>1</th>\n",
       "      <th>2</th>\n",
       "      <th>3</th>\n",
       "      <th>4</th>\n",
       "      <th>5</th>\n",
       "      <th>6</th>\n",
       "      <th>7</th>\n",
       "      <th>Text_Data</th>\n",
       "    </tr>\n",
       "  </thead>\n",
       "  <tbody>\n",
       "    <tr>\n",
       "      <th>0</th>\n",
       "      <td>Dave@HSBC.com</td>\n",
       "      <td>liFang@CitiBankNewYork.com</td>\n",
       "      <td>Payment Status for 996352</td>\n",
       "      <td>Regret to inform that transaction EUR 921984 c...</td>\n",
       "      <td>1</td>\n",
       "      <td>996352</td>\n",
       "      <td>2019-10-21</td>\n",
       "      <td>0.0</td>\n",
       "      <td>1.0</td>\n",
       "      <td>0.0</td>\n",
       "      <td>0.0</td>\n",
       "      <td>0.0</td>\n",
       "      <td>0.0</td>\n",
       "      <td>0.0</td>\n",
       "      <td>0.0</td>\n",
       "      <td>payment status regret inform transaction could...</td>\n",
       "    </tr>\n",
       "    <tr>\n",
       "      <th>1</th>\n",
       "      <td>Angella@SBI.com</td>\n",
       "      <td>Suhail@CitiBankSingapore.com</td>\n",
       "      <td>Transaction is in progress for 945324</td>\n",
       "      <td>Fund transfer for Account No. 945324 has stopp...</td>\n",
       "      <td>2</td>\n",
       "      <td>945324</td>\n",
       "      <td>2019-04-13</td>\n",
       "      <td>0.0</td>\n",
       "      <td>0.0</td>\n",
       "      <td>1.0</td>\n",
       "      <td>0.0</td>\n",
       "      <td>0.0</td>\n",
       "      <td>0.0</td>\n",
       "      <td>0.0</td>\n",
       "      <td>0.0</td>\n",
       "      <td>transaction progress fund transfer stopped abr...</td>\n",
       "    </tr>\n",
       "    <tr>\n",
       "      <th>2</th>\n",
       "      <td>Phillip@SBI.com</td>\n",
       "      <td>AjayNager@CitiBankPune.com</td>\n",
       "      <td>Current Update on Account No. 236195</td>\n",
       "      <td>Sorry, due to high volume of requests, your tr...</td>\n",
       "      <td>2</td>\n",
       "      <td>236195</td>\n",
       "      <td>2018-12-06</td>\n",
       "      <td>0.0</td>\n",
       "      <td>0.0</td>\n",
       "      <td>1.0</td>\n",
       "      <td>0.0</td>\n",
       "      <td>0.0</td>\n",
       "      <td>0.0</td>\n",
       "      <td>0.0</td>\n",
       "      <td>0.0</td>\n",
       "      <td>current update sorry due high volume request t...</td>\n",
       "    </tr>\n",
       "    <tr>\n",
       "      <th>3</th>\n",
       "      <td>Mike@HDFC.com</td>\n",
       "      <td>Shubhanshu@CitiBankSingapore.com</td>\n",
       "      <td>Transaction Complete for 565267</td>\n",
       "      <td>Full payment for amount EUR 215164 has been su...</td>\n",
       "      <td>0</td>\n",
       "      <td>565267</td>\n",
       "      <td>2020-01-09</td>\n",
       "      <td>1.0</td>\n",
       "      <td>0.0</td>\n",
       "      <td>0.0</td>\n",
       "      <td>0.0</td>\n",
       "      <td>0.0</td>\n",
       "      <td>0.0</td>\n",
       "      <td>0.0</td>\n",
       "      <td>0.0</td>\n",
       "      <td>transaction complete full payment amount succe...</td>\n",
       "    </tr>\n",
       "    <tr>\n",
       "      <th>4</th>\n",
       "      <td>Stacy@JPMorgan.com</td>\n",
       "      <td>AjayNager@CitiBankLondon.com</td>\n",
       "      <td>Transaction Failed for 275122</td>\n",
       "      <td>Due to lack of funds, cheque no. 9389748142575...</td>\n",
       "      <td>1</td>\n",
       "      <td>275122</td>\n",
       "      <td>2019-06-22</td>\n",
       "      <td>0.0</td>\n",
       "      <td>1.0</td>\n",
       "      <td>0.0</td>\n",
       "      <td>0.0</td>\n",
       "      <td>0.0</td>\n",
       "      <td>0.0</td>\n",
       "      <td>0.0</td>\n",
       "      <td>0.0</td>\n",
       "      <td>transaction failed due lack fund cheque bounce...</td>\n",
       "    </tr>\n",
       "  </tbody>\n",
       "</table>\n",
       "</div>"
      ],
      "text/plain": [
       "                 From                                To  \\\n",
       "0       Dave@HSBC.com        liFang@CitiBankNewYork.com   \n",
       "1     Angella@SBI.com      Suhail@CitiBankSingapore.com   \n",
       "2     Phillip@SBI.com        AjayNager@CitiBankPune.com   \n",
       "3       Mike@HDFC.com  Shubhanshu@CitiBankSingapore.com   \n",
       "4  Stacy@JPMorgan.com      AjayNager@CitiBankLondon.com   \n",
       "\n",
       "                                 Subject  \\\n",
       "0              Payment Status for 996352   \n",
       "1  Transaction is in progress for 945324   \n",
       "2   Current Update on Account No. 236195   \n",
       "3        Transaction Complete for 565267   \n",
       "4          Transaction Failed for 275122   \n",
       "\n",
       "                                                Body  Class  TransactionID  \\\n",
       "0  Regret to inform that transaction EUR 921984 c...      1         996352   \n",
       "1  Fund transfer for Account No. 945324 has stopp...      2         945324   \n",
       "2  Sorry, due to high volume of requests, your tr...      2         236195   \n",
       "3  Full payment for amount EUR 215164 has been su...      0         565267   \n",
       "4  Due to lack of funds, cheque no. 9389748142575...      1         275122   \n",
       "\n",
       "  Payment Date    0    1    2    3    4    5    6    7  \\\n",
       "0   2019-10-21  0.0  1.0  0.0  0.0  0.0  0.0  0.0  0.0   \n",
       "1   2019-04-13  0.0  0.0  1.0  0.0  0.0  0.0  0.0  0.0   \n",
       "2   2018-12-06  0.0  0.0  1.0  0.0  0.0  0.0  0.0  0.0   \n",
       "3   2020-01-09  1.0  0.0  0.0  0.0  0.0  0.0  0.0  0.0   \n",
       "4   2019-06-22  0.0  1.0  0.0  0.0  0.0  0.0  0.0  0.0   \n",
       "\n",
       "                                           Text_Data  \n",
       "0  payment status regret inform transaction could...  \n",
       "1  transaction progress fund transfer stopped abr...  \n",
       "2  current update sorry due high volume request t...  \n",
       "3  transaction complete full payment amount succe...  \n",
       "4  transaction failed due lack fund cheque bounce...  "
      ]
     },
     "execution_count": 16,
     "metadata": {},
     "output_type": "execute_result"
    }
   ],
   "source": [
    "df.head()"
   ]
  },
  {
   "cell_type": "code",
   "execution_count": null,
   "metadata": {},
   "outputs": [],
   "source": []
  },
  {
   "cell_type": "markdown",
   "metadata": {},
   "source": [
    "## Step 4 - Converting sentences to vectors (creating the o/p of embedding layer)"
   ]
  },
  {
   "cell_type": "code",
   "execution_count": 17,
   "metadata": {},
   "outputs": [],
   "source": [
    "def getOutputEmbeddings(X):\n",
    "    \n",
    "    #let 10 is max len of sentence, 50 batch size (no. of e.g.)\n",
    "    embedding_matrix_output = np.zeros((X.shape[0],100,50))\n",
    "    \n",
    "    for ix in range(X.shape[0]):\n",
    "        X[ix] = X[ix].split()\n",
    "        for jx in range(len(X[ix])):\n",
    "            #go to every word in current(ix) sentence\n",
    "            embedding_matrix_output[ix][jx] = embeddings[X[ix][jx].lower()]\n",
    "            \n",
    "    return embedding_matrix_output"
   ]
  },
  {
   "cell_type": "code",
   "execution_count": 18,
   "metadata": {},
   "outputs": [],
   "source": [
    "# X = df.values\n",
    "# # Create Training and Testing Set\n",
    "# X_ = X[:, 0:5]\n",
    "# Y_ = X[:, -1]\n",
    "\n",
    "# import sklearn.model_selection as model_selection\n",
    "\n",
    "# X_train, X_test, Y_train, Y_test = model_selection.train_test_split(X_, Y_, train_size=0.8,test_size=0.2)\n",
    "\n",
    "# print(X_[0])\n",
    "# print(Y_[0])"
   ]
  },
  {
   "cell_type": "code",
   "execution_count": null,
   "metadata": {},
   "outputs": [],
   "source": []
  },
  {
   "cell_type": "code",
   "execution_count": 19,
   "metadata": {},
   "outputs": [
    {
     "name": "stdout",
     "output_type": "stream",
     "text": [
      "payment status regret inform transaction could completed due mismatch detail\n",
      "(1585,)\n"
     ]
    }
   ],
   "source": [
    "XT = df['Text_Data']\n",
    "# Xt = df2['Text_Data']\n",
    "\n",
    "print(XT[0])\n",
    "print(XT.shape)\n",
    "\n",
    "# print(Xt[0])\n",
    "# print(Xt.shape)"
   ]
  },
  {
   "cell_type": "code",
   "execution_count": 20,
   "metadata": {},
   "outputs": [
    {
     "name": "stderr",
     "output_type": "stream",
     "text": [
      "/home/aheli/anaconda3/lib/python3.7/site-packages/ipykernel_launcher.py:7: SettingWithCopyWarning: \n",
      "A value is trying to be set on a copy of a slice from a DataFrame\n",
      "\n",
      "See the caveats in the documentation: https://pandas.pydata.org/pandas-docs/stable/user_guide/indexing.html#returning-a-view-versus-a-copy\n",
      "  import sys\n"
     ]
    },
    {
     "name": "stdout",
     "output_type": "stream",
     "text": [
      "(1585, 100, 50)\n"
     ]
    }
   ],
   "source": [
    "embed_matrix_train = getOutputEmbeddings(XT)\n",
    "print(embed_matrix_train.shape)"
   ]
  },
  {
   "cell_type": "code",
   "execution_count": 21,
   "metadata": {},
   "outputs": [
    {
     "name": "stderr",
     "output_type": "stream",
     "text": [
      "Using TensorFlow backend.\n"
     ]
    },
    {
     "name": "stdout",
     "output_type": "stream",
     "text": [
      "(1585, 8)\n"
     ]
    }
   ],
   "source": [
    "from keras.utils import to_categorical\n",
    "\n",
    "YT = to_categorical(df['Class'], num_classes=8)\n",
    "#Yt = to_categorical(df2['Class'], num_classes=8)\n",
    "\n",
    "print(YT.shape)\n",
    "# print(Yt.shape)"
   ]
  },
  {
   "cell_type": "code",
   "execution_count": 22,
   "metadata": {},
   "outputs": [
    {
     "ename": "NameError",
     "evalue": "name 'Xt' is not defined",
     "output_type": "error",
     "traceback": [
      "\u001b[0;31m---------------------------------------------------------------------------\u001b[0m",
      "\u001b[0;31mNameError\u001b[0m                                 Traceback (most recent call last)",
      "\u001b[0;32m<ipython-input-22-3792e1bd27f4>\u001b[0m in \u001b[0;36m<module>\u001b[0;34m\u001b[0m\n\u001b[0;32m----> 1\u001b[0;31m \u001b[0membed_matrix_test\u001b[0m \u001b[0;34m=\u001b[0m \u001b[0mgetOutputEmbeddings\u001b[0m\u001b[0;34m(\u001b[0m\u001b[0mXt\u001b[0m\u001b[0;34m)\u001b[0m\u001b[0;34m\u001b[0m\u001b[0;34m\u001b[0m\u001b[0m\n\u001b[0m\u001b[1;32m      2\u001b[0m \u001b[0mprint\u001b[0m\u001b[0;34m(\u001b[0m\u001b[0membed_matrix_test\u001b[0m\u001b[0;34m.\u001b[0m\u001b[0mshape\u001b[0m\u001b[0;34m)\u001b[0m\u001b[0;34m\u001b[0m\u001b[0;34m\u001b[0m\u001b[0m\n",
      "\u001b[0;31mNameError\u001b[0m: name 'Xt' is not defined"
     ]
    }
   ],
   "source": [
    "embed_matrix_test = getOutputEmbeddings(Xt)\n",
    "print(embed_matrix_test.shape)"
   ]
  },
  {
   "cell_type": "markdown",
   "metadata": {},
   "source": [
    "## Step 5: Define RNN/LSTM model "
   ]
  },
  {
   "cell_type": "code",
   "execution_count": 89,
   "metadata": {},
   "outputs": [],
   "source": [
    "from keras.layers import *\n",
    "from keras.models import Sequential"
   ]
  },
  {
   "cell_type": "code",
   "execution_count": 90,
   "metadata": {},
   "outputs": [
    {
     "name": "stdout",
     "output_type": "stream",
     "text": [
      "Model: \"sequential_3\"\n",
      "_________________________________________________________________\n",
      "Layer (type)                 Output Shape              Param #   \n",
      "=================================================================\n",
      "lstm_5 (LSTM)                (None, 10, 64)            29440     \n",
      "_________________________________________________________________\n",
      "dropout_5 (Dropout)          (None, 10, 64)            0         \n",
      "_________________________________________________________________\n",
      "lstm_6 (LSTM)                (None, 64)                33024     \n",
      "_________________________________________________________________\n",
      "dropout_6 (Dropout)          (None, 64)                0         \n",
      "_________________________________________________________________\n",
      "dense_3 (Dense)              (None, 5)                 325       \n",
      "_________________________________________________________________\n",
      "activation_3 (Activation)    (None, 5)                 0         \n",
      "=================================================================\n",
      "Total params: 62,789\n",
      "Trainable params: 62,789\n",
      "Non-trainable params: 0\n",
      "_________________________________________________________________\n"
     ]
    }
   ],
   "source": [
    "model = Sequential()\n",
    "model.add(LSTM(64,input_shape=(100,50),return_sequences=True))\n",
    "model.add(Dropout(0.4))\n",
    "model.add(LSTM(64,input_shape=(100,50), return_sequences=False))\n",
    "model.add(Dropout(0.3))\n",
    "model.add(Dense(8))\n",
    "model.add(Activation('softmax'))\n",
    "model.compile(optimizer='adam',loss='categorical_crossentropy',metrics=['acc']) # try optimizer='rmsprop'\n",
    "model.summary()"
   ]
  },
  {
   "cell_type": "code",
   "execution_count": 91,
   "metadata": {},
   "outputs": [],
   "source": [
    "# TRAIN MODEL"
   ]
  },
  {
   "cell_type": "code",
   "execution_count": 92,
   "metadata": {},
   "outputs": [
    {
     "name": "stdout",
     "output_type": "stream",
     "text": [
      "Train on 105 samples, validate on 27 samples\n",
      "Epoch 1/40\n",
      "105/105 [==============================] - 1s 9ms/step - loss: 1.5876 - acc: 0.2571 - val_loss: 1.6177 - val_acc: 0.1852\n",
      "\n",
      "Epoch 00001: val_loss improved from inf to 1.61768, saving model to best_model.h5\n",
      "Epoch 2/40\n",
      "105/105 [==============================] - 0s 529us/step - loss: 1.5314 - acc: 0.3238 - val_loss: 1.6585 - val_acc: 0.2963\n",
      "\n",
      "Epoch 00002: val_loss did not improve from 1.61768\n",
      "Epoch 3/40\n",
      "105/105 [==============================] - 0s 672us/step - loss: 1.4945 - acc: 0.3429 - val_loss: 1.6792 - val_acc: 0.2222\n",
      "\n",
      "Epoch 00003: val_loss did not improve from 1.61768\n",
      "Epoch 4/40\n",
      "105/105 [==============================] - 0s 551us/step - loss: 1.4661 - acc: 0.3714 - val_loss: 1.6625 - val_acc: 0.2222\n",
      "\n",
      "Epoch 00004: val_loss did not improve from 1.61768\n",
      "Epoch 5/40\n",
      "105/105 [==============================] - 0s 956us/step - loss: 1.4012 - acc: 0.4190 - val_loss: 1.6090 - val_acc: 0.1852\n",
      "\n",
      "Epoch 00005: val_loss improved from 1.61768 to 1.60899, saving model to best_model.h5\n",
      "Epoch 6/40\n",
      "105/105 [==============================] - 0s 574us/step - loss: 1.3755 - acc: 0.4000 - val_loss: 1.5418 - val_acc: 0.2222\n",
      "\n",
      "Epoch 00006: val_loss improved from 1.60899 to 1.54177, saving model to best_model.h5\n",
      "Epoch 7/40\n",
      "105/105 [==============================] - 0s 617us/step - loss: 1.3142 - acc: 0.4857 - val_loss: 1.4655 - val_acc: 0.2963\n",
      "\n",
      "Epoch 00007: val_loss improved from 1.54177 to 1.46553, saving model to best_model.h5\n",
      "Epoch 8/40\n",
      "105/105 [==============================] - 0s 770us/step - loss: 1.2251 - acc: 0.5524 - val_loss: 1.3675 - val_acc: 0.4074\n",
      "\n",
      "Epoch 00008: val_loss improved from 1.46553 to 1.36747, saving model to best_model.h5\n",
      "Epoch 9/40\n",
      "105/105 [==============================] - 0s 590us/step - loss: 1.1518 - acc: 0.5810 - val_loss: 1.3275 - val_acc: 0.3704\n",
      "\n",
      "Epoch 00009: val_loss improved from 1.36747 to 1.32752, saving model to best_model.h5\n",
      "Epoch 10/40\n",
      "105/105 [==============================] - 0s 584us/step - loss: 1.0480 - acc: 0.6000 - val_loss: 1.3779 - val_acc: 0.3704\n",
      "\n",
      "Epoch 00010: val_loss did not improve from 1.32752\n",
      "Epoch 11/40\n",
      "105/105 [==============================] - 0s 689us/step - loss: 0.9343 - acc: 0.6476 - val_loss: 1.3410 - val_acc: 0.4444\n",
      "\n",
      "Epoch 00011: val_loss did not improve from 1.32752\n",
      "Epoch 12/40\n",
      "105/105 [==============================] - 0s 580us/step - loss: 0.8433 - acc: 0.7238 - val_loss: 1.2717 - val_acc: 0.5185\n",
      "\n",
      "Epoch 00012: val_loss improved from 1.32752 to 1.27169, saving model to best_model.h5\n",
      "Epoch 13/40\n",
      "105/105 [==============================] - 0s 518us/step - loss: 0.8054 - acc: 0.7143 - val_loss: 1.2474 - val_acc: 0.5556\n",
      "\n",
      "Epoch 00013: val_loss improved from 1.27169 to 1.24738, saving model to best_model.h5\n",
      "Epoch 14/40\n",
      "105/105 [==============================] - 0s 713us/step - loss: 0.7208 - acc: 0.7333 - val_loss: 1.3253 - val_acc: 0.4815\n",
      "\n",
      "Epoch 00014: val_loss did not improve from 1.24738\n",
      "Epoch 15/40\n",
      "105/105 [==============================] - 0s 696us/step - loss: 0.6575 - acc: 0.7333 - val_loss: 1.3249 - val_acc: 0.5185\n",
      "\n",
      "Epoch 00015: val_loss did not improve from 1.24738\n",
      "Epoch 16/40\n",
      "105/105 [==============================] - 0s 964us/step - loss: 0.5818 - acc: 0.7905 - val_loss: 1.1242 - val_acc: 0.5926\n",
      "\n",
      "Epoch 00016: val_loss improved from 1.24738 to 1.12419, saving model to best_model.h5\n",
      "Epoch 17/40\n",
      "105/105 [==============================] - 0s 600us/step - loss: 0.6440 - acc: 0.7714 - val_loss: 0.9099 - val_acc: 0.7037\n",
      "\n",
      "Epoch 00017: val_loss improved from 1.12419 to 0.90987, saving model to best_model.h5\n",
      "Epoch 18/40\n",
      "105/105 [==============================] - 0s 555us/step - loss: 0.5117 - acc: 0.8381 - val_loss: 0.9997 - val_acc: 0.5926\n",
      "\n",
      "Epoch 00018: val_loss did not improve from 0.90987\n",
      "Epoch 19/40\n",
      "105/105 [==============================] - 0s 584us/step - loss: 0.4319 - acc: 0.8476 - val_loss: 1.1607 - val_acc: 0.6296\n",
      "\n",
      "Epoch 00019: val_loss did not improve from 0.90987\n",
      "Epoch 20/40\n",
      "105/105 [==============================] - 0s 695us/step - loss: 0.3854 - acc: 0.8381 - val_loss: 1.0874 - val_acc: 0.7037\n",
      "\n",
      "Epoch 00020: val_loss did not improve from 0.90987\n",
      "Epoch 21/40\n",
      "105/105 [==============================] - 0s 697us/step - loss: 0.3552 - acc: 0.8571 - val_loss: 1.0247 - val_acc: 0.6667\n",
      "\n",
      "Epoch 00021: val_loss did not improve from 0.90987\n",
      "Epoch 22/40\n",
      "105/105 [==============================] - 0s 592us/step - loss: 0.3765 - acc: 0.8667 - val_loss: 0.9538 - val_acc: 0.7037\n",
      "\n",
      "Epoch 00022: val_loss did not improve from 0.90987\n",
      "Epoch 23/40\n",
      "105/105 [==============================] - 0s 569us/step - loss: 0.3505 - acc: 0.8857 - val_loss: 1.0382 - val_acc: 0.7407\n",
      "\n",
      "Epoch 00023: val_loss did not improve from 0.90987\n",
      "Epoch 24/40\n",
      "105/105 [==============================] - 0s 587us/step - loss: 0.3477 - acc: 0.8857 - val_loss: 0.8481 - val_acc: 0.7407\n",
      "\n",
      "Epoch 00024: val_loss improved from 0.90987 to 0.84813, saving model to best_model.h5\n",
      "Epoch 25/40\n",
      "105/105 [==============================] - 0s 513us/step - loss: 0.2815 - acc: 0.9048 - val_loss: 0.7870 - val_acc: 0.7037\n",
      "\n",
      "Epoch 00025: val_loss improved from 0.84813 to 0.78700, saving model to best_model.h5\n",
      "Epoch 26/40\n",
      "105/105 [==============================] - 0s 615us/step - loss: 0.2437 - acc: 0.9333 - val_loss: 0.9357 - val_acc: 0.7407\n",
      "\n",
      "Epoch 00026: val_loss did not improve from 0.78700\n",
      "Epoch 27/40\n",
      "105/105 [==============================] - 0s 663us/step - loss: 0.2478 - acc: 0.9333 - val_loss: 0.7671 - val_acc: 0.7407\n",
      "\n",
      "Epoch 00027: val_loss improved from 0.78700 to 0.76707, saving model to best_model.h5\n",
      "Epoch 28/40\n",
      "105/105 [==============================] - 0s 576us/step - loss: 0.2630 - acc: 0.8952 - val_loss: 1.1014 - val_acc: 0.6296\n",
      "\n",
      "Epoch 00028: val_loss did not improve from 0.76707\n",
      "Epoch 29/40\n",
      "105/105 [==============================] - 0s 582us/step - loss: 0.2787 - acc: 0.8762 - val_loss: 0.9654 - val_acc: 0.7407\n",
      "\n",
      "Epoch 00029: val_loss did not improve from 0.76707\n",
      "Epoch 30/40\n",
      "105/105 [==============================] - 0s 566us/step - loss: 0.2782 - acc: 0.8857 - val_loss: 0.9896 - val_acc: 0.7407\n",
      "\n",
      "Epoch 00030: val_loss did not improve from 0.76707\n",
      "Epoch 31/40\n",
      "105/105 [==============================] - 0s 700us/step - loss: 0.1701 - acc: 0.9429 - val_loss: 0.8382 - val_acc: 0.6667\n",
      "\n",
      "Epoch 00031: val_loss did not improve from 0.76707\n",
      "Epoch 32/40\n",
      "105/105 [==============================] - 0s 592us/step - loss: 0.2028 - acc: 0.9238 - val_loss: 0.7693 - val_acc: 0.6667\n",
      "\n",
      "Epoch 00032: val_loss did not improve from 0.76707\n",
      "Epoch 33/40\n",
      "105/105 [==============================] - 0s 505us/step - loss: 0.1363 - acc: 0.9810 - val_loss: 0.7719 - val_acc: 0.7778\n",
      "\n",
      "Epoch 00033: val_loss did not improve from 0.76707\n",
      "Epoch 34/40\n",
      "105/105 [==============================] - 0s 655us/step - loss: 0.0919 - acc: 0.9905 - val_loss: 0.8498 - val_acc: 0.7778\n",
      "\n",
      "Epoch 00034: val_loss did not improve from 0.76707\n",
      "Epoch 35/40\n",
      "105/105 [==============================] - 0s 598us/step - loss: 0.1035 - acc: 0.9905 - val_loss: 0.8121 - val_acc: 0.7778\n",
      "\n",
      "Epoch 00035: val_loss did not improve from 0.76707\n",
      "Epoch 36/40\n",
      "105/105 [==============================] - 0s 605us/step - loss: 0.0924 - acc: 0.9905 - val_loss: 0.7924 - val_acc: 0.7407\n",
      "\n",
      "Epoch 00036: val_loss did not improve from 0.76707\n",
      "Epoch 37/40\n",
      "105/105 [==============================] - 0s 611us/step - loss: 0.0946 - acc: 0.9619 - val_loss: 0.8902 - val_acc: 0.7407\n",
      "\n",
      "Epoch 00037: val_loss did not improve from 0.76707\n",
      "Epoch 38/40\n",
      "105/105 [==============================] - 0s 601us/step - loss: 0.1196 - acc: 0.9619 - val_loss: 1.0257 - val_acc: 0.7037\n",
      "\n",
      "Epoch 00038: val_loss did not improve from 0.76707\n",
      "Epoch 39/40\n",
      "105/105 [==============================] - 0s 602us/step - loss: 0.2212 - acc: 0.9333 - val_loss: 1.1499 - val_acc: 0.7037\n",
      "\n",
      "Epoch 00039: val_loss did not improve from 0.76707\n",
      "Epoch 40/40\n",
      "105/105 [==============================] - 0s 626us/step - loss: 0.1558 - acc: 0.9429 - val_loss: 1.2853 - val_acc: 0.5926\n",
      "\n",
      "Epoch 00040: val_loss did not improve from 0.76707\n"
     ]
    }
   ],
   "source": [
    "from keras.callbacks import EarlyStopping\n",
    "from keras.callbacks import ModelCheckpoint\n",
    "\n",
    "checkpt = ModelCheckpoint(\"best_model.h5\", monitor='val_loss', verbose=True, save_best_only=True)\n",
    "earlystop = EarlyStopping(monitor='val_acc', patience=10)\n",
    "\n",
    "hist = model.fit(embed_matrix_train,YT,batch_size=32,epochs=40,shuffle=True,validation_split=0.2, callbacks=[checkpt, earlystop])\n",
    "# consider params --> model.fit(X_train,YT,validation_split=0.2,epochs=10,batch_size=128)"
   ]
  },
  {
   "cell_type": "code",
   "execution_count": 93,
   "metadata": {},
   "outputs": [
    {
     "name": "stdout",
     "output_type": "stream",
     "text": [
      "[4 3 2 2 2 2 1 2 4 2 1 2 0 2 1 3 2 2 3 2 0 0 4 2 3 1 2 0 1 2 0 1 0 2 0 1 2\n",
      " 3 4 2 1 0 0 1 2 2 2 2 0 1 1 0 3 2 3 0]\n"
     ]
    }
   ],
   "source": [
    "pred = model.predict_classes(embed_matrix_test)\n",
    "\n",
    "print(pred)"
   ]
  },
  {
   "cell_type": "code",
   "execution_count": 94,
   "metadata": {},
   "outputs": [
    {
     "name": "stdout",
     "output_type": "stream",
     "text": [
      "56/56 [==============================] - 0s 387us/step\n"
     ]
    },
    {
     "data": {
      "text/plain": [
       "[1.7502823386873518, 0.5714285969734192]"
      ]
     },
     "execution_count": 94,
     "metadata": {},
     "output_type": "execute_result"
    }
   ],
   "source": [
    "model.evaluate(embed_matrix_test,Yt)"
   ]
  },
  {
   "cell_type": "code",
   "execution_count": null,
   "metadata": {},
   "outputs": [],
   "source": [
    "# for i in range(30):\n",
    "#     print(' '.join(Xt[i]))\n",
    "#     print(emoji.emojize(emoji_dictionary[str(np.argmax(Yt[i]))]))\n",
    "#     print(emoji.emojize(emoji_dictionary[str(pred[i])]))"
   ]
  },
  {
   "cell_type": "code",
   "execution_count": 14,
   "metadata": {},
   "outputs": [],
   "source": [
    "model.save(\"mymodel.h5\")\n",
    "\n",
    "#our model starts to overfit after a certain point. We can save the model upto the point where we get max valdn acc\n",
    "#done using callback"
   ]
  },
  {
   "cell_type": "code",
   "execution_count": 15,
   "metadata": {
    "scrolled": true
   },
   "outputs": [
    {
     "name": "stdout",
     "output_type": "stream",
     "text": [
      "best_model.h5\t\t       IMDB_Classification_RNN_LSTM.ipynb  mymodel.h5\r\n",
      "IMBD_Classification_MLP.ipynb  Img.jpeg\r\n"
     ]
    }
   ],
   "source": [
    "!ls"
   ]
  },
  {
   "cell_type": "code",
   "execution_count": null,
   "metadata": {},
   "outputs": [],
   "source": []
  },
  {
   "cell_type": "markdown",
   "metadata": {},
   "source": [
    "## Testing with random strings"
   ]
  },
  {
   "cell_type": "code",
   "execution_count": 96,
   "metadata": {},
   "outputs": [],
   "source": [
    "with open(\"model.json\", \"w\") as file:\n",
    "    file.write(model.to_json())\n",
    "model.save_weights(\"model.h5\")"
   ]
  },
  {
   "cell_type": "code",
   "execution_count": 97,
   "metadata": {},
   "outputs": [],
   "source": [
    "from keras.models import model_from_json"
   ]
  },
  {
   "cell_type": "code",
   "execution_count": 98,
   "metadata": {},
   "outputs": [],
   "source": [
    "with open(\"model.json\", \"r\") as file:\n",
    "    model=model_from_json(file.read())\n",
    "model.load_weights(\"model.h5\")"
   ]
  },
  {
   "cell_type": "code",
   "execution_count": 99,
   "metadata": {},
   "outputs": [
    {
     "name": "stdout",
     "output_type": "stream",
     "text": [
      "<class 'pandas.core.series.Series'>\n"
     ]
    }
   ],
   "source": [
    "test_str=\"hello, is my payment done yet?\"\n",
    "X = pd.Series(test_str)\n",
    "print(type(X))"
   ]
  },
  {
   "cell_type": "code",
   "execution_count": 119,
   "metadata": {},
   "outputs": [],
   "source": [
    "def getOutputEmbeddings(X):  \n",
    "    X = X.split()\n",
    "    embedding_matrix_output = np.zeros((1,10,50))\n",
    "    for jx in range(len(X)):\n",
    "        embedding_matrix_output[0][jx] = embeddings[X[jx].lower()]\n",
    "            \n",
    "    return embedding_matrix_output"
   ]
  },
  {
   "cell_type": "code",
   "execution_count": 120,
   "metadata": {},
   "outputs": [],
   "source": [
    "emb_X = getOutputEmbeddings(test_str)"
   ]
  },
  {
   "cell_type": "code",
   "execution_count": 121,
   "metadata": {},
   "outputs": [],
   "source": [
    "p = model.predict_classes(emb_X)"
   ]
  },
  {
   "cell_type": "code",
   "execution_count": 123,
   "metadata": {},
   "outputs": [
    {
     "data": {
      "text/plain": [
       "2"
      ]
     },
     "execution_count": 123,
     "metadata": {},
     "output_type": "execute_result"
    }
   ],
   "source": [
    "p[0]"
   ]
  },
  {
   "cell_type": "code",
   "execution_count": null,
   "metadata": {},
   "outputs": [],
   "source": []
  },
  {
   "cell_type": "markdown",
   "metadata": {
    "colab_type": "text",
    "id": "unbqi3nyLOLH"
   },
   "source": [
    "## Visualise our results"
   ]
  },
  {
   "cell_type": "code",
   "execution_count": 0,
   "metadata": {
    "colab": {},
    "colab_type": "code",
    "id": "u3cSoDszLQWd"
   },
   "outputs": [],
   "source": [
    "import matplotlib.pyplot as plt"
   ]
  },
  {
   "cell_type": "code",
   "execution_count": 0,
   "metadata": {
    "colab": {},
    "colab_type": "code",
    "id": "584GtywbLTJE"
   },
   "outputs": [],
   "source": [
    "h = hist.history"
   ]
  },
  {
   "cell_type": "code",
   "execution_count": 0,
   "metadata": {
    "colab": {
     "base_uri": "https://localhost:8080/",
     "height": 365
    },
    "colab_type": "code",
    "id": "IKVASxDBLVCL",
    "outputId": "9ca247eb-8550-45e2-a07c-7f4260d45100"
   },
   "outputs": [
    {
     "data": {
      "image/png": "[encoded data removed]",
      "text/plain": [
       "<Figure size 576x396 with 1 Axes>"
      ]
     },
     "metadata": {
      "tags": []
     },
     "output_type": "display_data"
    }
   ],
   "source": [
    "plt.plot(h['val_loss'],label=\"Validation Loss\")\n",
    "plt.plot(h['loss'],label=\"Training Loss\")\n",
    "plt.xlabel(\"Epochs\")\n",
    "plt.ylabel(\"Loss\")\n",
    "plt.legend()\n",
    "plt.show()"
   ]
  },
  {
   "cell_type": "code",
   "execution_count": 0,
   "metadata": {
    "colab": {
     "base_uri": "https://localhost:8080/",
     "height": 361
    },
    "colab_type": "code",
    "id": "m6uLJMTVLoP9",
    "outputId": "47028154-3a04-4f9e-96df-810892095a01"
   },
   "outputs": [
    {
     "data": {
      "image/png": "[encoded data removed]",
      "text/plain": [
       "<Figure size 576x396 with 1 Axes>"
      ]
     },
     "metadata": {
      "tags": []
     },
     "output_type": "display_data"
    }
   ],
   "source": [
    "plt.plot(h['val_acc'],label=\"Validation Acc\")\n",
    "plt.plot(h['acc'],label=\"Training Acc\")\n",
    "plt.xlabel(\"Epochs\")\n",
    "plt.ylabel(\"Accuracy\")\n",
    "plt.legend()\n",
    "plt.show()"
   ]
  },
  {
   "cell_type": "code",
   "execution_count": 0,
   "metadata": {
    "colab": {
     "base_uri": "https://localhost:8080/",
     "height": 54
    },
    "colab_type": "code",
    "id": "SnyKcMsiMq4w",
    "outputId": "084f2310-5090-42df-f638-205e6158fcd9"
   },
   "outputs": [
    {
     "name": "stdout",
     "output_type": "stream",
     "text": [
      "25000/25000 [==============================] - 2s 83us/step\n"
     ]
    },
    {
     "data": {
      "text/plain": [
       "0.8806"
      ]
     },
     "execution_count": 59,
     "metadata": {
      "tags": []
     },
     "output_type": "execute_result"
    }
   ],
   "source": [
    "model.evaluate(X_test,Y_test)[1]"
   ]
  },
  {
   "cell_type": "code",
   "execution_count": 0,
   "metadata": {
    "colab": {
     "base_uri": "https://localhost:8080/",
     "height": 54
    },
    "colab_type": "code",
    "id": "OZS8s7pwM2Dl",
    "outputId": "7f7188ab-ed32-41cd-9121-ed2280437f05"
   },
   "outputs": [
    {
     "name": "stdout",
     "output_type": "stream",
     "text": [
      "25000/25000 [==============================] - 2s 84us/step\n"
     ]
    },
    {
     "data": {
      "text/plain": [
       "0.9428"
      ]
     },
     "execution_count": 60,
     "metadata": {
      "tags": []
     },
     "output_type": "execute_result"
    }
   ],
   "source": [
    "model.evaluate(X_train,Y_train)[1]"
   ]
  },
  {
   "cell_type": "code",
   "execution_count": 0,
   "metadata": {
    "colab": {
     "base_uri": "https://localhost:8080/",
     "height": 146
    },
    "colab_type": "code",
    "id": "rbL0sMuuNCBh",
    "outputId": "7bcd41dd-25b0-4683-ae42-7797461dcb4e"
   },
   "outputs": [
    {
     "data": {
      "text/plain": [
       "array([[0.32389975],\n",
       "       [0.999739  ],\n",
       "       [0.67278445],\n",
       "       ...,\n",
       "       [0.16619593],\n",
       "       [0.15570958],\n",
       "       [0.6937666 ]], dtype=float32)"
      ]
     },
     "execution_count": 61,
     "metadata": {
      "tags": []
     },
     "output_type": "execute_result"
    }
   ],
   "source": [
    "model.predict(X_test)"
   ]
  },
  {
   "cell_type": "code",
   "execution_count": null,
   "metadata": {},
   "outputs": [],
   "source": [
    "## Visualise our results\n",
    "\n",
    "import matplotlib.pyplot as plt\n",
    "\n",
    "h = hist.history\n",
    "\n",
    "plt.plot(h['val_loss'],label=\"Validation Loss\")\n",
    "plt.plot(h['loss'],label=\"Training Loss\")\n",
    "plt.xlabel(\"Epochs\")\n",
    "plt.ylabel(\"Loss\")\n",
    "plt.legend()\n",
    "plt.show()\n",
    "\n",
    "plt.plot(h['val_acc'],label=\"Validation Acc\")\n",
    "plt.plot(h['acc'],label=\"Training Acc\")\n",
    "plt.xlabel(\"Epochs\")\n",
    "plt.ylabel(\"Accuracy\")\n",
    "plt.legend()\n",
    "plt.show()\n",
    "\n",
    "model.evaluate(X_test,Y_test)[1]\n",
    "\n",
    "\n",
    "\n",
    "model.evaluate(X_train,Y_train)[1]\n",
    "\n",
    "model.predict(X_test)\n",
    "\n"
   ]
  },
  {
   "cell_type": "code",
   "execution_count": null,
   "metadata": {},
   "outputs": [],
   "source": []
  },
  {
   "cell_type": "markdown",
   "metadata": {},
   "source": [
    "## Cells that may be useful"
   ]
  },
  {
   "cell_type": "code",
   "execution_count": null,
   "metadata": {},
   "outputs": [],
   "source": [
    "combined = list(zip(data, labels))\n",
    "random.shuffle(combined)\n",
    "\n",
    "data[:], labels[:] = zip(*combined)"
   ]
  },
  {
   "cell_type": "code",
   "execution_count": null,
   "metadata": {},
   "outputs": [],
   "source": [
    "hist = model_new.fit(X_train, Y_train,\n",
    "                    shuffle = True,\n",
    "                    batch_size=16,\n",
    "                    epochs=5, #most wts have already been trained so dont need large no of epochs\n",
    "                    validation_split=0.20)"
   ]
  }
 ],
 "metadata": {
  "kernelspec": {
   "display_name": "Python 3",
   "language": "python",
   "name": "python3"
  },
  "language_info": {
   "codemirror_mode": {
    "name": "ipython",
    "version": 3
   },
   "file_extension": ".py",
   "mimetype": "text/x-python",
   "name": "python",
   "nbconvert_exporter": "python",
   "pygments_lexer": "ipython3",
   "version": "3.7.6"
  }
 },
 "nbformat": 4,
 "nbformat_minor": 2
}
