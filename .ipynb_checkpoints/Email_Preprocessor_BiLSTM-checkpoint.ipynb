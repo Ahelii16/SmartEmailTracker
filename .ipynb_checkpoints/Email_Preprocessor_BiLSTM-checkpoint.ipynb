{
 "cells": [
  {
   "cell_type": "markdown",
   "metadata": {
    "colab_type": "text",
    "id": "-V8kgpQoNevU"
   },
   "source": [
    "## APPROACH:\n",
    "### 1. Loading custom dataset\n",
    "### 2. NLP pipeline for text preprocessing\n",
    "### 3. Loading Glove embedding matrix\n",
    "### 4. Converting sentences to vectors (creating the o/p of embedding layer)\n",
    "### 5. Creating Keras embedding layer and feeding to biLSTM\n",
    "### 6. Results visualization and comparison"
   ]
  },
  {
   "cell_type": "code",
   "execution_count": 1,
   "metadata": {
    "colab": {},
    "colab_type": "code",
    "id": "ukjzKQpYNevY"
   },
   "outputs": [
    {
     "name": "stderr",
     "output_type": "stream",
     "text": [
      "Using TensorFlow backend.\n"
     ]
    }
   ],
   "source": [
    "import re\n",
    "import numpy as np \n",
    "import pandas as pd\n",
    "import matplotlib.pyplot as plt\n",
    "%matplotlib inline\n",
    "import seaborn as sns; sns.set_style('whitegrid')\n",
    "\n",
    "# NLP\n",
    "from nltk.tokenize.regexp import RegexpTokenizer\n",
    "#from sklearn.feature_extraction.text import TfidfVectorizer,CountVectorizer\n",
    "\n",
    "# import gensim\n",
    "import spacy\n",
    "import en_core_web_sm\n",
    "from keras.preprocessing.text import Tokenizer\n",
    "from keras.preprocessing.sequence import pad_sequences\n",
    "from keras.models import Sequential\n",
    "from keras.layers import *\n",
    "from sklearn.model_selection import train_test_split\n",
    "from sklearn.metrics import classification_report, precision_recall_curve"
   ]
  },
  {
   "cell_type": "markdown",
   "metadata": {
    "colab_type": "text",
    "id": "9HeZLnm4Nevc"
   },
   "source": [
    "## Step 1: Load dataset"
   ]
  },
  {
   "cell_type": "code",
   "execution_count": 2,
   "metadata": {
    "colab": {
     "base_uri": "https://localhost:8080/",
     "height": 74,
     "resources": {
      "http://localhost:8080/nbextensions/google.colab/files.js": {
       "data": "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",
       "headers": [
        [
         "content-type",
         "application/javascript"
        ]
       ],
       "ok": true,
       "status": 200,
       "status_text": ""
      }
     }
    },
    "colab_type": "code",
    "id": "SBX1QUPCN5_Y",
    "outputId": "fbad1c7e-51bb-481a-e189-8000bd58984c"
   },
   "outputs": [],
   "source": [
    "# from google.colab import files\n",
    "# uploaded = files.upload()"
   ]
  },
  {
   "cell_type": "code",
   "execution_count": 7,
   "metadata": {
    "colab": {
     "base_uri": "https://localhost:8080/",
     "height": 313
    },
    "colab_type": "code",
    "id": "HyjYt1qMNevd",
    "outputId": "7e1bbdd3-eed8-4ba2-a5c7-33435be14f43"
   },
   "outputs": [
    {
     "name": "stdout",
     "output_type": "stream",
     "text": [
      "(951, 7)\n"
     ]
    },
    {
     "data": {
      "text/html": [
       "<div>\n",
       "<style scoped>\n",
       "    .dataframe tbody tr th:only-of-type {\n",
       "        vertical-align: middle;\n",
       "    }\n",
       "\n",
       "    .dataframe tbody tr th {\n",
       "        vertical-align: top;\n",
       "    }\n",
       "\n",
       "    .dataframe thead th {\n",
       "        text-align: right;\n",
       "    }\n",
       "</style>\n",
       "<table border=\"1\" class=\"dataframe\">\n",
       "  <thead>\n",
       "    <tr style=\"text-align: right;\">\n",
       "      <th></th>\n",
       "      <th>From</th>\n",
       "      <th>To</th>\n",
       "      <th>Subject</th>\n",
       "      <th>Body</th>\n",
       "      <th>Class</th>\n",
       "      <th>TransactionID</th>\n",
       "      <th>Payment Date</th>\n",
       "    </tr>\n",
       "  </thead>\n",
       "  <tbody>\n",
       "    <tr>\n",
       "      <th>0</th>\n",
       "      <td>Spike@DEUTSCHEBANK.com</td>\n",
       "      <td>Shaniece@CitiBankPune.com</td>\n",
       "      <td>Transaction no. 072558 is unresolved.</td>\n",
       "      <td>Sorry to inform that there has been only a par...</td>\n",
       "      <td>Pending</td>\n",
       "      <td>72558</td>\n",
       "      <td>04-02-2020</td>\n",
       "    </tr>\n",
       "    <tr>\n",
       "      <th>1</th>\n",
       "      <td>Stacy@HDFC.com</td>\n",
       "      <td>Rohan@CitiBankNewYork.com</td>\n",
       "      <td>Order for new Cheque book</td>\n",
       "      <td>Good morning, I want to place an order for an ...</td>\n",
       "      <td>General</td>\n",
       "      <td>212096</td>\n",
       "      <td>29-05-2020</td>\n",
       "    </tr>\n",
       "    <tr>\n",
       "      <th>2</th>\n",
       "      <td>Zachary@HDFC.com</td>\n",
       "      <td>Rishabh@CitiBankPune.com</td>\n",
       "      <td>Required money acquired. Transaction 847047 is...</td>\n",
       "      <td>Hello! This is to inform you that I have recei...</td>\n",
       "      <td>Processing</td>\n",
       "      <td>847047</td>\n",
       "      <td>26-01-2020</td>\n",
       "    </tr>\n",
       "    <tr>\n",
       "      <th>3</th>\n",
       "      <td>Stacy@SBI.com</td>\n",
       "      <td>Shai@CitiBankHongKong.com</td>\n",
       "      <td>Asking for the details for transaction 746078</td>\n",
       "      <td>I request you to kindly send the status of my ...</td>\n",
       "      <td>Request</td>\n",
       "      <td>746078</td>\n",
       "      <td>17-06-2019</td>\n",
       "    </tr>\n",
       "    <tr>\n",
       "      <th>4</th>\n",
       "      <td>Angela@HDFC.com</td>\n",
       "      <td>Dipesh@CitiBankSingapore.com</td>\n",
       "      <td>Partial payment for transaction 535918</td>\n",
       "      <td>Hello!! Greetings for the day. Status of trans...</td>\n",
       "      <td>Pending</td>\n",
       "      <td>535918</td>\n",
       "      <td>18-02-2020</td>\n",
       "    </tr>\n",
       "  </tbody>\n",
       "</table>\n",
       "</div>"
      ],
      "text/plain": [
       "                     From                            To  \\\n",
       "0  Spike@DEUTSCHEBANK.com     Shaniece@CitiBankPune.com   \n",
       "1          Stacy@HDFC.com     Rohan@CitiBankNewYork.com   \n",
       "2        Zachary@HDFC.com      Rishabh@CitiBankPune.com   \n",
       "3           Stacy@SBI.com     Shai@CitiBankHongKong.com   \n",
       "4         Angela@HDFC.com  Dipesh@CitiBankSingapore.com   \n",
       "\n",
       "                                             Subject  \\\n",
       "0              Transaction no. 072558 is unresolved.   \n",
       "1                          Order for new Cheque book   \n",
       "2  Required money acquired. Transaction 847047 is...   \n",
       "3      Asking for the details for transaction 746078   \n",
       "4             Partial payment for transaction 535918   \n",
       "\n",
       "                                                Body       Class  \\\n",
       "0  Sorry to inform that there has been only a par...     Pending   \n",
       "1  Good morning, I want to place an order for an ...     General   \n",
       "2  Hello! This is to inform you that I have recei...  Processing   \n",
       "3  I request you to kindly send the status of my ...     Request   \n",
       "4  Hello!! Greetings for the day. Status of trans...     Pending   \n",
       "\n",
       "   TransactionID Payment Date  \n",
       "0          72558   04-02-2020  \n",
       "1         212096   29-05-2020  \n",
       "2         847047   26-01-2020  \n",
       "3         746078   17-06-2019  \n",
       "4         535918   18-02-2020  "
      ]
     },
     "execution_count": 7,
     "metadata": {},
     "output_type": "execute_result"
    }
   ],
   "source": [
    "# emails_df = pd.read_csv('./emails.csv', nrows=20000)\n",
    "df = pd.read_csv('/home/aheli/emaildataset.csv', encoding='cp1252')\n",
    "print(df.shape)\n",
    "df.head()"
   ]
  },
  {
   "cell_type": "code",
   "execution_count": 9,
   "metadata": {
    "colab": {
     "base_uri": "https://localhost:8080/",
     "height": 50
    },
    "colab_type": "code",
    "id": "Hl3jF38xNevi",
    "outputId": "627ebdb1-190b-4a13-d9e3-9e1516bb36b2"
   },
   "outputs": [
    {
     "data": {
      "text/plain": [
       "array(['Pending', 'General', 'Processing', 'Request', 'Complete',\n",
       "       'Failed'], dtype=object)"
      ]
     },
     "execution_count": 9,
     "metadata": {},
     "output_type": "execute_result"
    }
   ],
   "source": [
    "df.Class.unique()"
   ]
  },
  {
   "cell_type": "code",
   "execution_count": null,
   "metadata": {
    "colab": {},
    "colab_type": "code",
    "id": "lMWlven4Nevm"
   },
   "outputs": [],
   "source": []
  },
  {
   "cell_type": "code",
   "execution_count": 10,
   "metadata": {
    "colab": {},
    "colab_type": "code",
    "id": "w0VbJ--CNevq"
   },
   "outputs": [],
   "source": [
    "nlp_ = en_core_web_sm.load()"
   ]
  },
  {
   "cell_type": "code",
   "execution_count": 11,
   "metadata": {
    "colab": {},
    "colab_type": "code",
    "id": "NRoh7gFDNevu"
   },
   "outputs": [],
   "source": [
    "nlp = spacy.load('en')"
   ]
  },
  {
   "cell_type": "code",
   "execution_count": 12,
   "metadata": {
    "colab": {},
    "colab_type": "code",
    "id": "XC6CTaWfNevy"
   },
   "outputs": [],
   "source": [
    "encoding='cp1252'encoding='cp1252'def clean(text):\n",
    "    \n",
    "    text=text.rstrip()\n",
    "    text = re.sub(r'[^a-zA-Z]', ' ', text)\n",
    "    text = \" \".join([i for i in text.lower().split()])\n",
    "    print(text)\n",
    "    \n",
    "    customize_stop_words = [\"cc\",\"subject\",\"http\", \"gbp\", \"usd\", \"eur\", \"inr\", \"cad\",\"thanks\", \"acc\", \"id\", \"account\", \"regards\", \"hi\", \"hello\", \"thank you\", \"greetings\"]\n",
    "    rem_stop = [\"not\", \"wasn't\", \"hadn't\", \"won't\", \"can't\", \"didn't\"]\n",
    "    \n",
    "    for w in customize_stop_words:\n",
    "        nlp.vocab[w].is_stop = True\n",
    "    \n",
    "    for w in rem_stop:\n",
    "        nlp.vocab[w].is_stop = False\n",
    "    \n",
    "    doc = nlp(text)\n",
    "    \n",
    "    normalized = \" \".join(token.lemma_ for token in doc if not token.is_stop)\n",
    "    \n",
    "    doc = \" \".join(token.orth_ for token in nlp(normalized) if not token.is_punct | token.is_space)\n",
    "\n",
    "#     exclude = set(string.punctuation) \n",
    "#     lemma = WordNetLemmatizer()\n",
    "#     porter= PorterStemmer()\n",
    "\n",
    "    # IS AMOUNT EXTRACTION  NEEDED?\n",
    "    #amount = \"\".join([i for i in text.lower().split() if i.isdigit()])\n",
    "    \n",
    "#     stop_free = \" \".join([i for i in text.lower().split() if((i not in stop) and (not i.isdigit()))])\n",
    "#     punc_free = ''.join(ch for ch in stop_free if ch not in exclude)\n",
    "#     doc = lemma(punc_free)\n",
    "    \n",
    "#     normalized = \" \".join(lemma(word) for token in punc_free.split())\n",
    "#     stem = \" \".join(porter.stem(token) for token in normalized.split())\n",
    "#     return normalized, amount\n",
    "\n",
    "#     return normalized\n",
    "    return doc"
   ]
  },
  {
   "cell_type": "code",
   "execution_count": 13,
   "metadata": {
    "colab": {
     "base_uri": "https://localhost:8080/",
     "height": 50
    },
    "colab_type": "code",
    "id": "h9ZwKiIFNev2",
    "outputId": "b53bfafe-4c29-4ccc-c76c-44e1cd441478"
   },
   "outputs": [
    {
     "name": "stdout",
     "output_type": "stream",
     "text": [
      "payment in id for amount gbp has been freezed\n",
      "payment would freeze\n"
     ]
    }
   ],
   "source": [
    "print(clean(\"payment in id 1234 for amount 14859 GBP has been freezed\"))"
   ]
  },
  {
   "cell_type": "code",
   "execution_count": null,
   "metadata": {
    "colab": {},
    "colab_type": "code",
    "id": "sAJsZ0GINev6"
   },
   "outputs": [],
   "source": []
  },
  {
   "cell_type": "code",
   "execution_count": 14,
   "metadata": {
    "colab": {},
    "colab_type": "code",
    "id": "b31Nt6hZNev9"
   },
   "outputs": [],
   "source": [
    "for i in range(df.shape[0]):\n",
    "    # merge subject and body strings\n",
    "    df['Text_Data'] = (df['Subject'] + \" \" + df['Body'])"
   ]
  },
  {
   "cell_type": "code",
   "execution_count": 15,
   "metadata": {
    "colab": {},
    "colab_type": "code",
    "id": "GUieeBcNNewB"
   },
   "outputs": [],
   "source": [
    "def converter(x):\n",
    "    try:\n",
    "        return ' '.join([x.lower() for x in str(x).split()])\n",
    "    except AttributeError:\n",
    "        return None  # or some other value\n",
    "\n",
    "df['Text_Data'] = df['Text_Data'].apply(converter)"
   ]
  },
  {
   "cell_type": "code",
   "execution_count": 16,
   "metadata": {
    "colab": {
     "base_uri": "https://localhost:8080/",
     "height": 330
    },
    "colab_type": "code",
    "id": "vISqXHZPNewE",
    "outputId": "416bac65-1677-4d8d-a2e8-4b88dab56b10"
   },
   "outputs": [
    {
     "data": {
      "text/html": [
       "<div>\n",
       "<style scoped>\n",
       "    .dataframe tbody tr th:only-of-type {\n",
       "        vertical-align: middle;\n",
       "    }\n",
       "\n",
       "    .dataframe tbody tr th {\n",
       "        vertical-align: top;\n",
       "    }\n",
       "\n",
       "    .dataframe thead th {\n",
       "        text-align: right;\n",
       "    }\n",
       "</style>\n",
       "<table border=\"1\" class=\"dataframe\">\n",
       "  <thead>\n",
       "    <tr style=\"text-align: right;\">\n",
       "      <th></th>\n",
       "      <th>From</th>\n",
       "      <th>To</th>\n",
       "      <th>Subject</th>\n",
       "      <th>Body</th>\n",
       "      <th>Class</th>\n",
       "      <th>TransactionID</th>\n",
       "      <th>Payment Date</th>\n",
       "      <th>Text_Data</th>\n",
       "    </tr>\n",
       "  </thead>\n",
       "  <tbody>\n",
       "    <tr>\n",
       "      <th>0</th>\n",
       "      <td>Spike@DEUTSCHEBANK.com</td>\n",
       "      <td>Shaniece@CitiBankPune.com</td>\n",
       "      <td>Transaction no. 072558 is unresolved.</td>\n",
       "      <td>Sorry to inform that there has been only a par...</td>\n",
       "      <td>Pending</td>\n",
       "      <td>72558</td>\n",
       "      <td>04-02-2020</td>\n",
       "      <td>transaction no. 072558 is unresolved. sorry to...</td>\n",
       "    </tr>\n",
       "    <tr>\n",
       "      <th>1</th>\n",
       "      <td>Stacy@HDFC.com</td>\n",
       "      <td>Rohan@CitiBankNewYork.com</td>\n",
       "      <td>Order for new Cheque book</td>\n",
       "      <td>Good morning, I want to place an order for an ...</td>\n",
       "      <td>General</td>\n",
       "      <td>212096</td>\n",
       "      <td>29-05-2020</td>\n",
       "      <td>order for new cheque book good morning, i want...</td>\n",
       "    </tr>\n",
       "    <tr>\n",
       "      <th>2</th>\n",
       "      <td>Zachary@HDFC.com</td>\n",
       "      <td>Rishabh@CitiBankPune.com</td>\n",
       "      <td>Required money acquired. Transaction 847047 is...</td>\n",
       "      <td>Hello! This is to inform you that I have recei...</td>\n",
       "      <td>Processing</td>\n",
       "      <td>847047</td>\n",
       "      <td>26-01-2020</td>\n",
       "      <td>required money acquired. transaction 847047 is...</td>\n",
       "    </tr>\n",
       "    <tr>\n",
       "      <th>3</th>\n",
       "      <td>Stacy@SBI.com</td>\n",
       "      <td>Shai@CitiBankHongKong.com</td>\n",
       "      <td>Asking for the details for transaction 746078</td>\n",
       "      <td>I request you to kindly send the status of my ...</td>\n",
       "      <td>Request</td>\n",
       "      <td>746078</td>\n",
       "      <td>17-06-2019</td>\n",
       "      <td>asking for the details for transaction 746078 ...</td>\n",
       "    </tr>\n",
       "    <tr>\n",
       "      <th>4</th>\n",
       "      <td>Angela@HDFC.com</td>\n",
       "      <td>Dipesh@CitiBankSingapore.com</td>\n",
       "      <td>Partial payment for transaction 535918</td>\n",
       "      <td>Hello!! Greetings for the day. Status of trans...</td>\n",
       "      <td>Pending</td>\n",
       "      <td>535918</td>\n",
       "      <td>18-02-2020</td>\n",
       "      <td>partial payment for transaction 535918 hello!!...</td>\n",
       "    </tr>\n",
       "  </tbody>\n",
       "</table>\n",
       "</div>"
      ],
      "text/plain": [
       "                     From                            To  \\\n",
       "0  Spike@DEUTSCHEBANK.com     Shaniece@CitiBankPune.com   \n",
       "1          Stacy@HDFC.com     Rohan@CitiBankNewYork.com   \n",
       "2        Zachary@HDFC.com      Rishabh@CitiBankPune.com   \n",
       "3           Stacy@SBI.com     Shai@CitiBankHongKong.com   \n",
       "4         Angela@HDFC.com  Dipesh@CitiBankSingapore.com   \n",
       "\n",
       "                                             Subject  \\\n",
       "0              Transaction no. 072558 is unresolved.   \n",
       "1                          Order for new Cheque book   \n",
       "2  Required money acquired. Transaction 847047 is...   \n",
       "3      Asking for the details for transaction 746078   \n",
       "4             Partial payment for transaction 535918   \n",
       "\n",
       "                                                Body       Class  \\\n",
       "0  Sorry to inform that there has been only a par...     Pending   \n",
       "1  Good morning, I want to place an order for an ...     General   \n",
       "2  Hello! This is to inform you that I have recei...  Processing   \n",
       "3  I request you to kindly send the status of my ...     Request   \n",
       "4  Hello!! Greetings for the day. Status of trans...     Pending   \n",
       "\n",
       "   TransactionID Payment Date  \\\n",
       "0          72558   04-02-2020   \n",
       "1         212096   29-05-2020   \n",
       "2         847047   26-01-2020   \n",
       "3         746078   17-06-2019   \n",
       "4         535918   18-02-2020   \n",
       "\n",
       "                                           Text_Data  \n",
       "0  transaction no. 072558 is unresolved. sorry to...  \n",
       "1  order for new cheque book good morning, i want...  \n",
       "2  required money acquired. transaction 847047 is...  \n",
       "3  asking for the details for transaction 746078 ...  \n",
       "4  partial payment for transaction 535918 hello!!...  "
      ]
     },
     "execution_count": 16,
     "metadata": {},
     "output_type": "execute_result"
    }
   ],
   "source": [
    "df.head()"
   ]
  },
  {
   "cell_type": "code",
   "execution_count": 17,
   "metadata": {
    "colab": {
     "base_uri": "https://localhost:8080/",
     "height": 1000
    },
    "colab_type": "code",
    "id": "yPPuAB9bNewI",
    "outputId": "719fa62b-da70-4c7a-c5c5-a02e34545d77"
   },
   "outputs": [
    {
     "name": "stdout",
     "output_type": "stream",
     "text": [
      "transaction no is unresolved sorry to inform that there has been only a partial payment of amount gbp you are definitely going to receive the rest at a later point of time warm regards\n",
      "order for new cheque book good morning i want to place an order for an multicity cheque book for account no having atleat leaves kindly send the same to the address mentioned in my account records\n",
      "required money acquired transaction is in process hello this is to inform you that i have received the amount you transferred to my account and now it is currently in process\n",
      "asking for the details for transaction i request you to kindly send the status of my transaction with id thanks and regards\n",
      "partial payment for transaction hello greetings for the day status of transaction usd for account is pending i would be grateful if you could tell me the cause thanks a lot\n",
      "payment done and transaction settled greetings i wanted to let you know that i have acknowledged the payment for transaction in response to your email which confirmed the finalized status of my transaction thanks and regards\n",
      "failure of transaction this is to notify you that my transaction has failed please reply to me with the cause as soon as possible\n",
      "send steps to activate online banking hey i have to transfer funds to a different bank account urgently and now due to lockdown i only have the option to do online banking i would appreciate if you send me the instructions for the same thanks in advance\n",
      "incomplete transaction i regret to inform you that i could only pay the partial amount of eur i will definitely pay the remaining amount as soon as possible thank you for you supreme patience and understanding regards\n",
      "failure of transaction hey i see my transaction with id has failed i think i did everything right please look into this and reply with the reason urgently thank you and regards\n",
      "the pending amount for transaction will reach you soon since my transaction is still pending i wanted to know if there is a problem with the paperwork from my side please let me know at the earliest thanks and regards\n",
      "handling the transaction after payment sincere greetings i am glad to tell you that i have finally been granted the pre approved amount through transaction it is now being processed i am grateful for your support warm regards\n",
      "upgrade to an account with more benefits hello greetings for the day so i have an account with your branch having no and i have recently seen an advertisement which states that if i become a premium customer i can avail many benefits i have decided to upgrade my account can you please guide me through the steps to be taken in order to do this i would be very grateful if you reply within days thank you\n",
      "processing transaction having id acknowledging the received payment for transaction it is finally in process i am appreciative of your efforts kind regards\n",
      "issue a new cheque book warm greetings to you i have recently exhausted my cheque book and would like to order a new one it should have cheques in it my preference is multicity cheques send them to me at the earliest opportunity expecting to hear from you soon\n",
      "the pending amount for transaction will reach you soon i regret to inform you the i could only pay the partial amount of usd i will definitely pay the remaining amount as soon as possible thank you for understanding regards\n",
      "transaction having id has stopped help i have been your regular client and have followed the procedure for creating a transaction correctly still i received an email saying that the transaction has failed i would like to know the reasoning my transaction id is regards\n",
      "change address for account no hey it s me again this time i want to change the address mentioned in your records since i have recently moved out of my previous place my new address is windsor road london please update this one thanks\n",
      "partially paid the required amount for transaction there has been only a partial payment of amount gbp assuring you that the rest will be paid later warm regards\n",
      "there is an outstanding payment for transaction the transaction is taking too long to complete it would be nice of you to guide me through the further steps to be taken in order to complete the transaction hoping to hear from you at the earliest opportunity\n",
      "sorted out the transaction with id greetings i wanted to let you know that i have acknowledged the payment for transaction in response to your email which confirmed the finalized status of my transaction thanks and regards\n",
      "handling the transaction after payment thank you for transferring the payment to my account yesterday i appreciate the quick response i would like to inform you that is is currently in process thanks and regards\n",
      "transaction has failed i have been your regular client and have followed the procedure for creating a transaction correctly still i received an email saying that the transaction has failed i would like to know the reasoning my transaction id is regards\n",
      "failure of transaction greetings for the day i checked my inbox and found your email stating the failure of my transaction please help me understand why has failed need funds urgently patiently waiting for you reply thanks a lot\n",
      "accepted payment transaction currently processing acknowledging the received payment for transaction it is finally in process kind regards\n",
      "transaction is complete to whom it may concern i just received payment for the transaction i am grateful for your cooperation thank you so much and regards\n",
      "transaction no is unresolved hey sincere apologies for transferring a fraction of the amount we agreed on please be assured that the rest is being transferred as of now thanks a lot for understanding\n",
      "urgent not able to withdraw amount this is to inform you that i am not able to withdraw money from my account please help this is urgently required\n",
      "accepted payment transaction currently processing acknowledging the received payment for transaction it is finally in process kind regards\n",
      "payment received for transaction and now processing acknowledging the received payment for transaction it is finally in process kind regards\n",
      "accepted payment transaction currently processing thank you for transferring the payment to my account yesterday i appreciate the quick response i would like to inform you that is is currently in process thanks and regards\n",
      "processing transaction having id sincere greetings i am glad to tell you that i have finally been granted the pre approved amount through transaction it is now being processed i am grateful for your support warm regards\n",
      "request to send details of transaction can you please tell me the amount transferred through transaction id thanks\n",
      "fulfilled transaction having id hello sincere greetings for the day i would like to inform you that my transaction has completed thank you so much for your support looking forward to working more with you in the future regards\n",
      "transaction has failed this is to notify you that my transaction has failed kindly help me understand why did this happen did i do something wrong i am pretty sure i followed every instruction very carefully this was very unexpected perhaps this is a technical failure from your side eagerly waiting for you to reply\n",
      "sorted out the transaction with id hey i am writing in reference to the transaction i was granted the aforementioned amount within the deadline sincere gratitude for such a quick response kind regards\n",
      "pending payment for transaction having id hey sincere apologies for transferring a fraction of the amount we agreed on please be assured that the rest is being transferred as of now thanks a lot for understanding\n",
      "payment done and transaction settled greetings i wanted to let you know that i have acknowledged the payment for transaction in response to your email which confirmed the finalized status of my transaction thanks and regards\n",
      "transaction has failed this is to notify you that my transaction has failed please reply to me with the cause as soon as possible\n",
      "want to know more about being a premium customer sincere greetings i recently came across an offer saying i would have higher interest rates if i am willing to upgrade my account to a premium one i want to base my decision on its pros as well as cons so perhaps you could throw some light on it that woud be very kind of you\n",
      "want to block account hey i think i lost my atm card today so can you please block my account or tell me a way to change my pin no i urgently need your reply thanks in advance\n",
      "imploring update on transaction can you please tell me the amount transferred through transaction id thanks\n",
      "urgent transaction ceased this is to notify you that my transaction has failed please reply to me with the cause as soon as possible\n",
      "transaction stalled and payment not received this is in response to your email stating that my transaction having id has failed but no reason was mentioned can you please tell me what did i do wrong so that i can create a new one without any errors waiting for your reply thank you in advance\n",
      "how to change pin no of atm card please reply this is very urgent i have to change the pin no for atm card associated with account no since it was stolen from me last night or suggest some other way to keep my money secure\n"
     ]
    },
    {
     "name": "stdout",
     "output_type": "stream",
     "text": [
      "seeking update on the status of transaction i need details of urgently please provide the same on priority basis\n",
      "concluded the transaction greetings i wanted to let you know that i have acknowledged the payment for transaction in response to your email which confirmed the finalized status of my transaction thanks and regards\n",
      "payment outstanding for transaction this is to regretfully inform you that i could only pay the partial amount of inr i will definitely pay the remaining amount as soon as possible thank you for understanding regards\n",
      "fulfilled transaction having id i deeply appreciate your quick service as i have received the pre approved loan amount of eur\n",
      "fulfilled transaction having id to whom it may concern i have successfully received payment for the transaction i am grateful for your cooperation thank you so much and regards\n",
      "incomplete transaction the transaction is taking too long to complete i would request you to kindly guide me through the further steps to be taken in order to complete the transaction\n",
      "mobile banking steps i would like to know the instructions to be followed to install and setup mobile banking please reply to me with the same thanks in advance\n",
      "send me transactional details for kindly reply to me at the earliest with the last transactions made with the account no thanks in advance\n",
      "asking for the details for transaction i request you to kindly send the status of my transaction with id thanks and regards\n",
      "payment received for transaction and now processing sincere greetings i am glad to tell you that i have finally been granted the pre approved amount through transaction it is now being processed i am grateful for your support warm regards\n",
      "payment outstanding for transaction i regret to inform you the i could only pay the partial amount of inr i will definitely pay the remaining amount as soon as possible thank you for understanding regards\n",
      "request to send details of transaction i request you to kindly send the status of my transaction with id thanks and regards\n",
      "urgent transaction ceased this is to notify you that my transaction has failed please reply to me with the cause as soon as possible\n",
      "payment received for transaction and now processing sincere greetings i am glad to tell you that i have finally been granted the pre approved amount through transaction it is now being processed i am grateful for your support warm regards\n",
      "failure of transaction this is in response to your email stating that my transaction having id has failed but no reason was mentioned can you please tell me what did i do wrong so that i can create a new one without any errors waiting for your reply thank you in advance\n",
      "transaction having id has stopped help i have been your regular client and have followed the procedure for creating a transaction correctly still i received an email saying that the transaction has failed i would like to know the reasoning my transaction id is regards\n",
      "concluded the transaction glad to let you know that i got the desired payment in reference to transaction i am very happy with your services and will definitely recommend your company to my friends and acquaintances warm regards\n",
      "handling the transaction after payment acknowledging the received payment for transaction it is finally in process kind regards\n",
      "payment received for transaction and now processing hello this is to inform you that i have received the amount you transferred to my account and now it is currently in process\n",
      "lost atm card hey i think i lost my atm card today so can you please block my account or tell me a way to change my pin no i urgently need your reply thanks in advance\n",
      "urgently required update on transaction can you please tell me the amount transferred through transaction id thanks\n",
      "transaction is now being processed this is in response to your email notifying about the transferred amount i am acknowledging it and informing you that it is now in process\n",
      "sorted out the transaction with id glad to let you know that i got the desired payment in reference to transaction i am very happy with your services and will definitely recommend your company to my friends and acquaintances warm regards\n",
      "received full payment for transaction no i deeply appreciate your quick service as i have received the pre approved loan amount of usd\n",
      "seeking update on the status of transaction can you please tell me the amount transferred through transaction id thanks\n",
      "transaction is complete glad to let you know that i got the desired payment in reference to transaction i am very happy with your services and will definitely recommend your company to my friends and acquaintances warm regards\n",
      "payment is pending for transaction since my transaction is still pending i wanted to know if there is a problem with the paperwork from my side please let me know at the earliest thanks and regards\n",
      "required money acquired transaction is in process acknowledging the received payment for transaction it is finally in process kind regards\n",
      "concluded the transaction to whom it may concern i have successfully received payment for the transaction i am grateful for your cooperation thank you so much and regards\n",
      "partially paid the required amount for transaction i regret to inform you the i could only pay the partial amount of inr i will definitely pay the remaining amount as soon as possible thank you for understanding regards\n",
      "create a new bank account hey can you please send me the detailed steps that i ought to follow to create a new bank account\n",
      "the pending amount for transaction will reach you soon there has been only a partial payment of amount gbp assuring you that the rest will be paid later warm regards\n",
      "failure of transaction i have been your regular client and have followed the procedure for creating a transaction correctly still i received an email saying that the transaction has failed i would like to know the reasoning my transaction id is regards\n",
      "completed transaction no i deeply appreciate your quick service as i have received the pre approved loan amount of gbp\n",
      "why cant i withdraw money with my atm card i need a new cheque book of leaves kindly send the same to my current address which is present in the details of my account\n",
      "urgent transaction ceased hey i see my transaction with id has failed i think i did everything right please look into this and reply with the reason urgently thank you and regards\n",
      "partially paid the required amount for transaction hey sincere apologies for transferring a fraction of the amount we agreed on please be assured that the rest is being transferred as of now thanks a lot for understanding\n",
      "partially paid the required amount for transaction hello greetings for the day status of transaction usd for account is pending i would be grateful if you could tell me the cause thanks a lot\n",
      "soliciting information for id hey i was hoping if you would be kind enough to tell me the details of account no thanks\n",
      "impetrating details for id please provide a status update on at the earliest\n",
      "completed transaction no greetings i wanted to let you know that i have acknowledged the payment for transaction in response to your email which confirmed the finalized status of my transaction thanks and regards\n",
      "impetrating details for id i need details of urgently please provide the same on priority basis\n",
      "dealing with the transaction thank you for transferring the payment to my account yesterday i appreciate the quick response i would like to inform you that is is currently in process thanks and regards\n",
      "impetrating details for id i need details of urgently please provide the same on priority basis\n",
      "abrupt closure of transaction with id this is to notify you that my transaction has failed please reply to me with the cause as soon as possible\n",
      "handling the transaction after payment hello this is to inform you that i have received the amount you transferred to my account and now it is currently in process\n",
      "seeking update on the status of transaction kindly provide a status update on at the earliest\n",
      "add another contact no to my bank account kindly add the contact no to my bank account and set it as my default no to receive all alerts\n",
      "soliciting information for id hey i would be really grateful if you could tell me the details of account no thanks\n",
      "request to send details of transaction it would be very kind of you to provide a status update on at the earliest hoping for a reply soon\n",
      "failure of transaction greetings for the day i checked my inbox and found your email stating the failure of my transaction please help me understand why has failed need funds urgently patiently waiting for you reply thanks a lot\n",
      "finalized transaction of id glad to let you know that i got the desired payment in reference to transaction i am very happy with your services and will definitely recommend your company to my friends and acquaintances warm regards\n",
      "transaction no is unresolved hey sincere apologies for transferring a fraction of the amount we agreed on please be assured that the rest is being transferred as of now thanks a lot for understanding\n",
      "payment received for transaction and now processing sincere greetings i am glad to tell you that i have finally been granted the pre approved amount through transaction it is now being processed i am grateful for your support warm regards\n",
      "transaction has failed i have been your regular client and have followed the procedure for creating a transaction correctly still i received an email saying that the transaction has failed i would like to know the reasoning my transaction id is regards\n"
     ]
    },
    {
     "name": "stdout",
     "output_type": "stream",
     "text": [
      "how to create a bank account with citi i have heard a lot about your bank and would like to open an account with citibank for that i would like to know all the documents that are required kindly reply with the same and also the further steps to be taken eagerly waiting for your reply\n",
      "add one more contact no to account add to my account thanks\n",
      "transaction has failed this is in response to your email stating that my transaction having id has failed but no reason was mentioned can you please tell me what did i do wrong so that i can create a new one without any errors waiting for your reply thank you in advance\n",
      "pending payment for transaction having id hello greetings for the day i see that transaction gbp for account is pending i would be grateful if you could tell me the cause thanks a lot\n",
      "payment done and transaction settled hey i am writing in reference to the transaction i was granted the aforementioned amount within the deadline sincere gratitude for such a quick response kind regards\n",
      "change address for account no hey i think i lost my atm card today so can you please block my account or tell me a way to change my pin no i urgently need your reply thanks in advance\n",
      "abrupt closure of transaction with id i have been your regular client and have followed the procedure for creating a transaction correctly still i received an email saying that the transaction has failed i would like to know the reasoning my transaction id is regards\n",
      "seeking update on the status of transaction hey i would be really grateful if you could tell me the details of account no thanks\n",
      "imploring update on transaction please provide a status update on at the earliest\n",
      "handling the transaction after payment acknowledging the received payment for transaction it has finally been put to process kind regards\n",
      "asking for the details for transaction urgently require details of acc reply as soon as possible\n",
      "payment outstanding for transaction the transaction is taking too long to complete i would request you to kindly guide me through the further steps to be taken in order to complete the transaction\n",
      "payment outstanding for transaction hello greetings for the day status of transaction usd for account is pending i would be grateful if you could tell me the cause thanks a lot\n",
      "imploring update on transaction can you please tell me the amount transferred through transaction id thanks\n",
      "asking for the details for transaction a detailed update on the transaction would be highly appreciated thanks and regards\n",
      "partially paid the required amount for transaction there has been only a partial payment of amount usd assuring you that the rest will be paid later warm regards\n",
      "urgent transaction ceased i have been your regular client and have followed the procedure for creating a transaction correctly still i received an email saying that the transaction has failed i would like to know the reasoning my transaction id is regards\n",
      "completed transaction no hello sincere greetings for the day i would like to inform you that my transaction has completed thank you so much for your support looking forward to working more with you in the future regards\n",
      "completed transaction no glad to let you know that i got the desired payment in reference to transaction i am very happy with your services and will definitely recommend your company to my friends and acquaintances warm regards\n",
      "send steps to activate mobile banking i would like to know the instructions to be followed to install and setup mobile banking please reply to me with the same thanks in advance\n",
      "transaction has failed this is to notify you that my transaction has failed please reply to me with the cause as soon as possible\n",
      "pending payment for transaction having id the transaction is taking too long to complete i would request you to kindly guide me through the further steps to be taken in order to complete the transaction\n",
      "transaction stalled and payment not received this is in response to your email stating that my transaction having id has failed but no reason was mentioned can you please tell me what did i do wrong so that i can create a new one without any errors waiting for your reply thank you in advance\n",
      "request to send details of transaction please provide a status update on at the earliest\n",
      "payment done and transaction settled hey i am writing in reference to the transaction i was granted the aforementioned amount within the deadline sincere gratitude for such a quick response kind regards\n",
      "add one more contact no to account i need a new cheque book of leaves kindly send the same to my current address which is present in the details of my account\n",
      "transaction stalled and payment not received this is in response to your email stating that my transaction having id has failed but no reason was mentioned can you please tell me what did i do wrong so that i can create a new one without any errors waiting for your reply thank you in advance\n",
      "transaction having id has stopped help greetings for the day i checked my inbox and found your email stating the failure of my transaction please help me understand why has failed need funds urgently patiently waiting for you reply thanks a lot\n",
      "pending payment for transaction having id the transaction is taking too long to complete i would request you to kindly guide me through the further steps to be taken in order to complete the transaction\n",
      "finally the transaction of id is complete glad to let you know that i got the desired payment in reference to transaction i am very happy with your services warm regards\n",
      "imploring update on transaction please provide a status update on at the earliest\n",
      "processing transaction having id received payment for transaction yesterday it is finally in process kind regards\n",
      "something wrong with my account this is to inform you that i am not able to withdraw money from my account please help\n",
      "concluded the transaction greetings i wanted to let you know that i am acknowledging the payment for transaction in response to your email which confirmed the finalized status of my transaction thanks and regards\n",
      "payment done and transaction settled to whom it may concern i have successfully received payment for the transaction i am grateful for your cooperation thank you so much and regards\n",
      "handling the transaction after payment hello this is to inform you that i have received the amount you transferred to my account and now it is currently in process\n",
      "upgrade to an account with more benefits send instructions to setup a premium account i currently have a normal account thanks in advance\n",
      "the pending amount for transaction will reach you soon since my transaction is still pending i wanted to know if there is a problem with the paperwork from my side please let me know at the earliest thanks and regards\n",
      "accepted payment transaction currently processing acknowledging the received payment for transaction it is finally in process kind regards\n",
      "transaction no is unresolved since my transaction is still pending i wanted to know if there is a problem with the paperwork from my side please let me know at the earliest thanks and regards\n",
      "partially paid the required amount for transaction hey sincere apologies for transferring a fraction of the amount we agreed on please be assured that the rest is being transferred as of now thanks a lot for understanding\n",
      "pin number change hey i think i lost my atm card today so can you please block my account or tell me a way to change my pin no i urgently need your reply thanks in advance\n",
      "soliciting information for id can you please tell me the amount transferred through transaction id thanks\n",
      "required money acquired transaction is in process sincere greetings i am glad to tell you that i have finally been granted the pre approved amount through transaction it is now being processed i am grateful for your support warm regards\n",
      "payment is pending for transaction hello greetings for the day status of transaction inr for account is pending i would be grateful if you could tell me the cause thanks a lot\n",
      "fulfilled transaction having id hello sincere greetings for the day i would like to inform you that my transaction has completed thank you so much for your support looking forward to working more with you in the future regards\n",
      "open account i have heard a lot about your bank and would like to open an account with citibank for that i would like to know all the documents that are required kindly reply with the same and also the further steps to be taken eagerly waiting for your reply\n"
     ]
    },
    {
     "name": "stdout",
     "output_type": "stream",
     "text": [
      "concluded the transaction greetings i wanted to let you know that i have acknowledged the payment for transaction in response to your email which confirmed the finalized status of my transaction thanks and regards\n",
      "want to block account hey can you please block my account i no longer want to avail your services\n",
      "soliciting information for id hey i would be really grateful if you could tell me the details of account no thanks\n",
      "received full payment for transaction no hello sincere greetings for the day i would like to inform you that my transaction has completed thank you so much for your support looking forward to working more with you in the future regards\n",
      "urgent transaction ceased i have been your regular client and have followed the procedure for creating a transaction correctly still i received an email saying that the transaction has failed i would like to know the reasoning my transaction id is regards\n",
      "request to send details of transaction i need details of urgently please provide the same on priority basis\n",
      "payment done and transaction settled greetings i wanted to let you know that i have acknowledged the payment for transaction in response to your email which confirmed the finalized status of my transaction thanks and regards\n",
      "received full payment for transaction no i deeply appreciate your quick service as i have received the pre approved loan amount of inr\n",
      "add one more contact no to account i have heard a lot about your bank and would like to open an account with citibank for that i would like to know all the documents that are required kindly reply with the same and also the further steps to be taken eagerly waiting for your reply\n",
      "cannot take out money this is to inform you that i am not able to withdraw money from my account please help\n",
      "payment is pending for transaction there has been only a partial payment of amount gbp assuring you that the rest will be paid later warm regards\n",
      "completed transaction no greetings i wanted to let you know that i have acknowledged the payment for transaction in response to your email which confirmed the finalized status of my transaction thanks and regards\n",
      "imploring update on transaction urgently require details of acc reply asap\n",
      "urgently required update on transaction i need details of urgently please provide the same on priority basis\n",
      "fragmentary payment for transaction since my transaction is still pending i wanted to know if there is a problem with the paperwork from my side please let me know at the earliest thanks and regards\n",
      "soliciting information for id i request you to kindly send the status of my transaction with id thanks and regards\n",
      "why has my transaction stopped i received an email saying that the transaction has failed i would like to know the reasoning my transaction id is regards\n",
      "add one more contact no to account kindly add the contact no to my bank account\n",
      "dealing with the transaction this is in response to your email notifying about the transferred amount i am acknowledging it and informing you that it is now in process\n",
      "why has my transaction stopped this is in response to your email stating that my transaction having id has failed but no reason was mentioned can you please tell me what did i do wrong so that i can create a new one without any errors waiting for your reply thank you in advance\n",
      "asking for the details for transaction hey i would be really grateful if you could tell me the details of account no thanks\n",
      "transaction stalled and payment not received this is in response to your email stating that my transaction having id has failed but no reason was mentioned can you please tell me what did i do wrong so that i can create a new one without any errors waiting for your reply thank you in advance\n",
      "how to change pin no of atm card hey can you please send me the detailed steps that i ought to follow to create a new bank account\n",
      "urgent transaction ceased greetings for the day i checked my inbox and found your email stating the failure of my transaction please help me understand why has failed need funds urgently patiently waiting for you reply thanks a lot\n",
      "request to send details of transaction i want to have a detailed view of my account would appreciate your help for the same\n",
      "send steps to activate online banking kindly add the contact no to my bank account\n",
      "payment is pending for transaction my transaction is still pending why is this so i wanted to know if there is a problem with the paperwork from my side please let me know at the earliest thanks and regards\n",
      "transaction having id has stopped help hey i see my transaction with id has failed i am pretty sure i did everything right i strongly believe this is a technical error please look into this and confirm\n",
      "fulfilled transaction having id hello sincere greetings for the day i would like to inform you that my transaction has completed thank you so much for your support looking forward to working more with you in the future regards\n",
      "transaction having id has stopped help this is in response to your email stating that my transaction having id has failed but no reason was mentioned can you please tell me what did i do wrong so that i can create a new one without any errors waiting for your reply thank you in advance\n",
      "why has my transaction stopped greetings for the day i read your email stating the failure of my transaction please help me understand why has failed need funds urgently patiently waiting for you reply thanks a lot\n",
      "completed transaction no greetings i wanted to let you know that i have acknowledged the payment for transaction in response to your email which confirmed the finalized status of my transaction thanks and regards\n",
      "why has my transaction stopped i have been your regular client and have followed the procedure for creating a transaction correctly still i received an email saying that the transaction has failed i would like to know the reasoning my transaction id is regards\n",
      "failure of transaction this is in response to your email stating that my transaction having id has failed but no reason was mentioned can you please tell me what did i do wrong so that i can create a new one without any errors waiting for your reply thank you in advance\n",
      "asking for the details for transaction it would be nice of you to tell me the amount transferred through transaction id thanks\n",
      "asking for the details for transaction i need details of urgently please provide the same before the coming friday\n",
      "transaction stalled and payment not received i have been your regular client and have followed the procedure for creating a transaction correctly still i received an email saying that the transaction has failed i would like to know the reasoning my transaction id is regards\n",
      "received amount now being processed sincere greetings i am glad to tell you that i have finally been granted the pre approved amount through transaction it is now being processed i am grateful for your support warm regards\n",
      "processing transaction having id hello this is to inform you that i have received the amount you transferred to my account and now it is currently in process\n",
      "incomplete transaction since my transaction is still pending i wanted to know if there is a problem with the paperwork from my side please let me know at the earliest thanks and regards\n",
      "handling the transaction after payment so happy to acknowledge the received payment for transaction it is finally in process kind regards\n",
      "payment done and transaction settled i deeply appreciate your quick service as i have received the pre approved loan amount of inr\n",
      "transaction is complete to whom it may concern i have successfully received payment for the transaction i am grateful for your cooperation thank you so much and regards\n",
      "add one more contact no to account kindly add the contact no to my bank account\n",
      "fulfilled transaction having id greetings i wanted to let you know that i have acknowledged the payment for transaction in response to your email which confirmed the finalized status of my transaction thanks and regards\n",
      "incomplete transaction the transaction is taking too long to complete i would request you to kindly guide me through the further steps to be taken in order to complete the transaction\n",
      "asking for the details for transaction i request you to kindly send the status of my transaction with id thanks and regards\n",
      "transaction has failed this is to notify you that my transaction has failed please reply to me with the cause as soon as possible\n",
      "asking for the details for transaction i need details of urgently please provide the same on priority basis\n",
      "asking for the details for transaction urgently require details of acc reply fast please\n"
     ]
    },
    {
     "name": "stdout",
     "output_type": "stream",
     "text": [
      "sorted out the transaction with id hello sincere greetings for the day i would like to inform you that my transaction has completed thank you so much for your support looking forward to working more with you in the future regards\n",
      "transaction has failed this is to notify you that my transaction has failed please reply to me with the cause as soon as possible\n",
      "imploring update on transaction please provide a status update on at the earliest\n",
      "asking for the details for transaction i request you to kindly send the status of my transaction with id thanks and regards\n",
      "concluded the transaction glad to let you know that i got the desired payment in reference to transaction i am very happy with your services and will definitely recommend your company to my friends and acquaintances warm regards\n",
      "transaction is now being processed this is in response to your email notifying about the transferred amount i am acknowledging it and informing you that it is now in process\n",
      "partial payment for transaction since my transaction is still pending i wanted to know if there is a problem with the paperwork from my side please let me know at the earliest thanks and regards\n",
      "soliciting information for id kindly reply to me at the earliest with the last transactions made with the account no thanks in advance\n",
      "the pending amount for transaction will reach you soon i regret to inform you the i could only pay the partial amount of gbp i will definitely pay the remaining amount as soon as possible thank you for understanding regards\n",
      "handling the transaction after payment this is in response to your email notifying about the transferred amount i am acknowledging it and informing you that it is now in process\n",
      "incomplete transaction hey sincere apologies for transferring a fraction of the amount we agreed on please be assured that the rest is being transferred as of now thanks a lot for understanding\n",
      "required money acquired transaction is in process thank you for transferring the payment to my account yesterday i appreciate the quick response i would like to inform you that is is currently in process thanks and regards\n",
      "payment done and transaction settled i deeply appreciate your quick service as i have received the pre approved loan amount of gbp\n",
      "pending payment for transaction having id the transaction is taking too long to complete i would request you to kindly guide me through the further steps to be taken in order to complete the transaction\n",
      "remaining amount for transaction to be paid later i wanted to know if there is a problem with my transaction id it s showing that it s still not complete please let me know at the earliest thanks and regards\n",
      "transaction incomplete hey i see my transaction with id has failed i think i did everything right please look into this and reply with the reason urgently thank you and regards\n",
      "payment outstanding for transaction there has been only a partial payment of amount eur assuring you that the rest will be paid later warm regards\n",
      "pending payment for transaction having id the transaction is taking too long to complete i would request you to kindly guide me through the further steps to be taken in order to complete the transaction\n",
      "request to send details of transaction kindly let me know the amount transferred through transaction id thanks\n",
      "transaction hasn t been completed i have been your regular client for the past five years and have always followed the given procedure for creating a transaction correctly still i received an email saying that the transaction has failed i would like to know the reasoning my transaction id is regards\n",
      "change address for account no hey i think i lost my atm card today so can you please block my account or tell me a way to change my pin no i urgently need your reply thanks in advance\n",
      "transaction stalled and payment not received this is in response to your email stating that my transaction having id has failed but no reason was mentioned can you please tell me what did i do wrong so that i can create a new one without any errors waiting for your reply thank you in advance\n",
      "abrupt closure of transaction with id i have been your regular client and have followed the procedure for creating a transaction correctly still i received an email saying that the transaction has failed i would like to know the reasoning my transaction id is regards\n",
      "payment outstanding for transaction i regret to inform you the i could only pay the partial amount of gbp i will definitely pay the remaining amount as soon as possible thank you for understanding regards\n",
      "imploring update on transaction what is the status of my transaction id thanks and regards\n",
      "processing transaction having id sincere greetings i am glad to tell you that i have finally been granted the pre approved amount through transaction it is now being processed i am grateful for your support warm regards\n",
      "remaining amount for transaction to be paid later i regret to inform you the i could only pay the partial amount of eur i will definitely pay the remaining amount as soon as possible thank you for understanding regards\n",
      "atm card lost my atm card was misplaced today please block my card urgently thanks in advance\n",
      "new cheque book i need a new cheque book of leaves kindly send the same to my current address which is present in the details of my account\n",
      "payment is pending for transaction it s been days since transaction it has been very late i would request you to kindly guide me through the further steps to be taken in order to complete it\n",
      "why has my transaction stopped i have been your regular client and have followed the procedure for creating a transaction correctly still i received an email saying that the transaction has failed i would like to know the reasoning my transaction id is regards\n",
      "transaction no is unresolved my payment of amount usd wasnt fully complete assuring you i will pay the rest soon warm regards\n",
      "transaction is now being processed acknowledging the received payment for transaction it is finally in process kind regards\n",
      "imploring update on transaction can you please tell me the amount transferred through transaction id thanks\n",
      "processing transaction having id this is in response to your email notifying about the transferred amount i am acknowledging it and informing you that it is now in process\n",
      "imploring update on transaction i need a status update on asap\n",
      "transaction has failed greetings for the day i am confused why i have received an email stating the failure of my transaction please help me understand why this happened need funds urgently patiently waiting for you reply thanks a lot\n",
      "urgently required update on transaction i need details of urgently please provide the same on priority basis\n",
      "transaction no is unresolved there has been only a partial payment of amount inr assuring you that the rest will be paid later warm regards\n",
      "urgent transaction ceased this is to notify you that my transaction has failed please reply to me with the cause as soon as possible\n",
      "want to block account hey i am interested in buying a new citi card please let me know how to go about it thanks in advance\n",
      "transaction stalled and payment not received important your transaction has failed please reply to me with the cause as soon as possible\n",
      "incomplete transaction i regret to inform you the i could only pay the partial amount of eur i will definitely pay the remaining amount as soon as possible thank you for understanding regards\n",
      "abrupt closure of transaction with id greetings for the day i checked my inbox and found your email stating the failure of my transaction please help me understand why has failed need funds urgently patiently waiting for you reply thanks a lot\n",
      "required money acquired transaction is in process this is in response to your email notifying about the transferred amount i am acknowledging it and informing you that it is now in process\n",
      "transaction is now being processed acknowledging the received payment for transaction it is finally in process kind regards\n",
      "fulfilled transaction having id hey i am writing in reference to the transaction i was granted the aforementioned amount within the deadline sincere gratitude for such a quick response kind regards\n",
      "failure of transaction this is in response to your email stating that my transaction having id has failed but no reason was mentioned can you please tell me what did i do wrong so that i can create a new one without any errors waiting for your reply thank you in advance\n",
      "partially paid the required amount for transaction i regret to inform you the i could only pay the partial amount of usd i will definitely pay the remaining amount as soon as possible thank you for understanding regards\n",
      "transaction is now being processed acknowledging the received payment for transaction it is finally in process kind regards\n",
      "payment is pending for transaction hello greetings for the day status of transaction inr for account is pending i would be grateful if you could tell me the cause thanks a lot\n",
      "transaction has failed this is in response to your email stating that my transaction having id has failed but no reason was mentioned can you please tell me what did i do wrong so that i can create a new one without any errors waiting for your reply thank you in advance\n",
      "payment received for transaction and now processing thank you for transferring the payment to my account yesterday i appreciate the quick response i would like to inform you that is is currently in process thanks and regards\n",
      "dealing with the transaction this is in response to your email notifying about the transferred amount i am acknowledging it and informing you that it is now in process\n",
      "why has my transaction stopped i followed the procedure for creating a transaction correctly still got an email saying that the transaction did t happen i would like to know the reasoning my transaction id is regards\n",
      "handling the transaction after payment sincere greetings i am glad to tell you that i have finally been granted the pre approved amount through transaction it is now being processed i am grateful for your support warm regards\n",
      "imploring update on transaction kindly reply to me at the earliest with the last transactions made with the account no thanks in advance\n"
     ]
    },
    {
     "name": "stdout",
     "output_type": "stream",
     "text": [
      "payment done and transaction settled hey i am writing in reference to the transaction i was granted the aforementioned amount within the deadline sincere gratitude for such a quick response kind regards\n",
      "send steps to activate online banking this is to inform you that i am not able to withdraw money from my account please help\n",
      "finalized transaction of id glad to let you know that i got the desired payment in reference to transaction i am very happy with your services and will definitely recommend your company to my friends and acquaintances warm regards\n",
      "dealing with the transaction hello this is to inform you that i have received the amount you transferred to my account and now it is currently in process\n",
      "payment done and transaction settled greetings i wanted to let you know that i have acknowledged the payment for transaction in response to your email which confirmed the finalized status of my transaction thanks and regards\n",
      "urgently required update on transaction i want to know status of urgently please provide the same on priority basis\n",
      "transaction having id has stopped help hey i see my transaction with id has failed i think i did everything right please look into this and reply with the reason urgently thank you and regards\n",
      "urgent transaction ceased this is in response to your email stating that my transaction having id has failed but no reason was mentioned can you please tell me what did i do wrong so that i can create a new one without any errors waiting for your reply thank you in advance\n",
      "processing transaction having id acknowledging the received payment for transaction it is finally in process kind regards\n",
      "urgent transaction ceased greetings for the day i checked my inbox and found your email stating the failure of my transaction please help me understand why has failed need funds urgently patiently waiting for you reply thanks a lot\n",
      "soliciting information for id i urgently need information on the last transactions made with the account no thanks in advance\n",
      "want to block account i need a new cheque book of leaves kindly send the same to my current address which is present in the details of my account\n",
      "partially paid the required amount for transaction i regret to inform you the i could only pay the partial amount of gbp i will definitely pay the remaining amount as soon as possible thank you for understanding regards\n",
      "new cheque book hey i would like to know if the bank would be open during lockdown thanks in advance\n",
      "dealing with the transaction hello this is to inform you that i have received the amount you transferred to my account and now it is currently in process\n",
      "payment outstanding for transaction there has been only a partial payment of amount eur assuring you that the rest will be paid later warm regards\n",
      "transaction has failed greetings for the day i checked my inbox and found your email stating the failure of my transaction please help me understand why has failed need funds urgently patiently waiting for you reply thanks a lot\n",
      "request to send details of transaction i need details of urgently please provide the same on priority basis\n",
      "remaining amount for transaction to be paid later i regret to inform you the i could only pay the partial amount of usd i will definitely pay the remaining amount as soon as possible thank you for understanding regards\n",
      "seeking update on the status of transaction hey i would be really grateful if you could tell me the details of account no thanks\n",
      "imploring update on transaction can you please tell me the amount transferred through transaction id thanks\n",
      "processing transaction having id this is in response to your email notifying about the transferred amount i am acknowledging it and informing you that it is now in process\n",
      "pending payment for transaction having id hello greetings for the day status of transaction inr for account is pending i would be grateful if you could tell me the cause thanks a lot\n",
      "impetrating details for id hey i would be really grateful if you could tell me the status of account no thanks\n",
      "payment done and transaction settled hello sincere greetings for the day i would like to inform you that my transaction has completed thank you so much for your support looking forward to working more with you in the future regards\n",
      "urgent transaction ceased hey i see my transaction with id has failed i think i did everything right please look into this and reply with the reason urgently thank you and regards\n",
      "impetrating details for id please provide a status update on at the earliest\n",
      "impetrating details for id i want some information for my account can you please send them to me thanks\n",
      "set up a new account with you hey can you please send me the detailed steps that i ought to follow to create a new bank account\n",
      "add one more contact no to account kindly add the contact no to my bank account\n",
      "partial payment for transaction hello greetings for the day status of transaction inr for account is pending i would be grateful if you could tell me the cause thanks a lot\n",
      "handling the transaction after payment this is in response to your email notifying about the transferred amount i am acknowledging it and informing you that it is now in process\n",
      "partially paid the required amount for transaction there has been only a partial payment of amount eur assuring you that the rest will be paid later warm regards\n",
      "transaction having id has stopped help this is in response to your email stating that my transaction having id has failed but no reason was mentioned can you please tell me what did i do wrong so that i can create a new one without any errors waiting for your reply thank you in advance\n",
      "asking for the details for transaction hey i would be really grateful if you could tell me the details of account no thanks\n",
      "why has my transaction stopped hey i see my transaction with id has failed i think i did everything right please look into this and reply with the reason urgently thank you and regards\n",
      "transaction stalled and payment not received i made a payment of rs and the money got dedcuted from my account still i received an email saying that the transaction has failed i would like to know the reasoning my transaction id is regards\n",
      "received full payment for transaction no hey i am writing in reference to the transaction i was granted the aforementioned amount within the deadline sincere gratitude for such a quick response kind regards\n",
      "abrupt closure of transaction with id greetings for the day i checked my inbox and found your email stating the failure of my transaction please help me understand why has failed need funds urgently patiently waiting for you reply thanks a lot\n",
      "transaction is complete hello sincere greetings for the day i would like to inform you that my transaction has completed thank you so much for your support looking forward to working more with you in the future regards\n",
      "pending payment for transaction having id there has been only a partial payment of amount gbp assuring you that the rest will be paid later warm regards\n",
      "transaction is complete hey i am writing in reference to the transaction i was granted the aforementioned amount within the deadline sincere gratitude for such a quick response kind regards\n",
      "add one more contact no to account i have heard a lot about your bank and would like to open an account with citibank for that i would like to know all the documents that are required kindly reply with the same and also the further steps to be taken eagerly waiting for your reply\n",
      "processing transaction having id this is in response to your email notifying about the transferred amount i am acknowledging it and informing you that it is now in process\n",
      "why has my transaction stopped hey i see my transaction with id has failed i think i did everything right please look into this and reply with the reason urgently thank you and regards\n",
      "request to send details of transaction can you please tell me the amount transferred through transaction id thanks\n",
      "asking for the details for transaction kindly reply to me at the earliest with the last transactions made with the account no thanks in advance\n",
      "payment received for transaction and now processing thank you for transferring the payment to my account yesterday i appreciate the quick response i would like to inform you that is is currently in process thanks and regards\n",
      "transaction stalled and payment not received this is in response to your email stating that my transaction having id has failed but no reason was mentioned can you please tell me what did i do wrong so that i can create a new one without any errors waiting for your reply thank you in advance\n"
     ]
    },
    {
     "name": "stdout",
     "output_type": "stream",
     "text": [
      "payment done and transaction settled i deeply appreciate your quick service as i have received the pre approved loan amount of usd\n",
      "how to change pin no of atm card i would like to know the instructions to be followed to install and setup mobile banking please reply to me with the same thanks in advance\n",
      "transaction no is unresolved since my transaction is still pending i wanted to know if there is a problem with the paperwork from my side please let me know at the earliest thanks and regards\n",
      "remaining amount for transaction to be paid later the transaction is taking too long to complete i would request you to kindly guide me through the further steps to be taken in order to complete the transaction\n",
      "why has my transaction stopped hey i see my transaction with id has failed i think i did everything right please look into this and reply with the reason urgently thank you and regards\n",
      "processing transaction having id hello this is to inform you that i have received the amount you transferred to my account and now it is currently in process\n",
      "impetrating details for id i request you to kindly send the status of my transaction with id thanks and regards\n",
      "add one more contact no to account i have heard a lot about your bank and would like to open an account with citibank for that i would like to know all the documents that are required kindly reply with the same and also the further steps to be taken eagerly waiting for your reply\n",
      "handling the transaction after payment thank you for transferring the payment to my account yesterday i appreciate the quick response i would like to inform you that is is currently in process thanks and regards\n",
      "accepted payment transaction currently processing hello this is to inform you that i have received the amount you transferred to my account and now it is currently in process\n",
      "transaction is complete i deeply appreciate your quick service as i have received the pre approved loan amount of inr\n",
      "why has my transaction stopped i have been your regular client and have followed the procedure for creating a transaction correctly still i received an email saying that the transaction has failed i would like to know the reasoning my transaction id is regards\n",
      "impetrating details for id i request you to kindly send the status of my transaction with id thanks and regards\n",
      "imploring update on transaction i need details of urgently please provide the same on priority basis\n",
      "transaction is complete glad to let you know that i got the desired payment in reference to transaction i am very happy with your services and will definitely recommend your company to my friends and acquaintances warm regards\n",
      "why cant i withdraw money with my atm card i would like to know the instructions to be followed to install and setup mobile banking please reply to me with the same thanks in advance\n",
      "asking for the details for transaction kindly note that this is urgent i need details like the recipients of the transfer of amount for transaction reply soon\n",
      "transaction stalled and payment not received greetings for the day i checked my inbox and found your email stating the failure of my transaction please help me understand why has failed need funds urgently patiently waiting for you reply thanks a lot\n",
      "received full payment for transaction no to whom it may concern i have successfully received payment for the transaction i am grateful for your cooperation thank you so much and regards\n",
      "concluded the transaction hey i am writing in reference to the transaction i was granted the aforementioned amount within the deadline sincere gratitude for such a quick response kind regards\n",
      "why has my transaction stopped this is to notify you that my transaction has failed please reply to me with the cause as soon as possible\n",
      "transaction is now being processed this is in response to your email notifying about the transferred amount i am acknowledging it and informing you that it is now in process\n",
      "add one more contact no to account hey can you please send me the detailed steps that i ought to follow to create a new bank account\n",
      "add one more contact no to account i would like to know the instructions to be followed to install and setup mobile banking please reply to me with the same thanks in advance\n",
      "want to block account i need a new cheque book of leaves kindly send the same to my current address which is present in the details of my account\n",
      "pending payment for transaction having id hello greetings for the day status of transaction eur for account is pending i would be grateful if you could tell me the cause thanks a lot\n",
      "payment outstanding for transaction the transaction is taking too long to complete i would request you to kindly guide me through the further steps to be taken in order to complete the transaction\n",
      "upgrade to an account with more benefits i need a new cheque book of leaves kindly send the same to my current address which is present in the details of my account\n",
      "why has my transaction stopped i have been your regular client and have followed the procedure for creating a transaction correctly still i received an email saying that the transaction has failed i would like to know the reasoning my transaction id is regards\n",
      "send steps to activate online banking i have heard a lot about your bank and would like to open an account with citibank for that i would like to know all the documents that are required kindly reply with the same and also the further steps to be taken eagerly waiting for your reply\n",
      "soliciting information for id i need details of urgently please provide the same on priority basis\n",
      "transaction stalled and payment not received hey i see my transaction with id has failed i think i did everything right please look into this and reply with the reason urgently thank you and regards\n",
      "seeking update on the status of transaction hey i would be really grateful if you could tell me the details of account no thanks\n",
      "required money acquired transaction is in process acknowledging the received payment for transaction it is finally in process kind regards\n",
      "why cant i withdraw money with my atm card hey can you please send me the detailed steps that i ought to follow to create a new bank account\n",
      "payment is pending for transaction hello greetings for the day status of transaction inr for account is pending i would be grateful if you could tell me the cause thanks a lot\n",
      "imploring update on transaction can you please tell me the amount transferred through transaction id thanks\n",
      "transaction is now being processed sincere greetings i am glad to tell you that i have finally been granted the pre approved amount through transaction it is now being processed i am grateful for your support warm regards\n",
      "failure of transaction hey i see my transaction with id has failed i think i did everything right please look into this and reply with the reason urgently thank you and regards\n",
      "processing transaction having id thank you for transferring the payment to my account yesterday i appreciate the quick response i would like to inform you that is is currently in process thanks and regards\n",
      "soliciting information for id i need details of urgently please provide the same on priority basis\n",
      "failure of transaction this is to notify you that my transaction has failed please reply to me with the cause as soon as possible\n",
      "pending payment for transaction having id since my transaction is still pending i wanted to know if there is a problem with the paperwork from my side please let me know at the earliest thanks and regards\n",
      "impetrating details for id urgently require details of acc reply asap\n",
      "abrupt closure of transaction with id hey i see my transaction with id has failed i think i did everything right please look into this and reply with the reason urgently thank you and regards\n",
      "payment outstanding for transaction i regret to inform you the i could only pay the partial amount of gbp i will definitely pay the remaining amount as soon as possible thank you for understanding regards\n",
      "completed transaction no greetings i wanted to let you know that i have acknowledged the payment for transaction in response to your email which confirmed the finalized status of my transaction thanks and regards\n",
      "urgently required update on transaction please provide a status update on at the earliest\n",
      "dealing with the transaction sincere greetings i am glad to tell you that i have finally been granted the pre approved amount through transaction it is now being processed i am grateful for your support warm regards\n"
     ]
    },
    {
     "name": "stdout",
     "output_type": "stream",
     "text": [
      "transaction is now being processed this is in response to your email notifying about the transferred amount i am acknowledging it and informing you that it is now in process\n",
      "transaction has failed this is to notify you that my transaction has failed please reply to me with the cause as soon as possible\n",
      "processing transaction having id acknowledging the received payment for transaction it is finally in process kind regards\n",
      "partial payment for transaction since my transaction is still pending i wanted to know if there is a problem with the paperwork from my side please let me know at the earliest thanks and regards\n",
      "completed transaction no hey i am writing in reference to the transaction i was granted the aforementioned amount within the deadline sincere gratitude for such a quick response kind regards\n",
      "why cant i withdraw money with my atm card kindly add the contact no to my bank account\n",
      "seeking update on the status of transaction hey i would be really grateful if you could tell me the details of account no thanks\n",
      "transaction is now being processed this is in response to your email notifying about the transferred amount i am acknowledging it and informing you that it is now in process\n",
      "partially paid the required amount for transaction since my transaction is still pending i wanted to know if there is a problem with the paperwork from my side please let me know at the earliest thanks and regards\n",
      "asking for the details for transaction kindly reply to me at the earliest with the last transactions made with the account no thanks in advance\n",
      "transaction stalled and payment not received greetings for the day i checked my inbox and found your email stating the failure of my transaction please help me understand why has failed need funds urgently patiently waiting for you reply thanks a lot\n",
      "incomplete transaction i regret to inform you the i could only pay the partial amount of usd i will definitely pay the remaining amount as soon as possible thank you for understanding regards\n",
      "pending payment for transaction having id the transaction is taking too long to complete i would request you to kindly guide me through the further steps to be taken in order to complete the transaction\n",
      "payment received for transaction and now processing sincere greetings i am glad to tell you that i have finally been granted the pre approved amount through transaction it is now being processed i am grateful for your support warm regards\n",
      "processing transaction having id this is in response to your email notifying about the transferred amount i am acknowledging it and informing you that it is now in process\n",
      "urgent transaction ceased i have been your regular client and have followed the procedure for creating a transaction correctly still i received an email saying that the transaction has failed i would like to know the reasoning my transaction id is regards\n",
      "transaction stalled and payment not received i have been your regular client and have followed the procedure for creating a transaction correctly still i received an email saying that the transaction has failed i would like to know the reasoning my transaction id is regards\n",
      "processing transaction having id this is in response to your email notifying about the transferred amount i am acknowledging it and informing you that it is now in process\n",
      "soliciting information for id i need details of urgently please provide the same on priority basis\n",
      "handling the transaction after payment acknowledging the received payment for transaction it is finally in process kind regards\n",
      "abrupt closure of transaction with id this is to notify you that my transaction has failed please reply to me with the cause as soon as possible\n",
      "soliciting information for id please provide a status update on at the earliest\n",
      "payment done and transaction settled to whom it may concern i have successfully received payment for the transaction i am grateful for your cooperation thank you so much and regards\n",
      "how to change pin no of atm card this is to inform you that i am not able to withdraw money from my account please help\n",
      "transaction is now being processed thank you for transferring the payment to my account yesterday i appreciate the quick response i would like to inform you that is is currently in process thanks and regards\n",
      "finalized transaction of id i deeply appreciate your quick service as i have received the pre approved loan amount of usd\n",
      "concluded the transaction greetings i wanted to let you know that i have acknowledged the payment for transaction in response to your email which confirmed the finalized status of my transaction thanks and regards\n",
      "seeking update on the status of transaction urgently require details of acc reply asap\n",
      "incomplete transaction since my transaction is still pending i wanted to know if there is a problem with the paperwork from my side please let me know at the earliest thanks and regards\n",
      "transaction stalled and payment not received greetings for the day i checked my inbox and found your email stating the failure of my transaction please help me understand why has failed need funds urgently patiently waiting for you reply thanks a lot\n",
      "failure of transaction i have been your regular client and have followed the procedure for creating a transaction correctly still i received an email saying that the transaction has failed i would like to know the reasoning my transaction id is regards\n",
      "pending payment for transaction having id hello greetings for the day status of transaction inr for account is pending i would be grateful if you could tell me the cause thanks a lot\n",
      "transaction no is unresolved i regret to inform you the i could only pay the partial amount of gbp i will definitely pay the remaining amount as soon as possible thank you for understanding regards\n",
      "transaction has failed this is in response to your email stating that my transaction having id has failed but no reason was mentioned can you please tell me what did i do wrong so that i can create a new one without any errors waiting for your reply thank you in advance\n",
      "request to send details of transaction i request you to kindly send the status of my transaction with id thanks and regards\n",
      "required money acquired transaction is in process hello this is to inform you that i have received the amount you transferred to my account and now it is currently in process\n",
      "handling the transaction after payment sincere greetings i am glad to tell you that i have finally been granted the pre approved amount through transaction it is now being processed i am grateful for your support warm regards\n",
      "completed transaction no i deeply appreciate your quick service as i have received the pre approved loan amount of inr\n",
      "imploring update on transaction i request you to kindly send the status of my transaction with id thanks and regards\n",
      "send steps to activate online banking hey can you please send me the detailed steps that i ought to follow to create a new bank account\n",
      "incomplete transaction the transaction is taking too long to complete i would request you to kindly guide me through the further steps to be taken in order to complete the transaction\n",
      "transaction is complete to whom it may concern i have successfully received payment for the transaction i am grateful for your cooperation thank you so much and regards\n",
      "want to block account i have heard a lot about your bank and would like to open an account with citibank for that i would like to know all the documents that are required kindly reply with the same and also the further steps to be taken eagerly waiting for your reply\n",
      "handling the transaction after payment thank you for transferring the payment to my account yesterday i appreciate the quick response i would like to inform you that is is currently in process thanks and regards\n",
      "why has my transaction stopped greetings for the day i checked my inbox and found your email stating the failure of my transaction please help me understand why has failed need funds urgently patiently waiting for you reply thanks a lot\n",
      "impetrating details for id can you please tell me the amount transferred through transaction id thanks\n",
      "send steps to activate online banking this is to inform you that i am not able to withdraw money from my account please help\n",
      "transaction stalled and payment not received greetings for the day i checked my inbox and found your email stating the failure of my transaction please help me understand why has failed need funds urgently patiently waiting for you reply thanks a lot\n",
      "abrupt closure of transaction with id i have been your regular client and have followed the procedure for creating a transaction correctly still i received an email saying that the transaction has failed i would like to know the reasoning my transaction id is regards\n"
     ]
    },
    {
     "name": "stdout",
     "output_type": "stream",
     "text": [
      "partial payment for transaction i regret to inform you the i could only pay the partial amount of inr i will definitely pay the remaining amount as soon as possible thank you for understanding regards\n",
      "finalized transaction of id hello sincere greetings for the day i would like to inform you that my transaction has completed thank you so much for your support looking forward to working more with you in the future regards\n",
      "urgent transaction ceased greetings for the day i checked my inbox and found your email stating the failure of my transaction please help me understand why has failed need funds urgently patiently waiting for you reply thanks a lot\n",
      "sorted out the transaction with id hello sincere greetings for the day i would like to inform you that my transaction has completed thank you so much for your support looking forward to working more with you in the future regards\n",
      "payment outstanding for transaction since my transaction is still pending i wanted to know if there is a problem with the paperwork from my side please let me know at the earliest thanks and regards\n",
      "concluded the transaction to whom it may concern i have successfully received payment for the transaction i am grateful for your cooperation thank you so much and regards\n",
      "urgently required update on transaction urgently require details of acc reply asap\n",
      "sorted out the transaction with id greetings i wanted to let you know that i have acknowledged the payment for transaction in response to your email which confirmed the finalized status of my transaction thanks and regards\n",
      "payment received for transaction and now processing acknowledging the received payment for transaction it is finally in process kind regards\n",
      "processing transaction having id hello this is to inform you that i have received the amount you transferred to my account and now it is currently in process\n",
      "why has my transaction stopped greetings for the day i checked my inbox and found your email stating the failure of my transaction please help me understand why has failed need funds urgently patiently waiting for you reply thanks a lot\n",
      "seeking update on the status of transaction i request you to kindly send the status of my transaction with id thanks and regards\n",
      "transaction stalled and payment not received greetings for the day i checked my inbox and found your email stating the failure of my transaction please help me understand why has failed need funds urgently patiently waiting for you reply thanks a lot\n",
      "received full payment for transaction no i deeply appreciate your quick service as i have received the pre approved loan amount of usd\n",
      "the pending amount for transaction will reach you soon there has been only a partial payment of amount eur assuring you that the rest will be paid later warm regards\n",
      "partially paid the required amount for transaction the transaction is taking too long to complete i would request you to kindly guide me through the further steps to be taken in order to complete the transaction\n",
      "incomplete transaction the transaction is taking too long to complete i would request you to kindly guide me through the further steps to be taken in order to complete the transaction\n",
      "fulfilled transaction having id hello sincere greetings for the day i would like to inform you that my transaction has completed thank you so much for your support looking forward to working more with you in the future regards\n",
      "request to send details of transaction urgently require details of acc reply asap\n",
      "change address for account no i need a new cheque book of leaves kindly send the same to my current address which is present in the details of my account\n",
      "transaction is complete greetings i wanted to let you know that i have acknowledged the payment for transaction in response to your email which confirmed the finalized status of my transaction thanks and regards\n",
      "why has my transaction stopped greetings for the day i checked my inbox and found your email stating the failure of my transaction please help me understand why has failed need funds urgently patiently waiting for you reply thanks a lot\n",
      "concluded the transaction hey i am writing in reference to the transaction i was granted the aforementioned amount within the deadline sincere gratitude for such a quick response kind regards\n",
      "seeking update on the status of transaction hey i would be really grateful if you could tell me the details of account no thanks\n",
      "handling the transaction after payment hello this is to inform you that i have received the amount you transferred to my account and now it is currently in process\n",
      "abrupt closure of transaction with id i have been your regular client and have followed the procedure for creating a transaction correctly still i received an email saying that the transaction has failed i would like to know the reasoning my transaction id is regards\n",
      "seeking update on the status of transaction hey i would be really grateful if you could tell me the details of account no thanks\n",
      "required money acquired transaction is in process thank you for transferring the payment to my account yesterday i appreciate the quick response i would like to inform you that is is currently in process thanks and regards\n",
      "partially paid the required amount for transaction hey sincere apologies for transferring a fraction of the amount we agreed on please be assured that the rest is being transferred as of now thanks a lot for understanding\n",
      "why cant i withdraw money with my atm card i need a new cheque book of leaves kindly send the same to my current address which is present in the details of my account\n",
      "concluded the transaction hey i am writing in reference to the transaction i was granted the aforementioned amount within the deadline sincere gratitude for such a quick response kind regards\n",
      "seeking update on the status of transaction can you please tell me the amount transferred through transaction id thanks\n",
      "transaction no is unresolved the transaction is taking too long to complete i would request you to kindly guide me through the further steps to be taken in order to complete the transaction\n",
      "change address for account no hey i think i lost my atm card today so can you please block my account or tell me a way to change my pin no i urgently need your reply thanks in advance\n",
      "transaction having id has stopped help this is in response to your email stating that my transaction having id has failed but no reason was mentioned can you please tell me what did i do wrong so that i can create a new one without any errors waiting for your reply thank you in advance\n",
      "completed transaction no i deeply appreciate your quick service as i have received the pre approved loan amount of usd\n",
      "pending payment for transaction having id hello greetings for the day status of transaction inr for account is pending i would be grateful if you could tell me the cause thanks a lot\n",
      "handling the transaction after payment thank you for transferring the payment to my account yesterday i appreciate the quick response i would like to inform you that is is currently in process thanks and regards\n",
      "impetrating details for id urgently require details of acc reply asap\n",
      "abrupt closure of transaction with id this is to notify you that my transaction has failed please reply to me with the cause as soon as possible\n",
      "failure of transaction this is to notify you that my transaction has failed please reply to me with the cause as soon as possible\n",
      "sorted out the transaction with id glad to let you know that i got the desired payment in reference to transaction i am very happy with your services and will definitely recommend your company to my friends and acquaintances warm regards\n",
      "transaction no is unresolved hey sincere apologies for transferring a fraction of the amount we agreed on please be assured that the rest is being transferred as of now thanks a lot for understanding\n",
      "partially paid the required amount for transaction hey sincere apologies for transferring a fraction of the amount we agreed on please be assured that the rest is being transferred as of now thanks a lot for understanding\n",
      "impetrating details for id i request you to kindly send the status of my transaction with id thanks and regards\n",
      "accepted payment transaction currently processing acknowledging the received payment for transaction it is finally in process kind regards\n",
      "transaction is now being processed hello this is to inform you that i have received the amount you transferred to my account and now it is currently in process\n",
      "why has my transaction stopped this is to notify you that my transaction has failed please reply to me with the cause as soon as possible\n",
      "impetrating details for id hey i would be really grateful if you could tell me the details of account no thanks\n",
      "received full payment for transaction no greetings i wanted to let you know that i have acknowledged the payment for transaction in response to your email which confirmed the finalized status of my transaction thanks and regards\n"
     ]
    },
    {
     "name": "stdout",
     "output_type": "stream",
     "text": [
      "abrupt closure of transaction with id greetings for the day i checked my inbox and found your email stating the failure of my transaction please help me understand why has failed need funds urgently patiently waiting for you reply thanks a lot\n",
      "upgrade to an account with more benefits i need a new cheque book of leaves kindly send the same to my current address which is present in the details of my account\n",
      "concluded the transaction to whom it may concern i have successfully received payment for the transaction i am grateful for your cooperation thank you so much and regards\n",
      "remaining amount for transaction to be paid later hey sincere apologies for transferring a fraction of the amount we agreed on please be assured that the rest is being transferred as of now thanks a lot for understanding\n",
      "sorted out the transaction with id hey i am writing in reference to the transaction i was granted the aforementioned amount within the deadline sincere gratitude for such a quick response kind regards\n",
      "processing transaction having id thank you for transferring the payment to my account yesterday i appreciate the quick response i would like to inform you that is is currently in process thanks and regards\n",
      "processing transaction having id thank you for transferring the payment to my account yesterday i appreciate the quick response i would like to inform you that is is currently in process thanks and regards\n",
      "handling the transaction after payment sincere greetings i am glad to tell you that i have finally been granted the pre approved amount through transaction it is now being processed i am grateful for your support warm regards\n",
      "handling the transaction after payment thank you for transferring the payment to my account yesterday i appreciate the quick response i would like to inform you that is is currently in process thanks and regards\n",
      "impetrating details for id kindly reply to me at the earliest with the last transactions made with the account no thanks in advance\n",
      "payment outstanding for transaction there has been only a partial payment of amount gbp assuring you that the rest will be paid later warm regards\n",
      "transaction is complete glad to let you know that i got the desired payment in reference to transaction i am very happy with your services and will definitely recommend your company to my friends and acquaintances warm regards\n",
      "partially paid the required amount for transaction hey sincere apologies for transferring a fraction of the amount we agreed on please be assured that the rest is being transferred as of now thanks a lot for understanding\n",
      "handling the transaction after payment hello this is to inform you that i have received the amount you transferred to my account and now it is currently in process\n",
      "payment done and transaction settled hey i am writing in reference to the transaction i was granted the aforementioned amount within the deadline sincere gratitude for such a quick response kind regards\n",
      "transaction stalled and payment not received hey i see my transaction with id has failed i think i did everything right please look into this and reply with the reason urgently thank you and regards\n",
      "concluded the transaction glad to let you know that i got the desired payment in reference to transaction i am very happy with your services and will definitely recommend your company to my friends and acquaintances warm regards\n",
      "remaining amount for transaction to be paid later there has been only a partial payment of amount inr assuring you that the rest will be paid later warm regards\n",
      "sorted out the transaction with id glad to let you know that i got the desired payment in reference to transaction i am very happy with your services and will definitely recommend your company to my friends and acquaintances warm regards\n",
      "remaining amount for transaction to be paid later the transaction is taking too long to complete i would request you to kindly guide me through the further steps to be taken in order to complete the transaction\n",
      "pending payment for transaction having id since my transaction is still pending i wanted to know if there is a problem with the paperwork from my side please let me know at the earliest thanks and regards\n",
      "completed transaction no hello sincere greetings for the day i would like to inform you that my transaction has completed thank you so much for your support looking forward to working more with you in the future regards\n",
      "urgently required update on transaction can you please tell me the amount transferred through transaction id thanks\n",
      "seeking update on the status of transaction please provide a status update on at the earliest\n",
      "seeking update on the status of transaction kindly reply to me at the earliest with the last transactions made with the account no thanks in advance\n",
      "dealing with the transaction acknowledging the received payment for transaction it is finally in process kind regards\n",
      "fulfilled transaction having id glad to let you know that i got the desired payment in reference to transaction i am very happy with your services and will definitely recommend your company to my friends and acquaintances warm regards\n",
      "urgent transaction ceased greetings for the day i checked my inbox and found your email stating the failure of my transaction please help me understand why has failed need funds urgently patiently waiting for you reply thanks a lot\n",
      "urgently required update on transaction i need details of urgently please provide the same on priority basis\n",
      "accepted payment transaction currently processing thank you for transferring the payment to my account yesterday i appreciate the quick response i would like to inform you that is is currently in process thanks and regards\n",
      "seeking update on the status of transaction kindly reply to me at the earliest with the last transactions made with the account no thanks in advance\n",
      "partially paid the required amount for transaction hello greetings for the day status of transaction inr for account is pending i would be grateful if you could tell me the cause thanks a lot\n",
      "why has my transaction stopped this is in response to your email stating that my transaction having id has failed but no reason was mentioned can you please tell me what did i do wrong so that i can create a new one without any errors waiting for your reply thank you in advance\n",
      "required money acquired transaction is in process hello this is to inform you that i have received the amount you transferred to my account and now it is currently in process\n",
      "completed transaction no i deeply appreciate your quick service as i have received the pre approved loan amount of inr\n",
      "transaction stalled and payment not received greetings for the day i checked my inbox and found your email stating the failure of my transaction please help me understand why has failed need funds urgently patiently waiting for you reply thanks a lot\n",
      "required money acquired transaction is in process hello this is to inform you that i have received the amount you transferred to my account and now it is currently in process\n",
      "change address for account no this is to inform you that i am not able to withdraw money from my account please help\n",
      "completed transaction no i deeply appreciate your quick service as i have received the pre approved loan amount of usd\n",
      "payment is pending for transaction since my transaction is still pending i wanted to know if there is a problem with the paperwork from my side please let me know at the earliest thanks and regards\n",
      "urgent transaction ceased this is to notify you that my transaction has failed please reply to me with the cause as soon as possible\n",
      "how to change pin no of atm card i need a new cheque book of leaves kindly send the same to my current address which is present in the details of my account\n",
      "sorted out the transaction with id i deeply appreciate your quick service as i have received the pre approved loan amount of inr\n",
      "processing transaction having id sincere greetings i am glad to tell you that i have finally been granted the pre approved amount through transaction it is now being processed i am grateful for your support warm regards\n",
      "payment is pending for transaction since my transaction is still pending i wanted to know if there is a problem with the paperwork from my side please let me know at the earliest thanks and regards\n",
      "incomplete transaction hey sincere apologies for transferring a fraction of the amount we agreed on please be assured that the rest is being transferred as of now thanks a lot for understanding\n",
      "received full payment for transaction no i deeply appreciate your quick service as i have received the pre approved loan amount of inr\n",
      "transaction is complete greetings i wanted to let you know that i have acknowledged the payment for transaction in response to your email which confirmed the finalized status of my transaction thanks and regards\n",
      "required money acquired transaction is in process acknowledging the received payment for transaction it is finally in process kind regards\n",
      "want to block account i have heard a lot about your bank and would like to open an account with citibank for that i would like to know all the documents that are required kindly reply with the same and also the further steps to be taken eagerly waiting for your reply\n"
     ]
    },
    {
     "name": "stdout",
     "output_type": "stream",
     "text": [
      "transaction having id has stopped help greetings for the day i checked my inbox and found your email stating the failure of my transaction please help me understand why has failed need funds urgently patiently waiting for you reply thanks a lot\n",
      "change address for account no this is to inform you that i am not able to withdraw money from my account please help\n",
      "why has my transaction stopped hey i see my transaction with id has failed i think i did everything right please look into this and reply with the reason urgently thank you and regards\n",
      "how to change pin no of atm card kindly add the contact no to my bank account\n",
      "request to send details of transaction urgently require details of acc reply asap\n",
      "transaction no is unresolved the transaction is taking too long to complete i would request you to kindly guide me through the further steps to be taken in order to complete the transaction\n",
      "seeking update on the status of transaction please provide a status update on at the earliest\n",
      "failure of transaction i have been your regular client and have followed the procedure for creating a transaction correctly still i received an email saying that the transaction has failed i would like to know the reasoning my transaction id is regards\n",
      "processing transaction having id hello this is to inform you that i have received the amount you transferred to my account and now it is currently in process\n",
      "seeking update on the status of transaction urgently require details of acc reply asap\n",
      "failure of transaction hey i see my transaction with id has failed i think i did everything right please look into this and reply with the reason urgently thank you and regards\n",
      "processing transaction having id acknowledging the received payment for transaction it is finally in process kind regards\n",
      "how to change pin no of atm card hey i think i lost my atm card today so can you please block my account or tell me a way to change my pin no i urgently need your reply thanks in advance\n",
      "processing transaction having id this is in response to your email notifying about the transferred amount i am acknowledging it and informing you that it is now in process\n",
      "handling the transaction after payment this is in response to your email notifying about the transferred amount i am acknowledging it and informing you that it is now in process\n",
      "received full payment for transaction no hello sincere greetings for the day i would like to inform you that my transaction has completed thank you so much for your support looking forward to working more with you in the future regards\n",
      "completed transaction no hello sincere greetings for the day i would like to inform you that my transaction has completed thank you so much for your support looking forward to working more with you in the future regards\n",
      "transaction is now being processed hello this is to inform you that i have received the amount you transferred to my account and now it is currently in process\n",
      "partial payment for transaction hey sincere apologies for transferring a fraction of the amount we agreed on please be assured that the rest is being transferred as of now thanks a lot for understanding\n",
      "urgently required update on transaction i need details of urgently please provide the same on priority basis\n",
      "why has my transaction stopped greetings for the day i checked my inbox and found your email stating the failure of my transaction please help me understand why has failed need funds urgently patiently waiting for you reply thanks a lot\n",
      "urgent transaction ceased this is to notify you that my transaction has failed please reply to me with the cause as soon as possible\n",
      "transaction is complete transaction complete payment received acknowledged thanks\n",
      "the pending amount for transaction will reach you soon hello greetings for the day status of transaction gbp for account is pending i would be grateful if you could tell me the cause thanks a lot\n",
      "payment outstanding for transaction hey sincere apologies for transferring a fraction of the amount we agreed on please be assured that the rest is being transferred as of now thanks a lot for understanding\n",
      "required money acquired transaction is in process this is in response to your email notifying about the transferred amount i am acknowledging it and informing you that it is now in process\n",
      "required money acquired transaction is in process sincere greetings i am glad to tell you that i have finally been granted the pre approved amount through transaction it is now being processed i am grateful for your support warm regards\n",
      "imploring update on transaction i need details of urgently please provide the same on priority basis\n",
      "payment received for transaction and now processing sincere greetings i am glad to tell you that i have finally been granted the pre approved amount through transaction it is now being processed i am grateful for your support warm regards\n",
      "transaction is now being processed thank you for transferring the payment to my account yesterday i appreciate the quick response i would like to inform you that is is currently in process thanks and regards\n",
      "failure of transaction this is in response to your email stating that my transaction having id has failed but no reason was mentioned can you please tell me what did i do wrong so that i can create a new one without any errors waiting for your reply thank you in advance\n",
      "payment done and transaction settled hey i am writing in reference to the transaction i was granted the aforementioned amount within the deadline sincere gratitude for such a quick response kind regards\n",
      "request to send details of transaction i need details of urgently please provide the same on priority basis\n",
      "the pending amount for transaction will reach you soon the transaction is taking too long to complete i would request you to kindly guide me through the further steps to be taken in order to complete the transaction\n",
      "urgently required update on transaction i request you to kindly send the status of my transaction with id thanks and regards\n",
      "urgent transaction ceased hey i see my transaction with id has failed i think i did everything right please look into this and reply with the reason urgently thank you and regards\n",
      "request to send details of transaction hey i would be really grateful if you could tell me the details of account no thanks\n",
      "transaction has failed i have been your regular client and have followed the procedure for creating a transaction correctly still i received an email saying that the transaction has failed i would like to know the reasoning my transaction id is regards\n",
      "partially paid the required amount for transaction since my transaction is still pending i wanted to know if there is a problem with the paperwork from my side please let me know at the earliest thanks and regards\n",
      "fulfilled transaction having id hello sincere greetings for the day i would like to inform you that my transaction has completed thank you so much for your support looking forward to working more with you in the future regards\n",
      "transaction is now being processed sincere greetings i am glad to tell you that i have finally been granted the pre approved amount through transaction it is now being processed i am grateful for your support warm regards\n",
      "transaction stalled and payment not received hey i see my transaction with id has failed i think i did everything right please look into this and reply with the reason urgently thank you and regards\n",
      "transaction having id has stopped help this is to notify you that my transaction has failed please reply to me with the cause as soon as possible\n",
      "the pending amount for transaction will reach you soon hello greetings for the day status of transaction usd for account is pending i would be grateful if you could tell me the cause thanks a lot\n",
      "failure of transaction this is to notify you that my transaction has failed please reply to me with the cause as soon as possible\n",
      "change address for account no add my new address vivek apts st patricks town hadapsar pune maharashtra to your records\n",
      "transaction having id has stopped help this is in response to your email stating that my transaction having id has failed but no reason was mentioned can you please tell me what did i do wrong so that i can create a new one without any errors waiting for your reply thank you in advance\n",
      "transaction is complete i deeply appreciate your quick service as i have received the pre approved loan amount of gbp\n",
      "transaction stalled and payment not received this is to notify you that my transaction has failed please reply to me with the cause as soon as possible\n"
     ]
    },
    {
     "name": "stdout",
     "output_type": "stream",
     "text": [
      "pending payment for transaction having id hey sincere apologies for transferring a fraction of the amount we agreed on please be assured that the rest is being transferred as of now thanks a lot for understanding\n",
      "imploring update on transaction kindly reply to me at the earliest with the last transactions made with the account no thanks in advance\n",
      "sorted out the transaction with id hey i am writing in reference to the transaction i was granted the aforementioned amount within the deadline sincere gratitude for such a quick response kind regards\n",
      "concluded the transaction to whom it may concern i have successfully received payment for the transaction i am grateful for your cooperation thank you so much and regards\n",
      "accepted payment transaction currently processing acknowledging the received payment for transaction it is finally in process kind regards\n",
      "request to send details of transaction i request you to kindly send the status of my transaction with id thanks and regards\n",
      "accepted payment transaction currently processing thank you for transferring the payment to my account yesterday i appreciate the quick response i would like to inform you that is is currently in process thanks and regards\n",
      "payment outstanding for transaction i regret to inform you the i could only pay the partial amount of inr i will definitely pay the remaining amount as soon as possible thank you for understanding regards\n",
      "add one more contact no to account i need a new cheque book of leaves kindly send the same to my current address which is present in the details of my account\n",
      "failure of transaction hey i see my transaction with id has failed i think i did everything right please look into this and reply with the reason urgently thank you and regards\n",
      "payment done and transaction settled greetings i wanted to let you know that i have acknowledged the payment for transaction in response to your email which confirmed the finalized status of my transaction thanks and regards\n",
      "transaction having id has stopped help i have been your regular client and have followed the procedure for creating a transaction correctly still i received an email saying that the transaction has failed i would like to know the reasoning my transaction id is regards\n",
      "urgently required update on transaction kindly reply to me at the earliest with the last transactions made with the account no thanks in advance\n",
      "why cant i withdraw money with my atm card i have heard a lot about your bank and would like to open an account with citibank for that i would like to know all the documents that are required kindly reply with the same and also the further steps to be taken eagerly waiting for your reply\n",
      "failure of transaction this is to notify you that my transaction has failed please reply to me with the cause as soon as possible\n",
      "failure of transaction hey i see my transaction with id has failed i think i did everything right please look into this and reply with the reason urgently thank you and regards\n",
      "new cheque book i need a new cheque book of leaves kindly send the same to my current address which is present in the details of my account\n",
      "transaction no is unresolved hey sincere apologies for transferring a fraction of the amount we agreed on please be assured that the rest is being transferred as of now thanks a lot for understanding\n",
      "transaction stalled and payment not received this is to notify you that my transaction has failed please reply to me with the cause as soon as possible\n",
      "incomplete transaction the transaction is taking too long to complete i would request you to kindly guide me through the further steps to be taken in order to complete the transaction\n",
      "processing transaction having id acknowledging the received payment for transaction it is finally in process kind regards\n",
      "seeking update on the status of transaction please provide a status update on at the earliest\n",
      "imploring update on transaction i need details of urgently please provide the same on priority basis\n",
      "concluded the transaction greetings i wanted to let you know that i have acknowledged the payment for transaction in response to your email which confirmed the finalized status of my transaction thanks and regards\n",
      "transaction no is unresolved there has been only a partial payment of amount eur assuring you that the rest will be paid later warm regards\n",
      "payment outstanding for transaction the transaction is taking too long to complete i would request you to kindly guide me through the further steps to be taken in order to complete the transaction\n",
      "accepted payment transaction currently processing hello this is to inform you that i have received the amount you transferred to my account and now it is currently in process\n",
      "payment is pending for transaction hey sincere apologies for transferring a fraction of the amount we agreed on please be assured that the rest is being transferred as of now thanks a lot for understanding\n",
      "abrupt closure of transaction with id i have been your regular client and have followed the procedure for creating a transaction correctly still i received an email saying that the transaction has failed i would like to know the reasoning my transaction id is regards\n",
      "change address for account no this is to inform you that i am not able to withdraw money from my account please help\n",
      "transaction has failed this is to notify you that my transaction has failed please reply to me with the cause as soon as possible\n",
      "pending payment for transaction having id hey sincere apologies for transferring a fraction of the amount we agreed on please be assured that the rest is being transferred as of now thanks a lot for understanding\n",
      "pending payment for transaction having id the transaction is taking too long to complete i would request you to kindly guide me through the further steps to be taken in order to complete the transaction\n",
      "how to change pin no of atm card kindly add the contact no to my bank account\n",
      "imploring update on transaction i need details of urgently please provide the same on priority basis\n",
      "transaction is complete i deeply appreciate your quick service as i have received the pre approved loan amount of inr\n",
      "transaction is now being processed thank you for transferring the payment to my account yesterday i appreciate the quick response i would like to inform you that is is currently in process thanks and regards\n",
      "dealing with the transaction hello this is to inform you that i have received the amount you transferred to my account and now it is currently in process\n",
      "processing transaction having id sincere greetings i am glad to tell you that i have finally been granted the pre approved amount through transaction it is now being processed i am grateful for your support warm regards\n",
      "soliciting information for id kindly reply to me at the earliest with the last transactions made with the account no thanks in advance\n",
      "payment done and transaction settled to whom it may concern i have successfully received payment for the transaction i am grateful for your cooperation thank you so much and regards\n",
      "fulfilled transaction having id hey i am writing in reference to the transaction i was granted the aforementioned amount within the deadline sincere gratitude for such a quick response kind regards\n",
      "transaction is complete hello sincere greetings for the day i would like to inform you that my transaction has completed thank you so much for your support looking forward to working more with you in the future regards\n",
      "imploring update on transaction please provide a status update on at the earliest\n",
      "payment received for transaction and now processing this is in response to your email notifying about the transferred amount i am acknowledging it and informing you that it is now in process\n",
      "imploring update on transaction kindly reply to me at the earliest with the last transactions made with the account no thanks in advance\n",
      "new cheque book kindly add the contact no to my bank account\n",
      "completed transaction no glad to let you know that i got the desired payment in reference to transaction i am very happy with your services and will definitely recommend your company to my friends and acquaintances warm regards\n",
      "required money acquired transaction is in process sincere greetings i am glad to tell you that i have finally been granted the pre approved amount through transaction it is now being processed i am grateful for your support warm regards\n",
      "send steps to activate online banking this is to inform you that i am not able to withdraw money from my account please help\n",
      "remaining amount for transaction to be paid later since my transaction is still pending i wanted to know if there is a problem with the paperwork from my side please let me know at the earliest thanks and regards\n",
      "soliciting information for id hey i would be really grateful if you could tell me the details of account no thanks\n"
     ]
    },
    {
     "name": "stdout",
     "output_type": "stream",
     "text": [
      "concluded the transaction hey i am writing in reference to the transaction i was granted the aforementioned amount within the deadline sincere gratitude for such a quick response kind regards\n",
      "finalized transaction of id hey i am writing in reference to the transaction i was granted the aforementioned amount within the deadline sincere gratitude for such a quick response kind regards\n",
      "remaining amount for transaction to be paid later i regret to inform you the i could only pay the partial amount of inr i will definitely pay the remaining amount as soon as possible thank you for understanding regards\n",
      "abrupt closure of transaction with id this is in response to your email stating that my transaction having id has failed but no reason was mentioned can you please tell me what did i do wrong so that i can create a new one without any errors waiting for your reply thank you in advance\n",
      "why has my transaction stopped this is in response to your email stating that my transaction having id has failed but no reason was mentioned can you please tell me what did i do wrong so that i can create a new one without any errors waiting for your reply thank you in advance\n",
      "failure of transaction greetings for the day i checked my inbox and found your email stating the failure of my transaction please help me understand why has failed need funds urgently patiently waiting for you reply thanks a lot\n",
      "urgent transaction ceased this is in response to your email stating that my transaction having id has failed but no reason was mentioned can you please tell me what did i do wrong so that i can create a new one without any errors waiting for your reply thank you in advance\n",
      "change address for account no kindly add the contact no to my bank account\n",
      "fulfilled transaction having id to whom it may concern i have successfully received payment for the transaction i am grateful for your cooperation thank you so much and regards\n",
      "payment done and transaction settled hey i am writing in reference to the transaction i was granted the aforementioned amount within the deadline sincere gratitude for such a quick response kind regards\n",
      "add one more contact no to account kindly add the contact no to my bank account\n",
      "urgently required update on transaction kindly reply to me at the earliest with the last transactions made with the account no thanks in advance\n",
      "payment is pending for transaction i regret to inform you the i could only pay the partial amount of gbp i will definitely pay the remaining amount as soon as possible thank you for understanding regards\n",
      "payment received for transaction and now processing hello this is to inform you that i have received the amount you transferred to my account and now it is currently in process\n",
      "fulfilled transaction having id greetings i wanted to let you know that i have acknowledged the payment for transaction in response to your email which confirmed the finalized status of my transaction thanks and regards\n",
      "seeking update on the status of transaction can you please tell me the amount transferred through transaction id thanks\n",
      "payment outstanding for transaction hey sincere apologies for transferring a fraction of the amount we agreed on please be assured that the rest is being transferred as of now thanks a lot for understanding\n",
      "received full payment for transaction no hey i am writing in reference to the transaction i was granted the aforementioned amount within the deadline sincere gratitude for such a quick response kind regards\n",
      "request to send details of transaction kindly reply to me at the earliest with the last transactions made with the account no thanks in advance\n",
      "finalized transaction of id hey i am writing in reference to the transaction i was granted the aforementioned amount within the deadline sincere gratitude for such a quick response kind regards\n",
      "urgently required update on transaction kindly reply to me at the earliest with the last transactions made with the account no thanks in advance\n",
      "soliciting information for id please provide a status update on at the earliest\n",
      "partial payment for transaction the transaction is taking too long to complete i would request you to kindly guide me through the further steps to be taken in order to complete the transaction\n",
      "sorted out the transaction with id greetings i wanted to let you know that i have acknowledged the payment for transaction in response to your email which confirmed the finalized status of my transaction thanks and regards\n",
      "failure of transaction this is to notify you that my transaction has failed please reply to me with the cause as soon as possible\n",
      "request to send details of transaction i need details of urgently please provide the same on priority basis\n",
      "transaction is complete to whom it may concern i have successfully received payment for the transaction i am grateful for your cooperation thank you so much and regards\n",
      "abrupt closure of transaction with id i have been your regular client and have followed the procedure for creating a transaction correctly still i received an email saying that the transaction has failed i would like to know the reasoning my transaction id is regards\n",
      "transaction is now being processed sincere greetings i am glad to tell you that i have finally been granted the pre approved amount through transaction it is now being processed i am grateful for your support warm regards\n",
      "transaction stalled and payment not received hey i see my transaction with id has failed i think i did everything right please look into this and reply with the reason urgently thank you and regards\n",
      "payment outstanding for transaction hey sincere apologies for transferring a fraction of the amount we agreed on please be assured that the rest is being transferred as of now thanks a lot for understanding\n",
      "payment is pending for transaction hello greetings for the day status of transaction eur for account is pending i would be grateful if you could tell me the cause thanks a lot\n",
      "concluded the transaction to whom it may concern i have successfully received payment for the transaction i am grateful for your cooperation thank you so much and regards\n",
      "transaction stalled and payment not received i have been your regular client and have followed the procedure for creating a transaction correctly still i received an email saying that the transaction has failed i would like to know the reasoning my transaction id is regards\n",
      "received full payment for transaction no i deeply appreciate your quick service as i have received the pre approved loan amount of usd\n",
      "imploring update on transaction kindly reply to me at the earliest with the last transactions made with the account no thanks in advance\n",
      "transaction stalled and payment not received this is to notify you that my transaction has failed please reply to me with the cause as soon as possible\n",
      "fulfilled transaction having id greetings i wanted to let you know that i have acknowledged the payment for transaction in response to your email which confirmed the finalized status of my transaction thanks and regards\n",
      "why cant i withdraw money with my atm card this is to inform you that i am not able to withdraw money from my account please help\n",
      "required money acquired transaction is in process sincere greetings i am glad to tell you that i have finally been granted the pre approved amount through transaction it is now being processed i am grateful for your support warm regards\n",
      "transaction has failed greetings for the day i checked my inbox and found your email stating the failure of my transaction please help me understand why has failed need funds urgently patiently waiting for you reply thanks a lot\n",
      "want to block account kindly add the contact no to my bank account\n",
      "sorted out the transaction with id to whom it may concern i have successfully received payment for the transaction i am grateful for your cooperation thank you so much and regards\n",
      "dealing with the transaction this is in response to your email notifying about the transferred amount i am acknowledging it and informing you that it is now in process\n",
      "urgently required update on transaction urgently require details of acc reply asap\n",
      "payment done and transaction settled hey i am writing in reference to the transaction i was granted the aforementioned amount within the deadline sincere gratitude for such a quick response kind regards\n",
      "the pending amount for transaction will reach you soon hello greetings for the day status of transaction usd for account is pending i would be grateful if you could tell me the cause thanks a lot\n",
      "payment outstanding for transaction i regret to inform you the i could only pay the partial amount of inr i will definitely pay the remaining amount as soon as possible thank you for understanding regards\n",
      "accepted payment transaction currently processing acknowledging the received payment for transaction it is finally in process kind regards\n",
      "payment received for transaction and now processing sincere greetings i am glad to tell you that i have finally been granted the pre approved amount through transaction it is now being processed i am grateful for your support warm regards\n",
      "transaction is complete greetings i wanted to let you know that i have acknowledged the payment for transaction in response to your email which confirmed the finalized status of my transaction thanks and regards\n",
      "transaction is now being processed acknowledging the received payment for transaction it is finally in process kind regards\n",
      "abrupt closure of transaction with id i have been your regular client and have followed the procedure for creating a transaction correctly still i received an email saying that the transaction has failed i would like to know the reasoning my transaction id is regards\n"
     ]
    },
    {
     "name": "stdout",
     "output_type": "stream",
     "text": [
      "payment done and transaction settled to whom it may concern i have successfully received payment for the transaction i am grateful for your cooperation thank you so much and regards\n",
      "fulfilled transaction having id glad to let you know that i got the desired payment in reference to transaction i am very happy with your services and will definitely recommend your company to my friends and acquaintances warm regards\n",
      "received full payment for transaction no hello sincere greetings for the day i would like to inform you that my transaction has completed thank you so much for your support looking forward to working more with you in the future regards\n",
      "transaction stalled and payment not received this is in response to your email stating that my transaction having id has failed but no reason was mentioned can you please tell me what did i do wrong so that i can create a new one without any errors waiting for your reply thank you in advance\n",
      "asking for the details for transaction can you please tell me the amount transferred through transaction id thanks\n",
      "abrupt closure of transaction with id this is to notify you that my transaction has failed please reply to me with the cause as soon as possible\n",
      "payment is pending for transaction the transaction is taking too long to complete i would request you to kindly guide me through the further steps to be taken in order to complete the transaction\n",
      "fulfilled transaction having id hello sincere greetings for the day i would like to inform you that my transaction has completed thank you so much for your support looking forward to working more with you in the future regards\n",
      "asking for the details for transaction please provide a status update on at the earliest\n",
      "request to send details of transaction kindly reply to me at the earliest with the last transactions made with the account no thanks in advance\n",
      "new cheque book kindly add the contact no to my bank account\n",
      "pending payment for transaction having id i regret to inform you the i could only pay the partial amount of gbp i will definitely pay the remaining amount as soon as possible thank you for understanding regards\n",
      "handling the transaction after payment acknowledging the received payment for transaction it is finally in process kind regards\n",
      "transaction stalled and payment not received greetings for the day i checked my inbox and found your email stating the failure of my transaction please help me understand why has failed need funds urgently patiently waiting for you reply thanks a lot\n",
      "sorted out the transaction with id hello sincere greetings for the day i would like to inform you that my transaction has completed thank you so much for your support looking forward to working more with you in the future regards\n",
      "received full payment for transaction no i deeply appreciate your quick service as i have received the pre approved loan amount of inr\n",
      "impetrating details for id please provide a status update on at the earliest\n",
      "request to send details of transaction hey i would be really grateful if you could tell me the details of account no thanks\n",
      "dealing with the transaction sincere greetings i am glad to tell you that i have finally been granted the pre approved amount through transaction it is now being processed i am grateful for your support warm regards\n",
      "change address for account no hey can you please send me the detailed steps that i ought to follow to create a new bank account\n",
      "urgently required update on transaction hey i would be really grateful if you could tell me the details of account no thanks\n",
      "seeking update on the status of transaction please provide a status update on at the earliest\n",
      "transaction is now being processed this is in response to your email notifying about the transferred amount i am acknowledging it and informing you that it is now in process\n",
      "upgrade to an account with more benefits i need a new cheque book of leaves kindly send the same to my current address which is present in the details of my account\n",
      "transaction having id has stopped help this is to notify you that my transaction has failed please reply to me with the cause as soon as possible\n",
      "remaining amount for transaction to be paid later hey sincere apologies for transferring a fraction of the amount we agreed on please be assured that the rest is being transferred as of now thanks a lot for understanding\n",
      "required money acquired transaction is in process this is in response to your email notifying about the transferred amount i am acknowledging it and informing you that it is now in process\n",
      "dealing with the transaction this is in response to your email notifying about the transferred amount i am acknowledging it and informing you that it is now in process\n",
      "transaction stalled and payment not received this is in response to your email stating that my transaction having id has failed but no reason was mentioned can you please tell me what did i do wrong so that i can create a new one without any errors waiting for your reply thank you in advance\n",
      "why cant i withdraw money with my atm card i need a new cheque book of leaves kindly send the same to my current address which is present in the details of my account\n",
      "asking for the details for transaction i request you to kindly send the status of my transaction with id thanks and regards\n",
      "transaction is complete hello sincere greetings for the day i would like to inform you that my transaction has completed thank you so much for your support looking forward to working more with you in the future regards\n",
      "finalized transaction of id glad to let you know that i got the desired payment in reference to transaction i am very happy with your services and will definitely recommend your company to my friends and acquaintances warm regards\n",
      "soliciting information for id i request you to kindly send the status of my transaction with id thanks and regards\n",
      "payment outstanding for transaction i regret to inform you the i could only pay the partial amount of inr i will definitely pay the remaining amount as soon as possible thank you for understanding regards\n",
      "transaction having id has stopped help this is in response to your email stating that my transaction having id has failed but no reason was mentioned can you please tell me what did i do wrong so that i can create a new one without any errors waiting for your reply thank you in advance\n",
      "handling the transaction after payment thank you for transferring the payment to my account yesterday i appreciate the quick response i would like to inform you that is is currently in process thanks and regards\n",
      "request to send details of transaction i request you to kindly send the status of my transaction with id thanks and regards\n",
      "received full payment for transaction no greetings i wanted to let you know that i have acknowledged the payment for transaction in response to your email which confirmed the finalized status of my transaction thanks and regards\n",
      "transaction is complete greetings i wanted to let you know that i have acknowledged the payment for transaction in response to your email which confirmed the finalized status of my transaction thanks and regards\n",
      "imploring update on transaction i request you to kindly send the status of my transaction with id thanks and regards\n",
      "payment outstanding for transaction the transaction is taking too long to complete i would request you to kindly guide me through the further steps to be taken in order to complete the transaction\n",
      "upgrade to an account with more benefits kindly add the contact no to my bank account\n",
      "payment received for transaction and now processing thank you for transferring the payment to my account yesterday i appreciate the quick response i would like to inform you that is is currently in process thanks and regards\n",
      "request to send details of transaction i need details of urgently please provide the same on priority basis\n",
      "transaction no is unresolved i regret to inform you the i could only pay the partial amount of inr i will definitely pay the remaining amount as soon as possible thank you for understanding regards\n",
      "finalized transaction of id greetings i wanted to let you know that i have acknowledged the payment for transaction in response to your email which confirmed the finalized status of my transaction thanks and regards\n",
      "processing transaction having id thank you for transferring the payment to my account yesterday i appreciate the quick response i would like to inform you that is is currently in process thanks and regards\n",
      "failure of transaction greetings for the day i checked my inbox and found your email stating the failure of my transaction please help me understand why has failed need funds urgently patiently waiting for you reply thanks a lot\n",
      "transaction no is unresolved there has been only a partial payment of amount gbp assuring you that the rest will be paid later warm regards\n"
     ]
    },
    {
     "name": "stdout",
     "output_type": "stream",
     "text": [
      "new cheque book this is to inform you that i am not able to withdraw money from my account please help\n",
      "request to send details of transaction i need details of urgently please provide the same on priority basis\n",
      "asking for the details for transaction can you please tell me the amount transferred through transaction id thanks\n",
      "completed transaction no glad to let you know that i got the desired payment in reference to transaction i am very happy with your services and will definitely recommend your company to my friends and acquaintances warm regards\n",
      "urgently required update on transaction kindly reply to me at the earliest with the last transactions made with the account no thanks in advance\n",
      "request to send details of transaction kindly reply to me at the earliest with the last transactions made with the account no thanks in advance\n",
      "want to block account hey i think i lost my atm card today so can you please block my account or tell me a way to change my pin no i urgently need your reply thanks in advance\n",
      "transaction is complete greetings i wanted to let you know that i have acknowledged the payment for transaction in response to your email which confirmed the finalized status of my transaction thanks and regards\n",
      "payment outstanding for transaction hello greetings for the day status of transaction usd for account is pending i would be grateful if you could tell me the cause thanks a lot\n",
      "transaction stalled and payment not received greetings for the day i checked my inbox and found your email stating the failure of my transaction please help me understand why has failed need funds urgently patiently waiting for you reply thanks a lot\n",
      "the pending amount for transaction will reach you soon since my transaction is still pending i wanted to know if there is a problem with the paperwork from my side please let me know at the earliest thanks and regards\n",
      "why has my transaction stopped i have been your regular client and have followed the procedure for creating a transaction correctly still i received an email saying that the transaction has failed i would like to know the reasoning my transaction id is regards\n",
      "processing transaction having id this is in response to your email notifying about the transferred amount i am acknowledging it and informing you that it is now in process\n",
      "dealing with the transaction hello this is to inform you that i have received the amount you transferred to my account and now it is currently in process\n",
      "abrupt closure of transaction with id this is to notify you that my transaction has failed please reply to me with the cause as soon as possible\n",
      "partially paid the required amount for transaction i regret to inform you the i could only pay the partial amount of inr i will definitely pay the remaining amount as soon as possible thank you for understanding regards\n",
      "change address for account no hey can you please send me the detailed steps that i ought to follow to create a new bank account\n",
      "partially paid the required amount for transaction hey sincere apologies for transferring a fraction of the amount we agreed on please be assured that the rest is being transferred as of now thanks a lot for understanding\n",
      "urgent transaction ceased greetings for the day i checked my inbox and found your email stating the failure of my transaction please help me understand why has failed need funds urgently patiently waiting for you reply thanks a lot\n",
      "incomplete transaction hello greetings for the day status of transaction eur for account is pending i would be grateful if you could tell me the cause thanks a lot\n",
      "urgent transaction ceased i have been your regular client and have followed the procedure for creating a transaction correctly still i received an email saying that the transaction has failed i would like to know the reasoning my transaction id is regards\n",
      "payment received for transaction and now processing thank you for transferring the payment to my account yesterday i appreciate the quick response i would like to inform you that is is currently in process thanks and regards\n",
      "payment received for transaction and now processing thank you for transferring the payment to my account yesterday i appreciate the quick response i would like to inform you that is is currently in process thanks and regards\n",
      "urgently required update on transaction urgently require details of acc reply asap\n",
      "asking for the details for transaction urgently require details of acc reply asap\n",
      "payment is pending for transaction the transaction is taking too long to complete i would request you to kindly guide me through the further steps to be taken in order to complete the transaction\n",
      "transaction is complete to whom it may concern i have successfully received payment for the transaction i am grateful for your cooperation thank you so much and regards\n",
      "fulfilled transaction having id to whom it may concern i have successfully received payment for the transaction i am grateful for your cooperation thank you so much and regards\n",
      "soliciting information for id kindly reply to me at the earliest with the last transactions made with the account no thanks in advance\n",
      "why has my transaction stopped hey i see my transaction with id has failed i think i did everything right please look into this and reply with the reason urgently thank you and regards\n",
      "dealing with the transaction acknowledging the received payment for transaction it is finally in process kind regards\n",
      "transaction no is unresolved hey sincere apologies for transferring a fraction of the amount we agreed on please be assured that the rest is being transferred as of now thanks a lot for understanding\n",
      "soliciting information for id urgently require details of acc reply asap\n",
      "abrupt closure of transaction with id this is to notify you that my transaction has failed please reply to me with the cause as soon as possible\n",
      "processing transaction having id thank you for transferring the payment to my account yesterday i appreciate the quick response i would like to inform you that is is currently in process thanks and regards\n",
      "imploring update on transaction i request you to kindly send the status of my transaction with id thanks and regards\n",
      "incomplete transaction since my transaction is still pending i wanted to know if there is a problem with the paperwork from my side please let me know at the earliest thanks and regards\n",
      "transaction having id has stopped help this is in response to your email stating that my transaction having id has failed but no reason was mentioned can you please tell me what did i do wrong so that i can create a new one without any errors waiting for your reply thank you in advance\n",
      "partial payment for transaction i regret to inform you the i could only pay the partial amount of eur i will definitely pay the remaining amount as soon as possible thank you for understanding regards\n",
      "transaction having id has stopped help hey i see my transaction with id has failed i think i did everything right please look into this and reply with the reason urgently thank you and regards\n",
      "failure of transaction greetings for the day i checked my inbox and found your email stating the failure of my transaction please help me understand why has failed need funds urgently patiently waiting for you reply thanks a lot\n",
      "remaining amount for transaction to be paid later the transaction is taking too long to complete i would request you to kindly guide me through the further steps to be taken in order to complete the transaction\n",
      "how to change pin no of atm card i need a new cheque book of leaves kindly send the same to my current address which is present in the details of my account\n",
      "transaction having id has stopped help this is in response to your email stating that my transaction having id has failed but no reason was mentioned can you please tell me what did i do wrong so that i can create a new one without any errors waiting for your reply thank you in advance\n",
      "seeking update on the status of transaction i need details of urgently please provide the same on priority basis\n",
      "payment outstanding for transaction hey sincere apologies for transferring a fraction of the amount we agreed on please be assured that the rest is being transferred as of now thanks a lot for understanding\n",
      "asking for the details for transaction hey i would be really grateful if you could tell me the details of account no thanks\n"
     ]
    },
    {
     "name": "stdout",
     "output_type": "stream",
     "text": [
      "remaining amount for transaction to be paid later hello greetings for the day status of transaction inr for account is pending i would be grateful if you could tell me the cause thanks a lot\n",
      "the pending amount for transaction will reach you soon hello greetings for the day status of transaction eur for account is pending i would be grateful if you could tell me the cause thanks a lot\n",
      "accepted payment transaction currently processing thank you for transferring the payment to my account yesterday i appreciate the quick response i would like to inform you that is is currently in process thanks and regards\n",
      "incomplete transaction the transaction is taking too long to complete i would request you to kindly guide me through the further steps to be taken in order to complete the transaction\n",
      "received full payment for transaction no hello sincere greetings for the day i would like to inform you that my transaction has completed thank you so much for your support looking forward to working more with you in the future regards\n",
      "request to send details of transaction i need details of urgently please provide the same on priority basis\n",
      "want to block account i need a new cheque book of leaves kindly send the same to my current address which is present in the details of my account\n",
      "completed transaction no i deeply appreciate your quick service as i have received the pre approved loan amount of eur\n",
      "failure of transaction i have been your regular client and have followed the procedure for creating a transaction correctly still i received an email saying that the transaction has failed i would like to know the reasoning my transaction id is regards\n",
      "urgently required update on transaction can you please tell me the amount transferred through transaction id thanks\n",
      "handling the transaction after payment thank you for transferring the payment to my account yesterday i appreciate the quick response i would like to inform you that is is currently in process thanks and regards\n",
      "transaction no is unresolved since my transaction is still pending i wanted to know if there is a problem with the paperwork from my side please let me know at the earliest thanks and regards\n",
      "fulfilled transaction having id glad to let you know that i got the desired payment in reference to transaction i am very happy with your services and will definitely recommend your company to my friends and acquaintances warm regards\n",
      "request to send details of transaction hey i would be really grateful if you could tell me the details of account no thanks\n",
      "transaction has failed i have been your regular client and have followed the procedure for creating a transaction correctly still i received an email saying that the transaction has failed i would like to know the reasoning my transaction id is regards\n",
      "payment outstanding for transaction since my transaction is still pending i wanted to know if there is a problem with the paperwork from my side please let me know at the earliest thanks and regards\n",
      "partially paid the required amount for transaction hello greetings for the day status of transaction usd for account is pending i would be grateful if you could tell me the cause thanks a lot\n",
      "the pending amount for transaction will reach you soon i regret to inform you the i could only pay the partial amount of eur i will definitely pay the remaining amount as soon as possible thank you for understanding regards\n",
      "remaining amount for transaction to be paid later hey sincere apologies for transferring a fraction of the amount we agreed on please be assured that the rest is being transferred as of now thanks a lot for understanding\n",
      "upgrade to an account with more benefits i have heard a lot about your bank and would like to open an account with citibank for that i would like to know all the documents that are required kindly reply with the same and also the further steps to be taken eagerly waiting for your reply\n",
      "request to send details of transaction please provide a status update on at the earliest\n",
      "fulfilled transaction having id greetings i wanted to let you know that i have acknowledged the payment for transaction in response to your email which confirmed the finalized status of my transaction thanks and regards\n",
      "urgent transaction ceased greetings for the day i checked my inbox and found your email stating the failure of my transaction please help me understand why has failed need funds urgently patiently waiting for you reply thanks a lot\n",
      "payment is pending for transaction the transaction is taking too long to complete i would request you to kindly guide me through the further steps to be taken in order to complete the transaction\n",
      "transaction no is unresolved i regret to inform you the i could only pay the partial amount of gbp i will definitely pay the remaining amount as soon as possible thank you for understanding regards\n",
      "transaction is complete glad to let you know that i got the desired payment in reference to transaction i am very happy with your services and will definitely recommend your company to my friends and acquaintances warm regards\n",
      "received full payment for transaction no hey i am writing in reference to the transaction i was granted the aforementioned amount within the deadline sincere gratitude for such a quick response kind regards\n",
      "payment received for transaction and now processing this is in response to your email notifying about the transferred amount i am acknowledging it and informing you that it is now in process\n",
      "urgent transaction ceased i have been your regular client and have followed the procedure for creating a transaction correctly still i received an email saying that the transaction has failed i would like to know the reasoning my transaction id is regards\n",
      "incomplete transaction there has been only a partial payment of amount inr assuring you that the rest will be paid later warm regards\n",
      "soliciting information for id hey i would be really grateful if you could tell me the details of account no thanks\n",
      "seeking update on the status of transaction can you please tell me the amount transferred through transaction id thanks\n",
      "received full payment for transaction no hello sincere greetings for the day i would like to inform you that my transaction has completed thank you so much for your support looking forward to working more with you in the future regards\n",
      "concluded the transaction i deeply appreciate your quick service as i have received the pre approved loan amount of gbp\n",
      "soliciting information for id can you please tell me the amount transferred through transaction id thanks\n",
      "want to block account i would like to know the instructions to be followed to install and setup mobile banking please reply to me with the same thanks in advance\n",
      "request to send details of transaction hey i would be really grateful if you could tell me the details of account no thanks\n",
      "why cant i withdraw money with my atm card kindly add the contact no to my bank account\n",
      "finalized transaction of id i deeply appreciate your quick service as i have received the pre approved loan amount of gbp\n",
      "sorted out the transaction with id greetings i wanted to let you know that i have acknowledged the payment for transaction in response to your email which confirmed the finalized status of my transaction thanks and regards\n",
      "asking for the details for transaction please provide a status update on at the earliest\n",
      "abrupt closure of transaction with id this is in response to your email stating that my transaction having id has failed but no reason was mentioned can you please tell me what did i do wrong so that i can create a new one without any errors waiting for your reply thank you in advance\n",
      "handling the transaction after payment this is in response to your email notifying about the transferred amount i am acknowledging it and informing you that it is now in process\n",
      "handling the transaction after payment acknowledging the received payment for transaction it is finally in process kind regards\n",
      "incomplete transaction i regret to inform you the i could only pay the partial amount of eur i will definitely pay the remaining amount as soon as possible thank you for understanding regards\n",
      "transaction is complete hey i am writing in reference to the transaction i was granted the aforementioned amount within the deadline sincere gratitude for such a quick response kind regards\n",
      "urgent transaction ceased this is to notify you that my transaction has failed please reply to me with the cause as soon as possible\n",
      "seeking update on the status of transaction urgently require details of acc reply asap\n",
      "want to block account i would like to know the instructions to be followed to install and setup mobile banking please reply to me with the same thanks in advance\n"
     ]
    },
    {
     "name": "stdout",
     "output_type": "stream",
     "text": [
      "upgrade to an account with more benefits i need a new cheque book of leaves kindly send the same to my current address which is present in the details of my account\n",
      "partially paid the required amount for transaction since my transaction is still pending i wanted to know if there is a problem with the paperwork from my side please let me know at the earliest thanks and regards\n",
      "required money acquired transaction is in process hello this is to inform you that i have received the amount you transferred to my account and now it is currently in process\n",
      "seeking update on the status of transaction hey i would be really grateful if you could tell me the details of account no thanks\n",
      "accepted payment transaction currently processing hello this is to inform you that i have received the amount you transferred to my account and now it is currently in process\n",
      "soliciting information for id kindly reply to me at the earliest with the last transactions made with the account no thanks in advance\n",
      "imploring update on transaction hey i would be really grateful if you could tell me the details of account no thanks\n",
      "change address for account no i have heard a lot about your bank and would like to open an account with citibank for that i would like to know all the documents that are required kindly reply with the same and also the further steps to be taken eagerly waiting for your reply\n",
      "payment received for transaction and now processing hello this is to inform you that i have received the amount you transferred to my account and now it is currently in process\n",
      "required money acquired transaction is in process hello this is to inform you that i have received the amount you transferred to my account and now it is currently in process\n",
      "add one more contact no to account i have heard a lot about your bank and would like to open an account with citibank for that i would like to know all the documents that are required kindly reply with the same and also the further steps to be taken eagerly waiting for your reply\n",
      "required money acquired transaction is in process sincere greetings i am glad to tell you that i have finally been granted the pre approved amount through transaction it is now being processed i am grateful for your support warm regards\n",
      "new cheque book i need a new cheque book of leaves kindly send the same to my current address which is present in the details of my account\n",
      "pending payment for transaction having id i regret to inform you the i could only pay the partial amount of gbp i will definitely pay the remaining amount as soon as possible thank you for understanding regards\n",
      "soliciting information for id i request you to kindly send the status of my transaction with id thanks and regards\n",
      "impetrating details for id please provide a status update on at the earliest\n",
      "change address for account no i have heard a lot about your bank and would like to open an account with citibank for that i would like to know all the documents that are required kindly reply with the same and also the further steps to be taken eagerly waiting for your reply\n",
      "required money acquired transaction is in process thank you for transferring the payment to my account yesterday i appreciate the quick response i would like to inform you that is is currently in process thanks and regards\n",
      "transaction no is unresolved the transaction is taking too long to complete i would request you to kindly guide me through the further steps to be taken in order to complete the transaction\n",
      "transaction no is unresolved hey sincere apologies for transferring a fraction of the amount we agreed on please be assured that the rest is being transferred as of now thanks a lot for understanding\n",
      "payment done and transaction settled glad to let you know that i got the desired payment in reference to transaction i am very happy with your services and will definitely recommend your company to my friends and acquaintances warm regards\n",
      "transaction has failed this is in response to your email stating that my transaction having id has failed but no reason was mentioned can you please tell me what did i do wrong so that i can create a new one without any errors waiting for your reply thank you in advance\n",
      "transaction is now being processed this is in response to your email notifying about the transferred amount i am acknowledging it and informing you that it is now in process\n",
      "dealing with the transaction this is in response to your email notifying about the transferred amount i am acknowledging it and informing you that it is now in process\n",
      "processing transaction having id hello this is to inform you that i have received the amount you transferred to my account and now it is currently in process\n",
      "soliciting information for id kindly reply to me at the earliest with the last transactions made with the account no thanks in advance\n",
      "failure of transaction i have been your regular client and have followed the procedure for creating a transaction correctly still i received an email saying that the transaction has failed i would like to know the reasoning my transaction id is regards\n",
      "fulfilled transaction having id to whom it may concern i have successfully received payment for the transaction i am grateful for your cooperation thank you so much and regards\n",
      "change address for account no i would like to know the instructions to be followed to install and setup mobile banking please reply to me with the same thanks in advance\n",
      "handling the transaction after payment sincere greetings i am glad to tell you that i have finally been granted the pre approved amount through transaction it is now being processed i am grateful for your support warm regards\n",
      "partially paid the required amount for transaction the transaction is taking too long to complete i would request you to kindly guide me through the further steps to be taken in order to complete the transaction\n",
      "incomplete transaction the transaction is taking too long to complete i would request you to kindly guide me through the further steps to be taken in order to complete the transaction\n",
      "pending payment for transaction having id hey sincere apologies for transferring a fraction of the amount we agreed on please be assured that the rest is being transferred as of now thanks a lot for understanding\n",
      "why has my transaction stopped this is to notify you that my transaction has failed please reply to me with the cause as soon as possible\n",
      "transaction stalled and payment not received i have been your regular client and have followed the procedure for creating a transaction correctly still i received an email saying that the transaction has failed i would like to know the reasoning my transaction id is regards\n",
      "handling the transaction after payment sincere greetings i am glad to tell you that i have finally been granted the pre approved amount through transaction it is now being processed i am grateful for your support warm regards\n",
      "transaction is complete hey i am writing in reference to the transaction i was granted the aforementioned amount within the deadline sincere gratitude for such a quick response kind regards\n",
      "processing transaction having id sincere greetings i am glad to tell you that i have finally been granted the pre approved amount through transaction it is now being processed i am grateful for your support warm regards\n",
      "partially paid the required amount for transaction i regret to inform you the i could only pay the partial amount of gbp i will definitely pay the remaining amount as soon as possible thank you for understanding regards\n",
      "abrupt closure of transaction with id hey i see my transaction with id has failed i think i did everything right please look into this and reply with the reason urgently thank you and regards\n",
      "want to block account i would like to know the instructions to be followed to install and setup mobile banking please reply to me with the same thanks in advance\n",
      "the pending amount for transaction will reach you soon i regret to inform you the i could only pay the partial amount of eur i will definitely pay the remaining amount as soon as possible thank you for understanding regards\n",
      "sorted out the transaction with id hello sincere greetings for the day i would like to inform you that my transaction has completed thank you so much for your support looking forward to working more with you in the future regards\n",
      "change address for account no i need a new cheque book of leaves kindly send the same to my current address which is present in the details of my account\n",
      "add one more contact no to account this is to inform you that i am not able to withdraw money from my account please help\n",
      "urgent transaction ceased greetings for the day i checked my inbox and found your email stating the failure of my transaction please help me understand why has failed need funds urgently patiently waiting for you reply thanks a lot\n",
      "abrupt closure of transaction with id greetings for the day i checked my inbox and found your email stating the failure of my transaction please help me understand why has failed need funds urgently patiently waiting for you reply thanks a lot\n"
     ]
    },
    {
     "name": "stdout",
     "output_type": "stream",
     "text": [
      "change address for account no i have heard a lot about your bank and would like to open an account with citibank for that i would like to know all the documents that are required kindly reply with the same and also the further steps to be taken eagerly waiting for your reply\n",
      "transaction has failed this is in response to your email stating that my transaction having id has failed but no reason was mentioned can you please tell me what did i do wrong so that i can create a new one without any errors waiting for your reply thank you in advance\n",
      "add one more contact no to account this is to inform you that i am not able to withdraw money from my account please help\n",
      "seeking update on the status of transaction kindly reply to me at the earliest with the last transactions made with the account no thanks in advance\n",
      "payment received for transaction and now processing thank you for transferring the payment to my account yesterday i appreciate the quick response i would like to inform you that is is currently in process thanks and regards\n",
      "sorted out the transaction with id greetings i wanted to let you know that i have acknowledged the payment for transaction in response to your email which confirmed the finalized status of my transaction thanks and regards\n",
      "transaction is complete to whom it may concern i have successfully received payment for the transaction i am grateful for your cooperation thank you so much and regards\n",
      "dealing with the transaction sincere greetings i am glad to tell you that i have finally been granted the pre approved amount through transaction it is now being processed i am grateful for your support warm regards\n",
      "imploring update on transaction urgently require details of acc reply asap\n",
      "failure of transaction greetings for the day i checked my inbox and found your email stating the failure of my transaction please help me understand why has failed need funds urgently patiently waiting for you reply thanks a lot\n",
      "seeking update on the status of transaction please provide a status update on at the earliest\n",
      "add one more contact no to account i have heard a lot about your bank and would like to open an account with citibank for that i would like to know all the documents that are required kindly reply with the same and also the further steps to be taken eagerly waiting for your reply\n",
      "payment is pending for transaction the transaction is taking too long to complete i would request you to kindly guide me through the further steps to be taken in order to complete the transaction\n",
      "add one more contact no to account i would like to know the instructions to be followed to install and setup mobile banking please reply to me with the same thanks in advance\n",
      "dealing with the transaction thank you for transferring the payment to my account yesterday i appreciate the quick response i would like to inform you that is is currently in process thanks and regards\n",
      "incomplete transaction the transaction is taking too long to complete i would request you to kindly guide me through the further steps to be taken in order to complete the transaction\n",
      "remaining amount for transaction to be paid later the transaction is taking too long to complete i would request you to kindly guide me through the further steps to be taken in order to complete the transaction\n",
      "transaction no is unresolved hello greetings for the day status of transaction inr for account is pending i would be grateful if you could tell me the cause thanks a lot\n",
      "fulfilled transaction having id glad to let you know that i got the desired payment in reference to transaction i am very happy with your services and will definitely recommend your company to my friends and acquaintances warm regards\n",
      "fulfilled transaction having id greetings i wanted to let you know that i have acknowledged the payment for transaction in response to your email which confirmed the finalized status of my transaction thanks and regards\n",
      "transaction no is unresolved the transaction is taking too long to complete i would request you to kindly guide me through the further steps to be taken in order to complete the transaction\n",
      "payment done and transaction settled glad to let you know that i got the desired payment in reference to transaction i am very happy with your services and will definitely recommend your company to my friends and acquaintances warm regards\n",
      "incomplete transaction the transaction is taking too long to complete i would request you to kindly guide me through the further steps to be taken in order to complete the transaction\n",
      "sorted out the transaction with id greetings i wanted to let you know that i have acknowledged the payment for transaction in response to your email which confirmed the finalized status of my transaction thanks and regards\n",
      "dealing with the transaction sincere greetings i am glad to tell you that i have finally been granted the pre approved amount through transaction it is now being processed i am grateful for your support warm regards\n",
      "partial payment for transaction there has been only a partial payment of amount usd assuring you that the rest will be paid later warm regards\n",
      "new cheque book kindly add the contact no to my bank account\n",
      "failure of transaction i have been your regular client and have been following the procedure for creating a transaction correctly for several years still i have received an email saying that the transaction has failed i am very annoyed by this i would like to know the reason my transaction id is regards\n",
      "upgrade to an account with more benefits kindly add the contact no to my bank account\n",
      "failure of transaction this is to notify you that my transaction has failed please reply to me with the cause as soon as possible\n",
      "transaction has failed greetings for the day i checked my inbox and found your email stating the failure of my transaction please help me understand why has failed need funds urgently patiently waiting for you reply thanks a lot\n",
      "impetrating details for id responding quickly to this will be highly appreciated send the exact amount transferred yesterday\n",
      "asking for the details for transaction can you please tell me the amount transferred through transaction id thanks\n",
      "handling the transaction after payment thank you for transferring the payment to my account yesterday i appreciate the quick response i would like to inform you that is is currently in process thanks and regards\n",
      "abrupt closure of transaction with id this is in response to your email stating that my transaction having id has failed but no reason was mentioned can you please tell me what did i do wrong so that i can create a new one without any errors waiting for your reply thank you in advance\n",
      "request to send details of transaction i request you to kindly send the status of my transaction with id thanks and regards\n",
      "rectify mistake i am holding a savings account in our bank for the past four years i got my pass book updated recently to file my income tax return but the entries from the period of th jan to th feb were missing kindly rectify this error and issue me a fresh print out thanking you\n",
      "transaction no is unresolved i regret to inform you the i could only pay the partial amount of inr i will definitely pay the remaining amount as soon as possible thank you for understanding regards\n",
      "the pending amount for transaction will reach you soon hello greetings for the day status of transaction usd for account is pending i would be grateful if you could tell me the cause thanks a lot\n",
      "why has my transaction stopped greetings for the day i checked my inbox and found your email stating the failure of my transaction please help me understand why has failed need funds urgently patiently waiting for you reply thanks a lot\n",
      "transaction stalled and payment not received hey i see my transaction with id has failed i think i did everything right please look into this and reply with the reason urgently thank you and regards\n",
      "death of account holder this is to notify the bank that my father had an account in your bank he passed away recently i am writing this letter on behalf of my mother i request the bank to transfer the amount in my father s account to my mother s account which is also in the same bank\n",
      "soliciting information for id can you please tell me the amount transferred through transaction id thanks\n",
      "payment outstanding for transaction there has been only a partial payment of amount eur assuring you that the rest will be paid later warm regards\n",
      "change address for account no i need a new cheque book of leaves kindly send the same to my current address which is present in the details of my account\n",
      "why cant i withdraw money with my atm card this is to inform you that i am not able to withdraw money from my account please help\n",
      "payment is pending for transaction the transaction is taking too long to complete i would request you to kindly guide me through the further steps to be taken in order to complete the transaction\n"
     ]
    },
    {
     "name": "stdout",
     "output_type": "stream",
     "text": [
      "transaction no is unresolved hello greetings for the day status of transaction inr for account is pending i would be grateful if you could tell me the cause thanks a lot\n",
      "want to block account kindly add the contact no to my bank account\n",
      "dealing with the transaction thank you for transferring the payment to my account yesterday i admire the quick response i would like to inform you that is is currently in process thanks and regards\n",
      "completed transaction no hey i am writing in reference to the transaction i was granted the aforementioned amount within the deadline sincere gratitude for such a quick response kind regards\n",
      "accepted payment transaction currently processing acknowledging the received payment for transaction it is finally in process kind regards\n",
      "imploring update on transaction i request you to kindly send the status of my transaction with id thanks and regards\n",
      "transaction stalled and payment not received this is in response to your email stating that my transaction having id has failed but no reason was mentioned can you please tell me what did i do wrong so that i can create a new one without any errors waiting for your reply thank you in advance\n",
      "transaction is complete to whom it may concern i have fortunately received payment for the transaction i have you to thank you for the cooperation\n",
      "seeking update on the status of transaction urgently require details of acc early response is expected\n",
      "concluded the transaction hello sincere greetings for the day i would like to inform you that my transaction has completed thank you so much for your support looking forward to working more with you in the future regards\n",
      "the pending amount for transaction will reach you soon i regret to inform you the i could only pay the partial amount of usd i will definitely pay the remaining amount as soon as possible thank you for understanding regards\n",
      "incapable of taking out money this is to inform you that i am not able to withdraw money from my account please help\n",
      "abrupt closure of transaction with id i have been your regular client and have followed the procedure for creating a transaction correctly still i received an email saying that the transaction has failed i would like to know the reasoning my transaction id is regards\n",
      "partially paid the required amount for transaction a partial payment has been made and remaining is being transferred as of now appreciate your patience\n",
      "transaction stalled and payment not received why is my transaction not in progress anymore it has failed i cannot understand how could this happen\n",
      "include some details to account kindly add the contact no to my bank account\n",
      "accepted payment transaction currently processing sincere greetings i am glad to tell you that i have finally been granted the pre approved amount through transaction it is now being processed i am grateful for your support warm regards\n",
      "received full payment for transaction no to whom it may concern i have successfully received payment for the transaction i am grateful for your cooperation thank you so much and regards\n",
      "information required patiently waiting to hear from you about the new development in the transaction\n",
      "handling the transaction after payment hello this is to inform you that i have received the amount you transferred to my account and now it is currently in process\n",
      "new cheque book kindly provide a new cheque book with leaves\n",
      "urgently required update on transaction hey i would be really grateful if you could tell me the details of account no thanks\n",
      "partially paid the required amount for transaction i regret to inform you the i could only pay the partial amount of usd i will definitely pay the remaining amount as soon as possible thank you for understanding regards\n",
      "transaction is complete hey i am writing in reference to the transaction i was granted the aforementioned amount within the deadline sincere gratitude for such a quick response kind regards\n",
      "partial payment for transaction there has been only a half payment of amount usd be that the rest will be paid later warm regards\n",
      "transaction has failed can you tell me why has failed need funds urgently patiently waiting for you reply thanks a lot\n",
      "finalized transaction of id to whom it may concern i have successfully received payment for the transaction i am grateful for your cooperation thank you so much and regards\n",
      "imploring update on transaction i need details of urgently please provide the same on priority basis\n",
      "failure of transaction hey i see my transaction with id has failed i think i did everything right please look into this and reply with the reason urgently thank you and regards\n",
      "seeking update on the status of transaction i would like for you to keep me posted on the current status of my transaction\n",
      "soliciting information for id kindly reply to me at the earliest with the last transactions made with the account no thanks in advance\n",
      "transaction having id has stopped help this is to notify you that my transaction has failed please respond with reason as soon as possible\n",
      "placing an order i need a new cheque book of leaves kindly send the same to my current address which is present in the details of my account\n",
      "the pending amount for transaction will reach you soon since my transaction is still pending i wanted to know if there is a problem with the paperwork from my side please let me know at the earliest thanks and regards\n",
      "required money acquired transaction is in process sincere greetings i am ecstatic to tell you that i have finally been granted the pre approved amount through transaction it is now being processed i am grateful for your support warm regards\n",
      "change address for account no tailwater street apt bronx ny this is my new address kindly put it in your bank records\n",
      "sorted out the transaction with id glad to let you know that i got the desired payment in reference to transaction i am very happy with your services and will definitely recommend your company to my friends and acquaintances warm regards\n",
      "send steps to activate online banking kindly add the contact no to my bank account\n",
      "processing transaction having id acknowledging the received payment for transaction it is finally in process kind regards\n",
      "transaction has failed greetings for the day i checked my inbox and found your email stating the failure of my transaction please help me understand why has failed need funds urgently patiently waiting for you reply thanks a lot\n",
      "loan scheme hi i m glad to inform you that you have been selected for a free loan scheme please revert if interested thanks in advance\n",
      "soliciting information for id can you please tell me the amount transferred through transaction id thanks\n",
      "soliciting information for id kindly reply to me at the earliest with the last transactions made with the account no thanks in advance\n",
      "failure of transaction i am clueless as to why i received an email saying that my transaction has failed i would like to know the reasoning my transaction id is regards\n",
      "incomplete transaction there has been only a partial payment of amount usd it is my gurantee that the rest will be paid later warm regards\n",
      "failure of transaction this is in response to your email stating that my transaction having id has failed but no reason was mentioned can you please tell me what did i do wrong so that i can create a new one without any errors waiting for your reply thank you in advance\n",
      "fulfilled transaction having id hey i am writing in reference to the transaction i was granted the aforementioned amount within the deadline sincere gratitude for such a quick response kind regards\n",
      "abrupt closure of transaction with id i have been your regular client and have followed the procedure for creating a transaction correctly still i received an email saying that the transaction has failed i would like to know the reasoning my transaction id is regards\n",
      "upgrade to an account with more benefits one of your employees suggested me to upgrade my account since it has more benefits so i would like to confirm from you the perks that he listed thanks in advance\n",
      "imploring update on transaction hey i would like to informed about the details of account no thanks\n",
      "why has my transaction stopped i have been your regular client and have followed the procedure for creating a transaction correctly still i received an email saying that the transaction has failed i would like to know the reasoning my transaction id is regards\n",
      "handling the transaction after payment this is in response to your email notifying about the transferred amount i am acknowledging it and informing you that it is now in process\n",
      "request to send details of transaction can you please tell me the amount transferred through transaction id thanks\n",
      "payment received for transaction and now processing grateful to you for transferring the payment to my account yesterday i would like to inform you that is is currently in process thanks and regards\n",
      "handling the transaction after payment sincere greetings i am glad to tell you that i have finally been granted the pre approved amount through transaction it is now being processed i am grateful for your support warm regards\n",
      "received full payment for transaction no to whom it may concern i have successfully acquired payment for the transaction i am beholden to your cooperation\n"
     ]
    }
   ],
   "source": [
    "# sub_df[\"content\"]=sub_df[\"content\"].map(clean)\n",
    "text_clean=[]\n",
    "\n",
    "for i in range(df.shape[0]):\n",
    "    text_clean.append(clean(df.loc[i]['Text_Data']))\n",
    "\n",
    "# text_clean\n",
    "# print(type(df.values[i][7]))"
   ]
  },
  {
   "cell_type": "code",
   "execution_count": 18,
   "metadata": {
    "colab": {},
    "colab_type": "code",
    "id": "mCZ9fm_kNewP"
   },
   "outputs": [],
   "source": [
    "df['Text_Data'] = text_clean"
   ]
  },
  {
   "cell_type": "code",
   "execution_count": 19,
   "metadata": {
    "colab": {
     "base_uri": "https://localhost:8080/",
     "height": 330
    },
    "colab_type": "code",
    "id": "Oc6PezO9NewT",
    "outputId": "0256842d-e98a-4432-94c5-9d80e263b806"
   },
   "outputs": [
    {
     "data": {
      "text/html": [
       "<div>\n",
       "<style scoped>\n",
       "    .dataframe tbody tr th:only-of-type {\n",
       "        vertical-align: middle;\n",
       "    }\n",
       "\n",
       "    .dataframe tbody tr th {\n",
       "        vertical-align: top;\n",
       "    }\n",
       "\n",
       "    .dataframe thead th {\n",
       "        text-align: right;\n",
       "    }\n",
       "</style>\n",
       "<table border=\"1\" class=\"dataframe\">\n",
       "  <thead>\n",
       "    <tr style=\"text-align: right;\">\n",
       "      <th></th>\n",
       "      <th>From</th>\n",
       "      <th>To</th>\n",
       "      <th>Subject</th>\n",
       "      <th>Body</th>\n",
       "      <th>Class</th>\n",
       "      <th>TransactionID</th>\n",
       "      <th>Payment Date</th>\n",
       "      <th>Text_Data</th>\n",
       "    </tr>\n",
       "  </thead>\n",
       "  <tbody>\n",
       "    <tr>\n",
       "      <th>0</th>\n",
       "      <td>Spike@DEUTSCHEBANK.com</td>\n",
       "      <td>Shaniece@CitiBankPune.com</td>\n",
       "      <td>Transaction no. 072558 is unresolved.</td>\n",
       "      <td>Sorry to inform that there has been only a par...</td>\n",
       "      <td>Pending</td>\n",
       "      <td>72558</td>\n",
       "      <td>04-02-2020</td>\n",
       "      <td>transaction unresolved sorry inform partial pa...</td>\n",
       "    </tr>\n",
       "    <tr>\n",
       "      <th>1</th>\n",
       "      <td>Stacy@HDFC.com</td>\n",
       "      <td>Rohan@CitiBankNewYork.com</td>\n",
       "      <td>Order for new Cheque book</td>\n",
       "      <td>Good morning, I want to place an order for an ...</td>\n",
       "      <td>General</td>\n",
       "      <td>212096</td>\n",
       "      <td>29-05-2020</td>\n",
       "      <td>order new cheque book good morning want place ...</td>\n",
       "    </tr>\n",
       "    <tr>\n",
       "      <th>2</th>\n",
       "      <td>Zachary@HDFC.com</td>\n",
       "      <td>Rishabh@CitiBankPune.com</td>\n",
       "      <td>Required money acquired. Transaction 847047 is...</td>\n",
       "      <td>Hello! This is to inform you that I have recei...</td>\n",
       "      <td>Processing</td>\n",
       "      <td>847047</td>\n",
       "      <td>26-01-2020</td>\n",
       "      <td>require money acquire transaction process info...</td>\n",
       "    </tr>\n",
       "    <tr>\n",
       "      <th>3</th>\n",
       "      <td>Stacy@SBI.com</td>\n",
       "      <td>Shai@CitiBankHongKong.com</td>\n",
       "      <td>Asking for the details for transaction 746078</td>\n",
       "      <td>I request you to kindly send the status of my ...</td>\n",
       "      <td>Request</td>\n",
       "      <td>746078</td>\n",
       "      <td>17-06-2019</td>\n",
       "      <td>ask detail transaction request kindly send sta...</td>\n",
       "    </tr>\n",
       "    <tr>\n",
       "      <th>4</th>\n",
       "      <td>Angela@HDFC.com</td>\n",
       "      <td>Dipesh@CitiBankSingapore.com</td>\n",
       "      <td>Partial payment for transaction 535918</td>\n",
       "      <td>Hello!! Greetings for the day. Status of trans...</td>\n",
       "      <td>Pending</td>\n",
       "      <td>535918</td>\n",
       "      <td>18-02-2020</td>\n",
       "      <td>partial payment transaction day status transac...</td>\n",
       "    </tr>\n",
       "  </tbody>\n",
       "</table>\n",
       "</div>"
      ],
      "text/plain": [
       "                     From                            To  \\\n",
       "0  Spike@DEUTSCHEBANK.com     Shaniece@CitiBankPune.com   \n",
       "1          Stacy@HDFC.com     Rohan@CitiBankNewYork.com   \n",
       "2        Zachary@HDFC.com      Rishabh@CitiBankPune.com   \n",
       "3           Stacy@SBI.com     Shai@CitiBankHongKong.com   \n",
       "4         Angela@HDFC.com  Dipesh@CitiBankSingapore.com   \n",
       "\n",
       "                                             Subject  \\\n",
       "0              Transaction no. 072558 is unresolved.   \n",
       "1                          Order for new Cheque book   \n",
       "2  Required money acquired. Transaction 847047 is...   \n",
       "3      Asking for the details for transaction 746078   \n",
       "4             Partial payment for transaction 535918   \n",
       "\n",
       "                                                Body       Class  \\\n",
       "0  Sorry to inform that there has been only a par...     Pending   \n",
       "1  Good morning, I want to place an order for an ...     General   \n",
       "2  Hello! This is to inform you that I have recei...  Processing   \n",
       "3  I request you to kindly send the status of my ...     Request   \n",
       "4  Hello!! Greetings for the day. Status of trans...     Pending   \n",
       "\n",
       "   TransactionID Payment Date  \\\n",
       "0          72558   04-02-2020   \n",
       "1         212096   29-05-2020   \n",
       "2         847047   26-01-2020   \n",
       "3         746078   17-06-2019   \n",
       "4         535918   18-02-2020   \n",
       "\n",
       "                                           Text_Data  \n",
       "0  transaction unresolved sorry inform partial pa...  \n",
       "1  order new cheque book good morning want place ...  \n",
       "2  require money acquire transaction process info...  \n",
       "3  ask detail transaction request kindly send sta...  \n",
       "4  partial payment transaction day status transac...  "
      ]
     },
     "execution_count": 19,
     "metadata": {},
     "output_type": "execute_result"
    }
   ],
   "source": [
    "df.head()"
   ]
  },
  {
   "cell_type": "code",
   "execution_count": 20,
   "metadata": {
    "colab": {
     "base_uri": "https://localhost:8080/",
     "height": 34
    },
    "colab_type": "code",
    "id": "IWe59ym7NewY",
    "outputId": "5a019025-575c-46d2-fe71-2632902a91fb"
   },
   "outputs": [
    {
     "data": {
      "text/plain": [
       "'transaction unresolved sorry inform partial payment definitely go receive rest later point time warm'"
      ]
     },
     "execution_count": 20,
     "metadata": {},
     "output_type": "execute_result"
    }
   ],
   "source": [
    "df['Text_Data'][0]"
   ]
  },
  {
   "cell_type": "code",
   "execution_count": 21,
   "metadata": {
    "colab": {
     "base_uri": "https://localhost:8080/",
     "height": 34
    },
    "colab_type": "code",
    "id": "qRjUifVnNewc",
    "outputId": "7249d4ae-c557-4142-fd05-2b3894cd2cf5"
   },
   "outputs": [
    {
     "data": {
      "text/plain": [
       "'order new cheque book good morning want place order multicity cheque book have atleat leave kindly send address mention record'"
      ]
     },
     "execution_count": 21,
     "metadata": {},
     "output_type": "execute_result"
    }
   ],
   "source": [
    "df['Text_Data'][1]"
   ]
  },
  {
   "cell_type": "code",
   "execution_count": 22,
   "metadata": {
    "colab": {},
    "colab_type": "code",
    "id": "dl_BuNePNewn"
   },
   "outputs": [],
   "source": [
    "lengths = []\n",
    "\n",
    "for i in range(df.shape[0]):\n",
    "    words = df.values[i][7].split()\n",
    "    lengths.append(len(words))\n",
    "    \n",
    "avg = int(np.mean(lengths) + 2*np.std(lengths))"
   ]
  },
  {
   "cell_type": "code",
   "execution_count": 51,
   "metadata": {},
   "outputs": [
    {
     "name": "stdout",
     "output_type": "stream",
     "text": [
      "21\n"
     ]
    }
   ],
   "source": [
    "print(avg)"
   ]
  },
  {
   "cell_type": "code",
   "execution_count": 23,
   "metadata": {
    "colab": {},
    "colab_type": "code",
    "id": "sJxMfwckNewq"
   },
   "outputs": [],
   "source": [
    "# df['Subject'][1005] + \" \" + df['Body'][1005]"
   ]
  },
  {
   "cell_type": "markdown",
   "metadata": {
    "colab_type": "text",
    "id": "6IdZf-TeNewu"
   },
   "source": [
    "## Step 3: Loading word2vec"
   ]
  },
  {
   "cell_type": "code",
   "execution_count": 24,
   "metadata": {
    "colab": {},
    "colab_type": "code",
    "id": "YzB0QrRSNewu"
   },
   "outputs": [],
   "source": [
    "#convert sentences to embeddings and classes to one-hot vectors"
   ]
  },
  {
   "cell_type": "code",
   "execution_count": 25,
   "metadata": {
    "colab": {
     "base_uri": "https://localhost:8080/",
     "height": 353
    },
    "colab_type": "code",
    "id": "Ia13n6jaOMEc",
    "outputId": "cc356213-861b-4177-fc06-6b36b3304b43"
   },
   "outputs": [],
   "source": [
    "# !wget http://nlp.stanford.edu/data/glove.6B.zip "
   ]
  },
  {
   "cell_type": "code",
   "execution_count": 26,
   "metadata": {
    "colab": {
     "base_uri": "https://localhost:8080/",
     "height": 101
    },
    "colab_type": "code",
    "id": "YorozJOlOMRi",
    "outputId": "5969d305-3b16-4c02-d32a-da4fda655890"
   },
   "outputs": [],
   "source": [
    "# !unzip glove*.zip"
   ]
  },
  {
   "cell_type": "code",
   "execution_count": null,
   "metadata": {
    "colab": {},
    "colab_type": "code",
    "id": "DiX9z8wXOMCQ"
   },
   "outputs": [],
   "source": []
  },
  {
   "cell_type": "code",
   "execution_count": 27,
   "metadata": {
    "colab": {
     "base_uri": "https://localhost:8080/",
     "height": 34
    },
    "colab_type": "code",
    "id": "NG4coV6vNewx",
    "outputId": "f83949ce-a7a0-4644-ebdd-a3433ad5fbe6"
   },
   "outputs": [
    {
     "name": "stdout",
     "output_type": "stream",
     "text": [
      "400000\n"
     ]
    }
   ],
   "source": [
    "embeddings_index = {}\n",
    "with open('../glove.6B.300d.txt',encoding='utf-8') as f:\n",
    "    for line in f:\n",
    "        values = line.split()\n",
    "        word = values[0]\n",
    "        coeffs = np.asarray(values[1:],dtype='float32')\n",
    "        \n",
    "#         print(word)\n",
    "#         print(coeffs)\n",
    "        embeddings_index[word] = coeffs\n",
    "    f.close()\n",
    "print(len(embeddings_index))\n",
    "\n",
    "# embeddings_index = dict()\n",
    "# f = open('./glove.6B.300d.txt')\n",
    "# for line in f:\n",
    "#     values = line.split()\n",
    "#     word = values[0]\n",
    "#     coefs = np.asarray(values[1:], dtype='float32')\n",
    "#     embeddings_index[word] = coefs\n",
    "# f.close()"
   ]
  },
  {
   "cell_type": "code",
   "execution_count": 28,
   "metadata": {
    "colab": {
     "base_uri": "https://localhost:8080/",
     "height": 50
    },
    "colab_type": "code",
    "id": "mZ5RWqVANew2",
    "outputId": "5a24e053-8857-4e2a-eed2-db74016c58cc"
   },
   "outputs": [
    {
     "name": "stdout",
     "output_type": "stream",
     "text": [
      "400000\n",
      "300\n"
     ]
    }
   ],
   "source": [
    "print(len(embeddings_index))\n",
    "print(len(embeddings_index['girl']))"
   ]
  },
  {
   "cell_type": "markdown",
   "metadata": {
    "colab_type": "text",
    "id": "qIOKyxurNew7"
   },
   "source": [
    "## Step 4 - Converting sentences to vectors (creating the o/p of embedding layer)"
   ]
  },
  {
   "cell_type": "code",
   "execution_count": 76,
   "metadata": {
    "colab": {
     "base_uri": "https://localhost:8080/",
     "height": 34
    },
    "colab_type": "code",
    "id": "bJb6Hd5PNew7",
    "outputId": "2b26943e-d4b9-492c-b3e7-78c899eeca64"
   },
   "outputs": [
    {
     "name": "stdout",
     "output_type": "stream",
     "text": [
      "348\n",
      "[  1 135 226  12  54   2  62 227   6  74 105 228 196  44   0   0   0   0\n",
      "   0   0   0]\n"
     ]
    }
   ],
   "source": [
    "t = Tokenizer()\n",
    "l = list(df.Text_Data)\n",
    "t.fit_on_texts(l)\n",
    "vocab_size = len(t.word_index) + 1\n",
    "print(vocab_size)\n",
    "\n",
    "# integer encode the mails\n",
    "encoded_mails = t.texts_to_sequences(l)\n",
    "# print(encoded_mails)\n",
    "\n",
    "#post padding\n",
    "padded_inputs = pad_sequences(encoded_mails, maxlen=avg, padding='post')\n",
    "print(padded_inputs[0])"
   ]
  },
  {
   "cell_type": "code",
   "execution_count": 30,
   "metadata": {
    "colab": {
     "base_uri": "https://localhost:8080/",
     "height": 50
    },
    "colab_type": "code",
    "id": "qjDIIRe8New_",
    "outputId": "9d46bdef-f8dc-4077-cfd0-0eeb105c9661"
   },
   "outputs": [
    {
     "data": {
      "text/plain": [
       "array([  1, 135, 226,  12,  54,   2,  62, 227,   6,  74, 105, 228, 196,\n",
       "        44,   0,   0,   0,   0,   0,   0,   0], dtype=int32)"
      ]
     },
     "execution_count": 30,
     "metadata": {},
     "output_type": "execute_result"
    }
   ],
   "source": [
    "padded_inputs[0]"
   ]
  },
  {
   "cell_type": "code",
   "execution_count": 31,
   "metadata": {
    "colab": {
     "base_uri": "https://localhost:8080/",
     "height": 50
    },
    "colab_type": "code",
    "id": "Wm8NQ8W5NexE",
    "outputId": "3dfe255c-aa6e-4684-bb48-65c37b4a86f6"
   },
   "outputs": [
    {
     "name": "stdout",
     "output_type": "stream",
     "text": [
      "[1, 135, 226, 12, 54, 2, 62, 227, 6, 74, 105, 228, 196, 44]\n"
     ]
    },
    {
     "data": {
      "text/plain": [
       "(348, 300)"
      ]
     },
     "execution_count": 31,
     "metadata": {},
     "output_type": "execute_result"
    }
   ],
   "source": [
    "# create a weight matrix for words in training docs\n",
    "\n",
    "print(encoded_mails[0])\n",
    "embedding_matrix_train = np.zeros((vocab_size, 300))\n",
    "for word, i in t.word_index.items():\n",
    "    embedding_vector = embeddings_index.get(word)\n",
    "    if embedding_vector is not None:\n",
    "        embedding_matrix_train[i] = embedding_vector\n",
    "        # print(i)\n",
    "        # print(word)\n",
    "        # print()\n",
    "embedding_matrix_train.shape    "
   ]
  },
  {
   "cell_type": "code",
   "execution_count": 32,
   "metadata": {
    "colab": {},
    "colab_type": "code",
    "id": "riwIM_u5NexI"
   },
   "outputs": [],
   "source": [
    "# import preprocessing from sklearn\n",
    "from sklearn.preprocessing import OneHotEncoder \n",
    "from sklearn.preprocessing import LabelEncoder "
   ]
  },
  {
   "cell_type": "code",
   "execution_count": 33,
   "metadata": {
    "colab": {},
    "colab_type": "code",
    "id": "CowFy105NexN"
   },
   "outputs": [],
   "source": [
    "le = OneHotEncoder()\n",
    "classes = df['Class'].values\n",
    "\n",
    "classes = classes.reshape(-1, 1)\n",
    "Y = le.fit_transform(classes)"
   ]
  },
  {
   "cell_type": "code",
   "execution_count": 34,
   "metadata": {
    "colab": {},
    "colab_type": "code",
    "id": "7czDoaJDNexR"
   },
   "outputs": [],
   "source": [
    "Y = Y.toarray()"
   ]
  },
  {
   "cell_type": "code",
   "execution_count": 35,
   "metadata": {
    "colab": {},
    "colab_type": "code",
    "id": "ZgkgnmFANexU"
   },
   "outputs": [],
   "source": [
    "X_train, X_test, Y_train, Y_test = train_test_split(padded_inputs, Y, test_size=0.2, stratify=Y)"
   ]
  },
  {
   "cell_type": "code",
   "execution_count": 71,
   "metadata": {
    "colab": {},
    "colab_type": "code",
    "id": "hqeWQw8xNexZ"
   },
   "outputs": [
    {
     "data": {
      "text/plain": [
       "(191, 6)"
      ]
     },
     "execution_count": 71,
     "metadata": {},
     "output_type": "execute_result"
    }
   ],
   "source": [
    "Y_test.shape"
   ]
  },
  {
   "cell_type": "code",
   "execution_count": 53,
   "metadata": {
    "colab": {
     "base_uri": "https://localhost:8080/",
     "height": 34
    },
    "colab_type": "code",
    "id": "MskkmfHVNexc",
    "outputId": "f8961819-840b-4ac8-98f9-56ed84ead6cd"
   },
   "outputs": [
    {
     "data": {
      "text/plain": [
       "(191, 21)"
      ]
     },
     "execution_count": 53,
     "metadata": {},
     "output_type": "execute_result"
    }
   ],
   "source": [
    "X_test.shape"
   ]
  },
  {
   "cell_type": "code",
   "execution_count": 38,
   "metadata": {
    "colab": {},
    "colab_type": "code",
    "id": "eVHENpRTNexf"
   },
   "outputs": [],
   "source": [
    "from keras.utils import to_categorical\n",
    "\n",
    "YT = to_categorical(Y_train, num_classes=6)\n",
    "Yt = to_categorical(Y_test, num_classes=6)"
   ]
  },
  {
   "cell_type": "code",
   "execution_count": 39,
   "metadata": {
    "colab": {},
    "colab_type": "code",
    "id": "JSyTMAljNexj"
   },
   "outputs": [],
   "source": [
    "# define model\n",
    "model_glove = Sequential()\n",
    "model_glove.add(Embedding(vocab_size, 300, weights=[embedding_matrix_train], input_length=avg, trainable=True))\n",
    "model_glove.add(Bidirectional(LSTM(20,input_shape=(avg,300), return_sequences=True)))\n",
    "model_glove.add(Dropout(0.2))\n",
    "model_glove.add(BatchNormalization())\n",
    "\n",
    "model_glove.add(Bidirectional(LSTM(20, input_shape=(avg,300), return_sequences=False)))\n",
    "model_glove.add(Dropout(0.2))\n",
    "model_glove.add(BatchNormalization())\n",
    "\n",
    "# model_glove.add(Bidirectional(LSTM(20)))\n",
    "# model_glove.add(Dropout(0.2))\n",
    "# model_glove.add(BatchNormalization())\n",
    "\n",
    "# model_glove.add(Dense(64, activation='relu'))\n",
    "model_glove.add(Dense(64, activation='relu'))\n",
    "\n",
    "model_glove.add(Dense(6))\n",
    "model_glove.add(Activation('softmax'))\n",
    "model_glove.compile(loss='categorical_crossentropy', optimizer='adam', metrics=['accuracy'])"
   ]
  },
  {
   "cell_type": "code",
   "execution_count": 40,
   "metadata": {
    "colab": {
     "base_uri": "https://localhost:8080/",
     "height": 423
    },
    "colab_type": "code",
    "id": "I-m_YPt9Nexm",
    "outputId": "1eeb5c96-b534-4b05-f9d6-292a993791bf"
   },
   "outputs": [
    {
     "name": "stderr",
     "output_type": "stream",
     "text": [
      "/home/aheli/anaconda3/lib/python3.7/site-packages/tensorflow_core/python/framework/indexed_slices.py:433: UserWarning: Converting sparse IndexedSlices to a dense Tensor of unknown shape. This may consume a large amount of memory.\n",
      "  \"Converting sparse IndexedSlices to a dense Tensor of unknown shape. \"\n"
     ]
    },
    {
     "name": "stdout",
     "output_type": "stream",
     "text": [
      "Epoch 1/10\n",
      "760/760 [==============================] - 6s 8ms/step - loss: 1.1247 - accuracy: 0.6289\n",
      "Epoch 2/10\n",
      "760/760 [==============================] - 1s 1ms/step - loss: 0.3207 - accuracy: 0.9776\n",
      "Epoch 3/10\n",
      "760/760 [==============================] - 1s 1ms/step - loss: 0.1020 - accuracy: 0.9987\n",
      "Epoch 4/10\n",
      "760/760 [==============================] - 1s 1ms/step - loss: 0.0449 - accuracy: 0.9987\n",
      "Epoch 5/10\n",
      "760/760 [==============================] - 1s 1ms/step - loss: 0.0258 - accuracy: 1.0000\n",
      "Epoch 6/10\n",
      "760/760 [==============================] - 1s 1ms/step - loss: 0.0175 - accuracy: 1.0000\n",
      "Epoch 7/10\n",
      "760/760 [==============================] - 1s 2ms/step - loss: 0.0161 - accuracy: 1.0000\n",
      "Epoch 8/10\n",
      "760/760 [==============================] - 1s 1ms/step - loss: 0.0138 - accuracy: 1.0000\n",
      "Epoch 9/10\n",
      "760/760 [==============================] - 1s 1ms/step - loss: 0.0099 - accuracy: 1.0000\n",
      "Epoch 10/10\n",
      "760/760 [==============================] - 1s 1ms/step - loss: 0.0086 - accuracy: 1.0000\n"
     ]
    },
    {
     "data": {
      "text/plain": [
       "<keras.callbacks.callbacks.History at 0x7eff8caa7750>"
      ]
     },
     "execution_count": 40,
     "metadata": {},
     "output_type": "execute_result"
    }
   ],
   "source": [
    "model_glove.fit(X_train, Y_train, epochs = 10)"
   ]
  },
  {
   "cell_type": "code",
   "execution_count": null,
   "metadata": {
    "colab": {},
    "colab_type": "code",
    "id": "FI2vOeWPNexp"
   },
   "outputs": [],
   "source": []
  },
  {
   "cell_type": "code",
   "execution_count": 41,
   "metadata": {
    "colab": {
     "base_uri": "https://localhost:8080/",
     "height": 235
    },
    "colab_type": "code",
    "id": "DsVuoWYFNexs",
    "outputId": "bba1d54d-87eb-4cea-abd6-2c183f6e549d"
   },
   "outputs": [
    {
     "data": {
      "text/plain": [
       "array([[0.00868478, 0.970617  , 0.01061906, 0.00341828, 0.00226619,\n",
       "        0.00439449],\n",
       "       [0.9384489 , 0.02359517, 0.00439105, 0.0171025 , 0.0123942 ,\n",
       "        0.00406826],\n",
       "       [0.01351114, 0.00645215, 0.00247949, 0.96639985, 0.00698619,\n",
       "        0.00417119],\n",
       "       ...,\n",
       "       [0.01259671, 0.9293517 , 0.0179298 , 0.01111781, 0.00428743,\n",
       "        0.02471642],\n",
       "       [0.95794505, 0.01179615, 0.00315385, 0.01560035, 0.00832088,\n",
       "        0.00318381],\n",
       "       [0.00325941, 0.01248852, 0.95398915, 0.00356722, 0.00645277,\n",
       "        0.02024294]], dtype=float32)"
      ]
     },
     "execution_count": 41,
     "metadata": {},
     "output_type": "execute_result"
    }
   ],
   "source": [
    "y_pred = model_glove.predict(X_test)\n",
    "y_pred"
   ]
  },
  {
   "cell_type": "code",
   "execution_count": 42,
   "metadata": {
    "colab": {
     "base_uri": "https://localhost:8080/",
     "height": 1000
    },
    "colab_type": "code",
    "id": "N3PyBrzlNexv",
    "outputId": "3c278c9c-8c49-49b5-b66f-8caf0924eee3"
   },
   "outputs": [
    {
     "data": {
      "text/plain": [
       "array([['Failed'],\n",
       "       ['Complete'],\n",
       "       ['Pending'],\n",
       "       ['Processing'],\n",
       "       ['Complete'],\n",
       "       ['Complete'],\n",
       "       ['Processing'],\n",
       "       ['Complete'],\n",
       "       ['Processing'],\n",
       "       ['General'],\n",
       "       ['Pending'],\n",
       "       ['Complete'],\n",
       "       ['Pending'],\n",
       "       ['Pending'],\n",
       "       ['Pending'],\n",
       "       ['Request'],\n",
       "       ['Processing'],\n",
       "       ['Failed'],\n",
       "       ['Request'],\n",
       "       ['Pending'],\n",
       "       ['Complete'],\n",
       "       ['Pending'],\n",
       "       ['Processing'],\n",
       "       ['Request'],\n",
       "       ['Request'],\n",
       "       ['Request'],\n",
       "       ['Failed'],\n",
       "       ['Request'],\n",
       "       ['Request'],\n",
       "       ['Request'],\n",
       "       ['Processing'],\n",
       "       ['General'],\n",
       "       ['Failed'],\n",
       "       ['Request'],\n",
       "       ['General'],\n",
       "       ['Processing'],\n",
       "       ['Request'],\n",
       "       ['Processing'],\n",
       "       ['General'],\n",
       "       ['Complete'],\n",
       "       ['Complete'],\n",
       "       ['Failed'],\n",
       "       ['Processing'],\n",
       "       ['Pending'],\n",
       "       ['Request'],\n",
       "       ['Processing'],\n",
       "       ['Processing'],\n",
       "       ['Complete'],\n",
       "       ['General'],\n",
       "       ['General'],\n",
       "       ['Processing'],\n",
       "       ['Complete'],\n",
       "       ['Failed'],\n",
       "       ['Complete'],\n",
       "       ['Pending'],\n",
       "       ['Failed'],\n",
       "       ['Processing'],\n",
       "       ['General'],\n",
       "       ['Failed'],\n",
       "       ['Processing'],\n",
       "       ['Complete'],\n",
       "       ['Processing'],\n",
       "       ['Request'],\n",
       "       ['General'],\n",
       "       ['Pending'],\n",
       "       ['Processing'],\n",
       "       ['Request'],\n",
       "       ['Pending'],\n",
       "       ['Complete'],\n",
       "       ['Request'],\n",
       "       ['Request'],\n",
       "       ['Request'],\n",
       "       ['General'],\n",
       "       ['Processing'],\n",
       "       ['Failed'],\n",
       "       ['Request'],\n",
       "       ['Complete'],\n",
       "       ['Failed'],\n",
       "       ['Request'],\n",
       "       ['Failed'],\n",
       "       ['Request'],\n",
       "       ['Failed'],\n",
       "       ['Request'],\n",
       "       ['Pending'],\n",
       "       ['Failed'],\n",
       "       ['General'],\n",
       "       ['Pending'],\n",
       "       ['Pending'],\n",
       "       ['Pending'],\n",
       "       ['Pending'],\n",
       "       ['Failed'],\n",
       "       ['General'],\n",
       "       ['Pending'],\n",
       "       ['Failed'],\n",
       "       ['Complete'],\n",
       "       ['Pending'],\n",
       "       ['Request'],\n",
       "       ['Complete'],\n",
       "       ['Failed'],\n",
       "       ['Processing'],\n",
       "       ['Complete'],\n",
       "       ['Pending'],\n",
       "       ['Complete'],\n",
       "       ['General'],\n",
       "       ['Complete'],\n",
       "       ['Complete'],\n",
       "       ['Failed'],\n",
       "       ['Request'],\n",
       "       ['Pending'],\n",
       "       ['Processing'],\n",
       "       ['General'],\n",
       "       ['General'],\n",
       "       ['Failed'],\n",
       "       ['Failed'],\n",
       "       ['Processing'],\n",
       "       ['Complete'],\n",
       "       ['Complete'],\n",
       "       ['Pending'],\n",
       "       ['Request'],\n",
       "       ['Processing'],\n",
       "       ['Request'],\n",
       "       ['Pending'],\n",
       "       ['Failed'],\n",
       "       ['Pending'],\n",
       "       ['Failed'],\n",
       "       ['Pending'],\n",
       "       ['Pending'],\n",
       "       ['General'],\n",
       "       ['Complete'],\n",
       "       ['Request'],\n",
       "       ['Request'],\n",
       "       ['Failed'],\n",
       "       ['Failed'],\n",
       "       ['Pending'],\n",
       "       ['Pending'],\n",
       "       ['Complete'],\n",
       "       ['Processing'],\n",
       "       ['Pending'],\n",
       "       ['Pending'],\n",
       "       ['Failed'],\n",
       "       ['Processing'],\n",
       "       ['General'],\n",
       "       ['Complete'],\n",
       "       ['Complete'],\n",
       "       ['Processing'],\n",
       "       ['Processing'],\n",
       "       ['Processing'],\n",
       "       ['Request'],\n",
       "       ['General'],\n",
       "       ['Failed'],\n",
       "       ['Request'],\n",
       "       ['Failed'],\n",
       "       ['Complete'],\n",
       "       ['Processing'],\n",
       "       ['Pending'],\n",
       "       ['Request'],\n",
       "       ['Request'],\n",
       "       ['Request'],\n",
       "       ['Request'],\n",
       "       ['Processing'],\n",
       "       ['Pending'],\n",
       "       ['Failed'],\n",
       "       ['General'],\n",
       "       ['Processing'],\n",
       "       ['Failed'],\n",
       "       ['Failed'],\n",
       "       ['Failed'],\n",
       "       ['General'],\n",
       "       ['General'],\n",
       "       ['Failed'],\n",
       "       ['Failed'],\n",
       "       ['Processing'],\n",
       "       ['Failed'],\n",
       "       ['Complete'],\n",
       "       ['Pending'],\n",
       "       ['Complete'],\n",
       "       ['Failed'],\n",
       "       ['Processing'],\n",
       "       ['Failed'],\n",
       "       ['General'],\n",
       "       ['Complete'],\n",
       "       ['Pending'],\n",
       "       ['General'],\n",
       "       ['Request'],\n",
       "       ['Request'],\n",
       "       ['Pending'],\n",
       "       ['General'],\n",
       "       ['Complete'],\n",
       "       ['Failed'],\n",
       "       ['Complete'],\n",
       "       ['General']], dtype=object)"
      ]
     },
     "execution_count": 42,
     "metadata": {},
     "output_type": "execute_result"
    }
   ],
   "source": [
    "le.inverse_transform(y_pred)"
   ]
  },
  {
   "cell_type": "code",
   "execution_count": null,
   "metadata": {
    "colab": {},
    "colab_type": "code",
    "id": "FfiVfP0xNexy"
   },
   "outputs": [],
   "source": []
  },
  {
   "cell_type": "code",
   "execution_count": 43,
   "metadata": {
    "colab": {
     "base_uri": "https://localhost:8080/",
     "height": 50
    },
    "colab_type": "code",
    "id": "Hbi3W6CbNex1",
    "outputId": "c96a1d02-3372-4a00-a25b-fa9791e0dd4d"
   },
   "outputs": [
    {
     "name": "stdout",
     "output_type": "stream",
     "text": [
      "191/191 [==============================] - 0s 2ms/step\n"
     ]
    },
    {
     "data": {
      "text/plain": [
       "[0.054476955525225995, 1.0]"
      ]
     },
     "execution_count": 43,
     "metadata": {},
     "output_type": "execute_result"
    }
   ],
   "source": [
    "model_glove.evaluate(X_test,Y_test)"
   ]
  },
  {
   "cell_type": "code",
   "execution_count": null,
   "metadata": {
    "colab": {},
    "colab_type": "code",
    "id": "JvCdG-M0Nex5"
   },
   "outputs": [],
   "source": []
  },
  {
   "cell_type": "code",
   "execution_count": 44,
   "metadata": {
    "colab": {
     "base_uri": "https://localhost:8080/",
     "height": 759
    },
    "colab_type": "code",
    "id": "8lkvlsjlNex_",
    "outputId": "8ff653cd-7c87-423c-b922-f2a09d94e4e0"
   },
   "outputs": [
    {
     "name": "stdout",
     "output_type": "stream",
     "text": [
      "Train on 608 samples, validate on 152 samples\n",
      "Epoch 1/10\n",
      "608/608 [==============================] - 1s 1ms/step - loss: 0.0060 - accuracy: 1.0000 - val_loss: 0.0247 - val_accuracy: 1.0000\n",
      "\n",
      "Epoch 00001: val_loss improved from inf to 0.02467, saving model to best_model.h5\n",
      "Epoch 2/10\n",
      "128/608 [=====>........................] - ETA: 0s - loss: 0.0044 - accuracy: 1.0000"
     ]
    },
    {
     "name": "stderr",
     "output_type": "stream",
     "text": [
      "/home/aheli/anaconda3/lib/python3.7/site-packages/keras/callbacks/callbacks.py:846: RuntimeWarning: Early stopping conditioned on metric `val_acc` which is not available. Available metrics are: val_loss,val_accuracy,loss,accuracy\n",
      "  (self.monitor, ','.join(list(logs.keys()))), RuntimeWarning\n"
     ]
    },
    {
     "name": "stdout",
     "output_type": "stream",
     "text": [
      "608/608 [==============================] - 1s 1ms/step - loss: 0.0058 - accuracy: 1.0000 - val_loss: 0.0147 - val_accuracy: 1.0000\n",
      "\n",
      "Epoch 00002: val_loss improved from 0.02467 to 0.01472, saving model to best_model.h5\n",
      "Epoch 3/10\n",
      "608/608 [==============================] - 1s 1ms/step - loss: 0.0042 - accuracy: 1.0000 - val_loss: 0.0096 - val_accuracy: 1.0000\n",
      "\n",
      "Epoch 00003: val_loss improved from 0.01472 to 0.00956, saving model to best_model.h5\n",
      "Epoch 4/10\n",
      "608/608 [==============================] - 1s 1ms/step - loss: 0.0040 - accuracy: 1.0000 - val_loss: 0.0062 - val_accuracy: 1.0000\n",
      "\n",
      "Epoch 00004: val_loss improved from 0.00956 to 0.00618, saving model to best_model.h5\n",
      "Epoch 5/10\n",
      "608/608 [==============================] - 1s 1ms/step - loss: 0.0039 - accuracy: 1.0000 - val_loss: 0.0041 - val_accuracy: 1.0000\n",
      "\n",
      "Epoch 00005: val_loss improved from 0.00618 to 0.00412, saving model to best_model.h5\n",
      "Epoch 6/10\n",
      "608/608 [==============================] - 1s 1ms/step - loss: 0.0031 - accuracy: 1.0000 - val_loss: 0.0028 - val_accuracy: 1.0000\n",
      "\n",
      "Epoch 00006: val_loss improved from 0.00412 to 0.00278, saving model to best_model.h5\n",
      "Epoch 7/10\n",
      "608/608 [==============================] - 1s 1ms/step - loss: 0.0024 - accuracy: 1.0000 - val_loss: 0.0020 - val_accuracy: 1.0000\n",
      "\n",
      "Epoch 00007: val_loss improved from 0.00278 to 0.00201, saving model to best_model.h5\n",
      "Epoch 8/10\n",
      "608/608 [==============================] - 1s 1ms/step - loss: 0.0053 - accuracy: 1.0000 - val_loss: 0.0015 - val_accuracy: 1.0000\n",
      "\n",
      "Epoch 00008: val_loss improved from 0.00201 to 0.00145, saving model to best_model.h5\n",
      "Epoch 9/10\n",
      "608/608 [==============================] - 1s 1ms/step - loss: 0.0027 - accuracy: 1.0000 - val_loss: 0.0011 - val_accuracy: 1.0000\n",
      "\n",
      "Epoch 00009: val_loss improved from 0.00145 to 0.00112, saving model to best_model.h5\n",
      "Epoch 10/10\n",
      "608/608 [==============================] - 1s 1ms/step - loss: 0.0023 - accuracy: 1.0000 - val_loss: 8.1755e-04 - val_accuracy: 1.0000\n",
      "\n",
      "Epoch 00010: val_loss improved from 0.00112 to 0.00082, saving model to best_model.h5\n"
     ]
    }
   ],
   "source": [
    "from keras.callbacks import EarlyStopping\n",
    "from keras.callbacks import ModelCheckpoint\n",
    "\n",
    "\n",
    "#our model starts to overfit after a certain point. We can save the model upto the point where we get max valdn acc\n",
    "#done using callback\n",
    "checkpt = ModelCheckpoint(\"best_model.h5\", monitor='val_loss', verbose=True, save_best_only=True)\n",
    "earlystop = EarlyStopping(monitor='val_acc', patience=10)\n",
    "\n",
    "\n",
    "hist = model_glove.fit(X_train,Y_train,batch_size=32,epochs=10,shuffle=True,validation_split=0.2, callbacks=[checkpt, earlystop])\n",
    "# consider params --> model.fit(X_train,YT,validation_split=0.2,epochs=10,batch_size=128)"
   ]
  },
  {
   "cell_type": "code",
   "execution_count": null,
   "metadata": {
    "colab": {},
    "colab_type": "code",
    "id": "wP8o-QehNeyC"
   },
   "outputs": [],
   "source": []
  },
  {
   "cell_type": "markdown",
   "metadata": {},
   "source": [
    "## Testing with sample string"
   ]
  },
  {
   "cell_type": "code",
   "execution_count": 45,
   "metadata": {},
   "outputs": [],
   "source": [
    "input_subj = \"Transaction complete for ID: 3437386475674385\"\n",
    "input_bod = \"Hi, your payment with ID: 3437386475674385 for 98, 453 GBP was successfully processed and amount will be transferred in 3-5 business days.\""
   ]
  },
  {
   "cell_type": "code",
   "execution_count": 47,
   "metadata": {},
   "outputs": [
    {
     "name": "stdout",
     "output_type": "stream",
     "text": [
      "hi your payment with id for gbp was successfully processed and amount will be transferred in business days transaction complete for id\n",
      "payment would successfully process transfer business day transaction complete would\n"
     ]
    }
   ],
   "source": [
    "s1 = converter(input_bod + \" \" + input_subj)\n",
    "s = clean(s1)\n",
    "print(s)"
   ]
  },
  {
   "cell_type": "code",
   "execution_count": 98,
   "metadata": {},
   "outputs": [
    {
     "name": "stdout",
     "output_type": "stream",
     "text": [
      "[[2, 3, 150, 4, 10, 34, 1, 16, 3]]\n"
     ]
    },
    {
     "data": {
      "text/plain": [
       "(1, 21)"
      ]
     },
     "execution_count": 98,
     "metadata": {},
     "output_type": "execute_result"
    }
   ],
   "source": [
    "# l = list(s.split())\n",
    "encoded_mail = t.texts_to_sequences([s])\n",
    "print(encoded_mail)\n",
    "\n",
    "#post padding\n",
    "padded_input = pad_sequences(encoded_mail, maxlen=avg, padding='post')\n",
    "padded_input.shape"
   ]
  },
  {
   "cell_type": "code",
   "execution_count": 99,
   "metadata": {},
   "outputs": [],
   "source": [
    "y_pred = model_glove.predict(padded_input)"
   ]
  },
  {
   "cell_type": "code",
   "execution_count": 100,
   "metadata": {},
   "outputs": [
    {
     "data": {
      "text/plain": [
       "(1, 6)"
      ]
     },
     "execution_count": 100,
     "metadata": {},
     "output_type": "execute_result"
    }
   ],
   "source": [
    "y_pred.shape"
   ]
  },
  {
   "cell_type": "code",
   "execution_count": 101,
   "metadata": {},
   "outputs": [
    {
     "data": {
      "text/plain": [
       "array([['Pending']], dtype=object)"
      ]
     },
     "execution_count": 101,
     "metadata": {},
     "output_type": "execute_result"
    }
   ],
   "source": [
    "le.inverse_transform(y_pred)"
   ]
  },
  {
   "cell_type": "code",
   "execution_count": null,
   "metadata": {},
   "outputs": [],
   "source": []
  },
  {
   "cell_type": "markdown",
   "metadata": {
    "colab_type": "text",
    "id": "unbqi3nyLOLH"
   },
   "source": [
    "## Visualise our results"
   ]
  },
  {
   "cell_type": "code",
   "execution_count": 65,
   "metadata": {
    "colab": {},
    "colab_type": "code",
    "id": "u3cSoDszLQWd"
   },
   "outputs": [],
   "source": [
    "import matplotlib.pyplot as plt"
   ]
  },
  {
   "cell_type": "code",
   "execution_count": 66,
   "metadata": {
    "colab": {},
    "colab_type": "code",
    "id": "584GtywbLTJE"
   },
   "outputs": [],
   "source": [
    "h = hist.history"
   ]
  },
  {
   "cell_type": "code",
   "execution_count": 67,
   "metadata": {
    "colab": {
     "base_uri": "https://localhost:8080/",
     "height": 365
    },
    "colab_type": "code",
    "id": "IKVASxDBLVCL",
    "outputId": "9ca247eb-8550-45e2-a07c-7f4260d45100"
   },
   "outputs": [
    {
     "data": {
      "image/png": "[encoded data removed]",
      "text/plain": [
       "<Figure size 432x288 with 1 Axes>"
      ]
     },
     "metadata": {},
     "output_type": "display_data"
    }
   ],
   "source": [
    "plt.plot(h['val_loss'],label=\"Validation Loss\")\n",
    "plt.plot(h['loss'],label=\"Training Loss\")\n",
    "plt.xlabel(\"Epochs\")\n",
    "plt.ylabel(\"Loss\")\n",
    "plt.legend()\n",
    "plt.show()"
   ]
  },
  {
   "cell_type": "code",
   "execution_count": 68,
   "metadata": {
    "colab": {
     "base_uri": "https://localhost:8080/",
     "height": 361
    },
    "colab_type": "code",
    "id": "m6uLJMTVLoP9",
    "outputId": "47028154-3a04-4f9e-96df-810892095a01"
   },
   "outputs": [
    {
     "data": {
      "image/png": "[encoded data removed]",
      "text/plain": [
       "<Figure size 432x288 with 1 Axes>"
      ]
     },
     "metadata": {},
     "output_type": "display_data"
    }
   ],
   "source": [
    "plt.plot(h['val_accuracy'],label=\"Validation Acc\")\n",
    "plt.plot(h['accuracy'],label=\"Training Acc\")\n",
    "plt.xlabel(\"Epochs\")\n",
    "plt.ylabel(\"Accuracy\")\n",
    "plt.legend()\n",
    "plt.show()"
   ]
  },
  {
   "cell_type": "code",
   "execution_count": null,
   "metadata": {},
   "outputs": [],
   "source": []
  },
  {
   "cell_type": "markdown",
   "metadata": {},
   "source": [
    "## Cells that may be useful"
   ]
  },
  {
   "cell_type": "code",
   "execution_count": null,
   "metadata": {},
   "outputs": [],
   "source": [
    "combined = list(zip(data, labels))\n",
    "random.shuffle(combined)\n",
    "\n",
    "data[:], labels[:] = zip(*combined)"
   ]
  },
  {
   "cell_type": "code",
   "execution_count": null,
   "metadata": {},
   "outputs": [],
   "source": [
    "hist = model_new.fit(X_train, Y_train,\n",
    "                    shuffle = True,\n",
    "                    batch_size=16,\n",
    "                    epochs=5, #most wts have already been trained so dont need large no of epochs\n",
    "                    validation_split=0.20)"
   ]
  },
  {
   "cell_type": "code",
   "execution_count": null,
   "metadata": {},
   "outputs": [],
   "source": []
  }
 ],
 "metadata": {
  "colab": {
   "collapsed_sections": [],
   "name": "Email_Preprocessor_BiLSTM.ipynb",
   "provenance": []
  },
  "kernelspec": {
   "display_name": "Python 3",
   "language": "python",
   "name": "python3"
  },
  "language_info": {
   "codemirror_mode": {
    "name": "ipython",
    "version": 3
   },
   "file_extension": ".py",
   "mimetype": "text/x-python",
   "name": "python",
   "nbconvert_exporter": "python",
   "pygments_lexer": "ipython3",
   "version": "3.7.6"
  }
 },
 "nbformat": 4,
 "nbformat_minor": 1
}
