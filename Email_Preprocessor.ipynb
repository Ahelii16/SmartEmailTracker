{
 "cells": [
  {
   "cell_type": "code",
   "execution_count": 1,
   "metadata": {},
   "outputs": [],
   "source": [
    "#1. How to process csv files or custom datasets(not keras dataset)\n",
    "#2. How to use transfer learning\n",
    "#3. Build an LSTM model\n",
    "#4. Stacked LSTM\n",
    "#5. Predictions (i/p: sentence  o/p: most suitable class)"
   ]
  },
  {
   "cell_type": "code",
   "execution_count": 74,
   "metadata": {},
   "outputs": [],
   "source": [
    "import os, sys, email,re\n",
    "import numpy as np \n",
    "import pandas as pd\n",
    "import matplotlib.pyplot as plt\n",
    "%matplotlib inline\n",
    "import seaborn as sns; sns.set_style('whitegrid')\n",
    "\n",
    "# NLP\n",
    "from nltk.tokenize.regexp import RegexpTokenizer\n",
    "#from subprocess import check_output\n",
    "\n",
    "#from sklearn.feature_extraction.text import TfidfVectorizer,CountVectorizer\n",
    "#from sklearn.cluster import KMeans\n",
    "#from sklearn.decomposition import PCA\n",
    "#from sklearn.discriminant_analysis import LinearDiscriminantAnalysis as LDA\n",
    "#from sklearn.decomposition import LatentDirichletAllocation\n",
    "\n",
    "import gensim\n",
    "from gensim import corpora\n",
    "from nltk.corpus import stopwords \n",
    "from nltk.stem.wordnet import WordNetLemmatizer\n",
    "import string\n",
    "from nltk.stem.porter import PorterStemmer\n",
    "from nltk import pos_tag, word_tokenize"
   ]
  },
  {
   "cell_type": "markdown",
   "metadata": {},
   "source": [
    "## Step 1: Load dataset"
   ]
  },
  {
   "cell_type": "code",
   "execution_count": 75,
   "metadata": {},
   "outputs": [
    {
     "name": "stdout",
     "output_type": "stream",
     "text": [
      "(9860, 7)\n"
     ]
    },
    {
     "data": {
      "text/html": [
       "<div>\n",
       "<style scoped>\n",
       "    .dataframe tbody tr th:only-of-type {\n",
       "        vertical-align: middle;\n",
       "    }\n",
       "\n",
       "    .dataframe tbody tr th {\n",
       "        vertical-align: top;\n",
       "    }\n",
       "\n",
       "    .dataframe thead th {\n",
       "        text-align: right;\n",
       "    }\n",
       "</style>\n",
       "<table border=\"1\" class=\"dataframe\">\n",
       "  <thead>\n",
       "    <tr style=\"text-align: right;\">\n",
       "      <th></th>\n",
       "      <th>From</th>\n",
       "      <th>To</th>\n",
       "      <th>Subject</th>\n",
       "      <th>Body</th>\n",
       "      <th>Class</th>\n",
       "      <th>TransactionID</th>\n",
       "      <th>Payment Date</th>\n",
       "    </tr>\n",
       "  </thead>\n",
       "  <tbody>\n",
       "    <tr>\n",
       "      <th>0</th>\n",
       "      <td>Yasmin@BNYMellon.com</td>\n",
       "      <td>Shai@CitiBankHingKong.com</td>\n",
       "      <td>Send collateral details for loan no. 855774</td>\n",
       "      <td>We are happy to let you know that transaction ...</td>\n",
       "      <td>BankComplete</td>\n",
       "      <td>855774</td>\n",
       "      <td>2019-11-24</td>\n",
       "    </tr>\n",
       "    <tr>\n",
       "      <th>1</th>\n",
       "      <td>Mike@HSBC.com</td>\n",
       "      <td>Isabella@CitiBankSingapore.com</td>\n",
       "      <td>Payment Status for 524486</td>\n",
       "      <td>Due to lack of funds, cheque no. 9766871231991...</td>\n",
       "      <td>BankFailed</td>\n",
       "      <td>524486</td>\n",
       "      <td>2020-03-28</td>\n",
       "    </tr>\n",
       "    <tr>\n",
       "      <th>2</th>\n",
       "      <td>Phillip@DEUTSCHEBANK.com</td>\n",
       "      <td>AjayNager@CitiBankNewYork.com</td>\n",
       "      <td>Acknowledgement of loan request no. 874719</td>\n",
       "      <td>Please be assured that we have received your r...</td>\n",
       "      <td>BankRequest</td>\n",
       "      <td>874719</td>\n",
       "      <td>2018-12-24</td>\n",
       "    </tr>\n",
       "    <tr>\n",
       "      <th>3</th>\n",
       "      <td>Archie@HDFC.com</td>\n",
       "      <td>Neha@CitiBankPune.com</td>\n",
       "      <td>Payment Status for 533328</td>\n",
       "      <td>We regret the delay in completing transaction ...</td>\n",
       "      <td>BankProgress</td>\n",
       "      <td>533328</td>\n",
       "      <td>2019-12-06</td>\n",
       "    </tr>\n",
       "    <tr>\n",
       "      <th>4</th>\n",
       "      <td>David@JPMorgan.com</td>\n",
       "      <td>Sumit@CitiBankNewYork.com</td>\n",
       "      <td>Current Update on Account No. 184124</td>\n",
       "      <td>Hi, We have successfully processed and complet...</td>\n",
       "      <td>BankComplete</td>\n",
       "      <td>184124</td>\n",
       "      <td>2019-09-14</td>\n",
       "    </tr>\n",
       "  </tbody>\n",
       "</table>\n",
       "</div>"
      ],
      "text/plain": [
       "                       From                              To  \\\n",
       "0      Yasmin@BNYMellon.com       Shai@CitiBankHingKong.com   \n",
       "1             Mike@HSBC.com  Isabella@CitiBankSingapore.com   \n",
       "2  Phillip@DEUTSCHEBANK.com   AjayNager@CitiBankNewYork.com   \n",
       "3           Archie@HDFC.com           Neha@CitiBankPune.com   \n",
       "4        David@JPMorgan.com       Sumit@CitiBankNewYork.com   \n",
       "\n",
       "                                       Subject  \\\n",
       "0  Send collateral details for loan no. 855774   \n",
       "1                    Payment Status for 524486   \n",
       "2   Acknowledgement of loan request no. 874719   \n",
       "3                    Payment Status for 533328   \n",
       "4         Current Update on Account No. 184124   \n",
       "\n",
       "                                                Body         Class  \\\n",
       "0  We are happy to let you know that transaction ...  BankComplete   \n",
       "1  Due to lack of funds, cheque no. 9766871231991...    BankFailed   \n",
       "2  Please be assured that we have received your r...   BankRequest   \n",
       "3  We regret the delay in completing transaction ...  BankProgress   \n",
       "4  Hi, We have successfully processed and complet...  BankComplete   \n",
       "\n",
       "   TransactionID Payment Date  \n",
       "0         855774   2019-11-24  \n",
       "1         524486   2020-03-28  \n",
       "2         874719   2018-12-24  \n",
       "3         533328   2019-12-06  \n",
       "4         184124   2019-09-14  "
      ]
     },
     "execution_count": 75,
     "metadata": {},
     "output_type": "execute_result"
    }
   ],
   "source": [
    "# from sklearn.utils import shuffle\n",
    "\n",
    "# emails_df = pd.read_csv('./emails.csv', nrows=20000)\n",
    "df = pd.read_csv('./emaildataset.csv')\n",
    "# df.sample(frac=1)\n",
    "# df.sample(n=len(df), random_state=42)\n",
    "# df.reindex(np.random.permutation(df.index))\n",
    "\n",
    "print(df.shape)\n",
    "df.head()"
   ]
  },
  {
   "cell_type": "code",
   "execution_count": 76,
   "metadata": {},
   "outputs": [
    {
     "data": {
      "text/plain": [
       "array(['BankComplete', 'BankFailed', 'BankRequest', 'BankProgress', nan,\n",
       "       'ClientProgress', 'ClientComplete', 'ClientStatus', 'ClientFailed'],\n",
       "      dtype=object)"
      ]
     },
     "execution_count": 76,
     "metadata": {},
     "output_type": "execute_result"
    }
   ],
   "source": [
    "df.Class.unique()"
   ]
  },
  {
   "cell_type": "code",
   "execution_count": 78,
   "metadata": {},
   "outputs": [],
   "source": [
    "import spacy"
   ]
  },
  {
   "cell_type": "code",
   "execution_count": 80,
   "metadata": {},
   "outputs": [],
   "source": [
    "import en_core_web_sm\n",
    "nlp = en_core_web_sm.load()"
   ]
  },
  {
   "cell_type": "code",
   "execution_count": 84,
   "metadata": {},
   "outputs": [],
   "source": [
    "lemma = spacy.load('en')"
   ]
  },
  {
   "cell_type": "code",
   "execution_count": 93,
   "metadata": {},
   "outputs": [],
   "source": [
    "def clean(text):\n",
    "#     stop = set(stopwords.words('english'))\n",
    "#     stop.update((\"to\",\"cc\",\"subject\",\"http\",\"from\", \"gbp\", \"usd\", \"eur\", \"cad\", \"sent\",\"thanks\", \"acc\", \"id\", \"account\", \"regards\", \"hi\", \"hello\", \"thank you\"))\n",
    "#     operators = set(('and', 'or', 'not'))\n",
    "#     stop = set(stop) - operators\n",
    "    stop = set((\"cc\",\"http\", \"subject\", \"gbp\", \"usd\", \"eur\", \"cad\", \"inr\", \"sent\",\"thanks\", \"acc\", \"id\", \"regards\", \"hi\", \"hello\", \"thank you\"))\n",
    "    exclude = set(string.punctuation) \n",
    "\n",
    "#     lemma = WordNetLemmatizer()\n",
    "#     porter= PorterStemmer()\n",
    "    \n",
    "    text=text.rstrip()\n",
    "    text = re.sub(r'[^a-zA-Z]', ' ', text)\n",
    "    # IS AMOUNT EXTRACTION  NEEDED?\n",
    "    #amount = \"\".join([i for i in text.lower().split() if i.isdigit()])\n",
    "    \n",
    "    stop_free = \" \".join([i for i in text.lower().split() if((i not in stop) and (not i.isdigit()))])\n",
    "    punc_free = ''.join(ch for ch in stop_free if ch not in exclude)\n",
    "    doc = lemma(punc_free)\n",
    "#     normalized = \" \".join(lemma(word) for token in punc_free.split())\n",
    "    normalized = \" \".join(token.lemma_ for token in doc)\n",
    "#     stem = \" \".join(porter.stem(token) for token in normalized.split())\n",
    "    \n",
    "#     return normalized, amount\n",
    "    return normalized"
   ]
  },
  {
   "cell_type": "code",
   "execution_count": 94,
   "metadata": {},
   "outputs": [
    {
     "name": "stdout",
     "output_type": "stream",
     "text": [
      "payment have be freeze\n"
     ]
    }
   ],
   "source": [
    "print(clean(\"payment has been freezed\"))"
   ]
  },
  {
   "cell_type": "code",
   "execution_count": null,
   "metadata": {},
   "outputs": [],
   "source": []
  },
  {
   "cell_type": "code",
   "execution_count": 95,
   "metadata": {},
   "outputs": [],
   "source": [
    "for i in range(df.shape[0]):\n",
    "    # merge subject and body strings\n",
    "    df['Text_Data'] = str(df['Subject'] + \" \" + df['Body'])"
   ]
  },
  {
   "cell_type": "code",
   "execution_count": 96,
   "metadata": {},
   "outputs": [
    {
     "name": "stdout",
     "output_type": "stream",
     "text": [
      "<class 'str'>\n"
     ]
    }
   ],
   "source": [
    "print(type(df.values[i][7]))"
   ]
  },
  {
   "cell_type": "code",
   "execution_count": 97,
   "metadata": {},
   "outputs": [
    {
     "data": {
      "text/html": [
       "<div>\n",
       "<style scoped>\n",
       "    .dataframe tbody tr th:only-of-type {\n",
       "        vertical-align: middle;\n",
       "    }\n",
       "\n",
       "    .dataframe tbody tr th {\n",
       "        vertical-align: top;\n",
       "    }\n",
       "\n",
       "    .dataframe thead th {\n",
       "        text-align: right;\n",
       "    }\n",
       "</style>\n",
       "<table border=\"1\" class=\"dataframe\">\n",
       "  <thead>\n",
       "    <tr style=\"text-align: right;\">\n",
       "      <th></th>\n",
       "      <th>From</th>\n",
       "      <th>To</th>\n",
       "      <th>Subject</th>\n",
       "      <th>Body</th>\n",
       "      <th>Class</th>\n",
       "      <th>TransactionID</th>\n",
       "      <th>Payment Date</th>\n",
       "      <th>Text_Data</th>\n",
       "    </tr>\n",
       "  </thead>\n",
       "  <tbody>\n",
       "    <tr>\n",
       "      <th>0</th>\n",
       "      <td>Yasmin@BNYMellon.com</td>\n",
       "      <td>Shai@CitiBankHingKong.com</td>\n",
       "      <td>Send collateral details for loan no. 855774</td>\n",
       "      <td>We are happy to let you know that transaction ...</td>\n",
       "      <td>BankComplete</td>\n",
       "      <td>855774</td>\n",
       "      <td>2019-11-24</td>\n",
       "      <td>0       Send collateral details for loan no. 8...</td>\n",
       "    </tr>\n",
       "    <tr>\n",
       "      <th>1</th>\n",
       "      <td>Mike@HSBC.com</td>\n",
       "      <td>Isabella@CitiBankSingapore.com</td>\n",
       "      <td>Payment Status for 524486</td>\n",
       "      <td>Due to lack of funds, cheque no. 9766871231991...</td>\n",
       "      <td>BankFailed</td>\n",
       "      <td>524486</td>\n",
       "      <td>2020-03-28</td>\n",
       "      <td>0       Send collateral details for loan no. 8...</td>\n",
       "    </tr>\n",
       "    <tr>\n",
       "      <th>2</th>\n",
       "      <td>Phillip@DEUTSCHEBANK.com</td>\n",
       "      <td>AjayNager@CitiBankNewYork.com</td>\n",
       "      <td>Acknowledgement of loan request no. 874719</td>\n",
       "      <td>Please be assured that we have received your r...</td>\n",
       "      <td>BankRequest</td>\n",
       "      <td>874719</td>\n",
       "      <td>2018-12-24</td>\n",
       "      <td>0       Send collateral details for loan no. 8...</td>\n",
       "    </tr>\n",
       "    <tr>\n",
       "      <th>3</th>\n",
       "      <td>Archie@HDFC.com</td>\n",
       "      <td>Neha@CitiBankPune.com</td>\n",
       "      <td>Payment Status for 533328</td>\n",
       "      <td>We regret the delay in completing transaction ...</td>\n",
       "      <td>BankProgress</td>\n",
       "      <td>533328</td>\n",
       "      <td>2019-12-06</td>\n",
       "      <td>0       Send collateral details for loan no. 8...</td>\n",
       "    </tr>\n",
       "    <tr>\n",
       "      <th>4</th>\n",
       "      <td>David@JPMorgan.com</td>\n",
       "      <td>Sumit@CitiBankNewYork.com</td>\n",
       "      <td>Current Update on Account No. 184124</td>\n",
       "      <td>Hi, We have successfully processed and complet...</td>\n",
       "      <td>BankComplete</td>\n",
       "      <td>184124</td>\n",
       "      <td>2019-09-14</td>\n",
       "      <td>0       Send collateral details for loan no. 8...</td>\n",
       "    </tr>\n",
       "    <tr>\n",
       "      <th>...</th>\n",
       "      <td>...</td>\n",
       "      <td>...</td>\n",
       "      <td>...</td>\n",
       "      <td>...</td>\n",
       "      <td>...</td>\n",
       "      <td>...</td>\n",
       "      <td>...</td>\n",
       "      <td>...</td>\n",
       "    </tr>\n",
       "    <tr>\n",
       "      <th>95</th>\n",
       "      <td>Jason@JPMorgan.com</td>\n",
       "      <td>Shai@CitiBankLondon.com</td>\n",
       "      <td>Current Update on Account No. 212176</td>\n",
       "      <td>Due to lack of funds, cheque no. 6232212988467...</td>\n",
       "      <td>BankFailed</td>\n",
       "      <td>212176</td>\n",
       "      <td>2019-04-03</td>\n",
       "      <td>0       Send collateral details for loan no. 8...</td>\n",
       "    </tr>\n",
       "    <tr>\n",
       "      <th>96</th>\n",
       "      <td>Bella@HSBC.com</td>\n",
       "      <td>Neha@CitiBankLondon.com</td>\n",
       "      <td>Request has been received for Transaction-ID: ...</td>\n",
       "      <td>We are pleased to know that you have chosen us...</td>\n",
       "      <td>BankRequest</td>\n",
       "      <td>218984</td>\n",
       "      <td>2019-06-09</td>\n",
       "      <td>0       Send collateral details for loan no. 8...</td>\n",
       "    </tr>\n",
       "    <tr>\n",
       "      <th>97</th>\n",
       "      <td>Phillip@HSBC.com</td>\n",
       "      <td>Patrick@CitiBankHingKong.com</td>\n",
       "      <td>Transaction 997587 failedPayment Failed for 99...</td>\n",
       "      <td>Regret to inform that transaction EUR 777129 c...</td>\n",
       "      <td>BankFailed</td>\n",
       "      <td>997587</td>\n",
       "      <td>2018-12-21</td>\n",
       "      <td>0       Send collateral details for loan no. 8...</td>\n",
       "    </tr>\n",
       "    <tr>\n",
       "      <th>98</th>\n",
       "      <td>Yasmin@HSBC.com</td>\n",
       "      <td>liFang@CitiBankSingapore.com</td>\n",
       "      <td>Urgent : Account details required for 148132</td>\n",
       "      <td>We regret the delay in completing transaction ...</td>\n",
       "      <td>BankProgress</td>\n",
       "      <td>148132</td>\n",
       "      <td>2019-05-24</td>\n",
       "      <td>0       Send collateral details for loan no. 8...</td>\n",
       "    </tr>\n",
       "    <tr>\n",
       "      <th>99</th>\n",
       "      <td>Yasmin@DESHAW.com</td>\n",
       "      <td>Shai@CitiBankNewYork.com</td>\n",
       "      <td>Transaction 438836 failedPayment Failed for 43...</td>\n",
       "      <td>Regret to inform that transaction USD 235334 c...</td>\n",
       "      <td>BankFailed</td>\n",
       "      <td>438836</td>\n",
       "      <td>2019-07-25</td>\n",
       "      <td>0       Send collateral details for loan no. 8...</td>\n",
       "    </tr>\n",
       "  </tbody>\n",
       "</table>\n",
       "<p>100 rows × 8 columns</p>\n",
       "</div>"
      ],
      "text/plain": [
       "                        From                              To  \\\n",
       "0       Yasmin@BNYMellon.com       Shai@CitiBankHingKong.com   \n",
       "1              Mike@HSBC.com  Isabella@CitiBankSingapore.com   \n",
       "2   Phillip@DEUTSCHEBANK.com   AjayNager@CitiBankNewYork.com   \n",
       "3            Archie@HDFC.com           Neha@CitiBankPune.com   \n",
       "4         David@JPMorgan.com       Sumit@CitiBankNewYork.com   \n",
       "..                       ...                             ...   \n",
       "95        Jason@JPMorgan.com         Shai@CitiBankLondon.com   \n",
       "96            Bella@HSBC.com         Neha@CitiBankLondon.com   \n",
       "97          Phillip@HSBC.com    Patrick@CitiBankHingKong.com   \n",
       "98           Yasmin@HSBC.com    liFang@CitiBankSingapore.com   \n",
       "99         Yasmin@DESHAW.com        Shai@CitiBankNewYork.com   \n",
       "\n",
       "                                              Subject  \\\n",
       "0         Send collateral details for loan no. 855774   \n",
       "1                           Payment Status for 524486   \n",
       "2          Acknowledgement of loan request no. 874719   \n",
       "3                           Payment Status for 533328   \n",
       "4                Current Update on Account No. 184124   \n",
       "..                                                ...   \n",
       "95               Current Update on Account No. 212176   \n",
       "96  Request has been received for Transaction-ID: ...   \n",
       "97  Transaction 997587 failedPayment Failed for 99...   \n",
       "98       Urgent : Account details required for 148132   \n",
       "99  Transaction 438836 failedPayment Failed for 43...   \n",
       "\n",
       "                                                 Body         Class  \\\n",
       "0   We are happy to let you know that transaction ...  BankComplete   \n",
       "1   Due to lack of funds, cheque no. 9766871231991...    BankFailed   \n",
       "2   Please be assured that we have received your r...   BankRequest   \n",
       "3   We regret the delay in completing transaction ...  BankProgress   \n",
       "4   Hi, We have successfully processed and complet...  BankComplete   \n",
       "..                                                ...           ...   \n",
       "95  Due to lack of funds, cheque no. 6232212988467...    BankFailed   \n",
       "96  We are pleased to know that you have chosen us...   BankRequest   \n",
       "97  Regret to inform that transaction EUR 777129 c...    BankFailed   \n",
       "98  We regret the delay in completing transaction ...  BankProgress   \n",
       "99  Regret to inform that transaction USD 235334 c...    BankFailed   \n",
       "\n",
       "    TransactionID Payment Date  \\\n",
       "0          855774   2019-11-24   \n",
       "1          524486   2020-03-28   \n",
       "2          874719   2018-12-24   \n",
       "3          533328   2019-12-06   \n",
       "4          184124   2019-09-14   \n",
       "..            ...          ...   \n",
       "95         212176   2019-04-03   \n",
       "96         218984   2019-06-09   \n",
       "97         997587   2018-12-21   \n",
       "98         148132   2019-05-24   \n",
       "99         438836   2019-07-25   \n",
       "\n",
       "                                            Text_Data  \n",
       "0   0       Send collateral details for loan no. 8...  \n",
       "1   0       Send collateral details for loan no. 8...  \n",
       "2   0       Send collateral details for loan no. 8...  \n",
       "3   0       Send collateral details for loan no. 8...  \n",
       "4   0       Send collateral details for loan no. 8...  \n",
       "..                                                ...  \n",
       "95  0       Send collateral details for loan no. 8...  \n",
       "96  0       Send collateral details for loan no. 8...  \n",
       "97  0       Send collateral details for loan no. 8...  \n",
       "98  0       Send collateral details for loan no. 8...  \n",
       "99  0       Send collateral details for loan no. 8...  \n",
       "\n",
       "[100 rows x 8 columns]"
      ]
     },
     "execution_count": 97,
     "metadata": {},
     "output_type": "execute_result"
    }
   ],
   "source": [
    "df.head()"
   ]
  },
  {
   "cell_type": "code",
   "execution_count": 98,
   "metadata": {},
   "outputs": [
    {
     "data": {
      "text/plain": [
       "'send collateral detail for loan no -PRON- payment status for due to lack of fund acknowledgement of loan request no ple payment status for -PRON- regret the delay current update on account no -PRON- ha loan payment be complete for no as sta transaction be in progress for why be m transaction be in progress for why be m information regard collateral detail for l transaction be in progress for thank yo length dtype object'"
      ]
     },
     "execution_count": 98,
     "metadata": {},
     "output_type": "execute_result"
    }
   ],
   "source": [
    "# sub_df[\"content\"]=sub_df[\"content\"].map(clean)\n",
    "text_clean=[]\n",
    "\n",
    "# for text in df['Text_Data']:\n",
    "#     text_clean.append(clean(text))\n",
    "#     text_clean.append(clean(text).split())\n",
    "#     amount = clean(text)[1]\n",
    "# \n",
    "for i in range(df.shape[0]):\n",
    "    text_clean.append(clean(df.loc[i]['Text_Data']))\n",
    "\n",
    "# amount\n",
    "text_clean[0]\n",
    "# print(type(df.values[i][7]))"
   ]
  },
  {
   "cell_type": "code",
   "execution_count": 99,
   "metadata": {},
   "outputs": [],
   "source": [
    "df['Text_Data'] = text_clean"
   ]
  },
  {
   "cell_type": "code",
   "execution_count": 104,
   "metadata": {},
   "outputs": [
    {
     "data": {
      "text/plain": [
       "array(['send collateral detail for loan no -PRON- payment status for due to lack of fund acknowledgement of loan request no ple payment status for -PRON- regret the delay current update on account no -PRON- ha loan payment be complete for no as sta transaction be in progress for why be m transaction be in progress for why be m information regard collateral detail for l transaction be in progress for thank yo length dtype object'],\n",
       "      dtype=object)"
      ]
     },
     "execution_count": 104,
     "metadata": {},
     "output_type": "execute_result"
    }
   ],
   "source": [
    "df.Text_Data.unique()"
   ]
  },
  {
   "cell_type": "code",
   "execution_count": 100,
   "metadata": {},
   "outputs": [
    {
     "data": {
      "text/html": [
       "<div>\n",
       "<style scoped>\n",
       "    .dataframe tbody tr th:only-of-type {\n",
       "        vertical-align: middle;\n",
       "    }\n",
       "\n",
       "    .dataframe tbody tr th {\n",
       "        vertical-align: top;\n",
       "    }\n",
       "\n",
       "    .dataframe thead th {\n",
       "        text-align: right;\n",
       "    }\n",
       "</style>\n",
       "<table border=\"1\" class=\"dataframe\">\n",
       "  <thead>\n",
       "    <tr style=\"text-align: right;\">\n",
       "      <th></th>\n",
       "      <th>From</th>\n",
       "      <th>To</th>\n",
       "      <th>Subject</th>\n",
       "      <th>Body</th>\n",
       "      <th>Class</th>\n",
       "      <th>TransactionID</th>\n",
       "      <th>Payment Date</th>\n",
       "      <th>Text_Data</th>\n",
       "    </tr>\n",
       "  </thead>\n",
       "  <tbody>\n",
       "    <tr>\n",
       "      <th>0</th>\n",
       "      <td>Yasmin@BNYMellon.com</td>\n",
       "      <td>Shai@CitiBankHingKong.com</td>\n",
       "      <td>Send collateral details for loan no. 855774</td>\n",
       "      <td>We are happy to let you know that transaction ...</td>\n",
       "      <td>BankComplete</td>\n",
       "      <td>855774</td>\n",
       "      <td>2019-11-24</td>\n",
       "      <td>send collateral detail for loan no -PRON- paym...</td>\n",
       "    </tr>\n",
       "    <tr>\n",
       "      <th>1</th>\n",
       "      <td>Mike@HSBC.com</td>\n",
       "      <td>Isabella@CitiBankSingapore.com</td>\n",
       "      <td>Payment Status for 524486</td>\n",
       "      <td>Due to lack of funds, cheque no. 9766871231991...</td>\n",
       "      <td>BankFailed</td>\n",
       "      <td>524486</td>\n",
       "      <td>2020-03-28</td>\n",
       "      <td>send collateral detail for loan no -PRON- paym...</td>\n",
       "    </tr>\n",
       "    <tr>\n",
       "      <th>2</th>\n",
       "      <td>Phillip@DEUTSCHEBANK.com</td>\n",
       "      <td>AjayNager@CitiBankNewYork.com</td>\n",
       "      <td>Acknowledgement of loan request no. 874719</td>\n",
       "      <td>Please be assured that we have received your r...</td>\n",
       "      <td>BankRequest</td>\n",
       "      <td>874719</td>\n",
       "      <td>2018-12-24</td>\n",
       "      <td>send collateral detail for loan no -PRON- paym...</td>\n",
       "    </tr>\n",
       "    <tr>\n",
       "      <th>3</th>\n",
       "      <td>Archie@HDFC.com</td>\n",
       "      <td>Neha@CitiBankPune.com</td>\n",
       "      <td>Payment Status for 533328</td>\n",
       "      <td>We regret the delay in completing transaction ...</td>\n",
       "      <td>BankProgress</td>\n",
       "      <td>533328</td>\n",
       "      <td>2019-12-06</td>\n",
       "      <td>send collateral detail for loan no -PRON- paym...</td>\n",
       "    </tr>\n",
       "    <tr>\n",
       "      <th>4</th>\n",
       "      <td>David@JPMorgan.com</td>\n",
       "      <td>Sumit@CitiBankNewYork.com</td>\n",
       "      <td>Current Update on Account No. 184124</td>\n",
       "      <td>Hi, We have successfully processed and complet...</td>\n",
       "      <td>BankComplete</td>\n",
       "      <td>184124</td>\n",
       "      <td>2019-09-14</td>\n",
       "      <td>send collateral detail for loan no -PRON- paym...</td>\n",
       "    </tr>\n",
       "  </tbody>\n",
       "</table>\n",
       "</div>"
      ],
      "text/plain": [
       "                       From                              To  \\\n",
       "0      Yasmin@BNYMellon.com       Shai@CitiBankHingKong.com   \n",
       "1             Mike@HSBC.com  Isabella@CitiBankSingapore.com   \n",
       "2  Phillip@DEUTSCHEBANK.com   AjayNager@CitiBankNewYork.com   \n",
       "3           Archie@HDFC.com           Neha@CitiBankPune.com   \n",
       "4        David@JPMorgan.com       Sumit@CitiBankNewYork.com   \n",
       "\n",
       "                                       Subject  \\\n",
       "0  Send collateral details for loan no. 855774   \n",
       "1                    Payment Status for 524486   \n",
       "2   Acknowledgement of loan request no. 874719   \n",
       "3                    Payment Status for 533328   \n",
       "4         Current Update on Account No. 184124   \n",
       "\n",
       "                                                Body         Class  \\\n",
       "0  We are happy to let you know that transaction ...  BankComplete   \n",
       "1  Due to lack of funds, cheque no. 9766871231991...    BankFailed   \n",
       "2  Please be assured that we have received your r...   BankRequest   \n",
       "3  We regret the delay in completing transaction ...  BankProgress   \n",
       "4  Hi, We have successfully processed and complet...  BankComplete   \n",
       "\n",
       "   TransactionID Payment Date  \\\n",
       "0         855774   2019-11-24   \n",
       "1         524486   2020-03-28   \n",
       "2         874719   2018-12-24   \n",
       "3         533328   2019-12-06   \n",
       "4         184124   2019-09-14   \n",
       "\n",
       "                                           Text_Data  \n",
       "0  send collateral detail for loan no -PRON- paym...  \n",
       "1  send collateral detail for loan no -PRON- paym...  \n",
       "2  send collateral detail for loan no -PRON- paym...  \n",
       "3  send collateral detail for loan no -PRON- paym...  \n",
       "4  send collateral detail for loan no -PRON- paym...  "
      ]
     },
     "execution_count": 100,
     "metadata": {},
     "output_type": "execute_result"
    }
   ],
   "source": [
    "df.head()"
   ]
  },
  {
   "cell_type": "code",
   "execution_count": 101,
   "metadata": {},
   "outputs": [
    {
     "data": {
      "text/plain": [
       "'send collateral detail for loan no -PRON- payment status for due to lack of fund acknowledgement of loan request no ple payment status for -PRON- regret the delay current update on account no -PRON- ha loan payment be complete for no as sta transaction be in progress for why be m transaction be in progress for why be m information regard collateral detail for l transaction be in progress for thank yo length dtype object'"
      ]
     },
     "execution_count": 101,
     "metadata": {},
     "output_type": "execute_result"
    }
   ],
   "source": [
    "df['Text_Data'][1005]"
   ]
  },
  {
   "cell_type": "code",
   "execution_count": 103,
   "metadata": {},
   "outputs": [
    {
     "data": {
      "text/plain": [
       "'Request has been received for Transaction-ID: 679295 Please find the details of your account 679295 attached'"
      ]
     },
     "execution_count": 103,
     "metadata": {},
     "output_type": "execute_result"
    }
   ],
   "source": [
    "df['Subject'][1005] + \" \" + df['Body'][1005]"
   ]
  },
  {
   "cell_type": "markdown",
   "metadata": {},
   "source": [
    "## Step 2: Split into train/test "
   ]
  },
  {
   "cell_type": "code",
   "execution_count": 40,
   "metadata": {},
   "outputs": [],
   "source": [
    "from sklearn.model_selection import train_test_split\n",
    "train, test = train_test_split(df, test_size=0.2)"
   ]
  },
  {
   "cell_type": "code",
   "execution_count": 41,
   "metadata": {},
   "outputs": [
    {
     "data": {
      "text/plain": [
       "(6560, 8)"
      ]
     },
     "execution_count": 41,
     "metadata": {},
     "output_type": "execute_result"
    }
   ],
   "source": [
    "train.shape"
   ]
  },
  {
   "cell_type": "code",
   "execution_count": 44,
   "metadata": {},
   "outputs": [
    {
     "data": {
      "text/plain": [
       "(1640,)"
      ]
     },
     "execution_count": 44,
     "metadata": {},
     "output_type": "execute_result"
    }
   ],
   "source": [
    "z1 = train.values\n",
    "z2 = test.values\n",
    "\n",
    "# Create Training and Testing Set\n",
    "X_train = z1[:, 7]\n",
    "Y_train = z1[:, 6]\n",
    "\n",
    "X_test = z2[:, 7]\n",
    "Y_test = z2[:, 6]\n",
    "\n",
    "# X_test.shape\n",
    "Y_test.shape"
   ]
  },
  {
   "cell_type": "code",
   "execution_count": 45,
   "metadata": {},
   "outputs": [
    {
     "data": {
      "text/plain": [
       "array(['BankProgress', 'BankFailed', 'ClientComplete', 'BankRequest',\n",
       "       'BankComplete', 'ClientStatus', 'ClientProgress', 'ClientFailed'],\n",
       "      dtype=object)"
      ]
     },
     "execution_count": 45,
     "metadata": {},
     "output_type": "execute_result"
    }
   ],
   "source": [
    "train.Class.unique()"
   ]
  },
  {
   "cell_type": "code",
   "execution_count": 46,
   "metadata": {},
   "outputs": [],
   "source": [
    "# import preprocessing from sklearn\n",
    "from sklearn.preprocessing import OneHotEncoder "
   ]
  },
  {
   "cell_type": "code",
   "execution_count": 48,
   "metadata": {},
   "outputs": [],
   "source": [
    "# creating instance of one-hot-encoder\n",
    "enc = OneHotEncoder(handle_unknown='ignore')\n",
    "\n",
    "Y_train = Y_train.reshape(-1, 1)\n",
    "Y_train = enc.fit_transform(Y_train)\n",
    "# enc2 = OneHotEncoder()\n",
    "# enc_train = pd.DataFrame(enc.fit_transform(train[['Class']]).toarray())\n",
    "\n",
    "# merge with main df on key values\n",
    "# train = train.join(enc_train)\n",
    "# train.head()"
   ]
  },
  {
   "cell_type": "code",
   "execution_count": 49,
   "metadata": {},
   "outputs": [],
   "source": [
    "enc2 = OneHotEncoder(handle_unknown='ignore')\n",
    "Y_test = Y_test.reshape(-1, 1)\n",
    "Y_test = enc2.fit_transform(Y_test)"
   ]
  },
  {
   "cell_type": "code",
   "execution_count": 50,
   "metadata": {},
   "outputs": [
    {
     "data": {
      "text/plain": [
       "(1640, 8)"
      ]
     },
     "execution_count": 50,
     "metadata": {},
     "output_type": "execute_result"
    }
   ],
   "source": [
    "Y_test.shape"
   ]
  },
  {
   "cell_type": "markdown",
   "metadata": {},
   "source": [
    "## Step 3: Loading word2vec"
   ]
  },
  {
   "cell_type": "code",
   "execution_count": 51,
   "metadata": {},
   "outputs": [],
   "source": [
    "#convert sentences to embeddings and classes to one-hot vectors"
   ]
  },
  {
   "cell_type": "code",
   "execution_count": 52,
   "metadata": {},
   "outputs": [
    {
     "name": "stdout",
     "output_type": "stream",
     "text": [
      "400000\n"
     ]
    }
   ],
   "source": [
    "embeddings = {}\n",
    "with open('../data_science/Machine-learning-master/17. Word2Vec/glove.6B.50d.txt',encoding='utf-8') as f:\n",
    "    for line in f:\n",
    "        values = line.split()\n",
    "        word = values[0]\n",
    "        coeffs = np.asarray(values[1:],dtype='float32')\n",
    "        \n",
    "#         print(word)\n",
    "#         print(coeffs)\n",
    "        embeddings[word] = coeffs\n",
    "    f.close()\n",
    "print(len(embeddings))"
   ]
  },
  {
   "cell_type": "code",
   "execution_count": 53,
   "metadata": {},
   "outputs": [
    {
     "data": {
      "text/plain": [
       "<1x8 sparse matrix of type '<class 'numpy.float64'>'\n",
       "\twith 1 stored elements in Compressed Sparse Row format>"
      ]
     },
     "execution_count": 53,
     "metadata": {},
     "output_type": "execute_result"
    }
   ],
   "source": [
    "Y_train[5]"
   ]
  },
  {
   "cell_type": "code",
   "execution_count": null,
   "metadata": {},
   "outputs": [],
   "source": []
  },
  {
   "cell_type": "markdown",
   "metadata": {},
   "source": [
    "## Step 4 - Converting sentences to vectors (creating the o/p of embedding layer)"
   ]
  },
  {
   "cell_type": "code",
   "execution_count": 54,
   "metadata": {},
   "outputs": [],
   "source": [
    "def getOutputEmbeddings(X):\n",
    "    \n",
    "    #50 batch size (no. of e.g.)\n",
    "    embedding_matrix_output = np.zeros((X.shape[0],40,50))\n",
    "    \n",
    "    for ix in range(X.shape[0]):\n",
    "        X[ix] = X[ix].split()\n",
    "        for jx in range(len(X[ix])):\n",
    "            embedding_matrix_output[ix][jx] = embeddings[X[ix][jx].lower()]\n",
    "            \n",
    "    return embedding_matrix_output"
   ]
  },
  {
   "cell_type": "code",
   "execution_count": 55,
   "metadata": {},
   "outputs": [
    {
     "name": "stdout",
     "output_type": "stream",
     "text": [
      "provide detail regarding transaction hey got query regarding detail please find attached detail thank\n",
      "(6560,)\n",
      "payment transaction failed reason needed failure payment due error side team amount cancelled please assured reach next week\n",
      "(1640,)\n"
     ]
    }
   ],
   "source": [
    "XT = X_train\n",
    "Xt = X_test\n",
    "\n",
    "print(XT[0])\n",
    "print(XT.shape)\n",
    "\n",
    "print(Xt[0])\n",
    "print(Xt.shape)"
   ]
  },
  {
   "cell_type": "code",
   "execution_count": 56,
   "metadata": {},
   "outputs": [
    {
     "name": "stdout",
     "output_type": "stream",
     "text": [
      "(6560, 50, 50)\n"
     ]
    }
   ],
   "source": [
    "embed_matrix_train = getOutputEmbeddings(XT)\n",
    "print(embed_matrix_train.shape)"
   ]
  },
  {
   "cell_type": "code",
   "execution_count": 57,
   "metadata": {},
   "outputs": [],
   "source": [
    "# from keras.utils import to_categorical\n",
    "\n",
    "# YT = to_categorical(df['Class'], num_classes=8)\n",
    "# Yt = to_categorical(df2['Class'], num_classes=8)\n",
    "\n",
    "# print(YT.shape)\n",
    "# print(Yt.shape)"
   ]
  },
  {
   "cell_type": "code",
   "execution_count": 58,
   "metadata": {},
   "outputs": [
    {
     "name": "stdout",
     "output_type": "stream",
     "text": [
      "(1640, 50, 50)\n"
     ]
    }
   ],
   "source": [
    "embed_matrix_test = getOutputEmbeddings(Xt)\n",
    "print(embed_matrix_test.shape)"
   ]
  },
  {
   "cell_type": "markdown",
   "metadata": {},
   "source": [
    "## Step 5: Define RNN/LSTM model "
   ]
  },
  {
   "cell_type": "code",
   "execution_count": 59,
   "metadata": {},
   "outputs": [],
   "source": [
    "from keras.layers import *\n",
    "from keras.models import Sequential"
   ]
  },
  {
   "cell_type": "code",
   "execution_count": 84,
   "metadata": {},
   "outputs": [
    {
     "name": "stdout",
     "output_type": "stream",
     "text": [
      "Model: \"sequential_3\"\n",
      "_________________________________________________________________\n",
      "Layer (type)                 Output Shape              Param #   \n",
      "=================================================================\n",
      "lstm_5 (LSTM)                (None, 50, 64)            29440     \n",
      "_________________________________________________________________\n",
      "dropout_5 (Dropout)          (None, 50, 64)            0         \n",
      "_________________________________________________________________\n",
      "lstm_6 (LSTM)                (None, 64)                33024     \n",
      "_________________________________________________________________\n",
      "dropout_6 (Dropout)          (None, 64)                0         \n",
      "_________________________________________________________________\n",
      "dense_3 (Dense)              (None, 8)                 520       \n",
      "_________________________________________________________________\n",
      "activation_3 (Activation)    (None, 8)                 0         \n",
      "=================================================================\n",
      "Total params: 62,984\n",
      "Trainable params: 62,984\n",
      "Non-trainable params: 0\n",
      "_________________________________________________________________\n"
     ]
    }
   ],
   "source": [
    "model = Sequential()\n",
    "model.add(LSTM(64,input_shape=(50,50),return_sequences=True))\n",
    "model.add(Dropout(0.4))\n",
    "model.add(LSTM(64,input_shape=(50,50), return_sequences=False))\n",
    "model.add(Dropout(0.4))\n",
    "model.add(Dense(8))\n",
    "model.add(Activation('softmax'))\n",
    "model.compile(optimizer='adam',loss='categorical_crossentropy',metrics=['acc']) # try optimizer='rmsprop'\n",
    "model.summary()"
   ]
  },
  {
   "cell_type": "code",
   "execution_count": 85,
   "metadata": {},
   "outputs": [],
   "source": [
    "# TRAIN MODEL"
   ]
  },
  {
   "cell_type": "code",
   "execution_count": 86,
   "metadata": {},
   "outputs": [
    {
     "name": "stdout",
     "output_type": "stream",
     "text": [
      "Train on 5248 samples, validate on 1312 samples\n",
      "Epoch 1/40\n",
      "5248/5248 [==============================] - 14s 3ms/step - loss: 1.3112 - acc: 0.4644 - val_loss: 0.7099 - val_acc: 0.6761\n",
      "\n",
      "Epoch 00001: val_loss improved from inf to 0.70992, saving model to best_model.h5\n",
      "Epoch 2/40\n",
      "5248/5248 [==============================] - 14s 3ms/step - loss: 0.4916 - acc: 0.7782 - val_loss: 0.2802 - val_acc: 0.8895\n",
      "\n",
      "Epoch 00002: val_loss improved from 0.70992 to 0.28020, saving model to best_model.h5\n",
      "Epoch 3/40\n",
      "5248/5248 [==============================] - 10s 2ms/step - loss: 0.1690 - acc: 0.9548 - val_loss: 0.0258 - val_acc: 1.0000\n",
      "\n",
      "Epoch 00003: val_loss improved from 0.28020 to 0.02584, saving model to best_model.h5\n",
      "Epoch 4/40\n",
      "5248/5248 [==============================] - 10s 2ms/step - loss: 0.0281 - acc: 0.9989 - val_loss: 0.0064 - val_acc: 1.0000\n",
      "\n",
      "Epoch 00004: val_loss improved from 0.02584 to 0.00636, saving model to best_model.h5\n",
      "Epoch 5/40\n",
      "5248/5248 [==============================] - 10s 2ms/step - loss: 0.3685 - acc: 0.9242 - val_loss: 0.8554 - val_acc: 0.5976\n",
      "\n",
      "Epoch 00005: val_loss did not improve from 0.00636\n",
      "Epoch 6/40\n",
      "5248/5248 [==============================] - 10s 2ms/step - loss: 0.5232 - acc: 0.8218 - val_loss: 0.1771 - val_acc: 0.9337\n",
      "\n",
      "Epoch 00006: val_loss did not improve from 0.00636\n",
      "Epoch 7/40\n",
      "5248/5248 [==============================] - 10s 2ms/step - loss: 0.1093 - acc: 0.9707 - val_loss: 0.0413 - val_acc: 1.0000\n",
      "\n",
      "Epoch 00007: val_loss did not improve from 0.00636\n",
      "Epoch 8/40\n",
      "5248/5248 [==============================] - 10s 2ms/step - loss: 0.0514 - acc: 0.9910 - val_loss: 0.0130 - val_acc: 1.0000\n",
      "\n",
      "Epoch 00008: val_loss did not improve from 0.00636\n",
      "Epoch 9/40\n",
      "5248/5248 [==============================] - 11s 2ms/step - loss: 0.0225 - acc: 0.9989 - val_loss: 0.0054 - val_acc: 1.0000\n",
      "\n",
      "Epoch 00009: val_loss improved from 0.00636 to 0.00540, saving model to best_model.h5\n",
      "Epoch 10/40\n",
      "5248/5248 [==============================] - 11s 2ms/step - loss: 0.0142 - acc: 1.0000 - val_loss: 0.0031 - val_acc: 1.0000\n",
      "\n",
      "Epoch 00010: val_loss improved from 0.00540 to 0.00315, saving model to best_model.h5\n",
      "Epoch 11/40\n",
      "5248/5248 [==============================] - 12s 2ms/step - loss: 0.0098 - acc: 1.0000 - val_loss: 0.0021 - val_acc: 1.0000\n",
      "\n",
      "Epoch 00011: val_loss improved from 0.00315 to 0.00212, saving model to best_model.h5\n",
      "Epoch 12/40\n",
      "5248/5248 [==============================] - 10s 2ms/step - loss: 0.0078 - acc: 1.0000 - val_loss: 0.0015 - val_acc: 1.0000\n",
      "\n",
      "Epoch 00012: val_loss improved from 0.00212 to 0.00147, saving model to best_model.h5\n",
      "Epoch 13/40\n",
      "5248/5248 [==============================] - 17s 3ms/step - loss: 0.0060 - acc: 1.0000 - val_loss: 0.0011 - val_acc: 1.0000\n",
      "\n",
      "Epoch 00013: val_loss improved from 0.00147 to 0.00108, saving model to best_model.h5\n"
     ]
    }
   ],
   "source": [
    "from keras.callbacks import EarlyStopping\n",
    "from keras.callbacks import ModelCheckpoint\n",
    "\n",
    "\n",
    "#our model starts to overfit after a certain point. We can save the model upto the point where we get max valdn acc\n",
    "#done using callback\n",
    "checkpt = ModelCheckpoint(\"best_model.h5\", monitor='val_loss', verbose=True, save_best_only=True)\n",
    "earlystop = EarlyStopping(monitor='val_acc', patience=10)\n",
    "\n",
    "\n",
    "hist = model.fit(embed_matrix_train,Y_train,batch_size=32,epochs=40,shuffle=True,validation_split=0.2, callbacks=[checkpt, earlystop])\n",
    "# consider params --> model.fit(X_train,YT,validation_split=0.2,epochs=10,batch_size=128)"
   ]
  },
  {
   "cell_type": "code",
   "execution_count": 87,
   "metadata": {},
   "outputs": [
    {
     "name": "stdout",
     "output_type": "stream",
     "text": [
      "4\n"
     ]
    }
   ],
   "source": [
    "pred = model.predict_classes(embed_matrix_test)\n",
    "\n",
    "print(pred[1])"
   ]
  },
  {
   "cell_type": "code",
   "execution_count": 88,
   "metadata": {},
   "outputs": [
    {
     "name": "stdout",
     "output_type": "stream",
     "text": [
      "1640/1640 [==============================] - 1s 558us/step\n"
     ]
    },
    {
     "data": {
      "text/plain": [
       "[0.0010763240830473056, 1.0]"
      ]
     },
     "execution_count": 88,
     "metadata": {},
     "output_type": "execute_result"
    }
   ],
   "source": [
    "model.evaluate(embed_matrix_test,Y_test)"
   ]
  },
  {
   "cell_type": "code",
   "execution_count": null,
   "metadata": {},
   "outputs": [],
   "source": []
  },
  {
   "cell_type": "markdown",
   "metadata": {
    "colab_type": "text",
    "id": "unbqi3nyLOLH"
   },
   "source": [
    "## Visualise our results"
   ]
  },
  {
   "cell_type": "code",
   "execution_count": 65,
   "metadata": {
    "colab": {},
    "colab_type": "code",
    "id": "u3cSoDszLQWd"
   },
   "outputs": [],
   "source": [
    "import matplotlib.pyplot as plt"
   ]
  },
  {
   "cell_type": "code",
   "execution_count": 66,
   "metadata": {
    "colab": {},
    "colab_type": "code",
    "id": "584GtywbLTJE"
   },
   "outputs": [],
   "source": [
    "h = hist.history"
   ]
  },
  {
   "cell_type": "code",
   "execution_count": 67,
   "metadata": {
    "colab": {
     "base_uri": "https://localhost:8080/",
     "height": 365
    },
    "colab_type": "code",
    "id": "IKVASxDBLVCL",
    "outputId": "9ca247eb-8550-45e2-a07c-7f4260d45100"
   },
   "outputs": [
    {
     "data": {
      "image/png": "[encoded data removed]",
      "text/plain": [
       "<Figure size 432x288 with 1 Axes>"
      ]
     },
     "metadata": {},
     "output_type": "display_data"
    }
   ],
   "source": [
    "plt.plot(h['val_loss'],label=\"Validation Loss\")\n",
    "plt.plot(h['loss'],label=\"Training Loss\")\n",
    "plt.xlabel(\"Epochs\")\n",
    "plt.ylabel(\"Loss\")\n",
    "plt.legend()\n",
    "plt.show()"
   ]
  },
  {
   "cell_type": "code",
   "execution_count": 68,
   "metadata": {
    "colab": {
     "base_uri": "https://localhost:8080/",
     "height": 361
    },
    "colab_type": "code",
    "id": "m6uLJMTVLoP9",
    "outputId": "47028154-3a04-4f9e-96df-810892095a01"
   },
   "outputs": [
    {
     "data": {
      "image/png": "[encoded data removed]",
      "text/plain": [
       "<Figure size 432x288 with 1 Axes>"
      ]
     },
     "metadata": {},
     "output_type": "display_data"
    }
   ],
   "source": [
    "plt.plot(h['val_acc'],label=\"Validation Acc\")\n",
    "plt.plot(h['acc'],label=\"Training Acc\")\n",
    "plt.xlabel(\"Epochs\")\n",
    "plt.ylabel(\"Accuracy\")\n",
    "plt.legend()\n",
    "plt.show()"
   ]
  },
  {
   "cell_type": "code",
   "execution_count": null,
   "metadata": {
    "colab": {
     "base_uri": "https://localhost:8080/",
     "height": 54
    },
    "colab_type": "code",
    "id": "OZS8s7pwM2Dl",
    "outputId": "7f7188ab-ed32-41cd-9121-ed2280437f05"
   },
   "outputs": [],
   "source": []
  },
  {
   "cell_type": "markdown",
   "metadata": {},
   "source": [
    "## Testing with random strings"
   ]
  },
  {
   "cell_type": "code",
   "execution_count": 78,
   "metadata": {},
   "outputs": [],
   "source": [
    "with open(\"model.json\", \"w\") as file:\n",
    "    file.write(model.to_json())\n",
    "model.save_weights(\"model.h5\")"
   ]
  },
  {
   "cell_type": "code",
   "execution_count": 80,
   "metadata": {},
   "outputs": [],
   "source": [
    "from keras.models import model_from_json\n",
    "\n",
    "with open(\"model.json\", \"r\") as file:\n",
    "    model=model_from_json(file.read())\n",
    "model.load_weights(\"model.h5\")"
   ]
  },
  {
   "cell_type": "code",
   "execution_count": 81,
   "metadata": {},
   "outputs": [
    {
     "name": "stdout",
     "output_type": "stream",
     "text": [
      "<class 'pandas.core.series.Series'>\n"
     ]
    }
   ],
   "source": [
    "test_str=\"hello, is my payment done yet?\"\n",
    "X = pd.Series(test_str)\n",
    "print(type(X))"
   ]
  },
  {
   "cell_type": "code",
   "execution_count": 82,
   "metadata": {},
   "outputs": [],
   "source": [
    "def getOutputEmbeddings(X):  \n",
    "    X = X.split()\n",
    "    embedding_matrix_output = np.zeros((1,10,50))\n",
    "    for jx in range(len(X)):\n",
    "        embedding_matrix_output[0][jx] = embeddings[X[jx].lower()]\n",
    "            \n",
    "    return embedding_matrix_output"
   ]
  },
  {
   "cell_type": "code",
   "execution_count": 83,
   "metadata": {},
   "outputs": [
    {
     "ename": "TypeError",
     "evalue": "'module' object is not subscriptable",
     "output_type": "error",
     "traceback": [
      "\u001b[0;31m---------------------------------------------------------------------------\u001b[0m",
      "\u001b[0;31mTypeError\u001b[0m                                 Traceback (most recent call last)",
      "\u001b[0;32m<ipython-input-83-bf18b47a99fa>\u001b[0m in \u001b[0;36m<module>\u001b[0;34m\u001b[0m\n\u001b[0;32m----> 1\u001b[0;31m \u001b[0memb_X\u001b[0m \u001b[0;34m=\u001b[0m \u001b[0mgetOutputEmbeddings\u001b[0m\u001b[0;34m(\u001b[0m\u001b[0mtest_str\u001b[0m\u001b[0;34m)\u001b[0m\u001b[0;34m\u001b[0m\u001b[0;34m\u001b[0m\u001b[0m\n\u001b[0m\u001b[1;32m      2\u001b[0m \u001b[0;34m\u001b[0m\u001b[0m\n\u001b[1;32m      3\u001b[0m \u001b[0mp\u001b[0m \u001b[0;34m=\u001b[0m \u001b[0mmodel\u001b[0m\u001b[0;34m.\u001b[0m\u001b[0mpredict_classes\u001b[0m\u001b[0;34m(\u001b[0m\u001b[0memb_X\u001b[0m\u001b[0;34m)\u001b[0m\u001b[0;34m\u001b[0m\u001b[0;34m\u001b[0m\u001b[0m\n",
      "\u001b[0;32m<ipython-input-82-7f843464c920>\u001b[0m in \u001b[0;36mgetOutputEmbeddings\u001b[0;34m(X)\u001b[0m\n\u001b[1;32m      3\u001b[0m     \u001b[0membedding_matrix_output\u001b[0m \u001b[0;34m=\u001b[0m \u001b[0mnp\u001b[0m\u001b[0;34m.\u001b[0m\u001b[0mzeros\u001b[0m\u001b[0;34m(\u001b[0m\u001b[0;34m(\u001b[0m\u001b[0;36m1\u001b[0m\u001b[0;34m,\u001b[0m\u001b[0;36m10\u001b[0m\u001b[0;34m,\u001b[0m\u001b[0;36m50\u001b[0m\u001b[0;34m)\u001b[0m\u001b[0;34m)\u001b[0m\u001b[0;34m\u001b[0m\u001b[0;34m\u001b[0m\u001b[0m\n\u001b[1;32m      4\u001b[0m     \u001b[0;32mfor\u001b[0m \u001b[0mjx\u001b[0m \u001b[0;32min\u001b[0m \u001b[0mrange\u001b[0m\u001b[0;34m(\u001b[0m\u001b[0mlen\u001b[0m\u001b[0;34m(\u001b[0m\u001b[0mX\u001b[0m\u001b[0;34m)\u001b[0m\u001b[0;34m)\u001b[0m\u001b[0;34m:\u001b[0m\u001b[0;34m\u001b[0m\u001b[0;34m\u001b[0m\u001b[0m\n\u001b[0;32m----> 5\u001b[0;31m         \u001b[0membedding_matrix_output\u001b[0m\u001b[0;34m[\u001b[0m\u001b[0;36m0\u001b[0m\u001b[0;34m]\u001b[0m\u001b[0;34m[\u001b[0m\u001b[0mjx\u001b[0m\u001b[0;34m]\u001b[0m \u001b[0;34m=\u001b[0m \u001b[0membeddings\u001b[0m\u001b[0;34m[\u001b[0m\u001b[0mX\u001b[0m\u001b[0;34m[\u001b[0m\u001b[0mjx\u001b[0m\u001b[0;34m]\u001b[0m\u001b[0;34m.\u001b[0m\u001b[0mlower\u001b[0m\u001b[0;34m(\u001b[0m\u001b[0;34m)\u001b[0m\u001b[0;34m]\u001b[0m\u001b[0;34m\u001b[0m\u001b[0;34m\u001b[0m\u001b[0m\n\u001b[0m\u001b[1;32m      6\u001b[0m \u001b[0;34m\u001b[0m\u001b[0m\n\u001b[1;32m      7\u001b[0m     \u001b[0;32mreturn\u001b[0m \u001b[0membedding_matrix_output\u001b[0m\u001b[0;34m\u001b[0m\u001b[0;34m\u001b[0m\u001b[0m\n",
      "\u001b[0;31mTypeError\u001b[0m: 'module' object is not subscriptable"
     ]
    }
   ],
   "source": [
    "emb_X = getOutputEmbeddings(test_str)\n",
    "\n",
    "p = model.predict_classes(emb_X)"
   ]
  },
  {
   "cell_type": "code",
   "execution_count": null,
   "metadata": {},
   "outputs": [],
   "source": [
    "p[0]"
   ]
  },
  {
   "cell_type": "code",
   "execution_count": null,
   "metadata": {},
   "outputs": [],
   "source": []
  },
  {
   "cell_type": "markdown",
   "metadata": {},
   "source": [
    "## Cells that may be useful"
   ]
  },
  {
   "cell_type": "code",
   "execution_count": null,
   "metadata": {},
   "outputs": [],
   "source": [
    "combined = list(zip(data, labels))\n",
    "random.shuffle(combined)\n",
    "\n",
    "data[:], labels[:] = zip(*combined)"
   ]
  },
  {
   "cell_type": "code",
   "execution_count": null,
   "metadata": {},
   "outputs": [],
   "source": [
    "hist = model_new.fit(X_train, Y_train,\n",
    "                    shuffle = True,\n",
    "                    batch_size=16,\n",
    "                    epochs=5, #most wts have already been trained so dont need large no of epochs\n",
    "                    validation_split=0.20)"
   ]
  }
 ],
 "metadata": {
  "kernelspec": {
   "display_name": "Python 3",
   "language": "python",
   "name": "python3"
  },
  "language_info": {
   "codemirror_mode": {
    "name": "ipython",
    "version": 3
   },
   "file_extension": ".py",
   "mimetype": "text/x-python",
   "name": "python",
   "nbconvert_exporter": "python",
   "pygments_lexer": "ipython3",
   "version": "3.7.6"
  }
 },
 "nbformat": 4,
 "nbformat_minor": 2
}
