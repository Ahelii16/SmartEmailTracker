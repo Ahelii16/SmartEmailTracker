{
 "cells": [
  {
   "cell_type": "code",
   "execution_count": 1,
   "metadata": {},
   "outputs": [],
   "source": [
    "#1. How to process csv files or custom datasets(not keras dataset)\n",
    "#2. How to use transfer learning\n",
    "#3. Build an LSTM model\n",
    "#4. Stacked LSTM\n",
    "#5. Predictions (i/p: sentence  o/p: most suitable class)"
   ]
  },
  {
   "cell_type": "code",
   "execution_count": 1,
   "metadata": {},
   "outputs": [],
   "source": [
    "import os, sys, email,re\n",
    "import numpy as np \n",
    "import pandas as pd\n",
    "import matplotlib.pyplot as plt\n",
    "%matplotlib inline\n",
    "import seaborn as sns; sns.set_style('whitegrid')\n",
    "\n",
    "# NLP\n",
    "from nltk.tokenize.regexp import RegexpTokenizer\n",
    "#from subprocess import check_output\n",
    "\n",
    "#from sklearn.feature_extraction.text import TfidfVectorizer,CountVectorizer\n",
    "#from sklearn.cluster import KMeans\n",
    "#from sklearn.decomposition import PCA\n",
    "#from sklearn.discriminant_analysis import LinearDiscriminantAnalysis as LDA\n",
    "#from sklearn.decomposition import LatentDirichletAllocation\n",
    "\n",
    "import gensim\n",
    "from gensim import corpora\n",
    "from nltk.corpus import stopwords \n",
    "from nltk.stem.wordnet import WordNetLemmatizer\n",
    "import string\n",
    "from nltk.stem.porter import PorterStemmer"
   ]
  },
  {
   "cell_type": "markdown",
   "metadata": {},
   "source": [
    "## Step 1: Load dataset"
   ]
  },
  {
   "cell_type": "code",
   "execution_count": 9,
   "metadata": {},
   "outputs": [
    {
     "name": "stdout",
     "output_type": "stream",
     "text": [
      "(8200, 7)\n"
     ]
    },
    {
     "data": {
      "text/html": [
       "<div>\n",
       "<style scoped>\n",
       "    .dataframe tbody tr th:only-of-type {\n",
       "        vertical-align: middle;\n",
       "    }\n",
       "\n",
       "    .dataframe tbody tr th {\n",
       "        vertical-align: top;\n",
       "    }\n",
       "\n",
       "    .dataframe thead th {\n",
       "        text-align: right;\n",
       "    }\n",
       "</style>\n",
       "<table border=\"1\" class=\"dataframe\">\n",
       "  <thead>\n",
       "    <tr style=\"text-align: right;\">\n",
       "      <th></th>\n",
       "      <th>From</th>\n",
       "      <th>To</th>\n",
       "      <th>Subject</th>\n",
       "      <th>Body</th>\n",
       "      <th>TransactionID</th>\n",
       "      <th>Payment Date</th>\n",
       "      <th>Class</th>\n",
       "    </tr>\n",
       "  </thead>\n",
       "  <tbody>\n",
       "    <tr>\n",
       "      <th>0</th>\n",
       "      <td>Bella@SBI.com</td>\n",
       "      <td>Sumit@CitiBankLondon.com</td>\n",
       "      <td>Request have been recieved for T-ID: 867183</td>\n",
       "      <td>Kindly provide the details for Acc no. 867183 ...</td>\n",
       "      <td>867183</td>\n",
       "      <td>2019-07-15</td>\n",
       "      <td>BankRequest</td>\n",
       "    </tr>\n",
       "    <tr>\n",
       "      <th>1</th>\n",
       "      <td>Angella@DEUTSCHEBANK.com</td>\n",
       "      <td>Anthony@CitiBankNewYork.com</td>\n",
       "      <td>Acc 438676 Update</td>\n",
       "      <td>We are happy to let you know that transaction ...</td>\n",
       "      <td>438676</td>\n",
       "      <td>2019-01-22</td>\n",
       "      <td>BankComplete</td>\n",
       "    </tr>\n",
       "    <tr>\n",
       "      <th>2</th>\n",
       "      <td>Phillip@HSBC.com</td>\n",
       "      <td>Anthony@CitiBankLondon.com</td>\n",
       "      <td>Acc 684173 Update</td>\n",
       "      <td>We are happy to let you know that transaction ...</td>\n",
       "      <td>684173</td>\n",
       "      <td>2019-11-23</td>\n",
       "      <td>BankComplete</td>\n",
       "    </tr>\n",
       "    <tr>\n",
       "      <th>3</th>\n",
       "      <td>Dave@JPMorgan.com</td>\n",
       "      <td>AjayNager@CitiBankHingKong.com</td>\n",
       "      <td>Urgent payment of pending amount USD 586276 re...</td>\n",
       "      <td>Hey, We got your query regarding details of ac...</td>\n",
       "      <td>586276</td>\n",
       "      <td>2020-04-02</td>\n",
       "      <td>BankProgress</td>\n",
       "    </tr>\n",
       "    <tr>\n",
       "      <th>4</th>\n",
       "      <td>Adam@DEUTSCHEBANK.com</td>\n",
       "      <td>Dipesh@CitiBankNewYork.com</td>\n",
       "      <td>Urgent payment of pending amount GBP 631693 re...</td>\n",
       "      <td>Thanks for submitting your query regarding 631...</td>\n",
       "      <td>631693</td>\n",
       "      <td>2019-08-23</td>\n",
       "      <td>BankProgress</td>\n",
       "    </tr>\n",
       "  </tbody>\n",
       "</table>\n",
       "</div>"
      ],
      "text/plain": [
       "                       From                              To  \\\n",
       "0             Bella@SBI.com        Sumit@CitiBankLondon.com   \n",
       "1  Angella@DEUTSCHEBANK.com     Anthony@CitiBankNewYork.com   \n",
       "2          Phillip@HSBC.com      Anthony@CitiBankLondon.com   \n",
       "3         Dave@JPMorgan.com  AjayNager@CitiBankHingKong.com   \n",
       "4     Adam@DEUTSCHEBANK.com      Dipesh@CitiBankNewYork.com   \n",
       "\n",
       "                                             Subject  \\\n",
       "0        Request have been recieved for T-ID: 867183   \n",
       "1                                  Acc 438676 Update   \n",
       "2                                  Acc 684173 Update   \n",
       "3  Urgent payment of pending amount USD 586276 re...   \n",
       "4  Urgent payment of pending amount GBP 631693 re...   \n",
       "\n",
       "                                                Body TransactionID  \\\n",
       "0  Kindly provide the details for Acc no. 867183 ...        867183   \n",
       "1  We are happy to let you know that transaction ...        438676   \n",
       "2  We are happy to let you know that transaction ...        684173   \n",
       "3  Hey, We got your query regarding details of ac...        586276   \n",
       "4  Thanks for submitting your query regarding 631...        631693   \n",
       "\n",
       "  Payment Date         Class  \n",
       "0   2019-07-15   BankRequest  \n",
       "1   2019-01-22  BankComplete  \n",
       "2   2019-11-23  BankComplete  \n",
       "3   2020-04-02  BankProgress  \n",
       "4   2019-08-23  BankProgress  "
      ]
     },
     "execution_count": 9,
     "metadata": {},
     "output_type": "execute_result"
    }
   ],
   "source": [
    "# from sklearn.utils import shuffle\n",
    "\n",
    "# emails_df = pd.read_csv('./emails.csv', nrows=20000)\n",
    "df = pd.read_csv('./emaildataset.csv')\n",
    "# df.sample(frac=1)\n",
    "# df.sample(n=len(df), random_state=42)\n",
    "df.reindex(np.random.permutation(df.index))\n",
    "\n",
    "print(df.shape)\n",
    "df.head()"
   ]
  },
  {
   "cell_type": "code",
   "execution_count": 8,
   "metadata": {},
   "outputs": [],
   "source": [
    "def clean(text):\n",
    "    stop = set(stopwords.words('english'))\n",
    "    stop.update((\"to\",\"cc\",\"subject\",\"http\",\"from\", \"gbp\", \"usd\", \"eur\", \"cad\", \"sent\",\"thanks\", \"acc\", \"ID\", \"account\", \"regards\", \"hi\", \"hello\", \"thank you\"))\n",
    "    exclude = set(string.punctuation) \n",
    "    lemma = WordNetLemmatizer()\n",
    "    porter= PorterStemmer()\n",
    "    \n",
    "    text=text.rstrip()\n",
    "    text = re.sub(r'[^a-zA-Z]', ' ', text)\n",
    "    # EXTRACT AMOUNT + CURRENCY!!\n",
    "    #amount = \"\".join([i for i in text.lower().split() if i.isdigit()])\n",
    "    stop_free = \" \".join([i for i in text.lower().split() if((i not in stop) and (not i.isdigit()))])\n",
    "    punc_free = ''.join(ch for ch in stop_free if ch not in exclude)\n",
    "    normalized = \" \".join(lemma.lemmatize(word) for word in punc_free.split())\n",
    "    stem = \" \".join(porter.stem(token) for token in normalized.split())\n",
    "    \n",
    "#     return normalized, amount\n",
    "    return normalized"
   ]
  },
  {
   "cell_type": "code",
   "execution_count": 138,
   "metadata": {},
   "outputs": [],
   "source": [
    "for i in range(df.shape[0]):\n",
    "    # merge subject and body strings\n",
    "    df['Text_Data'] = df['Subject'] + \" \" + df['Body']"
   ]
  },
  {
   "cell_type": "code",
   "execution_count": 139,
   "metadata": {},
   "outputs": [
    {
     "data": {
      "text/plain": [
       "'payment status regret inform transaction could completed due mismatch detail'"
      ]
     },
     "execution_count": 139,
     "metadata": {},
     "output_type": "execute_result"
    }
   ],
   "source": [
    "# sub_df[\"content\"]=sub_df[\"content\"].map(clean)\n",
    "text_clean=[]\n",
    "\n",
    "# for text in df['Text_Data']:\n",
    "#     text_clean.append(clean(text))\n",
    "#     text_clean.append(clean(text).split())\n",
    "#     amount = clean(text)[1]\n",
    "\n",
    "for i in range(df.shape[0]):\n",
    "    text_clean.append(clean(df.loc[i]['Text_Data']))\n",
    "\n",
    "# amount\n",
    "text_clean[0]"
   ]
  },
  {
   "cell_type": "code",
   "execution_count": 140,
   "metadata": {},
   "outputs": [],
   "source": [
    "df['Text_Data'] = text_clean"
   ]
  },
  {
   "cell_type": "code",
   "execution_count": 141,
   "metadata": {},
   "outputs": [
    {
     "data": {
      "text/html": [
       "<div>\n",
       "<style scoped>\n",
       "    .dataframe tbody tr th:only-of-type {\n",
       "        vertical-align: middle;\n",
       "    }\n",
       "\n",
       "    .dataframe tbody tr th {\n",
       "        vertical-align: top;\n",
       "    }\n",
       "\n",
       "    .dataframe thead th {\n",
       "        text-align: right;\n",
       "    }\n",
       "</style>\n",
       "<table border=\"1\" class=\"dataframe\">\n",
       "  <thead>\n",
       "    <tr style=\"text-align: right;\">\n",
       "      <th></th>\n",
       "      <th>From</th>\n",
       "      <th>To</th>\n",
       "      <th>Subject</th>\n",
       "      <th>Body</th>\n",
       "      <th>Class</th>\n",
       "      <th>TransactionID</th>\n",
       "      <th>Payment Date</th>\n",
       "      <th>Text_Data</th>\n",
       "    </tr>\n",
       "  </thead>\n",
       "  <tbody>\n",
       "    <tr>\n",
       "      <th>0</th>\n",
       "      <td>Dave@HSBC.com</td>\n",
       "      <td>liFang@CitiBankNewYork.com</td>\n",
       "      <td>Payment Status for 996352</td>\n",
       "      <td>Regret to inform that transaction EUR 921984 c...</td>\n",
       "      <td>BankFailed</td>\n",
       "      <td>996352</td>\n",
       "      <td>2019-10-21</td>\n",
       "      <td>payment status regret inform transaction could...</td>\n",
       "    </tr>\n",
       "    <tr>\n",
       "      <th>1</th>\n",
       "      <td>Angella@SBI.com</td>\n",
       "      <td>Suhail@CitiBankSingapore.com</td>\n",
       "      <td>Transaction is in progress for 945324</td>\n",
       "      <td>Fund transfer for Account No. 945324 has stopp...</td>\n",
       "      <td>BankProgress</td>\n",
       "      <td>945324</td>\n",
       "      <td>2019-04-13</td>\n",
       "      <td>transaction progress fund transfer stopped abr...</td>\n",
       "    </tr>\n",
       "    <tr>\n",
       "      <th>2</th>\n",
       "      <td>Phillip@SBI.com</td>\n",
       "      <td>AjayNager@CitiBankPune.com</td>\n",
       "      <td>Current Update on Account No. 236195</td>\n",
       "      <td>Sorry, due to high volume of requests, your tr...</td>\n",
       "      <td>BankProgress</td>\n",
       "      <td>236195</td>\n",
       "      <td>2018-12-06</td>\n",
       "      <td>current update sorry due high volume request t...</td>\n",
       "    </tr>\n",
       "    <tr>\n",
       "      <th>3</th>\n",
       "      <td>Mike@HDFC.com</td>\n",
       "      <td>Shubhanshu@CitiBankSingapore.com</td>\n",
       "      <td>Transaction Complete for 565267</td>\n",
       "      <td>Full payment for amount EUR 215164 has been su...</td>\n",
       "      <td>BankComplete</td>\n",
       "      <td>565267</td>\n",
       "      <td>2020-01-09</td>\n",
       "      <td>transaction complete full payment amount succe...</td>\n",
       "    </tr>\n",
       "    <tr>\n",
       "      <th>4</th>\n",
       "      <td>Stacy@JPMorgan.com</td>\n",
       "      <td>AjayNager@CitiBankLondon.com</td>\n",
       "      <td>Transaction Failed for 275122</td>\n",
       "      <td>Due to lack of funds, cheque no. 9389748142575...</td>\n",
       "      <td>BankFailed</td>\n",
       "      <td>275122</td>\n",
       "      <td>2019-06-22</td>\n",
       "      <td>transaction failed due lack fund cheque bounce...</td>\n",
       "    </tr>\n",
       "  </tbody>\n",
       "</table>\n",
       "</div>"
      ],
      "text/plain": [
       "                 From                                To  \\\n",
       "0       Dave@HSBC.com        liFang@CitiBankNewYork.com   \n",
       "1     Angella@SBI.com      Suhail@CitiBankSingapore.com   \n",
       "2     Phillip@SBI.com        AjayNager@CitiBankPune.com   \n",
       "3       Mike@HDFC.com  Shubhanshu@CitiBankSingapore.com   \n",
       "4  Stacy@JPMorgan.com      AjayNager@CitiBankLondon.com   \n",
       "\n",
       "                                 Subject  \\\n",
       "0              Payment Status for 996352   \n",
       "1  Transaction is in progress for 945324   \n",
       "2   Current Update on Account No. 236195   \n",
       "3        Transaction Complete for 565267   \n",
       "4          Transaction Failed for 275122   \n",
       "\n",
       "                                                Body         Class  \\\n",
       "0  Regret to inform that transaction EUR 921984 c...    BankFailed   \n",
       "1  Fund transfer for Account No. 945324 has stopp...  BankProgress   \n",
       "2  Sorry, due to high volume of requests, your tr...  BankProgress   \n",
       "3  Full payment for amount EUR 215164 has been su...  BankComplete   \n",
       "4  Due to lack of funds, cheque no. 9389748142575...    BankFailed   \n",
       "\n",
       "   TransactionID Payment Date  \\\n",
       "0         996352   2019-10-21   \n",
       "1         945324   2019-04-13   \n",
       "2         236195   2018-12-06   \n",
       "3         565267   2020-01-09   \n",
       "4         275122   2019-06-22   \n",
       "\n",
       "                                           Text_Data  \n",
       "0  payment status regret inform transaction could...  \n",
       "1  transaction progress fund transfer stopped abr...  \n",
       "2  current update sorry due high volume request t...  \n",
       "3  transaction complete full payment amount succe...  \n",
       "4  transaction failed due lack fund cheque bounce...  "
      ]
     },
     "execution_count": 141,
     "metadata": {},
     "output_type": "execute_result"
    }
   ],
   "source": [
    "df.head()"
   ]
  },
  {
   "cell_type": "markdown",
   "metadata": {},
   "source": [
    "## Step 2: Split into train/test "
   ]
  },
  {
   "cell_type": "code",
   "execution_count": 142,
   "metadata": {},
   "outputs": [],
   "source": [
    "from sklearn.model_selection import train_test_split\n",
    "train, test = train_test_split(df, test_size=0.2)"
   ]
  },
  {
   "cell_type": "code",
   "execution_count": 143,
   "metadata": {},
   "outputs": [
    {
     "data": {
      "text/plain": [
       "(1268, 8)"
      ]
     },
     "execution_count": 143,
     "metadata": {},
     "output_type": "execute_result"
    }
   ],
   "source": [
    "train.shape"
   ]
  },
  {
   "cell_type": "code",
   "execution_count": 156,
   "metadata": {},
   "outputs": [
    {
     "data": {
      "text/plain": [
       "(1268,)"
      ]
     },
     "execution_count": 156,
     "metadata": {},
     "output_type": "execute_result"
    }
   ],
   "source": [
    "z1 = train.values\n",
    "z2 = test.values\n",
    "\n",
    "# Create Training and Testing Set\n",
    "X_train = z1[:, 7]\n",
    "Y_train = z1[:, 4]\n",
    "\n",
    "X_test = z2[:, 7]\n",
    "Y_test = z2[:, 4]\n",
    "\n",
    "X_train.shape"
   ]
  },
  {
   "cell_type": "code",
   "execution_count": 145,
   "metadata": {},
   "outputs": [
    {
     "data": {
      "text/plain": [
       "array(['BankFailed', 'BankProgress', 'ClientComplete', 'ClientFailed',\n",
       "       'ClientProgress', 'ClientStatus', 'BankRequest', 'BankComplete'],\n",
       "      dtype=object)"
      ]
     },
     "execution_count": 145,
     "metadata": {},
     "output_type": "execute_result"
    }
   ],
   "source": [
    "# df = df.reindex(columns=columns_titles, inplace=True)\n",
    "train.Class.unique()"
   ]
  },
  {
   "cell_type": "code",
   "execution_count": 146,
   "metadata": {},
   "outputs": [],
   "source": [
    "# import preprocessing from sklearn\n",
    "from sklearn.preprocessing import OneHotEncoder "
   ]
  },
  {
   "cell_type": "code",
   "execution_count": 147,
   "metadata": {},
   "outputs": [],
   "source": [
    "# le = LabelEncoder()\n",
    "# le2 = LabelEncoder()\n",
    "\n",
    "# train['Class'] = le.fit_transform(train['Class'])\n",
    "# test['Class'] = le2.fit_transform(test['Class'])"
   ]
  },
  {
   "cell_type": "code",
   "execution_count": 165,
   "metadata": {},
   "outputs": [],
   "source": [
    "# creating instance of one-hot-encoder\n",
    "enc = OneHotEncoder(handle_unknown='ignore')\n",
    "\n",
    "Y_train = Y_train.reshape(-1, 1)\n",
    "Y_train = enc.fit_transform(Y_train)\n",
    "# enc2 = OneHotEncoder()\n",
    "# enc_train = pd.DataFrame(enc.fit_transform(train[['Class']]).toarray())\n",
    "\n",
    "# merge with main df on key values\n",
    "# train = train.join(enc_train)\n",
    "# train.head()"
   ]
  },
  {
   "cell_type": "code",
   "execution_count": 180,
   "metadata": {},
   "outputs": [],
   "source": [
    "enc2 = OneHotEncoder(handle_unknown='ignore')\n",
    "Y_test = Y_test.reshape(-1, 1)\n",
    "Y_test = enc2.fit_transform(Y_test)"
   ]
  },
  {
   "cell_type": "code",
   "execution_count": null,
   "metadata": {},
   "outputs": [],
   "source": []
  },
  {
   "cell_type": "markdown",
   "metadata": {},
   "source": [
    "## Step 3: Loading word2vec"
   ]
  },
  {
   "cell_type": "code",
   "execution_count": 160,
   "metadata": {},
   "outputs": [],
   "source": [
    "#convert sentences to embeddings and classes to one-hot vectors"
   ]
  },
  {
   "cell_type": "code",
   "execution_count": 161,
   "metadata": {},
   "outputs": [
    {
     "name": "stdout",
     "output_type": "stream",
     "text": [
      "400000\n"
     ]
    }
   ],
   "source": [
    "embeddings = {}\n",
    "with open('../data_science/Machine-learning-master/17. Word2Vec/glove.6B.50d.txt',encoding='utf-8') as f:\n",
    "    for line in f:\n",
    "        values = line.split()\n",
    "        word = values[0]\n",
    "        coeffs = np.asarray(values[1:],dtype='float32')\n",
    "        \n",
    "#         print(word)\n",
    "#         print(coeffs)\n",
    "        embeddings[word] = coeffs\n",
    "    f.close()\n",
    "print(len(embeddings))"
   ]
  },
  {
   "cell_type": "code",
   "execution_count": 167,
   "metadata": {},
   "outputs": [
    {
     "data": {
      "text/plain": [
       "<1x8 sparse matrix of type '<class 'numpy.float64'>'\n",
       "\twith 1 stored elements in Compressed Sparse Row format>"
      ]
     },
     "execution_count": 167,
     "metadata": {},
     "output_type": "execute_result"
    }
   ],
   "source": [
    "Y_train[5]"
   ]
  },
  {
   "cell_type": "code",
   "execution_count": null,
   "metadata": {},
   "outputs": [],
   "source": []
  },
  {
   "cell_type": "markdown",
   "metadata": {},
   "source": [
    "## Step 4 - Converting sentences to vectors (creating the o/p of embedding layer)"
   ]
  },
  {
   "cell_type": "code",
   "execution_count": 168,
   "metadata": {},
   "outputs": [],
   "source": [
    "def getOutputEmbeddings(X):\n",
    "    \n",
    "    #let 10 is max len of sentence, 50 batch size (no. of e.g.)\n",
    "    embedding_matrix_output = np.zeros((X.shape[0],100,50))\n",
    "    \n",
    "    for ix in range(X.shape[0]):\n",
    "        X[ix] = X[ix].split()\n",
    "        for jx in range(len(X[ix])):\n",
    "            #go to every word in current(ix) sentence\n",
    "            embedding_matrix_output[ix][jx] = embeddings[X[ix][jx].lower()]\n",
    "            \n",
    "    return embedding_matrix_output"
   ]
  },
  {
   "cell_type": "code",
   "execution_count": 170,
   "metadata": {},
   "outputs": [
    {
     "name": "stdout",
     "output_type": "stream",
     "text": [
      "current update due lack fund cheque bounced kindly ensure enough fund submit new cheque earliest\n",
      "(1268,)\n",
      "transaction failed due unknown technical error transaction amount cancelled\n",
      "(317,)\n"
     ]
    }
   ],
   "source": [
    "XT = X_train\n",
    "Xt = X_test\n",
    "\n",
    "print(XT[0])\n",
    "print(XT.shape)\n",
    "\n",
    "print(Xt[0])\n",
    "print(Xt.shape)"
   ]
  },
  {
   "cell_type": "code",
   "execution_count": 171,
   "metadata": {},
   "outputs": [
    {
     "name": "stdout",
     "output_type": "stream",
     "text": [
      "(1268, 100, 50)\n"
     ]
    }
   ],
   "source": [
    "embed_matrix_train = getOutputEmbeddings(XT)\n",
    "print(embed_matrix_train.shape)"
   ]
  },
  {
   "cell_type": "code",
   "execution_count": 21,
   "metadata": {},
   "outputs": [
    {
     "name": "stderr",
     "output_type": "stream",
     "text": [
      "Using TensorFlow backend.\n"
     ]
    },
    {
     "name": "stdout",
     "output_type": "stream",
     "text": [
      "(1585, 8)\n"
     ]
    }
   ],
   "source": [
    "# from keras.utils import to_categorical\n",
    "\n",
    "# YT = to_categorical(df['Class'], num_classes=8)\n",
    "# Yt = to_categorical(df2['Class'], num_classes=8)\n",
    "\n",
    "# print(YT.shape)\n",
    "# print(Yt.shape)"
   ]
  },
  {
   "cell_type": "code",
   "execution_count": 172,
   "metadata": {},
   "outputs": [
    {
     "name": "stdout",
     "output_type": "stream",
     "text": [
      "(317, 100, 50)\n"
     ]
    }
   ],
   "source": [
    "embed_matrix_test = getOutputEmbeddings(Xt)\n",
    "print(embed_matrix_test.shape)"
   ]
  },
  {
   "cell_type": "markdown",
   "metadata": {},
   "source": [
    "## Step 5: Define RNN/LSTM model "
   ]
  },
  {
   "cell_type": "code",
   "execution_count": 173,
   "metadata": {},
   "outputs": [],
   "source": [
    "from keras.layers import *\n",
    "from keras.models import Sequential"
   ]
  },
  {
   "cell_type": "code",
   "execution_count": 174,
   "metadata": {},
   "outputs": [
    {
     "name": "stdout",
     "output_type": "stream",
     "text": [
      "Model: \"sequential_1\"\n",
      "_________________________________________________________________\n",
      "Layer (type)                 Output Shape              Param #   \n",
      "=================================================================\n",
      "lstm_1 (LSTM)                (None, 100, 64)           29440     \n",
      "_________________________________________________________________\n",
      "dropout_1 (Dropout)          (None, 100, 64)           0         \n",
      "_________________________________________________________________\n",
      "lstm_2 (LSTM)                (None, 64)                33024     \n",
      "_________________________________________________________________\n",
      "dropout_2 (Dropout)          (None, 64)                0         \n",
      "_________________________________________________________________\n",
      "dense_1 (Dense)              (None, 8)                 520       \n",
      "_________________________________________________________________\n",
      "activation_1 (Activation)    (None, 8)                 0         \n",
      "=================================================================\n",
      "Total params: 62,984\n",
      "Trainable params: 62,984\n",
      "Non-trainable params: 0\n",
      "_________________________________________________________________\n"
     ]
    }
   ],
   "source": [
    "model = Sequential()\n",
    "model.add(LSTM(64,input_shape=(100,50),return_sequences=True))\n",
    "model.add(Dropout(0.4))\n",
    "model.add(LSTM(64,input_shape=(100,50), return_sequences=False))\n",
    "model.add(Dropout(0.3))\n",
    "model.add(Dense(8))\n",
    "model.add(Activation('softmax'))\n",
    "model.compile(optimizer='adam',loss='categorical_crossentropy',metrics=['acc']) # try optimizer='rmsprop'\n",
    "model.summary()"
   ]
  },
  {
   "cell_type": "code",
   "execution_count": 175,
   "metadata": {},
   "outputs": [],
   "source": [
    "# TRAIN MODEL"
   ]
  },
  {
   "cell_type": "code",
   "execution_count": 176,
   "metadata": {},
   "outputs": [
    {
     "name": "stdout",
     "output_type": "stream",
     "text": [
      "WARNING:tensorflow:From /home/aheli/anaconda3/lib/python3.7/site-packages/keras/backend/tensorflow_backend.py:422: The name tf.global_variables is deprecated. Please use tf.compat.v1.global_variables instead.\n",
      "\n",
      "Train on 1014 samples, validate on 254 samples\n",
      "Epoch 1/40\n",
      "1014/1014 [==============================] - 12s 11ms/step - loss: 1.9526 - acc: 0.2367 - val_loss: 1.8284 - val_acc: 0.2717\n",
      "\n",
      "Epoch 00001: val_loss improved from inf to 1.82843, saving model to best_model.h5\n",
      "Epoch 2/40\n",
      "1014/1014 [==============================] - 6s 5ms/step - loss: 1.8672 - acc: 0.2604 - val_loss: 1.7965 - val_acc: 0.2874\n",
      "\n",
      "Epoch 00002: val_loss improved from 1.82843 to 1.79650, saving model to best_model.h5\n",
      "Epoch 3/40\n",
      "1014/1014 [==============================] - 6s 6ms/step - loss: 1.8692 - acc: 0.2426 - val_loss: 1.7728 - val_acc: 0.2874\n",
      "\n",
      "Epoch 00003: val_loss improved from 1.79650 to 1.77276, saving model to best_model.h5\n",
      "Epoch 4/40\n",
      "1014/1014 [==============================] - 6s 6ms/step - loss: 1.8685 - acc: 0.2189 - val_loss: 1.7556 - val_acc: 0.2717\n",
      "\n",
      "Epoch 00004: val_loss improved from 1.77276 to 1.75556, saving model to best_model.h5\n",
      "Epoch 5/40\n",
      "1014/1014 [==============================] - 6s 5ms/step - loss: 1.8892 - acc: 0.2643 - val_loss: 1.7689 - val_acc: 0.2717\n",
      "\n",
      "Epoch 00005: val_loss did not improve from 1.75556\n",
      "Epoch 6/40\n",
      "1014/1014 [==============================] - 5s 5ms/step - loss: 1.8699 - acc: 0.2367 - val_loss: 1.7759 - val_acc: 0.2874\n",
      "\n",
      "Epoch 00006: val_loss did not improve from 1.75556\n",
      "Epoch 7/40\n",
      "1014/1014 [==============================] - 6s 6ms/step - loss: 1.8050 - acc: 0.2505 - val_loss: 1.5575 - val_acc: 0.3150\n",
      "\n",
      "Epoch 00007: val_loss improved from 1.75556 to 1.55750, saving model to best_model.h5\n",
      "Epoch 8/40\n",
      "1014/1014 [==============================] - 6s 6ms/step - loss: 1.5623 - acc: 0.2988 - val_loss: 1.4626 - val_acc: 0.3071\n",
      "\n",
      "Epoch 00008: val_loss improved from 1.55750 to 1.46260, saving model to best_model.h5\n",
      "Epoch 9/40\n",
      "1014/1014 [==============================] - 6s 6ms/step - loss: 1.6248 - acc: 0.2751 - val_loss: 1.5803 - val_acc: 0.3268\n",
      "\n",
      "Epoch 00009: val_loss did not improve from 1.46260\n",
      "Epoch 10/40\n",
      "1014/1014 [==============================] - 6s 6ms/step - loss: 1.6550 - acc: 0.3087 - val_loss: 1.4927 - val_acc: 0.4213\n",
      "\n",
      "Epoch 00010: val_loss did not improve from 1.46260\n",
      "Epoch 11/40\n",
      "1014/1014 [==============================] - 6s 6ms/step - loss: 1.6167 - acc: 0.2899 - val_loss: 1.5114 - val_acc: 0.3268\n",
      "\n",
      "Epoch 00011: val_loss did not improve from 1.46260\n",
      "Epoch 12/40\n",
      "1014/1014 [==============================] - 6s 6ms/step - loss: 1.5877 - acc: 0.2959 - val_loss: 1.5078 - val_acc: 0.3268\n",
      "\n",
      "Epoch 00012: val_loss did not improve from 1.46260\n",
      "Epoch 13/40\n",
      "1014/1014 [==============================] - 6s 6ms/step - loss: 1.5797 - acc: 0.3057 - val_loss: 1.5054 - val_acc: 0.3268\n",
      "\n",
      "Epoch 00013: val_loss did not improve from 1.46260\n",
      "Epoch 14/40\n",
      "1014/1014 [==============================] - 7s 7ms/step - loss: 1.6042 - acc: 0.2761 - val_loss: 1.4717 - val_acc: 0.3268\n",
      "\n",
      "Epoch 00014: val_loss did not improve from 1.46260\n",
      "Epoch 15/40\n",
      "1014/1014 [==============================] - 8s 8ms/step - loss: 1.5426 - acc: 0.3136 - val_loss: 1.4572 - val_acc: 0.3268\n",
      "\n",
      "Epoch 00015: val_loss improved from 1.46260 to 1.45717, saving model to best_model.h5\n",
      "Epoch 16/40\n",
      "1014/1014 [==============================] - 8s 8ms/step - loss: 1.5259 - acc: 0.3235 - val_loss: 1.4847 - val_acc: 0.3268\n",
      "\n",
      "Epoch 00016: val_loss did not improve from 1.45717\n",
      "Epoch 17/40\n",
      "1014/1014 [==============================] - 7s 7ms/step - loss: 1.5343 - acc: 0.3205 - val_loss: 1.4685 - val_acc: 0.3268\n",
      "\n",
      "Epoch 00017: val_loss did not improve from 1.45717\n",
      "Epoch 18/40\n",
      "1014/1014 [==============================] - 7s 7ms/step - loss: 1.5394 - acc: 0.3264 - val_loss: 1.4973 - val_acc: 0.3268\n",
      "\n",
      "Epoch 00018: val_loss did not improve from 1.45717\n",
      "Epoch 19/40\n",
      "1014/1014 [==============================] - 7s 6ms/step - loss: 1.5361 - acc: 0.3195 - val_loss: 1.4795 - val_acc: 0.3268\n",
      "\n",
      "Epoch 00019: val_loss did not improve from 1.45717\n",
      "Epoch 20/40\n",
      "1014/1014 [==============================] - 7s 7ms/step - loss: 1.9099 - acc: 0.2446 - val_loss: 2.1361 - val_acc: 0.2874\n",
      "\n",
      "Epoch 00020: val_loss did not improve from 1.45717\n"
     ]
    }
   ],
   "source": [
    "from keras.callbacks import EarlyStopping\n",
    "from keras.callbacks import ModelCheckpoint\n",
    "\n",
    "\n",
    "#our model starts to overfit after a certain point. We can save the model upto the point where we get max valdn acc\n",
    "#done using callback\n",
    "checkpt = ModelCheckpoint(\"best_model.h5\", monitor='val_loss', verbose=True, save_best_only=True)\n",
    "earlystop = EarlyStopping(monitor='val_acc', patience=10)\n",
    "\n",
    "\n",
    "hist = model.fit(embed_matrix_train,Y_train,batch_size=32,epochs=40,shuffle=True,validation_split=0.2, callbacks=[checkpt, earlystop])\n",
    "# consider params --> model.fit(X_train,YT,validation_split=0.2,epochs=10,batch_size=128)"
   ]
  },
  {
   "cell_type": "code",
   "execution_count": 177,
   "metadata": {},
   "outputs": [
    {
     "name": "stdout",
     "output_type": "stream",
     "text": [
      "[2 2 2 2 2 2 2 2 2 2 2 2 2 2 2 2 2 2 2 2 2 2 2 2 2 2 2 2 2 2 2 2 2 2 2 2 2\n",
      " 2 2 2 2 2 2 2 2 2 2 2 2 2 2 2 2 2 2 2 2 2 2 2 2 2 2 2 2 2 2 2 2 2 2 2 2 2\n",
      " 2 2 2 2 2 2 2 2 2 2 2 2 2 2 2 2 2 2 2 2 2 2 2 2 2 2 2 2 2 2 2 2 2 2 2 2 2\n",
      " 2 2 2 2 2 2 2 2 2 2 2 2 2 2 2 2 2 2 2 2 2 2 2 2 2 2 2 2 2 2 2 2 2 2 2 2 2\n",
      " 2 2 2 2 2 2 2 2 2 2 2 2 2 2 2 2 2 2 2 2 2 2 2 2 2 2 2 2 2 2 2 2 2 2 2 2 2\n",
      " 2 2 2 2 2 2 2 2 2 2 2 2 2 2 2 2 2 2 2 2 2 2 2 2 2 2 2 2 2 2 2 2 2 2 2 2 2\n",
      " 2 2 2 2 2 2 2 2 2 2 2 2 2 2 2 2 2 2 2 2 2 2 2 2 2 2 2 2 2 2 2 2 2 2 2 2 2\n",
      " 2 2 2 2 2 2 2 2 2 2 2 2 2 2 2 2 2 2 2 2 2 2 2 2 2 2 2 2 2 2 2 2 2 2 2 2 2\n",
      " 2 2 2 2 2 2 2 2 2 2 2 2 2 2 2 2 2 2 2 2 2]\n"
     ]
    }
   ],
   "source": [
    "pred = model.predict_classes(embed_matrix_test)\n",
    "\n",
    "print(pred)"
   ]
  },
  {
   "cell_type": "code",
   "execution_count": 181,
   "metadata": {},
   "outputs": [
    {
     "name": "stdout",
     "output_type": "stream",
     "text": [
      "317/317 [==============================] - 1s 2ms/step\n"
     ]
    },
    {
     "data": {
      "text/plain": [
       "[2.1043432744143513, 0.27760252356529236]"
      ]
     },
     "execution_count": 181,
     "metadata": {},
     "output_type": "execute_result"
    }
   ],
   "source": [
    "model.evaluate(embed_matrix_test,Y_test)"
   ]
  },
  {
   "cell_type": "code",
   "execution_count": null,
   "metadata": {},
   "outputs": [],
   "source": []
  },
  {
   "cell_type": "markdown",
   "metadata": {
    "colab_type": "text",
    "id": "unbqi3nyLOLH"
   },
   "source": [
    "## Visualise our results"
   ]
  },
  {
   "cell_type": "code",
   "execution_count": 182,
   "metadata": {
    "colab": {},
    "colab_type": "code",
    "id": "u3cSoDszLQWd"
   },
   "outputs": [],
   "source": [
    "import matplotlib.pyplot as plt"
   ]
  },
  {
   "cell_type": "code",
   "execution_count": 183,
   "metadata": {
    "colab": {},
    "colab_type": "code",
    "id": "584GtywbLTJE"
   },
   "outputs": [],
   "source": [
    "h = hist.history"
   ]
  },
  {
   "cell_type": "code",
   "execution_count": 184,
   "metadata": {
    "colab": {
     "base_uri": "https://localhost:8080/",
     "height": 365
    },
    "colab_type": "code",
    "id": "IKVASxDBLVCL",
    "outputId": "9ca247eb-8550-45e2-a07c-7f4260d45100"
   },
   "outputs": [
    {
     "data": {
      "image/png": "[encoded data removed]",
      "text/plain": [
       "<Figure size 432x288 with 1 Axes>"
      ]
     },
     "metadata": {},
     "output_type": "display_data"
    }
   ],
   "source": [
    "plt.plot(h['val_loss'],label=\"Validation Loss\")\n",
    "plt.plot(h['loss'],label=\"Training Loss\")\n",
    "plt.xlabel(\"Epochs\")\n",
    "plt.ylabel(\"Loss\")\n",
    "plt.legend()\n",
    "plt.show()"
   ]
  },
  {
   "cell_type": "code",
   "execution_count": 185,
   "metadata": {
    "colab": {
     "base_uri": "https://localhost:8080/",
     "height": 361
    },
    "colab_type": "code",
    "id": "m6uLJMTVLoP9",
    "outputId": "47028154-3a04-4f9e-96df-810892095a01"
   },
   "outputs": [
    {
     "data": {
      "image/png": "[encoded data removed]",
      "text/plain": [
       "<Figure size 432x288 with 1 Axes>"
      ]
     },
     "metadata": {},
     "output_type": "display_data"
    }
   ],
   "source": [
    "plt.plot(h['val_acc'],label=\"Validation Acc\")\n",
    "plt.plot(h['acc'],label=\"Training Acc\")\n",
    "plt.xlabel(\"Epochs\")\n",
    "plt.ylabel(\"Accuracy\")\n",
    "plt.legend()\n",
    "plt.show()"
   ]
  },
  {
   "cell_type": "code",
   "execution_count": 0,
   "metadata": {
    "colab": {
     "base_uri": "https://localhost:8080/",
     "height": 54
    },
    "colab_type": "code",
    "id": "OZS8s7pwM2Dl",
    "outputId": "7f7188ab-ed32-41cd-9121-ed2280437f05"
   },
   "outputs": [
    {
     "name": "stdout",
     "output_type": "stream",
     "text": [
      "25000/25000 [==============================] - 2s 84us/step\n"
     ]
    },
    {
     "data": {
      "text/plain": [
       "0.9428"
      ]
     },
     "execution_count": 60,
     "metadata": {
      "tags": []
     },
     "output_type": "execute_result"
    }
   ],
   "source": [
    "# model.evaluate(X_train,Y_train)[1]"
   ]
  },
  {
   "cell_type": "code",
   "execution_count": 187,
   "metadata": {
    "colab": {
     "base_uri": "https://localhost:8080/",
     "height": 146
    },
    "colab_type": "code",
    "id": "rbL0sMuuNCBh",
    "outputId": "7bcd41dd-25b0-4683-ae42-7797461dcb4e"
   },
   "outputs": [
    {
     "ename": "ValueError",
     "evalue": "Error when checking input: expected lstm_1_input to have 3 dimensions, but got array with shape (317, 1)",
     "output_type": "error",
     "traceback": [
      "\u001b[0;31m---------------------------------------------------------------------------\u001b[0m",
      "\u001b[0;31mValueError\u001b[0m                                Traceback (most recent call last)",
      "\u001b[0;32m<ipython-input-187-decd67bbf386>\u001b[0m in \u001b[0;36m<module>\u001b[0;34m\u001b[0m\n\u001b[0;32m----> 1\u001b[0;31m \u001b[0mmodel\u001b[0m\u001b[0;34m.\u001b[0m\u001b[0mpredict\u001b[0m\u001b[0;34m(\u001b[0m\u001b[0mX_test\u001b[0m\u001b[0;34m)\u001b[0m\u001b[0;34m\u001b[0m\u001b[0;34m\u001b[0m\u001b[0m\n\u001b[0m",
      "\u001b[0;32m~/anaconda3/lib/python3.7/site-packages/keras/engine/training.py\u001b[0m in \u001b[0;36mpredict\u001b[0;34m(self, x, batch_size, verbose, steps, callbacks, max_queue_size, workers, use_multiprocessing)\u001b[0m\n\u001b[1;32m   1439\u001b[0m \u001b[0;34m\u001b[0m\u001b[0m\n\u001b[1;32m   1440\u001b[0m         \u001b[0;31m# Case 2: Symbolic tensors or Numpy array-like.\u001b[0m\u001b[0;34m\u001b[0m\u001b[0;34m\u001b[0m\u001b[0;34m\u001b[0m\u001b[0m\n\u001b[0;32m-> 1441\u001b[0;31m         \u001b[0mx\u001b[0m\u001b[0;34m,\u001b[0m \u001b[0m_\u001b[0m\u001b[0;34m,\u001b[0m \u001b[0m_\u001b[0m \u001b[0;34m=\u001b[0m \u001b[0mself\u001b[0m\u001b[0;34m.\u001b[0m\u001b[0m_standardize_user_data\u001b[0m\u001b[0;34m(\u001b[0m\u001b[0mx\u001b[0m\u001b[0;34m)\u001b[0m\u001b[0;34m\u001b[0m\u001b[0;34m\u001b[0m\u001b[0m\n\u001b[0m\u001b[1;32m   1442\u001b[0m         \u001b[0;32mif\u001b[0m \u001b[0mself\u001b[0m\u001b[0;34m.\u001b[0m\u001b[0mstateful\u001b[0m\u001b[0;34m:\u001b[0m\u001b[0;34m\u001b[0m\u001b[0;34m\u001b[0m\u001b[0m\n\u001b[1;32m   1443\u001b[0m             \u001b[0;32mif\u001b[0m \u001b[0mx\u001b[0m\u001b[0;34m[\u001b[0m\u001b[0;36m0\u001b[0m\u001b[0;34m]\u001b[0m\u001b[0;34m.\u001b[0m\u001b[0mshape\u001b[0m\u001b[0;34m[\u001b[0m\u001b[0;36m0\u001b[0m\u001b[0;34m]\u001b[0m \u001b[0;34m>\u001b[0m \u001b[0mbatch_size\u001b[0m \u001b[0;32mand\u001b[0m \u001b[0mx\u001b[0m\u001b[0;34m[\u001b[0m\u001b[0;36m0\u001b[0m\u001b[0;34m]\u001b[0m\u001b[0;34m.\u001b[0m\u001b[0mshape\u001b[0m\u001b[0;34m[\u001b[0m\u001b[0;36m0\u001b[0m\u001b[0;34m]\u001b[0m \u001b[0;34m%\u001b[0m \u001b[0mbatch_size\u001b[0m \u001b[0;34m!=\u001b[0m \u001b[0;36m0\u001b[0m\u001b[0;34m:\u001b[0m\u001b[0;34m\u001b[0m\u001b[0;34m\u001b[0m\u001b[0m\n",
      "\u001b[0;32m~/anaconda3/lib/python3.7/site-packages/keras/engine/training.py\u001b[0m in \u001b[0;36m_standardize_user_data\u001b[0;34m(self, x, y, sample_weight, class_weight, check_array_lengths, batch_size)\u001b[0m\n\u001b[1;32m    577\u001b[0m             \u001b[0mfeed_input_shapes\u001b[0m\u001b[0;34m,\u001b[0m\u001b[0;34m\u001b[0m\u001b[0;34m\u001b[0m\u001b[0m\n\u001b[1;32m    578\u001b[0m             \u001b[0mcheck_batch_axis\u001b[0m\u001b[0;34m=\u001b[0m\u001b[0;32mFalse\u001b[0m\u001b[0;34m,\u001b[0m  \u001b[0;31m# Don't enforce the batch size.\u001b[0m\u001b[0;34m\u001b[0m\u001b[0;34m\u001b[0m\u001b[0m\n\u001b[0;32m--> 579\u001b[0;31m             exception_prefix='input')\n\u001b[0m\u001b[1;32m    580\u001b[0m \u001b[0;34m\u001b[0m\u001b[0m\n\u001b[1;32m    581\u001b[0m         \u001b[0;32mif\u001b[0m \u001b[0my\u001b[0m \u001b[0;32mis\u001b[0m \u001b[0;32mnot\u001b[0m \u001b[0;32mNone\u001b[0m\u001b[0;34m:\u001b[0m\u001b[0;34m\u001b[0m\u001b[0;34m\u001b[0m\u001b[0m\n",
      "\u001b[0;32m~/anaconda3/lib/python3.7/site-packages/keras/engine/training_utils.py\u001b[0m in \u001b[0;36mstandardize_input_data\u001b[0;34m(data, names, shapes, check_batch_axis, exception_prefix)\u001b[0m\n\u001b[1;32m    133\u001b[0m                         \u001b[0;34m': expected '\u001b[0m \u001b[0;34m+\u001b[0m \u001b[0mnames\u001b[0m\u001b[0;34m[\u001b[0m\u001b[0mi\u001b[0m\u001b[0;34m]\u001b[0m \u001b[0;34m+\u001b[0m \u001b[0;34m' to have '\u001b[0m \u001b[0;34m+\u001b[0m\u001b[0;34m\u001b[0m\u001b[0;34m\u001b[0m\u001b[0m\n\u001b[1;32m    134\u001b[0m                         \u001b[0mstr\u001b[0m\u001b[0;34m(\u001b[0m\u001b[0mlen\u001b[0m\u001b[0;34m(\u001b[0m\u001b[0mshape\u001b[0m\u001b[0;34m)\u001b[0m\u001b[0;34m)\u001b[0m \u001b[0;34m+\u001b[0m \u001b[0;34m' dimensions, but got array '\u001b[0m\u001b[0;34m\u001b[0m\u001b[0;34m\u001b[0m\u001b[0m\n\u001b[0;32m--> 135\u001b[0;31m                         'with shape ' + str(data_shape))\n\u001b[0m\u001b[1;32m    136\u001b[0m                 \u001b[0;32mif\u001b[0m \u001b[0;32mnot\u001b[0m \u001b[0mcheck_batch_axis\u001b[0m\u001b[0;34m:\u001b[0m\u001b[0;34m\u001b[0m\u001b[0;34m\u001b[0m\u001b[0m\n\u001b[1;32m    137\u001b[0m                     \u001b[0mdata_shape\u001b[0m \u001b[0;34m=\u001b[0m \u001b[0mdata_shape\u001b[0m\u001b[0;34m[\u001b[0m\u001b[0;36m1\u001b[0m\u001b[0;34m:\u001b[0m\u001b[0;34m]\u001b[0m\u001b[0;34m\u001b[0m\u001b[0;34m\u001b[0m\u001b[0m\n",
      "\u001b[0;31mValueError\u001b[0m: Error when checking input: expected lstm_1_input to have 3 dimensions, but got array with shape (317, 1)"
     ]
    }
   ],
   "source": [
    "model.predict(X_test)"
   ]
  },
  {
   "cell_type": "code",
   "execution_count": null,
   "metadata": {},
   "outputs": [],
   "source": []
  },
  {
   "cell_type": "markdown",
   "metadata": {},
   "source": [
    "## Testing with random strings"
   ]
  },
  {
   "cell_type": "code",
   "execution_count": null,
   "metadata": {},
   "outputs": [],
   "source": [
    "with open(\"model.json\", \"w\") as file:\n",
    "    file.write(model.to_json())\n",
    "model.save_weights(\"model.h5\")\n",
    "\n",
    "from keras.models import model_from_json\n",
    "\n",
    "with open(\"model.json\", \"r\") as file:\n",
    "    model=model_from_json(file.read())\n",
    "model.load_weights(\"model.h5\")\n",
    "\n",
    "test_str=\"hello, is my payment done yet?\"\n",
    "X = pd.Series(test_str)\n",
    "print(type(X))\n",
    "\n",
    "def getOutputEmbeddings(X):  \n",
    "    X = X.split()\n",
    "    embedding_matrix_output = np.zeros((1,10,50))\n",
    "    for jx in range(len(X)):\n",
    "        embedding_matrix_output[0][jx] = embeddings[X[jx].lower()]\n",
    "            \n",
    "    return embedding_matrix_output\n",
    "\n",
    "emb_X = getOutputEmbeddings(test_str)\n",
    "\n",
    "p = model.predict_classes(emb_X)\n",
    "\n",
    "p[0]\n",
    "\n"
   ]
  },
  {
   "cell_type": "markdown",
   "metadata": {},
   "source": [
    "## Cells that may be useful"
   ]
  },
  {
   "cell_type": "code",
   "execution_count": null,
   "metadata": {},
   "outputs": [],
   "source": [
    "combined = list(zip(data, labels))\n",
    "random.shuffle(combined)\n",
    "\n",
    "data[:], labels[:] = zip(*combined)"
   ]
  },
  {
   "cell_type": "code",
   "execution_count": null,
   "metadata": {},
   "outputs": [],
   "source": [
    "hist = model_new.fit(X_train, Y_train,\n",
    "                    shuffle = True,\n",
    "                    batch_size=16,\n",
    "                    epochs=5, #most wts have already been trained so dont need large no of epochs\n",
    "                    validation_split=0.20)"
   ]
  }
 ],
 "metadata": {
  "kernelspec": {
   "display_name": "Python 3",
   "language": "python",
   "name": "python3"
  },
  "language_info": {
   "codemirror_mode": {
    "name": "ipython",
    "version": 3
   },
   "file_extension": ".py",
   "mimetype": "text/x-python",
   "name": "python",
   "nbconvert_exporter": "python",
   "pygments_lexer": "ipython3",
   "version": "3.7.6"
  }
 },
 "nbformat": 4,
 "nbformat_minor": 2
}
