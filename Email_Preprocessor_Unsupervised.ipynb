{
 "cells": [
  {
   "cell_type": "markdown",
   "metadata": {
    "colab_type": "text",
    "id": "xLNBkiZ0BMi_"
   },
   "source": [
    "## APPROACH:\n",
    "### 1. Loading custom dataset\n",
    "### 2. NLP pipeline for text preprocessing\n",
    "### 3. Loading Glove embedding matrix\n",
    "### 4. Converting sentences to vectors (creating the o/p of embedding layer)\n",
    "### 5. Applying clustering algorithms\n",
    "### 6. Data visualization and comparison"
   ]
  },
  {
   "cell_type": "code",
   "execution_count": 4,
   "metadata": {
    "colab": {
     "base_uri": "https://localhost:8080/",
     "height": 34
    },
    "colab_type": "code",
    "id": "CGIFxMDjBMjC",
    "outputId": "c04e5aef-5914-4e60-e071-98ef8bd29096"
   },
   "outputs": [
    {
     "name": "stderr",
     "output_type": "stream",
     "text": [
      "Using TensorFlow backend.\n"
     ]
    }
   ],
   "source": [
    "import re\n",
    "import numpy as np \n",
    "import pandas as pd\n",
    "# import seaborn as sns\n",
    "# sns.set_style('whitegrid')\n",
    "import matplotlib.pyplot as plt\n",
    "%matplotlib inline\n",
    "\n",
    "# NLP\n",
    "from nltk.tokenize.regexp import RegexpTokenizer\n",
    "#from sklearn.feature_extraction.text import TfidfVectorizer,CountVectorizer\n",
    "\n",
    "# import gensim\n",
    "import spacy\n",
    "import en_core_web_sm\n",
    "from keras.preprocessing.text import Tokenizer\n",
    "from keras.preprocessing.sequence import pad_sequences\n",
    "from sklearn.model_selection import train_test_split\n",
    "from sklearn.metrics import classification_report, precision_recall_curve"
   ]
  },
  {
   "cell_type": "markdown",
   "metadata": {
    "colab_type": "text",
    "id": "xMtyI2fbBMjR"
   },
   "source": [
    "## Step 1: Load dataset"
   ]
  },
  {
   "cell_type": "code",
   "execution_count": 5,
   "metadata": {
    "colab": {
     "base_uri": "https://localhost:8080/",
     "height": 74,
     "resources": {
      "http://localhost:8080/nbextensions/google.colab/files.js": {
       "data": "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",
       "headers": [
        [
         "content-type",
         "application/javascript"
        ]
       ],
       "ok": true,
       "status": 200,
       "status_text": ""
      }
     }
    },
    "colab_type": "code",
    "id": "gHPvP8HGB9MU",
    "outputId": "dd05b178-8705-4ec9-ce9d-8c575159049a"
   },
   "outputs": [],
   "source": [
    "# from google.colab import files\n",
    "# uploaded = files.upload()"
   ]
  },
  {
   "cell_type": "code",
   "execution_count": 9,
   "metadata": {
    "colab": {
     "base_uri": "https://localhost:8080/",
     "height": 313
    },
    "colab_type": "code",
    "id": "F57tx8dXBMjS",
    "outputId": "3dd68603-0386-467b-fcf0-9486c5fc6d01"
   },
   "outputs": [
    {
     "name": "stdout",
     "output_type": "stream",
     "text": [
      "(951, 7)\n"
     ]
    },
    {
     "data": {
      "text/html": [
       "<div>\n",
       "<style scoped>\n",
       "    .dataframe tbody tr th:only-of-type {\n",
       "        vertical-align: middle;\n",
       "    }\n",
       "\n",
       "    .dataframe tbody tr th {\n",
       "        vertical-align: top;\n",
       "    }\n",
       "\n",
       "    .dataframe thead th {\n",
       "        text-align: right;\n",
       "    }\n",
       "</style>\n",
       "<table border=\"1\" class=\"dataframe\">\n",
       "  <thead>\n",
       "    <tr style=\"text-align: right;\">\n",
       "      <th></th>\n",
       "      <th>From</th>\n",
       "      <th>To</th>\n",
       "      <th>Subject</th>\n",
       "      <th>Body</th>\n",
       "      <th>Class</th>\n",
       "      <th>TransactionID</th>\n",
       "      <th>Payment Date</th>\n",
       "    </tr>\n",
       "  </thead>\n",
       "  <tbody>\n",
       "    <tr>\n",
       "      <th>0</th>\n",
       "      <td>Spike@DEUTSCHEBANK.com</td>\n",
       "      <td>Shaniece@CitiBankPune.com</td>\n",
       "      <td>Transaction no. 072558 is unresolved.</td>\n",
       "      <td>Sorry to inform that there has been only a par...</td>\n",
       "      <td>Pending</td>\n",
       "      <td>72558</td>\n",
       "      <td>04-02-2020</td>\n",
       "    </tr>\n",
       "    <tr>\n",
       "      <th>1</th>\n",
       "      <td>Stacy@HDFC.com</td>\n",
       "      <td>Rohan@CitiBankNewYork.com</td>\n",
       "      <td>Order for new Cheque book</td>\n",
       "      <td>Good morning, I want to place an order for an ...</td>\n",
       "      <td>General</td>\n",
       "      <td>212096</td>\n",
       "      <td>29-05-2020</td>\n",
       "    </tr>\n",
       "    <tr>\n",
       "      <th>2</th>\n",
       "      <td>Zachary@HDFC.com</td>\n",
       "      <td>Rishabh@CitiBankPune.com</td>\n",
       "      <td>Required money acquired. Transaction 847047 is...</td>\n",
       "      <td>Hello! This is to inform you that I have recei...</td>\n",
       "      <td>Processing</td>\n",
       "      <td>847047</td>\n",
       "      <td>26-01-2020</td>\n",
       "    </tr>\n",
       "    <tr>\n",
       "      <th>3</th>\n",
       "      <td>Stacy@SBI.com</td>\n",
       "      <td>Shai@CitiBankHongKong.com</td>\n",
       "      <td>Asking for the details for transaction 746078</td>\n",
       "      <td>I request you to kindly send the status of my ...</td>\n",
       "      <td>Request</td>\n",
       "      <td>746078</td>\n",
       "      <td>17-06-2019</td>\n",
       "    </tr>\n",
       "    <tr>\n",
       "      <th>4</th>\n",
       "      <td>Angela@HDFC.com</td>\n",
       "      <td>Dipesh@CitiBankSingapore.com</td>\n",
       "      <td>Partial payment for transaction 535918</td>\n",
       "      <td>Hello!! Greetings for the day. Status of trans...</td>\n",
       "      <td>Pending</td>\n",
       "      <td>535918</td>\n",
       "      <td>18-02-2020</td>\n",
       "    </tr>\n",
       "  </tbody>\n",
       "</table>\n",
       "</div>"
      ],
      "text/plain": [
       "                     From                            To  \\\n",
       "0  Spike@DEUTSCHEBANK.com     Shaniece@CitiBankPune.com   \n",
       "1          Stacy@HDFC.com     Rohan@CitiBankNewYork.com   \n",
       "2        Zachary@HDFC.com      Rishabh@CitiBankPune.com   \n",
       "3           Stacy@SBI.com     Shai@CitiBankHongKong.com   \n",
       "4         Angela@HDFC.com  Dipesh@CitiBankSingapore.com   \n",
       "\n",
       "                                             Subject  \\\n",
       "0              Transaction no. 072558 is unresolved.   \n",
       "1                          Order for new Cheque book   \n",
       "2  Required money acquired. Transaction 847047 is...   \n",
       "3      Asking for the details for transaction 746078   \n",
       "4             Partial payment for transaction 535918   \n",
       "\n",
       "                                                Body       Class  \\\n",
       "0  Sorry to inform that there has been only a par...     Pending   \n",
       "1  Good morning, I want to place an order for an ...     General   \n",
       "2  Hello! This is to inform you that I have recei...  Processing   \n",
       "3  I request you to kindly send the status of my ...     Request   \n",
       "4  Hello!! Greetings for the day. Status of trans...     Pending   \n",
       "\n",
       "   TransactionID Payment Date  \n",
       "0          72558   04-02-2020  \n",
       "1         212096   29-05-2020  \n",
       "2         847047   26-01-2020  \n",
       "3         746078   17-06-2019  \n",
       "4         535918   18-02-2020  "
      ]
     },
     "execution_count": 9,
     "metadata": {},
     "output_type": "execute_result"
    }
   ],
   "source": [
    "# emails_df = pd.read_csv('./emails.csv', nrows=20000)\n",
    "df = pd.read_csv('./emaildataset.csv')\n",
    "print(df.shape)\n",
    "df.head()"
   ]
  },
  {
   "cell_type": "code",
   "execution_count": 10,
   "metadata": {
    "colab": {
     "base_uri": "https://localhost:8080/",
     "height": 50
    },
    "colab_type": "code",
    "id": "TR126tsaBMja",
    "outputId": "1fd0d5ab-e87a-4e31-b886-ddaa49910cf1"
   },
   "outputs": [
    {
     "data": {
      "text/plain": [
       "array(['Pending', 'General', 'Processing', 'Request', 'Complete',\n",
       "       'Failed'], dtype=object)"
      ]
     },
     "execution_count": 10,
     "metadata": {},
     "output_type": "execute_result"
    }
   ],
   "source": [
    "df.Class.unique()"
   ]
  },
  {
   "cell_type": "code",
   "execution_count": 14,
   "metadata": {},
   "outputs": [],
   "source": [
    "# from sklearn.cluster import KMeans"
   ]
  },
  {
   "cell_type": "code",
   "execution_count": 15,
   "metadata": {},
   "outputs": [],
   "source": [
    "\n",
    "# kmeans  = KMeans(n_clusters=6)"
   ]
  },
  {
   "cell_type": "code",
   "execution_count": 16,
   "metadata": {},
   "outputs": [],
   "source": [
    "# kmeans.fit(list(df.TransactionID),y)"
   ]
  },
  {
   "cell_type": "code",
   "execution_count": 17,
   "metadata": {},
   "outputs": [],
   "source": [
    "# centers = kmeans.cluster_centers_"
   ]
  },
  {
   "cell_type": "code",
   "execution_count": 20,
   "metadata": {},
   "outputs": [],
   "source": [
    "# plt.scatter(X[:,0],X[:,1])\n",
    "# plt.scatter(centers[:,0],centers[:,1],marker='*',color='orange')\n",
    "# plt.show()"
   ]
  },
  {
   "cell_type": "code",
   "execution_count": 21,
   "metadata": {
    "colab": {},
    "colab_type": "code",
    "id": "ATltqIrsBMjh"
   },
   "outputs": [
    {
     "ename": "ValueError",
     "evalue": "x and y must have same first dimension, but have shapes (6,) and (951,)",
     "output_type": "error",
     "traceback": [
      "\u001b[0;31m---------------------------------------------------------------------------\u001b[0m",
      "\u001b[0;31mValueError\u001b[0m                                Traceback (most recent call last)",
      "\u001b[0;32m<ipython-input-21-ab2eaf16d105>\u001b[0m in \u001b[0;36m<module>\u001b[0;34m\u001b[0m\n\u001b[1;32m      3\u001b[0m \u001b[0mmy_xticks\u001b[0m \u001b[0;34m=\u001b[0m \u001b[0;34m[\u001b[0m\u001b[0;34m'Pending'\u001b[0m\u001b[0;34m,\u001b[0m \u001b[0;34m'General'\u001b[0m\u001b[0;34m,\u001b[0m \u001b[0;34m'Processing'\u001b[0m\u001b[0;34m,\u001b[0m \u001b[0;34m'Request'\u001b[0m\u001b[0;34m,\u001b[0m \u001b[0;34m'Complete'\u001b[0m\u001b[0;34m,\u001b[0m \u001b[0;34m'Failed'\u001b[0m\u001b[0;34m]\u001b[0m\u001b[0;34m\u001b[0m\u001b[0;34m\u001b[0m\u001b[0m\n\u001b[1;32m      4\u001b[0m \u001b[0mplt\u001b[0m\u001b[0;34m.\u001b[0m\u001b[0mxticks\u001b[0m\u001b[0;34m(\u001b[0m\u001b[0mx\u001b[0m\u001b[0;34m,\u001b[0m \u001b[0mmy_xticks\u001b[0m\u001b[0;34m)\u001b[0m\u001b[0;34m\u001b[0m\u001b[0;34m\u001b[0m\u001b[0m\n\u001b[0;32m----> 5\u001b[0;31m \u001b[0mplt\u001b[0m\u001b[0;34m.\u001b[0m\u001b[0mplot\u001b[0m\u001b[0;34m(\u001b[0m\u001b[0mx\u001b[0m\u001b[0;34m,\u001b[0m \u001b[0my\u001b[0m\u001b[0;34m)\u001b[0m\u001b[0;34m\u001b[0m\u001b[0;34m\u001b[0m\u001b[0m\n\u001b[0m\u001b[1;32m      6\u001b[0m \u001b[0mplt\u001b[0m\u001b[0;34m.\u001b[0m\u001b[0mshow\u001b[0m\u001b[0;34m(\u001b[0m\u001b[0;34m)\u001b[0m\u001b[0;34m\u001b[0m\u001b[0;34m\u001b[0m\u001b[0m\n",
      "\u001b[0;32m~/anaconda3/lib/python3.7/site-packages/matplotlib/pyplot.py\u001b[0m in \u001b[0;36mplot\u001b[0;34m(*args, **kwargs)\u001b[0m\n\u001b[1;32m   3361\u001b[0m                       mplDeprecation)\n\u001b[1;32m   3362\u001b[0m     \u001b[0;32mtry\u001b[0m\u001b[0;34m:\u001b[0m\u001b[0;34m\u001b[0m\u001b[0;34m\u001b[0m\u001b[0m\n\u001b[0;32m-> 3363\u001b[0;31m         \u001b[0mret\u001b[0m \u001b[0;34m=\u001b[0m \u001b[0max\u001b[0m\u001b[0;34m.\u001b[0m\u001b[0mplot\u001b[0m\u001b[0;34m(\u001b[0m\u001b[0;34m*\u001b[0m\u001b[0margs\u001b[0m\u001b[0;34m,\u001b[0m \u001b[0;34m**\u001b[0m\u001b[0mkwargs\u001b[0m\u001b[0;34m)\u001b[0m\u001b[0;34m\u001b[0m\u001b[0;34m\u001b[0m\u001b[0m\n\u001b[0m\u001b[1;32m   3364\u001b[0m     \u001b[0;32mfinally\u001b[0m\u001b[0;34m:\u001b[0m\u001b[0;34m\u001b[0m\u001b[0;34m\u001b[0m\u001b[0m\n\u001b[1;32m   3365\u001b[0m         \u001b[0max\u001b[0m\u001b[0;34m.\u001b[0m\u001b[0m_hold\u001b[0m \u001b[0;34m=\u001b[0m \u001b[0mwashold\u001b[0m\u001b[0;34m\u001b[0m\u001b[0;34m\u001b[0m\u001b[0m\n",
      "\u001b[0;32m~/anaconda3/lib/python3.7/site-packages/matplotlib/__init__.py\u001b[0m in \u001b[0;36minner\u001b[0;34m(ax, *args, **kwargs)\u001b[0m\n\u001b[1;32m   1868\u001b[0m                         \u001b[0;34m\"the Matplotlib list!)\"\u001b[0m \u001b[0;34m%\u001b[0m \u001b[0;34m(\u001b[0m\u001b[0mlabel_namer\u001b[0m\u001b[0;34m,\u001b[0m \u001b[0mfunc\u001b[0m\u001b[0;34m.\u001b[0m\u001b[0m__name__\u001b[0m\u001b[0;34m)\u001b[0m\u001b[0;34m,\u001b[0m\u001b[0;34m\u001b[0m\u001b[0;34m\u001b[0m\u001b[0m\n\u001b[1;32m   1869\u001b[0m                         RuntimeWarning, stacklevel=2)\n\u001b[0;32m-> 1870\u001b[0;31m             \u001b[0;32mreturn\u001b[0m \u001b[0mfunc\u001b[0m\u001b[0;34m(\u001b[0m\u001b[0max\u001b[0m\u001b[0;34m,\u001b[0m \u001b[0;34m*\u001b[0m\u001b[0margs\u001b[0m\u001b[0;34m,\u001b[0m \u001b[0;34m**\u001b[0m\u001b[0mkwargs\u001b[0m\u001b[0;34m)\u001b[0m\u001b[0;34m\u001b[0m\u001b[0;34m\u001b[0m\u001b[0m\n\u001b[0m\u001b[1;32m   1871\u001b[0m \u001b[0;34m\u001b[0m\u001b[0m\n\u001b[1;32m   1872\u001b[0m         inner.__doc__ = _add_data_doc(inner.__doc__,\n",
      "\u001b[0;32m~/anaconda3/lib/python3.7/site-packages/matplotlib/axes/_axes.py\u001b[0m in \u001b[0;36mplot\u001b[0;34m(self, *args, **kwargs)\u001b[0m\n\u001b[1;32m   1526\u001b[0m         \u001b[0mkwargs\u001b[0m \u001b[0;34m=\u001b[0m \u001b[0mcbook\u001b[0m\u001b[0;34m.\u001b[0m\u001b[0mnormalize_kwargs\u001b[0m\u001b[0;34m(\u001b[0m\u001b[0mkwargs\u001b[0m\u001b[0;34m,\u001b[0m \u001b[0m_alias_map\u001b[0m\u001b[0;34m)\u001b[0m\u001b[0;34m\u001b[0m\u001b[0;34m\u001b[0m\u001b[0m\n\u001b[1;32m   1527\u001b[0m \u001b[0;34m\u001b[0m\u001b[0m\n\u001b[0;32m-> 1528\u001b[0;31m         \u001b[0;32mfor\u001b[0m \u001b[0mline\u001b[0m \u001b[0;32min\u001b[0m \u001b[0mself\u001b[0m\u001b[0;34m.\u001b[0m\u001b[0m_get_lines\u001b[0m\u001b[0;34m(\u001b[0m\u001b[0;34m*\u001b[0m\u001b[0margs\u001b[0m\u001b[0;34m,\u001b[0m \u001b[0;34m**\u001b[0m\u001b[0mkwargs\u001b[0m\u001b[0;34m)\u001b[0m\u001b[0;34m:\u001b[0m\u001b[0;34m\u001b[0m\u001b[0;34m\u001b[0m\u001b[0m\n\u001b[0m\u001b[1;32m   1529\u001b[0m             \u001b[0mself\u001b[0m\u001b[0;34m.\u001b[0m\u001b[0madd_line\u001b[0m\u001b[0;34m(\u001b[0m\u001b[0mline\u001b[0m\u001b[0;34m)\u001b[0m\u001b[0;34m\u001b[0m\u001b[0;34m\u001b[0m\u001b[0m\n\u001b[1;32m   1530\u001b[0m             \u001b[0mlines\u001b[0m\u001b[0;34m.\u001b[0m\u001b[0mappend\u001b[0m\u001b[0;34m(\u001b[0m\u001b[0mline\u001b[0m\u001b[0;34m)\u001b[0m\u001b[0;34m\u001b[0m\u001b[0;34m\u001b[0m\u001b[0m\n",
      "\u001b[0;32m~/anaconda3/lib/python3.7/site-packages/matplotlib/axes/_base.py\u001b[0m in \u001b[0;36m_grab_next_args\u001b[0;34m(self, *args, **kwargs)\u001b[0m\n\u001b[1;32m    404\u001b[0m                 \u001b[0mthis\u001b[0m \u001b[0;34m+=\u001b[0m \u001b[0margs\u001b[0m\u001b[0;34m[\u001b[0m\u001b[0;36m0\u001b[0m\u001b[0;34m]\u001b[0m\u001b[0;34m,\u001b[0m\u001b[0;34m\u001b[0m\u001b[0;34m\u001b[0m\u001b[0m\n\u001b[1;32m    405\u001b[0m                 \u001b[0margs\u001b[0m \u001b[0;34m=\u001b[0m \u001b[0margs\u001b[0m\u001b[0;34m[\u001b[0m\u001b[0;36m1\u001b[0m\u001b[0;34m:\u001b[0m\u001b[0;34m]\u001b[0m\u001b[0;34m\u001b[0m\u001b[0;34m\u001b[0m\u001b[0m\n\u001b[0;32m--> 406\u001b[0;31m             \u001b[0;32mfor\u001b[0m \u001b[0mseg\u001b[0m \u001b[0;32min\u001b[0m \u001b[0mself\u001b[0m\u001b[0;34m.\u001b[0m\u001b[0m_plot_args\u001b[0m\u001b[0;34m(\u001b[0m\u001b[0mthis\u001b[0m\u001b[0;34m,\u001b[0m \u001b[0mkwargs\u001b[0m\u001b[0;34m)\u001b[0m\u001b[0;34m:\u001b[0m\u001b[0;34m\u001b[0m\u001b[0;34m\u001b[0m\u001b[0m\n\u001b[0m\u001b[1;32m    407\u001b[0m                 \u001b[0;32myield\u001b[0m \u001b[0mseg\u001b[0m\u001b[0;34m\u001b[0m\u001b[0;34m\u001b[0m\u001b[0m\n\u001b[1;32m    408\u001b[0m \u001b[0;34m\u001b[0m\u001b[0m\n",
      "\u001b[0;32m~/anaconda3/lib/python3.7/site-packages/matplotlib/axes/_base.py\u001b[0m in \u001b[0;36m_plot_args\u001b[0;34m(self, tup, kwargs)\u001b[0m\n\u001b[1;32m    381\u001b[0m             \u001b[0mx\u001b[0m\u001b[0;34m,\u001b[0m \u001b[0my\u001b[0m \u001b[0;34m=\u001b[0m \u001b[0mindex_of\u001b[0m\u001b[0;34m(\u001b[0m\u001b[0mtup\u001b[0m\u001b[0;34m[\u001b[0m\u001b[0;34m-\u001b[0m\u001b[0;36m1\u001b[0m\u001b[0;34m]\u001b[0m\u001b[0;34m)\u001b[0m\u001b[0;34m\u001b[0m\u001b[0;34m\u001b[0m\u001b[0m\n\u001b[1;32m    382\u001b[0m \u001b[0;34m\u001b[0m\u001b[0m\n\u001b[0;32m--> 383\u001b[0;31m         \u001b[0mx\u001b[0m\u001b[0;34m,\u001b[0m \u001b[0my\u001b[0m \u001b[0;34m=\u001b[0m \u001b[0mself\u001b[0m\u001b[0;34m.\u001b[0m\u001b[0m_xy_from_xy\u001b[0m\u001b[0;34m(\u001b[0m\u001b[0mx\u001b[0m\u001b[0;34m,\u001b[0m \u001b[0my\u001b[0m\u001b[0;34m)\u001b[0m\u001b[0;34m\u001b[0m\u001b[0;34m\u001b[0m\u001b[0m\n\u001b[0m\u001b[1;32m    384\u001b[0m \u001b[0;34m\u001b[0m\u001b[0m\n\u001b[1;32m    385\u001b[0m         \u001b[0;32mif\u001b[0m \u001b[0mself\u001b[0m\u001b[0;34m.\u001b[0m\u001b[0mcommand\u001b[0m \u001b[0;34m==\u001b[0m \u001b[0;34m'plot'\u001b[0m\u001b[0;34m:\u001b[0m\u001b[0;34m\u001b[0m\u001b[0;34m\u001b[0m\u001b[0m\n",
      "\u001b[0;32m~/anaconda3/lib/python3.7/site-packages/matplotlib/axes/_base.py\u001b[0m in \u001b[0;36m_xy_from_xy\u001b[0;34m(self, x, y)\u001b[0m\n\u001b[1;32m    240\u001b[0m         \u001b[0;32mif\u001b[0m \u001b[0mx\u001b[0m\u001b[0;34m.\u001b[0m\u001b[0mshape\u001b[0m\u001b[0;34m[\u001b[0m\u001b[0;36m0\u001b[0m\u001b[0;34m]\u001b[0m \u001b[0;34m!=\u001b[0m \u001b[0my\u001b[0m\u001b[0;34m.\u001b[0m\u001b[0mshape\u001b[0m\u001b[0;34m[\u001b[0m\u001b[0;36m0\u001b[0m\u001b[0;34m]\u001b[0m\u001b[0;34m:\u001b[0m\u001b[0;34m\u001b[0m\u001b[0;34m\u001b[0m\u001b[0m\n\u001b[1;32m    241\u001b[0m             raise ValueError(\"x and y must have same first dimension, but \"\n\u001b[0;32m--> 242\u001b[0;31m                              \"have shapes {} and {}\".format(x.shape, y.shape))\n\u001b[0m\u001b[1;32m    243\u001b[0m         \u001b[0;32mif\u001b[0m \u001b[0mx\u001b[0m\u001b[0;34m.\u001b[0m\u001b[0mndim\u001b[0m \u001b[0;34m>\u001b[0m \u001b[0;36m2\u001b[0m \u001b[0;32mor\u001b[0m \u001b[0my\u001b[0m\u001b[0;34m.\u001b[0m\u001b[0mndim\u001b[0m \u001b[0;34m>\u001b[0m \u001b[0;36m2\u001b[0m\u001b[0;34m:\u001b[0m\u001b[0;34m\u001b[0m\u001b[0;34m\u001b[0m\u001b[0m\n\u001b[1;32m    244\u001b[0m             raise ValueError(\"x and y can be no greater than 2-D, but have \"\n",
      "\u001b[0;31mValueError\u001b[0m: x and y must have same first dimension, but have shapes (6,) and (951,)"
     ]
    },
    {
     "data": {
      "image/png": "[encoded data removed]",
      "text/plain": [
       "<Figure size 432x288 with 1 Axes>"
      ]
     },
     "metadata": {
      "needs_background": "light"
     },
     "output_type": "display_data"
    }
   ],
   "source": [
    "import seaborn as sns\n",
    "import matplotlib.pyplot as plt\n",
    "from sklearn.cluster import KMeans\n",
    "scores = [KMeans(n_clusters=i+2).fit(df).inertia_ \n",
    "          for i in range(10)]\n",
    "sns.lineplot(np.arange(2, 12), scores)\n",
    "plt.xlabel('Number of clusters')\n",
    "plt.ylabel(\"Inertia\")\n",
    "plt.title(\"Inertia of k-Means versus number of clusters\")"
   ]
  },
  {
   "cell_type": "code",
   "execution_count": null,
   "metadata": {},
   "outputs": [],
   "source": []
  },
  {
   "cell_type": "code",
   "execution_count": null,
   "metadata": {},
   "outputs": [],
   "source": []
  },
  {
   "cell_type": "markdown",
   "metadata": {
    "colab_type": "text",
    "id": "7mmNIVdRmypK"
   },
   "source": [
    "## Step 2: NLP Pipeline for text preprocessing"
   ]
  },
  {
   "cell_type": "code",
   "execution_count": 0,
   "metadata": {
    "colab": {},
    "colab_type": "code",
    "id": "QfpmcosKBMjo"
   },
   "outputs": [],
   "source": [
    "nlp_ = en_core_web_sm.load()"
   ]
  },
  {
   "cell_type": "code",
   "execution_count": 0,
   "metadata": {
    "colab": {},
    "colab_type": "code",
    "id": "qpQuUg2CBMjv"
   },
   "outputs": [],
   "source": [
    "nlp = spacy.load('en')"
   ]
  },
  {
   "cell_type": "code",
   "execution_count": 0,
   "metadata": {
    "colab": {},
    "colab_type": "code",
    "id": "UjQToQNuBMj7"
   },
   "outputs": [],
   "source": [
    "def clean(text):\n",
    "    \n",
    "    text=text.rstrip()\n",
    "    text = re.sub(r'[^a-zA-Z]', ' ', text)\n",
    "    text = \" \".join([i for i in text.lower().split()])\n",
    "    print(text)\n",
    "    \n",
    "    customize_stop_words = [\"cc\",\"subject\",\"http\", \"gbp\", \"usd\", \"eur\", \"inr\", \"cad\",\"thanks\", \"acc\", \"id\", \"account\", \"regards\", \"hi\", \"hello\", \"thank you\", \"greetings\"]\n",
    "    rem_stop = [\"not\", \"wasn't\", \"hadn't\", \"won't\", \"can't\", \"didn't\"]\n",
    "    \n",
    "    for w in customize_stop_words:\n",
    "        nlp.vocab[w].is_stop = True\n",
    "    \n",
    "    for w in rem_stop:\n",
    "        nlp.vocab[w].is_stop = False\n",
    "    \n",
    "    doc = nlp(text)\n",
    "    \n",
    "    normalized = \" \".join(token.lemma_ for token in doc if not token.is_stop)\n",
    "    \n",
    "    doc = \" \".join(token.orth_ for token in nlp(normalized) if not token.is_punct | token.is_space)\n",
    "\n",
    "#     exclude = set(string.punctuation) \n",
    "#     lemma = WordNetLemmatizer()\n",
    "#     porter= PorterStemmer()\n",
    "\n",
    "    # AMOUNT EXTRACTION  NOT NEEDED\n",
    "    #amount = \"\".join([i for i in text.lower().split() if i.isdigit()])\n",
    "    \n",
    "#     stop_free = \" \".join([i for i in text.lower().split() if((i not in stop) and (not i.isdigit()))])\n",
    "#     punc_free = ''.join(ch for ch in stop_free if ch not in exclude)\n",
    "#     doc = lemma(punc_free)\n",
    "    \n",
    "#     normalized = \" \".join(lemma(word) for token in punc_free.split())\n",
    "#     stem = \" \".join(porter.stem(token) for token in normalized.split())\n",
    "#     return normalized, amount\n",
    "\n",
    "#     return normalized\n",
    "    return doc"
   ]
  },
  {
   "cell_type": "code",
   "execution_count": 8,
   "metadata": {
    "colab": {
     "base_uri": "https://localhost:8080/",
     "height": 50
    },
    "colab_type": "code",
    "id": "UX7ThdwSBMkD",
    "outputId": "fc8c60f9-d5bf-4eda-f801-ebfb112c34e5"
   },
   "outputs": [
    {
     "name": "stdout",
     "output_type": "stream",
     "text": [
      "payment in id for amount gbp has been freezed\n",
      "payment would freeze\n"
     ]
    }
   ],
   "source": [
    "print(clean(\"payment in id 1234 for amount 14859 GBP has been freezed\"))"
   ]
  },
  {
   "cell_type": "code",
   "execution_count": 0,
   "metadata": {
    "colab": {},
    "colab_type": "code",
    "id": "c5QYodE4BMkS"
   },
   "outputs": [],
   "source": []
  },
  {
   "cell_type": "code",
   "execution_count": 0,
   "metadata": {
    "colab": {},
    "colab_type": "code",
    "id": "zMqsghUwBMkg"
   },
   "outputs": [],
   "source": [
    "for i in range(df.shape[0]):\n",
    "    # merge subject and body strings\n",
    "    df['Text_Data'] = (df['Subject'] + \" \" + df['Body'])"
   ]
  },
  {
   "cell_type": "code",
   "execution_count": 0,
   "metadata": {
    "colab": {},
    "colab_type": "code",
    "id": "cJMPCmrkBMkm"
   },
   "outputs": [],
   "source": [
    "def converter(x):\n",
    "    try:\n",
    "        return ' '.join([x.lower() for x in str(x).split()])\n",
    "    except AttributeError:\n",
    "        return None  # or some other value\n",
    "\n",
    "df['Text_Data'] = df['Text_Data'].apply(converter)"
   ]
  },
  {
   "cell_type": "code",
   "execution_count": 11,
   "metadata": {
    "colab": {
     "base_uri": "https://localhost:8080/",
     "height": 330
    },
    "colab_type": "code",
    "id": "qtOWpXpIBMk0",
    "outputId": "95634553-3a91-490e-8801-be4e5b86a687"
   },
   "outputs": [
    {
     "data": {
      "text/html": [
       "<div>\n",
       "<style scoped>\n",
       "    .dataframe tbody tr th:only-of-type {\n",
       "        vertical-align: middle;\n",
       "    }\n",
       "\n",
       "    .dataframe tbody tr th {\n",
       "        vertical-align: top;\n",
       "    }\n",
       "\n",
       "    .dataframe thead th {\n",
       "        text-align: right;\n",
       "    }\n",
       "</style>\n",
       "<table border=\"1\" class=\"dataframe\">\n",
       "  <thead>\n",
       "    <tr style=\"text-align: right;\">\n",
       "      <th></th>\n",
       "      <th>From</th>\n",
       "      <th>To</th>\n",
       "      <th>Subject</th>\n",
       "      <th>Body</th>\n",
       "      <th>Class</th>\n",
       "      <th>TransactionID</th>\n",
       "      <th>Payment Date</th>\n",
       "      <th>Text_Data</th>\n",
       "    </tr>\n",
       "  </thead>\n",
       "  <tbody>\n",
       "    <tr>\n",
       "      <th>0</th>\n",
       "      <td>Spike@DEUTSCHEBANK.com</td>\n",
       "      <td>Shaniece@CitiBankPune.com</td>\n",
       "      <td>Transaction no. 072558 is unresolved.</td>\n",
       "      <td>Sorry to inform that there has been only a par...</td>\n",
       "      <td>Pending</td>\n",
       "      <td>72558</td>\n",
       "      <td>04-02-2020</td>\n",
       "      <td>transaction no. 072558 is unresolved. sorry to...</td>\n",
       "    </tr>\n",
       "    <tr>\n",
       "      <th>1</th>\n",
       "      <td>Stacy@HDFC.com</td>\n",
       "      <td>Rohan@CitiBankNewYork.com</td>\n",
       "      <td>Order for new Cheque book</td>\n",
       "      <td>Good morning, I want to place an order for an ...</td>\n",
       "      <td>General</td>\n",
       "      <td>212096</td>\n",
       "      <td>29-05-2020</td>\n",
       "      <td>order for new cheque book good morning, i want...</td>\n",
       "    </tr>\n",
       "    <tr>\n",
       "      <th>2</th>\n",
       "      <td>Zachary@HDFC.com</td>\n",
       "      <td>Rishabh@CitiBankPune.com</td>\n",
       "      <td>Required money acquired. Transaction 847047 is...</td>\n",
       "      <td>Hello! This is to inform you that I have recei...</td>\n",
       "      <td>Processing</td>\n",
       "      <td>847047</td>\n",
       "      <td>26-01-2020</td>\n",
       "      <td>required money acquired. transaction 847047 is...</td>\n",
       "    </tr>\n",
       "    <tr>\n",
       "      <th>3</th>\n",
       "      <td>Stacy@SBI.com</td>\n",
       "      <td>Shai@CitiBankHongKong.com</td>\n",
       "      <td>Asking for the details for transaction 746078</td>\n",
       "      <td>I request you to kindly send the status of my ...</td>\n",
       "      <td>Request</td>\n",
       "      <td>746078</td>\n",
       "      <td>17-06-2019</td>\n",
       "      <td>asking for the details for transaction 746078 ...</td>\n",
       "    </tr>\n",
       "    <tr>\n",
       "      <th>4</th>\n",
       "      <td>Angela@HDFC.com</td>\n",
       "      <td>Dipesh@CitiBankSingapore.com</td>\n",
       "      <td>Partial payment for transaction 535918</td>\n",
       "      <td>Hello!! Greetings for the day. Status of trans...</td>\n",
       "      <td>Pending</td>\n",
       "      <td>535918</td>\n",
       "      <td>18-02-2020</td>\n",
       "      <td>partial payment for transaction 535918 hello!!...</td>\n",
       "    </tr>\n",
       "  </tbody>\n",
       "</table>\n",
       "</div>"
      ],
      "text/plain": [
       "                     From  ...                                          Text_Data\n",
       "0  Spike@DEUTSCHEBANK.com  ...  transaction no. 072558 is unresolved. sorry to...\n",
       "1          Stacy@HDFC.com  ...  order for new cheque book good morning, i want...\n",
       "2        Zachary@HDFC.com  ...  required money acquired. transaction 847047 is...\n",
       "3           Stacy@SBI.com  ...  asking for the details for transaction 746078 ...\n",
       "4         Angela@HDFC.com  ...  partial payment for transaction 535918 hello!!...\n",
       "\n",
       "[5 rows x 8 columns]"
      ]
     },
     "execution_count": 11,
     "metadata": {
      "tags": []
     },
     "output_type": "execute_result"
    }
   ],
   "source": [
    "df.head()"
   ]
  },
  {
   "cell_type": "code",
   "execution_count": 12,
   "metadata": {
    "colab": {
     "base_uri": "https://localhost:8080/",
     "height": 1000
    },
    "colab_type": "code",
    "id": "38waU_MYBMk7",
    "outputId": "5288d79a-e08a-4c28-dd31-b534f7a3156f"
   },
   "outputs": [
    {
     "name": "stdout",
     "output_type": "stream",
     "text": [
      "transaction no is unresolved sorry to inform that there has been only a partial payment of amount gbp you are definitely going to receive the rest at a later point of time warm regards\n",
      "order for new cheque book good morning i want to place an order for an multicity cheque book for account no having atleat leaves kindly send the same to the address mentioned in my account records\n",
      "required money acquired transaction is in process hello this is to inform you that i have received the amount you transferred to my account and now it is currently in process\n",
      "asking for the details for transaction i request you to kindly send the status of my transaction with id thanks and regards\n",
      "partial payment for transaction hello greetings for the day status of transaction usd for account is pending i would be grateful if you could tell me the cause thanks a lot\n",
      "payment done and transaction settled greetings i wanted to let you know that i have acknowledged the payment for transaction in response to your email which confirmed the finalized status of my transaction thanks and regards\n",
      "failure of transaction this is to notify you that my transaction has failed please reply to me with the cause as soon as possible\n",
      "send steps to activate online banking hey i have to transfer funds to a different bank account urgently and now due to lockdown i only have the option to do online banking i would appreciate if you send me the instructions for the same thanks in advance\n",
      "incomplete transaction i regret to inform you that i could only pay the partial amount of eur i will definitely pay the remaining amount as soon as possible thank you for you supreme patience and understanding regards\n",
      "failure of transaction hey i see my transaction with id has failed i think i did everything right please look into this and reply with the reason urgently thank you and regards\n"
     ]
    },
    {
     "name": "stderr",
     "output_type": "stream",
     "text": [
      "/usr/local/lib/python3.6/dist-packages/ipykernel_launcher.py:3: SettingWithCopyWarning: \n",
      "A value is trying to be set on a copy of a slice from a DataFrame\n",
      "\n",
      "See the caveats in the documentation: https://pandas.pydata.org/pandas-docs/stable/user_guide/indexing.html#returning-a-view-versus-a-copy\n",
      "  This is separate from the ipykernel package so we can avoid doing imports until\n"
     ]
    },
    {
     "name": "stdout",
     "output_type": "stream",
     "text": [
      "the pending amount for transaction will reach you soon since my transaction is still pending i wanted to know if there is a problem with the paperwork from my side please let me know at the earliest thanks and regards\n",
      "handling the transaction after payment sincere greetings i am glad to tell you that i have finally been granted the pre approved amount through transaction it is now being processed i am grateful for your support warm regards\n",
      "upgrade to an account with more benefits hello greetings for the day so i have an account with your branch having no and i have recently seen an advertisement which states that if i become a premium customer i can avail many benefits i have decided to upgrade my account can you please guide me through the steps to be taken in order to do this i would be very grateful if you reply within days thank you\n",
      "processing transaction having id acknowledging the received payment for transaction it is finally in process i am appreciative of your efforts kind regards\n",
      "issue a new cheque book warm greetings to you i have recently exhausted my cheque book and would like to order a new one it should have cheques in it my preference is multicity cheques send them to me at the earliest opportunity expecting to hear from you soon\n",
      "the pending amount for transaction will reach you soon i regret to inform you the i could only pay the partial amount of usd i will definitely pay the remaining amount as soon as possible thank you for understanding regards\n",
      "transaction having id has stopped help i have been your regular client and have followed the procedure for creating a transaction correctly still i received an email saying that the transaction has failed i would like to know the reasoning my transaction id is regards\n",
      "change address for account no hey it s me again this time i want to change the address mentioned in your records since i have recently moved out of my previous place my new address is windsor road london please update this one thanks\n",
      "partially paid the required amount for transaction there has been only a partial payment of amount gbp assuring you that the rest will be paid later warm regards\n",
      "there is an outstanding payment for transaction the transaction is taking too long to complete it would be nice of you to guide me through the further steps to be taken in order to complete the transaction hoping to hear from you at the earliest opportunity\n",
      "sorted out the transaction with id greetings i wanted to let you know that i have acknowledged the payment for transaction in response to your email which confirmed the finalized status of my transaction thanks and regards\n",
      "handling the transaction after payment thank you for transferring the payment to my account yesterday i appreciate the quick response i would like to inform you that is is currently in process thanks and regards\n",
      "transaction has failed i have been your regular client and have followed the procedure for creating a transaction correctly still i received an email saying that the transaction has failed i would like to know the reasoning my transaction id is regards\n",
      "failure of transaction greetings for the day i checked my inbox and found your email stating the failure of my transaction please help me understand why has failed need funds urgently patiently waiting for you reply thanks a lot\n",
      "accepted payment transaction currently processing acknowledging the received payment for transaction it is finally in process kind regards\n",
      "transaction is complete to whom it may concern i just received payment for the transaction i am grateful for your cooperation thank you so much and regards\n",
      "transaction no is unresolved hey sincere apologies for transferring a fraction of the amount we agreed on please be assured that the rest is being transferred as of now thanks a lot for understanding\n",
      "urgent not able to withdraw amount this is to inform you that i am not able to withdraw money from my account please help this is urgently required\n",
      "accepted payment transaction currently processing acknowledging the received payment for transaction it is finally in process kind regards\n",
      "payment received for transaction and now processing acknowledging the received payment for transaction it is finally in process kind regards\n",
      "accepted payment transaction currently processing thank you for transferring the payment to my account yesterday i appreciate the quick response i would like to inform you that is is currently in process thanks and regards\n",
      "processing transaction having id sincere greetings i am glad to tell you that i have finally been granted the pre approved amount through transaction it is now being processed i am grateful for your support warm regards\n",
      "request to send details of transaction can you please tell me the amount transferred through transaction id thanks\n",
      "fulfilled transaction having id hello sincere greetings for the day i would like to inform you that my transaction has completed thank you so much for your support looking forward to working more with you in the future regards\n",
      "transaction has failed this is to notify you that my transaction has failed kindly help me understand why did this happen did i do something wrong i am pretty sure i followed every instruction very carefully this was very unexpected perhaps this is a technical failure from your side eagerly waiting for you to reply\n",
      "sorted out the transaction with id hey i am writing in reference to the transaction i was granted the aforementioned amount within the deadline sincere gratitude for such a quick response kind regards\n",
      "pending payment for transaction having id hey sincere apologies for transferring a fraction of the amount we agreed on please be assured that the rest is being transferred as of now thanks a lot for understanding\n",
      "payment done and transaction settled greetings i wanted to let you know that i have acknowledged the payment for transaction in response to your email which confirmed the finalized status of my transaction thanks and regards\n",
      "transaction has failed this is to notify you that my transaction has failed please reply to me with the cause as soon as possible\n",
      "want to know more about being a premium customer sincere greetings i recently came across an offer saying i would have higher interest rates if i am willing to upgrade my account to a premium one i want to base my decision on its pros as well as cons so perhaps you could throw some light on it that woud be very kind of you\n",
      "want to block account hey i think i lost my atm card today so can you please block my account or tell me a way to change my pin no i urgently need your reply thanks in advance\n",
      "imploring update on transaction can you please tell me the amount transferred through transaction id thanks\n",
      "urgent transaction ceased this is to notify you that my transaction has failed please reply to me with the cause as soon as possible\n",
      "transaction stalled and payment not received this is in response to your email stating that my transaction having id has failed but no reason was mentioned can you please tell me what did i do wrong so that i can create a new one without any errors waiting for your reply thank you in advance\n",
      "how to change pin no of atm card please reply this is very urgent i have to change the pin no for atm card associated with account no since it was stolen from me last night or suggest some other way to keep my money secure\n",
      "seeking update on the status of transaction i need details of urgently please provide the same on priority basis\n",
      "concluded the transaction greetings i wanted to let you know that i have acknowledged the payment for transaction in response to your email which confirmed the finalized status of my transaction thanks and regards\n",
      "payment outstanding for transaction this is to regretfully inform you that i could only pay the partial amount of inr i will definitely pay the remaining amount as soon as possible thank you for understanding regards\n",
      "fulfilled transaction having id i deeply appreciate your quick service as i have received the pre approved loan amount of eur\n",
      "fulfilled transaction having id to whom it may concern i have successfully received payment for the transaction i am grateful for your cooperation thank you so much and regards\n",
      "incomplete transaction the transaction is taking too long to complete i would request you to kindly guide me through the further steps to be taken in order to complete the transaction\n",
      "mobile banking steps i would like to know the instructions to be followed to install and setup mobile banking please reply to me with the same thanks in advance\n",
      "send me transactional details for kindly reply to me at the earliest with the last transactions made with the account no thanks in advance\n",
      "asking for the details for transaction i request you to kindly send the status of my transaction with id thanks and regards\n",
      "payment received for transaction and now processing sincere greetings i am glad to tell you that i have finally been granted the pre approved amount through transaction it is now being processed i am grateful for your support warm regards\n",
      "payment outstanding for transaction i regret to inform you the i could only pay the partial amount of inr i will definitely pay the remaining amount as soon as possible thank you for understanding regards\n",
      "request to send details of transaction i request you to kindly send the status of my transaction with id thanks and regards\n",
      "urgent transaction ceased this is to notify you that my transaction has failed please reply to me with the cause as soon as possible\n",
      "payment received for transaction and now processing sincere greetings i am glad to tell you that i have finally been granted the pre approved amount through transaction it is now being processed i am grateful for your support warm regards\n",
      "failure of transaction this is in response to your email stating that my transaction having id has failed but no reason was mentioned can you please tell me what did i do wrong so that i can create a new one without any errors waiting for your reply thank you in advance\n",
      "transaction having id has stopped help i have been your regular client and have followed the procedure for creating a transaction correctly still i received an email saying that the transaction has failed i would like to know the reasoning my transaction id is regards\n",
      "concluded the transaction glad to let you know that i got the desired payment in reference to transaction i am very happy with your services and will definitely recommend your company to my friends and acquaintances warm regards\n",
      "handling the transaction after payment acknowledging the received payment for transaction it is finally in process kind regards\n",
      "payment received for transaction and now processing hello this is to inform you that i have received the amount you transferred to my account and now it is currently in process\n",
      "lost atm card hey i think i lost my atm card today so can you please block my account or tell me a way to change my pin no i urgently need your reply thanks in advance\n",
      "urgently required update on transaction can you please tell me the amount transferred through transaction id thanks\n",
      "transaction is now being processed this is in response to your email notifying about the transferred amount i am acknowledging it and informing you that it is now in process\n",
      "sorted out the transaction with id glad to let you know that i got the desired payment in reference to transaction i am very happy with your services and will definitely recommend your company to my friends and acquaintances warm regards\n",
      "received full payment for transaction no i deeply appreciate your quick service as i have received the pre approved loan amount of usd\n",
      "seeking update on the status of transaction can you please tell me the amount transferred through transaction id thanks\n",
      "transaction is complete glad to let you know that i got the desired payment in reference to transaction i am very happy with your services and will definitely recommend your company to my friends and acquaintances warm regards\n",
      "payment is pending for transaction since my transaction is still pending i wanted to know if there is a problem with the paperwork from my side please let me know at the earliest thanks and regards\n",
      "required money acquired transaction is in process acknowledging the received payment for transaction it is finally in process kind regards\n",
      "concluded the transaction to whom it may concern i have successfully received payment for the transaction i am grateful for your cooperation thank you so much and regards\n",
      "partially paid the required amount for transaction i regret to inform you the i could only pay the partial amount of inr i will definitely pay the remaining amount as soon as possible thank you for understanding regards\n",
      "create a new bank account hey can you please send me the detailed steps that i ought to follow to create a new bank account\n",
      "the pending amount for transaction will reach you soon there has been only a partial payment of amount gbp assuring you that the rest will be paid later warm regards\n",
      "failure of transaction i have been your regular client and have followed the procedure for creating a transaction correctly still i received an email saying that the transaction has failed i would like to know the reasoning my transaction id is regards\n",
      "completed transaction no i deeply appreciate your quick service as i have received the pre approved loan amount of gbp\n",
      "why cant i withdraw money with my atm card i need a new cheque book of leaves kindly send the same to my current address which is present in the details of my account\n",
      "urgent transaction ceased hey i see my transaction with id has failed i think i did everything right please look into this and reply with the reason urgently thank you and regards\n",
      "partially paid the required amount for transaction hey sincere apologies for transferring a fraction of the amount we agreed on please be assured that the rest is being transferred as of now thanks a lot for understanding\n",
      "partially paid the required amount for transaction hello greetings for the day status of transaction usd for account is pending i would be grateful if you could tell me the cause thanks a lot\n",
      "soliciting information for id hey i was hoping if you would be kind enough to tell me the details of account no thanks\n",
      "impetrating details for id please provide a status update on at the earliest\n",
      "completed transaction no greetings i wanted to let you know that i have acknowledged the payment for transaction in response to your email which confirmed the finalized status of my transaction thanks and regards\n",
      "impetrating details for id i need details of urgently please provide the same on priority basis\n",
      "dealing with the transaction thank you for transferring the payment to my account yesterday i appreciate the quick response i would like to inform you that is is currently in process thanks and regards\n",
      "impetrating details for id i need details of urgently please provide the same on priority basis\n",
      "abrupt closure of transaction with id this is to notify you that my transaction has failed please reply to me with the cause as soon as possible\n",
      "handling the transaction after payment hello this is to inform you that i have received the amount you transferred to my account and now it is currently in process\n",
      "seeking update on the status of transaction kindly provide a status update on at the earliest\n",
      "add another contact no to my bank account kindly add the contact no to my bank account and set it as my default no to receive all alerts\n",
      "soliciting information for id hey i would be really grateful if you could tell me the details of account no thanks\n",
      "request to send details of transaction it would be very kind of you to provide a status update on at the earliest hoping for a reply soon\n",
      "failure of transaction greetings for the day i checked my inbox and found your email stating the failure of my transaction please help me understand why has failed need funds urgently patiently waiting for you reply thanks a lot\n",
      "finalized transaction of id glad to let you know that i got the desired payment in reference to transaction i am very happy with your services and will definitely recommend your company to my friends and acquaintances warm regards\n",
      "transaction no is unresolved hey sincere apologies for transferring a fraction of the amount we agreed on please be assured that the rest is being transferred as of now thanks a lot for understanding\n",
      "payment received for transaction and now processing sincere greetings i am glad to tell you that i have finally been granted the pre approved amount through transaction it is now being processed i am grateful for your support warm regards\n",
      "transaction has failed i have been your regular client and have followed the procedure for creating a transaction correctly still i received an email saying that the transaction has failed i would like to know the reasoning my transaction id is regards\n",
      "how to create a bank account with citi i have heard a lot about your bank and would like to open an account with citibank for that i would like to know all the documents that are required kindly reply with the same and also the further steps to be taken eagerly waiting for your reply\n",
      "add one more contact no to account add to my account thanks\n",
      "transaction has failed this is in response to your email stating that my transaction having id has failed but no reason was mentioned can you please tell me what did i do wrong so that i can create a new one without any errors waiting for your reply thank you in advance\n",
      "pending payment for transaction having id hello greetings for the day i see that transaction gbp for account is pending i would be grateful if you could tell me the cause thanks a lot\n",
      "payment done and transaction settled hey i am writing in reference to the transaction i was granted the aforementioned amount within the deadline sincere gratitude for such a quick response kind regards\n",
      "change address for account no hey i think i lost my atm card today so can you please block my account or tell me a way to change my pin no i urgently need your reply thanks in advance\n",
      "abrupt closure of transaction with id i have been your regular client and have followed the procedure for creating a transaction correctly still i received an email saying that the transaction has failed i would like to know the reasoning my transaction id is regards\n",
      "seeking update on the status of transaction hey i would be really grateful if you could tell me the details of account no thanks\n",
      "imploring update on transaction please provide a status update on at the earliest\n",
      "handling the transaction after payment acknowledging the received payment for transaction it has finally been put to process kind regards\n",
      "asking for the details for transaction urgently require details of acc reply as soon as possible\n",
      "payment outstanding for transaction the transaction is taking too long to complete i would request you to kindly guide me through the further steps to be taken in order to complete the transaction\n",
      "payment outstanding for transaction hello greetings for the day status of transaction usd for account is pending i would be grateful if you could tell me the cause thanks a lot\n",
      "imploring update on transaction can you please tell me the amount transferred through transaction id thanks\n",
      "asking for the details for transaction a detailed update on the transaction would be highly appreciated thanks and regards\n",
      "partially paid the required amount for transaction there has been only a partial payment of amount usd assuring you that the rest will be paid later warm regards\n",
      "urgent transaction ceased i have been your regular client and have followed the procedure for creating a transaction correctly still i received an email saying that the transaction has failed i would like to know the reasoning my transaction id is regards\n",
      "completed transaction no hello sincere greetings for the day i would like to inform you that my transaction has completed thank you so much for your support looking forward to working more with you in the future regards\n",
      "completed transaction no glad to let you know that i got the desired payment in reference to transaction i am very happy with your services and will definitely recommend your company to my friends and acquaintances warm regards\n",
      "send steps to activate mobile banking i would like to know the instructions to be followed to install and setup mobile banking please reply to me with the same thanks in advance\n",
      "transaction has failed this is to notify you that my transaction has failed please reply to me with the cause as soon as possible\n",
      "pending payment for transaction having id the transaction is taking too long to complete i would request you to kindly guide me through the further steps to be taken in order to complete the transaction\n",
      "transaction stalled and payment not received this is in response to your email stating that my transaction having id has failed but no reason was mentioned can you please tell me what did i do wrong so that i can create a new one without any errors waiting for your reply thank you in advance\n",
      "request to send details of transaction please provide a status update on at the earliest\n",
      "payment done and transaction settled hey i am writing in reference to the transaction i was granted the aforementioned amount within the deadline sincere gratitude for such a quick response kind regards\n",
      "add one more contact no to account i need a new cheque book of leaves kindly send the same to my current address which is present in the details of my account\n",
      "transaction stalled and payment not received this is in response to your email stating that my transaction having id has failed but no reason was mentioned can you please tell me what did i do wrong so that i can create a new one without any errors waiting for your reply thank you in advance\n",
      "transaction having id has stopped help greetings for the day i checked my inbox and found your email stating the failure of my transaction please help me understand why has failed need funds urgently patiently waiting for you reply thanks a lot\n",
      "pending payment for transaction having id the transaction is taking too long to complete i would request you to kindly guide me through the further steps to be taken in order to complete the transaction\n",
      "finally the transaction of id is complete glad to let you know that i got the desired payment in reference to transaction i am very happy with your services warm regards\n",
      "imploring update on transaction please provide a status update on at the earliest\n",
      "processing transaction having id received payment for transaction yesterday it is finally in process kind regards\n",
      "something wrong with my account this is to inform you that i am not able to withdraw money from my account please help\n",
      "concluded the transaction greetings i wanted to let you know that i am acknowledging the payment for transaction in response to your email which confirmed the finalized status of my transaction thanks and regards\n",
      "payment done and transaction settled to whom it may concern i have successfully received payment for the transaction i am grateful for your cooperation thank you so much and regards\n",
      "handling the transaction after payment hello this is to inform you that i have received the amount you transferred to my account and now it is currently in process\n",
      "upgrade to an account with more benefits send instructions to setup a premium account i currently have a normal account thanks in advance\n",
      "the pending amount for transaction will reach you soon since my transaction is still pending i wanted to know if there is a problem with the paperwork from my side please let me know at the earliest thanks and regards\n",
      "accepted payment transaction currently processing acknowledging the received payment for transaction it is finally in process kind regards\n",
      "transaction no is unresolved since my transaction is still pending i wanted to know if there is a problem with the paperwork from my side please let me know at the earliest thanks and regards\n",
      "partially paid the required amount for transaction hey sincere apologies for transferring a fraction of the amount we agreed on please be assured that the rest is being transferred as of now thanks a lot for understanding\n",
      "pin number change hey i think i lost my atm card today so can you please block my account or tell me a way to change my pin no i urgently need your reply thanks in advance\n",
      "soliciting information for id can you please tell me the amount transferred through transaction id thanks\n",
      "required money acquired transaction is in process sincere greetings i am glad to tell you that i have finally been granted the pre approved amount through transaction it is now being processed i am grateful for your support warm regards\n",
      "payment is pending for transaction hello greetings for the day status of transaction inr for account is pending i would be grateful if you could tell me the cause thanks a lot\n",
      "fulfilled transaction having id hello sincere greetings for the day i would like to inform you that my transaction has completed thank you so much for your support looking forward to working more with you in the future regards\n",
      "open account i have heard a lot about your bank and would like to open an account with citibank for that i would like to know all the documents that are required kindly reply with the same and also the further steps to be taken eagerly waiting for your reply\n",
      "concluded the transaction greetings i wanted to let you know that i have acknowledged the payment for transaction in response to your email which confirmed the finalized status of my transaction thanks and regards\n",
      "want to block account hey can you please block my account i no longer want to avail your services\n",
      "soliciting information for id hey i would be really grateful if you could tell me the details of account no thanks\n",
      "received full payment for transaction no hello sincere greetings for the day i would like to inform you that my transaction has completed thank you so much for your support looking forward to working more with you in the future regards\n",
      "urgent transaction ceased i have been your regular client and have followed the procedure for creating a transaction correctly still i received an email saying that the transaction has failed i would like to know the reasoning my transaction id is regards\n",
      "request to send details of transaction i need details of urgently please provide the same on priority basis\n",
      "payment done and transaction settled greetings i wanted to let you know that i have acknowledged the payment for transaction in response to your email which confirmed the finalized status of my transaction thanks and regards\n",
      "received full payment for transaction no i deeply appreciate your quick service as i have received the pre approved loan amount of inr\n",
      "add one more contact no to account i have heard a lot about your bank and would like to open an account with citibank for that i would like to know all the documents that are required kindly reply with the same and also the further steps to be taken eagerly waiting for your reply\n",
      "cannot take out money this is to inform you that i am not able to withdraw money from my account please help\n",
      "payment is pending for transaction there has been only a partial payment of amount gbp assuring you that the rest will be paid later warm regards\n",
      "completed transaction no greetings i wanted to let you know that i have acknowledged the payment for transaction in response to your email which confirmed the finalized status of my transaction thanks and regards\n",
      "imploring update on transaction urgently require details of acc reply asap\n",
      "urgently required update on transaction i need details of urgently please provide the same on priority basis\n",
      "fragmentary payment for transaction since my transaction is still pending i wanted to know if there is a problem with the paperwork from my side please let me know at the earliest thanks and regards\n",
      "soliciting information for id i request you to kindly send the status of my transaction with id thanks and regards\n",
      "why has my transaction stopped i received an email saying that the transaction has failed i would like to know the reasoning my transaction id is regards\n",
      "add one more contact no to account kindly add the contact no to my bank account\n",
      "dealing with the transaction this is in response to your email notifying about the transferred amount i am acknowledging it and informing you that it is now in process\n",
      "why has my transaction stopped this is in response to your email stating that my transaction having id has failed but no reason was mentioned can you please tell me what did i do wrong so that i can create a new one without any errors waiting for your reply thank you in advance\n",
      "asking for the details for transaction hey i would be really grateful if you could tell me the details of account no thanks\n",
      "transaction stalled and payment not received this is in response to your email stating that my transaction having id has failed but no reason was mentioned can you please tell me what did i do wrong so that i can create a new one without any errors waiting for your reply thank you in advance\n",
      "how to change pin no of atm card hey can you please send me the detailed steps that i ought to follow to create a new bank account\n",
      "urgent transaction ceased greetings for the day i checked my inbox and found your email stating the failure of my transaction please help me understand why has failed need funds urgently patiently waiting for you reply thanks a lot\n",
      "request to send details of transaction i want to have a detailed view of my account would appreciate your help for the same\n",
      "send steps to activate online banking kindly add the contact no to my bank account\n",
      "payment is pending for transaction my transaction is still pending why is this so i wanted to know if there is a problem with the paperwork from my side please let me know at the earliest thanks and regards\n",
      "transaction having id has stopped help hey i see my transaction with id has failed i am pretty sure i did everything right i strongly believe this is a technical error please look into this and confirm\n",
      "fulfilled transaction having id hello sincere greetings for the day i would like to inform you that my transaction has completed thank you so much for your support looking forward to working more with you in the future regards\n",
      "transaction having id has stopped help this is in response to your email stating that my transaction having id has failed but no reason was mentioned can you please tell me what did i do wrong so that i can create a new one without any errors waiting for your reply thank you in advance\n",
      "why has my transaction stopped greetings for the day i read your email stating the failure of my transaction please help me understand why has failed need funds urgently patiently waiting for you reply thanks a lot\n",
      "completed transaction no greetings i wanted to let you know that i have acknowledged the payment for transaction in response to your email which confirmed the finalized status of my transaction thanks and regards\n",
      "why has my transaction stopped i have been your regular client and have followed the procedure for creating a transaction correctly still i received an email saying that the transaction has failed i would like to know the reasoning my transaction id is regards\n",
      "failure of transaction this is in response to your email stating that my transaction having id has failed but no reason was mentioned can you please tell me what did i do wrong so that i can create a new one without any errors waiting for your reply thank you in advance\n",
      "asking for the details for transaction it would be nice of you to tell me the amount transferred through transaction id thanks\n",
      "asking for the details for transaction i need details of urgently please provide the same before the coming friday\n",
      "transaction stalled and payment not received i have been your regular client and have followed the procedure for creating a transaction correctly still i received an email saying that the transaction has failed i would like to know the reasoning my transaction id is regards\n",
      "received amount now being processed sincere greetings i am glad to tell you that i have finally been granted the pre approved amount through transaction it is now being processed i am grateful for your support warm regards\n",
      "processing transaction having id hello this is to inform you that i have received the amount you transferred to my account and now it is currently in process\n",
      "incomplete transaction since my transaction is still pending i wanted to know if there is a problem with the paperwork from my side please let me know at the earliest thanks and regards\n",
      "handling the transaction after payment so happy to acknowledge the received payment for transaction it is finally in process kind regards\n",
      "payment done and transaction settled i deeply appreciate your quick service as i have received the pre approved loan amount of inr\n",
      "transaction is complete to whom it may concern i have successfully received payment for the transaction i am grateful for your cooperation thank you so much and regards\n",
      "add one more contact no to account kindly add the contact no to my bank account\n",
      "fulfilled transaction having id greetings i wanted to let you know that i have acknowledged the payment for transaction in response to your email which confirmed the finalized status of my transaction thanks and regards\n",
      "incomplete transaction the transaction is taking too long to complete i would request you to kindly guide me through the further steps to be taken in order to complete the transaction\n",
      "asking for the details for transaction i request you to kindly send the status of my transaction with id thanks and regards\n",
      "transaction has failed this is to notify you that my transaction has failed please reply to me with the cause as soon as possible\n",
      "asking for the details for transaction i need details of urgently please provide the same on priority basis\n",
      "asking for the details for transaction urgently require details of acc reply fast please\n",
      "sorted out the transaction with id hello sincere greetings for the day i would like to inform you that my transaction has completed thank you so much for your support looking forward to working more with you in the future regards\n",
      "transaction has failed this is to notify you that my transaction has failed please reply to me with the cause as soon as possible\n",
      "imploring update on transaction please provide a status update on at the earliest\n",
      "asking for the details for transaction i request you to kindly send the status of my transaction with id thanks and regards\n",
      "concluded the transaction glad to let you know that i got the desired payment in reference to transaction i am very happy with your services and will definitely recommend your company to my friends and acquaintances warm regards\n",
      "transaction is now being processed this is in response to your email notifying about the transferred amount i am acknowledging it and informing you that it is now in process\n",
      "partial payment for transaction since my transaction is still pending i wanted to know if there is a problem with the paperwork from my side please let me know at the earliest thanks and regards\n",
      "soliciting information for id kindly reply to me at the earliest with the last transactions made with the account no thanks in advance\n",
      "the pending amount for transaction will reach you soon i regret to inform you the i could only pay the partial amount of gbp i will definitely pay the remaining amount as soon as possible thank you for understanding regards\n",
      "handling the transaction after payment this is in response to your email notifying about the transferred amount i am acknowledging it and informing you that it is now in process\n",
      "incomplete transaction hey sincere apologies for transferring a fraction of the amount we agreed on please be assured that the rest is being transferred as of now thanks a lot for understanding\n",
      "required money acquired transaction is in process thank you for transferring the payment to my account yesterday i appreciate the quick response i would like to inform you that is is currently in process thanks and regards\n",
      "payment done and transaction settled i deeply appreciate your quick service as i have received the pre approved loan amount of gbp\n",
      "pending payment for transaction having id the transaction is taking too long to complete i would request you to kindly guide me through the further steps to be taken in order to complete the transaction\n",
      "remaining amount for transaction to be paid later since my transaction is still pending i wanted to know if there is a problem with the paperwork from my side please let me know at the earliest thanks and regards\n",
      "transaction has failed hey i see my transaction with id has failed i think i did everything right please look into this and reply with the reason urgently thank you and regards\n",
      "payment outstanding for transaction there has been only a partial payment of amount eur assuring you that the rest will be paid later warm regards\n",
      "pending payment for transaction having id the transaction is taking too long to complete i would request you to kindly guide me through the further steps to be taken in order to complete the transaction\n",
      "request to send details of transaction can you please tell me the amount transferred through transaction id thanks\n",
      "transaction has failed i have been your regular client and have followed the procedure for creating a transaction correctly still i received an email saying that the transaction has failed i would like to know the reasoning my transaction id is regards\n",
      "change address for account no hey i think i lost my atm card today so can you please block my account or tell me a way to change my pin no i urgently need your reply thanks in advance\n",
      "transaction stalled and payment not received this is in response to your email stating that my transaction having id has failed but no reason was mentioned can you please tell me what did i do wrong so that i can create a new one without any errors waiting for your reply thank you in advance\n",
      "abrupt closure of transaction with id i have been your regular client and have followed the procedure for creating a transaction correctly still i received an email saying that the transaction has failed i would like to know the reasoning my transaction id is regards\n",
      "payment outstanding for transaction i regret to inform you the i could only pay the partial amount of gbp i will definitely pay the remaining amount as soon as possible thank you for understanding regards\n",
      "imploring update on transaction i request you to kindly send the status of my transaction with id thanks and regards\n",
      "processing transaction having id sincere greetings i am glad to tell you that i have finally been granted the pre approved amount through transaction it is now being processed i am grateful for your support warm regards\n",
      "remaining amount for transaction to be paid later i regret to inform you the i could only pay the partial amount of eur i will definitely pay the remaining amount as soon as possible thank you for understanding regards\n",
      "add one more contact no to account hey i think i lost my atm card today so can you please block my account or tell me a way to change my pin no i urgently need your reply thanks in advance\n",
      "new cheque book i need a new cheque book of leaves kindly send the same to my current address which is present in the details of my account\n",
      "payment is pending for transaction the transaction is taking too long to complete i would request you to kindly guide me through the further steps to be taken in order to complete the transaction\n",
      "why has my transaction stopped i have been your regular client and have followed the procedure for creating a transaction correctly still i received an email saying that the transaction has failed i would like to know the reasoning my transaction id is regards\n",
      "transaction no is unresolved there has been only a partial payment of amount usd assuring you that the rest will be paid later warm regards\n",
      "transaction is now being processed acknowledging the received payment for transaction it is finally in process kind regards\n",
      "imploring update on transaction can you please tell me the amount transferred through transaction id thanks\n",
      "processing transaction having id this is in response to your email notifying about the transferred amount i am acknowledging it and informing you that it is now in process\n",
      "processing transaction having id this is in response to your email notifying about the transferred amount i am acknowledging it and informing you that it is now in process\n",
      "imploring update on transaction please provide a status update on at the earliest\n",
      "transaction has failed greetings for the day i checked my inbox and found your email stating the failure of my transaction please help me understand why has failed need funds urgently patiently waiting for you reply thanks a lot\n",
      "urgently required update on transaction i need details of urgently please provide the same on priority basis\n",
      "transaction no is unresolved there has been only a partial payment of amount inr assuring you that the rest will be paid later warm regards\n",
      "urgent transaction ceased this is to notify you that my transaction has failed please reply to me with the cause as soon as possible\n",
      "want to block account hey i think i lost my atm card today so can you please block my account or tell me a way to change my pin no i urgently need your reply thanks in advance\n",
      "transaction stalled and payment not received this is to notify you that my transaction has failed please reply to me with the cause as soon as possible\n",
      "incomplete transaction i regret to inform you the i could only pay the partial amount of eur i will definitely pay the remaining amount as soon as possible thank you for understanding regards\n",
      "abrupt closure of transaction with id greetings for the day i checked my inbox and found your email stating the failure of my transaction please help me understand why has failed need funds urgently patiently waiting for you reply thanks a lot\n",
      "required money acquired transaction is in process this is in response to your email notifying about the transferred amount i am acknowledging it and informing you that it is now in process\n",
      "transaction is now being processed acknowledging the received payment for transaction it is finally in process kind regards\n",
      "fulfilled transaction having id hey i am writing in reference to the transaction i was granted the aforementioned amount within the deadline sincere gratitude for such a quick response kind regards\n",
      "failure of transaction this is in response to your email stating that my transaction having id has failed but no reason was mentioned can you please tell me what did i do wrong so that i can create a new one without any errors waiting for your reply thank you in advance\n",
      "partially paid the required amount for transaction i regret to inform you the i could only pay the partial amount of usd i will definitely pay the remaining amount as soon as possible thank you for understanding regards\n",
      "transaction is now being processed acknowledging the received payment for transaction it is finally in process kind regards\n",
      "payment is pending for transaction hello greetings for the day status of transaction inr for account is pending i would be grateful if you could tell me the cause thanks a lot\n",
      "transaction has failed this is in response to your email stating that my transaction having id has failed but no reason was mentioned can you please tell me what did i do wrong so that i can create a new one without any errors waiting for your reply thank you in advance\n",
      "payment received for transaction and now processing thank you for transferring the payment to my account yesterday i appreciate the quick response i would like to inform you that is is currently in process thanks and regards\n",
      "dealing with the transaction this is in response to your email notifying about the transferred amount i am acknowledging it and informing you that it is now in process\n",
      "why has my transaction stopped i have been your regular client and have followed the procedure for creating a transaction correctly still i received an email saying that the transaction has failed i would like to know the reasoning my transaction id is regards\n",
      "handling the transaction after payment sincere greetings i am glad to tell you that i have finally been granted the pre approved amount through transaction it is now being processed i am grateful for your support warm regards\n",
      "imploring update on transaction kindly reply to me at the earliest with the last transactions made with the account no thanks in advance\n",
      "payment done and transaction settled hey i am writing in reference to the transaction i was granted the aforementioned amount within the deadline sincere gratitude for such a quick response kind regards\n",
      "send steps to activate online banking this is to inform you that i am not able to withdraw money from my account please help\n",
      "finalized transaction of id glad to let you know that i got the desired payment in reference to transaction i am very happy with your services and will definitely recommend your company to my friends and acquaintances warm regards\n",
      "dealing with the transaction hello this is to inform you that i have received the amount you transferred to my account and now it is currently in process\n",
      "payment done and transaction settled greetings i wanted to let you know that i have acknowledged the payment for transaction in response to your email which confirmed the finalized status of my transaction thanks and regards\n",
      "urgently required update on transaction i need details of urgently please provide the same on priority basis\n",
      "transaction having id has stopped help hey i see my transaction with id has failed i think i did everything right please look into this and reply with the reason urgently thank you and regards\n",
      "urgent transaction ceased this is in response to your email stating that my transaction having id has failed but no reason was mentioned can you please tell me what did i do wrong so that i can create a new one without any errors waiting for your reply thank you in advance\n",
      "processing transaction having id acknowledging the received payment for transaction it is finally in process kind regards\n",
      "urgent transaction ceased greetings for the day i checked my inbox and found your email stating the failure of my transaction please help me understand why has failed need funds urgently patiently waiting for you reply thanks a lot\n",
      "soliciting information for id kindly reply to me at the earliest with the last transactions made with the account no thanks in advance\n",
      "want to block account i need a new cheque book of leaves kindly send the same to my current address which is present in the details of my account\n",
      "partially paid the required amount for transaction i regret to inform you the i could only pay the partial amount of gbp i will definitely pay the remaining amount as soon as possible thank you for understanding regards\n",
      "new cheque book hey i think i lost my atm card today so can you please block my account or tell me a way to change my pin no i urgently need your reply thanks in advance\n",
      "dealing with the transaction hello this is to inform you that i have received the amount you transferred to my account and now it is currently in process\n",
      "payment outstanding for transaction there has been only a partial payment of amount eur assuring you that the rest will be paid later warm regards\n",
      "transaction has failed greetings for the day i checked my inbox and found your email stating the failure of my transaction please help me understand why has failed need funds urgently patiently waiting for you reply thanks a lot\n",
      "request to send details of transaction i need details of urgently please provide the same on priority basis\n",
      "remaining amount for transaction to be paid later i regret to inform you the i could only pay the partial amount of usd i will definitely pay the remaining amount as soon as possible thank you for understanding regards\n",
      "seeking update on the status of transaction hey i would be really grateful if you could tell me the details of account no thanks\n",
      "imploring update on transaction can you please tell me the amount transferred through transaction id thanks\n",
      "processing transaction having id this is in response to your email notifying about the transferred amount i am acknowledging it and informing you that it is now in process\n",
      "pending payment for transaction having id hello greetings for the day status of transaction inr for account is pending i would be grateful if you could tell me the cause thanks a lot\n",
      "impetrating details for id hey i would be really grateful if you could tell me the details of account no thanks\n",
      "payment done and transaction settled hello sincere greetings for the day i would like to inform you that my transaction has completed thank you so much for your support looking forward to working more with you in the future regards\n",
      "urgent transaction ceased hey i see my transaction with id has failed i think i did everything right please look into this and reply with the reason urgently thank you and regards\n",
      "impetrating details for id please provide a status update on at the earliest\n",
      "impetrating details for id i want some information for my account can you please send them to me thanks\n",
      "set up a new account with you hey can you please send me the detailed steps that i ought to follow to create a new bank account\n",
      "add one more contact no to account kindly add the contact no to my bank account\n",
      "partial payment for transaction hello greetings for the day status of transaction inr for account is pending i would be grateful if you could tell me the cause thanks a lot\n",
      "handling the transaction after payment this is in response to your email notifying about the transferred amount i am acknowledging it and informing you that it is now in process\n",
      "partially paid the required amount for transaction there has been only a partial payment of amount eur assuring you that the rest will be paid later warm regards\n",
      "transaction having id has stopped help this is in response to your email stating that my transaction having id has failed but no reason was mentioned can you please tell me what did i do wrong so that i can create a new one without any errors waiting for your reply thank you in advance\n",
      "asking for the details for transaction hey i would be really grateful if you could tell me the details of account no thanks\n",
      "why has my transaction stopped hey i see my transaction with id has failed i think i did everything right please look into this and reply with the reason urgently thank you and regards\n",
      "transaction stalled and payment not received i have been your regular client and have followed the procedure for creating a transaction correctly still i received an email saying that the transaction has failed i would like to know the reasoning my transaction id is regards\n",
      "received full payment for transaction no hey i am writing in reference to the transaction i was granted the aforementioned amount within the deadline sincere gratitude for such a quick response kind regards\n",
      "abrupt closure of transaction with id greetings for the day i checked my inbox and found your email stating the failure of my transaction please help me understand why has failed need funds urgently patiently waiting for you reply thanks a lot\n",
      "transaction is complete hello sincere greetings for the day i would like to inform you that my transaction has completed thank you so much for your support looking forward to working more with you in the future regards\n",
      "pending payment for transaction having id there has been only a partial payment of amount gbp assuring you that the rest will be paid later warm regards\n",
      "transaction is complete hey i am writing in reference to the transaction i was granted the aforementioned amount within the deadline sincere gratitude for such a quick response kind regards\n",
      "add one more contact no to account i have heard a lot about your bank and would like to open an account with citibank for that i would like to know all the documents that are required kindly reply with the same and also the further steps to be taken eagerly waiting for your reply\n",
      "processing transaction having id this is in response to your email notifying about the transferred amount i am acknowledging it and informing you that it is now in process\n",
      "why has my transaction stopped hey i see my transaction with id has failed i think i did everything right please look into this and reply with the reason urgently thank you and regards\n",
      "request to send details of transaction can you please tell me the amount transferred through transaction id thanks\n",
      "asking for the details for transaction kindly reply to me at the earliest with the last transactions made with the account no thanks in advance\n",
      "payment received for transaction and now processing thank you for transferring the payment to my account yesterday i appreciate the quick response i would like to inform you that is is currently in process thanks and regards\n",
      "transaction stalled and payment not received this is in response to your email stating that my transaction having id has failed but no reason was mentioned can you please tell me what did i do wrong so that i can create a new one without any errors waiting for your reply thank you in advance\n",
      "payment done and transaction settled i deeply appreciate your quick service as i have received the pre approved loan amount of usd\n",
      "how to change pin no of atm card i would like to know the instructions to be followed to install and setup mobile banking please reply to me with the same thanks in advance\n",
      "transaction no is unresolved since my transaction is still pending i wanted to know if there is a problem with the paperwork from my side please let me know at the earliest thanks and regards\n",
      "remaining amount for transaction to be paid later the transaction is taking too long to complete i would request you to kindly guide me through the further steps to be taken in order to complete the transaction\n",
      "why has my transaction stopped hey i see my transaction with id has failed i think i did everything right please look into this and reply with the reason urgently thank you and regards\n",
      "processing transaction having id hello this is to inform you that i have received the amount you transferred to my account and now it is currently in process\n",
      "impetrating details for id i request you to kindly send the status of my transaction with id thanks and regards\n",
      "add one more contact no to account i have heard a lot about your bank and would like to open an account with citibank for that i would like to know all the documents that are required kindly reply with the same and also the further steps to be taken eagerly waiting for your reply\n",
      "handling the transaction after payment thank you for transferring the payment to my account yesterday i appreciate the quick response i would like to inform you that is is currently in process thanks and regards\n",
      "accepted payment transaction currently processing hello this is to inform you that i have received the amount you transferred to my account and now it is currently in process\n",
      "transaction is complete i deeply appreciate your quick service as i have received the pre approved loan amount of inr\n",
      "why has my transaction stopped i have been your regular client and have followed the procedure for creating a transaction correctly still i received an email saying that the transaction has failed i would like to know the reasoning my transaction id is regards\n",
      "impetrating details for id i request you to kindly send the status of my transaction with id thanks and regards\n",
      "imploring update on transaction i need details of urgently please provide the same on priority basis\n",
      "transaction is complete glad to let you know that i got the desired payment in reference to transaction i am very happy with your services and will definitely recommend your company to my friends and acquaintances warm regards\n",
      "why cant i withdraw money with my atm card i would like to know the instructions to be followed to install and setup mobile banking please reply to me with the same thanks in advance\n",
      "asking for the details for transaction kindly note that this is urgent i need details like the recipients of the transfer of amount for transaction reply soon\n",
      "transaction stalled and payment not received greetings for the day i checked my inbox and found your email stating the failure of my transaction please help me understand why has failed need funds urgently patiently waiting for you reply thanks a lot\n",
      "received full payment for transaction no to whom it may concern i have successfully received payment for the transaction i am grateful for your cooperation thank you so much and regards\n",
      "concluded the transaction hey i am writing in reference to the transaction i was granted the aforementioned amount within the deadline sincere gratitude for such a quick response kind regards\n",
      "why has my transaction stopped this is to notify you that my transaction has failed please reply to me with the cause as soon as possible\n",
      "transaction is now being processed this is in response to your email notifying about the transferred amount i am acknowledging it and informing you that it is now in process\n",
      "add one more contact no to account hey can you please send me the detailed steps that i ought to follow to create a new bank account\n",
      "add one more contact no to account i would like to know the instructions to be followed to install and setup mobile banking please reply to me with the same thanks in advance\n",
      "want to block account i need a new cheque book of leaves kindly send the same to my current address which is present in the details of my account\n",
      "pending payment for transaction having id hello greetings for the day status of transaction eur for account is pending i would be grateful if you could tell me the cause thanks a lot\n",
      "payment outstanding for transaction the transaction is taking too long to complete i would request you to kindly guide me through the further steps to be taken in order to complete the transaction\n",
      "upgrade to an account with more benefits i need a new cheque book of leaves kindly send the same to my current address which is present in the details of my account\n",
      "why has my transaction stopped i have been your regular client and have followed the procedure for creating a transaction correctly still i received an email saying that the transaction has failed i would like to know the reasoning my transaction id is regards\n",
      "send steps to activate online banking i have heard a lot about your bank and would like to open an account with citibank for that i would like to know all the documents that are required kindly reply with the same and also the further steps to be taken eagerly waiting for your reply\n",
      "soliciting information for id i need details of urgently please provide the same on priority basis\n",
      "transaction stalled and payment not received hey i see my transaction with id has failed i think i did everything right please look into this and reply with the reason urgently thank you and regards\n",
      "seeking update on the status of transaction hey i would be really grateful if you could tell me the details of account no thanks\n",
      "required money acquired transaction is in process acknowledging the received payment for transaction it is finally in process kind regards\n",
      "why cant i withdraw money with my atm card hey can you please send me the detailed steps that i ought to follow to create a new bank account\n",
      "payment is pending for transaction hello greetings for the day status of transaction inr for account is pending i would be grateful if you could tell me the cause thanks a lot\n",
      "imploring update on transaction can you please tell me the amount transferred through transaction id thanks\n",
      "transaction is now being processed sincere greetings i am glad to tell you that i have finally been granted the pre approved amount through transaction it is now being processed i am grateful for your support warm regards\n",
      "failure of transaction hey i see my transaction with id has failed i think i did everything right please look into this and reply with the reason urgently thank you and regards\n",
      "processing transaction having id thank you for transferring the payment to my account yesterday i appreciate the quick response i would like to inform you that is is currently in process thanks and regards\n",
      "soliciting information for id i need details of urgently please provide the same on priority basis\n",
      "failure of transaction this is to notify you that my transaction has failed please reply to me with the cause as soon as possible\n",
      "pending payment for transaction having id since my transaction is still pending i wanted to know if there is a problem with the paperwork from my side please let me know at the earliest thanks and regards\n",
      "impetrating details for id urgently require details of acc reply asap\n",
      "abrupt closure of transaction with id hey i see my transaction with id has failed i think i did everything right please look into this and reply with the reason urgently thank you and regards\n",
      "payment outstanding for transaction i regret to inform you the i could only pay the partial amount of gbp i will definitely pay the remaining amount as soon as possible thank you for understanding regards\n",
      "completed transaction no greetings i wanted to let you know that i have acknowledged the payment for transaction in response to your email which confirmed the finalized status of my transaction thanks and regards\n",
      "urgently required update on transaction please provide a status update on at the earliest\n",
      "dealing with the transaction sincere greetings i am glad to tell you that i have finally been granted the pre approved amount through transaction it is now being processed i am grateful for your support warm regards\n",
      "transaction is now being processed this is in response to your email notifying about the transferred amount i am acknowledging it and informing you that it is now in process\n",
      "transaction has failed this is to notify you that my transaction has failed please reply to me with the cause as soon as possible\n",
      "processing transaction having id acknowledging the received payment for transaction it is finally in process kind regards\n",
      "partial payment for transaction since my transaction is still pending i wanted to know if there is a problem with the paperwork from my side please let me know at the earliest thanks and regards\n",
      "completed transaction no hey i am writing in reference to the transaction i was granted the aforementioned amount within the deadline sincere gratitude for such a quick response kind regards\n",
      "why cant i withdraw money with my atm card kindly add the contact no to my bank account\n",
      "seeking update on the status of transaction hey i would be really grateful if you could tell me the details of account no thanks\n",
      "transaction is now being processed this is in response to your email notifying about the transferred amount i am acknowledging it and informing you that it is now in process\n",
      "partially paid the required amount for transaction since my transaction is still pending i wanted to know if there is a problem with the paperwork from my side please let me know at the earliest thanks and regards\n",
      "asking for the details for transaction kindly reply to me at the earliest with the last transactions made with the account no thanks in advance\n",
      "transaction stalled and payment not received greetings for the day i checked my inbox and found your email stating the failure of my transaction please help me understand why has failed need funds urgently patiently waiting for you reply thanks a lot\n",
      "incomplete transaction i regret to inform you the i could only pay the partial amount of usd i will definitely pay the remaining amount as soon as possible thank you for understanding regards\n",
      "pending payment for transaction having id the transaction is taking too long to complete i would request you to kindly guide me through the further steps to be taken in order to complete the transaction\n",
      "payment received for transaction and now processing sincere greetings i am glad to tell you that i have finally been granted the pre approved amount through transaction it is now being processed i am grateful for your support warm regards\n",
      "processing transaction having id this is in response to your email notifying about the transferred amount i am acknowledging it and informing you that it is now in process\n",
      "urgent transaction ceased i have been your regular client and have followed the procedure for creating a transaction correctly still i received an email saying that the transaction has failed i would like to know the reasoning my transaction id is regards\n",
      "transaction stalled and payment not received i have been your regular client and have followed the procedure for creating a transaction correctly still i received an email saying that the transaction has failed i would like to know the reasoning my transaction id is regards\n",
      "processing transaction having id this is in response to your email notifying about the transferred amount i am acknowledging it and informing you that it is now in process\n",
      "soliciting information for id i need details of urgently please provide the same on priority basis\n",
      "handling the transaction after payment acknowledging the received payment for transaction it is finally in process kind regards\n",
      "abrupt closure of transaction with id this is to notify you that my transaction has failed please reply to me with the cause as soon as possible\n",
      "soliciting information for id please provide a status update on at the earliest\n",
      "payment done and transaction settled to whom it may concern i have successfully received payment for the transaction i am grateful for your cooperation thank you so much and regards\n",
      "how to change pin no of atm card this is to inform you that i am not able to withdraw money from my account please help\n",
      "transaction is now being processed thank you for transferring the payment to my account yesterday i appreciate the quick response i would like to inform you that is is currently in process thanks and regards\n",
      "finalized transaction of id i deeply appreciate your quick service as i have received the pre approved loan amount of usd\n",
      "concluded the transaction greetings i wanted to let you know that i have acknowledged the payment for transaction in response to your email which confirmed the finalized status of my transaction thanks and regards\n",
      "seeking update on the status of transaction urgently require details of acc reply asap\n",
      "incomplete transaction since my transaction is still pending i wanted to know if there is a problem with the paperwork from my side please let me know at the earliest thanks and regards\n",
      "transaction stalled and payment not received greetings for the day i checked my inbox and found your email stating the failure of my transaction please help me understand why has failed need funds urgently patiently waiting for you reply thanks a lot\n",
      "failure of transaction i have been your regular client and have followed the procedure for creating a transaction correctly still i received an email saying that the transaction has failed i would like to know the reasoning my transaction id is regards\n",
      "pending payment for transaction having id hello greetings for the day status of transaction inr for account is pending i would be grateful if you could tell me the cause thanks a lot\n",
      "transaction no is unresolved i regret to inform you the i could only pay the partial amount of gbp i will definitely pay the remaining amount as soon as possible thank you for understanding regards\n",
      "transaction has failed this is in response to your email stating that my transaction having id has failed but no reason was mentioned can you please tell me what did i do wrong so that i can create a new one without any errors waiting for your reply thank you in advance\n",
      "request to send details of transaction i request you to kindly send the status of my transaction with id thanks and regards\n",
      "required money acquired transaction is in process hello this is to inform you that i have received the amount you transferred to my account and now it is currently in process\n",
      "handling the transaction after payment sincere greetings i am glad to tell you that i have finally been granted the pre approved amount through transaction it is now being processed i am grateful for your support warm regards\n",
      "completed transaction no i deeply appreciate your quick service as i have received the pre approved loan amount of inr\n",
      "imploring update on transaction i request you to kindly send the status of my transaction with id thanks and regards\n",
      "send steps to activate online banking hey can you please send me the detailed steps that i ought to follow to create a new bank account\n",
      "incomplete transaction the transaction is taking too long to complete i would request you to kindly guide me through the further steps to be taken in order to complete the transaction\n",
      "transaction is complete to whom it may concern i have successfully received payment for the transaction i am grateful for your cooperation thank you so much and regards\n",
      "want to block account i have heard a lot about your bank and would like to open an account with citibank for that i would like to know all the documents that are required kindly reply with the same and also the further steps to be taken eagerly waiting for your reply\n",
      "handling the transaction after payment thank you for transferring the payment to my account yesterday i appreciate the quick response i would like to inform you that is is currently in process thanks and regards\n",
      "why has my transaction stopped greetings for the day i checked my inbox and found your email stating the failure of my transaction please help me understand why has failed need funds urgently patiently waiting for you reply thanks a lot\n",
      "impetrating details for id can you please tell me the amount transferred through transaction id thanks\n",
      "send steps to activate online banking this is to inform you that i am not able to withdraw money from my account please help\n",
      "transaction stalled and payment not received greetings for the day i checked my inbox and found your email stating the failure of my transaction please help me understand why has failed need funds urgently patiently waiting for you reply thanks a lot\n",
      "abrupt closure of transaction with id i have been your regular client and have followed the procedure for creating a transaction correctly still i received an email saying that the transaction has failed i would like to know the reasoning my transaction id is regards\n",
      "partial payment for transaction i regret to inform you the i could only pay the partial amount of inr i will definitely pay the remaining amount as soon as possible thank you for understanding regards\n",
      "finalized transaction of id hello sincere greetings for the day i would like to inform you that my transaction has completed thank you so much for your support looking forward to working more with you in the future regards\n",
      "urgent transaction ceased greetings for the day i checked my inbox and found your email stating the failure of my transaction please help me understand why has failed need funds urgently patiently waiting for you reply thanks a lot\n",
      "sorted out the transaction with id hello sincere greetings for the day i would like to inform you that my transaction has completed thank you so much for your support looking forward to working more with you in the future regards\n",
      "payment outstanding for transaction since my transaction is still pending i wanted to know if there is a problem with the paperwork from my side please let me know at the earliest thanks and regards\n",
      "concluded the transaction to whom it may concern i have successfully received payment for the transaction i am grateful for your cooperation thank you so much and regards\n",
      "urgently required update on transaction urgently require details of acc reply asap\n",
      "sorted out the transaction with id greetings i wanted to let you know that i have acknowledged the payment for transaction in response to your email which confirmed the finalized status of my transaction thanks and regards\n",
      "payment received for transaction and now processing acknowledging the received payment for transaction it is finally in process kind regards\n",
      "processing transaction having id hello this is to inform you that i have received the amount you transferred to my account and now it is currently in process\n",
      "why has my transaction stopped greetings for the day i checked my inbox and found your email stating the failure of my transaction please help me understand why has failed need funds urgently patiently waiting for you reply thanks a lot\n",
      "seeking update on the status of transaction i request you to kindly send the status of my transaction with id thanks and regards\n",
      "transaction stalled and payment not received greetings for the day i checked my inbox and found your email stating the failure of my transaction please help me understand why has failed need funds urgently patiently waiting for you reply thanks a lot\n",
      "received full payment for transaction no i deeply appreciate your quick service as i have received the pre approved loan amount of usd\n",
      "the pending amount for transaction will reach you soon there has been only a partial payment of amount eur assuring you that the rest will be paid later warm regards\n",
      "partially paid the required amount for transaction the transaction is taking too long to complete i would request you to kindly guide me through the further steps to be taken in order to complete the transaction\n",
      "incomplete transaction the transaction is taking too long to complete i would request you to kindly guide me through the further steps to be taken in order to complete the transaction\n",
      "fulfilled transaction having id hello sincere greetings for the day i would like to inform you that my transaction has completed thank you so much for your support looking forward to working more with you in the future regards\n",
      "request to send details of transaction urgently require details of acc reply asap\n",
      "change address for account no i need a new cheque book of leaves kindly send the same to my current address which is present in the details of my account\n",
      "transaction is complete greetings i wanted to let you know that i have acknowledged the payment for transaction in response to your email which confirmed the finalized status of my transaction thanks and regards\n",
      "why has my transaction stopped greetings for the day i checked my inbox and found your email stating the failure of my transaction please help me understand why has failed need funds urgently patiently waiting for you reply thanks a lot\n",
      "concluded the transaction hey i am writing in reference to the transaction i was granted the aforementioned amount within the deadline sincere gratitude for such a quick response kind regards\n",
      "seeking update on the status of transaction hey i would be really grateful if you could tell me the details of account no thanks\n",
      "handling the transaction after payment hello this is to inform you that i have received the amount you transferred to my account and now it is currently in process\n",
      "abrupt closure of transaction with id i have been your regular client and have followed the procedure for creating a transaction correctly still i received an email saying that the transaction has failed i would like to know the reasoning my transaction id is regards\n",
      "seeking update on the status of transaction hey i would be really grateful if you could tell me the details of account no thanks\n",
      "required money acquired transaction is in process thank you for transferring the payment to my account yesterday i appreciate the quick response i would like to inform you that is is currently in process thanks and regards\n",
      "partially paid the required amount for transaction hey sincere apologies for transferring a fraction of the amount we agreed on please be assured that the rest is being transferred as of now thanks a lot for understanding\n",
      "why cant i withdraw money with my atm card i need a new cheque book of leaves kindly send the same to my current address which is present in the details of my account\n",
      "concluded the transaction hey i am writing in reference to the transaction i was granted the aforementioned amount within the deadline sincere gratitude for such a quick response kind regards\n",
      "seeking update on the status of transaction can you please tell me the amount transferred through transaction id thanks\n",
      "transaction no is unresolved the transaction is taking too long to complete i would request you to kindly guide me through the further steps to be taken in order to complete the transaction\n",
      "change address for account no hey i think i lost my atm card today so can you please block my account or tell me a way to change my pin no i urgently need your reply thanks in advance\n",
      "transaction having id has stopped help this is in response to your email stating that my transaction having id has failed but no reason was mentioned can you please tell me what did i do wrong so that i can create a new one without any errors waiting for your reply thank you in advance\n",
      "completed transaction no i deeply appreciate your quick service as i have received the pre approved loan amount of usd\n",
      "pending payment for transaction having id hello greetings for the day status of transaction inr for account is pending i would be grateful if you could tell me the cause thanks a lot\n",
      "handling the transaction after payment thank you for transferring the payment to my account yesterday i appreciate the quick response i would like to inform you that is is currently in process thanks and regards\n",
      "impetrating details for id urgently require details of acc reply asap\n",
      "abrupt closure of transaction with id this is to notify you that my transaction has failed please reply to me with the cause as soon as possible\n",
      "failure of transaction this is to notify you that my transaction has failed please reply to me with the cause as soon as possible\n",
      "sorted out the transaction with id glad to let you know that i got the desired payment in reference to transaction i am very happy with your services and will definitely recommend your company to my friends and acquaintances warm regards\n",
      "transaction no is unresolved hey sincere apologies for transferring a fraction of the amount we agreed on please be assured that the rest is being transferred as of now thanks a lot for understanding\n",
      "partially paid the required amount for transaction hey sincere apologies for transferring a fraction of the amount we agreed on please be assured that the rest is being transferred as of now thanks a lot for understanding\n",
      "impetrating details for id i request you to kindly send the status of my transaction with id thanks and regards\n",
      "accepted payment transaction currently processing acknowledging the received payment for transaction it is finally in process kind regards\n",
      "transaction is now being processed hello this is to inform you that i have received the amount you transferred to my account and now it is currently in process\n",
      "why has my transaction stopped this is to notify you that my transaction has failed please reply to me with the cause as soon as possible\n",
      "impetrating details for id hey i would be really grateful if you could tell me the details of account no thanks\n",
      "received full payment for transaction no greetings i wanted to let you know that i have acknowledged the payment for transaction in response to your email which confirmed the finalized status of my transaction thanks and regards\n",
      "abrupt closure of transaction with id greetings for the day i checked my inbox and found your email stating the failure of my transaction please help me understand why has failed need funds urgently patiently waiting for you reply thanks a lot\n",
      "upgrade to an account with more benefits i need a new cheque book of leaves kindly send the same to my current address which is present in the details of my account\n",
      "concluded the transaction to whom it may concern i have successfully received payment for the transaction i am grateful for your cooperation thank you so much and regards\n",
      "remaining amount for transaction to be paid later hey sincere apologies for transferring a fraction of the amount we agreed on please be assured that the rest is being transferred as of now thanks a lot for understanding\n",
      "sorted out the transaction with id hey i am writing in reference to the transaction i was granted the aforementioned amount within the deadline sincere gratitude for such a quick response kind regards\n",
      "processing transaction having id thank you for transferring the payment to my account yesterday i appreciate the quick response i would like to inform you that is is currently in process thanks and regards\n",
      "processing transaction having id thank you for transferring the payment to my account yesterday i appreciate the quick response i would like to inform you that is is currently in process thanks and regards\n",
      "handling the transaction after payment sincere greetings i am glad to tell you that i have finally been granted the pre approved amount through transaction it is now being processed i am grateful for your support warm regards\n",
      "handling the transaction after payment thank you for transferring the payment to my account yesterday i appreciate the quick response i would like to inform you that is is currently in process thanks and regards\n",
      "impetrating details for id kindly reply to me at the earliest with the last transactions made with the account no thanks in advance\n",
      "payment outstanding for transaction there has been only a partial payment of amount gbp assuring you that the rest will be paid later warm regards\n",
      "transaction is complete glad to let you know that i got the desired payment in reference to transaction i am very happy with your services and will definitely recommend your company to my friends and acquaintances warm regards\n",
      "partially paid the required amount for transaction hey sincere apologies for transferring a fraction of the amount we agreed on please be assured that the rest is being transferred as of now thanks a lot for understanding\n",
      "handling the transaction after payment hello this is to inform you that i have received the amount you transferred to my account and now it is currently in process\n",
      "payment done and transaction settled hey i am writing in reference to the transaction i was granted the aforementioned amount within the deadline sincere gratitude for such a quick response kind regards\n",
      "transaction stalled and payment not received hey i see my transaction with id has failed i think i did everything right please look into this and reply with the reason urgently thank you and regards\n",
      "concluded the transaction glad to let you know that i got the desired payment in reference to transaction i am very happy with your services and will definitely recommend your company to my friends and acquaintances warm regards\n",
      "remaining amount for transaction to be paid later there has been only a partial payment of amount inr assuring you that the rest will be paid later warm regards\n",
      "sorted out the transaction with id glad to let you know that i got the desired payment in reference to transaction i am very happy with your services and will definitely recommend your company to my friends and acquaintances warm regards\n",
      "remaining amount for transaction to be paid later the transaction is taking too long to complete i would request you to kindly guide me through the further steps to be taken in order to complete the transaction\n",
      "pending payment for transaction having id since my transaction is still pending i wanted to know if there is a problem with the paperwork from my side please let me know at the earliest thanks and regards\n",
      "completed transaction no hello sincere greetings for the day i would like to inform you that my transaction has completed thank you so much for your support looking forward to working more with you in the future regards\n",
      "urgently required update on transaction can you please tell me the amount transferred through transaction id thanks\n",
      "seeking update on the status of transaction please provide a status update on at the earliest\n",
      "seeking update on the status of transaction kindly reply to me at the earliest with the last transactions made with the account no thanks in advance\n",
      "dealing with the transaction acknowledging the received payment for transaction it is finally in process kind regards\n",
      "fulfilled transaction having id glad to let you know that i got the desired payment in reference to transaction i am very happy with your services and will definitely recommend your company to my friends and acquaintances warm regards\n",
      "urgent transaction ceased greetings for the day i checked my inbox and found your email stating the failure of my transaction please help me understand why has failed need funds urgently patiently waiting for you reply thanks a lot\n",
      "urgently required update on transaction i need details of urgently please provide the same on priority basis\n",
      "accepted payment transaction currently processing thank you for transferring the payment to my account yesterday i appreciate the quick response i would like to inform you that is is currently in process thanks and regards\n",
      "seeking update on the status of transaction kindly reply to me at the earliest with the last transactions made with the account no thanks in advance\n",
      "partially paid the required amount for transaction hello greetings for the day status of transaction inr for account is pending i would be grateful if you could tell me the cause thanks a lot\n",
      "why has my transaction stopped this is in response to your email stating that my transaction having id has failed but no reason was mentioned can you please tell me what did i do wrong so that i can create a new one without any errors waiting for your reply thank you in advance\n",
      "required money acquired transaction is in process hello this is to inform you that i have received the amount you transferred to my account and now it is currently in process\n",
      "completed transaction no i deeply appreciate your quick service as i have received the pre approved loan amount of inr\n",
      "transaction stalled and payment not received greetings for the day i checked my inbox and found your email stating the failure of my transaction please help me understand why has failed need funds urgently patiently waiting for you reply thanks a lot\n",
      "required money acquired transaction is in process hello this is to inform you that i have received the amount you transferred to my account and now it is currently in process\n",
      "change address for account no this is to inform you that i am not able to withdraw money from my account please help\n",
      "completed transaction no i deeply appreciate your quick service as i have received the pre approved loan amount of usd\n",
      "payment is pending for transaction since my transaction is still pending i wanted to know if there is a problem with the paperwork from my side please let me know at the earliest thanks and regards\n",
      "urgent transaction ceased this is to notify you that my transaction has failed please reply to me with the cause as soon as possible\n",
      "how to change pin no of atm card i need a new cheque book of leaves kindly send the same to my current address which is present in the details of my account\n",
      "sorted out the transaction with id i deeply appreciate your quick service as i have received the pre approved loan amount of inr\n",
      "processing transaction having id sincere greetings i am glad to tell you that i have finally been granted the pre approved amount through transaction it is now being processed i am grateful for your support warm regards\n",
      "payment is pending for transaction since my transaction is still pending i wanted to know if there is a problem with the paperwork from my side please let me know at the earliest thanks and regards\n",
      "incomplete transaction hey sincere apologies for transferring a fraction of the amount we agreed on please be assured that the rest is being transferred as of now thanks a lot for understanding\n",
      "received full payment for transaction no i deeply appreciate your quick service as i have received the pre approved loan amount of inr\n",
      "transaction is complete greetings i wanted to let you know that i have acknowledged the payment for transaction in response to your email which confirmed the finalized status of my transaction thanks and regards\n",
      "required money acquired transaction is in process acknowledging the received payment for transaction it is finally in process kind regards\n",
      "want to block account i have heard a lot about your bank and would like to open an account with citibank for that i would like to know all the documents that are required kindly reply with the same and also the further steps to be taken eagerly waiting for your reply\n",
      "transaction having id has stopped help greetings for the day i checked my inbox and found your email stating the failure of my transaction please help me understand why has failed need funds urgently patiently waiting for you reply thanks a lot\n",
      "change address for account no this is to inform you that i am not able to withdraw money from my account please help\n",
      "why has my transaction stopped hey i see my transaction with id has failed i think i did everything right please look into this and reply with the reason urgently thank you and regards\n",
      "how to change pin no of atm card kindly add the contact no to my bank account\n",
      "request to send details of transaction urgently require details of acc reply asap\n",
      "transaction no is unresolved the transaction is taking too long to complete i would request you to kindly guide me through the further steps to be taken in order to complete the transaction\n",
      "seeking update on the status of transaction please provide a status update on at the earliest\n",
      "failure of transaction i have been your regular client and have followed the procedure for creating a transaction correctly still i received an email saying that the transaction has failed i would like to know the reasoning my transaction id is regards\n",
      "processing transaction having id hello this is to inform you that i have received the amount you transferred to my account and now it is currently in process\n",
      "seeking update on the status of transaction urgently require details of acc reply asap\n",
      "failure of transaction hey i see my transaction with id has failed i think i did everything right please look into this and reply with the reason urgently thank you and regards\n",
      "processing transaction having id acknowledging the received payment for transaction it is finally in process kind regards\n",
      "how to change pin no of atm card hey i think i lost my atm card today so can you please block my account or tell me a way to change my pin no i urgently need your reply thanks in advance\n",
      "processing transaction having id this is in response to your email notifying about the transferred amount i am acknowledging it and informing you that it is now in process\n",
      "handling the transaction after payment this is in response to your email notifying about the transferred amount i am acknowledging it and informing you that it is now in process\n",
      "received full payment for transaction no hello sincere greetings for the day i would like to inform you that my transaction has completed thank you so much for your support looking forward to working more with you in the future regards\n",
      "completed transaction no hello sincere greetings for the day i would like to inform you that my transaction has completed thank you so much for your support looking forward to working more with you in the future regards\n",
      "transaction is now being processed hello this is to inform you that i have received the amount you transferred to my account and now it is currently in process\n",
      "partial payment for transaction hey sincere apologies for transferring a fraction of the amount we agreed on please be assured that the rest is being transferred as of now thanks a lot for understanding\n",
      "urgently required update on transaction i need details of urgently please provide the same on priority basis\n",
      "why has my transaction stopped greetings for the day i checked my inbox and found your email stating the failure of my transaction please help me understand why has failed need funds urgently patiently waiting for you reply thanks a lot\n",
      "urgent transaction ceased this is to notify you that my transaction has failed please reply to me with the cause as soon as possible\n",
      "transaction is complete i deeply appreciate your quick service as i have received the pre approved loan amount of eur\n",
      "the pending amount for transaction will reach you soon hello greetings for the day status of transaction gbp for account is pending i would be grateful if you could tell me the cause thanks a lot\n",
      "payment outstanding for transaction hey sincere apologies for transferring a fraction of the amount we agreed on please be assured that the rest is being transferred as of now thanks a lot for understanding\n",
      "required money acquired transaction is in process this is in response to your email notifying about the transferred amount i am acknowledging it and informing you that it is now in process\n",
      "required money acquired transaction is in process sincere greetings i am glad to tell you that i have finally been granted the pre approved amount through transaction it is now being processed i am grateful for your support warm regards\n",
      "imploring update on transaction i need details of urgently please provide the same on priority basis\n",
      "payment received for transaction and now processing sincere greetings i am glad to tell you that i have finally been granted the pre approved amount through transaction it is now being processed i am grateful for your support warm regards\n",
      "transaction is now being processed thank you for transferring the payment to my account yesterday i appreciate the quick response i would like to inform you that is is currently in process thanks and regards\n",
      "failure of transaction this is in response to your email stating that my transaction having id has failed but no reason was mentioned can you please tell me what did i do wrong so that i can create a new one without any errors waiting for your reply thank you in advance\n",
      "payment done and transaction settled hey i am writing in reference to the transaction i was granted the aforementioned amount within the deadline sincere gratitude for such a quick response kind regards\n",
      "request to send details of transaction i need details of urgently please provide the same on priority basis\n",
      "the pending amount for transaction will reach you soon the transaction is taking too long to complete i would request you to kindly guide me through the further steps to be taken in order to complete the transaction\n",
      "urgently required update on transaction i request you to kindly send the status of my transaction with id thanks and regards\n",
      "urgent transaction ceased hey i see my transaction with id has failed i think i did everything right please look into this and reply with the reason urgently thank you and regards\n",
      "request to send details of transaction hey i would be really grateful if you could tell me the details of account no thanks\n",
      "transaction has failed i have been your regular client and have followed the procedure for creating a transaction correctly still i received an email saying that the transaction has failed i would like to know the reasoning my transaction id is regards\n",
      "partially paid the required amount for transaction since my transaction is still pending i wanted to know if there is a problem with the paperwork from my side please let me know at the earliest thanks and regards\n",
      "fulfilled transaction having id hello sincere greetings for the day i would like to inform you that my transaction has completed thank you so much for your support looking forward to working more with you in the future regards\n",
      "transaction is now being processed sincere greetings i am glad to tell you that i have finally been granted the pre approved amount through transaction it is now being processed i am grateful for your support warm regards\n",
      "transaction stalled and payment not received hey i see my transaction with id has failed i think i did everything right please look into this and reply with the reason urgently thank you and regards\n",
      "transaction having id has stopped help this is to notify you that my transaction has failed please reply to me with the cause as soon as possible\n",
      "the pending amount for transaction will reach you soon hello greetings for the day status of transaction usd for account is pending i would be grateful if you could tell me the cause thanks a lot\n",
      "failure of transaction this is to notify you that my transaction has failed please reply to me with the cause as soon as possible\n",
      "change address for account no i need a new cheque book of leaves kindly send the same to my current address which is present in the details of my account\n",
      "transaction having id has stopped help this is in response to your email stating that my transaction having id has failed but no reason was mentioned can you please tell me what did i do wrong so that i can create a new one without any errors waiting for your reply thank you in advance\n",
      "transaction is complete i deeply appreciate your quick service as i have received the pre approved loan amount of gbp\n",
      "transaction stalled and payment not received this is to notify you that my transaction has failed please reply to me with the cause as soon as possible\n",
      "pending payment for transaction having id hey sincere apologies for transferring a fraction of the amount we agreed on please be assured that the rest is being transferred as of now thanks a lot for understanding\n",
      "imploring update on transaction kindly reply to me at the earliest with the last transactions made with the account no thanks in advance\n",
      "sorted out the transaction with id hey i am writing in reference to the transaction i was granted the aforementioned amount within the deadline sincere gratitude for such a quick response kind regards\n",
      "concluded the transaction to whom it may concern i have successfully received payment for the transaction i am grateful for your cooperation thank you so much and regards\n",
      "accepted payment transaction currently processing acknowledging the received payment for transaction it is finally in process kind regards\n",
      "request to send details of transaction i request you to kindly send the status of my transaction with id thanks and regards\n",
      "accepted payment transaction currently processing thank you for transferring the payment to my account yesterday i appreciate the quick response i would like to inform you that is is currently in process thanks and regards\n",
      "payment outstanding for transaction i regret to inform you the i could only pay the partial amount of inr i will definitely pay the remaining amount as soon as possible thank you for understanding regards\n",
      "add one more contact no to account i need a new cheque book of leaves kindly send the same to my current address which is present in the details of my account\n",
      "failure of transaction hey i see my transaction with id has failed i think i did everything right please look into this and reply with the reason urgently thank you and regards\n",
      "payment done and transaction settled greetings i wanted to let you know that i have acknowledged the payment for transaction in response to your email which confirmed the finalized status of my transaction thanks and regards\n",
      "transaction having id has stopped help i have been your regular client and have followed the procedure for creating a transaction correctly still i received an email saying that the transaction has failed i would like to know the reasoning my transaction id is regards\n",
      "urgently required update on transaction kindly reply to me at the earliest with the last transactions made with the account no thanks in advance\n",
      "why cant i withdraw money with my atm card i have heard a lot about your bank and would like to open an account with citibank for that i would like to know all the documents that are required kindly reply with the same and also the further steps to be taken eagerly waiting for your reply\n",
      "failure of transaction this is to notify you that my transaction has failed please reply to me with the cause as soon as possible\n",
      "failure of transaction hey i see my transaction with id has failed i think i did everything right please look into this and reply with the reason urgently thank you and regards\n",
      "new cheque book i need a new cheque book of leaves kindly send the same to my current address which is present in the details of my account\n",
      "transaction no is unresolved hey sincere apologies for transferring a fraction of the amount we agreed on please be assured that the rest is being transferred as of now thanks a lot for understanding\n",
      "transaction stalled and payment not received this is to notify you that my transaction has failed please reply to me with the cause as soon as possible\n",
      "incomplete transaction the transaction is taking too long to complete i would request you to kindly guide me through the further steps to be taken in order to complete the transaction\n",
      "processing transaction having id acknowledging the received payment for transaction it is finally in process kind regards\n",
      "seeking update on the status of transaction please provide a status update on at the earliest\n",
      "imploring update on transaction i need details of urgently please provide the same on priority basis\n",
      "concluded the transaction greetings i wanted to let you know that i have acknowledged the payment for transaction in response to your email which confirmed the finalized status of my transaction thanks and regards\n",
      "transaction no is unresolved there has been only a partial payment of amount eur assuring you that the rest will be paid later warm regards\n",
      "payment outstanding for transaction the transaction is taking too long to complete i would request you to kindly guide me through the further steps to be taken in order to complete the transaction\n",
      "accepted payment transaction currently processing hello this is to inform you that i have received the amount you transferred to my account and now it is currently in process\n",
      "payment is pending for transaction hey sincere apologies for transferring a fraction of the amount we agreed on please be assured that the rest is being transferred as of now thanks a lot for understanding\n",
      "abrupt closure of transaction with id i have been your regular client and have followed the procedure for creating a transaction correctly still i received an email saying that the transaction has failed i would like to know the reasoning my transaction id is regards\n",
      "change address for account no this is to inform you that i am not able to withdraw money from my account please help\n",
      "transaction has failed this is to notify you that my transaction has failed please reply to me with the cause as soon as possible\n",
      "pending payment for transaction having id hey sincere apologies for transferring a fraction of the amount we agreed on please be assured that the rest is being transferred as of now thanks a lot for understanding\n",
      "pending payment for transaction having id the transaction is taking too long to complete i would request you to kindly guide me through the further steps to be taken in order to complete the transaction\n",
      "how to change pin no of atm card kindly add the contact no to my bank account\n",
      "imploring update on transaction i need details of urgently please provide the same on priority basis\n",
      "transaction is complete i deeply appreciate your quick service as i have received the pre approved loan amount of inr\n",
      "transaction is now being processed thank you for transferring the payment to my account yesterday i appreciate the quick response i would like to inform you that is is currently in process thanks and regards\n",
      "dealing with the transaction hello this is to inform you that i have received the amount you transferred to my account and now it is currently in process\n",
      "processing transaction having id sincere greetings i am glad to tell you that i have finally been granted the pre approved amount through transaction it is now being processed i am grateful for your support warm regards\n",
      "soliciting information for id kindly reply to me at the earliest with the last transactions made with the account no thanks in advance\n",
      "payment done and transaction settled to whom it may concern i have successfully received payment for the transaction i am grateful for your cooperation thank you so much and regards\n",
      "fulfilled transaction having id hey i am writing in reference to the transaction i was granted the aforementioned amount within the deadline sincere gratitude for such a quick response kind regards\n",
      "transaction is complete hello sincere greetings for the day i would like to inform you that my transaction has completed thank you so much for your support looking forward to working more with you in the future regards\n",
      "imploring update on transaction please provide a status update on at the earliest\n",
      "payment received for transaction and now processing this is in response to your email notifying about the transferred amount i am acknowledging it and informing you that it is now in process\n",
      "imploring update on transaction kindly reply to me at the earliest with the last transactions made with the account no thanks in advance\n",
      "new cheque book kindly add the contact no to my bank account\n",
      "completed transaction no glad to let you know that i got the desired payment in reference to transaction i am very happy with your services and will definitely recommend your company to my friends and acquaintances warm regards\n",
      "required money acquired transaction is in process sincere greetings i am glad to tell you that i have finally been granted the pre approved amount through transaction it is now being processed i am grateful for your support warm regards\n",
      "send steps to activate online banking this is to inform you that i am not able to withdraw money from my account please help\n",
      "remaining amount for transaction to be paid later since my transaction is still pending i wanted to know if there is a problem with the paperwork from my side please let me know at the earliest thanks and regards\n",
      "soliciting information for id hey i would be really grateful if you could tell me the details of account no thanks\n",
      "concluded the transaction hey i am writing in reference to the transaction i was granted the aforementioned amount within the deadline sincere gratitude for such a quick response kind regards\n",
      "finalized transaction of id hey i am writing in reference to the transaction i was granted the aforementioned amount within the deadline sincere gratitude for such a quick response kind regards\n",
      "remaining amount for transaction to be paid later i regret to inform you the i could only pay the partial amount of inr i will definitely pay the remaining amount as soon as possible thank you for understanding regards\n",
      "abrupt closure of transaction with id this is in response to your email stating that my transaction having id has failed but no reason was mentioned can you please tell me what did i do wrong so that i can create a new one without any errors waiting for your reply thank you in advance\n",
      "why has my transaction stopped this is in response to your email stating that my transaction having id has failed but no reason was mentioned can you please tell me what did i do wrong so that i can create a new one without any errors waiting for your reply thank you in advance\n",
      "failure of transaction greetings for the day i checked my inbox and found your email stating the failure of my transaction please help me understand why has failed need funds urgently patiently waiting for you reply thanks a lot\n",
      "urgent transaction ceased this is in response to your email stating that my transaction having id has failed but no reason was mentioned can you please tell me what did i do wrong so that i can create a new one without any errors waiting for your reply thank you in advance\n",
      "change address for account no kindly add the contact no to my bank account\n",
      "fulfilled transaction having id to whom it may concern i have successfully received payment for the transaction i am grateful for your cooperation thank you so much and regards\n",
      "payment done and transaction settled hey i am writing in reference to the transaction i was granted the aforementioned amount within the deadline sincere gratitude for such a quick response kind regards\n",
      "add one more contact no to account kindly add the contact no to my bank account\n",
      "urgently required update on transaction kindly reply to me at the earliest with the last transactions made with the account no thanks in advance\n",
      "payment is pending for transaction i regret to inform you the i could only pay the partial amount of gbp i will definitely pay the remaining amount as soon as possible thank you for understanding regards\n",
      "payment received for transaction and now processing hello this is to inform you that i have received the amount you transferred to my account and now it is currently in process\n",
      "fulfilled transaction having id greetings i wanted to let you know that i have acknowledged the payment for transaction in response to your email which confirmed the finalized status of my transaction thanks and regards\n",
      "seeking update on the status of transaction can you please tell me the amount transferred through transaction id thanks\n",
      "payment outstanding for transaction hey sincere apologies for transferring a fraction of the amount we agreed on please be assured that the rest is being transferred as of now thanks a lot for understanding\n",
      "received full payment for transaction no hey i am writing in reference to the transaction i was granted the aforementioned amount within the deadline sincere gratitude for such a quick response kind regards\n",
      "request to send details of transaction kindly reply to me at the earliest with the last transactions made with the account no thanks in advance\n",
      "finalized transaction of id hey i am writing in reference to the transaction i was granted the aforementioned amount within the deadline sincere gratitude for such a quick response kind regards\n",
      "urgently required update on transaction kindly reply to me at the earliest with the last transactions made with the account no thanks in advance\n",
      "soliciting information for id please provide a status update on at the earliest\n",
      "partial payment for transaction the transaction is taking too long to complete i would request you to kindly guide me through the further steps to be taken in order to complete the transaction\n",
      "sorted out the transaction with id greetings i wanted to let you know that i have acknowledged the payment for transaction in response to your email which confirmed the finalized status of my transaction thanks and regards\n",
      "failure of transaction this is to notify you that my transaction has failed please reply to me with the cause as soon as possible\n",
      "request to send details of transaction i need details of urgently please provide the same on priority basis\n",
      "transaction is complete to whom it may concern i have successfully received payment for the transaction i am grateful for your cooperation thank you so much and regards\n",
      "abrupt closure of transaction with id i have been your regular client and have followed the procedure for creating a transaction correctly still i received an email saying that the transaction has failed i would like to know the reasoning my transaction id is regards\n",
      "transaction is now being processed sincere greetings i am glad to tell you that i have finally been granted the pre approved amount through transaction it is now being processed i am grateful for your support warm regards\n",
      "transaction stalled and payment not received hey i see my transaction with id has failed i think i did everything right please look into this and reply with the reason urgently thank you and regards\n",
      "payment outstanding for transaction hey sincere apologies for transferring a fraction of the amount we agreed on please be assured that the rest is being transferred as of now thanks a lot for understanding\n",
      "payment is pending for transaction hello greetings for the day status of transaction eur for account is pending i would be grateful if you could tell me the cause thanks a lot\n",
      "concluded the transaction to whom it may concern i have successfully received payment for the transaction i am grateful for your cooperation thank you so much and regards\n",
      "transaction stalled and payment not received i have been your regular client and have followed the procedure for creating a transaction correctly still i received an email saying that the transaction has failed i would like to know the reasoning my transaction id is regards\n",
      "received full payment for transaction no i deeply appreciate your quick service as i have received the pre approved loan amount of usd\n",
      "imploring update on transaction kindly reply to me at the earliest with the last transactions made with the account no thanks in advance\n",
      "transaction stalled and payment not received this is to notify you that my transaction has failed please reply to me with the cause as soon as possible\n",
      "fulfilled transaction having id greetings i wanted to let you know that i have acknowledged the payment for transaction in response to your email which confirmed the finalized status of my transaction thanks and regards\n",
      "why cant i withdraw money with my atm card this is to inform you that i am not able to withdraw money from my account please help\n",
      "required money acquired transaction is in process sincere greetings i am glad to tell you that i have finally been granted the pre approved amount through transaction it is now being processed i am grateful for your support warm regards\n",
      "transaction has failed greetings for the day i checked my inbox and found your email stating the failure of my transaction please help me understand why has failed need funds urgently patiently waiting for you reply thanks a lot\n",
      "want to block account kindly add the contact no to my bank account\n",
      "sorted out the transaction with id to whom it may concern i have successfully received payment for the transaction i am grateful for your cooperation thank you so much and regards\n",
      "dealing with the transaction this is in response to your email notifying about the transferred amount i am acknowledging it and informing you that it is now in process\n",
      "urgently required update on transaction urgently require details of acc reply asap\n",
      "payment done and transaction settled hey i am writing in reference to the transaction i was granted the aforementioned amount within the deadline sincere gratitude for such a quick response kind regards\n",
      "the pending amount for transaction will reach you soon hello greetings for the day status of transaction usd for account is pending i would be grateful if you could tell me the cause thanks a lot\n",
      "payment outstanding for transaction i regret to inform you the i could only pay the partial amount of inr i will definitely pay the remaining amount as soon as possible thank you for understanding regards\n",
      "accepted payment transaction currently processing acknowledging the received payment for transaction it is finally in process kind regards\n",
      "payment received for transaction and now processing sincere greetings i am glad to tell you that i have finally been granted the pre approved amount through transaction it is now being processed i am grateful for your support warm regards\n",
      "transaction is complete greetings i wanted to let you know that i have acknowledged the payment for transaction in response to your email which confirmed the finalized status of my transaction thanks and regards\n",
      "transaction is now being processed acknowledging the received payment for transaction it is finally in process kind regards\n",
      "abrupt closure of transaction with id i have been your regular client and have followed the procedure for creating a transaction correctly still i received an email saying that the transaction has failed i would like to know the reasoning my transaction id is regards\n",
      "payment done and transaction settled to whom it may concern i have successfully received payment for the transaction i am grateful for your cooperation thank you so much and regards\n",
      "fulfilled transaction having id glad to let you know that i got the desired payment in reference to transaction i am very happy with your services and will definitely recommend your company to my friends and acquaintances warm regards\n",
      "received full payment for transaction no hello sincere greetings for the day i would like to inform you that my transaction has completed thank you so much for your support looking forward to working more with you in the future regards\n",
      "transaction stalled and payment not received this is in response to your email stating that my transaction having id has failed but no reason was mentioned can you please tell me what did i do wrong so that i can create a new one without any errors waiting for your reply thank you in advance\n",
      "asking for the details for transaction can you please tell me the amount transferred through transaction id thanks\n",
      "abrupt closure of transaction with id this is to notify you that my transaction has failed please reply to me with the cause as soon as possible\n",
      "payment is pending for transaction the transaction is taking too long to complete i would request you to kindly guide me through the further steps to be taken in order to complete the transaction\n",
      "fulfilled transaction having id hello sincere greetings for the day i would like to inform you that my transaction has completed thank you so much for your support looking forward to working more with you in the future regards\n",
      "asking for the details for transaction please provide a status update on at the earliest\n",
      "request to send details of transaction kindly reply to me at the earliest with the last transactions made with the account no thanks in advance\n",
      "new cheque book kindly add the contact no to my bank account\n",
      "pending payment for transaction having id i regret to inform you the i could only pay the partial amount of gbp i will definitely pay the remaining amount as soon as possible thank you for understanding regards\n",
      "handling the transaction after payment acknowledging the received payment for transaction it is finally in process kind regards\n",
      "transaction stalled and payment not received greetings for the day i checked my inbox and found your email stating the failure of my transaction please help me understand why has failed need funds urgently patiently waiting for you reply thanks a lot\n",
      "sorted out the transaction with id hello sincere greetings for the day i would like to inform you that my transaction has completed thank you so much for your support looking forward to working more with you in the future regards\n",
      "received full payment for transaction no i deeply appreciate your quick service as i have received the pre approved loan amount of inr\n",
      "impetrating details for id please provide a status update on at the earliest\n",
      "request to send details of transaction hey i would be really grateful if you could tell me the details of account no thanks\n",
      "dealing with the transaction sincere greetings i am glad to tell you that i have finally been granted the pre approved amount through transaction it is now being processed i am grateful for your support warm regards\n",
      "change address for account no hey can you please send me the detailed steps that i ought to follow to create a new bank account\n",
      "urgently required update on transaction hey i would be really grateful if you could tell me the details of account no thanks\n",
      "seeking update on the status of transaction please provide a status update on at the earliest\n",
      "transaction is now being processed this is in response to your email notifying about the transferred amount i am acknowledging it and informing you that it is now in process\n",
      "upgrade to an account with more benefits i need a new cheque book of leaves kindly send the same to my current address which is present in the details of my account\n",
      "transaction having id has stopped help this is to notify you that my transaction has failed please reply to me with the cause as soon as possible\n",
      "remaining amount for transaction to be paid later hey sincere apologies for transferring a fraction of the amount we agreed on please be assured that the rest is being transferred as of now thanks a lot for understanding\n",
      "required money acquired transaction is in process this is in response to your email notifying about the transferred amount i am acknowledging it and informing you that it is now in process\n",
      "dealing with the transaction this is in response to your email notifying about the transferred amount i am acknowledging it and informing you that it is now in process\n",
      "transaction stalled and payment not received this is in response to your email stating that my transaction having id has failed but no reason was mentioned can you please tell me what did i do wrong so that i can create a new one without any errors waiting for your reply thank you in advance\n",
      "why cant i withdraw money with my atm card i need a new cheque book of leaves kindly send the same to my current address which is present in the details of my account\n",
      "asking for the details for transaction i request you to kindly send the status of my transaction with id thanks and regards\n",
      "transaction is complete hello sincere greetings for the day i would like to inform you that my transaction has completed thank you so much for your support looking forward to working more with you in the future regards\n",
      "finalized transaction of id glad to let you know that i got the desired payment in reference to transaction i am very happy with your services and will definitely recommend your company to my friends and acquaintances warm regards\n",
      "soliciting information for id i request you to kindly send the status of my transaction with id thanks and regards\n",
      "payment outstanding for transaction i regret to inform you the i could only pay the partial amount of inr i will definitely pay the remaining amount as soon as possible thank you for understanding regards\n",
      "transaction having id has stopped help this is in response to your email stating that my transaction having id has failed but no reason was mentioned can you please tell me what did i do wrong so that i can create a new one without any errors waiting for your reply thank you in advance\n",
      "handling the transaction after payment thank you for transferring the payment to my account yesterday i appreciate the quick response i would like to inform you that is is currently in process thanks and regards\n",
      "request to send details of transaction i request you to kindly send the status of my transaction with id thanks and regards\n",
      "received full payment for transaction no greetings i wanted to let you know that i have acknowledged the payment for transaction in response to your email which confirmed the finalized status of my transaction thanks and regards\n",
      "transaction is complete greetings i wanted to let you know that i have acknowledged the payment for transaction in response to your email which confirmed the finalized status of my transaction thanks and regards\n",
      "imploring update on transaction i request you to kindly send the status of my transaction with id thanks and regards\n",
      "payment outstanding for transaction the transaction is taking too long to complete i would request you to kindly guide me through the further steps to be taken in order to complete the transaction\n",
      "upgrade to an account with more benefits kindly add the contact no to my bank account\n",
      "payment received for transaction and now processing thank you for transferring the payment to my account yesterday i appreciate the quick response i would like to inform you that is is currently in process thanks and regards\n",
      "request to send details of transaction i need details of urgently please provide the same on priority basis\n",
      "transaction no is unresolved i regret to inform you the i could only pay the partial amount of inr i will definitely pay the remaining amount as soon as possible thank you for understanding regards\n",
      "finalized transaction of id greetings i wanted to let you know that i have acknowledged the payment for transaction in response to your email which confirmed the finalized status of my transaction thanks and regards\n",
      "processing transaction having id thank you for transferring the payment to my account yesterday i appreciate the quick response i would like to inform you that is is currently in process thanks and regards\n",
      "failure of transaction greetings for the day i checked my inbox and found your email stating the failure of my transaction please help me understand why has failed need funds urgently patiently waiting for you reply thanks a lot\n",
      "transaction no is unresolved there has been only a partial payment of amount gbp assuring you that the rest will be paid later warm regards\n",
      "new cheque book this is to inform you that i am not able to withdraw money from my account please help\n",
      "request to send details of transaction i need details of urgently please provide the same on priority basis\n",
      "asking for the details for transaction can you please tell me the amount transferred through transaction id thanks\n",
      "completed transaction no glad to let you know that i got the desired payment in reference to transaction i am very happy with your services and will definitely recommend your company to my friends and acquaintances warm regards\n",
      "urgently required update on transaction kindly reply to me at the earliest with the last transactions made with the account no thanks in advance\n",
      "request to send details of transaction kindly reply to me at the earliest with the last transactions made with the account no thanks in advance\n",
      "want to block account hey i think i lost my atm card today so can you please block my account or tell me a way to change my pin no i urgently need your reply thanks in advance\n",
      "transaction is complete greetings i wanted to let you know that i have acknowledged the payment for transaction in response to your email which confirmed the finalized status of my transaction thanks and regards\n",
      "payment outstanding for transaction hello greetings for the day status of transaction usd for account is pending i would be grateful if you could tell me the cause thanks a lot\n",
      "transaction stalled and payment not received greetings for the day i checked my inbox and found your email stating the failure of my transaction please help me understand why has failed need funds urgently patiently waiting for you reply thanks a lot\n",
      "the pending amount for transaction will reach you soon since my transaction is still pending i wanted to know if there is a problem with the paperwork from my side please let me know at the earliest thanks and regards\n",
      "why has my transaction stopped i have been your regular client and have followed the procedure for creating a transaction correctly still i received an email saying that the transaction has failed i would like to know the reasoning my transaction id is regards\n",
      "processing transaction having id this is in response to your email notifying about the transferred amount i am acknowledging it and informing you that it is now in process\n",
      "dealing with the transaction hello this is to inform you that i have received the amount you transferred to my account and now it is currently in process\n",
      "abrupt closure of transaction with id this is to notify you that my transaction has failed please reply to me with the cause as soon as possible\n",
      "partially paid the required amount for transaction i regret to inform you the i could only pay the partial amount of inr i will definitely pay the remaining amount as soon as possible thank you for understanding regards\n",
      "change address for account no hey can you please send me the detailed steps that i ought to follow to create a new bank account\n",
      "partially paid the required amount for transaction hey sincere apologies for transferring a fraction of the amount we agreed on please be assured that the rest is being transferred as of now thanks a lot for understanding\n",
      "urgent transaction ceased greetings for the day i checked my inbox and found your email stating the failure of my transaction please help me understand why has failed need funds urgently patiently waiting for you reply thanks a lot\n",
      "incomplete transaction hello greetings for the day status of transaction eur for account is pending i would be grateful if you could tell me the cause thanks a lot\n",
      "urgent transaction ceased i have been your regular client and have followed the procedure for creating a transaction correctly still i received an email saying that the transaction has failed i would like to know the reasoning my transaction id is regards\n",
      "payment received for transaction and now processing thank you for transferring the payment to my account yesterday i appreciate the quick response i would like to inform you that is is currently in process thanks and regards\n",
      "payment received for transaction and now processing thank you for transferring the payment to my account yesterday i appreciate the quick response i would like to inform you that is is currently in process thanks and regards\n",
      "urgently required update on transaction urgently require details of acc reply asap\n",
      "asking for the details for transaction urgently require details of acc reply asap\n",
      "payment is pending for transaction the transaction is taking too long to complete i would request you to kindly guide me through the further steps to be taken in order to complete the transaction\n",
      "transaction is complete to whom it may concern i have successfully received payment for the transaction i am grateful for your cooperation thank you so much and regards\n",
      "fulfilled transaction having id to whom it may concern i have successfully received payment for the transaction i am grateful for your cooperation thank you so much and regards\n",
      "soliciting information for id kindly reply to me at the earliest with the last transactions made with the account no thanks in advance\n",
      "why has my transaction stopped hey i see my transaction with id has failed i think i did everything right please look into this and reply with the reason urgently thank you and regards\n",
      "dealing with the transaction acknowledging the received payment for transaction it is finally in process kind regards\n",
      "transaction no is unresolved hey sincere apologies for transferring a fraction of the amount we agreed on please be assured that the rest is being transferred as of now thanks a lot for understanding\n",
      "soliciting information for id urgently require details of acc reply asap\n",
      "abrupt closure of transaction with id this is to notify you that my transaction has failed please reply to me with the cause as soon as possible\n",
      "processing transaction having id thank you for transferring the payment to my account yesterday i appreciate the quick response i would like to inform you that is is currently in process thanks and regards\n",
      "imploring update on transaction i request you to kindly send the status of my transaction with id thanks and regards\n",
      "incomplete transaction since my transaction is still pending i wanted to know if there is a problem with the paperwork from my side please let me know at the earliest thanks and regards\n",
      "transaction having id has stopped help this is in response to your email stating that my transaction having id has failed but no reason was mentioned can you please tell me what did i do wrong so that i can create a new one without any errors waiting for your reply thank you in advance\n",
      "partial payment for transaction i regret to inform you the i could only pay the partial amount of eur i will definitely pay the remaining amount as soon as possible thank you for understanding regards\n",
      "transaction having id has stopped help hey i see my transaction with id has failed i think i did everything right please look into this and reply with the reason urgently thank you and regards\n",
      "failure of transaction greetings for the day i checked my inbox and found your email stating the failure of my transaction please help me understand why has failed need funds urgently patiently waiting for you reply thanks a lot\n",
      "remaining amount for transaction to be paid later the transaction is taking too long to complete i would request you to kindly guide me through the further steps to be taken in order to complete the transaction\n",
      "how to change pin no of atm card i need a new cheque book of leaves kindly send the same to my current address which is present in the details of my account\n",
      "transaction having id has stopped help this is in response to your email stating that my transaction having id has failed but no reason was mentioned can you please tell me what did i do wrong so that i can create a new one without any errors waiting for your reply thank you in advance\n",
      "seeking update on the status of transaction i need details of urgently please provide the same on priority basis\n",
      "payment outstanding for transaction hey sincere apologies for transferring a fraction of the amount we agreed on please be assured that the rest is being transferred as of now thanks a lot for understanding\n",
      "asking for the details for transaction hey i would be really grateful if you could tell me the details of account no thanks\n",
      "remaining amount for transaction to be paid later hello greetings for the day status of transaction inr for account is pending i would be grateful if you could tell me the cause thanks a lot\n",
      "the pending amount for transaction will reach you soon hello greetings for the day status of transaction eur for account is pending i would be grateful if you could tell me the cause thanks a lot\n",
      "accepted payment transaction currently processing thank you for transferring the payment to my account yesterday i appreciate the quick response i would like to inform you that is is currently in process thanks and regards\n",
      "incomplete transaction the transaction is taking too long to complete i would request you to kindly guide me through the further steps to be taken in order to complete the transaction\n",
      "received full payment for transaction no hello sincere greetings for the day i would like to inform you that my transaction has completed thank you so much for your support looking forward to working more with you in the future regards\n",
      "request to send details of transaction i need details of urgently please provide the same on priority basis\n",
      "want to block account i need a new cheque book of leaves kindly send the same to my current address which is present in the details of my account\n",
      "completed transaction no i deeply appreciate your quick service as i have received the pre approved loan amount of eur\n",
      "failure of transaction i have been your regular client and have followed the procedure for creating a transaction correctly still i received an email saying that the transaction has failed i would like to know the reasoning my transaction id is regards\n",
      "urgently required update on transaction can you please tell me the amount transferred through transaction id thanks\n",
      "handling the transaction after payment thank you for transferring the payment to my account yesterday i appreciate the quick response i would like to inform you that is is currently in process thanks and regards\n",
      "transaction no is unresolved since my transaction is still pending i wanted to know if there is a problem with the paperwork from my side please let me know at the earliest thanks and regards\n",
      "fulfilled transaction having id glad to let you know that i got the desired payment in reference to transaction i am very happy with your services and will definitely recommend your company to my friends and acquaintances warm regards\n",
      "request to send details of transaction hey i would be really grateful if you could tell me the details of account no thanks\n",
      "transaction has failed i have been your regular client and have followed the procedure for creating a transaction correctly still i received an email saying that the transaction has failed i would like to know the reasoning my transaction id is regards\n",
      "payment outstanding for transaction since my transaction is still pending i wanted to know if there is a problem with the paperwork from my side please let me know at the earliest thanks and regards\n",
      "partially paid the required amount for transaction hello greetings for the day status of transaction usd for account is pending i would be grateful if you could tell me the cause thanks a lot\n",
      "the pending amount for transaction will reach you soon i regret to inform you the i could only pay the partial amount of eur i will definitely pay the remaining amount as soon as possible thank you for understanding regards\n",
      "remaining amount for transaction to be paid later hey sincere apologies for transferring a fraction of the amount we agreed on please be assured that the rest is being transferred as of now thanks a lot for understanding\n",
      "upgrade to an account with more benefits i have heard a lot about your bank and would like to open an account with citibank for that i would like to know all the documents that are required kindly reply with the same and also the further steps to be taken eagerly waiting for your reply\n",
      "request to send details of transaction please provide a status update on at the earliest\n",
      "fulfilled transaction having id greetings i wanted to let you know that i have acknowledged the payment for transaction in response to your email which confirmed the finalized status of my transaction thanks and regards\n",
      "urgent transaction ceased greetings for the day i checked my inbox and found your email stating the failure of my transaction please help me understand why has failed need funds urgently patiently waiting for you reply thanks a lot\n",
      "payment is pending for transaction the transaction is taking too long to complete i would request you to kindly guide me through the further steps to be taken in order to complete the transaction\n",
      "transaction no is unresolved i regret to inform you the i could only pay the partial amount of gbp i will definitely pay the remaining amount as soon as possible thank you for understanding regards\n",
      "transaction is complete glad to let you know that i got the desired payment in reference to transaction i am very happy with your services and will definitely recommend your company to my friends and acquaintances warm regards\n",
      "received full payment for transaction no hey i am writing in reference to the transaction i was granted the aforementioned amount within the deadline sincere gratitude for such a quick response kind regards\n",
      "payment received for transaction and now processing this is in response to your email notifying about the transferred amount i am acknowledging it and informing you that it is now in process\n",
      "urgent transaction ceased i have been your regular client and have followed the procedure for creating a transaction correctly still i received an email saying that the transaction has failed i would like to know the reasoning my transaction id is regards\n",
      "incomplete transaction there has been only a partial payment of amount inr assuring you that the rest will be paid later warm regards\n",
      "soliciting information for id hey i would be really grateful if you could tell me the details of account no thanks\n",
      "seeking update on the status of transaction can you please tell me the amount transferred through transaction id thanks\n",
      "received full payment for transaction no hello sincere greetings for the day i would like to inform you that my transaction has completed thank you so much for your support looking forward to working more with you in the future regards\n",
      "concluded the transaction i deeply appreciate your quick service as i have received the pre approved loan amount of gbp\n",
      "soliciting information for id can you please tell me the amount transferred through transaction id thanks\n",
      "want to block account i would like to know the instructions to be followed to install and setup mobile banking please reply to me with the same thanks in advance\n",
      "request to send details of transaction hey i would be really grateful if you could tell me the details of account no thanks\n",
      "why cant i withdraw money with my atm card kindly add the contact no to my bank account\n",
      "finalized transaction of id i deeply appreciate your quick service as i have received the pre approved loan amount of gbp\n",
      "sorted out the transaction with id greetings i wanted to let you know that i have acknowledged the payment for transaction in response to your email which confirmed the finalized status of my transaction thanks and regards\n",
      "asking for the details for transaction please provide a status update on at the earliest\n",
      "abrupt closure of transaction with id this is in response to your email stating that my transaction having id has failed but no reason was mentioned can you please tell me what did i do wrong so that i can create a new one without any errors waiting for your reply thank you in advance\n",
      "handling the transaction after payment this is in response to your email notifying about the transferred amount i am acknowledging it and informing you that it is now in process\n",
      "handling the transaction after payment acknowledging the received payment for transaction it is finally in process kind regards\n",
      "incomplete transaction i regret to inform you the i could only pay the partial amount of eur i will definitely pay the remaining amount as soon as possible thank you for understanding regards\n",
      "transaction is complete hey i am writing in reference to the transaction i was granted the aforementioned amount within the deadline sincere gratitude for such a quick response kind regards\n",
      "urgent transaction ceased this is to notify you that my transaction has failed please reply to me with the cause as soon as possible\n",
      "seeking update on the status of transaction urgently require details of acc reply asap\n",
      "want to block account i would like to know the instructions to be followed to install and setup mobile banking please reply to me with the same thanks in advance\n",
      "upgrade to an account with more benefits i need a new cheque book of leaves kindly send the same to my current address which is present in the details of my account\n",
      "partially paid the required amount for transaction since my transaction is still pending i wanted to know if there is a problem with the paperwork from my side please let me know at the earliest thanks and regards\n",
      "required money acquired transaction is in process hello this is to inform you that i have received the amount you transferred to my account and now it is currently in process\n",
      "seeking update on the status of transaction hey i would be really grateful if you could tell me the details of account no thanks\n",
      "accepted payment transaction currently processing hello this is to inform you that i have received the amount you transferred to my account and now it is currently in process\n",
      "soliciting information for id kindly reply to me at the earliest with the last transactions made with the account no thanks in advance\n",
      "imploring update on transaction hey i would be really grateful if you could tell me the details of account no thanks\n",
      "change address for account no i have heard a lot about your bank and would like to open an account with citibank for that i would like to know all the documents that are required kindly reply with the same and also the further steps to be taken eagerly waiting for your reply\n",
      "payment received for transaction and now processing hello this is to inform you that i have received the amount you transferred to my account and now it is currently in process\n",
      "required money acquired transaction is in process hello this is to inform you that i have received the amount you transferred to my account and now it is currently in process\n",
      "add one more contact no to account i have heard a lot about your bank and would like to open an account with citibank for that i would like to know all the documents that are required kindly reply with the same and also the further steps to be taken eagerly waiting for your reply\n",
      "required money acquired transaction is in process sincere greetings i am glad to tell you that i have finally been granted the pre approved amount through transaction it is now being processed i am grateful for your support warm regards\n",
      "new cheque book i need a new cheque book of leaves kindly send the same to my current address which is present in the details of my account\n",
      "pending payment for transaction having id i regret to inform you the i could only pay the partial amount of gbp i will definitely pay the remaining amount as soon as possible thank you for understanding regards\n",
      "soliciting information for id i request you to kindly send the status of my transaction with id thanks and regards\n",
      "impetrating details for id please provide a status update on at the earliest\n",
      "change address for account no i have heard a lot about your bank and would like to open an account with citibank for that i would like to know all the documents that are required kindly reply with the same and also the further steps to be taken eagerly waiting for your reply\n",
      "required money acquired transaction is in process thank you for transferring the payment to my account yesterday i appreciate the quick response i would like to inform you that is is currently in process thanks and regards\n",
      "transaction no is unresolved the transaction is taking too long to complete i would request you to kindly guide me through the further steps to be taken in order to complete the transaction\n",
      "transaction no is unresolved hey sincere apologies for transferring a fraction of the amount we agreed on please be assured that the rest is being transferred as of now thanks a lot for understanding\n",
      "payment done and transaction settled glad to let you know that i got the desired payment in reference to transaction i am very happy with your services and will definitely recommend your company to my friends and acquaintances warm regards\n",
      "transaction has failed this is in response to your email stating that my transaction having id has failed but no reason was mentioned can you please tell me what did i do wrong so that i can create a new one without any errors waiting for your reply thank you in advance\n",
      "transaction is now being processed this is in response to your email notifying about the transferred amount i am acknowledging it and informing you that it is now in process\n",
      "dealing with the transaction this is in response to your email notifying about the transferred amount i am acknowledging it and informing you that it is now in process\n",
      "processing transaction having id hello this is to inform you that i have received the amount you transferred to my account and now it is currently in process\n",
      "soliciting information for id kindly reply to me at the earliest with the last transactions made with the account no thanks in advance\n",
      "failure of transaction i have been your regular client and have followed the procedure for creating a transaction correctly still i received an email saying that the transaction has failed i would like to know the reasoning my transaction id is regards\n",
      "fulfilled transaction having id to whom it may concern i have successfully received payment for the transaction i am grateful for your cooperation thank you so much and regards\n",
      "change address for account no i would like to know the instructions to be followed to install and setup mobile banking please reply to me with the same thanks in advance\n",
      "handling the transaction after payment sincere greetings i am glad to tell you that i have finally been granted the pre approved amount through transaction it is now being processed i am grateful for your support warm regards\n",
      "partially paid the required amount for transaction the transaction is taking too long to complete i would request you to kindly guide me through the further steps to be taken in order to complete the transaction\n",
      "incomplete transaction the transaction is taking too long to complete i would request you to kindly guide me through the further steps to be taken in order to complete the transaction\n",
      "pending payment for transaction having id hey sincere apologies for transferring a fraction of the amount we agreed on please be assured that the rest is being transferred as of now thanks a lot for understanding\n",
      "why has my transaction stopped this is to notify you that my transaction has failed please reply to me with the cause as soon as possible\n",
      "transaction stalled and payment not received i have been your regular client and have followed the procedure for creating a transaction correctly still i received an email saying that the transaction has failed i would like to know the reasoning my transaction id is regards\n",
      "handling the transaction after payment sincere greetings i am glad to tell you that i have finally been granted the pre approved amount through transaction it is now being processed i am grateful for your support warm regards\n",
      "transaction is complete hey i am writing in reference to the transaction i was granted the aforementioned amount within the deadline sincere gratitude for such a quick response kind regards\n",
      "processing transaction having id sincere greetings i am glad to tell you that i have finally been granted the pre approved amount through transaction it is now being processed i am grateful for your support warm regards\n",
      "partially paid the required amount for transaction i regret to inform you the i could only pay the partial amount of gbp i will definitely pay the remaining amount as soon as possible thank you for understanding regards\n",
      "abrupt closure of transaction with id hey i see my transaction with id has failed i think i did everything right please look into this and reply with the reason urgently thank you and regards\n",
      "want to block account i would like to know the instructions to be followed to install and setup mobile banking please reply to me with the same thanks in advance\n",
      "the pending amount for transaction will reach you soon i regret to inform you the i could only pay the partial amount of eur i will definitely pay the remaining amount as soon as possible thank you for understanding regards\n",
      "sorted out the transaction with id hello sincere greetings for the day i would like to inform you that my transaction has completed thank you so much for your support looking forward to working more with you in the future regards\n",
      "change address for account no i need a new cheque book of leaves kindly send the same to my current address which is present in the details of my account\n",
      "add one more contact no to account this is to inform you that i am not able to withdraw money from my account please help\n",
      "urgent transaction ceased greetings for the day i checked my inbox and found your email stating the failure of my transaction please help me understand why has failed need funds urgently patiently waiting for you reply thanks a lot\n",
      "abrupt closure of transaction with id greetings for the day i checked my inbox and found your email stating the failure of my transaction please help me understand why has failed need funds urgently patiently waiting for you reply thanks a lot\n",
      "change address for account no i have heard a lot about your bank and would like to open an account with citibank for that i would like to know all the documents that are required kindly reply with the same and also the further steps to be taken eagerly waiting for your reply\n",
      "transaction has failed this is in response to your email stating that my transaction having id has failed but no reason was mentioned can you please tell me what did i do wrong so that i can create a new one without any errors waiting for your reply thank you in advance\n",
      "add one more contact no to account this is to inform you that i am not able to withdraw money from my account please help\n",
      "seeking update on the status of transaction kindly reply to me at the earliest with the last transactions made with the account no thanks in advance\n",
      "payment received for transaction and now processing thank you for transferring the payment to my account yesterday i appreciate the quick response i would like to inform you that is is currently in process thanks and regards\n",
      "sorted out the transaction with id greetings i wanted to let you know that i have acknowledged the payment for transaction in response to your email which confirmed the finalized status of my transaction thanks and regards\n",
      "transaction is complete to whom it may concern i have successfully received payment for the transaction i am grateful for your cooperation thank you so much and regards\n",
      "dealing with the transaction sincere greetings i am glad to tell you that i have finally been granted the pre approved amount through transaction it is now being processed i am grateful for your support warm regards\n",
      "imploring update on transaction urgently require details of acc reply asap\n",
      "failure of transaction greetings for the day i checked my inbox and found your email stating the failure of my transaction please help me understand why has failed need funds urgently patiently waiting for you reply thanks a lot\n",
      "seeking update on the status of transaction please provide a status update on at the earliest\n",
      "add one more contact no to account i have heard a lot about your bank and would like to open an account with citibank for that i would like to know all the documents that are required kindly reply with the same and also the further steps to be taken eagerly waiting for your reply\n",
      "payment is pending for transaction the transaction is taking too long to complete i would request you to kindly guide me through the further steps to be taken in order to complete the transaction\n",
      "add one more contact no to account i would like to know the instructions to be followed to install and setup mobile banking please reply to me with the same thanks in advance\n",
      "dealing with the transaction thank you for transferring the payment to my account yesterday i appreciate the quick response i would like to inform you that is is currently in process thanks and regards\n",
      "incomplete transaction the transaction is taking too long to complete i would request you to kindly guide me through the further steps to be taken in order to complete the transaction\n",
      "remaining amount for transaction to be paid later the transaction is taking too long to complete i would request you to kindly guide me through the further steps to be taken in order to complete the transaction\n",
      "transaction no is unresolved hello greetings for the day status of transaction inr for account is pending i would be grateful if you could tell me the cause thanks a lot\n",
      "fulfilled transaction having id glad to let you know that i got the desired payment in reference to transaction i am very happy with your services and will definitely recommend your company to my friends and acquaintances warm regards\n",
      "fulfilled transaction having id greetings i wanted to let you know that i have acknowledged the payment for transaction in response to your email which confirmed the finalized status of my transaction thanks and regards\n",
      "transaction no is unresolved the transaction is taking too long to complete i would request you to kindly guide me through the further steps to be taken in order to complete the transaction\n",
      "payment done and transaction settled glad to let you know that i got the desired payment in reference to transaction i am very happy with your services and will definitely recommend your company to my friends and acquaintances warm regards\n",
      "incomplete transaction the transaction is taking too long to complete i would request you to kindly guide me through the further steps to be taken in order to complete the transaction\n",
      "sorted out the transaction with id greetings i wanted to let you know that i have acknowledged the payment for transaction in response to your email which confirmed the finalized status of my transaction thanks and regards\n",
      "dealing with the transaction sincere greetings i am glad to tell you that i have finally been granted the pre approved amount through transaction it is now being processed i am grateful for your support warm regards\n",
      "partial payment for transaction there has been only a partial payment of amount usd assuring you that the rest will be paid later warm regards\n",
      "new cheque book kindly add the contact no to my bank account\n",
      "failure of transaction i have been your regular client and have followed the procedure for creating a transaction correctly still i received an email saying that the transaction has failed i would like to know the reasoning my transaction id is regards\n",
      "upgrade to an account with more benefits kindly add the contact no to my bank account\n",
      "failure of transaction this is to notify you that my transaction has failed please reply to me with the cause as soon as possible\n",
      "transaction has failed greetings for the day i checked my inbox and found your email stating the failure of my transaction please help me understand why has failed need funds urgently patiently waiting for you reply thanks a lot\n",
      "impetrating details for id please provide a status update on at the earliest\n",
      "asking for the details for transaction can you please tell me the amount transferred through transaction id thanks\n",
      "handling the transaction after payment thank you for transferring the payment to my account yesterday i appreciate the quick response i would like to inform you that is is currently in process thanks and regards\n",
      "abrupt closure of transaction with id this is in response to your email stating that my transaction having id has failed but no reason was mentioned can you please tell me what did i do wrong so that i can create a new one without any errors waiting for your reply thank you in advance\n",
      "request to send details of transaction i request you to kindly send the status of my transaction with id thanks and regards\n",
      "want to block account kindly add the contact no to my bank account\n",
      "transaction no is unresolved i regret to inform you the i could only pay the partial amount of inr i will definitely pay the remaining amount as soon as possible thank you for understanding regards\n",
      "the pending amount for transaction will reach you soon hello greetings for the day status of transaction usd for account is pending i would be grateful if you could tell me the cause thanks a lot\n",
      "why has my transaction stopped greetings for the day i checked my inbox and found your email stating the failure of my transaction please help me understand why has failed need funds urgently patiently waiting for you reply thanks a lot\n",
      "transaction stalled and payment not received hey i see my transaction with id has failed i think i did everything right please look into this and reply with the reason urgently thank you and regards\n",
      "upgrade to an account with more benefits kindly add the contact no to my bank account\n",
      "soliciting information for id can you please tell me the amount transferred through transaction id thanks\n",
      "payment outstanding for transaction there has been only a partial payment of amount eur assuring you that the rest will be paid later warm regards\n",
      "change address for account no i need a new cheque book of leaves kindly send the same to my current address which is present in the details of my account\n",
      "why cant i withdraw money with my atm card this is to inform you that i am not able to withdraw money from my account please help\n",
      "payment is pending for transaction the transaction is taking too long to complete i would request you to kindly guide me through the further steps to be taken in order to complete the transaction\n",
      "transaction no is unresolved hello greetings for the day status of transaction inr for account is pending i would be grateful if you could tell me the cause thanks a lot\n",
      "want to block account kindly add the contact no to my bank account\n",
      "dealing with the transaction thank you for transferring the payment to my account yesterday i appreciate the quick response i would like to inform you that is is currently in process thanks and regards\n",
      "completed transaction no hey i am writing in reference to the transaction i was granted the aforementioned amount within the deadline sincere gratitude for such a quick response kind regards\n",
      "accepted payment transaction currently processing acknowledging the received payment for transaction it is finally in process kind regards\n",
      "imploring update on transaction i request you to kindly send the status of my transaction with id thanks and regards\n",
      "transaction stalled and payment not received this is in response to your email stating that my transaction having id has failed but no reason was mentioned can you please tell me what did i do wrong so that i can create a new one without any errors waiting for your reply thank you in advance\n",
      "transaction is complete to whom it may concern i have successfully received payment for the transaction i am grateful for your cooperation thank you so much and regards\n",
      "seeking update on the status of transaction urgently require details of acc reply asap\n",
      "concluded the transaction hello sincere greetings for the day i would like to inform you that my transaction has completed thank you so much for your support looking forward to working more with you in the future regards\n",
      "the pending amount for transaction will reach you soon i regret to inform you the i could only pay the partial amount of usd i will definitely pay the remaining amount as soon as possible thank you for understanding regards\n",
      "want to block account this is to inform you that i am not able to withdraw money from my account please help\n",
      "abrupt closure of transaction with id i have been your regular client and have followed the procedure for creating a transaction correctly still i received an email saying that the transaction has failed i would like to know the reasoning my transaction id is regards\n",
      "partially paid the required amount for transaction since my transaction is still pending i wanted to know if there is a problem with the paperwork from my side please let me know at the earliest thanks and regards\n",
      "transaction stalled and payment not received hey i see my transaction with id has failed i think i did everything right please look into this and reply with the reason urgently thank you and regards\n",
      "upgrade to an account with more benefits kindly add the contact no to my bank account\n",
      "accepted payment transaction currently processing sincere greetings i am glad to tell you that i have finally been granted the pre approved amount through transaction it is now being processed i am grateful for your support warm regards\n",
      "received full payment for transaction no to whom it may concern i have successfully received payment for the transaction i am grateful for your cooperation thank you so much and regards\n",
      "soliciting information for id can you please tell me the amount transferred through transaction id thanks\n",
      "handling the transaction after payment hello this is to inform you that i have received the amount you transferred to my account and now it is currently in process\n",
      "new cheque book this is to inform you that i am not able to withdraw money from my account please help\n",
      "urgently required update on transaction hey i would be really grateful if you could tell me the details of account no thanks\n",
      "partially paid the required amount for transaction i regret to inform you the i could only pay the partial amount of usd i will definitely pay the remaining amount as soon as possible thank you for understanding regards\n",
      "transaction is complete hey i am writing in reference to the transaction i was granted the aforementioned amount within the deadline sincere gratitude for such a quick response kind regards\n",
      "partial payment for transaction there has been only a partial payment of amount usd assuring you that the rest will be paid later warm regards\n",
      "transaction has failed greetings for the day i checked my inbox and found your email stating the failure of my transaction please help me understand why has failed need funds urgently patiently waiting for you reply thanks a lot\n",
      "finalized transaction of id to whom it may concern i have successfully received payment for the transaction i am grateful for your cooperation thank you so much and regards\n",
      "imploring update on transaction i need details of urgently please provide the same on priority basis\n",
      "failure of transaction hey i see my transaction with id has failed i think i did everything right please look into this and reply with the reason urgently thank you and regards\n",
      "seeking update on the status of transaction please provide a status update on at the earliest\n",
      "soliciting information for id kindly reply to me at the earliest with the last transactions made with the account no thanks in advance\n",
      "transaction having id has stopped help this is to notify you that my transaction has failed please reply to me with the cause as soon as possible\n",
      "how to change pin no of atm card i need a new cheque book of leaves kindly send the same to my current address which is present in the details of my account\n",
      "the pending amount for transaction will reach you soon since my transaction is still pending i wanted to know if there is a problem with the paperwork from my side please let me know at the earliest thanks and regards\n",
      "required money acquired transaction is in process sincere greetings i am glad to tell you that i have finally been granted the pre approved amount through transaction it is now being processed i am grateful for your support warm regards\n",
      "change address for account no hey i think i lost my atm card today so can you please block my account or tell me a way to change my pin no i urgently need your reply thanks in advance\n",
      "sorted out the transaction with id glad to let you know that i got the desired payment in reference to transaction i am very happy with your services and will definitely recommend your company to my friends and acquaintances warm regards\n",
      "send steps to activate online banking kindly add the contact no to my bank account\n",
      "processing transaction having id acknowledging the received payment for transaction it is finally in process kind regards\n",
      "transaction has failed greetings for the day i checked my inbox and found your email stating the failure of my transaction please help me understand why has failed need funds urgently patiently waiting for you reply thanks a lot\n",
      "want to block account hey i think i lost my atm card today so can you please block my account or tell me a way to change my pin no i urgently need your reply thanks in advance\n",
      "soliciting information for id can you please tell me the amount transferred through transaction id thanks\n",
      "soliciting information for id kindly reply to me at the earliest with the last transactions made with the account no thanks in advance\n",
      "failure of transaction i have been your regular client and have followed the procedure for creating a transaction correctly still i received an email saying that the transaction has failed i would like to know the reasoning my transaction id is regards\n",
      "incomplete transaction there has been only a partial payment of amount usd assuring you that the rest will be paid later warm regards\n",
      "failure of transaction this is in response to your email stating that my transaction having id has failed but no reason was mentioned can you please tell me what did i do wrong so that i can create a new one without any errors waiting for your reply thank you in advance\n",
      "fulfilled transaction having id hey i am writing in reference to the transaction i was granted the aforementioned amount within the deadline sincere gratitude for such a quick response kind regards\n",
      "abrupt closure of transaction with id i have been your regular client and have followed the procedure for creating a transaction correctly still i received an email saying that the transaction has failed i would like to know the reasoning my transaction id is regards\n",
      "upgrade to an account with more benefits kindly add the contact no to my bank account\n",
      "imploring update on transaction hey i would be really grateful if you could tell me the details of account no thanks\n",
      "why has my transaction stopped i have been your regular client and have followed the procedure for creating a transaction correctly still i received an email saying that the transaction has failed i would like to know the reasoning my transaction id is regards\n",
      "handling the transaction after payment this is in response to your email notifying about the transferred amount i am acknowledging it and informing you that it is now in process\n",
      "request to send details of transaction can you please tell me the amount transferred through transaction id thanks\n",
      "payment received for transaction and now processing thank you for transferring the payment to my account yesterday i appreciate the quick response i would like to inform you that is is currently in process thanks and regards\n",
      "handling the transaction after payment sincere greetings i am glad to tell you that i have finally been granted the pre approved amount through transaction it is now being processed i am grateful for your support warm regards\n",
      "received full payment for transaction no to whom it may concern i have successfully received payment for the transaction i am grateful for your cooperation thank you so much and regards\n"
     ]
    }
   ],
   "source": [
    "# sub_df[\"content\"]=sub_df[\"content\"].map(clean)\n",
    "for i in range(df.shape[0]):\n",
    "    df.loc[i]['Text_Data'] = clean(df.loc[i]['Text_Data'])"
   ]
  },
  {
   "cell_type": "code",
   "execution_count": 13,
   "metadata": {
    "colab": {
     "base_uri": "https://localhost:8080/",
     "height": 330
    },
    "colab_type": "code",
    "id": "JY-Nu1fFBMlQ",
    "outputId": "b283db95-f251-4059-cb36-0d9290dbc97b"
   },
   "outputs": [
    {
     "data": {
      "text/html": [
       "<div>\n",
       "<style scoped>\n",
       "    .dataframe tbody tr th:only-of-type {\n",
       "        vertical-align: middle;\n",
       "    }\n",
       "\n",
       "    .dataframe tbody tr th {\n",
       "        vertical-align: top;\n",
       "    }\n",
       "\n",
       "    .dataframe thead th {\n",
       "        text-align: right;\n",
       "    }\n",
       "</style>\n",
       "<table border=\"1\" class=\"dataframe\">\n",
       "  <thead>\n",
       "    <tr style=\"text-align: right;\">\n",
       "      <th></th>\n",
       "      <th>From</th>\n",
       "      <th>To</th>\n",
       "      <th>Subject</th>\n",
       "      <th>Body</th>\n",
       "      <th>Class</th>\n",
       "      <th>TransactionID</th>\n",
       "      <th>Payment Date</th>\n",
       "      <th>Text_Data</th>\n",
       "    </tr>\n",
       "  </thead>\n",
       "  <tbody>\n",
       "    <tr>\n",
       "      <th>0</th>\n",
       "      <td>Spike@DEUTSCHEBANK.com</td>\n",
       "      <td>Shaniece@CitiBankPune.com</td>\n",
       "      <td>Transaction no. 072558 is unresolved.</td>\n",
       "      <td>Sorry to inform that there has been only a par...</td>\n",
       "      <td>Pending</td>\n",
       "      <td>72558</td>\n",
       "      <td>04-02-2020</td>\n",
       "      <td>transaction no. 072558 is unresolved. sorry to...</td>\n",
       "    </tr>\n",
       "    <tr>\n",
       "      <th>1</th>\n",
       "      <td>Stacy@HDFC.com</td>\n",
       "      <td>Rohan@CitiBankNewYork.com</td>\n",
       "      <td>Order for new Cheque book</td>\n",
       "      <td>Good morning, I want to place an order for an ...</td>\n",
       "      <td>General</td>\n",
       "      <td>212096</td>\n",
       "      <td>29-05-2020</td>\n",
       "      <td>order for new cheque book good morning, i want...</td>\n",
       "    </tr>\n",
       "    <tr>\n",
       "      <th>2</th>\n",
       "      <td>Zachary@HDFC.com</td>\n",
       "      <td>Rishabh@CitiBankPune.com</td>\n",
       "      <td>Required money acquired. Transaction 847047 is...</td>\n",
       "      <td>Hello! This is to inform you that I have recei...</td>\n",
       "      <td>Processing</td>\n",
       "      <td>847047</td>\n",
       "      <td>26-01-2020</td>\n",
       "      <td>required money acquired. transaction 847047 is...</td>\n",
       "    </tr>\n",
       "    <tr>\n",
       "      <th>3</th>\n",
       "      <td>Stacy@SBI.com</td>\n",
       "      <td>Shai@CitiBankHongKong.com</td>\n",
       "      <td>Asking for the details for transaction 746078</td>\n",
       "      <td>I request you to kindly send the status of my ...</td>\n",
       "      <td>Request</td>\n",
       "      <td>746078</td>\n",
       "      <td>17-06-2019</td>\n",
       "      <td>asking for the details for transaction 746078 ...</td>\n",
       "    </tr>\n",
       "    <tr>\n",
       "      <th>4</th>\n",
       "      <td>Angela@HDFC.com</td>\n",
       "      <td>Dipesh@CitiBankSingapore.com</td>\n",
       "      <td>Partial payment for transaction 535918</td>\n",
       "      <td>Hello!! Greetings for the day. Status of trans...</td>\n",
       "      <td>Pending</td>\n",
       "      <td>535918</td>\n",
       "      <td>18-02-2020</td>\n",
       "      <td>partial payment for transaction 535918 hello!!...</td>\n",
       "    </tr>\n",
       "  </tbody>\n",
       "</table>\n",
       "</div>"
      ],
      "text/plain": [
       "                     From  ...                                          Text_Data\n",
       "0  Spike@DEUTSCHEBANK.com  ...  transaction no. 072558 is unresolved. sorry to...\n",
       "1          Stacy@HDFC.com  ...  order for new cheque book good morning, i want...\n",
       "2        Zachary@HDFC.com  ...  required money acquired. transaction 847047 is...\n",
       "3           Stacy@SBI.com  ...  asking for the details for transaction 746078 ...\n",
       "4         Angela@HDFC.com  ...  partial payment for transaction 535918 hello!!...\n",
       "\n",
       "[5 rows x 8 columns]"
      ]
     },
     "execution_count": 13,
     "metadata": {
      "tags": []
     },
     "output_type": "execute_result"
    }
   ],
   "source": [
    "df.head()"
   ]
  },
  {
   "cell_type": "code",
   "execution_count": 14,
   "metadata": {
    "colab": {
     "base_uri": "https://localhost:8080/",
     "height": 54
    },
    "colab_type": "code",
    "id": "cWB5exRgBMlf",
    "outputId": "e0cc6ffc-eda8-4663-e9a5-8c06337e2a1d"
   },
   "outputs": [
    {
     "data": {
      "text/plain": [
       "'transaction no. 072558 is unresolved. sorry to inform that there has been only a partial payment of amount gbp 908225. you are definitely going to receive the rest at a later point of time. warm regards.'"
      ]
     },
     "execution_count": 14,
     "metadata": {
      "tags": []
     },
     "output_type": "execute_result"
    }
   ],
   "source": [
    "df['Text_Data'][0]"
   ]
  },
  {
   "cell_type": "code",
   "execution_count": 0,
   "metadata": {
    "colab": {},
    "colab_type": "code",
    "id": "mvcmsa9SBMlx"
   },
   "outputs": [],
   "source": [
    "# Calculating optimal sentence length according to Gaussian distribution\n",
    "\n",
    "lengths = []\n",
    "\n",
    "for i in range(df.shape[0]):\n",
    "    words = df.values[i][7].split()\n",
    "    lengths.append(len(words))\n",
    "    \n",
    "avg = int(np.mean(lengths) + 2*np.std(lengths))"
   ]
  },
  {
   "cell_type": "code",
   "execution_count": 0,
   "metadata": {
    "colab": {},
    "colab_type": "code",
    "id": "Gb6qpcTVBMl9"
   },
   "outputs": [],
   "source": [
    "# df['Subject'][1005] + \" \" + df['Body'][1005]"
   ]
  },
  {
   "cell_type": "markdown",
   "metadata": {
    "colab_type": "text",
    "id": "Gn2uxHfJBMmD"
   },
   "source": [
    "## Step 3: Loading word2vec"
   ]
  },
  {
   "cell_type": "code",
   "execution_count": 17,
   "metadata": {
    "colab": {
     "base_uri": "https://localhost:8080/",
     "height": 353
    },
    "colab_type": "code",
    "id": "zuhCvFcZDMVt",
    "outputId": "4c52dd79-8204-4d67-e247-d3c067b3c686"
   },
   "outputs": [
    {
     "name": "stdout",
     "output_type": "stream",
     "text": [
      "--2020-06-13 20:15:33--  http://nlp.stanford.edu/data/glove.6B.zip\n",
      "Resolving nlp.stanford.edu (nlp.stanford.edu)... 171.64.67.140\n",
      "Connecting to nlp.stanford.edu (nlp.stanford.edu)|171.64.67.140|:80... connected.\n",
      "HTTP request sent, awaiting response... 302 Found\n",
      "Location: https://nlp.stanford.edu/data/glove.6B.zip [following]\n",
      "--2020-06-13 20:15:33--  https://nlp.stanford.edu/data/glove.6B.zip\n",
      "Connecting to nlp.stanford.edu (nlp.stanford.edu)|171.64.67.140|:443... connected.\n",
      "HTTP request sent, awaiting response... 301 Moved Permanently\n",
      "Location: http://downloads.cs.stanford.edu/nlp/data/glove.6B.zip [following]\n",
      "--2020-06-13 20:15:34--  http://downloads.cs.stanford.edu/nlp/data/glove.6B.zip\n",
      "Resolving downloads.cs.stanford.edu (downloads.cs.stanford.edu)... 171.64.64.22\n",
      "Connecting to downloads.cs.stanford.edu (downloads.cs.stanford.edu)|171.64.64.22|:80... connected.\n",
      "HTTP request sent, awaiting response... 200 OK\n",
      "Length: 862182613 (822M) [application/zip]\n",
      "Saving to: ‘glove.6B.zip’\n",
      "\n",
      "glove.6B.zip        100%[===================>] 822.24M  2.15MB/s    in 6m 29s  \n",
      "\n",
      "2020-06-13 20:22:03 (2.11 MB/s) - ‘glove.6B.zip’ saved [862182613/862182613]\n",
      "\n"
     ]
    }
   ],
   "source": [
    "!wget http://nlp.stanford.edu/data/glove.6B.zip "
   ]
  },
  {
   "cell_type": "code",
   "execution_count": 18,
   "metadata": {
    "colab": {
     "base_uri": "https://localhost:8080/",
     "height": 101
    },
    "colab_type": "code",
    "id": "aXZ-GIkOGZqM",
    "outputId": "1c849cef-6634-4a6c-c392-70a7d632d793"
   },
   "outputs": [
    {
     "name": "stdout",
     "output_type": "stream",
     "text": [
      "Archive:  glove.6B.zip\n",
      "  inflating: glove.6B.50d.txt        \n",
      "  inflating: glove.6B.100d.txt       \n",
      "  inflating: glove.6B.200d.txt       \n",
      "  inflating: glove.6B.300d.txt       \n"
     ]
    }
   ],
   "source": [
    "!unzip glove*.zip"
   ]
  },
  {
   "cell_type": "code",
   "execution_count": 19,
   "metadata": {
    "colab": {
     "base_uri": "https://localhost:8080/",
     "height": 67
    },
    "colab_type": "code",
    "id": "sUwhAD2zGdx1",
    "outputId": "848db1e9-a269-4ba2-bd20-444a5d11100b"
   },
   "outputs": [
    {
     "name": "stdout",
     "output_type": "stream",
     "text": [
      "emaildataset.csv   glove.6B.200d.txt  glove.6B.50d.txt\tsample_data\n",
      "glove.6B.100d.txt  glove.6B.300d.txt  glove.6B.zip\n",
      "/content\n"
     ]
    }
   ],
   "source": [
    "!ls\n",
    "!pwd"
   ]
  },
  {
   "cell_type": "code",
   "execution_count": 0,
   "metadata": {
    "colab": {},
    "colab_type": "code",
    "id": "zVdB2qvEGdro"
   },
   "outputs": [],
   "source": []
  },
  {
   "cell_type": "code",
   "execution_count": 20,
   "metadata": {
    "colab": {
     "base_uri": "https://localhost:8080/",
     "height": 34
    },
    "colab_type": "code",
    "id": "Z8adBPy5BMmJ",
    "outputId": "f230f0f6-19f1-48fb-d410-97915c4012c9"
   },
   "outputs": [
    {
     "name": "stdout",
     "output_type": "stream",
     "text": [
      "400000\n"
     ]
    }
   ],
   "source": [
    "embeddings_index = {}\n",
    "with open('glove.6B.300d.txt',encoding='utf-8') as f:\n",
    "    for line in f:\n",
    "        values = line.split()\n",
    "        word = values[0]\n",
    "        coeffs = np.asarray(values[1:],dtype='float32')\n",
    "        \n",
    "#         print(word)\n",
    "#         print(coeffs)\n",
    "        embeddings_index[word] = coeffs\n",
    "    f.close()\n",
    "print(len(embeddings_index))\n",
    "\n",
    "# embeddings_index = dict()\n",
    "# f = open('./glove.6B.300d.txt')\n",
    "# for line in f:\n",
    "#     values = line.split()\n",
    "#     word = values[0]\n",
    "#     coefs = np.asarray(values[1:], dtype='float32')\n",
    "#     embeddings_index[word] = coefs\n",
    "# f.close()"
   ]
  },
  {
   "cell_type": "code",
   "execution_count": 21,
   "metadata": {
    "colab": {
     "base_uri": "https://localhost:8080/",
     "height": 50
    },
    "colab_type": "code",
    "id": "Cx1ASEiIBMmX",
    "outputId": "2c19febe-12d9-4501-9feb-daed3b60e6a4"
   },
   "outputs": [
    {
     "name": "stdout",
     "output_type": "stream",
     "text": [
      "400000\n",
      "300\n"
     ]
    }
   ],
   "source": [
    "print(len(embeddings_index))\n",
    "print(len(embeddings_index['girl']))"
   ]
  },
  {
   "cell_type": "markdown",
   "metadata": {
    "colab_type": "text",
    "id": "O7085ByHBMmc"
   },
   "source": [
    "## Step 4: Converting sentences to vectors (creating the o/p of embedding layer)"
   ]
  },
  {
   "cell_type": "code",
   "execution_count": 22,
   "metadata": {
    "colab": {
     "base_uri": "https://localhost:8080/",
     "height": 34
    },
    "colab_type": "code",
    "id": "YIQlgGfsBMmd",
    "outputId": "a87d97cc-6194-40e9-a635-917b1e43f205"
   },
   "outputs": [
    {
     "name": "stdout",
     "output_type": "stream",
     "text": [
      "1545\n"
     ]
    }
   ],
   "source": [
    "t = Tokenizer()\n",
    "l = list(df.Text_Data)\n",
    "t.fit_on_texts(l)\n",
    "vocab_size = len(t.word_index) + 1\n",
    "print(vocab_size)\n",
    "\n",
    "# integer encode the mails\n",
    "encoded_mails = t.texts_to_sequences(l)\n",
    "\n",
    "#post padding\n",
    "padded_inputs = pad_sequences(encoded_mails, maxlen=avg, padding='post')\n",
    "# print(padded_inputs)"
   ]
  },
  {
   "cell_type": "code",
   "execution_count": 23,
   "metadata": {
    "colab": {
     "base_uri": "https://localhost:8080/",
     "height": 34
    },
    "colab_type": "code",
    "id": "jeLJ5QpGBMmm",
    "outputId": "33037938-5292-409a-e633-a76bb68c440d"
   },
   "outputs": [
    {
     "data": {
      "text/plain": [
       "(952, 53)"
      ]
     },
     "execution_count": 23,
     "metadata": {
      "tags": []
     },
     "output_type": "execute_result"
    }
   ],
   "source": [
    "\n",
    "padded_inputs.shape"
   ]
  },
  {
   "cell_type": "code",
   "execution_count": 24,
   "metadata": {
    "colab": {
     "base_uri": "https://localhost:8080/",
     "height": 336
    },
    "colab_type": "code",
    "id": "aCI-K_oTBMmt",
    "outputId": "0192dc5b-d649-4c9f-c637-b1c24f147911"
   },
   "outputs": [
    {
     "name": "stdout",
     "output_type": "stream",
     "text": [
      "[2, 26, 909, 7, 226, 910, 4, 49, 12, 127, 23, 65, 114, 16, 94, 15, 9, 18, 227, 911, 6, 272, 108, 912, 4, 303, 1, 129, 75, 16, 164, 913, 9, 304, 80, 14]\n"
     ]
    },
    {
     "data": {
      "text/plain": [
       "array([0., 0., 0., 0., 0., 0., 0., 0., 0., 0., 0., 0., 0., 0., 0., 0., 0.,\n",
       "       0., 0., 0., 0., 0., 0., 0., 0., 0., 0., 0., 0., 0., 0., 0., 0., 0.,\n",
       "       0., 0., 0., 0., 0., 0., 0., 0., 0., 0., 0., 0., 0., 0., 0., 0., 0.,\n",
       "       0., 0., 0., 0., 0., 0., 0., 0., 0., 0., 0., 0., 0., 0., 0., 0., 0.,\n",
       "       0., 0., 0., 0., 0., 0., 0., 0., 0., 0., 0., 0., 0., 0., 0., 0., 0.,\n",
       "       0., 0., 0., 0., 0., 0., 0., 0., 0., 0., 0., 0., 0., 0., 0., 0., 0.,\n",
       "       0., 0., 0., 0., 0., 0., 0., 0., 0., 0., 0., 0., 0., 0., 0., 0., 0.,\n",
       "       0., 0., 0., 0., 0., 0., 0., 0., 0., 0., 0., 0., 0., 0., 0., 0., 0.,\n",
       "       0., 0., 0., 0., 0., 0., 0., 0., 0., 0., 0., 0., 0., 0., 0., 0., 0.,\n",
       "       0., 0., 0., 0., 0., 0., 0., 0., 0., 0., 0., 0., 0., 0., 0., 0., 0.,\n",
       "       0., 0., 0., 0., 0., 0., 0., 0., 0., 0., 0., 0., 0., 0., 0., 0., 0.,\n",
       "       0., 0., 0., 0., 0., 0., 0., 0., 0., 0., 0., 0., 0., 0., 0., 0., 0.,\n",
       "       0., 0., 0., 0., 0., 0., 0., 0., 0., 0., 0., 0., 0., 0., 0., 0., 0.,\n",
       "       0., 0., 0., 0., 0., 0., 0., 0., 0., 0., 0., 0., 0., 0., 0., 0., 0.,\n",
       "       0., 0., 0., 0., 0., 0., 0., 0., 0., 0., 0., 0., 0., 0., 0., 0., 0.,\n",
       "       0., 0., 0., 0., 0., 0., 0., 0., 0., 0., 0., 0., 0., 0., 0., 0., 0.,\n",
       "       0., 0., 0., 0., 0., 0., 0., 0., 0., 0., 0., 0., 0., 0., 0., 0., 0.,\n",
       "       0., 0., 0., 0., 0., 0., 0., 0., 0., 0., 0.])"
      ]
     },
     "execution_count": 24,
     "metadata": {
      "tags": []
     },
     "output_type": "execute_result"
    }
   ],
   "source": [
    "# create a weight matrix for words in training docs\n",
    "\n",
    "print(encoded_mails[0])\n",
    "embedding_matrix = np.zeros((vocab_size, 300))\n",
    "for word, i in t.word_index.items():\n",
    "    embedding_vector = embeddings_index.get(word)\n",
    "    if embedding_vector is not None:\n",
    "        embedding_matrix[i] = embedding_vector\n",
    "#         print(i)\n",
    "#         print(word)\n",
    "#         print()\n",
    "embedding_matrix[0] "
   ]
  },
  {
   "cell_type": "code",
   "execution_count": 25,
   "metadata": {
    "colab": {
     "base_uri": "https://localhost:8080/",
     "height": 34
    },
    "colab_type": "code",
    "id": "Kj-KfToGBMmz",
    "outputId": "68702412-8088-41b6-fdce-c48e18456dcd"
   },
   "outputs": [
    {
     "data": {
      "text/plain": [
       "(1545, 300)"
      ]
     },
     "execution_count": 25,
     "metadata": {
      "tags": []
     },
     "output_type": "execute_result"
    }
   ],
   "source": [
    "embedding_matrix.shape"
   ]
  },
  {
   "cell_type": "markdown",
   "metadata": {
    "colab_type": "text",
    "id": "W-b5GZ_2BMnB"
   },
   "source": [
    "## Embedding matrix train"
   ]
  },
  {
   "cell_type": "code",
   "execution_count": 0,
   "metadata": {
    "colab": {},
    "colab_type": "code",
    "id": "laLMR9D6BMnC"
   },
   "outputs": [],
   "source": [
    "def getOutputEmbeddings(X):\n",
    "    embedding_matrix_output = np.zeros((X.shape[0],avg,300))\n",
    "    \n",
    "    for ix in range(X.shape[0]):\n",
    "#         X[ix] = X[ix].split()\n",
    "        for jx in range(len(X[ix])):\n",
    "#             if X[ix][jx] in embeddings:\n",
    "            embedding_matrix_output[ix][jx] = embedding_matrix[X[ix][jx]]\n",
    "            \n",
    "    return embedding_matrix_output"
   ]
  },
  {
   "cell_type": "code",
   "execution_count": 27,
   "metadata": {
    "colab": {
     "base_uri": "https://localhost:8080/",
     "height": 34
    },
    "colab_type": "code",
    "id": "_SVmA912BMnI",
    "outputId": "b493b2ee-684e-437f-de44-c5f0a607a5ed"
   },
   "outputs": [
    {
     "data": {
      "text/plain": [
       "(952, 53, 300)"
      ]
     },
     "execution_count": 27,
     "metadata": {
      "tags": []
     },
     "output_type": "execute_result"
    }
   ],
   "source": [
    "embedding_matrix_output = getOutputEmbeddings(padded_inputs)\n",
    "embedding_matrix_output.shape"
   ]
  },
  {
   "cell_type": "code",
   "execution_count": 0,
   "metadata": {
    "colab": {},
    "colab_type": "code",
    "id": "Esag9_IcBMnN"
   },
   "outputs": [],
   "source": []
  },
  {
   "cell_type": "code",
   "execution_count": 0,
   "metadata": {
    "colab": {},
    "colab_type": "code",
    "id": "bVVsLefhBMnX"
   },
   "outputs": [],
   "source": [
    "embedding_matrix_output = embedding_matrix_output.reshape(df.shape[0], -1)"
   ]
  },
  {
   "cell_type": "code",
   "execution_count": 0,
   "metadata": {
    "colab": {},
    "colab_type": "code",
    "id": "eEuY1TyFBMnh"
   },
   "outputs": [],
   "source": [
    "# import preprocessing from sklearn\n",
    "# from sklearn.preprocessing import OneHotEncoder \n",
    "# from sklearn.preprocessing import LabelEncoder "
   ]
  },
  {
   "cell_type": "code",
   "execution_count": 0,
   "metadata": {
    "colab": {},
    "colab_type": "code",
    "id": "wHp5fpP4BMnm"
   },
   "outputs": [],
   "source": [
    "# le = OneHotEncoder()\n",
    "# classes = df['Class'].values\n",
    "\n",
    "# classes = classes.reshape(-1, 1)\n",
    "# Y = le.fit_transform(classes)"
   ]
  },
  {
   "cell_type": "code",
   "execution_count": 0,
   "metadata": {
    "colab": {},
    "colab_type": "code",
    "id": "364Sgb4SBMnq"
   },
   "outputs": [],
   "source": [
    "# Y = Y.toarray()"
   ]
  },
  {
   "cell_type": "code",
   "execution_count": 0,
   "metadata": {
    "colab": {},
    "colab_type": "code",
    "id": "88w6oKdXBMnx"
   },
   "outputs": [],
   "source": [
    "Y = list(df['Class'])"
   ]
  },
  {
   "cell_type": "code",
   "execution_count": 0,
   "metadata": {
    "colab": {},
    "colab_type": "code",
    "id": "V5U79xdfBMn5"
   },
   "outputs": [],
   "source": [
    "# X_train, X_test, Y_train, Y_test = train_test_split(embedding_matrix_output, Y, test_size=0.2, stratify=Y)\n",
    "X_train, X_test, Y_train, Y_test = train_test_split(embedding_matrix_output, Y, test_size=0.2, stratify=Y)"
   ]
  },
  {
   "cell_type": "code",
   "execution_count": 0,
   "metadata": {
    "colab": {},
    "colab_type": "code",
    "id": "nY7n0-ReBMn-"
   },
   "outputs": [],
   "source": [
    "# Y_test.unique()"
   ]
  },
  {
   "cell_type": "markdown",
   "metadata": {
    "colab_type": "text",
    "id": "Xiw0uNc-BMoQ"
   },
   "source": [
    "## Step 5: Applying ML algorithms\n",
    "\n",
    "### Support Vector Machine"
   ]
  },
  {
   "cell_type": "code",
   "execution_count": 0,
   "metadata": {
    "colab": {},
    "colab_type": "code",
    "id": "wn3Cr7T6BMoR"
   },
   "outputs": [],
   "source": [
    "from sklearn.model_selection import GridSearchCV\n",
    "from sklearn import svm\n",
    "from sklearn.model_selection import cross_val_score"
   ]
  },
  {
   "cell_type": "code",
   "execution_count": 0,
   "metadata": {
    "colab": {},
    "colab_type": "code",
    "id": "ZGi3wMdeBMoY"
   },
   "outputs": [],
   "source": [
    "import multiprocessing"
   ]
  },
  {
   "cell_type": "code",
   "execution_count": 37,
   "metadata": {
    "colab": {
     "base_uri": "https://localhost:8080/",
     "height": 34
    },
    "colab_type": "code",
    "id": "OPqyijofBMol",
    "outputId": "b00d0d18-b8ae-48b5-e8a6-6a56355e9c9c"
   },
   "outputs": [
    {
     "name": "stdout",
     "output_type": "stream",
     "text": [
      "2\n"
     ]
    }
   ],
   "source": [
    "cpus = multiprocessing.cpu_count()\n",
    "print(cpus)"
   ]
  },
  {
   "cell_type": "code",
   "execution_count": 0,
   "metadata": {
    "colab": {},
    "colab_type": "code",
    "id": "Vr-z4MKABMos"
   },
   "outputs": [],
   "source": [
    "params = [\n",
    "    {\n",
    "        'kernel':['linear','rbf','poly','sigmoid'],\n",
    "        'C':[0.1,0.2,0.5,1.0,2.0,5.0]\n",
    "    }   \n",
    "]"
   ]
  },
  {
   "cell_type": "code",
   "execution_count": 39,
   "metadata": {
    "colab": {
     "base_uri": "https://localhost:8080/",
     "height": 34
    },
    "colab_type": "code",
    "id": "ZP9nokEWBMo6",
    "outputId": "f9514b12-2954-404a-87dc-5e578814f717"
   },
   "outputs": [
    {
     "data": {
      "text/plain": [
       "0.9947643979057592"
      ]
     },
     "execution_count": 39,
     "metadata": {
      "tags": []
     },
     "output_type": "execute_result"
    }
   ],
   "source": [
    "svc = svm.SVC()\n",
    "svc.fit(X_train,Y_train)\n",
    "svc.score(X_test, Y_test)"
   ]
  },
  {
   "cell_type": "code",
   "execution_count": 40,
   "metadata": {
    "colab": {
     "base_uri": "https://localhost:8080/",
     "height": 34
    },
    "colab_type": "code",
    "id": "7Ore6xbJBMpA",
    "outputId": "66cd905e-c118-4015-c530-ae8a52964eb8"
   },
   "outputs": [
    {
     "data": {
      "text/plain": [
       "0.9853292918159273"
      ]
     },
     "execution_count": 40,
     "metadata": {
      "tags": []
     },
     "output_type": "execute_result"
    }
   ],
   "source": [
    "cross_val_score(svc,embedding_matrix_output, Y, scoring=\"accuracy\",cv=5).mean()"
   ]
  },
  {
   "cell_type": "code",
   "execution_count": 0,
   "metadata": {
    "colab": {},
    "colab_type": "code",
    "id": "CdxPHqC8BMpH"
   },
   "outputs": [],
   "source": [
    "# gs = GridSearchCV(estimator=svm.SVC(),param_grid=params,scoring=\"accuracy\",cv=5,n_jobs = cpus)\n",
    "\n",
    "# gs.fit(embedding_matrix_output, Y)"
   ]
  },
  {
   "cell_type": "code",
   "execution_count": 0,
   "metadata": {
    "colab": {},
    "colab_type": "code",
    "id": "kxdYu3QkBMpT"
   },
   "outputs": [],
   "source": [
    "# gs.best_estimator_\n",
    "# gs.best_score_"
   ]
  },
  {
   "cell_type": "code",
   "execution_count": 0,
   "metadata": {
    "colab": {},
    "colab_type": "code",
    "id": "EpHRaBzhl3iG"
   },
   "outputs": [],
   "source": [
    "y_pred = svc.predict(X_test)"
   ]
  },
  {
   "cell_type": "code",
   "execution_count": 44,
   "metadata": {
    "colab": {
     "base_uri": "https://localhost:8080/",
     "height": 54
    },
    "colab_type": "code",
    "id": "deq6KrLQlgrq",
    "outputId": "6c150bd4-dd92-46c7-9716-835e3ae52d16"
   },
   "outputs": [
    {
     "data": {
      "text/plain": [
       "'              precision    recall  f1-score   support\\n\\n    Complete       1.00      0.97      0.98        32\\n      Failed       1.00      1.00      1.00        36\\n     General       1.00      1.00      1.00        24\\n     Pending       0.97      1.00      0.99        34\\n  Processing       1.00      1.00      1.00        31\\n     Request       1.00      1.00      1.00        34\\n\\n    accuracy                           0.99       191\\n   macro avg       1.00      0.99      0.99       191\\nweighted avg       0.99      0.99      0.99       191\\n'"
      ]
     },
     "execution_count": 44,
     "metadata": {
      "tags": []
     },
     "output_type": "execute_result"
    }
   ],
   "source": [
    "classification_report(Y_test, y_pred, labels=None, target_names=None, sample_weight=None, digits=2, output_dict=False, zero_division='warn')"
   ]
  },
  {
   "cell_type": "code",
   "execution_count": 0,
   "metadata": {
    "colab": {},
    "colab_type": "code",
    "id": "D6dHfU5oUwoL"
   },
   "outputs": [],
   "source": []
  },
  {
   "cell_type": "markdown",
   "metadata": {
    "colab_type": "text",
    "id": "Q2MV48QcHncW"
   },
   "source": [
    "### Bernoulli Naive Bayes algorithm"
   ]
  },
  {
   "cell_type": "code",
   "execution_count": 0,
   "metadata": {
    "colab": {},
    "colab_type": "code",
    "id": "0yqHgegjJCmt"
   },
   "outputs": [],
   "source": [
    "from sklearn.naive_bayes import BernoulliNB"
   ]
  },
  {
   "cell_type": "code",
   "execution_count": 46,
   "metadata": {
    "colab": {
     "base_uri": "https://localhost:8080/",
     "height": 34
    },
    "colab_type": "code",
    "id": "zbpu95xOHl-r",
    "outputId": "751fb4ee-9218-4d58-919d-3d045481d484"
   },
   "outputs": [
    {
     "data": {
      "text/plain": [
       "0.7958115183246073"
      ]
     },
     "execution_count": 46,
     "metadata": {
      "tags": []
     },
     "output_type": "execute_result"
    }
   ],
   "source": [
    "BNBmodel = BernoulliNB(alpha = 2)\n",
    "BNBmodel.fit(X_train, Y_train)\n",
    "BNBmodel.score(X_test, Y_test)"
   ]
  },
  {
   "cell_type": "code",
   "execution_count": 0,
   "metadata": {
    "colab": {},
    "colab_type": "code",
    "id": "mMKWHUw6HmIg"
   },
   "outputs": [],
   "source": [
    "y_pred = svc.predict(X_test)"
   ]
  },
  {
   "cell_type": "code",
   "execution_count": 48,
   "metadata": {
    "colab": {
     "base_uri": "https://localhost:8080/",
     "height": 54
    },
    "colab_type": "code",
    "id": "XD8F7vP6HmVe",
    "outputId": "0a464522-c7e4-4c5d-fb0f-2de536faf35f"
   },
   "outputs": [
    {
     "data": {
      "text/plain": [
       "'              precision    recall  f1-score   support\\n\\n    Complete       1.00      0.97      0.98        32\\n      Failed       1.00      1.00      1.00        36\\n     General       1.00      1.00      1.00        24\\n     Pending       0.97      1.00      0.99        34\\n  Processing       1.00      1.00      1.00        31\\n     Request       1.00      1.00      1.00        34\\n\\n    accuracy                           0.99       191\\n   macro avg       1.00      0.99      0.99       191\\nweighted avg       0.99      0.99      0.99       191\\n'"
      ]
     },
     "execution_count": 48,
     "metadata": {
      "tags": []
     },
     "output_type": "execute_result"
    }
   ],
   "source": [
    "classification_report(Y_test, y_pred, labels=None, target_names=None, sample_weight=None, digits=2, output_dict=False, zero_division='warn')"
   ]
  },
  {
   "cell_type": "code",
   "execution_count": 0,
   "metadata": {
    "colab": {},
    "colab_type": "code",
    "id": "Jh3cWwtHIcwx"
   },
   "outputs": [],
   "source": []
  },
  {
   "cell_type": "markdown",
   "metadata": {
    "colab_type": "text",
    "id": "zmUqfWLEIHG2"
   },
   "source": [
    "### Random forest algorithm"
   ]
  },
  {
   "cell_type": "code",
   "execution_count": 0,
   "metadata": {
    "colab": {},
    "colab_type": "code",
    "id": "xjTb0ZdkHmGm"
   },
   "outputs": [],
   "source": [
    "from sklearn.ensemble import RandomForestClassifier"
   ]
  },
  {
   "cell_type": "code",
   "execution_count": 50,
   "metadata": {
    "colab": {
     "base_uri": "https://localhost:8080/",
     "height": 151
    },
    "colab_type": "code",
    "id": "aPoKQ-1UHmDu",
    "outputId": "52cd5f4c-d03e-4025-90ed-2b5fe1eb3f1e"
   },
   "outputs": [
    {
     "data": {
      "text/plain": [
       "RandomForestClassifier(bootstrap=True, ccp_alpha=0.0, class_weight=None,\n",
       "                       criterion='gini', max_depth=None, max_features='auto',\n",
       "                       max_leaf_nodes=None, max_samples=None,\n",
       "                       min_impurity_decrease=0.0, min_impurity_split=None,\n",
       "                       min_samples_leaf=1, min_samples_split=2,\n",
       "                       min_weight_fraction_leaf=0.0, n_estimators=100,\n",
       "                       n_jobs=None, oob_score=False, random_state=None,\n",
       "                       verbose=0, warm_start=False)"
      ]
     },
     "execution_count": 50,
     "metadata": {
      "tags": []
     },
     "output_type": "execute_result"
    }
   ],
   "source": [
    "clf = RandomForestClassifier()\n",
    "clf.fit(X_train, Y_train)"
   ]
  },
  {
   "cell_type": "code",
   "execution_count": 51,
   "metadata": {
    "colab": {
     "base_uri": "https://localhost:8080/",
     "height": 34
    },
    "colab_type": "code",
    "id": "eGppOrLFHl9M",
    "outputId": "5f4a2be1-5a45-49d5-bf19-78b71996b7a8"
   },
   "outputs": [
    {
     "data": {
      "text/plain": [
       "0.9947643979057592"
      ]
     },
     "execution_count": 51,
     "metadata": {
      "tags": []
     },
     "output_type": "execute_result"
    }
   ],
   "source": [
    "clf.score(X_test, Y_test)"
   ]
  },
  {
   "cell_type": "code",
   "execution_count": 0,
   "metadata": {
    "colab": {},
    "colab_type": "code",
    "id": "hxIbWiPfmIpE"
   },
   "outputs": [],
   "source": [
    "y_pred = clf.predict(X_test)"
   ]
  },
  {
   "cell_type": "code",
   "execution_count": 53,
   "metadata": {
    "colab": {
     "base_uri": "https://localhost:8080/",
     "height": 54
    },
    "colab_type": "code",
    "id": "QNbnxW3eHl7n",
    "outputId": "b23a1490-6de5-42fd-dc8f-48a53910c6e4"
   },
   "outputs": [
    {
     "data": {
      "text/plain": [
       "'              precision    recall  f1-score   support\\n\\n    Complete       1.00      1.00      1.00        32\\n      Failed       0.97      1.00      0.99        36\\n     General       1.00      0.96      0.98        24\\n     Pending       1.00      1.00      1.00        34\\n  Processing       1.00      1.00      1.00        31\\n     Request       1.00      1.00      1.00        34\\n\\n    accuracy                           0.99       191\\n   macro avg       1.00      0.99      0.99       191\\nweighted avg       0.99      0.99      0.99       191\\n'"
      ]
     },
     "execution_count": 53,
     "metadata": {
      "tags": []
     },
     "output_type": "execute_result"
    }
   ],
   "source": [
    "classification_report(Y_test, y_pred, labels=None, target_names=None, sample_weight=None, digits=2, output_dict=False, zero_division='warn')"
   ]
  },
  {
   "cell_type": "code",
   "execution_count": 0,
   "metadata": {
    "colab": {},
    "colab_type": "code",
    "id": "0PK9XNuXHl3u"
   },
   "outputs": [],
   "source": []
  },
  {
   "cell_type": "markdown",
   "metadata": {
    "colab_type": "text",
    "id": "unbqi3nyLOLH"
   },
   "source": [
    "## Step 6: Visualise our results"
   ]
  },
  {
   "cell_type": "code",
   "execution_count": 0,
   "metadata": {
    "colab": {},
    "colab_type": "code",
    "id": "u3cSoDszLQWd"
   },
   "outputs": [],
   "source": [
    "# import matplotlib.pyplot as plt"
   ]
  },
  {
   "cell_type": "code",
   "execution_count": 0,
   "metadata": {
    "colab": {},
    "colab_type": "code",
    "id": "rJdca5xdu0gI"
   },
   "outputs": [],
   "source": []
  }
 ],
 "metadata": {
  "accelerator": "GPU",
  "colab": {
   "collapsed_sections": [],
   "name": "Email_Preprocessor_Supervised.ipynb",
   "provenance": []
  },
  "kernelspec": {
   "display_name": "Python 3",
   "language": "python",
   "name": "python3"
  },
  "language_info": {
   "codemirror_mode": {
    "name": "ipython",
    "version": 3
   },
   "file_extension": ".py",
   "mimetype": "text/x-python",
   "name": "python",
   "nbconvert_exporter": "python",
   "pygments_lexer": "ipython3",
   "version": "3.7.6"
  }
 },
 "nbformat": 4,
 "nbformat_minor": 1
}
