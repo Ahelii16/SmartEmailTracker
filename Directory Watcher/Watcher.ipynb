{
 "cells": [
  {
   "cell_type": "markdown",
   "metadata": {},
   "source": [
    "# Simple Directory Watcher"
   ]
  },
  {
   "cell_type": "code",
   "execution_count": 1,
   "metadata": {},
   "outputs": [
    {
     "name": "stdout",
     "output_type": "stream",
     "text": [
      "starting to watch current directory now\n",
      ".\\email1.txt has been created!\n",
      ".\\email1.txt\n",
      ".\\email1.txt has been modified\n",
      ".\\email1.txt has been modified\n",
      ".\\.~Watcher.ipynb has been created!\n",
      ".\\.~Watcher.ipynb\n",
      ".\\.~Watcher.ipynb has been modified\n",
      ".\\.~Watcher.ipynb has been modified\n",
      ".\\Watcher.ipynb has been modified\n",
      ".\\Watcher.ipynb has been modified\n",
      ".\\.~Watcher.ipynb has been deleted!\n"
     ]
    }
   ],
   "source": [
    "import sys\n",
    "import time\n",
    "from watchdog.observers import Observer\n",
    "from watchdog.events import PatternMatchingEventHandler\n",
    "\n",
    "def on_created(event):\n",
    "    print(f\"{event.src_path} has been created!\")\n",
    "    print(event.src_path)\n",
    "    #filename=event.src_path[2:]\n",
    "\n",
    "def on_deleted(event):\n",
    "    print(f\"{event.src_path} has been deleted!\")\n",
    "\n",
    "def on_modified(event):\n",
    "    print(f\"{event.src_path} has been modified\")\n",
    "\n",
    "def on_moved(event):\n",
    "    print(f\"{event.src_path} moved to {event.dest_path}\")\n",
    "\n",
    "if __name__ == \"__main__\":\n",
    "    patterns = \"*\"\n",
    "    ignore_patterns = \"\"\n",
    "    ignore_directories = False\n",
    "    case_sensitive = True\n",
    "    my_event_handler = PatternMatchingEventHandler(patterns, ignore_patterns, ignore_directories, case_sensitive)\n",
    "    my_event_handler.on_created = on_created\n",
    "    my_event_handler.on_deleted = on_deleted\n",
    "    my_event_handler.on_modified = on_modified\n",
    "    my_event_handler.on_moved = on_moved\n",
    "    path = \".\"\n",
    "    #path = sys.argv[1] if len(sys.argv) > 1 else '.'\n",
    "    go_recursively = False\n",
    "    my_observer = Observer()\n",
    "    my_observer.schedule(my_event_handler, path, recursive=go_recursively)\n",
    "    print(\"starting to watch current directory now\")\n",
    "    my_observer.start()\n",
    "    try:\n",
    "        while True:\n",
    "            time.sleep(1)\n",
    "    except KeyboardInterrupt:\n",
    "        my_observer.stop()\n",
    "        my_observer.join()\n",
    "\n",
    "\n"
   ]
  },
  {
   "cell_type": "code",
   "execution_count": null,
   "metadata": {},
   "outputs": [],
   "source": []
  },
  {
   "cell_type": "code",
   "execution_count": null,
   "metadata": {},
   "outputs": [],
   "source": []
  }
 ],
 "metadata": {
  "kernelspec": {
   "display_name": "Python 3",
   "language": "python",
   "name": "python3"
  },
  "language_info": {
   "codemirror_mode": {
    "name": "ipython",
    "version": 3
   },
   "file_extension": ".py",
   "mimetype": "text/x-python",
   "name": "python",
   "nbconvert_exporter": "python",
   "pygments_lexer": "ipython3",
   "version": "3.6.4"
  }
 },
 "nbformat": 4,
 "nbformat_minor": 4
}
