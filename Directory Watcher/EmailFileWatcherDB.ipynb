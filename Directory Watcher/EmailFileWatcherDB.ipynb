{
 "cells": [
  {
   "cell_type": "markdown",
   "metadata": {},
   "source": [
    "# Directory Watcher + SQLite"
   ]
  },
  {
   "cell_type": "markdown",
   "metadata": {},
   "source": [
    "This code watches a given directory inputEmails. Whenever a new email file is created, it loads the trained model to predict the corresponding output class. Email is then moved to the output class folder and this entry is added to database of processed emails (implemented using SQLite).\n",
    "\n",
    "Files required in same directory are\n",
    "- glove.6B.50d.txt\n",
    "- model.json\n",
    "- best_model.h5\n",
    "- inputEmails folder (where new email files will be created)\n",
    "\n",
    "Email Format assumed:\n",
    "\n",
    "To: Rahul@CitiBankPune.com <br>\n",
    "From: Mike@BNYMellon.com <br>\n",
    "Subject: Transaction 608234 Complete <br>\n",
    "Hi, \n",
    "Hope you are well.\n",
    "Wanted to inform you that transaction has been completed successfully.\n",
    "Thanks for your assistance!\n",
    "Mike \n"
   ]
  },
  {
   "cell_type": "markdown",
   "metadata": {},
   "source": [
    " ## Initial Setup"
   ]
  },
  {
   "cell_type": "code",
   "execution_count": 10,
   "metadata": {},
   "outputs": [],
   "source": [
    "import numpy as np\n",
    "import pandas as pd\n",
    "import re\n",
    "import csv\n",
    "# NLP\n",
    "from nltk.tokenize.regexp import RegexpTokenizer\n",
    "from nltk.corpus import stopwords \n",
    "from nltk.stem.wordnet import WordNetLemmatizer\n",
    "import string\n",
    "from nltk.stem.porter import PorterStemmer\n",
    "\n",
    "from keras.layers import *\n",
    "from keras.models import Sequential\n",
    "from keras.models import model_from_json\n",
    "\n",
    "import sys\n",
    "import os\n",
    "import shutil\n",
    "import time\n",
    "from watchdog.observers import Observer\n",
    "from watchdog.events import PatternMatchingEventHandler\n"
   ]
  },
  {
   "cell_type": "markdown",
   "metadata": {},
   "source": [
    "## Cleaning and Vectorization of Email Text - Subject + Body"
   ]
  },
  {
   "cell_type": "code",
   "execution_count": 11,
   "metadata": {},
   "outputs": [
    {
     "name": "stdout",
     "output_type": "stream",
     "text": [
      "400000\n"
     ]
    }
   ],
   "source": [
    "def clean(text):\n",
    "    stop = set(stopwords.words('english'))\n",
    "    stop.update((\"to\",\"cc\",\"subject\",\"http\",\"from\", \"gbp\", \"usd\", \"eur\", \"cad\", \"sent\",\"thanks\", \"acc\", \"ID\", \"account\", \"regards\", \"hi\", \"hello\", \"thank you\"))\n",
    "    exclude = set(string.punctuation) \n",
    "    lemma = WordNetLemmatizer()\n",
    "    porter= PorterStemmer()\n",
    "    \n",
    "    text=text.rstrip()\n",
    "    text = re.sub(r'[^a-zA-Z]', ' ', text)\n",
    "    stop_free = \" \".join([i for i in text.lower().split() if((i not in stop) and (not i.isdigit()))])\n",
    "    punc_free = ''.join(ch for ch in stop_free if ch not in exclude)\n",
    "    normalized = \" \".join(lemma.lemmatize(word) for word in punc_free.split())\n",
    "    stem = \" \".join(porter.stem(token) for token in normalized.split())\n",
    "    \n",
    "    return normalized\n",
    "\n",
    "embeddings = {}\n",
    "with open('./glove.6B.50d.txt',encoding='utf-8') as f:\n",
    "    for line in f:\n",
    "        values = line.split()\n",
    "        word = values[0]\n",
    "        coeffs = np.asarray(values[1:],dtype='float32')\n",
    "\n",
    "        embeddings[word] = coeffs\n",
    "    f.close()\n",
    "print(len(embeddings))\n",
    "\n",
    "def getOutputEmbeddings(X):  \n",
    "    X = X.split()\n",
    "    embedding_matrix_output = np.zeros((1,100,50))\n",
    "    for jx in range(min(100, len(X))):\n",
    "        #ignore invalid words\n",
    "        if (X[jx].lower() in embeddings):\n",
    "            embedding_matrix_output[0][jx] = embeddings[X[jx].lower()]            \n",
    "    return embedding_matrix_output\n"
   ]
  },
  {
   "cell_type": "markdown",
   "metadata": {},
   "source": [
    "## Class Labels used for Model Training"
   ]
  },
  {
   "cell_type": "code",
   "execution_count": 12,
   "metadata": {},
   "outputs": [],
   "source": [
    "#dependent on model loaded\n",
    "classes = ['BankFailed', 'BankProgress', 'BankComplete', 'BankRequest',\n",
    "       'ClientProgress', 'ClientStatus', 'ClientComplete', 'ClientFailed']"
   ]
  },
  {
   "cell_type": "markdown",
   "metadata": {},
   "source": [
    "## Create ProcessedEmails table in SQLite DB"
   ]
  },
  {
   "cell_type": "code",
   "execution_count": 13,
   "metadata": {},
   "outputs": [],
   "source": [
    "import sqlite3\n",
    "\n",
    "conn = sqlite3.connect('processed.sqlite')\n",
    "cur = conn.cursor()\n",
    "\n",
    "cur.execute('DROP TABLE IF EXISTS ProcessedEmails')\n",
    "\n",
    "cur.execute('CREATE TABLE IF NOT EXISTS \"ProcessedEmails\" ( \"Seq_ID\" INTEGER NOT NULL,\"To\" TEXT,\"From\" TEXT,\"Received_on\" TEXT,\"Subject\" TEXT, \"Body\" TEXT,\"Predicted_Class\" TEXT,PRIMARY KEY(\"Seq_ID\" AUTOINCREMENT))')\n",
    "\n",
    "cur.close()"
   ]
  },
  {
   "cell_type": "markdown",
   "metadata": {},
   "source": [
    "## Email Processing"
   ]
  },
  {
   "cell_type": "code",
   "execution_count": 15,
   "metadata": {},
   "outputs": [],
   "source": [
    "def HandleNewEmail(mail_path):\n",
    "    #Parse email to store in DB\n",
    "    email=open(mail_path, \"r\")\n",
    "    text = \"\"\n",
    "    sub = \"\"\n",
    "    body = \"\"\n",
    "    for line in email:\n",
    "        if line.startswith('To: '): \n",
    "            pieces = line.split()\n",
    "            to_add = pieces[1]\n",
    "            continue\n",
    "        if line.startswith('From: '):\n",
    "            pieces=line.split()\n",
    "            from_add=pieces[1]\n",
    "            continue\n",
    "        if line.startswith('Subject: '):\n",
    "            pieces=line.split()\n",
    "            subject=pieces[1:]#remove word subject\n",
    "            for word in subject:\n",
    "                sub = sub + \" \" + word\n",
    "           # text=text+\" \"\n",
    "            continue\n",
    "        body=body + line\n",
    "    text=sub + \" \" + body\n",
    "    receivedDate = time.ctime(os.path.getctime(mail_path))    \n",
    "    \n",
    "    print(f\"Email  --> {text}\") \n",
    "    email.close()\n",
    "    #clean email\n",
    "    clean_text = clean(text)\n",
    "    print(f\"Cleaned email --> {clean_text} \\n\")\n",
    "    emb_X = getOutputEmbeddings(clean_text)\n",
    "    \n",
    "    #load model\n",
    "    with open(\"model.json\", \"r\") as file:\n",
    "        model=model_from_json(file.read())\n",
    "    model.load_weights(\"best_model.h5\")\n",
    "    #model.summary()\n",
    "    p = model.predict_classes(emb_X)\n",
    "    #print (p.shape)\n",
    "    print(f'Output --> class {classes[p[0]]} \\n');\n",
    "    \n",
    "    addtoDB(to_add, from_add, receivedDate, sub, body, classes[p[0]])\n",
    "    moveEmail(mail_path, classes[p[0]])\n",
    "    \n",
    "def addtoDB(to_add, from_add, receivedDate, sub, body, outputclass):\n",
    "    #add email and class to DB\n",
    "    conn = sqlite3.connect('processed.sqlite')\n",
    "    cur = conn.cursor()\n",
    "   # cur.execute('''INSERT INTO ProcessedEmails (To, From, Received_on, Email, Predicted_Class)\n",
    "               # VALUES (?, ?, ?, ?, ?)''', (to_add, from_add, receivedDate, text, outputclass))\n",
    "    cur.execute('''INSERT INTO ProcessedEmails (\"To\", \"From\", \"Received_on\", Subject, Body, Predicted_Class)\n",
    "                VALUES (?, ?, ?, ?, ?, ?)''', (to_add, from_add, receivedDate, sub, body, outputclass))\n",
    "    print(\"Inserted in DB\\n\")\n",
    "    conn.commit() \n",
    "    cur.close()\n",
    "\n",
    "def moveEmail(mail_path, outputdir):\n",
    "    #Check if output class directory exists, if not, create it\n",
    "    CHECK_FOLDER = os.path.isdir(outputdir)\n",
    "    if not CHECK_FOLDER:\n",
    "        os.makedirs(outputdir)\n",
    "        print(\"created folder : \", outputdir)  \n",
    "    #move email to class output directory\n",
    "    shutil.move(mail_path, outputdir)\n",
    "    print(\"moved to folder : \", outputdir)\n",
    "\n",
    "    \n"
   ]
  },
  {
   "cell_type": "code",
   "execution_count": 16,
   "metadata": {},
   "outputs": [],
   "source": [
    "#addtoDB(\"a@a.com\", \"b@b.com\", \"date\", \"hi complete help\", \"ClientProgress\")"
   ]
  },
  {
   "cell_type": "markdown",
   "metadata": {},
   "source": [
    "## Directory Watcher"
   ]
  },
  {
   "cell_type": "code",
   "execution_count": 17,
   "metadata": {
    "scrolled": true
   },
   "outputs": [
    {
     "name": "stdout",
     "output_type": "stream",
     "text": [
      "====> Observer Started\n",
      "New email inputEmails\\email4.txt received!\n",
      "Email  -->  Transaction 326405 is now being processed. Hi, \n",
      "Thank you for transferring the payment to my account yesterday. \n",
      "I appreciate the quick response. \n",
      "Thanks and regards.\n",
      "\n",
      "Cleaned email --> transaction processed thank transferring payment yesterday appreciate quick response \n",
      "\n",
      "Output --> class ClientProgress \n",
      "\n",
      "Inserted in DB\n",
      "\n",
      "moved to folder :  ClientProgress\n",
      "New email inputEmails\\email2.txt received!\n",
      "Email  -->  Transaction 608234 Complete Hi, \n",
      "Hope you are well.\n",
      "Wanted to inform you that transaction has been completed successfully.\n",
      "Thanks for your assistance!\n",
      "Mike \n",
      "\n",
      "Cleaned email --> transaction complete hope well wanted inform transaction completed successfully assistance mike \n",
      "\n",
      "Output --> class BankFailed \n",
      "\n",
      "Inserted in DB\n",
      "\n",
      "moved to folder :  BankFailed\n",
      "New email inputEmails\\email3.txt received!\n",
      "Email  -->  Transaction 123456 Greetings!\n",
      "We regret to inform you that transaction 123456 has failed due to lack of funds.\n",
      "Please retry at the earliest.\n",
      "\n",
      "\n",
      "Cleaned email --> transaction greeting regret inform transaction failed due lack fund please retry earliest \n",
      "\n",
      "Output --> class BankFailed \n",
      "\n",
      "Inserted in DB\n",
      "\n",
      "moved to folder :  BankFailed\n",
      "====> Observer Stopped\n"
     ]
    }
   ],
   "source": [
    "def on_created(event):\n",
    "    print(f\"New email {event.src_path} received!\")\n",
    "    HandleNewEmail(event.src_path)\n",
    "\n",
    "if __name__ == \"__main__\":\n",
    "    patterns = \"*\"\n",
    "    ignore_patterns = \"\"\n",
    "    ignore_directories = False\n",
    "    case_sensitive = True\n",
    "    my_event_handler = PatternMatchingEventHandler(patterns, ignore_patterns, ignore_directories, case_sensitive)\n",
    "    my_event_handler.on_created = on_created\n",
    "    #new emails will be created in inputEmails directory\n",
    "    path = \"inputEmails\"\n",
    "    #path = sys.argv[1] if len(sys.argv) > 1 else 'inputEmails'\n",
    "    go_recursively = False\n",
    "    my_observer = Observer()\n",
    "    my_observer.schedule(my_event_handler, path, recursive=go_recursively)\n",
    "    my_observer.start()\n",
    "    print('====> Observer Started')\n",
    "    try:\n",
    "        while True:\n",
    "             time.sleep(1)\n",
    "    except KeyboardInterrupt:\n",
    "        my_observer.stop()\n",
    "        print('====> Observer Stopped')\n",
    "        my_observer.join()"
   ]
  },
  {
   "cell_type": "code",
   "execution_count": 18,
   "metadata": {},
   "outputs": [],
   "source": [
    "#HandleNewEmail(\"email2.txt\")"
   ]
  },
  {
   "cell_type": "code",
   "execution_count": null,
   "metadata": {},
   "outputs": [],
   "source": [
    "#addtoDB(\"a@a.com\", \"b@b.com\", \"date\", \"hi complete help\", \"ClientProgress\")"
   ]
  },
  {
   "cell_type": "code",
   "execution_count": 20,
   "metadata": {},
   "outputs": [
    {
     "name": "stdout",
     "output_type": "stream",
     "text": [
      "(1, 'Tom@CitiBankHongKong.com', 'Anna@DESHAW.com', 'Sat Jun 13 15:43:23 2020', ' Transaction 326405 is now being processed.', 'Hi, \\nThank you for transferring the payment to my account yesterday. \\nI appreciate the quick response. \\nThanks and regards.\\n', 'ClientProgress')\n",
      "(2, 'Rahul@CitiBankPune.com', 'Mike@BNYMellon.com', 'Sat Jun 13 15:43:23 2020', ' Transaction 608234 Complete', 'Hi, \\nHope you are well.\\nWanted to inform you that transaction has been completed successfully.\\nThanks for your assistance!\\nMike \\n', 'BankFailed')\n",
      "(3, 'Ria@HSBC.com', 'Phil@CitiBankLondon.com', 'Sat Jun 13 15:43:23 2020', ' Transaction 123456', 'Greetings!\\nWe regret to inform you that transaction 123456 has failed due to lack of funds.\\nPlease retry at the earliest.\\n\\n', 'BankFailed')\n"
     ]
    }
   ],
   "source": [
    "#Interrupt Kernel to stop watcher before running this\n",
    "\n",
    "#display all emails in DB\n",
    "conn = sqlite3.connect('processed.sqlite')\n",
    "cur = conn.cursor()\n",
    "# https://www.sqlite.org/lang_select.html\n",
    "sqlstr = 'SELECT * FROM ProcessedEmails'\n",
    "\n",
    "for row in cur.execute(sqlstr):\n",
    "    print(row)\n",
    "\n",
    "cur.close()"
   ]
  },
  {
   "cell_type": "code",
   "execution_count": null,
   "metadata": {},
   "outputs": [],
   "source": []
  }
 ],
 "metadata": {
  "kernelspec": {
   "display_name": "Python 3",
   "language": "python",
   "name": "python3"
  },
  "language_info": {
   "codemirror_mode": {
    "name": "ipython",
    "version": 3
   },
   "file_extension": ".py",
   "mimetype": "text/x-python",
   "name": "python",
   "nbconvert_exporter": "python",
   "pygments_lexer": "ipython3",
   "version": "3.6.4"
  }
 },
 "nbformat": 4,
 "nbformat_minor": 4
}
