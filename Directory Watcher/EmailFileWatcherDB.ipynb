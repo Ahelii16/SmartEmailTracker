{
 "cells": [
  {
   "cell_type": "markdown",
   "metadata": {},
   "source": [
    "# Directory Watcher + SQLite"
   ]
  },
  {
   "cell_type": "markdown",
   "metadata": {},
   "source": [
    "This code watches a given directory, whenever a new email file is created, it loads the trained model to predict it's output class. Email is then moved to the output class folder and this entry is added to database of processed emails (implemented using SQLite).\n",
    "\n",
    "Files required in same directory are\n",
    "- glove.6B.50d.txt\n",
    "- model.json\n",
    "- best_model.h5\n"
   ]
  },
  {
   "cell_type": "markdown",
   "metadata": {},
   "source": [
    " ## Initial Setup"
   ]
  },
  {
   "cell_type": "code",
   "execution_count": 1,
   "metadata": {},
   "outputs": [
    {
     "name": "stderr",
     "output_type": "stream",
     "text": [
      "C:\\Users\\divya\\Anaconda3\\lib\\site-packages\\h5py\\__init__.py:36: FutureWarning: Conversion of the second argument of issubdtype from `float` to `np.floating` is deprecated. In future, it will be treated as `np.float64 == np.dtype(float).type`.\n",
      "  from ._conv import register_converters as _register_converters\n",
      "Using TensorFlow backend.\n"
     ]
    }
   ],
   "source": [
    "import numpy as np\n",
    "import pandas as pd\n",
    "import re\n",
    "import csv\n",
    "# NLP\n",
    "from nltk.tokenize.regexp import RegexpTokenizer\n",
    "from nltk.corpus import stopwords \n",
    "from nltk.stem.wordnet import WordNetLemmatizer\n",
    "import string\n",
    "from nltk.stem.porter import PorterStemmer\n",
    "\n",
    "from keras.layers import *\n",
    "from keras.models import Sequential\n",
    "from keras.models import model_from_json\n",
    "\n",
    "import sys\n",
    "import os\n",
    "import shutil\n",
    "import time\n",
    "from watchdog.observers import Observer\n",
    "from watchdog.events import PatternMatchingEventHandler\n"
   ]
  },
  {
   "cell_type": "markdown",
   "metadata": {},
   "source": [
    "## Cleaning and Vectorization of Received Email"
   ]
  },
  {
   "cell_type": "code",
   "execution_count": 2,
   "metadata": {},
   "outputs": [
    {
     "name": "stdout",
     "output_type": "stream",
     "text": [
      "400000\n"
     ]
    }
   ],
   "source": [
    "def clean(text):\n",
    "    stop = set(stopwords.words('english'))\n",
    "    stop.update((\"to\",\"cc\",\"subject\",\"http\",\"from\", \"gbp\", \"usd\", \"eur\", \"cad\", \"sent\",\"thanks\", \"acc\", \"ID\", \"account\", \"regards\", \"hi\", \"hello\", \"thank you\"))\n",
    "    exclude = set(string.punctuation) \n",
    "    lemma = WordNetLemmatizer()\n",
    "    porter= PorterStemmer()\n",
    "    \n",
    "    text=text.rstrip()\n",
    "    text = re.sub(r'[^a-zA-Z]', ' ', text)\n",
    "    stop_free = \" \".join([i for i in text.lower().split() if((i not in stop) and (not i.isdigit()))])\n",
    "    punc_free = ''.join(ch for ch in stop_free if ch not in exclude)\n",
    "    normalized = \" \".join(lemma.lemmatize(word) for word in punc_free.split())\n",
    "    stem = \" \".join(porter.stem(token) for token in normalized.split())\n",
    "    \n",
    "    return normalized\n",
    "\n",
    "embeddings = {}\n",
    "with open('./glove.6B.50d.txt',encoding='utf-8') as f:\n",
    "    for line in f:\n",
    "        values = line.split()\n",
    "        word = values[0]\n",
    "        coeffs = np.asarray(values[1:],dtype='float32')\n",
    "\n",
    "        embeddings[word] = coeffs\n",
    "    f.close()\n",
    "print(len(embeddings))\n",
    "\n",
    "def getOutputEmbeddings(X):  \n",
    "    X = X.split()\n",
    "    embedding_matrix_output = np.zeros((1,100,50))\n",
    "    for jx in range(min(100, len(X))):\n",
    "        embedding_matrix_output[0][jx] = embeddings[X[jx].lower()]\n",
    "            \n",
    "    return embedding_matrix_output\n"
   ]
  },
  {
   "cell_type": "markdown",
   "metadata": {},
   "source": [
    "## Class Labels used for Model Training"
   ]
  },
  {
   "cell_type": "code",
   "execution_count": 3,
   "metadata": {},
   "outputs": [],
   "source": [
    "#dependent on model loaded\n",
    "classes = ['BankFailed', 'BankProgress', 'BankComplete', 'BankRequest',\n",
    "       'ClientProgress', 'ClientStatus', 'ClientComplete', 'ClientFailed']"
   ]
  },
  {
   "cell_type": "markdown",
   "metadata": {},
   "source": [
    "## Create ProcessedEmails table in SQLite DB"
   ]
  },
  {
   "cell_type": "code",
   "execution_count": 4,
   "metadata": {},
   "outputs": [],
   "source": [
    "import sqlite3\n",
    "\n",
    "conn = sqlite3.connect('processed.sqlite')\n",
    "cur = conn.cursor()\n",
    "\n",
    "cur.execute('DROP TABLE IF EXISTS ProcessedEmails')\n",
    "\n",
    "cur.execute('CREATE TABLE ProcessedEmails (email TEXT, class TEXT)')\n",
    "\n",
    "cur.close()"
   ]
  },
  {
   "cell_type": "markdown",
   "metadata": {},
   "source": [
    "## Email Processing"
   ]
  },
  {
   "cell_type": "code",
   "execution_count": 5,
   "metadata": {},
   "outputs": [],
   "source": [
    "def HandleNewEmail(mail_path):\n",
    "    #Open and read file in 1 string\n",
    "    emails=open(mail_path, \"r\")\n",
    "    test_str = \"\"\n",
    "    for line in emails:\n",
    "        test_str=test_str + line\n",
    "    print(f\"Original input --> {test_str}\") \n",
    "    emails.close()\n",
    "    #clean email\n",
    "    clean_test_str = clean(test_str)\n",
    "    print(f\"Cleaned input --> {clean_test_str}\")\n",
    "    emb_X = getOutputEmbeddings(clean_test_str)\n",
    "    #load model\n",
    "    with open(\"model.json\", \"r\") as file:\n",
    "        model=model_from_json(file.read())\n",
    "    model.load_weights(\"best_model.h5\")\n",
    "    #model.summary()\n",
    "    p = model.predict_classes(emb_X)\n",
    "    #print (p.shape)\n",
    "    print(f'Output --> class {classes[p[0]]} \\n');\n",
    "    \n",
    "    addtoDB(test_str, classes[p[0]])\n",
    "    moveEmail(mail_path, classes[p[0]])\n",
    "    \n",
    "def addtoDB(test_str, outputclass):\n",
    "    #add email and class to DB\n",
    "    conn = sqlite3.connect('processed.sqlite')\n",
    "    cur = conn.cursor()\n",
    "    cur.execute('''INSERT INTO ProcessedEmails (email, class)\n",
    "                VALUES (?, ?)''', (test_str, outputclass))\n",
    "    conn.commit() \n",
    "    cur.close()\n",
    "\n",
    "    \n",
    "def moveEmail(mail_path, outputdir):\n",
    "    #Check if output class directory exists, if not, create it\n",
    "    CHECK_FOLDER = os.path.isdir(outputdir)\n",
    "    if not CHECK_FOLDER:\n",
    "        os.makedirs(outputdir)\n",
    "        print(\"created folder : \", outputdir)  \n",
    "    #move email to class output directory\n",
    "    shutil.move(mail_path, outputdir)\n",
    "    \n"
   ]
  },
  {
   "cell_type": "markdown",
   "metadata": {},
   "source": [
    "## Directory Watcher"
   ]
  },
  {
   "cell_type": "code",
   "execution_count": 6,
   "metadata": {
    "scrolled": true
   },
   "outputs": [
    {
     "name": "stdout",
     "output_type": "stream",
     "text": [
      "====> Observer Started\n",
      "New email inputEmails\\testemail.txt received!\n",
      "Original input --> Payment of 471862128 CAD to account id 101165 has been made on 19/02/2020 and is in progress.\n",
      "please acknowledge.\n",
      "Thanks!\n",
      "\n",
      "Cleaned input --> payment id made progress please acknowledge\n",
      "WARNING:tensorflow:From C:\\Users\\divya\\Anaconda3\\lib\\site-packages\\tensorflow\\python\\ops\\resource_variable_ops.py:435: colocate_with (from tensorflow.python.framework.ops) is deprecated and will be removed in a future version.\n",
      "Instructions for updating:\n",
      "Colocations handled automatically by placer.\n",
      "Output --> class BankFailed \n",
      "\n",
      "New email inputEmails\\t.txt received!\n",
      "Original input --> We are happy to let you know that transaction USD 256537 has been fully processed and is complete.\n",
      "\n",
      "Cleaned input --> happy let know transaction fully processed complete\n",
      "Output --> class BankFailed \n",
      "\n",
      "====> Observer Stopped\n"
     ]
    }
   ],
   "source": [
    "def on_created(event):\n",
    "    print(f\"New email {event.src_path} received!\")\n",
    "    HandleNewEmail(event.src_path)\n",
    "\n",
    "if __name__ == \"__main__\":\n",
    "    patterns = \"*\"\n",
    "    ignore_patterns = \"\"\n",
    "    ignore_directories = False\n",
    "    case_sensitive = True\n",
    "    my_event_handler = PatternMatchingEventHandler(patterns, ignore_patterns, ignore_directories, case_sensitive)\n",
    "    my_event_handler.on_created = on_created\n",
    "    #new emails will be created in inputEmails directory\n",
    "    path = \"inputEmails\"\n",
    "    #path = sys.argv[1] if len(sys.argv) > 1 else 'inputEmails'\n",
    "    go_recursively = False\n",
    "    my_observer = Observer()\n",
    "    my_observer.schedule(my_event_handler, path, recursive=go_recursively)\n",
    "    my_observer.start()\n",
    "    print('====> Observer Started')\n",
    "    try:\n",
    "        while True:\n",
    "             time.sleep(1)\n",
    "    except KeyboardInterrupt:\n",
    "        my_observer.stop()\n",
    "        print('====> Observer Stopped')\n",
    "        my_observer.join()"
   ]
  },
  {
   "cell_type": "code",
   "execution_count": 7,
   "metadata": {},
   "outputs": [],
   "source": [
    "#HandleNewEmail(\"testemail.txt\")"
   ]
  },
  {
   "cell_type": "code",
   "execution_count": 8,
   "metadata": {},
   "outputs": [
    {
     "name": "stdout",
     "output_type": "stream",
     "text": [
      "Payment of 471862128 CAD to account id 101165 has been made on 19/02/2020 and is in progress.\n",
      "please acknowledge.\n",
      "Thanks!\n",
      " BankFailed\n",
      "We are happy to let you know that transaction USD 256537 has been fully processed and is complete.\n",
      " BankFailed\n"
     ]
    }
   ],
   "source": [
    "conn = sqlite3.connect('processed.sqlite')\n",
    "cur = conn.cursor()\n",
    "# https://www.sqlite.org/lang_select.html\n",
    "sqlstr = 'SELECT * FROM ProcessedEmails'\n",
    "\n",
    "for row in cur.execute(sqlstr):\n",
    "    print(str(row[0]), str(row[1]))\n",
    "\n",
    "cur.close()"
   ]
  },
  {
   "cell_type": "code",
   "execution_count": null,
   "metadata": {},
   "outputs": [],
   "source": []
  }
 ],
 "metadata": {
  "kernelspec": {
   "display_name": "Python 3",
   "language": "python",
   "name": "python3"
  },
  "language_info": {
   "codemirror_mode": {
    "name": "ipython",
    "version": 3
   },
   "file_extension": ".py",
   "mimetype": "text/x-python",
   "name": "python",
   "nbconvert_exporter": "python",
   "pygments_lexer": "ipython3",
   "version": "3.6.4"
  }
 },
 "nbformat": 4,
 "nbformat_minor": 4
}
